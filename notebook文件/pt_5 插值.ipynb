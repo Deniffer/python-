{
 "cells": [
  {
   "cell_type": "code",
   "execution_count": 1,
   "metadata": {},
   "outputs": [],
   "source": [
    "#插值 多项式 样条 分段低次插值 \n",
    "import scipy"
   ]
  },
  {
   "cell_type": "code",
   "execution_count": 10,
   "metadata": {
    "scrolled": true
   },
   "outputs": [
    {
     "data": {
      "image/png": "[encoded data removed]",
      "text/plain": [
       "<Figure size 432x288 with 1 Axes>"
      ]
     },
     "metadata": {
      "needs_background": "light"
     },
     "output_type": "display_data"
    },
    {
     "name": "stdout",
     "output_type": "stream",
     "text": [
      "f(3.5)=-33.516364,  f(4.5)=-39.716281,  f(5.5)=-40.256013\n"
     ]
    }
   ],
   "source": [
    "# -*-coding:utf-8 -*-\n",
    "import numpy as np\n",
    "from scipy import interpolate\n",
    "import pylab as pl\n",
    "%matplotlib inline\n",
    "x=[float(i) for i in range(11)]\n",
    "#x=[  0.   1.   2.   3.   4.   5.   6.   7.   8.   9.  10.]\n",
    "y=[17.9,-1.2,-16.5,-28.9,-37.1,-40.9,-38.2,-31.4,-21.5,-10.1,5.3]\n",
    "xnew=np.linspace(0,10,101)\n",
    "pl.plot(x,y,\"ro\")\n",
    "\n",
    "kind=\"cubic\"#插值方式 三阶b样条插值\n",
    "f=interpolate.interp1d(x,y,kind=kind)\n",
    "ynew=f(xnew)\n",
    "pl.plot(xnew,ynew,label=str(kind))\n",
    "pl.legend(loc=\"lower right\")\n",
    "pl.show()\n",
    "print(\"f(3.5)=%f,  f(4.5)=%f,  f(5.5)=%f\"%(f(3.5),f(4.5),f(5.5)))"
   ]
  },
  {
   "cell_type": "code",
   "execution_count": 12,
   "metadata": {},
   "outputs": [
    {
     "data": {
      "text/plain": [
       "1.2555555555555555"
      ]
     },
     "execution_count": 12,
     "metadata": {},
     "output_type": "execute_result"
    }
   ],
   "source": [
    "time=9.0\n",
    "v_change=abs(-1.2-10.1)\n",
    "a=v_change/time\n",
    "a#平均加速度"
   ]
  },
  {
   "cell_type": "code",
   "execution_count": 17,
   "metadata": {},
   "outputs": [
    {
     "name": "stdout",
     "output_type": "stream",
     "text": [
      "总路程s=296.200000\n"
     ]
    }
   ],
   "source": [
    "a=[0]*10\n",
    "s=[0]*10\n",
    "x=[float(i) for i in range(11)]\n",
    "y=[17.9,-1.2,-16.5,-28.9,-37.1,-40.9,-38.2,-31.4,-21.5,-10.1,5.3]\n",
    "for i in range(len(y)-1):\n",
    "    a[i]=abs(y[i]-y[i+1])\n",
    "    s[i]=abs(y[i])+0.5*a[i]\n",
    "print(\"总路程s=%f\"%sum(s))"
   ]
  },
  {
   "cell_type": "code",
   "execution_count": null,
   "metadata": {},
   "outputs": [],
   "source": []
  },
  {
   "cell_type": "code",
   "execution_count": null,
   "metadata": {},
   "outputs": [],
   "source": []
  },
  {
   "cell_type": "code",
   "execution_count": null,
   "metadata": {},
   "outputs": [],
   "source": [
    "for kind in [\"nearest\",\"zero\",\"slinear\",\"quadratic\",\"cubic\"]:#插值方式\n",
    "    #\"nearest\",\"zero\"为阶梯插值\n",
    "    #slinear 线性插值\n",
    "    #\"quadratic\",\"cubic\" 为2阶、3阶B样条曲线插值\n",
    "    f=interpolate.interp1d(x,y,kind=kind)\n",
    "    # ‘slinear’, ‘quadratic’ and ‘cubic’ refer to a spline interpolation of first, second or third order)\n",
    "    ynew=f(xnew)\n",
    "    pl.plot(xnew,ynew,label=str(kind))\n",
    "pl.legend(loc=\"lower right\")\n",
    "pl.show()"
   ]
  }
 ],
 "metadata": {
  "kernelspec": {
   "display_name": "Python 3",
   "language": "python",
   "name": "python3"
  },
  "language_info": {
   "codemirror_mode": {
    "name": "ipython",
    "version": 3
   },
   "file_extension": ".py",
   "mimetype": "text/x-python",
   "name": "python",
   "nbconvert_exporter": "python",
   "pygments_lexer": "ipython3",
   "version": "3.7.3"
  }
 },
 "nbformat": 4,
 "nbformat_minor": 2
}
