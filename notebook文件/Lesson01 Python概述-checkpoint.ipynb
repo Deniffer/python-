{
 "cells": [
  {
   "cell_type": "markdown",
   "metadata": {
    "toc": true
   },
   "source": [
    "<h1>目录<span class=\"tocSkip\"></span></h1>\n",
    "<div class=\"toc\"><ul class=\"toc-item\"><li><span><a href=\"#Python概述\" data-toc-modified-id=\"Python概述-1\"><span class=\"toc-item-num\">1&nbsp;&nbsp;</span>Python概述</a></span><ul class=\"toc-item\"><li><span><a href=\"#关于Python\" data-toc-modified-id=\"关于Python-1.1\"><span class=\"toc-item-num\">1.1&nbsp;&nbsp;</span>关于Python</a></span></li><li><span><a href=\"#关于Python版本-\" data-toc-modified-id=\"关于Python版本--1.2\"><span class=\"toc-item-num\">1.2&nbsp;&nbsp;</span>关于Python版本 <br></a></span></li><li><span><a href=\"#Python开发环境\" data-toc-modified-id=\"Python开发环境-1.3\"><span class=\"toc-item-num\">1.3&nbsp;&nbsp;</span>Python开发环境</a></span><ul class=\"toc-item\"><li><span><a href=\"#Anaconda3的操作入口--\" data-toc-modified-id=\"Anaconda3的操作入口---1.3.1\"><span class=\"toc-item-num\">1.3.1&nbsp;&nbsp;</span>Anaconda3的操作入口  <br></a></span></li><li><span><a href=\"#Spyder用法\" data-toc-modified-id=\"Spyder用法-1.3.2\"><span class=\"toc-item-num\">1.3.2&nbsp;&nbsp;</span>Spyder用法</a></span></li><li><span><a href=\"#Jupyter-notebook用法\" data-toc-modified-id=\"Jupyter-notebook用法-1.3.3\"><span class=\"toc-item-num\">1.3.3&nbsp;&nbsp;</span>Jupyter notebook用法</a></span></li></ul></li><li><span><a href=\"#Python运行方式\" data-toc-modified-id=\"Python运行方式-1.4\"><span class=\"toc-item-num\">1.4&nbsp;&nbsp;</span>Python运行方式<br></a></span></li><li><span><a href=\"#安装扩展库的几种方法-\" data-toc-modified-id=\"安装扩展库的几种方法--1.5\"><span class=\"toc-item-num\">1.5&nbsp;&nbsp;</span>安装扩展库的几种方法 <br></a></span></li><li><span><a href=\"#标准库与扩展库对象的导入与使用-\" data-toc-modified-id=\"标准库与扩展库对象的导入与使用--1.6\"><span class=\"toc-item-num\">1.6&nbsp;&nbsp;</span>标准库与扩展库对象的导入与使用 <br></a></span><ul class=\"toc-item\"><li><span><a href=\"#import-模块名-[as-别名]\" data-toc-modified-id=\"import-模块名-[as-别名]-1.6.1\"><span class=\"toc-item-num\">1.6.1&nbsp;&nbsp;</span>import 模块名 [as 别名]</a></span></li><li><span><a href=\"#from-模块名-import-对象名[-as-别名]\" data-toc-modified-id=\"from-模块名-import-对象名[-as-别名]-1.6.2\"><span class=\"toc-item-num\">1.6.2&nbsp;&nbsp;</span>from 模块名 import 对象名[ as 别名]</a></span></li><li><span><a href=\"#from-模块名-import-*\" data-toc-modified-id=\"from-模块名-import-*-1.6.3\"><span class=\"toc-item-num\">1.6.3&nbsp;&nbsp;</span>from 模块名 import *</a></span></li></ul></li><li><span><a href=\"#Python帮助\" data-toc-modified-id=\"Python帮助-1.7\"><span class=\"toc-item-num\">1.7&nbsp;&nbsp;</span>Python帮助<br></a></span></li><li><span><a href=\"#几个Python实例\" data-toc-modified-id=\"几个Python实例-1.8\"><span class=\"toc-item-num\">1.8&nbsp;&nbsp;</span>几个Python实例</a></span></li><li><span><a href=\"#练习-\" data-toc-modified-id=\"练习--1.9\"><span class=\"toc-item-num\">1.9&nbsp;&nbsp;</span>练习 <br></a></span></li><li><span><a href=\"#附：Python之禅\" data-toc-modified-id=\"附：Python之禅-1.10\"><span class=\"toc-item-num\">1.10&nbsp;&nbsp;</span>附：Python之禅</a></span></li></ul></li></ul></div>"
   ]
  },
  {
   "cell_type": "markdown",
   "metadata": {},
   "source": [
    "# Python概述 #\n",
    "---"
   ]
  },
  {
   "cell_type": "markdown",
   "metadata": {},
   "source": [
    "## 关于Python\n",
    "<font face='kaiti' size=5 style=\"line-height:1.5;\">  \n",
    "    \n",
    "-  Python语言是由荷兰程序员Guido van Rossum，江湖人称“龟叔”，独立开发完成初版的。第1个公开发行版发行于1991年。\n",
    "*  Python语法简洁优雅、简单易学、代码量少、开发速度快；    \n",
    "-  Python是**跨平台、可移植、可扩展、交互式、解释型、面向对象**的动态语言；  \n",
    "+  Python“**内置电池**”，大量的标准库和第三方库，只需很少的代码即可实现所需功能；\n",
    "-  Python是开源语言，贡献者多，社区活跃，发展动力巨大；    \n",
    "-  **胶水语言**：可以把多种不同语言编写的程序融合到一起实现**无缝拼接**，更好地发挥不同语言和工具的优势，满足不同应用领域的需求。   \n",
    "- Python的**应用领域**：科学计算、数据分析、自然语言处理、社交网络分析、人工智能、深度学习、计算机视觉、网络爬虫、云计算、Web开发应用、自动化运维、金融分析、游戏开发、……    "
   ]
  },
  {
   "cell_type": "markdown",
   "metadata": {},
   "source": [
    "<font face='kaiti' size=5 style=\"line-height:1.5;\">   \n",
    "    \n",
    " - 灵活多样的解决方法   \n",
    "** 例1 ** 把一个数列中的所有数字都加5，得到新数列。"
   ]
  },
  {
   "cell_type": "code",
   "execution_count": 1,
   "metadata": {
    "scrolled": true
   },
   "outputs": [
    {
     "data": {
      "text/plain": [
       "[5, 6, 7, 8, 9, 10, 11, 12, 13, 14]"
      ]
     },
     "execution_count": 1,
     "metadata": {},
     "output_type": "execute_result"
    }
   ],
   "source": [
    "# 以下为命令式编程\n",
    "x = list(range(10))   # 产生0~9之间的整数数列\n",
    "x                     # 显示列表x\n",
    "y = []                # y为空列表\n",
    "for num in x:         # 循环\n",
    "    y.append(num+5)   # append用于在列表的末尾添加元素\n",
    "y                     # 显示列表y"
   ]
  },
  {
   "cell_type": "code",
   "execution_count": 2,
   "metadata": {},
   "outputs": [
    {
     "data": {
      "text/plain": [
       "[5, 6, 7, 8, 9, 10, 11, 12, 13, 14]"
      ]
     },
     "execution_count": 2,
     "metadata": {},
     "output_type": "execute_result"
    }
   ],
   "source": [
    "# 另一种实现方法：列表推导式，循环的简化形式\n",
    "x = list(range(10))\n",
    "[num+5 for num in x]"
   ]
  },
  {
   "cell_type": "code",
   "execution_count": 3,
   "metadata": {},
   "outputs": [
    {
     "data": {
      "text/plain": [
       "[5, 6, 7, 8, 9, 10, 11, 12, 13, 14]"
      ]
     },
     "execution_count": 3,
     "metadata": {},
     "output_type": "execute_result"
    }
   ],
   "source": [
    "# 以下为函数式编程\n",
    "x = list(range(10))\n",
    "x\n",
    "def add5(num):\n",
    "    return num+5\n",
    "list(map(add5, x))"
   ]
  },
  {
   "cell_type": "code",
   "execution_count": 4,
   "metadata": {},
   "outputs": [
    {
     "data": {
      "text/plain": [
       "[5, 6, 7, 8, 9, 10, 11, 12, 13, 14]"
      ]
     },
     "execution_count": 4,
     "metadata": {},
     "output_type": "execute_result"
    }
   ],
   "source": [
    "# 另一种实现方法：lambda函数，类似于MATLAB中的匿名函数\n",
    "x = list(range(10))\n",
    "list(map(lambda num: num+5, x))    # map用于形成一个映射关系"
   ]
  },
  {
   "cell_type": "markdown",
   "metadata": {},
   "source": [
    "## 关于Python版本 <br>\n",
    "<font face='kaiti' size=5 style='line-height:1.5'>\n",
    "    \n",
    "-  Python目前存在2.x和3.x两个系列的版本，互相之间存在不兼容。  \n",
    "-  在选择Python版本的时候，要先考虑清楚自己学习Python的目的是什么，打算做哪方面的开发，该领域或方向有哪些扩展库可用，这些扩展库最高支持哪个版本的Python。  \n",
    "-  Python 2.x系列最迟将于2020年全面放弃维护和更新。  \n",
    "-  目前，绝大多数2.x中的扩展库在3.x中都已有对应的扩展库。\n",
    "-  更重要的是：Python3对中文的支持远好于Python2."
   ]
  },
  {
   "cell_type": "markdown",
   "metadata": {},
   "source": [
    "## Python开发环境 ##\n",
    "---   \n",
    "<font face='kaiti' size=5 style=\"line-height:1.5;\">\n",
    "    \n",
    "&emsp;Python默认编程环境：**IDLE** <br>\n",
    "其他开发环境：   \n",
    "- Eclipse+PyDev\n",
    "- pyCharm\n",
    "- wingIDE\n",
    "- Eric\n",
    "- PythonWin\n",
    "- zwPython\n",
    "- Anaconda3（内含Jupyter和Spyder）：https://www.anaconda.com/download/   \n",
    "    \n",
    "&emsp;Anaconda3是专注于数据分析的Python发行版本，包含了conda、Python、以及上百个科学包及其依赖项。通过conda下载的包都经过了Anaconda的重新编译，便于升级和管理扩展库的依赖，使用便捷。本课程使用Anaconda3作为应用环境。"
   ]
  },
  {
   "cell_type": "markdown",
   "metadata": {},
   "source": [
    "### Anaconda3的操作入口  <br>\n",
    "<font face='kaiti' size=5 style=\"line-height:1.5\"> \n",
    "    \n",
    "&emsp;anaconda3安装后，在开始菜单文件夹中可看到有这样几个部分:\n",
    "1. Anaconda Navigator: 桌面图形界面，可以用来方便地启动应用、方便地管理conda包；  \n",
    "2. Anaconda Prompt: 终端，使用命令行界面来管理环境和包；  \n",
    "3. Jupyter Notebook: 一个交互式笔记本，功能强大，支持40多种编程语言，可共享，并提供在同一环境中构建可视化应用的服务。  \n",
    "4. Spyder: Python集成开发环境，有语法高亮、代码补全功能。且模仿MATLAB的“工作空间”的功能，可以很方便地观察和修改数组的值。"
   ]
  },
  {
   "cell_type": "markdown",
   "metadata": {},
   "source": [
    "### Spyder用法 ###\n",
    "\n",
    "<font face='kaiti' size=5> &emsp; 另见Notebook文档: [Spyder使用简介](./Spyder使用简介/Spyder使用简介.html)"
   ]
  },
  {
   "cell_type": "markdown",
   "metadata": {},
   "source": [
    "### Jupyter notebook用法\n",
    "<font face='kaiti' size=5> &emsp; 另见Notebook文档: [Jupyter Notebook使用简介](./Jupyter Notebook使用简介/Jupyter Notebook使用简介.html)"
   ]
  },
  {
   "cell_type": "markdown",
   "metadata": {},
   "source": [
    "## Python运行方式<br>\n",
    "<font face='kaiti' size=5 style=\"line-height:1.5;\">\n",
    "    \n",
    "&emsp;运行Python程序有2种方式：<br>\n",
    "- **交互式**：Python解释器即时响应用户输入的每条代码，给出运行结果；常用于运行少量代码。\n",
    "- **文件式**。也称批量式，用户将Python程序写在一个或多个文件中，然后启动Python解释器批量执行文件中的代码。文件式是最常用的运行方式，可编写大型程序，便于程序的保存、调试、修改、发布。\n",
    "\n",
    "&emsp;下面以Windows系统中输出\"Hello, World\"为例，说明两种方式的启动和执行方法。\n",
    "- 交互式启动和运行方法  \n",
    "    1. 启动Windows终端（命令行工具，开始菜单处输入\"cmd\"回车），输入\"python\"，启动python解释器，出现\">>>\"后输入代码，见下图所示：  \n",
    "    ![Python Run in Console](python01.png \"控制台运行python代码\") \n",
    "     注：在终端中退出python运行状态，可输入exit()，回车即可。  \n",
    "    2. 在集成开发环境如IDLE、Spyder、Pycharm等的控制台（命令窗口）中直接输入代码 `print(\"Hello World!\")`，回车即可执行。  \n",
    "     ![Python Run in Spyder](python02.png \"Spyder控制台运行python代码\")  \n",
    "- 文件式启动和运行方法\n",
    "    1. 在集成开发环境如IDLE、Spyder、Pycharm等中新建python文件，在编辑窗口中输入相应代码，然后保存为.py文件（如：保存为\"hello.py\"）；在运行该文件，即可输出结果；    \n",
    "     ![Python Run in Spyder](python03.png \"Spyder编辑并运行Python文件\")  \n",
    "    2. 启动Windows终端（命令行工具），定位到已保存的python文件所在文件夹，然后输入\"python hello.py\"即可执行该python文件。 \n",
    "     ![Python Run in Console](python04.png \"控制台运行python文件\")\n",
    "&emsp;注：python文件既可以在集成开发环境中编辑，也可以使用任何文本编辑工具编辑，保存时将后缀改为\".py\"即可。 "
   ]
  },
  {
   "cell_type": "markdown",
   "metadata": {},
   "source": [
    "## 安装扩展库的几种方法 <br>\n",
    "<font face='楷体' size=5 style='line-height:1.5'>\n",
    "    \n",
    "&emsp;Python有海量的第三方扩展库，利用好这些第三方库，可以极大地提高开发效率。在使用这些第三方库时，要先下载安装到本地Python环境下，再在程序中导入所需的库。      \n",
    " - pip在线安装：命令提示符环境，建议切换至Python安装目录中的scripts文件夹执行。   \n",
    " - pip离线安装：先下载扩展库的whl文件，再用pip安装。https://www.lfd.uci.edu/~gohlke/pythonlibs/  \n",
    " - exe安装，只有部分扩展库提供exe安装。  \n",
    " - conda在线安装: 优点是能自动处理包之间的依赖，Anaconda下推荐用conda安装，conda不能安装再用pip安装。 \n",
    " - 如果机器上安装了多个Python开发环境，那么在一个环境下安装的扩展库无法在另一个环境下使用，需要分别安装。  \n"
   ]
  },
  {
   "cell_type": "markdown",
   "metadata": {},
   "source": [
    "<center><font face='times'>\n",
    "    <font face='kaiti' size=5> pip在线安装扩展库命令 </font>\n",
    "    \n",
    "|<center><font size=4>**pip命令示例**</center> |<center> <font size=4>**说明** </center>|\n",
    "| :---|:--- |\n",
    "|<font size=4> pip download SomePackage[==version] &emsp;&emsp;&emsp;&emsp; |<font size=4>下载扩展库的指定版本，不安装 |\n",
    "|<font size=4> pip list | <font size=4>列出当前已安装的所有模块 |\n",
    "|<font size=4> pip install SomePackage[==version] |<font size=4> 在线安装SomePackage模块的指定版本 |\n",
    "|<font size=4> pip install SomePackage.whl |<font size=4> 通过whl文件离线安装扩展库 |\n",
    "|<font size=4> pip install package1 package2 ... |<font size=4> 依次（在线）安装package1、package2等扩展模块 |\n",
    "|<font size=4> pip install --upgrade SomePackage  |<font size=4> 升级SomePackage模块 |\n",
    "|<font size=4> pip uninstall SomePackage[==version]|<font size=4>卸载SomePackage模块的指定版本| \n"
   ]
  },
  {
   "cell_type": "markdown",
   "metadata": {},
   "source": [
    "<center> <font face='times'>\n",
    "<font face='kaiti' size=5> conda命令 </font>\n",
    "\n",
    "|<center><font size=4>**conda命令示例**</center> |<center> <font size=4>**说明** </center>|\n",
    "| :---|:--- |\n",
    "|<font size=4> conda info| <font size=4>显示当前 conda 安装有关的所有信息 |\n",
    "|<font size=4> conda -h| <font size=4>列出conda 帮助信息|        \n",
    "|<font size=4> conda list | <font size=4>列出当前已安装的所有模块 |\n",
    "|<font size=4> conda clean| <font size=4>移除未使用的模块或缓存|\n",
    "|<font size=4> conda search SoemPackage |<font size=4> 经过 conda 重新编译入库的模块|\n",
    "|<font size=4> conda install SomePackage [--version] |<font size=4> 在线安装SomePackage模块的指定版本 |\n",
    "|<font size=4> conda update SomePackage  |<font size=4> 升级SomePackage模块 |\n",
    "|<font size=4> conda update -all | <font size=4> 升级当前环境下所有的模块|\n",
    "|<font size=4> conda remove SomePackage|<font size=4>卸载SomePackage模块| \n",
    "|<font size=4> conda create |<font size=4> 创建某个python运行环境|\n",
    " <font face='kaiti' size=5 style='line-height:1.5'>       \n",
    "&emsp; &emsp; &emsp; &emsp;  以上表格中的命令都在命令行终端中执行；  \n",
    "&emsp; &emsp; &emsp; &emsp;  SomePackage需换成实际要安装或卸载的扩展库名。"
   ]
  },
  {
   "cell_type": "markdown",
   "metadata": {},
   "source": [
    "## 标准库与扩展库对象的导入与使用 <br>\n",
    "<font face='楷体' size=5 style=\"line-height:1.5;\">\n",
    "    \n",
    "-  Python默认安装仅包含基本或核心模块，启动时也仅加载了基本模块，在需要时再显式地导入和加载标准库和第三方扩展库（需正确安装），这样可以减小程序运行的压力，并且具有很强的可扩展性。  \n",
    "- 这样的设计与安全配置时遵循的“最小权限”原则的思想是一致的，也有助于提高系统安全性。"
   ]
  },
  {
   "cell_type": "markdown",
   "metadata": {},
   "source": [
    "<center><font size=5> Python常用标准库 </font>\n",
    "\n",
    "|<center><font size=5>库  名|<center><font size=5>功  能|\n",
    "|:---|:---|\n",
    "|<font size=4>calendar,datetime,time,timeit&emsp;|<font size=4>与时间处理有关的模块| \n",
    "|<font size=4>copy|<font size=4> 对象的浅复制和深复制|   \n",
    "|<font size=4>csv|<font size=4>csv文件读写|\n",
    "|<font size=4>decimal|<font size=4>高精度十进制定点和浮点运算|    \n",
    "|<font size=4>fileinput|<font size=4>对标准输入或多个文件进行逐行遍历|  \n",
    "|<font size=4>fractions|<font size=4>高精度的有理数运算|  \n",
    "|<font size=4> hashlib| <font size=4>散列算法|  \n",
    "|<font size=4>html|<font size=4>对超文本标记语言的支持|    \n",
    "|<font size=4>json|<font size=4>一种轻量级的数据交换格式，用于对JSON数据编解码|    \n",
    "|<font size=4>logging|<font size=4>日志模块|  \n",
    "|<font size=4>math|<font size=4>为浮点运算提供对底层C函数库的访问|\n",
    "|<font size=4>operator|<font size=4>标准操作功能模块|    \n",
    "|<font size=4> os| <font size=4> 系统相关、目录及文件操作、执行命令和管理进程|\n",
    "|<font size=4>queue|<font size=4>轻量级的消息队列模块|    \n",
    "|<font size=4> random| <font size=4> 生成伪随机数|  \n",
    "|<font size=4>re|<font size=4>正则化表达式模块|  \n",
    "|<font size=4>shutil|<font size=4>对os模块的补充，主要针对文件的拷贝、删除、移动、压缩和解压操作|    \n",
    "|<font size=4> subprocess  |<font size=4> 创建子进程，并连接它们的输入、输出和错误管道，获取它们的返回状态|\n",
    "|<font size=4>statistics|<font size=4>数理统计模块|    \n",
    "|<font size=4> string|<font size=4> 字符串操作模块|    \n",
    "|<font size=4> sys|<font size=4> 与Python解释器相关的变量和方法|\n",
    "|<font size=4>tarfile|<font size=4>解包和打包tar压缩文件|\n",
    "|<font size=4>tkinter|<font size=4>标准 Tk GUI 工具包的接口，用于快速的创建 GUI 应用程序|   \n",
    "|<font size=4>turtle|<font size=4>海龟绘图（一个简单的绘图工具）|    \n",
    "|<font size=4> urllib|<font size=4>URL处理模块|\n",
    "|<font size=4>zipfile|<font size=4>压缩和解压zip文件|\n",
    "|<font size=4>……|<font size=4>……|\n",
    "    \n",
    "<font face='kaiti' size=5> &emsp;&emsp;更多详细信息见 https://docs.python.org/3/library/index.html"
   ]
  },
  {
   "cell_type": "markdown",
   "metadata": {},
   "source": [
    "### import 模块名 [as 别名] \n",
    "<font face='kaiti' size=5 style='line-height:1.5'> \n",
    "&emsp; 这种方式导入模块后，使用时需在对象之前加上模块名做前缀。模块名太长的话，可以设置一个短的缩写做为别名。"
   ]
  },
  {
   "cell_type": "code",
   "execution_count": 1,
   "metadata": {},
   "outputs": [
    {
     "data": {
      "text/plain": [
       "0.479425538604203"
      ]
     },
     "execution_count": 1,
     "metadata": {},
     "output_type": "execute_result"
    }
   ],
   "source": [
    "import math                    #导入标准库math\n",
    "math.sin(0.5)                  #求0.5（单位是弧度）的正弦"
   ]
  },
  {
   "cell_type": "code",
   "execution_count": 3,
   "metadata": {},
   "outputs": [
    {
     "name": "stdout",
     "output_type": "stream",
     "text": [
      "0.3742329787528098\n",
      "84\n",
      "47\n"
     ]
    }
   ],
   "source": [
    "import random as rd                 #导入标准库random\n",
    "n = rd.random()            #获得[0,1) 内的随机小数\n",
    "print(n)\n",
    "n = rd.randint(1,100)      #获得[1,100]区间上的随机整数\n",
    "print(n)\n",
    "n = rd.randrange(1, 100)   #返回[1, 100)区间中的随机整数\n",
    "print(n)"
   ]
  },
  {
   "cell_type": "code",
   "execution_count": 7,
   "metadata": {},
   "outputs": [
    {
     "data": {
      "text/plain": [
       "True"
      ]
     },
     "execution_count": 7,
     "metadata": {},
     "output_type": "execute_result"
    }
   ],
   "source": [
    "import os.path as path         #导入标准库os.path，并设置别名为path\n",
    "path.isfile(r'C:\\windows\\notepad.exe')"
   ]
  },
  {
   "cell_type": "code",
   "execution_count": 8,
   "metadata": {},
   "outputs": [
    {
     "name": "stdout",
     "output_type": "stream",
     "text": [
      "[1 2 3 4]\n"
     ]
    }
   ],
   "source": [
    "import numpy as np             #导入扩展库numpy，并设置别名为np\n",
    "a = np.array((1,2,3,4))        #通过模块的别名来访问其中的对象\n",
    "print(a)"
   ]
  },
  {
   "cell_type": "markdown",
   "metadata": {},
   "source": [
    "### from 模块名 import 对象名[ as 别名] \n",
    "<font face='kaiti' size=5> &emsp; 这种方式仅导入明确指定的对象，不需要使用模块名作为前缀，也可以提高访问速度。"
   ]
  },
  {
   "cell_type": "code",
   "execution_count": 9,
   "metadata": {
    "scrolled": true
   },
   "outputs": [
    {
     "data": {
      "text/plain": [
       "0.1411200080598672"
      ]
     },
     "execution_count": 9,
     "metadata": {},
     "output_type": "execute_result"
    }
   ],
   "source": [
    "from math import sin         #只导入模块中的指定对象，访问速度略快\n",
    "sin(3)"
   ]
  },
  {
   "cell_type": "code",
   "execution_count": 10,
   "metadata": {},
   "outputs": [
    {
     "data": {
      "text/plain": [
       "0.1411200080598672"
      ]
     },
     "execution_count": 10,
     "metadata": {},
     "output_type": "execute_result"
    }
   ],
   "source": [
    "from math import sin as f    #给导入的对象起个别名\n",
    "f(3)"
   ]
  },
  {
   "cell_type": "code",
   "execution_count": 11,
   "metadata": {},
   "outputs": [
    {
     "data": {
      "text/plain": [
       "True"
      ]
     },
     "execution_count": 11,
     "metadata": {},
     "output_type": "execute_result"
    }
   ],
   "source": [
    "from os.path import isfile\n",
    "isfile(r'C:\\windows\\notepad.exe')"
   ]
  },
  {
   "cell_type": "markdown",
   "metadata": {},
   "source": [
    "### from 模块名 import * \n",
    "<font face='kaiti' size=5 style='line-height:1.5'>\n",
    "&emsp; 这种方式不需要使用模块名作为前缀，但容易和自定义对象或其他模块对象重名，带来错误，不推荐这样使用。"
   ]
  },
  {
   "cell_type": "code",
   "execution_count": 12,
   "metadata": {},
   "outputs": [
    {
     "data": {
      "text/plain": [
       "0.1411200080598672"
      ]
     },
     "execution_count": 12,
     "metadata": {},
     "output_type": "execute_result"
    }
   ],
   "source": [
    "from math import *         #导入标准库math中所有的对象\n",
    "sin(3)              "
   ]
  },
  {
   "cell_type": "code",
   "execution_count": 13,
   "metadata": {},
   "outputs": [
    {
     "data": {
      "text/plain": [
       "18"
      ]
     },
     "execution_count": 13,
     "metadata": {},
     "output_type": "execute_result"
    }
   ],
   "source": [
    "gcd(36, 18)                #最大公约数"
   ]
  },
  {
   "cell_type": "code",
   "execution_count": 14,
   "metadata": {},
   "outputs": [
    {
     "data": {
      "text/plain": [
       "3.141592653589793"
      ]
     },
     "execution_count": 14,
     "metadata": {},
     "output_type": "execute_result"
    }
   ],
   "source": [
    "pi                         #常数π"
   ]
  },
  {
   "cell_type": "code",
   "execution_count": 15,
   "metadata": {},
   "outputs": [
    {
     "data": {
      "text/plain": [
       "3.0"
      ]
     },
     "execution_count": 15,
     "metadata": {},
     "output_type": "execute_result"
    }
   ],
   "source": [
    "log2(8)                    #计算以2为底的对数值"
   ]
  },
  {
   "cell_type": "code",
   "execution_count": 16,
   "metadata": {},
   "outputs": [
    {
     "data": {
      "text/plain": [
       "2.0"
      ]
     },
     "execution_count": 16,
     "metadata": {},
     "output_type": "execute_result"
    }
   ],
   "source": [
    "log10(100)                 #计算以10为底的对数值"
   ]
  },
  {
   "cell_type": "code",
   "execution_count": 17,
   "metadata": {},
   "outputs": [
    {
     "data": {
      "text/plain": [
       "3.141592653589793"
      ]
     },
     "execution_count": 17,
     "metadata": {},
     "output_type": "execute_result"
    }
   ],
   "source": [
    "radians(180)               #把角度转换为弧度"
   ]
  },
  {
   "cell_type": "markdown",
   "metadata": {},
   "source": [
    "## Python帮助<br>\n",
    "<font face='kaiti' size=5 style=\"line-height:1.5;\">\n",
    "    \n",
    "1. 可以直接访问https://docs.python.org/3/ ，查看最新Python3版本的说明文档；    \n",
    "2. 在Anaconda Navigator的主界面左边点击\"Learning\"标签，即可在线阅读Python以及其他组件的说明文档；        \n",
    "3. Python提供了一个帮助系统，用于对类、对象的查询。在控制台进入python，然后输入help(),即可启动该帮助系统。见下图：\n",
    "![help系统](help01.png \"Python帮助系统\")    \n",
    "&emsp;&emsp;在上图中的`help>`后输入要查询的对象，回车即可得到详细信息，如输入` keywords`，即得到Python中所有的关键字。\n",
    "  ![help系统](help02.png \"Python帮助系统\")  \n",
    "&emsp;&emsp;要退出这个帮助系统，只需直接按回车即可。上述帮助系统也可以在各集成开发环境的命令行中使用。  \n",
    "4. 此外，Python还提供了2个函数和1个方法，能更方便地用于各种类、对象的查询，也同样适用于标准库和第3方扩展库的查询。    \n",
    "  - dir():用来查询一个类或者对象所有属性和方法；\n",
    "  - help(): 查看某对象的方法和属性，或某函数的详细说明；\n",
    "  - ._\\_doc_\\_: 查看某对象的方法和属性的详细说明，这里\"doc\"前后分别是2个下划线.  \n",
    " ```python\n",
    "# 命令行中分别回车执行下列各行命令\n",
    "# 1. 查询某个模块的某函数\n",
    "import math                  # 导入math库\n",
    "dir(math)                   # 列出math库的所有对象和函数\n",
    "help(math.gcd)                # 查询math库某个函数的含义与用法\n",
    "math.gcd.__doc__              # 查询math库某个函数的含义与用法\n",
    "# 2. 查询某个对象的某方法\n",
    "a = [0,1,2,3,4]               # 创建一个列表\n",
    "dir(a)                     # 列出该列表对象的属性和方法\n",
    "help(a.append)               # 查询该列表对象的某个方法\n",
    "a.append.__doc__              # 查询该列表对象的某个方法\n",
    "```"
   ]
  },
  {
   "cell_type": "markdown",
   "metadata": {},
   "source": [
    "## 几个Python实例"
   ]
  },
  {
   "cell_type": "code",
   "execution_count": 18,
   "metadata": {},
   "outputs": [
    {
     "name": "stdout",
     "output_type": "stream",
     "text": [
      "0, 1, 1, 2, 3, 5, 8, 13, 21, 34, 55, 89, 144, 233, 377, 610, 987, 1597, 2584, 4181, 6765, "
     ]
    }
   ],
   "source": [
    "# 实例1： 输出斐波那契数列\n",
    "a, b = 0, 1\n",
    "while a < 10000:   # 输出不大于1000的序列，注意冒号是缩进的开始\n",
    "    print(a, end=', ')\n",
    "    a, b = b, a+b"
   ]
  },
  {
   "cell_type": "code",
   "execution_count": 2,
   "metadata": {},
   "outputs": [
    {
     "name": "stdout",
     "output_type": "stream",
     "text": [
      "2019-06-27 10:26:11.354548\n",
      "19-06-27\n",
      "10:26:11\n"
     ]
    }
   ],
   "source": [
    "# 实例2： 日期和时间的输出\n",
    "from datetime import datetime    # 导入datetime库的datetime模块\n",
    "now = datetime.now()             # 获得当前日期和时间信息\n",
    "print(now)\n",
    "print(now.strftime(\"%y-%m-%d\"))              # 输出其中的日期部分\n",
    "print(now.strftime(\"%H:%M:%S\"))              # 输出其中的时间部分"
   ]
  },
  {
   "cell_type": "code",
   "execution_count": 1,
   "metadata": {
    "scrolled": false
   },
   "outputs": [],
   "source": [
    "# 实例3： 绘制六边形动画\n",
    "import turtle             # 导入turtle绘图库\n",
    "from matplotlib import pyplot as plt\n",
    "\n",
    "fig =plt.figure(figsize=(8,8))\n",
    "t = turtle.Pen()          # 创建画笔\n",
    "turtle.bgcolor(\"black\")   # 设置背景色为黑色\n",
    "sides=6                   # 6条边\n",
    "colors=[\"red\",\"yellow\",\"blue\",\"orange\",\"green\",\"purple\"]    # 6种颜色\n",
    "for x in range(180):      # 注意循环语句后面要加冒号，表示缩进的开始      \n",
    "    t.pencolor(colors[x%sides])         # 画笔改变颜色\n",
    "    t.forward(x)                        # 画笔前进距离x\n",
    "    t.left(360/sides+1)                 # 画笔向左转61度\n",
    "    t.width(x*sides/200)                # 画笔宽度变化\n",
    "t.hideturtle()                          # 绘制后隐藏画笔\n",
    "turtle.done()                           # 作为turtle绘图的结束语句"
   ]
  },
  {
   "cell_type": "markdown",
   "metadata": {},
   "source": [
    "## 练习 <br>\n",
    "<font size=4 style=\"line-height:1.5;\"> \n",
    "    \n",
    "1. 观察spyder界面各部分，按自己的习惯调整窗口样式，或调整为接近MATLAB界面；    \n",
    "2. 在spyder命令窗口中逐行键入上述的一段代码，观察运行结果；\n",
    "3. 新建py文件，将上述的一段代码保存为py文件，再次运行；\n",
    "4. 在spyder工作空间中，观察内存中的变量；\n",
    "5. 在Jupyter notebook下建立多个文件夹，以便存放不同分类的笔记；\n",
    "6. Jupyter notebook也可支持MATLAB，尝试使自己电脑上的Jupyter notebook能支持MATLAB；\n",
    "7. Jupyter notebook中编辑的笔记可以自动建立目录，尝试实现这一功能；\n",
    "8. 查看本机所安装的anaconda是否安装了扩展库numpy, scrapy, pygame，没有的话尝试安装该库；    \n",
    "9. 了解下列标准库的常用函数： math, os,  random；\n",
    "10. 了解下列扩展库的主要作用： numpy, scipy, matplotlib, pandas, scikit-learn, xlwings.\n",
    "11. 了解实例3中用到的函数和循环语句的用法，尝试修改该程序，绘制其他效果的动画。"
   ]
  },
  {
   "cell_type": "markdown",
   "metadata": {},
   "source": [
    "## 附：Python之禅"
   ]
  },
  {
   "cell_type": "code",
   "execution_count": 21,
   "metadata": {},
   "outputs": [
    {
     "name": "stdout",
     "output_type": "stream",
     "text": [
      "The Zen of Python, by Tim Peters\n",
      "\n",
      "Beautiful is better than ugly.\n",
      "Explicit is better than implicit.\n",
      "Simple is better than complex.\n",
      "Complex is better than complicated.\n",
      "Flat is better than nested.\n",
      "Sparse is better than dense.\n",
      "Readability counts.\n",
      "Special cases aren't special enough to break the rules.\n",
      "Although practicality beats purity.\n",
      "Errors should never pass silently.\n",
      "Unless explicitly silenced.\n",
      "In the face of ambiguity, refuse the temptation to guess.\n",
      "There should be one-- and preferably only one --obvious way to do it.\n",
      "Although that way may not be obvious at first unless you're Dutch.\n",
      "Now is better than never.\n",
      "Although never is often better than *right* now.\n",
      "If the implementation is hard to explain, it's a bad idea.\n",
      "If the implementation is easy to explain, it may be a good idea.\n",
      "Namespaces are one honking great idea -- let's do more of those!\n"
     ]
    }
   ],
   "source": [
    "import this"
   ]
  },
  {
   "cell_type": "code",
   "execution_count": 1,
   "metadata": {},
   "outputs": [
    {
     "name": "stdout",
     "output_type": "stream",
     "text": [
      "The Zen of Python, by Tim Peters\n",
      "\n",
      "Beautiful is better than ugly.\n",
      "Explicit is better than implicit.\n",
      "Simple is better than complex.\n",
      "Complex is better than complicated.\n",
      "Flat is better than nested.\n",
      "Sparse is better than dense.\n",
      "Readability counts.\n",
      "Special cases aren't special enough to break the rules.\n",
      "Although practicality beats purity.\n",
      "Errors should never pass silently.\n",
      "Unless explicitly silenced.\n",
      "In the face of ambiguity, refuse the temptation to guess.\n",
      "There should be one-- and preferably only one --obvious way to do it.\n",
      "Although that way may not be obvious at first unless you're Dutch.\n",
      "Now is better than never.\n",
      "Although never is often better than *right* now.\n",
      "If the implementation is hard to explain, it's a bad idea.\n",
      "If the implementation is easy to explain, it may be a good idea.\n",
      "Namespaces are one honking great idea -- let's do more of those!\n"
     ]
    }
   ],
   "source": [
    "import this\n"
   ]
  }
 ],
 "metadata": {
  "kernelspec": {
   "display_name": "Python 3",
   "language": "python",
   "name": "python3"
  },
  "language_info": {
   "codemirror_mode": {
    "name": "ipython",
    "version": 3
   },
   "file_extension": ".py",
   "mimetype": "text/x-python",
   "name": "python",
   "nbconvert_exporter": "python",
   "pygments_lexer": "ipython3",
   "version": "3.7.3"
  },
  "latex_envs": {
   "LaTeX_envs_menu_present": true,
   "autoclose": false,
   "autocomplete": true,
   "bibliofile": "biblio.bib",
   "cite_by": "apalike",
   "current_citInitial": 1,
   "eqLabelWithNumbers": true,
   "eqNumInitial": 1,
   "hotkeys": {
    "equation": "Ctrl-E",
    "itemize": "Ctrl-I"
   },
   "labels_anchors": false,
   "latex_user_defs": false,
   "report_style_numbering": false,
   "user_envs_cfg": false
  },
  "toc": {
   "base_numbering": "1",
   "nav_menu": {},
   "number_sections": true,
   "sideBar": true,
   "skip_h1_title": false,
   "title_cell": "目录",
   "title_sidebar": "目录",
   "toc_cell": true,
   "toc_position": {
    "height": "calc(100% - 180px)",
    "left": "10px",
    "top": "150px",
    "width": "165px"
   },
   "toc_section_display": true,
   "toc_window_display": false
  }
 },
 "nbformat": 4,
 "nbformat_minor": 2
}
