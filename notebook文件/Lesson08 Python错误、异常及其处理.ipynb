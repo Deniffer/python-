{
 "cells": [
  {
   "cell_type": "markdown",
   "metadata": {
    "toc": true
   },
   "source": [
    "<h1>目录<span class=\"tocSkip\"></span></h1>\n",
    "<div class=\"toc\"><ul class=\"toc-item\"><li><span><a href=\"#Python错误、异常及其处理\" data-toc-modified-id=\"Python错误、异常及其处理-11\"><span class=\"toc-item-num\">11&nbsp;&nbsp;</span>Python错误、异常及其处理<br></a></span><ul class=\"toc-item\"><li><span><a href=\"#语法错误\" data-toc-modified-id=\"语法错误-11.1\"><span class=\"toc-item-num\">11.1&nbsp;&nbsp;</span>语法错误<br></a></span></li><li><span><a href=\"#逻辑错误\" data-toc-modified-id=\"逻辑错误-11.2\"><span class=\"toc-item-num\">11.2&nbsp;&nbsp;</span>逻辑错误<br></a></span><ul class=\"toc-item\"><li><span><a href=\"#常见的逻辑错误\" data-toc-modified-id=\"常见的逻辑错误-11.2.1\"><span class=\"toc-item-num\">11.2.1&nbsp;&nbsp;</span>常见的逻辑错误<br></a></span></li><li><span><a href=\"#程序调试\" data-toc-modified-id=\"程序调试-11.2.2\"><span class=\"toc-item-num\">11.2.2&nbsp;&nbsp;</span>程序调试<br></a></span></li></ul></li><li><span><a href=\"#运行时错误——异常\" data-toc-modified-id=\"运行时错误——异常-11.3\"><span class=\"toc-item-num\">11.3&nbsp;&nbsp;</span>运行时错误——异常<br></a></span><ul class=\"toc-item\"><li><span><a href=\"#异常处理\" data-toc-modified-id=\"异常处理-11.3.1\"><span class=\"toc-item-num\">11.3.1&nbsp;&nbsp;</span>异常处理</a></span></li><li><span><a href=\"#主动引发异常\" data-toc-modified-id=\"主动引发异常-11.3.2\"><span class=\"toc-item-num\">11.3.2&nbsp;&nbsp;</span>主动引发异常<br></a></span></li></ul></li><li><span><a href=\"#单元测试\" data-toc-modified-id=\"单元测试-11.4\"><span class=\"toc-item-num\">11.4&nbsp;&nbsp;</span>单元测试<br></a></span></li><li><span><a href=\"#小结\" data-toc-modified-id=\"小结-11.5\"><span class=\"toc-item-num\">11.5&nbsp;&nbsp;</span>小结<br></a></span></li><li><span><a href=\"#课后练习\" data-toc-modified-id=\"课后练习-11.6\"><span class=\"toc-item-num\">11.6&nbsp;&nbsp;</span>课后练习<br></a></span></li></ul></li></ul></div>"
   ]
  },
  {
   "cell_type": "markdown",
   "metadata": {},
   "source": [
    "# Python错误、异常及其处理<br>\n",
    "<font face='kaiti' size=5 style='line-height:1.5'>\n",
    "\n",
    "&emsp;&emsp;在运行程序时，经常会遇到一些错误。这些错误大致可分为3类：\n",
    "- 语法错误\n",
    "- 逻辑错误\n",
    "- 运行时错误"
   ]
  },
  {
   "cell_type": "markdown",
   "metadata": {},
   "source": [
    "## 语法错误<br>\n",
    "<font face='kaiti' size=5 style='line-height:1.5'>\n",
    "\n",
    "&emsp;&emsp;语法错误（也称：解析错误）：是指不遵循语言的语法结构引起的错误（程序无法正常编译/运行）。在编译语言（例如：C++）中，语法错误只在编译期出现，编译器要求所有的语法都正确，才能正常编译。不过对于解释型语言（例如：Python）来说，语法错误可能在运行期才会出现，而且不太容易区分语法错误及语义错误。<p>\n",
    "\n",
    "常见的 Python 语法错误有：\n",
    "- 遗漏了某些必要的符号（冒号、逗号或括号）\n",
    "- 关键字拼写错误\n",
    "- 缩进不正确\n",
    "- 空语句块（需要用 pass 语句）\n",
    "- 变量命名错误"
   ]
  },
  {
   "cell_type": "code",
   "execution_count": null,
   "metadata": {
    "scrolled": true
   },
   "outputs": [],
   "source": [
    "x = input('Input a number:')\n",
    "if int(x) > 0:\n",
    "    print(x + '>0')"
   ]
  },
  {
   "cell_type": "markdown",
   "metadata": {},
   "source": [
    "<font face='kaiti' size=5 style='line-height:1.5'>\n",
    "\n",
    "&emsp;&emsp;对于语法错误，一方面要牢记Python的各种语法规则，另一方面在出现语法错误时能根据提示信息很快确定错误原因。这需要一定时间和程序量的积累。"
   ]
  },
  {
   "cell_type": "markdown",
   "metadata": {},
   "source": [
    "## 逻辑错误<br>\n",
    "<font face='kaiti' size=5 style='line-height:1.5'>\n",
    "\n",
    "&emsp;&emsp;逻辑错误（也称：语义错误）：是指程序可以正常运行，但执行结果与预期不符。即语法上来说是正确的，但会产生意外的输出或结果，并不一定会被立即发现。逻辑错误的唯一表现就是错误的运行结果。"
   ]
  },
  {
   "cell_type": "markdown",
   "metadata": {},
   "source": [
    "### 常见的逻辑错误<br>\n",
    "<font face='kaiti' size=5 style='line-height:1.5'>\n",
    "\n",
    "常见的逻辑错误有：\n",
    "- 运算符优先级考虑不周\n",
    "- 变量名使用不正确\n",
    "- 语句块缩进层次不对\n",
    "- 在布尔表达式中出错"
   ]
  },
  {
   "cell_type": "code",
   "execution_count": 2,
   "metadata": {},
   "outputs": [
    {
     "data": {
      "text/plain": [
       "4.5"
      ]
     },
     "execution_count": 2,
     "metadata": {},
     "output_type": "execute_result"
    }
   ],
   "source": [
    "# 定义一个函数，求2个数的平均值\n",
    "def average(a, b):\n",
    "    return a + b / 2 \n",
    "\n",
    "average(2,5)"
   ]
  },
  {
   "cell_type": "code",
   "execution_count": null,
   "metadata": {},
   "outputs": [],
   "source": [
    "# 定义一个函数，以列表形式输出元素为全1的向量\n",
    "def ones(d):\n",
    "    matrix = []\n",
    "    for i in range(d):\n",
    "        matrix.append(1)\n",
    "    return matrix\n",
    "    \n",
    "ones(5)"
   ]
  },
  {
   "cell_type": "markdown",
   "metadata": {},
   "source": [
    "### 程序调试<br>\n",
    "<font face='kaiti' size=5 style='line-height:1.5'>\n",
    "\n",
    "&emsp;&emsp;编码阶段，当程序发生逻辑错误或运行时错误时，可通过程序调试快速定位错误。熟练地对程序进行调试和改错也是程序员的一种重要能力。<br>\n",
    "&emsp;&emsp;程序调试常用的方法有：\n",
    "1. 归纳法排错，使用不同的测试数据，收集哪些数据不发生错误，哪些数据发生哪种错误，以便发现规律；\n",
    "2. 逻辑分析，针对错误的结果分析可能发生错误的代码段；\n",
    "3. 分段检测，在程序中插入打印语句，用合法的输入或操作，监控各段的输出是否符合预期；\n",
    "4. 人工回溯，确定最先发现错误症状的地方，人工沿程序的控制流往回追踪源程序代码，直到找到错误或范围；\n",
    "5. 调试工具。Python提供了交互式源代码调试模块ipdb（需导入使用），而Python的IDE都有专门的调试工具，可以用这些工具来分析程序的动态行为。\n",
    "\n",
    "&emsp;&emsp;下面简单介绍Spyder中的程序调试方法。"
   ]
  },
  {
   "cell_type": "markdown",
   "metadata": {},
   "source": [
    "<font face='kaiti' size=5 style='line-height:1.5'>\n",
    "\n",
    "&emsp;&emsp;Spyder提供了Debug菜单，和相应的工具条，可用于调试编辑器中的程序。也能响应Python自带的交互式调试模块ipdb的命令。<p>\n",
    "&emsp;&emsp;如下图所示，通过Debug菜单或相应的工具条，在编辑器中对程序设置断点，通过“步进”等菜单项渐次运行，也可以在命令窗口中用ipdb命令调试，在变量浏览器窗口中可观察各变量的取值，借此了解各步运行是否符合预期。\n",
    "    \n",
    "![Spyder调试](debug.png \"Spyder调试\")"
   ]
  },
  {
   "cell_type": "markdown",
   "metadata": {},
   "source": [
    "<font face='kaiti' size=5 style='line-height:1.5'>\n",
    "<center>ipdb常用命令及相应的Spyder菜单项</font><br>\n",
    "<center> \n",
    "    \n",
    "|<font size=4><center>ipdb命令|<font size=4><center>用法示例|<font size=4><center>功能|<font size=4><center>Spyder菜单项（工具条）|\n",
    "|:--|:--|:--|:--|\n",
    "|<font size=4>b(reak) line&emsp;|<font size=4> b 17|<font size=4>在17行设置断点|<font size=4>左侧行号处双击|\n",
    "|<font size=4>cl(ear) line|<font size=4> cl 1 3|<font size=4>删除第1，3个断点|<font size=4>左侧行号处双击|\n",
    "|<font size=4>c(ontinue)| <font size=4> c |<font size=4>继续运行至下一个断点或脚本结束|<font size=4>continue|\n",
    "|<font size=4>j(ump) line|<font size=4> j 20 |<font size=4>跳至第20行继续运行|<font size=4>无|\n",
    "|<font size=4>n(ext)|<font size=4> n |<font size=4> 执行下一条语句，<br>遇到函数时不进入|<font size=4>Step|\n",
    "|<font size=4>step|<font size=4> step |<font size=4>执行下一条语句，<br>遇到函数时进入内部|<font size=4>Step into|\n",
    "|<font size=4>r(eturn)|<font size=4>r|<font size=4>一直运行至当前函数返回|<font size=4>Step return|\n",
    "|<font size=4>q(uit)|<font size=4> q |<font size=4>退出ipdb调试环境|<font size=4>Stop|\n",
    "\n",
    "<font face='kaiti' size=5><center>注：在命令行ipdb调试环境中，直接回车相当于再次执行上一次的ipdb指令。"
   ]
  },
  {
   "cell_type": "markdown",
   "metadata": {},
   "source": [
    "<font face='kaiti' size=5 style='line-height:1.5'>【例】试在Spyder中对下面的一段程序调试查错。"
   ]
  },
  {
   "cell_type": "code",
   "execution_count": 28,
   "metadata": {},
   "outputs": [],
   "source": [
    "# 求1-500之间的所有完数\n",
    "aList = []\n",
    "for n in range(1,501):\n",
    "    for i in range(1,n):\n",
    "        if n%i == 0:\n",
    "            aList.append(i)\n",
    "    if sum(aList) == n:\n",
    "        print(n)\n",
    "        print(i)"
   ]
  },
  {
   "cell_type": "markdown",
   "metadata": {},
   "source": [
    "## 运行时错误——异常<br>\n",
    "<font face='kaiti' size=5 style='line-height:1.5'>\n",
    "    \n",
    "- 运行时错误：是指程序可以运行，但是在运行过程中遇到错误，导致意外退出。当程序由于运行时错误而停止时，通常会说程序崩溃了。在 Python 中，这种运行时错误被称为异常。\n",
    "- 引发异常的原因有很多，例如除零(ZeroDivisionError)、下标越界(IndexError)、文件不存在(FileNotFoundError)、网络异常(ConnectionError)、类型错误(TypeError)、名字错误(NameError)、字典键错误(KeyError)、内存错误(MemoryError)，等等。"
   ]
  },
  {
   "cell_type": "code",
   "execution_count": 3,
   "metadata": {},
   "outputs": [
    {
     "ename": "ZeroDivisionError",
     "evalue": "division by zero",
     "output_type": "error",
     "traceback": [
      "\u001b[1;31m---------------------------------------------------------------------------\u001b[0m",
      "\u001b[1;31mZeroDivisionError\u001b[0m                         Traceback (most recent call last)",
      "\u001b[1;32m<ipython-input-3-e8326a161779>\u001b[0m in \u001b[0;36m<module>\u001b[1;34m()\u001b[0m\n\u001b[1;32m----> 1\u001b[1;33m \u001b[1;36m2\u001b[0m\u001b[1;33m/\u001b[0m\u001b[1;36m0\u001b[0m\u001b[1;33m\u001b[0m\u001b[0m\n\u001b[0m",
      "\u001b[1;31mZeroDivisionError\u001b[0m: division by zero"
     ]
    }
   ],
   "source": [
    "2/0"
   ]
  },
  {
   "cell_type": "code",
   "execution_count": 4,
   "metadata": {},
   "outputs": [
    {
     "ename": "TypeError",
     "evalue": "must be str, not int",
     "output_type": "error",
     "traceback": [
      "\u001b[1;31m---------------------------------------------------------------------------\u001b[0m",
      "\u001b[1;31mTypeError\u001b[0m                                 Traceback (most recent call last)",
      "\u001b[1;32m<ipython-input-4-63196ba7153f>\u001b[0m in \u001b[0;36m<module>\u001b[1;34m()\u001b[0m\n\u001b[1;32m----> 1\u001b[1;33m \u001b[1;34m'a'\u001b[0m \u001b[1;33m+\u001b[0m \u001b[1;36m2\u001b[0m\u001b[1;33m\u001b[0m\u001b[0m\n\u001b[0m",
      "\u001b[1;31mTypeError\u001b[0m: must be str, not int"
     ]
    }
   ],
   "source": [
    "'a' + 2"
   ]
  },
  {
   "cell_type": "code",
   "execution_count": 5,
   "metadata": {
    "scrolled": true
   },
   "outputs": [
    {
     "ename": "NameError",
     "evalue": "name 'string' is not defined",
     "output_type": "error",
     "traceback": [
      "\u001b[1;31m---------------------------------------------------------------------------\u001b[0m",
      "\u001b[1;31mNameError\u001b[0m                                 Traceback (most recent call last)",
      "\u001b[1;32m<ipython-input-5-aed40fa4fc5e>\u001b[0m in \u001b[0;36m<module>\u001b[1;34m()\u001b[0m\n\u001b[1;32m----> 1\u001b[1;33m \u001b[0mprint\u001b[0m\u001b[1;33m(\u001b[0m\u001b[0mstring\u001b[0m\u001b[1;33m)\u001b[0m\u001b[1;33m\u001b[0m\u001b[0m\n\u001b[0m",
      "\u001b[1;31mNameError\u001b[0m: name 'string' is not defined"
     ]
    }
   ],
   "source": [
    "print(string)"
   ]
  },
  {
   "cell_type": "code",
   "execution_count": 6,
   "metadata": {},
   "outputs": [
    {
     "ename": "FileNotFoundError",
     "evalue": "[Errno 2] No such file or directory: 'D:\\\\test.data'",
     "output_type": "error",
     "traceback": [
      "\u001b[1;31m---------------------------------------------------------------------------\u001b[0m",
      "\u001b[1;31mFileNotFoundError\u001b[0m                         Traceback (most recent call last)",
      "\u001b[1;32m<ipython-input-6-0b30df2078cd>\u001b[0m in \u001b[0;36m<module>\u001b[1;34m()\u001b[0m\n\u001b[1;32m----> 1\u001b[1;33m \u001b[0mfp\u001b[0m \u001b[1;33m=\u001b[0m \u001b[0mopen\u001b[0m\u001b[1;33m(\u001b[0m\u001b[1;34mr'D:\\test.data'\u001b[0m\u001b[1;33m,\u001b[0m\u001b[1;34m'rb'\u001b[0m\u001b[1;33m)\u001b[0m\u001b[1;33m\u001b[0m\u001b[0m\n\u001b[0m",
      "\u001b[1;31mFileNotFoundError\u001b[0m: [Errno 2] No such file or directory: 'D:\\\\test.data'"
     ]
    }
   ],
   "source": [
    "fp = open(r'D:\\test.data','rb')"
   ]
  },
  {
   "cell_type": "markdown",
   "metadata": {},
   "source": [
    "<font face='kaiti' size=5 style='line-height:1.5'>\n",
    "   \n",
    "&emsp;&emsp;如上所示，每当出现这类运行时错误时，Python 就会创建一个异常对象。如果处理不当，会输出一个跟踪（Traceback）到那个错误，以及关于为什么会出现错误的一些细节。<p>\n",
    "&emsp;&emsp;Python中内置了大量的异常类，分别对应不同类型的异常。具体的异常类见教材P218. 第11.1.2节。"
   ]
  },
  {
   "cell_type": "markdown",
   "metadata": {},
   "source": [
    "### 异常处理\n",
    "<font face='kaiti' size=5 style='line-height:1.5'>\n",
    "&emsp;&emsp;异常处理是指对程序执行过程中出现的异常对象而在正常控制流之外采取的行为。<br>\n",
    "&emsp;&emsp;合理地使用异常处理结构可以使得程序更加健壮，具有更强的容错性，不会因为用户不小心的错误输入或其他运行时原因而造成程序终止。也可以使用异常处理结构为用户提供更加友好的提示。<br>\n",
    "&emsp;&emsp;Python提供了多种不同形式的异常处理结构，基本思路是：先尝试运行代码，如果没有问题就正常执行，如果发生了错误就尝试着去捕获和处理，最后实在没办法了才崩溃。\n",
    "    "
   ]
  },
  {
   "cell_type": "markdown",
   "metadata": {},
   "source": [
    "<font face='kaiti' size=5 style='line-height:1.5'>\n",
    "&emsp;&emsp;以下用一个\"将输入的2个数从小到大输出\"的程序，说明什么是异常，并将用这个程序说明异常处理结构。当没有在程序中使用异常处理，也没有对输入进行判断时，程序会因各种输入错误导致异常。\n",
    "    \n",
    "【例1】对输入的任意2个数，按从小到大输出"
   ]
  },
  {
   "cell_type": "code",
   "execution_count": 5,
   "metadata": {},
   "outputs": [
    {
     "name": "stdout",
     "output_type": "stream",
     "text": [
      "Input two number(以空格分隔):23535\n"
     ]
    },
    {
     "ename": "ValueError",
     "evalue": "not enough values to unpack (expected 2, got 1)",
     "output_type": "error",
     "traceback": [
      "\u001b[1;31m---------------------------------------------------------------------------\u001b[0m",
      "\u001b[1;31mValueError\u001b[0m                                Traceback (most recent call last)",
      "\u001b[1;32m<ipython-input-5-d0089645cb31>\u001b[0m in \u001b[0;36m<module>\u001b[1;34m()\u001b[0m\n\u001b[0;32m      1\u001b[0m \u001b[1;31m# 对输入的任意2个数，按从小到大输出\u001b[0m\u001b[1;33m\u001b[0m\u001b[1;33m\u001b[0m\u001b[0m\n\u001b[0;32m      2\u001b[0m \u001b[0mx\u001b[0m \u001b[1;33m=\u001b[0m \u001b[0minput\u001b[0m\u001b[1;33m(\u001b[0m\u001b[1;34m'Input two number(以空格分隔):'\u001b[0m\u001b[1;33m)\u001b[0m\u001b[1;33m\u001b[0m\u001b[0m\n\u001b[1;32m----> 3\u001b[1;33m \u001b[0ma\u001b[0m\u001b[1;33m,\u001b[0m \u001b[0mb\u001b[0m \u001b[1;33m=\u001b[0m \u001b[0mmap\u001b[0m\u001b[1;33m(\u001b[0m\u001b[0mfloat\u001b[0m\u001b[1;33m,\u001b[0m \u001b[0mx\u001b[0m\u001b[1;33m.\u001b[0m\u001b[0msplit\u001b[0m\u001b[1;33m(\u001b[0m\u001b[1;33m)\u001b[0m\u001b[1;33m)\u001b[0m  \u001b[1;31m# x.split表示以空格将x分割成多个字符串\u001b[0m\u001b[1;33m\u001b[0m\u001b[0m\n\u001b[0m\u001b[0;32m      4\u001b[0m \u001b[1;32mif\u001b[0m \u001b[0ma\u001b[0m \u001b[1;33m>\u001b[0m \u001b[0mb\u001b[0m\u001b[1;33m:\u001b[0m\u001b[1;33m\u001b[0m\u001b[0m\n\u001b[0;32m      5\u001b[0m     \u001b[0ma\u001b[0m\u001b[1;33m,\u001b[0m \u001b[0mb\u001b[0m \u001b[1;33m=\u001b[0m \u001b[0mb\u001b[0m\u001b[1;33m,\u001b[0m \u001b[0ma\u001b[0m  \u001b[1;31m#序列解包，交换两个变量的值\u001b[0m\u001b[1;33m\u001b[0m\u001b[0m\n",
      "\u001b[1;31mValueError\u001b[0m: not enough values to unpack (expected 2, got 1)"
     ]
    }
   ],
   "source": [
    "# 对输入的任意2个数，按从小到大输出\n",
    "x = input('Input two number(以空格分隔):')\n",
    "a, b = map(float, x.split())  # x.split表示以空格将x分割成多个字符串\n",
    "if a > b:\n",
    "    a, b = b, a  #序列解包，交换两个变量的值\n",
    "print(a, b)\n",
    "print('程序结束')   # 触发异常，后面的代码不再运行"
   ]
  },
  {
   "cell_type": "markdown",
   "metadata": {},
   "source": [
    "<font face='kaiti' size=5 style='line-height:1.5'>\n",
    "\n",
    "1. try...except...<br>\n",
    "该结构语法如下：\n",
    "```python\n",
    "try:\n",
    "    #可能会引发异常的代码，先执行一下试试\n",
    "except Exception[ as reason]:\n",
    "    #如果try中的代码抛出异常并被except捕捉，就执行这里的代码\n",
    "```\n",
    " - 其中try子句中的代码块包含可能会引发异常的语句，而except子句则用来捕捉相应的异常；\n",
    " - except后面的Exception可以用Python中某种具体的异常类代替，如ValueError，TypeError等；\n",
    " - 如果try子句中的代码引发异常并被except子句捕捉，就执行except子句的代码块；\n",
    " - 如果try中的代码块没有出现异常就继续往下执行异常处理结构后面的代码；\n",
    " - 如果出现异常但没有被except捕获，继续往外层抛出，如果所有层都没有捕获并处理该异常，程序崩溃并将该异常呈现给最终用户；\n",
    " - 如果需要捕获所有类型的异常，可以使用BaseException代替上面的Exception。但这种处理输出的异常没有针对性，一般不建议直接使用。"
   ]
  },
  {
   "cell_type": "markdown",
   "metadata": {},
   "source": [
    "<font face='kaiti' size=5 style='line-height:1.5'>\n",
    "【例2】在例1的代码中加入try...except...异常处理结构"
   ]
  },
  {
   "cell_type": "code",
   "execution_count": 27,
   "metadata": {},
   "outputs": [
    {
     "name": "stdout",
     "output_type": "stream",
     "text": [
      "Input two number(以空格分隔):34,12\n",
      "<class 'ValueError'> could not convert string to float: '34,12'\n"
     ]
    }
   ],
   "source": [
    "# 对输入的任意2个数，按从小到大输出\n",
    "x = input('Input two number(以空格分隔):')\n",
    "try:\n",
    "    a, b = map(float, x.split())  # x.split表示以空格将x分割成多个字符串\n",
    "    if a > b:\n",
    "        a, b = b, a  #序列解包，交换两个变量的值\n",
    "    print(a, b)\n",
    "except Exception as e:\n",
    "    print(type(e),end=' ')\n",
    "    print(e) "
   ]
  },
  {
   "cell_type": "code",
   "execution_count": 49,
   "metadata": {},
   "outputs": [
    {
     "name": "stdout",
     "output_type": "stream",
     "text": [
      "Input two number(以空格分隔):34523\n",
      "<class 'ValueError'> not enough values to unpack (expected 2, got 1)\n",
      "程序结束\n"
     ]
    }
   ],
   "source": [
    "# 对输入的任意2个数，按从小到大输出\n",
    "x = input('Input two number(以空格分隔):')\n",
    "try:\n",
    "    a, b = map(float, x.split())  # x.split表示以空格将x分割成多个字符串\n",
    "    if a > b:\n",
    "        a, b = b, a  #序列解包，交换两个变量的值\n",
    "    print(a, b)\n",
    "except Exception as e:\n",
    "    print(type(e),end=' ')\n",
    "    print(e) \n",
    "print('程序结束')   # 用except捕获异常后，后面的程序依然能运行"
   ]
  },
  {
   "cell_type": "code",
   "execution_count": 26,
   "metadata": {},
   "outputs": [
    {
     "name": "stdout",
     "output_type": "stream",
     "text": [
      "Input two number(以空格分隔):2435, 25\n",
      "输入错误，输入必须是以空格分隔的2个数！\n"
     ]
    }
   ],
   "source": [
    "# 对输入的任意2个数，按从小到大输出\n",
    "x = input('Input two number(以空格分隔):')\n",
    "try:\n",
    "    a, b = map(float, x.split())  # x.split表示以空格将x分割成多个字符串\n",
    "    if a > b:\n",
    "        a, b = b, a  #序列解包，交换两个变量的值\n",
    "    print(a, b)\n",
    "except Exception as e:\n",
    "    print('输入错误，输入必须是以空格分隔的2个数！')"
   ]
  },
  {
   "cell_type": "markdown",
   "metadata": {},
   "source": [
    "<font face='kaiti' size=5 style='line-height:1.5'>\n",
    "\n",
    "2. try...except...else...<br>\n",
    "该结构的语法如下：\n",
    "```python\n",
    "try:\n",
    "    #可能会引发异常的代码\n",
    "except Exception [ as reason]:\n",
    "    #用来处理异常的代码\n",
    "else:\n",
    "    #如果try子句中的代码没有引发异常，就继续执行这里的代码\n",
    "```\n",
    " - 如果try中的代码抛出了异常并且被except语句捕捉则执行相应的异常处理代码，这种情况下就不会执行else中的代码；\n",
    " - 如果try中的代码没有引发异常，则执行else块的代码。\n",
    " - 如果try中有多行语句，建议使用这种结构而不是第1种结构。try中应该只放真的可能会引发异常的代码。"
   ]
  },
  {
   "cell_type": "markdown",
   "metadata": {},
   "source": [
    "<font face='kaiti' size=5 style='line-height:1.5'>\n",
    "【例3】在例1的代码中加入try...except...else...异常处理结构。"
   ]
  },
  {
   "cell_type": "code",
   "execution_count": 10,
   "metadata": {},
   "outputs": [
    {
     "name": "stdout",
     "output_type": "stream",
     "text": [
      "Input two number(以空格分隔):9.3 3.5\n",
      "3.5 9.3\n"
     ]
    }
   ],
   "source": [
    "# 对输入的任意2个数，按从小到大输出\n",
    "x = input('Input two number(以空格分隔):')\n",
    "try:\n",
    "    a, b = map(float, x.split())  # x.split表示以空格将x分割成多个字符串    \n",
    "except Exception:\n",
    "    print('输入错误，输入必须是以空格分隔的2个数！')\n",
    "else:\n",
    "    if a > b:\n",
    "        a, b = b, a  #序列解包，交换两个变量的值\n",
    "    print(a, b)"
   ]
  },
  {
   "cell_type": "markdown",
   "metadata": {},
   "source": [
    "<font face='kaiti' size=5 style='line-height:1.5'>\n",
    "\n",
    "3. try...except...finally...\n",
    "在这种结构中，无论try中的代码是否发生异常，也不管抛出的异常有没有被except语句捕获，finally子句中的代码总是会得到执行。该结构语法为：\n",
    "```python\n",
    "try:\n",
    "    #可能会引发异常的代码\n",
    "except Exception [ as reason]:\n",
    "    #处理异常的代码\n",
    "finally:\n",
    "    #无论try子句中的代码是否引发异常，都会执行这里的代码\n",
    "```\n",
    "\n",
    "&emsp;&emsp;finally中的代码常用来做一些清理工作，例如读写文件时，在finally中执行文件的关闭，但目前这一处理方法通常用with块代替。"
   ]
  },
  {
   "cell_type": "markdown",
   "metadata": {},
   "source": [
    "<font face='kaiti' size=5 style='line-height:1.5'>\n",
    "【例4】打开一个文件，对可能出现的异常给出处理，并回收资源。"
   ]
  },
  {
   "cell_type": "code",
   "execution_count": 30,
   "metadata": {},
   "outputs": [
    {
     "name": "stdout",
     "output_type": "stream",
     "text": [
      "No such file or directory\n",
      "<class 'AttributeError'>\n",
      "'NoneType' object has no attribute 'close'\n"
     ]
    }
   ],
   "source": [
    "import os\n",
    "f = None\n",
    "try:\n",
    "    f = open(\"a.txt\")\n",
    "except OSError as e:\n",
    "    print(e.strerror)    \n",
    "finally:\n",
    "    # 关闭磁盘文件，回收资源\n",
    "    try:            \n",
    "        f.close()# 关闭资源\n",
    "        print(\"执行finally块里的资源回收!\")\n",
    "    except Exception as ioe:\n",
    "        print(ioe)\n"
   ]
  },
  {
   "cell_type": "markdown",
   "metadata": {},
   "source": [
    "<font face='kaiti' size=5 style='line-height:1.5'>\n",
    "\n",
    "4. 可以捕捉多种异常的异常处理结构<br>\n",
    "```python\n",
    "try:\n",
    "    #业务实现代码\n",
    "except Exception1:\n",
    "    #异常处理块1\n",
    "except Exception2:\n",
    "    #异常处理块2\n",
    "# 更多的except块    \n",
    "else:\n",
    "    #正常处理块\n",
    "finally:\n",
    "    #资源回收块\n",
    "```\n",
    "\n",
    "&emsp;&emsp;上述处理结构中，只有try块是必需的，except 块和 finally 块都是可选的，但 except 块和 finally 块需至少出现其中之一，也可以同时出现。若同时出现，则finally块必须在except块之后。"
   ]
  },
  {
   "cell_type": "markdown",
   "metadata": {},
   "source": [
    "<font face='kaiti' size=5 style='line-height:1.5'>\n",
    "【例5】为正态分布概率密度函数添加异常处理，增加程序健壮性。"
   ]
  },
  {
   "cell_type": "code",
   "execution_count": 16,
   "metadata": {
    "scrolled": true
   },
   "outputs": [
    {
     "name": "stdout",
     "output_type": "stream",
     "text": [
      "<class 'ZeroDivisionError'> float division by zero\n",
      "None\n",
      "unsupported operand type(s) for -: 'float' and 'str'\n",
      "None\n",
      "unsupported operand type(s) for ** or pow(): 'str' and 'int'\n",
      "None\n",
      "too many values to unpack (expected 2)\n",
      "None\n",
      "0.13114657203397997\n",
      "-0.13114657203397997\n"
     ]
    },
    {
     "ename": "TypeError",
     "evalue": "normpdf() got an unexpected keyword argument 'mu'",
     "output_type": "error",
     "traceback": [
      "\u001b[1;31m---------------------------------------------------------------------------\u001b[0m",
      "\u001b[1;31mTypeError\u001b[0m                                 Traceback (most recent call last)",
      "\u001b[1;32m<ipython-input-16-0af9ef6e47ac>\u001b[0m in \u001b[0;36m<module>\u001b[1;34m()\u001b[0m\n\u001b[0;32m     39\u001b[0m \u001b[0mprint\u001b[0m\u001b[1;33m(\u001b[0m\u001b[0mnormpdf\u001b[0m\u001b[1;33m(\u001b[0m\u001b[1;36m1.5\u001b[0m\u001b[1;33m,\u001b[0m \u001b[1;36m2\u001b[0m\u001b[1;33m,\u001b[0m \u001b[1;36m3\u001b[0m\u001b[1;33m)\u001b[0m\u001b[1;33m)\u001b[0m  \u001b[1;31m# 正确的输入\u001b[0m\u001b[1;33m\u001b[0m\u001b[0m\n\u001b[0;32m     40\u001b[0m \u001b[0mprint\u001b[0m\u001b[1;33m(\u001b[0m\u001b[0mnormpdf\u001b[0m\u001b[1;33m(\u001b[0m\u001b[1;36m1.5\u001b[0m\u001b[1;33m,\u001b[0m \u001b[1;36m2\u001b[0m\u001b[1;33m,\u001b[0m \u001b[1;33m-\u001b[0m\u001b[1;36m3\u001b[0m\u001b[1;33m)\u001b[0m\u001b[1;33m)\u001b[0m  \u001b[1;31m# 输入的sigma有错，但不会引发异常\u001b[0m\u001b[1;33m\u001b[0m\u001b[0m\n\u001b[1;32m---> 41\u001b[1;33m \u001b[0mprint\u001b[0m\u001b[1;33m(\u001b[0m\u001b[0mnormpdf\u001b[0m\u001b[1;33m(\u001b[0m\u001b[1;36m1.5\u001b[0m\u001b[1;33m,\u001b[0m \u001b[0mmu\u001b[0m\u001b[1;33m=\u001b[0m\u001b[1;36m2\u001b[0m\u001b[1;33m)\u001b[0m\u001b[1;33m)\u001b[0m    \u001b[1;31m# 不能使用关键字参数，否则提示错误\u001b[0m\u001b[1;33m\u001b[0m\u001b[0m\n\u001b[0m",
      "\u001b[1;31mTypeError\u001b[0m: normpdf() got an unexpected keyword argument 'mu'"
     ]
    }
   ],
   "source": [
    "def normpdf(x, *p):\n",
    "    '''正态分布概率密度函数在点x处的函数值，\n",
    "    *p代表2个参数：均值mu默认取0.0，标准差sigma默认取1.0.'''\n",
    "\n",
    "    def parse(p):  # 内部函数，用于处理输入的可变参数*p\n",
    "        mu = 0.0\n",
    "        sigma = 1.0\n",
    "        t = len(p)\n",
    "        if t == 0:\n",
    "            return (mu, sigma)\n",
    "        elif t == 1:\n",
    "            return (p[0], sigma)\n",
    "        else:  # 如p的长度>=2，则原样返回\n",
    "            return (p)\n",
    "\n",
    "    args = parse(p)  # 先调用内部函数，获得mu和sigma\n",
    "    try:    \n",
    "        (mu, sigma) = parse(p)\n",
    "        from math import pi, e, sqrt\n",
    "        val = e**(-(x - mu)**2 / 2 / sigma**2) / sqrt(2 * pi) / sigma\n",
    "    except NameError as e:\n",
    "        print(e)\n",
    "    except TypeError as e:\n",
    "        print(e)\n",
    "    except ValueError as e:\n",
    "        print(e)\n",
    "    except Exception as e:\n",
    "        print(type(e), end=' ')\n",
    "        print(e)\n",
    "    else:\n",
    "        return val        \n",
    "\n",
    "\n",
    "print(normpdf(1.5, 0.0, 0.0))   # sigma = 0.0\n",
    "print(normpdf(1.5, '0.0'))\n",
    "p = [0.0, '1.0']\n",
    "print(normpdf(1.5, *p))\n",
    "print(normpdf(1.5, 2, 3, 1))  # 输入过多的参数\n",
    "print(normpdf(1.5, 2, 3))  # 正确的输入\n",
    "print(normpdf(1.5, 2, -3))  # 输入的sigma有错，但不会引发异常\n",
    "print(normpdf(1.5, mu=2))    # 不能使用关键字参数，否则提示错误\n",
    "print(normpdf(1.5, 2, 3))   # 正确的输入，但上一个语句引发的异常未被捕获，导致本行语句不能运行"
   ]
  },
  {
   "cell_type": "markdown",
   "metadata": {},
   "source": [
    "<font face='kaiti' size=5 style='line-height:1.5'>\n",
    "&emsp;&emsp;在上述的程序执行过程中，语句`print(normpdf(1.5, 0.0, 0.0))`已经引发了异常，但后面的几条语句仍能执行，说明异常处理能带来健壮性。注意，最后一条语句`print(normpdf(1.5, mu=2))`发生了语法错误，并没有将值传递到上面的函数中，不是在函数内部引发的异常，故这一异常未被捕获，后面的语句不再执行。"
   ]
  },
  {
   "cell_type": "markdown",
   "metadata": {},
   "source": [
    "### 主动引发异常<br>\n",
    "<font face='kaiti' size=5 style='line-height:1.5'>\n",
    "\n",
    "&emsp;&emsp;上述的异常处理结构能捕获异常，程序后面的语句仍能执行，增强了程序的健壮性。但有时这样的异常处理提供的提示信息不够具体，针对性不强。而且对一些不合理的取值并不能给出提示，如上述程序中对sigma不能小于0就不能给出提示。所以不能过分依赖异常处理，需结合项目本身的逻辑和实际含义对可能存在的问题给出对应的异常提示。Python中允许使用`raise`或`assert`语句主动引发异常。给异常处理带来更大的灵活和指向性。"
   ]
  },
  {
   "cell_type": "markdown",
   "metadata": {},
   "source": [
    "<font face='kaiti' size=5 style='line-height:1.5'>\n",
    "\n",
    "1. raise语句<br>\n",
    "&emsp;&emsp;raise语句的基本格式如下：\n",
    "```python\n",
    "raise 异常类名                 # 创建异常类的实例对象，并引发异常\n",
    "raise 异常类实例对象            # 引发异常类实例对象对应的异常\n",
    "raise                          # 重新引发刚刚发生的异常，向外传递异常\n",
    "raise 异常类名(指定描述信息）    # 由引发的异常类给出指定的描述信息\n",
    "```\n",
    "&emsp;&emsp;注：raise语句触发异常后，后面的代码就不会再执行。"
   ]
  },
  {
   "cell_type": "markdown",
   "metadata": {},
   "source": [
    "<font face='kaiti' size=5 style='line-height:1.5'>\n",
    "【例6】用raise语句为上述的正态分布概率密度函数引发异常。"
   ]
  },
  {
   "cell_type": "code",
   "execution_count": 23,
   "metadata": {},
   "outputs": [
    {
     "ename": "ValueError",
     "evalue": "标准差sigma必须为正数",
     "output_type": "error",
     "traceback": [
      "\u001b[1;31m---------------------------------------------------------------------------\u001b[0m",
      "\u001b[1;31mValueError\u001b[0m                                Traceback (most recent call last)",
      "\u001b[1;32m<ipython-input-23-083a9d9bf81d>\u001b[0m in \u001b[0;36m<module>\u001b[1;34m()\u001b[0m\n\u001b[0;32m     29\u001b[0m \u001b[1;33m\u001b[0m\u001b[0m\n\u001b[0;32m     30\u001b[0m \u001b[1;33m\u001b[0m\u001b[0m\n\u001b[1;32m---> 31\u001b[1;33m \u001b[0mprint\u001b[0m\u001b[1;33m(\u001b[0m\u001b[0mnormpdf\u001b[0m\u001b[1;33m(\u001b[0m\u001b[1;36m1.5\u001b[0m\u001b[1;33m,\u001b[0m \u001b[1;36m0.0\u001b[0m\u001b[1;33m,\u001b[0m \u001b[1;36m0.0\u001b[0m\u001b[1;33m)\u001b[0m\u001b[1;33m)\u001b[0m   \u001b[1;31m# sigma = 0.0\u001b[0m\u001b[1;33m\u001b[0m\u001b[0m\n\u001b[0m\u001b[0;32m     32\u001b[0m \u001b[0mprint\u001b[0m\u001b[1;33m(\u001b[0m\u001b[0mnormpdf\u001b[0m\u001b[1;33m(\u001b[0m\u001b[1;36m1.5\u001b[0m\u001b[1;33m,\u001b[0m \u001b[1;34m'0.0'\u001b[0m\u001b[1;33m)\u001b[0m\u001b[1;33m)\u001b[0m\u001b[1;33m\u001b[0m\u001b[0m\n\u001b[0;32m     33\u001b[0m \u001b[0mp\u001b[0m \u001b[1;33m=\u001b[0m \u001b[1;33m[\u001b[0m\u001b[1;36m0.0\u001b[0m\u001b[1;33m,\u001b[0m \u001b[1;34m'1.0'\u001b[0m\u001b[1;33m]\u001b[0m\u001b[1;33m\u001b[0m\u001b[0m\n",
      "\u001b[1;32m<ipython-input-23-083a9d9bf81d>\u001b[0m in \u001b[0;36mnormpdf\u001b[1;34m(x, *p)\u001b[0m\n\u001b[0;32m     23\u001b[0m             \u001b[1;32mraise\u001b[0m \u001b[0mTypeError\u001b[0m\u001b[1;33m(\u001b[0m\u001b[1;34m'参数mu和sigma必须是数字'\u001b[0m\u001b[1;33m)\u001b[0m\u001b[1;33m\u001b[0m\u001b[0m\n\u001b[0;32m     24\u001b[0m         \u001b[1;32melif\u001b[0m \u001b[0msigma\u001b[0m \u001b[1;33m<=\u001b[0m \u001b[1;36m0.0\u001b[0m\u001b[1;33m:\u001b[0m\u001b[1;33m\u001b[0m\u001b[0m\n\u001b[1;32m---> 25\u001b[1;33m             \u001b[1;32mraise\u001b[0m \u001b[0mValueError\u001b[0m\u001b[1;33m(\u001b[0m\u001b[1;34m'标准差sigma必须为正数'\u001b[0m\u001b[1;33m)\u001b[0m\u001b[1;33m\u001b[0m\u001b[0m\n\u001b[0m\u001b[0;32m     26\u001b[0m         \u001b[1;32melse\u001b[0m\u001b[1;33m:\u001b[0m\u001b[1;33m\u001b[0m\u001b[0m\n\u001b[0;32m     27\u001b[0m             \u001b[1;32mreturn\u001b[0m \u001b[0me\u001b[0m\u001b[1;33m**\u001b[0m\u001b[1;33m(\u001b[0m\u001b[1;33m-\u001b[0m\u001b[1;33m(\u001b[0m\u001b[0mx\u001b[0m \u001b[1;33m-\u001b[0m \u001b[0mmu\u001b[0m\u001b[1;33m)\u001b[0m\u001b[1;33m**\u001b[0m\u001b[1;36m2\u001b[0m \u001b[1;33m/\u001b[0m \u001b[1;36m2\u001b[0m \u001b[1;33m/\u001b[0m \u001b[0msigma\u001b[0m\u001b[1;33m**\u001b[0m\u001b[1;36m2\u001b[0m\u001b[1;33m)\u001b[0m \u001b[1;33m/\u001b[0m \u001b[0msqrt\u001b[0m\u001b[1;33m(\u001b[0m\u001b[1;36m2\u001b[0m \u001b[1;33m*\u001b[0m \u001b[0mpi\u001b[0m\u001b[1;33m)\u001b[0m \u001b[1;33m/\u001b[0m \u001b[0msigma\u001b[0m\u001b[1;33m\u001b[0m\u001b[0m\n",
      "\u001b[1;31mValueError\u001b[0m: 标准差sigma必须为正数"
     ]
    }
   ],
   "source": [
    "def normpdf(x, *p):\n",
    "    '''正态分布概率密度函数在点x处的函数值，\n",
    "    *p代表2个参数：均值mu默认取0.0，标准差sigma默认取1.0.'''\n",
    "\n",
    "    def parse(p):  # 内部函数，用于处理输入的可变参数*p\n",
    "        mu = 0.0\n",
    "        sigma = 1.0\n",
    "        t = len(p)\n",
    "        if t == 0:\n",
    "            return (mu, sigma)\n",
    "        elif t == 1:\n",
    "            return (p[0], sigma)\n",
    "        else:  # 如p的长度>=2，则原样返回\n",
    "            return (p)\n",
    "\n",
    "    args = parse(p)  # 先调用内部函数，获得mu和sigma\n",
    "    if len(args) > 2:\n",
    "        raise SyntaxError('输入参数错误，可变参数\"*p\"最多包含2个参数mu和sigma!')\n",
    "    else:\n",
    "        (mu, sigma) = args\n",
    "        from math import pi, e, sqrt        \n",
    "        if (type(mu) not in (int, float)) or (type(sigma) not in (int, float)):\n",
    "            raise TypeError('参数mu和sigma必须是数字')\n",
    "        elif sigma <= 0.0:\n",
    "            raise ValueError('标准差sigma必须为正数')\n",
    "        else:\n",
    "            return e**(-(x - mu)**2 / 2 / sigma**2) / sqrt(2 * pi) / sigma\n",
    "                \n",
    "\n",
    "\n",
    "print(normpdf(1.5, 0.0, 0.0))   # sigma = 0.0\n",
    "print(normpdf(1.5, '0.0'))\n",
    "p = [0.0, '1.0']\n",
    "print(normpdf(1.5, *p))\n",
    "print(normpdf(1.5, 2, 3, 1))  # 输入过多的参数\n",
    "print(normpdf(1.5, 2, 3))  # 正确的输入\n",
    "print(normpdf(1.5, 2, -3))  # 输入的sigma有错，但不会引发异常"
   ]
  },
  {
   "cell_type": "markdown",
   "metadata": {},
   "source": [
    "<font face='kaiti' size=5 style='line-height:1.5'>\n",
    "&emsp;&emsp;因为`raise`语句触发异常后，后面的代码就不会再执行。虽能指定要抛出的异常，但程序的健壮性不够。所以在实际使用时，通常结合`try...except...`语句使用。可在raise语句后用except捕获raise引发的异常，或在except语句捕获异常后再由raise语句抛出异常。"
   ]
  },
  {
   "cell_type": "markdown",
   "metadata": {},
   "source": [
    "<font face='kaiti' size=5 style='line-height:1.5'>\n",
    "【例7】用`raise`语句结合`try...except...`为上述的正态分布概率密度函数添加异常处理。"
   ]
  },
  {
   "cell_type": "code",
   "execution_count": 5,
   "metadata": {
    "scrolled": false
   },
   "outputs": [
    {
     "name": "stdout",
     "output_type": "stream",
     "text": [
      "<class 'ValueError'> 标准差sigma必须为正数\n",
      "None\n",
      "<class 'TypeError'> 参数mu和sigma必须是数字\n",
      "None\n",
      "<class 'TypeError'> 参数mu和sigma必须是数字\n",
      "None\n",
      "<class 'SyntaxError'> 输入参数错误，可变参数\"*p\"最多包含2个参数mu和sigma!\n",
      "None\n",
      "0.13114657203397997\n",
      "<class 'ValueError'> 标准差sigma必须为正数\n",
      "None\n"
     ]
    }
   ],
   "source": [
    "def normpdf(x, *p):\n",
    "    '''正态分布概率密度函数在点x处的函数值，\n",
    "    *p代表2个参数：均值mu默认取0.0，标准差sigma默认取1.0.'''\n",
    "\n",
    "    def parse(p):  # 内部函数，用于处理输入的可变参数*p\n",
    "        mu = 0.0\n",
    "        sigma = 1.0\n",
    "        t = len(p)\n",
    "        if t == 0:\n",
    "            return (mu, sigma)\n",
    "        elif t == 1:\n",
    "            return (p[0], sigma)\n",
    "        else:  # 如p的长度>=2，则原样返回\n",
    "            return (p)\n",
    "\n",
    "    args = parse(p)  # 先调用内部函数，获得mu和sigma\n",
    "    try:\n",
    "        if len(args) > 2:\n",
    "            raise SyntaxError('输入参数错误，可变参数\"*p\"最多包含2个参数mu和sigma!')   \n",
    "        else:\n",
    "            (mu, sigma) = args\n",
    "            from math import pi, e, sqrt        \n",
    "            if (type(mu) not in (int, float)) or (type(sigma) not in (int, float)):\n",
    "                raise TypeError('参数mu和sigma必须是数字')\n",
    "            elif sigma <= 0.0:\n",
    "                raise ValueError('标准差sigma必须为正数')\n",
    "            else:\n",
    "                return e**(-(x - mu)**2 / 2 / sigma**2) / sqrt(2 * pi) / sigma    \n",
    "    except Exception as err:\n",
    "        print('%s %s'%(type(err), err))            \n",
    "\n",
    "\n",
    "print(normpdf(1.5, 0.0, 0.0))   # sigma = 0.0\n",
    "print(normpdf(1.5, '0.0'))\n",
    "p = [0.0, '1.0']\n",
    "print(normpdf(1.5, *p))\n",
    "print(normpdf(1.5, 2, 3, 1))  # 输入过多的参数\n",
    "print(normpdf(1.5, 2, 3))  # 正确的输入\n",
    "print(normpdf(1.5, 2, -3))  # 输入负的sigma"
   ]
  },
  {
   "cell_type": "markdown",
   "metadata": {},
   "source": [
    "<font face='kaiti' size=5 style='line-height:1.5'>\n",
    "&emsp;&emsp;上述的例子中，raise引发的异常被except捕获，则引发异常后，后面的程序仍能运行，有很好地健壮性。"
   ]
  },
  {
   "cell_type": "markdown",
   "metadata": {},
   "source": [
    "<font face='kaiti' size=5 style='line-height:1.5'>\n",
    "\n",
    "2. assert<br>\n",
    "&emsp;&emsp;断言语句`assert`也是一种常用的技术，常用于在程序的某个位置确认某个条件必须满足。断言语句的语法是：\n",
    "```python  \n",
    " assert expression[, reason] \n",
    "```\n",
    " - 当判断表达式expression为真时，什么都不做；如果表达式为假，则抛出异常。 \n",
    " - assert语句抛出的异常也可以由except捕获，可将两者结合使用。\n",
    " - assert语句一般用于开发程序时对特定必须满足的条件进行验证，仅当脚本的__debug__为True时有效。一般只在开发和测试阶段使用。当Python脚本以-O选项编译为字节码文件时，assert语句将被移除以提高运行速度。"
   ]
  },
  {
   "cell_type": "markdown",
   "metadata": {},
   "source": [
    "<font face='kaiti' size=5 style='line-height:1.5'>\n",
    "【例8】用`assert`语句结合`try...except...`为上述的正态分布概率密度函数添加异常处理。"
   ]
  },
  {
   "cell_type": "code",
   "execution_count": 4,
   "metadata": {},
   "outputs": [
    {
     "name": "stdout",
     "output_type": "stream",
     "text": [
      "<class 'AssertionError'> 标准差sigma必须为正数\n",
      "None\n",
      "<class 'TypeError'> 参数mu和sigma必须是数字\n",
      "None\n",
      "<class 'TypeError'> 参数mu和sigma必须是数字\n",
      "None\n",
      "<class 'AssertionError'> 输入参数错误，可变参数\"*p\"最多包含2个参数mu和sigma!\n",
      "None\n",
      "0.13114657203397997\n",
      "<class 'AssertionError'> 标准差sigma必须为正数\n",
      "None\n"
     ]
    }
   ],
   "source": [
    "def normpdf(x, *p):\n",
    "    '''正态分布概率密度函数在点x处的函数值，\n",
    "    *p代表2个参数：均值mu默认取0.0，标准差sigma默认取1.0.'''\n",
    "\n",
    "    def parse(p):  # 内部函数，用于处理输入的可变参数*p\n",
    "        mu = 0.0\n",
    "        sigma = 1.0\n",
    "        t = len(p)\n",
    "        if t == 0:\n",
    "            return (mu, sigma)\n",
    "        elif t == 1:\n",
    "            return (p[0], sigma)\n",
    "        else:  # 如p的长度>=2，则原样返回\n",
    "            return (p)\n",
    "\n",
    "    args = parse(p)  # 先调用内部函数，获得mu和sigma\n",
    "    try:\n",
    "        assert len(args) <= 2, '输入参数错误，可变参数\"*p\"最多包含2个参数mu和sigma!'\n",
    "        (mu, sigma) = args\n",
    "        from math import pi, e, sqrt        \n",
    "        if (type(mu) not in (int, float)) or (type(sigma) not in (int, float)):\n",
    "            raise TypeError('参数mu和sigma必须是数字')\n",
    "        assert sigma > 0.0, '标准差sigma必须为正数'            \n",
    "    except Exception as err:\n",
    "        print('%s %s'%(type(err), err))       \n",
    "    else:\n",
    "        return e**(-(x - mu)**2 / 2 / sigma**2) / sqrt(2 * pi) / sigma                \n",
    "\n",
    "\n",
    "print(normpdf(1.5, 0.0, 0.0))   # sigma = 0.0\n",
    "print(normpdf(1.5, '0.0'))\n",
    "p = [0.0, '1.0']\n",
    "print(normpdf(1.5, *p))\n",
    "print(normpdf(1.5, 2, 3, 1))  # 输入过多的参数\n",
    "print(normpdf(1.5, 2, 3))  # 正确的输入\n",
    "print(normpdf(1.5, 2, -3))  # 输入负的sigma"
   ]
  },
  {
   "cell_type": "markdown",
   "metadata": {},
   "source": [
    "## 单元测试<br>\n",
    "<font face='kaiti' size=5 style='line-height:1.5'>\n",
    "    \n",
    "- 单元测试是保证模块质量的重要手段之一，通过单元测试来管理设计好的测试用例，不仅可以避免测试过程中人工反复输入可能引入的错误，还可以重复利用设计好的测试用例，具有很好的可扩展性，大幅度缩短代码的测试时间。\n",
    "- Python标准库unittest提供了大量用于单元测试的类和方法，其中最常用的是TestCase类。\n",
    "\n",
    "&emsp;&emsp;具体使用方法见教材P225. 11.2节"
   ]
  },
  {
   "cell_type": "markdown",
   "metadata": {},
   "source": [
    "## 小结<br>\n",
    "<font face='kaiti' size=5 style='line-height:1.5'>\n",
    "\n",
    "1. 计算机语言的初学者经常会遇到语法错误，随着对语言的熟悉会基本消除；\n",
    "2. 逻辑错误时编程中常见的问题，不能通过语法检查发现，只能通过自己对项目的逻辑分析和调试查错减少逻辑错误；\n",
    "3. 异常不是语法错误，通常也不是逻辑错误，是程序或软件使用过程中的异常数据或不规范操作或其他外部原因导致的错误；\n",
    "4. 软件开发者做好异常处理，可以为用户提供容错性和友好的提示。"
   ]
  },
  {
   "cell_type": "markdown",
   "metadata": {},
   "source": [
    "## 课后练习<br>\n",
    "<font face='kaiti' size=5 style='line-height:1.5'>\n",
    "\n",
    "1. 教材P229. 习题；\n",
    "2. 为第7次课自定义的矩阵类Mtx提供友好的异常处理；\n",
    "3. 为教材第6章定义的Person类及其派生类提供友好的异常处理。"
   ]
  },
  {
   "cell_type": "markdown",
   "metadata": {},
   "source": [
    "<font face='kaiti' size=5 style='line-height:1.5'>"
   ]
  }
 ],
 "metadata": {
  "kernelspec": {
   "display_name": "Python 3",
   "language": "python",
   "name": "python3"
  },
  "language_info": {
   "codemirror_mode": {
    "name": "ipython",
    "version": 3
   },
   "file_extension": ".py",
   "mimetype": "text/x-python",
   "name": "python",
   "nbconvert_exporter": "python",
   "pygments_lexer": "ipython3",
   "version": "3.7.3"
  },
  "latex_envs": {
   "LaTeX_envs_menu_present": true,
   "autoclose": false,
   "autocomplete": true,
   "bibliofile": "biblio.bib",
   "cite_by": "apalike",
   "current_citInitial": 1,
   "eqLabelWithNumbers": true,
   "eqNumInitial": 1,
   "hotkeys": {
    "equation": "Ctrl-E",
    "itemize": "Ctrl-I"
   },
   "labels_anchors": false,
   "latex_user_defs": false,
   "report_style_numbering": false,
   "user_envs_cfg": false
  },
  "toc": {
   "base_numbering": "11",
   "nav_menu": {},
   "number_sections": true,
   "sideBar": true,
   "skip_h1_title": false,
   "title_cell": "目录",
   "title_sidebar": "目录",
   "toc_cell": true,
   "toc_position": {},
   "toc_section_display": true,
   "toc_window_display": false
  }
 },
 "nbformat": 4,
 "nbformat_minor": 2
}
