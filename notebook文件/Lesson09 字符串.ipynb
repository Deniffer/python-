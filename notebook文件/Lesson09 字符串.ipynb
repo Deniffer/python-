{
 "cells": [
  {
   "cell_type": "markdown",
   "metadata": {
    "toc": true
   },
   "source": [
    "<h1>目录<span class=\"tocSkip\"></span></h1>\n",
    "<div class=\"toc\"><ul class=\"toc-item\"><li><span><a href=\"#文本处理（1）——字符串\" data-toc-modified-id=\"文本处理（1）——字符串-7\"><span class=\"toc-item-num\">7&nbsp;&nbsp;</span>文本处理（1）——字符串<br></a></span><ul class=\"toc-item\"><li><span><a href=\"#【字符串与字节串】\" data-toc-modified-id=\"【字符串与字节串】-7.1\"><span class=\"toc-item-num\">7.1&nbsp;&nbsp;</span>【字符串与字节串】<br></a></span></li><li><span><a href=\"#转义字符与原始字符串\" data-toc-modified-id=\"转义字符与原始字符串-7.2\"><span class=\"toc-item-num\">7.2&nbsp;&nbsp;</span>转义字符与原始字符串</a></span></li><li><span><a href=\"#字符串格式化\" data-toc-modified-id=\"字符串格式化-7.3\"><span class=\"toc-item-num\">7.3&nbsp;&nbsp;</span>字符串格式化<br></a></span><ul class=\"toc-item\"><li><span><a href=\"#使用%运算符进行格式化\" data-toc-modified-id=\"使用%运算符进行格式化-7.3.1\"><span class=\"toc-item-num\">7.3.1&nbsp;&nbsp;</span>使用%运算符进行格式化<br></a></span></li><li><span><a href=\"#使用format()方法进行格式化\" data-toc-modified-id=\"使用format()方法进行格式化-7.3.2\"><span class=\"toc-item-num\">7.3.2&nbsp;&nbsp;</span>使用format()方法进行格式化<br></a></span></li><li><span><a href=\"#f-string\" data-toc-modified-id=\"f-string-7.3.3\"><span class=\"toc-item-num\">7.3.3&nbsp;&nbsp;</span>f-string<br></a></span></li><li><span><a href=\"#Template模板进行格式化-\" data-toc-modified-id=\"Template模板进行格式化--7.3.4\"><span class=\"toc-item-num\">7.3.4&nbsp;&nbsp;</span>Template模板进行格式化 <br></a></span></li></ul></li><li><span><a href=\"#字符串常用操作\" data-toc-modified-id=\"字符串常用操作-7.4\"><span class=\"toc-item-num\">7.4&nbsp;&nbsp;</span>字符串常用操作<br></a></span><ul class=\"toc-item\"><li><span><a href=\"#查找操作-find()、rfind()、index()、rindex()、count()\" data-toc-modified-id=\"查找操作-find()、rfind()、index()、rindex()、count()-7.4.1\"><span class=\"toc-item-num\">7.4.1&nbsp;&nbsp;</span>查找操作 find()、rfind()、index()、rindex()、count()<br></a></span></li><li><span><a href=\"#字符串分隔-split()、rsplit()、partition()、rpartition()\" data-toc-modified-id=\"字符串分隔-split()、rsplit()、partition()、rpartition()-7.4.2\"><span class=\"toc-item-num\">7.4.2&nbsp;&nbsp;</span>字符串分隔 split()、rsplit()、partition()、rpartition()<br></a></span></li><li><span><a href=\"#字符串连接join()\" data-toc-modified-id=\"字符串连接join()-7.4.3\"><span class=\"toc-item-num\">7.4.3&nbsp;&nbsp;</span>字符串连接join()<br></a></span></li><li><span><a href=\"#大小写转换-lower()、upper()、capitalize()、title()、swapcase()\" data-toc-modified-id=\"大小写转换-lower()、upper()、capitalize()、title()、swapcase()-7.4.4\"><span class=\"toc-item-num\">7.4.4&nbsp;&nbsp;</span>大小写转换 lower()、upper()、capitalize()、title()、swapcase()<br></a></span></li><li><span><a href=\"#字符串替换-replace()、maketrans()、translate()\" data-toc-modified-id=\"字符串替换-replace()、maketrans()、translate()-7.4.5\"><span class=\"toc-item-num\">7.4.5&nbsp;&nbsp;</span>字符串替换 replace()、maketrans()、translate()<br></a></span></li><li><span><a href=\"#删除指定字符-strip()、rstrip()、lstrip()\" data-toc-modified-id=\"删除指定字符-strip()、rstrip()、lstrip()-7.4.6\"><span class=\"toc-item-num\">7.4.6&nbsp;&nbsp;</span>删除指定字符 strip()、rstrip()、lstrip()</a></span></li><li><span><a href=\"#字符串测试\" data-toc-modified-id=\"字符串测试-7.4.7\"><span class=\"toc-item-num\">7.4.7&nbsp;&nbsp;</span>字符串测试<br></a></span></li><li><span><a href=\"#字符串填充-center()、ljust()、rjust()、zfill()\" data-toc-modified-id=\"字符串填充-center()、ljust()、rjust()、zfill()-7.4.8\"><span class=\"toc-item-num\">7.4.8&nbsp;&nbsp;</span>字符串填充 center()、ljust()、rjust()、zfill()<br></a></span></li></ul></li><li><span><a href=\"#中英文分词\" data-toc-modified-id=\"中英文分词-7.5\"><span class=\"toc-item-num\">7.5&nbsp;&nbsp;</span>中英文分词<br></a></span></li><li><span><a href=\"#精彩案例\" data-toc-modified-id=\"精彩案例-7.6\"><span class=\"toc-item-num\">7.6&nbsp;&nbsp;</span>精彩案例<br></a></span></li><li><span><a href=\"#小结\" data-toc-modified-id=\"小结-7.7\"><span class=\"toc-item-num\">7.7&nbsp;&nbsp;</span>小结<br></a></span></li><li><span><a href=\"#课后练习\" data-toc-modified-id=\"课后练习-7.8\"><span class=\"toc-item-num\">7.8&nbsp;&nbsp;</span>课后练习</a></span></li></ul></li></ul></div>"
   ]
  },
  {
   "cell_type": "markdown",
   "metadata": {},
   "source": [
    "# 文本处理（1）——字符串<br>\n",
    "<font face='kaiti' size=5 style='line-height:1.5'>\n",
    "\n",
    "&emsp;&emsp;在Python中，字符串属于不可变有序序列，使用单引号、双引号、三单引号或三双引号作为定界符，并且不同的定界符之间可以互相嵌套。\n",
    "```python\n",
    "'abc'、'123'、'中国'\n",
    "\"Python\"\n",
    "'''Tom said,\"Let's go\"'''\n",
    "```\n",
    "- 除了支持序列通用方法（包括双向索引、比较大小、计算长度、元素访问、切片、成员测试等操作）以外，字符串类型还支持一些特有的操作方法，例如字符串格式化、查找、替换、排版等等。\n",
    "- 字符串属于不可变序列，不能直接对字符串对象进行元素增加、修改与删除等操作，切片操作也只能访问其中的元素而无法使用切片来修改字符串中的字符。\n",
    "- 字符串可以用运算符`+`进行连接，用运算符`*`进行复制，返回另一字符串。"
   ]
  },
  {
   "cell_type": "code",
   "execution_count": 43,
   "metadata": {},
   "outputs": [
    {
     "name": "stdout",
     "output_type": "stream",
     "text": [
      "Explicit\n",
      " is better than implicit.\n",
      "is better than\n"
     ]
    }
   ],
   "source": [
    "s = 'Explicit is better than implicit.'\n",
    "print(s[:8])\n",
    "print(s[8:])\n",
    "print(s[9:23])"
   ]
  },
  {
   "cell_type": "code",
   "execution_count": 46,
   "metadata": {},
   "outputs": [
    {
     "name": "stdout",
     "output_type": "stream",
     "text": [
      "goooooooogle\n"
     ]
    }
   ],
   "source": [
    "s1 = 'g' \n",
    "s2 = 'o'\n",
    "s3 = 'gle'\n",
    "print(s1 + s2*8 + s3)"
   ]
  },
  {
   "cell_type": "markdown",
   "metadata": {},
   "source": [
    "## 【字符串与字节串】<br>\n",
    "<font face='kaiti' size=5 style='line-height:1.5'>\n",
    "\n",
    "&emsp;&emsp;字符是指计算机中使用的文字和符号，用于人的阅读和书写。而在计算机中各种字符都需要用二进制编码方式表示，不同的文字有不同的编码方法，它们以字节的形式表示和存储。与此相对应的，Python中有字符串和字节串的概念。\n",
    "- 最早的字符串编码是美国标准信息交换码ASCII，仅对10个数字、26个大写英文字母、26个小写英文字母及一些其他符号进行了编码。ASCII码采用1个字节来对字符进行编码，最多只能表示256个符号。\n",
    "- GB2312是我国制定的中文编码，使用1个字节表示英语，2个字节表示中文；GBK是GB2312的扩充，而CP936是微软在GBK基础上开发的编码方式。GB2312、GBK和CP936都是使用2个字节表示中文。\n",
    "- 日本用于日文的编码是Shift_JIS，韩国把韩文编到Euc-kr里。\n",
    "- 不同编码格式之间相差很大，采用不同的编码格式意味着不同的表示和存储形式，若编码和解密的格式不匹配，将出现乱码。\n",
    "- Unicode把所有语言都统一到一套编码里，这样就不会再有乱码问题了。\n",
    "- UTF-8是一种针对Unicode的可变长度编码，比Unicode节省空间。以1个字节表示英语字符(兼容ASCII)，以3个字节表示中文，还有些语言的符号使用2个字节（例如俄语和希腊语符号）或4个字节。\n",
    "- Python的字符串类型是str，在内存中以Unicode表示，一个字符对应若干个字节。如果要在网络上传输，或者保存到磁盘上，就需要把str变为以字节为单位的字节串bytes，一般用UTF-8编码。Python对bytes类型的数据用带b前缀的单引号或双引号表示。\n",
    "- str类型字符串可以通过encode()方法使用指定的字符串编码格式编码成为bytes对象，而bytes对象则可以通过decode()方法使用指定编码格式解码成为str字符串。"
   ]
  },
  {
   "cell_type": "markdown",
   "metadata": {},
   "source": [
    "<font size=5>\n",
    "    \n",
    "```python\n",
    ">>> type('Hello world')                  #默认字符串类型为str\n",
    "<class 'str'>\n",
    ">>> type(b'Hello world')                 #在字符串前加上字母b表示字节串\n",
    "<class 'bytes'>\n",
    ">>> 'Hello world'.encode('utf8')         #使用utf8编码格式进行编码\n",
    "b'Hello world'\n",
    ">>> 'Hello world'.encode('gbk')          #使用gbk编码格式进行编码\n",
    "b'Hello world'\n",
    ">>> '广东海洋大学'.encode('utf8')         #对中文进行编码\n",
    "b'\\xe5\\xb9\\xbf\\xe4\\xb8\\x9c\\xe6\\xb5\\xb7\\xe6\\xb4\\x8b\\xe5\\xa4\\xa7\\xe5\\xad\\xa6'\n",
    ">>> \\_.decode('utf8')                     # 一个下划线表示最近一次的正确输出结果\n",
    "'广东海洋大学'\n",
    ">>> '广东海洋大学'.encode('gbk')\n",
    "b'\\xb9\\xe3\\xb6\\xab\\xba\\xa3\\xd1\\xf3\\xb4\\xf3\\xd1\\xa7'\n",
    ">>> \\_.decode('gbk')                      #对bytes字节串进行解码\n",
    "'广东海洋大学'\n",
    ">>> 'Python设计基础'.encode('utf8').decode('gbk')     # 编码和解码不一致\n",
    "Traceback (most recent call last):\n",
    "\n",
    "  File \"<ipython-input-70-d62f7be0ebf5>\", line 1, in <module>\n",
    "    'Python设计基础'.encode('utf8').decode('gbk')\n",
    "\n",
    "UnicodeDecodeError: 'gbk' codec can't decode byte 0xae in position 10: illegal multibyte sequence\n",
    "```"
   ]
  },
  {
   "cell_type": "markdown",
   "metadata": {},
   "source": [
    "<font face='kaiti' size=5 style='line-height:1.5'>\n",
    "&emsp;&emsp;Python3完全支持中文字符，默认使用UTF8编码格式，无论是一个数字、英文字母，还是一个汉字，在统计字符串长度时都按一个字符处理。Python3中甚至可以使用中文作为变量名、函数名等标识符。"
   ]
  },
  {
   "cell_type": "code",
   "execution_count": 1,
   "metadata": {
    "scrolled": true
   },
   "outputs": [
    {
     "data": {
      "text/plain": [
       "6"
      ]
     },
     "execution_count": 1,
     "metadata": {},
     "output_type": "execute_result"
    }
   ],
   "source": [
    "校名 = '广东海洋大学'\n",
    "len(校名)"
   ]
  },
  {
   "cell_type": "markdown",
   "metadata": {},
   "source": [
    "<font face='kaiti' size=5 style='line-height:1.5'>\n",
    "&emsp;&emsp;单个字符的Unicode编码可用内置函数ord()求得，而对应于Unicode编码的字符可由函数chr()求得。Unicode编码中，中英文有不同的范围。由此，可方便地将中英文混排的文档中的中英文分别提取出来。"
   ]
  },
  {
   "cell_type": "code",
   "execution_count": 2,
   "metadata": {},
   "outputs": [
    {
     "name": "stdout",
     "output_type": "stream",
     "text": [
      "['狗', '猫', '杯子', '桌子', '水果', '水']\n",
      "['dog', 'cat', 'cup', 'table', 'fruit', 'water']\n"
     ]
    }
   ],
   "source": [
    "s = '狗 dog 猫 cat 杯子 cup 桌子 table 水果 fruit 水 water'\n",
    "c = []  # 中文列表\n",
    "e = []  # 英文列表\n",
    "tc = ''  # 空字符串，用于临时存放连续的汉字\n",
    "te = ''  # 空字符串，用于临时存放连续的英文字符\n",
    "for ch in s:\n",
    "    if 'a' <= ch <= 'z' or 'A' <=ch <= 'Z':\n",
    "        te += ch\n",
    "        if tc:  # 当前为英文字符，tc非空表示前面读入的汉字尚未保存，需存放tc到c中\n",
    "            c.append(tc)\n",
    "            tc = ''   # 保存后，tc置为空\n",
    "    elif 0x4e00 <= ord(ch) <= 0x9fa5:    # 基本汉字Unicode编码范围\n",
    "        tc += ch\n",
    "        if te:  # te非空，则存放te到e中\n",
    "            e.append(te)\n",
    "            te = ''\n",
    "# 存放最后读入的连续汉字或英文字符\n",
    "if te:\n",
    "    e.append(te)\n",
    "elif tc:\n",
    "    c.append(tc)\n",
    "print(c)\n",
    "print(e)"
   ]
  },
  {
   "cell_type": "markdown",
   "metadata": {},
   "source": [
    "## 转义字符与原始字符串\n",
    "<font face='kaiti' size=5 style='line-height:1.5'>\n",
    "&emsp;&emsp;转义字符是在某个特定的符号前加一个`\\`后，表示另一个含义，不再表示原来的字符。如下表所示：\n",
    "    \n",
    "<center><font face='times' size=5> 表7-1 Python中常用的转义字符\n",
    "\n",
    "|<center><font size=4>转义字符|<center><font size=4>含义|<center><font size=4>转义字符|<center><font size=4>含义|\n",
    "|:--|:--|:--|:--|\n",
    "|<font size=4>`\\b`|<font size=4>退格，光标移动到前一列位置|<font size=4>`\\\\`|<font size=4>一个斜线|\n",
    "|<font size=4>`\\f`|<font size=4>换页符|<font size=4>`\\'`|<font size=4>单引号'|\n",
    "|<font size=4>`\\n`|<font size=4>换行符|<font size=4>`\\\"`|<font size=4>双引号\"|\n",
    "|<font size=4>`\\r`|<font size=4>回车|<font size=4>`\\ooo`|<font size=4>3位八进制数对应的字符|\n",
    "|<font size=4>`\\t`|<font size=4>水平制表符|<font size=4>`\\xhh`|<font size=4>2位十六进制数对应的字符|\n",
    "|<font size=4>`\\v`|<font size=4>垂直制表符|<font size=4>`\\uhhhh`|<font size=4>4位十六进制数表示的Unicode字符|"
   ]
  },
  {
   "cell_type": "code",
   "execution_count": 9,
   "metadata": {},
   "outputs": [
    {
     "name": "stdout",
     "output_type": "stream",
     "text": [
      "Hello\n",
      "World\n",
      "A\n",
      "A\n",
      "广东海洋大学\n"
     ]
    }
   ],
   "source": [
    "print('Hello\\nWorld')          #包含转义字符的字符串，\\n被当做换行符\n",
    "print('\\101')                  #三位八进制数对应的字符\n",
    "print('\\x41')                  #两位十六进制数对应的字符\n",
    "print('\\u5e7f\\u4e1c\\u6d77\\u6d0b\\u5927\\u5b66')  #四位十六进制数表示Unicode字符"
   ]
  },
  {
   "cell_type": "markdown",
   "metadata": {},
   "source": [
    "<font face='kaiti' size=5 style='line-height:1.5'>\n",
    "\n",
    "&emsp;&emsp;有时，字符串中存在`\\`，恰好形成了转义字符。为了避免不需要的转义，可在字符串前面加上字母r或R表示原始字符串，则字符串中所有字符都表示原始的含义而不会进行任何转义。"
   ]
  },
  {
   "cell_type": "code",
   "execution_count": 8,
   "metadata": {},
   "outputs": [
    {
     "name": "stdout",
     "output_type": "stream",
     "text": [
      "C:\\Windows\n",
      "otepad.exe\n",
      "C:\\Windows\\notepad.exe\n",
      "C:\\Windows\\notepad.exe\n"
     ]
    }
   ],
   "source": [
    "path = 'C:\\Windows\\notepad.exe'\n",
    "print(path)                       #字符\\n被转义为换行符\n",
    "path = 'C:\\\\Windows\\\\notepad.exe'  # '\\\\'被转义成'\\'\n",
    "print(path)\n",
    "path = r'C:\\Windows\\notepad.exe'  #原始字符串，任何字符都不转义\n",
    "print(path)"
   ]
  },
  {
   "cell_type": "markdown",
   "metadata": {},
   "source": [
    "## 字符串格式化<br>\n",
    "<font face='kaiti' size=5 style='line-height:1.5'>\n",
    "\n",
    "&emsp;&emsp;字符串的格式化用于按一定格式输出不同类型的数据，或者批量地规范化输出。\n",
    "- 使用%运算符进行格式化\n",
    "- 使用format方法进行格式化\n",
    "- f-string\n",
    "- Template模板进行格式化"
   ]
  },
  {
   "cell_type": "markdown",
   "metadata": {},
   "source": [
    "### 使用%运算符进行格式化<br>\n",
    "<font face='kaiti' size=5 style='line-height:1.5'>\n",
    "    \n",
    "<img src=\"format.png\" width=\"600\" height=\"400\" alt=\"字符串格式化\" align=center>\n",
    "\n",
    "&emsp;&emsp;Python支持大量的格式字符，见教材P153.表7-2 格式字符<br>\n",
    "&emsp;&emsp;使用这种方式进行字符串格式化时，要求被格式化的内容和格式字符之间必须一一对应。"
   ]
  },
  {
   "cell_type": "code",
   "execution_count": 8,
   "metadata": {
    "scrolled": false
   },
   "outputs": [
    {
     "name": "stdout",
     "output_type": "stream",
     "text": [
      "您尾号 3037 的账户 3月28日7时31分 消费支出人民币 1000.00 元，活期余额 3718.32 元。[建设银行]\n"
     ]
    }
   ],
   "source": [
    "account = 3037\n",
    "time = '3月28日7时31分'\n",
    "cost = 1000\n",
    "balance = 3718.32\n",
    "print('您尾号 %d 的账户 %s 消费支出人民币 %4.2f 元，活期余额 %4.2f 元。[建设银行]' %(account, time, cost, balance))"
   ]
  },
  {
   "cell_type": "markdown",
   "metadata": {},
   "source": [
    "### 使用format()方法进行格式化<br>\n",
    "<font face='kaiti' size=5 style='line-height:1.5'>\n",
    "\n",
    "&emsp;&emsp;format()方法不仅可以使用位置进行格式化，还支持使用关键字参数格式化，并支持序列解包。为程序员提供了极大地方便。"
   ]
  },
  {
   "cell_type": "code",
   "execution_count": 7,
   "metadata": {},
   "outputs": [
    {
     "name": "stdout",
     "output_type": "stream",
     "text": [
      "您尾号3037的账户3月28日7时31分消费支出人民币1000.00元，活期余额3718.32元。[建设银行]\n"
     ]
    }
   ],
   "source": [
    "account = 3037\n",
    "time = '3月28日7时31分'\n",
    "cost = 1000\n",
    "balance = 3718.32\n",
    "print('您尾号{0}的账户{1}消费支出人民币{2:4.2f}元，\\\n",
    "活期余额{3:4.2f}元。[建设银行]'.format(account, time, cost, balance))"
   ]
  },
  {
   "cell_type": "code",
   "execution_count": 6,
   "metadata": {},
   "outputs": [
    {
     "name": "stdout",
     "output_type": "stream",
     "text": [
      "您尾号3037的账户3月28日7时31分消费支出人民币1000.00元，活期余额3718.32元。[建设银行]\n"
     ]
    }
   ],
   "source": [
    "account = 3037\n",
    "time = '3月28日7时31分'\n",
    "print('您尾号{0}的账户{1}消费支出人民币{cost:4.2f}元，活期余额{balance}元。\\\n",
    "[建设银行]'.format(account, time, cost=1000, balance=3718.32))"
   ]
  },
  {
   "cell_type": "code",
   "execution_count": 5,
   "metadata": {},
   "outputs": [
    {
     "name": "stdout",
     "output_type": "stream",
     "text": [
      "您尾号3037的账户3月28日7时31分消费\\出人民币1000.00元，活期余额3718.32元。[建设银行]\n"
     ]
    }
   ],
   "source": [
    "detail = (3037, '3月28日7时31分', 1000, 3718.32)\n",
    "print('您尾号{0[0]}的账户{0[1]}消费\\出人民币{0[2]:4.2f}元，\\\n",
    "活期余额{0[3]:4.2f}元。[建设银行]'.format(detail))"
   ]
  },
  {
   "cell_type": "markdown",
   "metadata": {},
   "source": [
    "### f-string<br>\n",
    "<font face='kaiti' size=5 style='line-height:1.5'>\n",
    "\n",
    "&emsp;&emsp;从Python 3.6.x开始支持一种新的字符串格式化方式，官方叫做Formatted String Literals，在字符串前加字母f，含义与字符串对象format()方法类似，但形式更简洁。"
   ]
  },
  {
   "cell_type": "code",
   "execution_count": 4,
   "metadata": {},
   "outputs": [
    {
     "name": "stdout",
     "output_type": "stream",
     "text": [
      "您尾号3037的账户3月28日7时31分消费支出人民币1000.00元，活期余额3718.32元。[建设银行]\n",
      "您尾号3037的账户3月28日7时31分消费支出人民币1000.00元，活期余额3718.32元。[建设银行]\n"
     ]
    }
   ],
   "source": [
    "account = 3037\n",
    "time = '3月28日7时31分'\n",
    "cost = 1000\n",
    "balance = 3718.32\n",
    "print(f'您尾号{account}的账户{time}消费支出人民币{cost:4.2f}元，\\\n",
    "活期余额{balance:4.2f}元。[建设银行]')\n",
    "# f-string的多行形式\n",
    "s = f'您尾号{account}的账户{time}'\\\n",
    "    f'消费支出人民币{cost:4.2f}元，'\\\n",
    "    f'活期余额{balance:4.2f}元。[建设银行]'\n",
    "print(s)"
   ]
  },
  {
   "cell_type": "markdown",
   "metadata": {},
   "source": [
    "### Template模板进行格式化 <br>\n",
    "<font face='kaiti' size=5 style='line-height:1.5'>\n",
    "\n",
    "&emsp;&emsp;Python标准库string提供了用于字符串格式化的模板类Template，用字典进行值的传递，可用于大量信息的格式化。"
   ]
  },
  {
   "cell_type": "code",
   "execution_count": 3,
   "metadata": {},
   "outputs": [
    {
     "data": {
      "text/plain": [
       "'您尾号3037的账户3月28日7时31分消费支出人民币1000元，活期余额3718.32元。[建设银行]'"
      ]
     },
     "execution_count": 3,
     "metadata": {},
     "output_type": "execute_result"
    }
   ],
   "source": [
    "from string import Template\n",
    "t = Template('您尾号${account}的账户${time}消费支出人民币\\\n",
    "${cost}元，活期余额${balance}元。[建设银行]')\n",
    "detail = {'account' : 3037, 'time' :'3月28日7时31分',\\\n",
    "          'cost' : 1000, 'balance' : 3718.32}\n",
    "t.substitute(detail)"
   ]
  },
  {
   "cell_type": "markdown",
   "metadata": {},
   "source": [
    "## 字符串常用操作<br>\n",
    "<font face='kaiti' size=5 style='line-height:1.5'>\n",
    "\n",
    "- Python字符串对象提供了大量方法用于字符串的切分、连接、替换和排版等操作，另外还有大量内置函数和运算符也支持对字符串的操作。\n",
    "- 字符串对象是不可变的，所以字符串对象提供的涉及到字符串“修改”的方法都是返回修改后的新字符串，并不对原始字符串做任何修改。"
   ]
  },
  {
   "cell_type": "markdown",
   "metadata": {},
   "source": [
    "### 查找操作 find()、rfind()、index()、rindex()、count()<br>\n",
    "<font face='kaiti' size=5 style='line-height:1.5'>\n",
    "\n",
    "- find()和rfind方法分别用来查找一个字符串在另一个字符串指定范围（默认是整个字符串）中首次和最后一次出现的位置，如果不存在则返回-1；r表示查找最右边的。\n",
    "- index()和rindex()方法用来返回一个字符串在另一个字符串指定范围中首次和最后一次出现的位置，如果不存在则抛出异常；\n",
    "- count()方法用来返回一个字符串在当前字符串中出现的次数。"
   ]
  },
  {
   "cell_type": "markdown",
   "metadata": {},
   "source": [
    "<font face='times' size=5 style='line-height:1.5'>\n",
    "\n",
    "```python\n",
    ">>> s=\"apple,peach,banana,peach,pear\"\n",
    ">>> s.find(\"peach\")\n",
    "6\n",
    ">>> s.find(\"peach\",7)\n",
    "19\n",
    ">>> s.find(\"peach\",7,20)\n",
    "-1\n",
    ">>> s.rfind('p')\n",
    "25\n",
    ">>> s.index('p')\n",
    "1\n",
    ">>> s.index('pe')\n",
    "6\n",
    "```"
   ]
  },
  {
   "cell_type": "markdown",
   "metadata": {},
   "source": [
    "<font face='times' size=5 style='line-height:1.5'>\n",
    "\n",
    "```python\n",
    ">>> s=\"apple,peach,banana,peach,pear\"\n",
    ">>> s.index('pear')\n",
    "25\n",
    ">>> s.index('ppp')\n",
    "Traceback (most recent call last):\n",
    "  File \"<pyshell#11>\", line 1, in <module>\n",
    "    s.index('ppp')\n",
    "ValueError: substring not found\n",
    ">>> s.count('p')\n",
    "5\n",
    ">>> s.count('pp')\n",
    "1\n",
    ">>> s.count('ppp')\n",
    "0\n",
    "```"
   ]
  },
  {
   "cell_type": "markdown",
   "metadata": {},
   "source": [
    "### 字符串分隔 split()、rsplit()、partition()、rpartition()<br>\n",
    "<font face='kaiti' size=5 style='line-height:1.5'>\n",
    "\n",
    "- split()和rsplit()方法分别用来以指定字符为分隔符，把当前字符串从左往右或从右往左分隔成多个字符串，并返回包含分隔结果的列表；\n",
    "- partition()和rpartition()用来以指定字符串为分隔符将原字符串分隔为3部分，即分隔符前的字符串、分隔符字符串、分隔符后的字符串，如果指定的分隔符不在原字符串中，则返回原字符串和两个空字符串。"
   ]
  },
  {
   "cell_type": "markdown",
   "metadata": {},
   "source": [
    "<font face='times' size=5 style='line-height:1.5'>\n",
    "\n",
    "```python\n",
    ">>> s = \"apple,peach,banana,pear\"\n",
    ">>> s.split(\",\")\n",
    "[\"apple\", \"peach\", \"banana\", \"pear\"]\n",
    ">>> s.partition(',')\n",
    "('apple', ',', 'peach,banana,pear')\n",
    ">>> s.rpartition(',')\n",
    "('apple,peach,banana', ',', 'pear')\n",
    ">>> s.rpartition('banana')\n",
    "('apple,peach,', 'banana', ',pear')\n",
    ">>> s = \"2017-10-31\"\n",
    ">>> t = s.split(\"-\")\n",
    ">>> print(t)\n",
    "['2017', '10', '31']\n",
    ">>> print(list(map(int, t)))\n",
    "[2017, 10, 31]\n",
    "```"
   ]
  },
  {
   "cell_type": "markdown",
   "metadata": {},
   "source": [
    "<font face='times' size=5 style='line-height:1.5'>\n",
    "\n",
    "- split()和rsplit()方法还允许指定最大分割次数。\n",
    "\n",
    "```python\n",
    ">>> s = '\\n\\nhello\\t\\t world \\n\\n\\n My name is Dong   '\n",
    ">>> s.split(None, 1)\n",
    "['hello', 'world \\n\\n\\n My name is Dong   ']\n",
    ">>> s.rsplit(None, 2)\n",
    "['\\n\\nhello\\t\\t world \\n\\n\\n My name', 'is', 'Dong']\n",
    ">>> s.split(maxsplit=6)\n",
    "['hello', 'world', 'My', 'name', 'is', 'Dong']\n",
    ">>> s.split(maxsplit=100)     #最大分隔次数大于可分隔次数时无效\n",
    "['hello', 'world', 'My', 'name', 'is', 'Dong']\n",
    "```\n",
    "- 对于split()和rsplit()方法，如果不指定分隔符，则字符串中的任何空白符号（空格、换行符、制表符等）都将被认为是分隔符，把连续多个空白字符看作一个分隔符。\n",
    "```python\n",
    ">>> s = 'hello world \\n\\n My name is Dong   '\n",
    ">>> s.split()\n",
    "['hello', 'world', 'My', 'name', 'is', 'Dong']\n",
    ">>> s = '\\n\\nhello world \\n\\n\\n My name is Dong   '\n",
    ">>> s.split()\n",
    "['hello', 'world', 'My', 'name', 'is', 'Dong']\n",
    ">>> s = '\\n\\nhello\\t\\t world \\n\\n\\n My name\\t is Dong   '\n",
    ">>> s.split()\n",
    "['hello', 'world', 'My', 'name', 'is', 'Dong']\n",
    "```"
   ]
  },
  {
   "cell_type": "markdown",
   "metadata": {},
   "source": [
    "### 字符串连接join()<br>\n",
    "\n",
    "<font face='times' size=5 style='line-height:1.5'>\n",
    "\n",
    "```python\n",
    ">>> fruit = [\"apple\", \"peach\", \"banana\", \"pear\"]\n",
    ">>> ''.join(fruit)\n",
    "'applepeachbananapear'\n",
    ">>> ','.join(fruit)\n",
    "'apple,peach,banana,pear'\n",
    ">>> '.'.join(fruit)\n",
    "'apple.peach.banana.pear'\n",
    ">>> '::'.join(fruit)\n",
    "'apple::peach::banana::pear'\n",
    "```\n"
   ]
  },
  {
   "cell_type": "markdown",
   "metadata": {},
   "source": [
    "### 大小写转换 lower()、upper()、capitalize()、title()、swapcase()<br>\n",
    "<font face='times' size=5 style='line-height:1.5'>\n",
    "\n",
    "```python\n",
    ">>> s = \"What is Your Name?\"\n",
    ">>> s.lower()                   #返回小写字符串\n",
    "'what is your name?'\n",
    ">>> s.upper()                   #返回大写字符串\n",
    "'WHAT IS YOUR NAME?'\n",
    ">>> s.capitalize()              #字符串首字符大写\n",
    "'What is your name?'\n",
    ">>> s.title()                   #每个单词的首字母大写\n",
    "'What Is Your Name?'\n",
    ">>> s.swapcase()                #大小写互换\n",
    "'wHAT IS yOUR nAME?'\n",
    "```"
   ]
  },
  {
   "cell_type": "markdown",
   "metadata": {},
   "source": [
    "### 字符串替换 replace()、maketrans()、translate()<br>\n",
    "<font face='kaiti' size=5 style='line-height:1.5'>\n",
    "\n",
    "&emsp;&emsp;查找替换replace()，类似于Word中的“全部替换”功能。"
   ]
  },
  {
   "cell_type": "code",
   "execution_count": 28,
   "metadata": {},
   "outputs": [
    {
     "name": "stdout",
     "output_type": "stream",
     "text": [
      "中国，中国\n",
      "中华人民共和国，中华人民共和国\n"
     ]
    }
   ],
   "source": [
    "s = \"中国，中国\"\n",
    "print(s)\n",
    "s2 = s.replace(\"中国\", \"中华人民共和国\")  \n",
    "print(s2)"
   ]
  },
  {
   "cell_type": "markdown",
   "metadata": {},
   "source": [
    "### 删除指定字符 strip()、rstrip()、lstrip()\n",
    "<font face='times' size=5 style='line-height:1.5'>\n",
    "\n",
    "```python\n",
    ">>> s = \" abc  \"\n",
    ">>> s.strip()                             #删除空白字符\n",
    "'abc'\n",
    ">>> '\\n\\nhello world   \\n\\n'.strip()      #删除空白字符\n",
    "'hello world'\n",
    ">>> \"aaaassddf\".strip(\"a\")                #删除指定字符\n",
    "'ssddf'\n",
    ">>> \"aaaassddf\".strip(\"af\")\n",
    "'ssdd'\n",
    ">>> \"aaaassddfaaa\".rstrip(\"a\")            #删除字符串右端指定字符\n",
    "'aaaassddf'\n",
    ">>> \"aaaassddfaaa\".lstrip(\"a\")            #删除字符串左端指定字符\n",
    "'ssddfaaa'\n",
    "```"
   ]
  },
  {
   "cell_type": "markdown",
   "metadata": {},
   "source": [
    "### 字符串测试<br>\n",
    "<font face='kaiti' size=5 style='line-height:1.5'>\n",
    "    \n",
    "- isalnum()、isalpha()、isdigit()、isdecimal()、isnumeric()、isspace()、isupper()、islower()，用来测试字符串是否为数字或字母、是否为字母、是否为数字字符、是否为空白字符、是否为大写字母以及是否为小写字母。\n",
    "\n",
    "```python\n",
    "\n",
    ">>> '1234abcd'.isalnum()\n",
    "True\n",
    ">>> '1234abcd'.isalpha()         #全部为英文字母时返回True\n",
    "False\n",
    ">>> '1234abcd'.isdigit()         #全部为数字时返回True\n",
    "False\n",
    ">>> 'abcd'.isalpha()\n",
    "True\n",
    ">>> '1234.0'.isdigit()\n",
    "False\n",
    ">>> '1234'.isdigit()\n",
    "True\n",
    ">>> '九'.isnumeric()              #isnumeric()方法支持汉字数字\n",
    "True\n",
    ">>> '九'.isdigit()\n",
    "False\n",
    ">>> '九'.isdecimal()\n",
    "False\n",
    ">>> 'ⅣⅢⅩ'.isdecimal()\n",
    "False\n",
    ">>> 'ⅣⅢⅩ'.isdigit()\n",
    "False\n",
    ">>> 'ⅣⅢⅩ'.isnumeric()          #支持罗马数字\n",
    "True\n",
    "```"
   ]
  },
  {
   "cell_type": "markdown",
   "metadata": {},
   "source": [
    "### 字符串填充 center()、ljust()、rjust()、zfill()<br>\n",
    "<font face='kaiti' size=5 style='line-height:1.5'>\n",
    "\n",
    "- center()、ljust()、rjust()，返回指定宽度的新字符串，原字符串居中、左对齐或右对齐出现在新字符串中，如果指定宽度大于字符串长度，则使用指定的字符（默认为空格）进行填充。zfill()返回指定宽度的字符串，在左侧以字符0进行填充。\n",
    "```python\n",
    ">>> 'Hello world!'.center(20)        #居中对齐，以空格进行填充\n",
    "'    Hello world!    '\n",
    ">>> 'Hello world!'.center(20, '=')   #居中对齐，以字符=进行填充\n",
    "'====Hello world!===='\n",
    ">>> 'Hello world!'.ljust(20, '=')    #左对齐\n",
    "'Hello world!========'\n",
    ">>> 'Hello world!'.rjust(20, '=')    #右对齐\n",
    "'========Hello world!'\n",
    "```"
   ]
  },
  {
   "cell_type": "markdown",
   "metadata": {},
   "source": [
    "## 中英文分词<br>\n",
    "<font face='kaiti' size=5 style='line-height:1.5'>\n",
    "    \n",
    "&emsp;&emsp;在自然语言处理领域，经常需要对文本进行分词，分词的准确度直接影响后续文本分析的效果。英文的分词根据分隔符即可很好地完成，而中文的分词就复杂得多。Python扩展库jieba和snownlp能很好地支持中英文分词，是常用的分词工具。<p>\n",
    "&emsp;&emsp;jieba库没有包含在Anconda套装中，需自己下载使用。如果使用的Python不是来自Anaconda，可直接用`pip install jieba`下载，若使用Anaconda，则下载命令是`conda install -c conda-forge jieba`."
   ]
  },
  {
   "cell_type": "code",
   "execution_count": 30,
   "metadata": {},
   "outputs": [
    {
     "name": "stdout",
     "output_type": "stream",
     "text": [
      "['在', '自然语言', '处理', '领域', '，', '经常', '需要', '对', '文本', '进行', '分词', '，', '，', '，', '分词', '的', '准确度', '直接', '影响', '后续', '文本', '分析', '的', '效果', '。', 'Python', '扩展', '库', 'jieba', '和', 'snownlp', '能', '很', '好', '地', '支持', '中英文', '分词', '，', '是', '常用', '的', '分词', '工具', '。']\n",
      "去除标点符号后：\n",
      "['在', '自然语言', '处理', '领域', '经常', '需要', '对', '文本', '进行', '分词', '分词', '的', '准确度', '直接', '影响', '后续', '文本', '分析', '的', '效果', 'Python', '扩展', '库', 'jieba', '和', 'snownlp', '能', '很', '好', '地', '支持', '中英文', '分词', '是', '常用', '的', '分词', '工具']\n"
     ]
    }
   ],
   "source": [
    "import jieba\n",
    "s = '在自然语言处理领域，经常需要对文本进行分词，，，\\\n",
    "分词的准确度直接影响后续文本分析的效果。\\\n",
    "Python扩展库jieba和snownlp能很好地支持\\\n",
    "中英文分词，是常用的分词工具。'\n",
    "s_cut = jieba.lcut(s)\n",
    "print(s_cut)\n",
    "# 以下去除标点符号\n",
    "lens = len(s_cut)\n",
    "k = 0\n",
    "while k < lens:    \n",
    "    if s_cut[k] in ['，', '。']:\n",
    "        s_cut.pop(k)\n",
    "        lens -=1\n",
    "    else:\n",
    "        k += 1\n",
    "print('去除标点符号后：')\n",
    "print(s_cut)"
   ]
  },
  {
   "cell_type": "markdown",
   "metadata": {},
   "source": [
    "## 精彩案例<br>\n",
    "<font face='kaiti' size=5 style='line-height:1.5'>\n",
    "\n",
    "【例】对《瓦尔登湖》分词求词频，然后用词云显示"
   ]
  },
  {
   "cell_type": "markdown",
   "metadata": {},
   "source": [
    "<font face='kaiti' size=5 style='line-height:1.5'>\n",
    "&emsp;&emsp;注：这里需要使用的wordcloud库没有包含在Anaconda套装中，需自己下载，下载方法类似jieba库。"
   ]
  },
  {
   "cell_type": "code",
   "execution_count": 1,
   "metadata": {},
   "outputs": [
    {
     "data": {
      "image/png": "[encoded data removed]",
      "text/plain": [
       "<Figure size 864x864 with 1 Axes>"
      ]
     },
     "metadata": {},
     "output_type": "display_data"
    }
   ],
   "source": [
    "# 读取《瓦尔登湖》，分词求词频，以图形显示\n",
    "\n",
    "# 文件读取\n",
    "with open('Walden.txt','r') as f:\n",
    "    txt = f.read()\n",
    "# 数据预处理\n",
    "txt.lower()  # 全部变成小写字母\n",
    "import re  # 正则表达式\n",
    "words = re.split(r'[\\s\\,\\;\\?\\!\\.\\'\\:\\\"]+', txt)   # 分词\n",
    "# 词频统计\n",
    "all_word = set(words) # 变成集合\n",
    "freq = {word: words.count(word) for word in all_word}\n",
    "# 绘制词云\n",
    "%matplotlib inline\n",
    "from wordcloud import WordCloud\n",
    "import matplotlib.pyplot as plt\n",
    "import numpy as np\n",
    "from PIL import Image\n",
    "\n",
    "# 轮廓图片\n",
    "pic = Image.open('deng.jpg')\n",
    "# 像素矩阵\n",
    "pic2 = np.array(pic)\n",
    "wc = WordCloud(background_color='white',mask=pic2)\n",
    "wc.generate_from_frequencies(freq)\n",
    "plt.figure(figsize=(12,12))\n",
    "plt.imshow(wc)\n",
    "plt.axis('off')\n",
    "plt.show()"
   ]
  },
  {
   "cell_type": "markdown",
   "metadata": {},
   "source": [
    "## 小结<br>\n",
    "<font face='kaiti' size=5 style='line-height:1.5'>\n",
    "    \n",
    "1. Python中存在字符串和字节串两种不同的文本格式；\n",
    "2. 字符串的不同编码相差很大，编码和解码必须一致；\n",
    "3. 字符串的格式化输出有多种方法，允许多种类型数据以字符串形式输出；\n",
    "4. 字符串是不可变序列，支持双向索引、切片等访问，但不能增删修改；\n",
    "5. 字符串本身提供了大量功能强大的方法，还有一些Python运算符和内置函数也支持对字符串操作。"
   ]
  },
  {
   "cell_type": "markdown",
   "metadata": {},
   "source": [
    "## 课后练习\n",
    "<font face='kaiti' size=5 style='line-height:1.5'>\n",
    "教材P173. 习题"
   ]
  },
  {
   "cell_type": "code",
   "execution_count": null,
   "metadata": {},
   "outputs": [],
   "source": []
  }
 ],
 "metadata": {
  "kernelspec": {
   "display_name": "Python 3",
   "language": "python",
   "name": "python3"
  },
  "language_info": {
   "codemirror_mode": {
    "name": "ipython",
    "version": 3
   },
   "file_extension": ".py",
   "mimetype": "text/x-python",
   "name": "python",
   "nbconvert_exporter": "python",
   "pygments_lexer": "ipython3",
   "version": "3.7.3"
  },
  "latex_envs": {
   "LaTeX_envs_menu_present": true,
   "autoclose": false,
   "autocomplete": true,
   "bibliofile": "biblio.bib",
   "cite_by": "apalike",
   "current_citInitial": 1,
   "eqLabelWithNumbers": true,
   "eqNumInitial": 1,
   "hotkeys": {
    "equation": "Ctrl-E",
    "itemize": "Ctrl-I"
   },
   "labels_anchors": false,
   "latex_user_defs": false,
   "report_style_numbering": false,
   "user_envs_cfg": false
  },
  "toc": {
   "base_numbering": "7",
   "nav_menu": {},
   "number_sections": true,
   "sideBar": true,
   "skip_h1_title": false,
   "title_cell": "目录",
   "title_sidebar": "目录",
   "toc_cell": true,
   "toc_position": {},
   "toc_section_display": true,
   "toc_window_display": false
  }
 },
 "nbformat": 4,
 "nbformat_minor": 2
}
