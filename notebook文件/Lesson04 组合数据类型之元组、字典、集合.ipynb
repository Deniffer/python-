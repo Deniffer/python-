{
 "cells": [
  {
   "cell_type": "markdown",
   "metadata": {
    "toc": true
   },
   "source": [
    "<h1>目录<span class=\"tocSkip\"></span></h1>\n",
    "<div class=\"toc\"><ul class=\"toc-item\"><li><span><a href=\"#元组、字典、集合\" data-toc-modified-id=\"元组、字典、集合-3\"><span class=\"toc-item-num\">3&nbsp;&nbsp;</span>元组、字典、集合</a></span><ul class=\"toc-item\"><li><span><a href=\"#列表\" data-toc-modified-id=\"列表-3.1\"><span class=\"toc-item-num\">3.1&nbsp;&nbsp;</span><a href=\"Lesson03 组合数据类型之列表.ipynb\" target=\"_blank\">列表</a></a></span></li><li><span><a href=\"#元组：-只读列表\" data-toc-modified-id=\"元组：-只读列表-3.2\"><span class=\"toc-item-num\">3.2&nbsp;&nbsp;</span>元组： 只读列表</a></span><ul class=\"toc-item\"><li><span><a href=\"#元组创建与元素访问\" data-toc-modified-id=\"元组创建与元素访问-3.2.1\"><span class=\"toc-item-num\">3.2.1&nbsp;&nbsp;</span>元组创建与元素访问</a></span></li><li><span><a href=\"#元组与列表的异同\" data-toc-modified-id=\"元组与列表的异同-3.2.2\"><span class=\"toc-item-num\">3.2.2&nbsp;&nbsp;</span>元组与列表的异同</a></span></li><li><span><a href=\"#【生成器推导式】\" data-toc-modified-id=\"【生成器推导式】-3.2.3\"><span class=\"toc-item-num\">3.2.3&nbsp;&nbsp;</span>【生成器推导式】</a></span></li></ul></li><li><span><a href=\"#字典\" data-toc-modified-id=\"字典-3.3\"><span class=\"toc-item-num\">3.3&nbsp;&nbsp;</span>字典</a></span><ul class=\"toc-item\"><li><span><a href=\"#字典的创建与删除\" data-toc-modified-id=\"字典的创建与删除-3.3.1\"><span class=\"toc-item-num\">3.3.1&nbsp;&nbsp;</span>字典的创建与删除</a></span></li><li><span><a href=\"#字典元素的访问\" data-toc-modified-id=\"字典元素的访问-3.3.2\"><span class=\"toc-item-num\">3.3.2&nbsp;&nbsp;</span>字典元素的访问</a></span></li><li><span><a href=\"#字典元素添加、修改与删除\" data-toc-modified-id=\"字典元素添加、修改与删除-3.3.3\"><span class=\"toc-item-num\">3.3.3&nbsp;&nbsp;</span>字典元素添加、修改与删除</a></span></li><li><span><a href=\"#【标准库collections中与字典有关的类】\" data-toc-modified-id=\"【标准库collections中与字典有关的类】-3.3.4\"><span class=\"toc-item-num\">3.3.4&nbsp;&nbsp;</span>【标准库collections中与字典有关的类】</a></span></li></ul></li><li><span><a href=\"#集合\" data-toc-modified-id=\"集合-3.4\"><span class=\"toc-item-num\">3.4&nbsp;&nbsp;</span>集合</a></span><ul class=\"toc-item\"><li><span><a href=\"#集合对象的创建与删除\" data-toc-modified-id=\"集合对象的创建与删除-3.4.1\"><span class=\"toc-item-num\">3.4.1&nbsp;&nbsp;</span>集合对象的创建与删除</a></span></li><li><span><a href=\"#集合操作与运算\" data-toc-modified-id=\"集合操作与运算-3.4.2\"><span class=\"toc-item-num\">3.4.2&nbsp;&nbsp;</span>集合操作与运算</a></span></li><li><span><a href=\"#【集合应用案例】\" data-toc-modified-id=\"【集合应用案例】-3.4.3\"><span class=\"toc-item-num\">3.4.3&nbsp;&nbsp;</span>【集合应用案例】</a></span></li></ul></li><li><span><a href=\"#序列解包的多种形式和用法\" data-toc-modified-id=\"序列解包的多种形式和用法-3.5\"><span class=\"toc-item-num\">3.5&nbsp;&nbsp;</span>序列解包的多种形式和用法</a></span></li><li><span><a href=\"#小结\" data-toc-modified-id=\"小结-3.6\"><span class=\"toc-item-num\">3.6&nbsp;&nbsp;</span>小结</a></span></li><li><span><a href=\"#练习\" data-toc-modified-id=\"练习-3.7\"><span class=\"toc-item-num\">3.7&nbsp;&nbsp;</span>练习</a></span></li></ul></li></ul></div>"
   ]
  },
  {
   "cell_type": "markdown",
   "metadata": {},
   "source": [
    "# 元组、字典、集合"
   ]
  },
  {
   "cell_type": "markdown",
   "metadata": {},
   "source": [
    "## [列表](Lesson03 组合数据类型之列表.ipynb)"
   ]
  },
  {
   "cell_type": "markdown",
   "metadata": {},
   "source": [
    "## 元组： 只读列表\n",
    "<font face='kaiti' size=5 style='line-height:1.5'>\n",
    "    \n",
    "&emsp; 列表的功能很强大，能增删任意类型的元素，使用极为方便，但在很大程度上会影响运行效率，在传递数据时也不安全。有时候我们需要一个可顺序访问的不可变的序列，以保证传递数据的安全，这样的序列并不需要有对元素增删改的功能，元组（tuple）正是这样一种类型。"
   ]
  },
  {
   "cell_type": "markdown",
   "metadata": {},
   "source": [
    "### 元组创建与元素访问\n",
    "<font face='kaiti' size=5 style='line-height:1.5'>\n",
    "    \n",
    "- 元组可以直接赋值产生。从形式上，元组的所有元素放在一对圆括号( )中，元素之间使用逗号分隔，如果元组中只有一个元素则必须在最后增加一个逗号。\n",
    "- 元组也可以通过内置函数tuple()产生。\n",
    "- 元组和列表一样，都有双向索引。通过`元组名[索引]`或`元组名[切片]`访问元组元素。"
   ]
  },
  {
   "cell_type": "code",
   "execution_count": 1,
   "metadata": {},
   "outputs": [
    {
     "data": {
      "text/plain": [
       "tuple"
      ]
     },
     "execution_count": 1,
     "metadata": {},
     "output_type": "execute_result"
    }
   ],
   "source": [
    "day = ('Sun', 'Mon', 'Tues', 'Wed', 'Thur', 'Fri', 'Sat')       #直接把元组赋值给一个变量\n",
    "type(day)             #使用type()函数查看变量类型"
   ]
  },
  {
   "cell_type": "code",
   "execution_count": 4,
   "metadata": {},
   "outputs": [
    {
     "data": {
      "text/plain": [
       "tuple"
      ]
     },
     "execution_count": 4,
     "metadata": {},
     "output_type": "execute_result"
    }
   ],
   "source": [
    "x = (3,)            #如果元组中只有一个元素，必须在后面多写一个逗号\n",
    "type(x)"
   ]
  },
  {
   "cell_type": "code",
   "execution_count": 3,
   "metadata": {},
   "outputs": [
    {
     "data": {
      "text/plain": [
       "int"
      ]
     },
     "execution_count": 3,
     "metadata": {},
     "output_type": "execute_result"
    }
   ],
   "source": [
    "x = (3)             #这和x = 3是一样的\n",
    "type(x)"
   ]
  },
  {
   "cell_type": "code",
   "execution_count": null,
   "metadata": {},
   "outputs": [],
   "source": [
    "x = ()               # 空元组\n",
    "x = tuple()          # 空元组"
   ]
  },
  {
   "cell_type": "code",
   "execution_count": 10,
   "metadata": {},
   "outputs": [
    {
     "name": "stdout",
     "output_type": "stream",
     "text": [
      "(0, 1, 2, 3, 4, 5, 6, 7, 8, 9)\n",
      "3\n",
      "8\n",
      "(1, 2, 3)\n",
      "(3, 4, 5, 6)\n"
     ]
    }
   ],
   "source": [
    "x = tuple(range(10))     # 将其他迭代对象转换为元组\n",
    "print(x)\n",
    "print(x[3])              # 正向索引访问\n",
    "print(x[-2])             # 反向索引访问\n",
    "print(x[1:4])            # 切片访问\n",
    "print(x[3:-3])           # 切片访问"
   ]
  },
  {
   "cell_type": "markdown",
   "metadata": {},
   "source": [
    "<font face='kaiti' size=5 style='line-height:1.5'>\n",
    "    \n",
    "&emsp; 除了上面的方法可以直接创建元组之外，很多内置函数的返回值也是包含了若干元组的可迭代对象，如enumerate()、zip()等。"
   ]
  },
  {
   "cell_type": "code",
   "execution_count": 11,
   "metadata": {
    "scrolled": true
   },
   "outputs": [
    {
     "data": {
      "text/plain": [
       "((1, 'Jan'),\n",
       " (2, 'Feb'),\n",
       " (3, 'Mar'),\n",
       " (4, 'Apr'),\n",
       " (5, 'May'),\n",
       " (6, 'Jun'),\n",
       " (7, 'Jul'),\n",
       " (8, 'Aug'),\n",
       " (9, 'Sept'),\n",
       " (10, 'Oct'),\n",
       " (11, 'Nov'),\n",
       " (12, 'Dec'))"
      ]
     },
     "execution_count": 11,
     "metadata": {},
     "output_type": "execute_result"
    }
   ],
   "source": [
    "month = ('Jan','Feb','Mar','Apr','May','Jun','Jul','Aug','Sept','Oct','Nov','Dec')\n",
    "tuple(enumerate(month,1))"
   ]
  },
  {
   "cell_type": "code",
   "execution_count": 12,
   "metadata": {},
   "outputs": [
    {
     "data": {
      "text/plain": [
       "[('日', 'Sun'),\n",
       " ('一', 'Mon'),\n",
       " ('二', 'Tues'),\n",
       " ('三', 'Wed'),\n",
       " ('四', 'Thur'),\n",
       " ('五', 'Fri'),\n",
       " ('六', 'Sat')]"
      ]
     },
     "execution_count": 12,
     "metadata": {},
     "output_type": "execute_result"
    }
   ],
   "source": [
    "day = ('Sun', 'Mon', 'Tues', 'Wed', 'Thur', 'Fri', 'Sat') \n",
    "index = ('日','一','二','三','四','五','六')\n",
    "tuple(zip(index, day))"
   ]
  },
  {
   "cell_type": "markdown",
   "metadata": {},
   "source": [
    "### 元组与列表的异同\n",
    "<font face='kaiti' size=5 style='line-height:1.5'>\n",
    "    \n",
    "- 列表和元组都属于有序序列，都支持使用双向索引访问其中的元素，以及使用count()方法统计指定元素的出现次数和index()方法获取指定元素的索引，len()、max()、min()、map()、filter()等大量内置函数和+、+=、in等运算符也都可以作用于列表和元组。\n",
    "- <font color=#ff0000><u>元组属于不可变（immutable）序列</u></font>，不可以直接修改元组中元素的值，也无法为元组增加或删除元素。\n",
    "    - 元组没有提供append()、extend()和insert()等方法，无法向元组中添加元素；同样，元组也没有remove()和pop()方法，也不支持对元组元素进行del操作，不能从元组中删除元素，而只能使用del命令删除整个元组。\n",
    "    - 元组也支持切片操作，但是只能通过切片来访问元组中的元素，而不允许使用切片来修改元组中元素的值，也不支持使用切片操作来为元组增加或删除元素。\n",
    "- Python的内部实现对元组做了大量优化，访问速度比列表更快。如果定义了一系列常量值，主要用途仅是对它们进行遍历或其他类似用途，而不需要对其元素进行任何修改，那么一般建议使用元组而不用列表。\n",
    "- 元组在内部实现上不允许修改其元素值，从而使得代码更加安全，例如调用函数时使用元组传递参数可以防止在函数中修改元组，而使用列表则很难保证这一点。"
   ]
  },
  {
   "cell_type": "markdown",
   "metadata": {},
   "source": [
    "### 【生成器推导式】\n",
    "<font face='kaiti' size=5 style='line-height:1.5'>\n",
    "    \n",
    "- 生成器推导式（generator expression）的用法与列表推导式非常相似，在形式上生成器推导式使用圆括号（parentheses）作为定界符，而不是列表推导式所使用的方括号（square brackets）。\n",
    "- 与列表推导式最大的不同是，生成器推导式的结果是一个生成器对象。生成器对象类似于迭代器对象，具有惰性求值的特点，只在需要时生成新元素，比列表推导式具有更高的效率，空间占用非常少，尤其适合大数据处理的场合。\n",
    "- 使用生成器对象的元素时，可以根据需要将其转化为列表或元组，也可以使用生成器对象的__next__()方法或者内置函数next()进行遍历，或者直接使用for循环来遍历其中的元素。但是不管用哪种方法访问其元素，<font color=#ff0000>只能从前往后正向访问每个元素，没有任何方法可以再次访问已访问过的元素，也不支持使用下标访问其中的元素</font>。当所有元素访问结束以后，如果需要重新访问其中的元素，必须重新创建该生成器对象，enumerate、filter、map、zip等其他迭代器对象也具有同样的特点。"
   ]
  },
  {
   "cell_type": "markdown",
   "metadata": {},
   "source": [
    "<font face='kaiti' size=5 style='line-height:1.5'>例：使用生成器对象_\\_next_\\_()方法或内置函数next()进行遍历"
   ]
  },
  {
   "cell_type": "code",
   "execution_count": 17,
   "metadata": {},
   "outputs": [
    {
     "data": {
      "text/plain": [
       "<generator object <genexpr> at 0x0000000004F3FCA8>"
      ]
     },
     "execution_count": 17,
     "metadata": {},
     "output_type": "execute_result"
    }
   ],
   "source": [
    "g = ((i+2)**2 for i in range(10))  #创建生成器对象，注意最外层的圆括号( )\n",
    "g"
   ]
  },
  {
   "cell_type": "code",
   "execution_count": 18,
   "metadata": {},
   "outputs": [
    {
     "data": {
      "text/plain": [
       "(4, 9, 16, 25, 36, 49, 64, 81, 100, 121)"
      ]
     },
     "execution_count": 18,
     "metadata": {},
     "output_type": "execute_result"
    }
   ],
   "source": [
    "tuple(g)                           #将生成器对象转换为元组"
   ]
  },
  {
   "cell_type": "code",
   "execution_count": 19,
   "metadata": {},
   "outputs": [
    {
     "data": {
      "text/plain": [
       "[]"
      ]
     },
     "execution_count": 19,
     "metadata": {},
     "output_type": "execute_result"
    }
   ],
   "source": [
    "list(g)             #生成器对象已遍历结束，没有元素了"
   ]
  },
  {
   "cell_type": "code",
   "execution_count": 20,
   "metadata": {},
   "outputs": [],
   "source": [
    "g = ((i+2)**2 for i in range(10))  #重新创建生成器对象"
   ]
  },
  {
   "cell_type": "code",
   "execution_count": 21,
   "metadata": {},
   "outputs": [
    {
     "data": {
      "text/plain": [
       "4"
      ]
     },
     "execution_count": 21,
     "metadata": {},
     "output_type": "execute_result"
    }
   ],
   "source": [
    "g.__next__()        #使用生成器对象的__next__()方法获取元素"
   ]
  },
  {
   "cell_type": "code",
   "execution_count": 22,
   "metadata": {},
   "outputs": [
    {
     "data": {
      "text/plain": [
       "9"
      ]
     },
     "execution_count": 22,
     "metadata": {},
     "output_type": "execute_result"
    }
   ],
   "source": [
    "g.__next__()        #获取下一个元素"
   ]
  },
  {
   "cell_type": "code",
   "execution_count": 23,
   "metadata": {},
   "outputs": [
    {
     "data": {
      "text/plain": [
       "16"
      ]
     },
     "execution_count": 23,
     "metadata": {},
     "output_type": "execute_result"
    }
   ],
   "source": [
    "next(g)             #使用内置函数next()获取生成器对象中的元素"
   ]
  },
  {
   "cell_type": "markdown",
   "metadata": {},
   "source": [
    "<font face='kaiti' size=5 style='line-height:1.5'>例： 使用for循环直接迭代生成器对象中的元素"
   ]
  },
  {
   "cell_type": "code",
   "execution_count": 25,
   "metadata": {},
   "outputs": [
    {
     "name": "stdout",
     "output_type": "stream",
     "text": [
      "4 9 16 25 36 49 64 81 100 121 "
     ]
    }
   ],
   "source": [
    "g = ((i+2)**2 for i in range(10))\n",
    "for item in g:                #使用循环直接遍历生成器对象中的元素\n",
    "    print(item, end=' ')"
   ]
  },
  {
   "cell_type": "markdown",
   "metadata": {},
   "source": [
    "<font face='kaiti' size=5 style='line-height:1.5'>例：访问过的元素不再存在"
   ]
  },
  {
   "cell_type": "code",
   "execution_count": 34,
   "metadata": {},
   "outputs": [
    {
     "data": {
      "text/plain": [
       "True"
      ]
     },
     "execution_count": 34,
     "metadata": {},
     "output_type": "execute_result"
    }
   ],
   "source": [
    "x = filter(None, range(20))   #filter对象也具有类似的特点\n",
    "5 in x"
   ]
  },
  {
   "cell_type": "code",
   "execution_count": 35,
   "metadata": {},
   "outputs": [
    {
     "data": {
      "text/plain": [
       "False"
      ]
     },
     "execution_count": 35,
     "metadata": {},
     "output_type": "execute_result"
    }
   ],
   "source": [
    "2 in x"
   ]
  },
  {
   "cell_type": "markdown",
   "metadata": {},
   "source": [
    "## 字典\n",
    "<font face='kaiti' size=5 style='line-height:1.5'>\n",
    "    \n",
    "- 字典（dictionary）是包含若干“键:值”元素的无序可变序列，字典中的每个元素包含用冒号分隔开的“键”和“值”两部分，表示一种映射或对应关系，也称关联数组。定义字典时，每个元素的“键”和“值”之间用冒号分隔，不同元素之间用逗号分隔，所有的元素放在一对大括号“｛｝”中。\n",
    "- 字典中元素的<font color=#ff0000>“键”可以是Python中任意不可变数据</font>，例如整数、实数、复数、字符串、元组等类型等可哈希数据，但不能使用列表、集合、字典或其他可变类型作为字典的“键”。另外，字典中的“键”不允许重复，而“值”是可以重复的。"
   ]
  },
  {
   "cell_type": "markdown",
   "metadata": {},
   "source": [
    "### 字典的创建与删除\n",
    "<font face='kaiti' size=5 style='line-height:1.5'>\n",
    "    \n",
    "&emsp; 使用赋值运算符“=”将一个字典赋值给一个变量即可创建一个字典变量。如：\n",
    "```python\n",
    "aDict = {'server': 'db.diveintopython3.org', 'database': 'mysql'}\n",
    "x = {}            # 空字典\n",
    "```\n",
    "&emsp; 也可以使用内置类dict以不同形式创建字典。如：\n",
    "```python\n",
    "x = dict()         # 空字典\n",
    "    \n",
    "keys = ['a', 'b', 'c', 'd']\n",
    "values = [1, 2, 3, 4]\n",
    "dictionary = dict(zip(keys, values))     #根据已有数据创建字典\n",
    "\n",
    "d = dict(name='Dong', age=39)            #以关键参数的形式创建字典\n",
    "\n",
    "aDict = dict.fromkeys(['name', 'age', 'sex'])   #以给定内容为“键”，创建“值”为空的字典\n",
    "```                             \n"
   ]
  },
  {
   "cell_type": "markdown",
   "metadata": {},
   "source": [
    "### 字典元素的访问\n",
    "<font face='kaiti' size=5 style='line-height:1.5'>\n",
    "    \n",
    "- 字典中的每个元素表示一种映射关系或对应关系，根据提供的“键”作为下标就可以访问对应的“值”，如果字典中不存在这个“键”会抛出异常。"
   ]
  },
  {
   "cell_type": "code",
   "execution_count": 38,
   "metadata": {},
   "outputs": [
    {
     "data": {
      "text/plain": [
       "19"
      ]
     },
     "execution_count": 38,
     "metadata": {},
     "output_type": "execute_result"
    }
   ],
   "source": [
    "aDict = {'age': 19, 'score': [98, 97], 'name': 'Dong', 'sex': 'male'}\n",
    "aDict['age']                     #指定的“键”存在，返回对应的“值”"
   ]
  },
  {
   "cell_type": "code",
   "execution_count": 37,
   "metadata": {
    "scrolled": true
   },
   "outputs": [
    {
     "ename": "KeyError",
     "evalue": "'address'",
     "output_type": "error",
     "traceback": [
      "\u001b[1;31m---------------------------------------------------------------------------\u001b[0m",
      "\u001b[1;31mKeyError\u001b[0m                                  Traceback (most recent call last)",
      "\u001b[1;32m<ipython-input-37-13030c881b81>\u001b[0m in \u001b[0;36m<module>\u001b[1;34m()\u001b[0m\n\u001b[1;32m----> 1\u001b[1;33m \u001b[0maDict\u001b[0m\u001b[1;33m[\u001b[0m\u001b[1;34m'address'\u001b[0m\u001b[1;33m]\u001b[0m                 \u001b[1;31m#指定的“键”不存在，抛出异常\u001b[0m\u001b[1;33m\u001b[0m\u001b[0m\n\u001b[0m",
      "\u001b[1;31mKeyError\u001b[0m: 'address'"
     ]
    }
   ],
   "source": [
    "aDict['address']                 #指定的“键”不存在，抛出异常"
   ]
  },
  {
   "cell_type": "markdown",
   "metadata": {},
   "source": [
    "<font face='kaiti' size=5 style='line-height:1.5'>\n",
    "    \n",
    "- 字典对象提供了一个get()方法用来返回指定“键”对应的“值”，并且允许指定该键不存在时返回特定的“值”。例如："
   ]
  },
  {
   "cell_type": "code",
   "execution_count": 39,
   "metadata": {},
   "outputs": [
    {
     "data": {
      "text/plain": [
       "19"
      ]
     },
     "execution_count": 39,
     "metadata": {},
     "output_type": "execute_result"
    }
   ],
   "source": [
    "aDict.get('age')                    #如果字典中存在该“键”则返回对应的“值”"
   ]
  },
  {
   "cell_type": "code",
   "execution_count": 40,
   "metadata": {},
   "outputs": [
    {
     "data": {
      "text/plain": [
       "'Not Exists.'"
      ]
     },
     "execution_count": 40,
     "metadata": {},
     "output_type": "execute_result"
    }
   ],
   "source": [
    "aDict.get('address', 'Not Exists.') #指定的“键”不存在时返回指定的默认值"
   ]
  },
  {
   "cell_type": "markdown",
   "metadata": {},
   "source": [
    "<font face='kaiti' size=5 style='line-height:1.5'>\n",
    "    \n",
    "- 对字典对象直接进行迭代或者遍历时默认返回字典的键。\n",
    "- 使用字典对象的items()方法可以返回字典的键、值对。\n",
    "- 使用字典对象的keys()方法可以返回字典的键。\n",
    "- 使用字典对象的values()方法可以返回字典的值。"
   ]
  },
  {
   "cell_type": "code",
   "execution_count": 42,
   "metadata": {},
   "outputs": [
    {
     "name": "stdout",
     "output_type": "stream",
     "text": [
      "age score name sex "
     ]
    }
   ],
   "source": [
    "aDict = {'age': 19, 'score': [98, 97], 'name': 'Dong', 'sex': 'male'}\n",
    "for item in aDict:             # 默认遍历字典的“键”\n",
    "    print(item, end=' ')"
   ]
  },
  {
   "cell_type": "code",
   "execution_count": 43,
   "metadata": {},
   "outputs": [
    {
     "name": "stdout",
     "output_type": "stream",
     "text": [
      "('age', 19) ('score', [98, 97]) ('name', 'Dong') ('sex', 'male') "
     ]
    }
   ],
   "source": [
    "for item in aDict.items():       # 指定遍历字典的元素：键值对\n",
    "    print(item, end=' ')    "
   ]
  },
  {
   "cell_type": "code",
   "execution_count": 44,
   "metadata": {},
   "outputs": [
    {
     "data": {
      "text/plain": [
       "dict_values([19, [98, 97], 'Dong', 'male'])"
      ]
     },
     "execution_count": 44,
     "metadata": {},
     "output_type": "execute_result"
    }
   ],
   "source": [
    "aDict.values()"
   ]
  },
  {
   "cell_type": "markdown",
   "metadata": {},
   "source": [
    "### 字典元素添加、修改与删除\n",
    "<font face='kaiti' size=5 style='line-height:1.5'>\n",
    "    \n",
    "- 当以指定的“键”为下标对字典元素赋值时，有两种含义：  \n",
    "1）若该“键”存在，则表示修改该“键”对应的值；  \n",
    "2）若不存在，则表示添加一个新的“键:值”对，也就是添加一个新元素。  "
   ]
  },
  {
   "cell_type": "code",
   "execution_count": 45,
   "metadata": {},
   "outputs": [
    {
     "data": {
      "text/plain": [
       "{'age': 19, 'name': 'Dong', 'sex': 'male'}"
      ]
     },
     "execution_count": 45,
     "metadata": {},
     "output_type": "execute_result"
    }
   ],
   "source": [
    "aDict = {'age': 35, 'name': 'Dong', 'sex': 'male'}\n",
    "aDict['age'] = 19                  #修改元素值\n",
    "aDict"
   ]
  },
  {
   "cell_type": "code",
   "execution_count": 46,
   "metadata": {},
   "outputs": [
    {
     "data": {
      "text/plain": [
       "{'age': 19, 'name': 'Dong', 'sex': 'male', 'address': 'SDIBT'}"
      ]
     },
     "execution_count": 46,
     "metadata": {},
     "output_type": "execute_result"
    }
   ],
   "source": [
    "aDict['address'] = 'SDIBT'         #添加新元素\n",
    "aDict"
   ]
  },
  {
   "cell_type": "markdown",
   "metadata": {},
   "source": [
    "<font face='kaiti' size=5 style='line-height:1.5'>\n",
    "    \n",
    "- 使用字典对象的update()方法可以将另一个字典的“键:值”一次性全部添加到当前字典对象，如果两个字典中存在相同的“键”，则以另一个字典中的“值”为准对当前字典进行更新。"
   ]
  },
  {
   "cell_type": "code",
   "execution_count": 47,
   "metadata": {},
   "outputs": [
    {
     "data": {
      "text/plain": [
       "{'age': 39, 'score': [98, 97], 'name': 'Dong', 'sex': 'male', 'a': 97}"
      ]
     },
     "execution_count": 47,
     "metadata": {},
     "output_type": "execute_result"
    }
   ],
   "source": [
    "aDict = {'age': 37, 'score': [98, 97], 'name': 'Dong', 'sex': 'male'}\n",
    "aDict.update({'a':97, 'age':39})     #修改’age’键的值，同时添加新元素’a’:97\n",
    "aDict"
   ]
  },
  {
   "cell_type": "markdown",
   "metadata": {},
   "source": [
    "<font face='kaiti' size=5 style='line-height:1.5'>\n",
    "    \n",
    "- 如果需要删除字典中指定的元素，可以使用del命令。"
   ]
  },
  {
   "cell_type": "code",
   "execution_count": 48,
   "metadata": {},
   "outputs": [
    {
     "data": {
      "text/plain": [
       "{'score': [98, 97], 'name': 'Dong', 'sex': 'male', 'a': 97}"
      ]
     },
     "execution_count": 48,
     "metadata": {},
     "output_type": "execute_result"
    }
   ],
   "source": [
    "del aDict['age']               #删除字典元素\n",
    "aDict"
   ]
  },
  {
   "cell_type": "markdown",
   "metadata": {},
   "source": [
    "<font face='kaiti' size=5 style='line-height:1.5'>\n",
    "    \n",
    "- 也可以使用字典对象的pop()和popitem()方法弹出并删除指定的元素，例如："
   ]
  },
  {
   "cell_type": "code",
   "execution_count": 59,
   "metadata": {},
   "outputs": [],
   "source": [
    "aDict = {'age': 37, 'score': [98, 97], 'name': 'Dong', 'sex': 'male'}"
   ]
  },
  {
   "cell_type": "code",
   "execution_count": 60,
   "metadata": {},
   "outputs": [
    {
     "data": {
      "text/plain": [
       "('sex', 'male')"
      ]
     },
     "execution_count": 60,
     "metadata": {},
     "output_type": "execute_result"
    }
   ],
   "source": [
    "aDict.popitem()                #弹出一个元素，对空字典会抛出异常"
   ]
  },
  {
   "cell_type": "code",
   "execution_count": 61,
   "metadata": {},
   "outputs": [
    {
     "data": {
      "text/plain": [
       "[98, 97]"
      ]
     },
     "execution_count": 61,
     "metadata": {},
     "output_type": "execute_result"
    }
   ],
   "source": [
    "aDict.pop('score')               #弹出指定键对应的元素"
   ]
  },
  {
   "cell_type": "code",
   "execution_count": 62,
   "metadata": {},
   "outputs": [
    {
     "data": {
      "text/plain": [
       "{'age': 37, 'name': 'Dong'}"
      ]
     },
     "execution_count": 62,
     "metadata": {},
     "output_type": "execute_result"
    }
   ],
   "source": [
    "aDict"
   ]
  },
  {
   "cell_type": "markdown",
   "metadata": {},
   "source": [
    "### 【标准库collections中与字典有关的类】\n",
    "<font face='kaiti' size=5 style='line-height:1.5'>\n",
    "    \n",
    "&emsp; Python标准库提供了很多扩展功能，大幅提高了开发效率。其中collections库中有几个类与字典相关。<br>\n",
    "（1）OrderedDict类<br>\n",
    "&emsp; Python内置字典dict是无序的，如果需要一个可以记住元素插入顺序的字典，可以使用collections.OrderedDict。"
   ]
  },
  {
   "cell_type": "code",
   "execution_count": 15,
   "metadata": {},
   "outputs": [
    {
     "data": {
      "text/plain": [
       "OrderedDict([('a', 3), ('b', 5), ('c', 8)])"
      ]
     },
     "execution_count": 15,
     "metadata": {},
     "output_type": "execute_result"
    }
   ],
   "source": [
    "import collections\n",
    "x = collections.OrderedDict()     # 空的有序字典\n",
    "x['a'] = 3\n",
    "x['b'] = 5\n",
    "x['c'] = 8\n",
    "x"
   ]
  },
  {
   "cell_type": "markdown",
   "metadata": {},
   "source": [
    "<font face='kaiti' size=5 style='line-height:1.5'>\n",
    "    \n",
    "（2）defaultdict类  \n",
    "（3）Counter类  \n",
    "另见教材P66."
   ]
  },
  {
   "cell_type": "markdown",
   "metadata": {},
   "source": [
    "## 集合\n",
    "<font face='kaiti' size=5 style='line-height:1.5'>\n",
    "    \n",
    "- 集合（set）属于Python<font color=#ff0000>无序可变序列</font>，使用一对大括号{}作为定界符，元素之间使用逗号分隔，同一个集合内的每个元素都是唯一的，<font color=#ff0000>元素之间不允许重复</font>。\n",
    "- 集合中只能包含数字、字符串、元组等<font color=#ff0000>不可变类型</font>（或者说可哈希）的数据，而不能包含列表、字典、集合等可变类型的数据。"
   ]
  },
  {
   "cell_type": "markdown",
   "metadata": {},
   "source": [
    "### 集合对象的创建与删除\n",
    "<font face='kaiti' size=5 style='line-height:1.5'>\n",
    "    \n",
    "- 直接将集合赋值给变量即可创建一个集合对象。"
   ]
  },
  {
   "cell_type": "code",
   "execution_count": 64,
   "metadata": {},
   "outputs": [
    {
     "data": {
      "text/plain": [
       "set"
      ]
     },
     "execution_count": 64,
     "metadata": {},
     "output_type": "execute_result"
    }
   ],
   "source": [
    "a = {3, 5}                         #创建集合对象\n",
    "type(a)                            #查看对象类型"
   ]
  },
  {
   "cell_type": "markdown",
   "metadata": {},
   "source": [
    "<font face='kaiti' size=5 style='line-height:1.5'>\n",
    "    \n",
    "- 也可以使用函数set()函数将列表、元组、字符串、range对象等其他可迭代对象转换为集合，如果原来的数据中存在重复元素，则在转换为集合的时候只保留一个；如果原序列或迭代对象中有不可哈希的值，无法转换成为集合，抛出异常。"
   ]
  },
  {
   "cell_type": "code",
   "execution_count": 65,
   "metadata": {},
   "outputs": [
    {
     "name": "stdout",
     "output_type": "stream",
     "text": [
      "{8, 9, 10, 11, 12, 13}\n",
      "{0, 1, 2, 3, 7, 8}\n",
      "set()\n"
     ]
    }
   ],
   "source": [
    "a_set = set(range(8, 14))                     #把range对象转换为集合\n",
    "print(a_set)\n",
    "b_set = set([0, 1, 2, 3, 0, 1, 2, 3, 7, 8])   #转换时自动去掉重复元素\n",
    "print(b_set)\n",
    "c_set = set()             # 空集合\n",
    "print(c_set)"
   ]
  },
  {
   "cell_type": "markdown",
   "metadata": {},
   "source": [
    "### 集合操作与运算\n",
    "<font face='kaiti' size=5 style='line-height:1.5'>\n",
    "    \n",
    "（1）集合元素增加与删除\n",
    "- 使用集合对象的add()方法可以增加新元素，如果该元素已存在则忽略该操作，不会抛出异常；update()方法用于合并另外一个集合中的元素到当前集合中，并自动去除重复元素。例如："
   ]
  },
  {
   "cell_type": "code",
   "execution_count": 22,
   "metadata": {},
   "outputs": [
    {
     "name": "stdout",
     "output_type": "stream",
     "text": [
      "82303464\n",
      "{1, 2, 3}\n",
      "{1, 2, 3, 4}\n",
      "82303464\n"
     ]
    }
   ],
   "source": [
    "s = {1, 2, 3}\n",
    "print(id(s))\n",
    "s.add(3)                          #添加元素，重复元素自动忽略\n",
    "print(s)\n",
    "s.update({3,4})                   #更新当前字典，自动忽略重复的元素\n",
    "print(s)\n",
    "print(id(s))"
   ]
  },
  {
   "cell_type": "markdown",
   "metadata": {},
   "source": [
    "<font face='kaiti' size=5 style='line-height:1.5'>\n",
    "    \n",
    "- pop()方法用于随机删除并返回集合中的一个元素，如果集合为空则抛出异常；\n",
    "- remove()方法用于删除集合中的指定元素，如果指定元素不存在则抛出异常；\n",
    "- discard()用于从集合中删除一个指定元素，如果元素不在集合中则忽略该操作；\n",
    "- clear()方法清空集合删除所有元素；\n",
    "- 以上集合元素的操作方法都是<font color=#ff0000>原地操作</font>."
   ]
  },
  {
   "cell_type": "code",
   "execution_count": 23,
   "metadata": {},
   "outputs": [
    {
     "data": {
      "text/plain": [
       "{1, 2, 3, 4}"
      ]
     },
     "execution_count": 23,
     "metadata": {},
     "output_type": "execute_result"
    }
   ],
   "source": [
    "s.discard(5)                     #删除元素，不存在则忽略该操作     \n",
    "s"
   ]
  },
  {
   "cell_type": "code",
   "execution_count": 73,
   "metadata": {},
   "outputs": [
    {
     "ename": "KeyError",
     "evalue": "5",
     "output_type": "error",
     "traceback": [
      "\u001b[1;31m---------------------------------------------------------------------------\u001b[0m",
      "\u001b[1;31mKeyError\u001b[0m                                  Traceback (most recent call last)",
      "\u001b[1;32m<ipython-input-73-cd43b8747975>\u001b[0m in \u001b[0;36m<module>\u001b[1;34m()\u001b[0m\n\u001b[1;32m----> 1\u001b[1;33m \u001b[0ms\u001b[0m\u001b[1;33m.\u001b[0m\u001b[0mremove\u001b[0m\u001b[1;33m(\u001b[0m\u001b[1;36m5\u001b[0m\u001b[1;33m)\u001b[0m                      \u001b[1;31m#删除元素，不存在就抛出异常\u001b[0m\u001b[1;33m\u001b[0m\u001b[0m\n\u001b[0m",
      "\u001b[1;31mKeyError\u001b[0m: 5"
     ]
    }
   ],
   "source": [
    "s.remove(3)                      #删除元素，不存在就抛出异常"
   ]
  },
  {
   "cell_type": "code",
   "execution_count": 24,
   "metadata": {},
   "outputs": [
    {
     "data": {
      "text/plain": [
       "1"
      ]
     },
     "execution_count": 24,
     "metadata": {},
     "output_type": "execute_result"
    }
   ],
   "source": [
    "s.pop() "
   ]
  },
  {
   "cell_type": "code",
   "execution_count": 25,
   "metadata": {},
   "outputs": [
    {
     "name": "stdout",
     "output_type": "stream",
     "text": [
      "82303464\n"
     ]
    }
   ],
   "source": [
    "print(id(s))"
   ]
  },
  {
   "cell_type": "markdown",
   "metadata": {},
   "source": [
    "<font face='kaiti' size=5 style='line-height:1.5'>\n",
    "    \n",
    "（2）集合运算\n",
    "- 内置函数len()、max()、min()、sum()、sorted()、map()、filter()、enumerate()等也适用于集合。\n",
    "- Python中，集合还支持数学意义上的交集、并集、差集、对称差集等运算，可以用运算符表示，集合也有对应的方法进行运算。但这些集合间的运算都<font color=#ff0000>不是原地操作</font>。"
   ]
  },
  {
   "cell_type": "markdown",
   "metadata": {},
   "source": [
    "<font face='times' size=4>\n",
    "```python\n",
    ">>> a_set = set([8, 9, 10, 11, 12, 13])\n",
    ">>> b_set = {0, 1, 2, 3, 7, 8}\n",
    ">>> a_set | b_set                     #并集\n",
    "{0, 1, 2, 3, 7, 8, 9, 10, 11, 12, 13}\n",
    ">>> a_set.union(b_set)                #并集\n",
    "{0, 1, 2, 3, 7, 8, 9, 10, 11, 12, 13}\n",
    ">>> a_set & b_set                     #交集\n",
    "{8}\n",
    ">>> a_set.intersection(b_set)         #交集\n",
    "{8}\n",
    ">>> a_set.difference(b_set)           #差集\n",
    "{9, 10, 11, 12, 13}\n",
    ">>> a_set - b_set                     #差集\n",
    "{9, 10, 11, 12, 13}\n",
    ">>> a_set.symmetric_difference(b_set) #对称差集\n",
    "{0, 1, 2, 3, 7, 9, 10, 11, 12, 13}\n",
    ">>> a_set ^ b_set                     #对称差集\n",
    "{0, 1, 2, 3, 7, 9, 10, 11, 12, 13}\n",
    "```"
   ]
  },
  {
   "cell_type": "markdown",
   "metadata": {},
   "source": [
    "<font face='kaiti' size=5>\n",
    "    \n",
    "- Python中，还可以用关系运算符\\>, \\>=, <, <=, ==等表示集合间的包含或相等关系。"
   ]
  },
  {
   "cell_type": "code",
   "execution_count": 30,
   "metadata": {},
   "outputs": [
    {
     "name": "stdout",
     "output_type": "stream",
     "text": [
      "False\n",
      "True\n",
      "False\n",
      "True\n",
      "True\n"
     ]
    }
   ],
   "source": [
    "x = {1, 2, 3}\n",
    "y = {1, 2, 5}\n",
    "z = {1, 2, 3, 4}\n",
    "print(x < y)                             #比较集合大小/包含关系\n",
    "print(x < z)                             #真子集\n",
    "print(y < z)\n",
    "print(x <= {1, 2, 3})                       #子集\n",
    "print(x == {1, 2, 3})                       "
   ]
  },
  {
   "cell_type": "markdown",
   "metadata": {},
   "source": [
    "### 【集合应用案例】\n",
    "<font face='kaiti' size=5 style='line-height:1.5'>\n",
    "    \n",
    "&emsp; 编写代码时除了要准确地实现预定功能外，还要考虑代码的优化，尽量找到一种更快更好的方法实现。Python字典和集合都使用哈希表来存储元素，查找速度非常快，关键字in作用于字典和集合时比作用于列表要快得多。对某一个任务，如果用列表、集合都能实现，则尽量用集合。应用案例见教材P69-P71."
   ]
  },
  {
   "cell_type": "markdown",
   "metadata": {},
   "source": [
    "## 序列解包的多种形式和用法\n",
    "<font face='kaiti' size=5 style='line-height:1.5'>\n",
    "    \n",
    "&emsp; 序列解包（Sequence Unpacking）是Python中非常重要和常用的一个功能，可以使用非常简洁的形式完成复杂的功能，提高代码的可读性，减少代码输入量。\n",
    "- 可以使用序列解包功能对多个变量同时进行赋值。如：\n",
    "```python\n",
    ">>> x, y, z = 1, 2, 3                   #多个变量同时赋值\n",
    ">>> v_tuple = (False, 3.5, 'exp')\n",
    ">>> (x, y, z) = v_tuple\n",
    ">>> x, y, z = v_tuple                  # 与上面的作用一样\n",
    ">>> x, y = y, x                      #交换两个变量的值\n",
    ">>> x, y, z = range(3)                  #可以对range对象进行序列解包\n",
    ">>> x, y, z = iter([1, 2, 3])             #使用迭代器对象进行序列解包\n",
    ">>> x, y, z = map(str, range(3))           #使用可迭代的map对象进行序列解包\n",
    "```"
   ]
  },
  {
   "cell_type": "markdown",
   "metadata": {},
   "source": [
    "<font face='kaiti' size=5 style='line-height:1.5'>\n",
    "    \n",
    "- 序列解包还可以用于列表、字典、enumerate对象、filter对象、zip对象等。对字典使用时，默认是对字典的\"键\"进行操作，否则就要使用字典的items()方法和values()方法指定解包对象。\n",
    "```python\n",
    ">>> a = [1, 2, 3]\n",
    ">>> b, c, d = a                        #列表也支持序列解包的用法\n",
    ">>> x, y, z = sorted([1, 3, 2])        #sorted()函数返回排序后的列表\n",
    ">>> s = {'a':1, 'b':2, 'c':3}\n",
    ">>> b, c, d = s.items()                \n",
    ">>> b                              #这是Python 3.5之前的版本执行结果\n",
    "('c', 3)                           # python 3.6之后的版本输出为 ('a', 1)\n",
    ">>> b, c, d = s                        #使用字典时不用太多考虑元素的顺序\n",
    ">>> b\n",
    "'c'\n",
    ">>> b, c, d = s.values()\n",
    ">>> print(b, c, d)\n",
    "1 3 2\n",
    ">>> a, b, c = 'ABC'                    #字符串也支持序列解包\n",
    ">>> print(a, b, c)\n",
    "A B C\n",
    "```"
   ]
  },
  {
   "cell_type": "code",
   "execution_count": 36,
   "metadata": {},
   "outputs": [
    {
     "data": {
      "text/plain": [
       "(1, 2, 3)"
      ]
     },
     "execution_count": 36,
     "metadata": {},
     "output_type": "execute_result"
    }
   ],
   "source": [
    "a = [1, 2, 3]\n",
    "b, c, d= a                        #列表也支持序列解包的用法\n",
    "b, c, d"
   ]
  },
  {
   "cell_type": "code",
   "execution_count": 37,
   "metadata": {},
   "outputs": [
    {
     "data": {
      "text/plain": [
       "(1, [2, 3])"
      ]
     },
     "execution_count": 37,
     "metadata": {},
     "output_type": "execute_result"
    }
   ],
   "source": [
    "a = [1, 2, 3]\n",
    "b, *c= a                        # 灵活的序列解包\n",
    "b, c"
   ]
  },
  {
   "cell_type": "code",
   "execution_count": 40,
   "metadata": {},
   "outputs": [
    {
     "name": "stdout",
     "output_type": "stream",
     "text": [
      "('a', 1)\n",
      "a\n",
      "1 2 3\n"
     ]
    }
   ],
   "source": [
    "s = {'a':1, 'b':2, 'c':3}\n",
    "\n",
    "b, c, d = s.items()                \n",
    "print(b)                              #3.5之前的输出为('c', 3) \n",
    "\n",
    "b, c, d = s                         \n",
    "print(b)\n",
    "\n",
    "b, c, d = s.values()\n",
    "print(b, c, d)"
   ]
  },
  {
   "cell_type": "code",
   "execution_count": 41,
   "metadata": {},
   "outputs": [
    {
     "name": "stdout",
     "output_type": "stream",
     "text": [
      "A B C\n"
     ]
    }
   ],
   "source": [
    "a, b, c = 'ABC'                    #字符串也支持序列解包\n",
    "print(a, b, c)"
   ]
  },
  {
   "cell_type": "markdown",
   "metadata": {},
   "source": [
    "<font face='kaiti' size=5 style='line-height:1.5'>\n",
    "- 使用序列解包可以很方便地同时遍历多个序列。 "
   ]
  },
  {
   "cell_type": "code",
   "execution_count": 44,
   "metadata": {},
   "outputs": [
    {
     "name": "stdout",
     "output_type": "stream",
     "text": [
      "日 Sun\n",
      "一 Mon\n",
      "二 Tues\n",
      "三 Wed\n",
      "四 Thur\n",
      "五 Fri\n",
      "六 Sat\n"
     ]
    }
   ],
   "source": [
    "day = ('Sun', 'Mon', 'Tues', 'Wed', 'Thur', 'Fri', 'Sat') \n",
    "index = ('日','一','二','三','四','五','六')\n",
    "for i, d in zip(index, day):\n",
    "    print(i, d)"
   ]
  },
  {
   "cell_type": "code",
   "execution_count": 43,
   "metadata": {},
   "outputs": [
    {
     "name": "stdout",
     "output_type": "stream",
     "text": [
      "1月对应的英文缩写是：Jan\n",
      "2月对应的英文缩写是：Feb\n",
      "3月对应的英文缩写是：Mar\n",
      "4月对应的英文缩写是：Apr\n",
      "5月对应的英文缩写是：May\n",
      "6月对应的英文缩写是：Jun\n",
      "7月对应的英文缩写是：Jul\n",
      "8月对应的英文缩写是：Aug\n",
      "9月对应的英文缩写是：Sept\n",
      "10月对应的英文缩写是：Oct\n",
      "11月对应的英文缩写是：Nov\n",
      "12月对应的英文缩写是：Dec\n"
     ]
    }
   ],
   "source": [
    "# 对内置函数enumerate()返回的迭代对象进行遍历：\n",
    "month = ('Jan','Feb','Mar','Apr','May','Jun','Jul','Aug','Sept','Oct','Nov','Dec')\n",
    "for i, v in enumerate(month,1):\n",
    "    print('{0}月对应的英文缩写是：{1}'.format(i,v))"
   ]
  },
  {
   "cell_type": "code",
   "execution_count": 48,
   "metadata": {},
   "outputs": [
    {
     "name": "stdout",
     "output_type": "stream",
     "text": [
      "{'age': 19, 'score': [98, 97], 'name': 'Dong', 'sex': 'male'}\n",
      "age 19\n",
      "score [98, 97]\n",
      "name Dong\n",
      "sex male\n"
     ]
    }
   ],
   "source": [
    "# 使用序列解包遍历字典元素：\n",
    "s = {'age': 19, 'score': [98, 97], 'name': 'Dong', 'sex': 'male'}\n",
    "print(s)\n",
    "for k, v in s.items():        #字典中每个元素包含“键”和“值”两部分\n",
    "    print(k, v)"
   ]
  },
  {
   "cell_type": "markdown",
   "metadata": {},
   "source": [
    "## 小结\n",
    "<font face='kaiti' size=5 style='line-height:1.5'>\n",
    "    \n",
    "- 列表、元组和字符串支持双向索引，都支持切片操作。字典支持使用“键”作为索引访问其中的元素，集合不支持任何索引。\n",
    "- 列表时可变的，元组是不可变的，这是两者本质的区别。\n",
    "- 列表推导式得到的是列表，而生成器推导式得到的是生成器对象。\n",
    "- 字典的“键”和集合的元素都不允许重复，并且必须是不可变的数据类型。\n",
    "- 关键字in可以用于列表、元组、字典、集合、range对象、字符串，常用在循环语句中对元素进行遍历。\n",
    "- 序列解包能给赋值和输出带来便利。"
   ]
  },
  {
   "cell_type": "markdown",
   "metadata": {},
   "source": [
    "## 练习\n",
    "<font size=4 style='line-height:1.5'>\n",
    "&emsp;教材P74. 选做习题中有关的部分"
   ]
  },
  {
   "cell_type": "code",
   "execution_count": null,
   "metadata": {},
   "outputs": [],
   "source": []
  }
 ],
 "metadata": {
  "kernelspec": {
   "display_name": "Python 3",
   "language": "python",
   "name": "python3"
  },
  "language_info": {
   "codemirror_mode": {
    "name": "ipython",
    "version": 3
   },
   "file_extension": ".py",
   "mimetype": "text/x-python",
   "name": "python",
   "nbconvert_exporter": "python",
   "pygments_lexer": "ipython3",
   "version": "3.7.3"
  },
  "latex_envs": {
   "LaTeX_envs_menu_present": true,
   "autoclose": false,
   "autocomplete": true,
   "bibliofile": "biblio.bib",
   "cite_by": "apalike",
   "current_citInitial": 1,
   "eqLabelWithNumbers": true,
   "eqNumInitial": 1,
   "hotkeys": {
    "equation": "Ctrl-E",
    "itemize": "Ctrl-I"
   },
   "labels_anchors": false,
   "latex_user_defs": false,
   "report_style_numbering": false,
   "user_envs_cfg": false
  },
  "toc": {
   "base_numbering": "3",
   "nav_menu": {},
   "number_sections": true,
   "sideBar": true,
   "skip_h1_title": false,
   "title_cell": "目录",
   "title_sidebar": "目录",
   "toc_cell": true,
   "toc_position": {},
   "toc_section_display": true,
   "toc_window_display": false
  }
 },
 "nbformat": 4,
 "nbformat_minor": 2
}
