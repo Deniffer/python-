{
 "cells": [
  {
   "cell_type": "markdown",
   "metadata": {
    "toc": true
   },
   "source": [
    "<h1>目录<span class=\"tocSkip\"></span></h1>\n",
    "<div class=\"toc\"><ul class=\"toc-item\"><li><span><a href=\"#组合数据类型\" data-toc-modified-id=\"组合数据类型-3\"><span class=\"toc-item-num\">3&nbsp;&nbsp;</span>组合数据类型</a></span><ul class=\"toc-item\"><li><span><a href=\"#列表\" data-toc-modified-id=\"列表-3.1\"><span class=\"toc-item-num\">3.1&nbsp;&nbsp;</span>列表</a></span><ul class=\"toc-item\"><li><span><a href=\"#列表的创建与删除\" data-toc-modified-id=\"列表的创建与删除-3.1.1\"><span class=\"toc-item-num\">3.1.1&nbsp;&nbsp;</span>列表的创建与删除</a></span></li><li><span><a href=\"#列表元素的双向索引和访问\" data-toc-modified-id=\"列表元素的双向索引和访问-3.1.2\"><span class=\"toc-item-num\">3.1.2&nbsp;&nbsp;</span>列表元素的双向索引和访问</a></span></li><li><span><a href=\"#切片操作的强大功能\" data-toc-modified-id=\"切片操作的强大功能-3.1.3\"><span class=\"toc-item-num\">3.1.3&nbsp;&nbsp;</span>切片操作的强大功能</a></span></li><li><span><a href=\"#列表对象支持的运算符\" data-toc-modified-id=\"列表对象支持的运算符-3.1.4\"><span class=\"toc-item-num\">3.1.4&nbsp;&nbsp;</span>列表对象支持的运算符</a></span></li><li><span><a href=\"#列表常用方法\" data-toc-modified-id=\"列表常用方法-3.1.5\"><span class=\"toc-item-num\">3.1.5&nbsp;&nbsp;</span>列表常用方法</a></span></li><li><span><a href=\"#Python内置函数对列表的操作\" data-toc-modified-id=\"Python内置函数对列表的操作-3.1.6\"><span class=\"toc-item-num\">3.1.6&nbsp;&nbsp;</span>Python内置函数对列表的操作</a></span></li><li><span><a href=\"#【列表推导式】\" data-toc-modified-id=\"【列表推导式】-3.1.7\"><span class=\"toc-item-num\">3.1.7&nbsp;&nbsp;</span>【列表推导式】</a></span></li><li><span><a href=\"#小结\" data-toc-modified-id=\"小结-3.1.8\"><span class=\"toc-item-num\">3.1.8&nbsp;&nbsp;</span>小结</a></span></li><li><span><a href=\"#练习\" data-toc-modified-id=\"练习-3.1.9\"><span class=\"toc-item-num\">3.1.9&nbsp;&nbsp;</span>练习</a></span></li></ul></li></ul></li></ul></div>"
   ]
  },
  {
   "cell_type": "markdown",
   "metadata": {},
   "source": [
    "# 组合数据类型\n",
    "<font face='kaiti' size=5 style='line-height:1.5'>\n",
    "    \n",
    "- 了解各种组合数据类型的特点；\n",
    "- 掌握列表的双向索引和切片方法；\n",
    "- 掌握列表的各种方法和操作；\n",
    "- 理解列表推导式（难点）。\n",
    "    \n",
    "&emsp; 实际问题中往往需同时处理多个相关数据，这需要有效地整合数据。Python中内置了几种组合数据类型，能够将多个同类型或不同类型的数据有效地组织起来并统一表示。<p>\n",
    "&emsp; 根据数据间的关系，组合数据类型可以分为3类：序列类型、集合类型和映射类型。<p>\n",
    "&emsp; 序列类型是一维向量，元素之间存在先后关系，通过序号访问。Python中的序列类型主要有列表、元组、字符串。<p>\n",
    "&emsp; 集合类型和数学中集合的概念一致，是包含0个或多个数据项的无序组合。集合中的元素不可重复，元素类型只能是不可变类型。<p>\n",
    "&emsp; 映射类型是“键-值”数据项的组合，每个元素是一个键值对，即(key, value)，元素间是无序的。键表示一个属性，值是属性的内容。在Python中，映射类型主要以字典(dict)体现。<p>\n",
    "![组合数据](list01.png \"组合数据类型\")    "
   ]
  },
  {
   "cell_type": "markdown",
   "metadata": {},
   "source": [
    "<center> <font face='kaiti' size=5> 表2-2 列表、元组、字典、集合的对比 </font>\n",
    "\n",
    "|<center><font size=4>比较项</center>|<center><font size=4>列表</center>|<center><font size=4>元组</center>|<center><font size=4>字典</center>|<center><font size=4>集合</center>|\n",
    "|:---|:---|:---|:---|:---|\n",
    "|<font size=4>类型名称|<font size=4>list|<font size=4>tuple|<font size=4>dict|<font size=4>set|\n",
    "|<font size=4>定界符|<font size=4>方括号[]|<font size=4>圆括号()|<font size=4>大括号{}|<font size=4>大括号{}|\n",
    "|<font size=4>是否可变|<font size=4>是|<font size=4>否|<font size=4>是|<font size=4>是|\n",
    "|<font size=4>是否有序|<font size=4>是|<font size=4>是|<font size=4>否|<font size=4>否|\n",
    "|<font size=4>是否支持下标|<font size=4>是（序号）|<font size=4>是（序号）|<font size=4>是（键）|<font size=4>否|\n",
    "|<font size=4>分隔符|<font size=4>逗号|<font size=4>逗号|<font size=4>逗号|<font size=4>逗号|\n",
    "|<font size=4>对元素形式的要求|<font size=4>无|<font size=4>无|<font size=4>键:值|<font size=4>必须可哈希&emsp;&emsp;|\n",
    "|<font size=4>对元素值的要求|<font size=4>无|<font size=4>无|<font size=4>“键”必须可哈希&emsp;&emsp;|<font size=4>必须可哈希|\n",
    "|<font size=4>元素是否可重复|<font size=4>是|<font size=4>是|<font size=4>“键”不允许重复|<font size=4>否|\n",
    "|<font size=4>元素查找速度|<font size=4>非常慢|<font size=4>很慢|<font size=4>非常快|<font size=4>非常快|\n",
    "|<font size=4>新增和删除元素速度&emsp;|<font size=4>尾部操作快，<br>其他位置慢&emsp;|<font size=4>不允许|<font size=4>快|<font size=4>快|"
   ]
  },
  {
   "cell_type": "markdown",
   "metadata": {},
   "source": [
    "## 列表\n",
    "<font face='kaiti' size=5 style='line-height:1.5'>\n",
    "    \n",
    "- 列表（list）是Python中最重要的数据结构之一，是包含若干元素的有序连续内存空间。  \n",
    "- 在形式上，列表的所有元素放在一对方括号[]中，相邻元素之间使用逗号分隔。如果只有一对方括号而没有任何元素则表示空列表。  \n",
    "- 在Python中，同一个列表中元素的数据类型可以各不相同，可以同时包含整数、实数、字符串等基本类型的元素，也可以包含列表、元组、字典、集合、函数以及其他任意对象。\n",
    "\n",
    "&emsp; 示例：  \n",
    "```python\n",
    "[10, 20, 30, 40]\n",
    "['crunchy frog', 'ram bladder', 'lark vomit']\n",
    "['spam', 2.0, 5, [10, 20]]\n",
    "[['file1', 200,7], ['file2', 260,9]]\n",
    "[{3}, {5:6}, (1, 2, 3)]\n",
    "```  \n",
    "- 当列表增加或删除元素时，列表对象自动进行内存的扩展或收缩，从而保证相邻元素之间没有缝隙。这一内存自动管理功能可以大幅度减少程序员的负担。但插入和删除非尾部元素时涉及到列表中大量元素的移动，会严重影响效率。在非尾部位置插入和删除元素时会改变该位置后面的元素在列表中的索引，这对于某些操作可能会导致意外的错误结果。除非确实有必要，否则应尽量从列表尾部进行元素的追加与删除操作。"
   ]
  },
  {
   "cell_type": "markdown",
   "metadata": {},
   "source": [
    "### 列表的创建与删除\n",
    "<font face='kaiti' size=5 style='line-height:1.5'>\n",
    "    \n",
    "&emsp; 使用\"=\"直接将一个列表赋值给变量即可创建列表对象。\n",
    "```python\n",
    "a_list = ['a', 'b', 'mpilgrim', 'z', 'example']\n",
    "a_list = []                       #创建空列表\n",
    "```\n",
    "&emsp; 也可以使用list()函数把元组、range对象、字符串、字典、集合或其他可迭代对象转换为列表。\n",
    "```python\n",
    ">>> list((3,5,7,9,11))                #将元组转换为列表\n",
    "[3, 5, 7, 9, 11]\n",
    ">>> list(range(1, 10, 2))             #将range对象转换为列表\n",
    "[1, 3, 5, 7, 9]\n",
    ">>> list('hello world')               #将字符串转换为列表\n",
    "['h', 'e', 'l', 'l', 'o', ' ', 'w', 'o', 'r', 'l', 'd']\n",
    ">>> list({3,7,5})                   #将集合转换为列表\n",
    "[3, 5, 7]\n",
    ">>> x = list()                     #创建空列表\n",
    "```\n"
   ]
  },
  {
   "cell_type": "code",
   "execution_count": 108,
   "metadata": {},
   "outputs": [
    {
     "name": "stdout",
     "output_type": "stream",
     "text": [
      "['a', 'b', 'c']\n",
      "[('a', 3), ('b', 9), ('c', 78)]\n",
      "[3, 9, 78]\n"
     ]
    }
   ],
   "source": [
    "aDict = {'a':3, 'b':9, 'c':78}\n",
    "print(list(aDict))               #将字典的“键”转换为列表\n",
    "print(list(aDict.items()))       #将字典的“键:值”对转换为列表\n",
    "print(list(aDict.values()))      #将字典的“值”转换为列表"
   ]
  },
  {
   "cell_type": "markdown",
   "metadata": {},
   "source": [
    "<font face='kaiti' size=5 style='line-height:1.5'>\n",
    "    \n",
    "&emsp; 当一个列表不再使用时，可以使用del命令将其删除，这一点适用于所有类型的Python对象。\n",
    "```python\n",
    "x = list(range(10))\n",
    "y = map(lambda x:x+5, x)\n",
    "del x\n",
    "```"
   ]
  },
  {
   "cell_type": "markdown",
   "metadata": {},
   "source": [
    "### 列表元素的双向索引和访问\n",
    "<font face='kaiti' size=5 style='line-height:1.5'>\n",
    "    \n",
    "&emsp; 创建列表之后，可以使用整数作为下标来访问其中的元素，其中0表示第1个元素，1表示第2个元素，2表示第3个元素，以此类推；<font color=#ff0000>列表还支持使用负整数作为下标，其中-1表示最后1个元素，-2表示倒数第2个元素，-3表示倒数第3个元素，以此类推</font>。\n",
    "    ![列表索引](list02.png \"列表双向索引\")  \n",
    "&emsp; 这种双向索引在应用中能带来极大的便利。此外元组、字符串以及range对象也支持双向索引。<p>\n",
    "&emsp; 要访问列表的某个元素，需要用方括号[]，其格式为： 列表对象名[索引号]. 元组、字符串、range对象、字典在访问其元素时都使用变量名后带[]的格式。"
   ]
  },
  {
   "cell_type": "code",
   "execution_count": 109,
   "metadata": {},
   "outputs": [
    {
     "name": "stdout",
     "output_type": "stream",
     "text": [
      "P\n",
      "n\n",
      "2\n",
      "r\n"
     ]
    }
   ],
   "source": [
    "x = list( 'Python')\n",
    "print(x[0])    # 列表第1个元素\n",
    "print(x[-1])   # 列表最后一个元素\n",
    "y = range(10)   \n",
    "print(y[2])    # range对象第3个元素\n",
    "str1 = 'Guangdong Ocean University'\n",
    "print(str1[-5])    # 字符串倒数第5个元素"
   ]
  },
  {
   "cell_type": "markdown",
   "metadata": {},
   "source": [
    "### 切片操作的强大功能\n",
    "<font face='kaiti' size=5 style='line-height:1.5'>\n",
    "    \n",
    "&emsp; 切片，又称区间索引，用于同时访问多个元素，是Python序列的重要操作之一，类似于MATLAB中的冒号表达式。除了适用列表之外，还适用于元组、字符串、range对象，但列表的切片操作具有最强大的功能。可以通过切片返回列表的部分元素形成新列表，还可以通过切片修改、删除、或增加元素。"
   ]
  },
  {
   "cell_type": "markdown",
   "metadata": {},
   "source": [
    "<font face='kaiti' size=5 style='line-height:1.5'>\n",
    "    \n",
    "&emsp; 在形式上，切片使用2个冒号分隔的3个数字来完成，如下所示：\n",
    "```\n",
    "[start:end:step]   # 注意3个数字的意义与MATLAB中有所不同\n",
    "```\n",
    "- 第一个数字start表示切片开始位置，默认为0；  \n",
    "- 第二个数字end表示切片截止（<font color=#ff0000><u>但不包含</u></font>）位置（默认为列表长度）；  \n",
    "- 第三个数字step表示切片的步长（默认为1）。  \n",
    "- 当start为0时可以省略，当end为列表长度时可以省略，当step为1时可以省略，省略步长时还可以同时省略最后一个冒号。  \n",
    "- 当step为负整数时，表示反向切片，这时start应该在end的右侧才行。"
   ]
  },
  {
   "cell_type": "markdown",
   "metadata": {},
   "source": [
    "<font face='kaiti' size=5 style='line-height:1.5'>\n",
    "    \n",
    "（1）使用切片获取列表部分元素<br>\n",
    "&emsp; 使用切片可以返回列表中部分元素组成的新列表。与使用索引作为下标访问列表元素的方法不同，<font color=#ff0000>切片操作不会因为下标越界而抛出异常</font>，_而是简单地在列表尾部截断或者返回一个空列表_，代码具有更强的健壮性。"
   ]
  },
  {
   "cell_type": "code",
   "execution_count": 110,
   "metadata": {},
   "outputs": [
    {
     "data": {
      "text/plain": [
       "[4, 6, 9]"
      ]
     },
     "execution_count": 110,
     "metadata": {},
     "output_type": "execute_result"
    }
   ],
   "source": [
    "aList = [3, 4, 5, 6, 7, 9, 11, 13, 15, 17]\n",
    "aList[1:7:2]         # 返回第2个到第8个中的偶数序号的元素，不包括第8个元素"
   ]
  },
  {
   "cell_type": "code",
   "execution_count": 111,
   "metadata": {},
   "outputs": [
    {
     "data": {
      "text/plain": [
       "[6, 7, 9]"
      ]
     },
     "execution_count": 111,
     "metadata": {},
     "output_type": "execute_result"
    }
   ],
   "source": [
    "aList[3:6]               #指定切片的开始和结束位置，步长为1"
   ]
  },
  {
   "cell_type": "code",
   "execution_count": 112,
   "metadata": {},
   "outputs": [
    {
     "data": {
      "text/plain": [
       "[6, 7, 9, 11, 13, 15, 17]"
      ]
     },
     "execution_count": 112,
     "metadata": {},
     "output_type": "execute_result"
    }
   ],
   "source": [
    "aList[3:]               # 返回第3个元素后的所有元素、或：返回第4个元素起的所有元素"
   ]
  },
  {
   "cell_type": "code",
   "execution_count": 113,
   "metadata": {},
   "outputs": [
    {
     "data": {
      "text/plain": [
       "[3, 4, 5, 6, 7, 9, 11, 13, 15]"
      ]
     },
     "execution_count": 113,
     "metadata": {},
     "output_type": "execute_result"
    }
   ],
   "source": [
    "aList[:-1]               # 返回最后一个元素前的所有元素"
   ]
  },
  {
   "cell_type": "code",
   "execution_count": 114,
   "metadata": {},
   "outputs": [
    {
     "data": {
      "text/plain": [
       "[4, 6, 9, 13, 17]"
      ]
     },
     "execution_count": 114,
     "metadata": {},
     "output_type": "execute_result"
    }
   ],
   "source": [
    "aList[1::2]              #从第2个开始隔一个取一个"
   ]
  },
  {
   "cell_type": "code",
   "execution_count": 115,
   "metadata": {},
   "outputs": [
    {
     "data": {
      "text/plain": [
       "[3, 5, 7, 11, 15]"
      ]
     },
     "execution_count": 115,
     "metadata": {},
     "output_type": "execute_result"
    }
   ],
   "source": [
    "aList[::2]               # 从第1个开始隔一个取一个"
   ]
  },
  {
   "cell_type": "code",
   "execution_count": 116,
   "metadata": {},
   "outputs": [
    {
     "data": {
      "text/plain": [
       "[3, 4, 5, 6, 7, 9, 11, 13, 15, 17]"
      ]
     },
     "execution_count": 116,
     "metadata": {},
     "output_type": "execute_result"
    }
   ],
   "source": [
    "aList[::]                #返回包含原列表中所有元素的新列表，即原列表的浅复制，也可用aList[:]"
   ]
  },
  {
   "cell_type": "code",
   "execution_count": 117,
   "metadata": {},
   "outputs": [
    {
     "data": {
      "text/plain": [
       "[17, 15, 13, 11, 9, 7, 6, 5, 4, 3]"
      ]
     },
     "execution_count": 117,
     "metadata": {},
     "output_type": "execute_result"
    }
   ],
   "source": [
    "aList[::-1]              #返回包含原列表中所有元素的逆序列表"
   ]
  },
  {
   "cell_type": "code",
   "execution_count": 118,
   "metadata": {},
   "outputs": [
    {
     "data": {
      "text/plain": [
       "[3, 4, 5, 6, 7, 9, 11, 13, 15, 17]"
      ]
     },
     "execution_count": 118,
     "metadata": {},
     "output_type": "execute_result"
    }
   ],
   "source": [
    "aList[0:100]             #切片结束位置大于列表长度时，从列表尾部截断"
   ]
  },
  {
   "cell_type": "code",
   "execution_count": 119,
   "metadata": {},
   "outputs": [
    {
     "ename": "IndexError",
     "evalue": "list index out of range",
     "output_type": "error",
     "traceback": [
      "\u001b[1;31m---------------------------------------------------------------------------\u001b[0m",
      "\u001b[1;31mIndexError\u001b[0m                                Traceback (most recent call last)",
      "\u001b[1;32m<ipython-input-119-57db0761ae38>\u001b[0m in \u001b[0;36m<module>\u001b[1;34m()\u001b[0m\n\u001b[1;32m----> 1\u001b[1;33m \u001b[0maList\u001b[0m\u001b[1;33m[\u001b[0m\u001b[1;36m100\u001b[0m\u001b[1;33m]\u001b[0m               \u001b[1;31m#索引越界，抛出异常\u001b[0m\u001b[1;33m\u001b[0m\u001b[0m\n\u001b[0m",
      "\u001b[1;31mIndexError\u001b[0m: list index out of range"
     ]
    }
   ],
   "source": [
    "aList[100]               #索引越界，抛出异常"
   ]
  },
  {
   "cell_type": "code",
   "execution_count": 120,
   "metadata": {},
   "outputs": [
    {
     "data": {
      "text/plain": [
       "[]"
      ]
     },
     "execution_count": 120,
     "metadata": {},
     "output_type": "execute_result"
    }
   ],
   "source": [
    "aList[100:]              #切片开始位置大于列表长度时，返回空列表"
   ]
  },
  {
   "cell_type": "code",
   "execution_count": 121,
   "metadata": {},
   "outputs": [
    {
     "data": {
      "text/plain": [
       "[3, 4, 5]"
      ]
     },
     "execution_count": 121,
     "metadata": {},
     "output_type": "execute_result"
    }
   ],
   "source": [
    "aList[-15:3]             #进行必要的截断处理"
   ]
  },
  {
   "cell_type": "code",
   "execution_count": 122,
   "metadata": {},
   "outputs": [
    {
     "data": {
      "text/plain": [
       "[6, 5, 4]"
      ]
     },
     "execution_count": 122,
     "metadata": {},
     "output_type": "execute_result"
    }
   ],
   "source": [
    "aList[3:-10:-1]          #位置3在位置-10的右侧，-1表示反向切片"
   ]
  },
  {
   "cell_type": "code",
   "execution_count": 123,
   "metadata": {},
   "outputs": [
    {
     "data": {
      "text/plain": [
       "[6, 7]"
      ]
     },
     "execution_count": 123,
     "metadata": {},
     "output_type": "execute_result"
    }
   ],
   "source": [
    "aList[3:-5]              #位置3在位置-5的左侧，正向切片"
   ]
  },
  {
   "cell_type": "markdown",
   "metadata": {},
   "source": [
    "<font face='kaiti' size=5 style='line-height:1.5'>\n",
    "    \n",
    "（2）使用切片为列表增加元素  \n",
    "&emsp;可以使用切片操作在列表任意位置插入新元素，不影响列表对象的内存地址，属于<font color=#ff0000>原地操作</font>，不需用赋值语句返回值。<font color=#ff0000>注意：因为列表的切片还是列表，所以等号\"=\"右边也是列表形式</font>。\n",
    "![双向索引](list02.png \"双向索引\")"
   ]
  },
  {
   "cell_type": "code",
   "execution_count": 1,
   "metadata": {},
   "outputs": [
    {
     "data": {
      "text/plain": [
       "[3, 4, 5, 7]"
      ]
     },
     "execution_count": 1,
     "metadata": {},
     "output_type": "execute_result"
    }
   ],
   "source": [
    "aList = [3, 5, 7]\n",
    "aList[1:1] = [4]               #在列表的第1个元素后插入元素\n",
    "aList"
   ]
  },
  {
   "cell_type": "code",
   "execution_count": 6,
   "metadata": {},
   "outputs": [
    {
     "data": {
      "text/plain": [
       "[3, 5, 15]"
      ]
     },
     "execution_count": 6,
     "metadata": {},
     "output_type": "execute_result"
    }
   ],
   "source": [
    "aList[1:3]=[5,15]\n",
    "aList"
   ]
  },
  {
   "cell_type": "code",
   "execution_count": 126,
   "metadata": {},
   "outputs": [
    {
     "data": {
      "text/plain": [
       "[3, 4, 5, 7, 9]"
      ]
     },
     "execution_count": 126,
     "metadata": {},
     "output_type": "execute_result"
    }
   ],
   "source": [
    "aList[len(aList):] = [9]       #在列表尾部增加元素，len()函数用于求列表的元素数，相当于aList[len(aList):len(aList)]=[9]\n",
    "aList                          # 也可用 aList[-1:-1] = [9]"
   ]
  },
  {
   "cell_type": "code",
   "execution_count": 8,
   "metadata": {},
   "outputs": [
    {
     "data": {
      "text/plain": [
       "[0,\n",
       " 100,\n",
       " 123,\n",
       " 312,\n",
       " 23,\n",
       " 5,\n",
       " 534,\n",
       " 5345,\n",
       " 1,\n",
       " 5,\n",
       " 6,\n",
       " 7,\n",
       " 8,\n",
       " 9,\n",
       " 10,\n",
       " 11,\n",
       " 12,\n",
       " 13,\n",
       " 14,\n",
       " 15,\n",
       " 16,\n",
       " 17,\n",
       " 18,\n",
       " 19]"
      ]
     },
     "execution_count": 8,
     "metadata": {},
     "output_type": "execute_result"
    }
   ],
   "source": [
    "a=list(range(20))\n",
    "a[1:5]=[100,123,312,23,5,534,5345,1]\n",
    "a"
   ]
  },
  {
   "cell_type": "code",
   "execution_count": 127,
   "metadata": {},
   "outputs": [
    {
     "data": {
      "text/plain": [
       "[1, 2, 3, 4, 5, 7, 9]"
      ]
     },
     "execution_count": 127,
     "metadata": {},
     "output_type": "execute_result"
    }
   ],
   "source": [
    "aList[:0] = [1, 2]             #在列表头部插入多个元素，相当于aList[0:0]=[1,2]\n",
    "aList"
   ]
  },
  {
   "cell_type": "markdown",
   "metadata": {},
   "source": [
    "<font face='kaiti' size=5 style='line-height:1.5'>（3）使用切片替换和修改列表中的元素"
   ]
  },
  {
   "cell_type": "code",
   "execution_count": 129,
   "metadata": {},
   "outputs": [
    {
     "data": {
      "text/plain": [
       "[3, 5, 7, 8]"
      ]
     },
     "execution_count": 129,
     "metadata": {},
     "output_type": "execute_result"
    }
   ],
   "source": [
    "aList = [3, 5, 7, 9]\n",
    "aList[-1:]=[8]                 # 替换最后一个元素\n",
    "aList"
   ]
  },
  {
   "cell_type": "code",
   "execution_count": 9,
   "metadata": {},
   "outputs": [
    {
     "data": {
      "text/plain": [
       "[5]"
      ]
     },
     "execution_count": 9,
     "metadata": {},
     "output_type": "execute_result"
    }
   ],
   "source": [
    "x=[1,2,3,4,5]\n",
    "y=x[-1:]\n",
    "y"
   ]
  },
  {
   "cell_type": "code",
   "execution_count": 130,
   "metadata": {},
   "outputs": [
    {
     "data": {
      "text/plain": [
       "[1, 2, 3, 8]"
      ]
     },
     "execution_count": 130,
     "metadata": {},
     "output_type": "execute_result"
    }
   ],
   "source": [
    "aList[:3] = [1, 2, 3]           #替换列表元素，等号两边的列表长度相等\n",
    "aList"
   ]
  },
  {
   "cell_type": "code",
   "execution_count": 131,
   "metadata": {},
   "outputs": [
    {
     "data": {
      "text/plain": [
       "[1, 2, 3, 4, 5, 6]"
      ]
     },
     "execution_count": 131,
     "metadata": {},
     "output_type": "execute_result"
    }
   ],
   "source": [
    "aList[3:] = [4, 5, 6]           #切片连续，等号两边的列表长度可以不相等\n",
    "aList"
   ]
  },
  {
   "cell_type": "code",
   "execution_count": 132,
   "metadata": {},
   "outputs": [
    {
     "data": {
      "text/plain": [
       "[0, 2, 0, 4, 0, 6]"
      ]
     },
     "execution_count": 132,
     "metadata": {},
     "output_type": "execute_result"
    }
   ],
   "source": [
    "aList[::2] = [0]*3              #隔一个修改一个\n",
    "aList"
   ]
  },
  {
   "cell_type": "code",
   "execution_count": 133,
   "metadata": {},
   "outputs": [
    {
     "data": {
      "text/plain": [
       "['a', 2, 'b', 4, 'c', 6]"
      ]
     },
     "execution_count": 133,
     "metadata": {},
     "output_type": "execute_result"
    }
   ],
   "source": [
    "aList[::2] = ['a', 'b', 'c']    #隔一个修改一个\n",
    "aList"
   ]
  },
  {
   "cell_type": "markdown",
   "metadata": {},
   "source": [
    "<font face='kaiti' size=5 style='line-height:1.5'>（4）使用切片删除列表中的元素"
   ]
  },
  {
   "cell_type": "code",
   "execution_count": 134,
   "metadata": {},
   "outputs": [
    {
     "data": {
      "text/plain": [
       "[9]"
      ]
     },
     "execution_count": 134,
     "metadata": {},
     "output_type": "execute_result"
    }
   ],
   "source": [
    "aList = [3, 5, 7, 9]\n",
    "aList[:3] = []                  #删除列表中前3个元素\n",
    "aList"
   ]
  },
  {
   "cell_type": "code",
   "execution_count": 135,
   "metadata": {},
   "outputs": [
    {
     "data": {
      "text/plain": [
       "[9, 11]"
      ]
     },
     "execution_count": 135,
     "metadata": {},
     "output_type": "execute_result"
    }
   ],
   "source": [
    "# 切片也可以结合使用del命令来删除列表中的部分元素，并且切片元素可以不连续。\n",
    "aList = [3, 5, 7, 9, 11]\n",
    "del aList[:3]                   #切片元素连续\n",
    "aList"
   ]
  },
  {
   "cell_type": "code",
   "execution_count": 136,
   "metadata": {},
   "outputs": [
    {
     "data": {
      "text/plain": [
       "[5, 9]"
      ]
     },
     "execution_count": 136,
     "metadata": {},
     "output_type": "execute_result"
    }
   ],
   "source": [
    "aList = [3, 5, 7, 9, 11]\n",
    "del aList[::2]                  #切片元素不连续，隔一个删一个\n",
    "aList"
   ]
  },
  {
   "cell_type": "markdown",
   "metadata": {},
   "source": [
    "### 列表对象支持的运算符\n",
    "<font face='kaiti' size=5 style='line-height:1.5'>\n",
    "    \n",
    "&emsp; 加法运算符\"+\"也可以实现列表增加元素的目的，但不属于原地操作，而是返回新列表，涉及大量元素的复制，效率非常低。使用复合赋值运算符\"+=\"实现列表追加元素时属于原地操作，与append()方法一样高效。   "
   ]
  },
  {
   "cell_type": "code",
   "execution_count": 155,
   "metadata": {
    "scrolled": true
   },
   "outputs": [
    {
     "name": "stdout",
     "output_type": "stream",
     "text": [
      "83753352\n",
      "[1, 2, 3, 4]\n",
      "83654920\n",
      "[1, 2, 3, 4, 5]\n",
      "83654920\n"
     ]
    }
   ],
   "source": [
    "x = [1, 2, 3]\n",
    "print(id(x))\n",
    "x = x + [4]                        #连接两个列表\n",
    "print(x)\n",
    "print(id(x))                       #内存地址发生改变\n",
    "x += [5]                           #使用复合赋值运算符为列表追加元素\n",
    "print(x)\n",
    "print(id(x))                       #内存地址不变"
   ]
  },
  {
   "cell_type": "markdown",
   "metadata": {},
   "source": [
    "<font face='kaiti' size=5 style='line-height:1.5'>\n",
    "    \n",
    "&emsp; 乘法运算符`*`可以用于列表和整数相乘，表示序列重复，返回新列表。运算符`*=`也可以用于列表元素重复，属于原地操作。"
   ]
  },
  {
   "cell_type": "code",
   "execution_count": 156,
   "metadata": {
    "scrolled": true
   },
   "outputs": [
    {
     "name": "stdout",
     "output_type": "stream",
     "text": [
      "83753352\n",
      "[1, 2, 3, 4, 1, 2, 3, 4]\n",
      "83654920\n",
      "[1, 2, 3, 4, 1, 2, 3, 4, 1, 2, 3, 4, 1, 2, 3, 4]\n",
      "83654920\n"
     ]
    }
   ],
   "source": [
    "x = [1, 2, 3, 4]\n",
    "print(id(x))\n",
    "x = x * 2                           #元素重复，返回新列表\n",
    "print(x)\n",
    "print(id(x))                        #地址发生改变\n",
    "x *= 2                              #元素重复，原地进行\n",
    "print(x)\n",
    "print(id(x))                        #地址不变"
   ]
  },
  {
   "cell_type": "markdown",
   "metadata": {},
   "source": [
    "<font face='kaiti' size=5 style='line-height:1.5'>\n",
    "\n",
    "&emsp;&emsp;但`+=`和`*=`用于数字、字符串等不可变类型数据时，不是原地操作。"
   ]
  },
  {
   "cell_type": "code",
   "execution_count": 3,
   "metadata": {},
   "outputs": [
    {
     "name": "stdout",
     "output_type": "stream",
     "text": [
      "1652649152\n",
      "1652649248\n",
      "89549264\n",
      "89618992\n",
      "89549824\n",
      "fire!fire!fire!\n",
      "89618928\n"
     ]
    }
   ],
   "source": [
    "x = 5\n",
    "print(id(x))\n",
    "x += 3\n",
    "print(id(x))\n",
    "s = 'Hello'\n",
    "print(id(s))\n",
    "s += ', world!'\n",
    "print(id(s))\n",
    "t = 'fire!'\n",
    "print(id(t))\n",
    "t *= 3\n",
    "print(id(t))"
   ]
  },
  {
   "cell_type": "markdown",
   "metadata": {},
   "source": [
    "<font face='kaiti' size=5 style='line-height:1.5'>\n",
    "    \n",
    "&emsp; 成员测试运算符in可用于测试列表中是否包含某个元素，查询时间随着列表长度的增加而线性增加，而同样的操作对于集合而言则是常数级的。"
   ]
  },
  {
   "cell_type": "code",
   "execution_count": 157,
   "metadata": {},
   "outputs": [
    {
     "data": {
      "text/plain": [
       "True"
      ]
     },
     "execution_count": 157,
     "metadata": {},
     "output_type": "execute_result"
    }
   ],
   "source": [
    "3 in [1, 2, 3]"
   ]
  },
  {
   "cell_type": "code",
   "execution_count": 158,
   "metadata": {},
   "outputs": [
    {
     "data": {
      "text/plain": [
       "False"
      ]
     },
     "execution_count": 158,
     "metadata": {},
     "output_type": "execute_result"
    }
   ],
   "source": [
    "3 in [1, 2, '3']"
   ]
  },
  {
   "cell_type": "markdown",
   "metadata": {},
   "source": [
    "### 列表常用方法\n",
    "<font face='kaiti' size=5 style='line-height:1.5'>\n",
    "    \n",
    "&emsp; 这里的方法指的是对象的成员函数，可用函数dir()列出列表对象的属性和方法。列表的常用方法能实现列表元素的追加、删除、清空、查找、计数、逆序、排序、浅复制等。"
   ]
  },
  {
   "cell_type": "markdown",
   "metadata": {},
   "source": [
    "<font face='kaiti' size=5 style='line-height:1.5'>\n",
    "    \n",
    "（1）append()、insert()、extend() <br> \n",
    "&emsp;append()用于向列表尾部追加一个元素，insert()用于向列表任意指定位置插入一个元素，extend()用于将另一个列表中的所有元素追加至当前列表的尾部。这3个方法都属于<font color=#ff0000>原地操作</font>，不影响列表对象在内存中的起始地址，而是新的数据取代原有的数据。"
   ]
  },
  {
   "cell_type": "code",
   "execution_count": 12,
   "metadata": {},
   "outputs": [
    {
     "data": {
      "text/plain": [
       "85226504"
      ]
     },
     "execution_count": 12,
     "metadata": {},
     "output_type": "execute_result"
    }
   ],
   "source": [
    "x = [1, 2, 3]\n",
    "id(x)                           #查看对象的内存地址"
   ]
  },
  {
   "cell_type": "code",
   "execution_count": 13,
   "metadata": {},
   "outputs": [
    {
     "name": "stdout",
     "output_type": "stream",
     "text": [
      "[0, 1, 2, 3, 4, 5, 6, 7]\n"
     ]
    },
    {
     "data": {
      "text/plain": [
       "85226504"
      ]
     },
     "execution_count": 13,
     "metadata": {},
     "output_type": "execute_result"
    }
   ],
   "source": [
    "x.append(4)                     #在尾部追加元素\n",
    "x.insert(0, 0)                  #在指定位置插入元素\n",
    "x.extend([5, 6, 7])             #在尾部追加多个元素\n",
    "print(x)\n",
    "id(x)                           #列表在内存中的地址不变"
   ]
  },
  {
   "cell_type": "markdown",
   "metadata": {},
   "source": [
    "<font face='kaiti' size=5 style='line-height:1.5'>    \n",
    "    \n",
    "（2）pop()、remove()、clear()    \n",
    "&emsp; pop()用于删除并返回指定位置（默认是最后一个）上的元素；remove()用于删除列表中第一个值与指定值相等的元素；clear()用于清空列表中的所有元素。这3个方法也属于<font color=#ff0000>原地操作</font>。另外，还可以使用del命令删除列表中指定位置的元素，同样也属于原地操作。"
   ]
  },
  {
   "cell_type": "code",
   "execution_count": 139,
   "metadata": {},
   "outputs": [
    {
     "data": {
      "text/plain": [
       "7"
      ]
     },
     "execution_count": 139,
     "metadata": {},
     "output_type": "execute_result"
    }
   ],
   "source": [
    "x = [1, 2, 3, 4, 5, 6, 7]\n",
    "x.pop()                        #弹出并返回尾部元素"
   ]
  },
  {
   "cell_type": "code",
   "execution_count": 140,
   "metadata": {},
   "outputs": [
    {
     "name": "stdout",
     "output_type": "stream",
     "text": [
      "1\n"
     ]
    },
    {
     "data": {
      "text/plain": [
       "[2, 3, 4, 5, 6]"
      ]
     },
     "execution_count": 140,
     "metadata": {},
     "output_type": "execute_result"
    }
   ],
   "source": [
    "t = x.pop(0)                       #弹出并返回指定位置的元素\n",
    "print(t)\n",
    "x"
   ]
  },
  {
   "cell_type": "code",
   "execution_count": 141,
   "metadata": {},
   "outputs": [
    {
     "data": {
      "text/plain": [
       "[3, 4, 5]"
      ]
     },
     "execution_count": 141,
     "metadata": {},
     "output_type": "execute_result"
    }
   ],
   "source": [
    "x.remove(2)                    #删除首个值为2的元素\n",
    "del x[3]                       #删除指定位置上的元素\n",
    "x"
   ]
  },
  {
   "cell_type": "markdown",
   "metadata": {},
   "source": [
    "<font face='kaiti' size=5 style='line-height:1.5'>\n",
    "    \n",
    "（3）count()、index()<br>\n",
    "&emsp; 列表方法count()用于返回列表中指定元素出现的次数；index()用于返回指定元素在列表中首次出现的位置，如果该元素不在列表中则抛出异常。"
   ]
  },
  {
   "cell_type": "code",
   "execution_count": 142,
   "metadata": {},
   "outputs": [
    {
     "data": {
      "text/plain": [
       "3"
      ]
     },
     "execution_count": 142,
     "metadata": {},
     "output_type": "execute_result"
    }
   ],
   "source": [
    "x = [1, 2, 2, 3, 3, 3, 4, 4, 4, 4]\n",
    "x.count(3)                     #元素3在列表x中的出现次数"
   ]
  },
  {
   "cell_type": "code",
   "execution_count": 143,
   "metadata": {},
   "outputs": [
    {
     "data": {
      "text/plain": [
       "0"
      ]
     },
     "execution_count": 143,
     "metadata": {},
     "output_type": "execute_result"
    }
   ],
   "source": [
    "x.count(5)                     #不存在，返回0"
   ]
  },
  {
   "cell_type": "code",
   "execution_count": 144,
   "metadata": {},
   "outputs": [
    {
     "data": {
      "text/plain": [
       "1"
      ]
     },
     "execution_count": 144,
     "metadata": {},
     "output_type": "execute_result"
    }
   ],
   "source": [
    "x.index(2)                     #元素2在列表x中首次出现的索引"
   ]
  },
  {
   "cell_type": "code",
   "execution_count": 145,
   "metadata": {},
   "outputs": [
    {
     "ename": "ValueError",
     "evalue": "5 is not in list",
     "output_type": "error",
     "traceback": [
      "\u001b[1;31m---------------------------------------------------------------------------\u001b[0m",
      "\u001b[1;31mValueError\u001b[0m                                Traceback (most recent call last)",
      "\u001b[1;32m<ipython-input-145-29ee68dbf7b0>\u001b[0m in \u001b[0;36m<module>\u001b[1;34m()\u001b[0m\n\u001b[1;32m----> 1\u001b[1;33m \u001b[0mx\u001b[0m\u001b[1;33m.\u001b[0m\u001b[0mindex\u001b[0m\u001b[1;33m(\u001b[0m\u001b[1;36m5\u001b[0m\u001b[1;33m)\u001b[0m                     \u001b[1;31m#列表x中没有5，抛出异常\u001b[0m\u001b[1;33m\u001b[0m\u001b[0m\n\u001b[0m",
      "\u001b[1;31mValueError\u001b[0m: 5 is not in list"
     ]
    }
   ],
   "source": [
    "x.index(5)                     #列表x中没有5，抛出异常"
   ]
  },
  {
   "cell_type": "markdown",
   "metadata": {},
   "source": [
    "<font face='kaiti' size=5 style='line-height:1.5'>\n",
    "    \n",
    "（4）sort()、reverse()  \n",
    "&emsp;&emsp;列表对象的sort()方法用于按照指定的规则对所有元素进行排序；reverse()方法用于将列表所有元素逆序或翻转。"
   ]
  },
  {
   "cell_type": "code",
   "execution_count": 146,
   "metadata": {},
   "outputs": [
    {
     "name": "stdout",
     "output_type": "stream",
     "text": [
      "83653448\n"
     ]
    },
    {
     "data": {
      "text/plain": [
       "[6, 0, 5, 3, 7, 9, 10, 4, 1, 8, 2]"
      ]
     },
     "execution_count": 146,
     "metadata": {},
     "output_type": "execute_result"
    }
   ],
   "source": [
    "x = list(range(11))                       #包含11个整数的列表\n",
    "import random\n",
    "random.shuffle(x)                         #把列表x中的元素随机乱序\n",
    "print(id(x))\n",
    "x"
   ]
  },
  {
   "cell_type": "code",
   "execution_count": 147,
   "metadata": {},
   "outputs": [
    {
     "name": "stdout",
     "output_type": "stream",
     "text": [
      "83653448\n"
     ]
    },
    {
     "data": {
      "text/plain": [
       "[0, 1, 2, 3, 4, 5, 6, 7, 8, 9, 10]"
      ]
     },
     "execution_count": 147,
     "metadata": {},
     "output_type": "execute_result"
    }
   ],
   "source": [
    "x.sort()                                  #按默认规则排序\n",
    "print(id(x))\n",
    "x"
   ]
  },
  {
   "cell_type": "code",
   "execution_count": 148,
   "metadata": {},
   "outputs": [
    {
     "data": {
      "text/plain": [
       "[0, 1, 10, 2, 3, 4, 5, 6, 7, 8, 9]"
      ]
     },
     "execution_count": 148,
     "metadata": {},
     "output_type": "execute_result"
    }
   ],
   "source": [
    "x.sort(key=str)                           #按转换为字符串后的大小，升序排序\n",
    "x"
   ]
  },
  {
   "cell_type": "code",
   "execution_count": 149,
   "metadata": {},
   "outputs": [
    {
     "data": {
      "text/plain": [
       "[10, 0, 1, 2, 3, 4, 5, 6, 7, 8, 9]"
      ]
     },
     "execution_count": 149,
     "metadata": {},
     "output_type": "execute_result"
    }
   ],
   "source": [
    "x.sort(key=lambda item:len(str(item)), reverse=True)  #按转换成字符串以后的长度，降序排列\n",
    "x"
   ]
  },
  {
   "cell_type": "code",
   "execution_count": 150,
   "metadata": {},
   "outputs": [
    {
     "name": "stdout",
     "output_type": "stream",
     "text": [
      "83653448\n"
     ]
    },
    {
     "data": {
      "text/plain": [
       "[9, 8, 7, 6, 5, 4, 3, 2, 1, 0, 10]"
      ]
     },
     "execution_count": 150,
     "metadata": {},
     "output_type": "execute_result"
    }
   ],
   "source": [
    "x.reverse()\n",
    "print(id(x))\n",
    "x"
   ]
  },
  {
   "cell_type": "markdown",
   "metadata": {},
   "source": [
    "<font face='kaiti' size=5 style='line-height:1.5'>\n",
    "    \n",
    "（5）copy()  \n",
    "&emsp;&emsp;列表对象的copy()方法返回列表的浅复制。与浅复制相对的，还有copy库的深复制deepcopy()，以及赋值给一个变量。之所以需要浅复制和深复制，是因为Python中的变量并不直接存储值，而是存储了值的内存地址或者引用，当对一个变量做原地操作时，另一个变量会受影响。见下面的示例："
   ]
  },
  {
   "cell_type": "code",
   "execution_count": 151,
   "metadata": {},
   "outputs": [
    {
     "data": {
      "text/plain": [
       "'Python'"
      ]
     },
     "execution_count": 151,
     "metadata": {},
     "output_type": "execute_result"
    }
   ],
   "source": [
    "# 将对象x赋值给y，x重新赋值，不会改变y\n",
    "x = 'Python'\n",
    "y = x\n",
    "x = 'python'\n",
    "y"
   ]
  },
  {
   "cell_type": "code",
   "execution_count": 152,
   "metadata": {},
   "outputs": [
    {
     "name": "stdout",
     "output_type": "stream",
     "text": [
      "[1, 2, [3, 4, 5], 6]\n",
      "[1, 2, [3, 4, 5], 6]\n"
     ]
    }
   ],
   "source": [
    "# 将对象x赋值给y，对x做原地操作，则y一起改变\n",
    "x = [1, 2, [3, 4]]\n",
    "y = x\n",
    "x[2].append(5)\n",
    "x.append(6)\n",
    "print(x)\n",
    "print(y)"
   ]
  },
  {
   "cell_type": "markdown",
   "metadata": {},
   "source": [
    "<font face='kaiti' size=5 style='line-height:1.5'>\n",
    "    \n",
    "&emsp; 在编程时，我们经常需要改变一个对象的元素，但又需要保留原对象。将原对象赋值给一个新变量后，两者指向的地址是一致的。如果对某一变量重新赋值，这时2个变量分别指向不同的对象；但如果对某一变量的值做原地操作，则另一个将同样改变，不能保留原对象。Python中引入浅复制和深复制来解决这个问题。<p>\n",
    "&emsp; 所谓浅复制，是指生成一个新的列表，并且把原列表中所有元素的引用都复制到新列表中。如果原列表包含数字、字符串、元组这样的不可变类型的数据，则改变任何一个列表的不可变数据，另一个列表的对应数据不会改变。但如果原列表包含列表之类的可变类型数据，则在任何一个列表中，<font color=#ff0000>对可变类型数据做原地操作，另一个列表中的对应数据也做同样变化</font>，但如果对可变类型数据做非原地操作，另一个列表中的对应数据不改变。因为Python中，不可变数据不存在原地操作，所以，以上可以概括为：<font color=#ff0000>对列表及其浅复制中的某一个列表的元素做原地操作，则另一列表的对应元素也同样变化</font>。"
   ]
  },
  {
   "cell_type": "code",
   "execution_count": 5,
   "metadata": {},
   "outputs": [
    {
     "name": "stdout",
     "output_type": "stream",
     "text": [
      "[1, 2, [3, 4, 5], [5, 6, 7], 6]\n",
      "[6, 2, [3, 4, 5], [5, 6, 7]]\n"
     ]
    }
   ],
   "source": [
    "# 注意下例中对子列表的两种不同操作\n",
    "x = [1, 2, [3, 4],[5, 6]]\n",
    "y = x.copy()                           # 浅复制\n",
    "y[2] = y[2] + [5]                      # 对新列表中的子列表重新赋值，另一个列表的对应子列表不改变\n",
    "y.append(6)                            # 在新列表尾部追加元素，不影响另一个列表\n",
    "x[3].append(7)                         # 对原列表中的子列表追加数据，另一个列表的子列表同样变化\n",
    "x[0] = 6                               # 修改不可变类型数据，不影响另一个列表\n",
    "print(y)\n",
    "print(x)"
   ]
  },
  {
   "cell_type": "markdown",
   "metadata": {},
   "source": [
    "<font face='kaiti' size=5 style='line-height:1.5'>\n",
    "    \n",
    "&emsp; 如果希望列表被复制后，两者元素的原地操作不相互影响，可以使用标准库copy中的<font color=#ff0000>deepcopy()函数实现深复制</font>。这样得到的新列表和原列表是相互独立的，修改任何一个都不会影响另一个。"
   ]
  },
  {
   "cell_type": "code",
   "execution_count": 6,
   "metadata": {},
   "outputs": [
    {
     "name": "stdout",
     "output_type": "stream",
     "text": [
      "[0, 2, [3, 4, 5]]\n",
      "[1, 2, [3, 4, 6], 7]\n"
     ]
    }
   ],
   "source": [
    "import copy\n",
    "x = [1, 2, [3, 4]]\n",
    "y = copy.deepcopy(x)      # 深复制\n",
    "x[2].append(5)            # x的子列表原地操作，不影响y\n",
    "x[0] = 0\n",
    "y[2] += [6]               # y的子列表原地操作，不影响x\n",
    "y.append(7)\n",
    "print(x)\n",
    "print(y)"
   ]
  },
  {
   "cell_type": "markdown",
   "metadata": {},
   "source": [
    "### Python内置函数对列表的操作\n",
    "<font face='kaiti' size=5 style='line-height:1.5'>\n",
    "    \n",
    "- max()、min()函数用于返回列表中所有元素的最大值和最小值；\n",
    "- sum()函数用于返回列表中所有元素之和；\n",
    "- len()函数用于返回列表中元素个数，zip()函数用于将多个列表中元素重新组合为元组并返回包含这些元组的zip对象；\n",
    "- enumerate()函数返回包含若干下标和值的迭代对象；\n",
    "- map()函数把函数映射到列表上的每个元素，filter()函数根据指定函数的返回值对列表元素进行过滤；\n",
    "- all()函数用来测试列表中是否所有元素都等价于True，any()用来测试列表中是否有等价于True的元素。\n",
    "- sorted()、reversed()函数用于对列表进行排序和逆序，但不是原地操作。\n",
    "- 标准库functools中的reduce()函数以及标准库itertools中的compress()、groupby()、dropwhile()等大量函数也可以对列表进行操作。"
   ]
  },
  {
   "cell_type": "code",
   "execution_count": 159,
   "metadata": {},
   "outputs": [
    {
     "name": "stdout",
     "output_type": "stream",
     "text": [
      "x:  [4, 2, 5, 7, 3, 9, 8, 10, 6, 1, 0]\n",
      "len(x):  11\n",
      "all(x):  False\n",
      "any(x):  True\n",
      "max(x):  10\n",
      "max(x, key=str):  9\n",
      "min(x):  0\n",
      "sum(x):  55\n",
      "len(x):  11\n",
      "[0, 1, 2, 3, 4, 5, 6, 7, 8, 9, 10]\n",
      "[4, 2, 5, 7, 3, 9, 8, 10, 6, 1, 0]\n"
     ]
    }
   ],
   "source": [
    "x = list(range(11))              #生成列表\n",
    "import random\n",
    "random.shuffle(x)                #打乱列表中元素顺序\n",
    "print('x: ', x)\n",
    "print('len(x): ', len(x))                           # 输出列表的长度\n",
    "print('all(x): ', all(x))                           # 测试是否所有元素都等价于True\n",
    "print('any(x): ', any(x))                           # 测试是否存在等价于True的元素\n",
    "print('max(x): ', max(x))                           # 返回最大值\n",
    "print('max(x, key=str): ',max(x, key=str))                  #按指定规则返回最大值\n",
    "print('min(x): ', min(x))\n",
    "print('sum(x): ', sum(x))\n",
    "print('len(x): ', len(x))\n",
    "print(sorted(x))\n",
    "print(x)"
   ]
  },
  {
   "cell_type": "code",
   "execution_count": 11,
   "metadata": {},
   "outputs": [
    {
     "data": {
      "text/plain": [
       "[(1, 'a'), (2, 'b'), (3, 'c'), (4, 'd'), (5, 'e')]"
      ]
     },
     "execution_count": 11,
     "metadata": {},
     "output_type": "execute_result"
    }
   ],
   "source": [
    "list(zip(x, 'abcdefgh'))      #多列表元素重新组合"
   ]
  },
  {
   "cell_type": "code",
   "execution_count": 161,
   "metadata": {},
   "outputs": [
    {
     "data": {
      "text/plain": [
       "[(0, 4),\n",
       " (1, 2),\n",
       " (2, 5),\n",
       " (3, 7),\n",
       " (4, 3),\n",
       " (5, 9),\n",
       " (6, 8),\n",
       " (7, 10),\n",
       " (8, 6),\n",
       " (9, 1),\n",
       " (10, 0)]"
      ]
     },
     "execution_count": 161,
     "metadata": {},
     "output_type": "execute_result"
    }
   ],
   "source": [
    "list(enumerate(x))        #enumerate对象可以转换为列表、元组、集合"
   ]
  },
  {
   "cell_type": "markdown",
   "metadata": {},
   "source": [
    "### 【列表推导式】\n",
    "<font face='kaiti' size=5 style='line-height:1.5'>\n",
    "    \n",
    "&emsp;&emsp;列表推导式使用非常简洁的方式来快速生成满足特定需求的列表，代码具有非常强的可读性。<br>\n",
    "&emsp;&emsp;列表推导式语法形式为：<br>\n",
    "\\[expression for expr1 in sequence1 if condition1  \n",
    "&emsp; &emsp; &emsp; &emsp; for expr2 in sequence2 if condition2  \n",
    "&emsp; &emsp; &emsp; &emsp; for expr3 in sequence3 if condition3  \n",
    "&emsp; &emsp; &emsp; &emsp; ...  \n",
    "&emsp; &emsp; &emsp; &emsp; for exprN in sequenceN if conditionN] <br>\n",
    "列表推导式在逻辑上等价于一个循环语句，只是形式上更加简洁。例如：\n",
    "```python\n",
    "aList = [x*x for x in range(10)]\n",
    "```\n",
    "相当于\n",
    "```python\n",
    "aList = []\n",
    "for x in range(10):\n",
    "    aList.append(x*x)\n",
    "```   \n",
    "下例中使用列表推导式的语句\n",
    "```python    \n",
    "freshfruit = [' banana', ' loganberry ', 'passion fruit ']\n",
    "aList = [w.strip() for w in freshfruit]\n",
    "```\n",
    "等价于\n",
    "```python\n",
    "aList = []\n",
    "for item in freshfruit:\n",
    "    aList.append(item.strip())\n",
    "```"
   ]
  },
  {
   "cell_type": "markdown",
   "metadata": {},
   "source": [
    "<font face='kaiti' size=5 style='line-height:1.5'>\n",
    "（1）实现嵌套列表的平铺"
   ]
  },
  {
   "cell_type": "code",
   "execution_count": 162,
   "metadata": {},
   "outputs": [
    {
     "data": {
      "text/plain": [
       "[1, 2, 3, 4, 5, 6, 7, 8, 9]"
      ]
     },
     "execution_count": 162,
     "metadata": {},
     "output_type": "execute_result"
    }
   ],
   "source": [
    "vec = [[1, 2, 3], [4, 5, 6], [7, 8, 9]]\n",
    "[num for elem in vec for num in elem]"
   ]
  },
  {
   "cell_type": "markdown",
   "metadata": {},
   "source": [
    "<font face='kaiti' size=5 style='line-height:1.5'>\n",
    "    \n",
    "&emsp; 在这个列表推导式中有2个循环，其中第一个循环可以看作是外循环，执行的慢；而第二个循环可以看作是内循环，执行的快。上面代码的执行过程等价于下面的写法："
   ]
  },
  {
   "cell_type": "code",
   "execution_count": 163,
   "metadata": {},
   "outputs": [
    {
     "data": {
      "text/plain": [
       "[1, 2, 3, 4, 5, 6, 7, 8, 9]"
      ]
     },
     "execution_count": 163,
     "metadata": {},
     "output_type": "execute_result"
    }
   ],
   "source": [
    "vec = [[1, 2, 3], [4, 5, 6], [7, 8, 9]]\n",
    "result = []\n",
    "for elem in vec:    # elem指代列表中的各子列表\n",
    "    for num in elem:    # num指代子列表中的元素\n",
    "        result.append(num)\n",
    "result"
   ]
  },
  {
   "cell_type": "markdown",
   "metadata": {},
   "source": [
    "<font face='kaiti' size=5 style='line-height:1.5'>\n",
    "    \n",
    "（2）过滤不符合条件的元素\n",
    "在列表推导式中可以使用if子句对列表中的元素进行筛选，只在结果列表中保留符合条件的元素。<br>&emsp; 下面的代码可以列出当前文件夹下所有Python源文件："
   ]
  },
  {
   "cell_type": "code",
   "execution_count": 164,
   "metadata": {},
   "outputs": [
    {
     "data": {
      "text/plain": [
       "[]"
      ]
     },
     "execution_count": 164,
     "metadata": {},
     "output_type": "execute_result"
    }
   ],
   "source": [
    " import os\n",
    "[filename for filename in os.listdir('.') if filename.endswith(('.py', '.pyw'))]"
   ]
  },
  {
   "cell_type": "markdown",
   "metadata": {},
   "source": [
    "<font face='kaiti' size=5 style='line-height:1.5'>\n",
    "&emsp; 下面的代码用于从列表中选择符合条件的元素组成新的列表："
   ]
  },
  {
   "cell_type": "code",
   "execution_count": 165,
   "metadata": {},
   "outputs": [
    {
     "data": {
      "text/plain": [
       "[6, 7.5, 9]"
      ]
     },
     "execution_count": 165,
     "metadata": {},
     "output_type": "execute_result"
    }
   ],
   "source": [
    "aList = [-1, -4, 6, 7.5, -2.3, 9, -11]\n",
    "[i for i in aList if i>0]                          #所有大于0的数"
   ]
  },
  {
   "cell_type": "markdown",
   "metadata": {},
   "source": [
    "<font face='kaiti' size=5 style='line-height:1.5'>\n",
    "    \n",
    "&emsp; 问题解决：已知有一个包含一些同学成绩的字典，现在需要计算所有成绩的最高分、最低分、平均分，并查找所有最高分同学，代码可以这样编写："
   ]
  },
  {
   "cell_type": "code",
   "execution_count": 166,
   "metadata": {},
   "outputs": [
    {
     "name": "stdout",
     "output_type": "stream",
     "text": [
      "[99, 40, 72.33333333333333]\n"
     ]
    },
    {
     "data": {
      "text/plain": [
       "['Wu Shi']"
      ]
     },
     "execution_count": 166,
     "metadata": {},
     "output_type": "execute_result"
    }
   ],
   "source": [
    "scores = {\"Zhang San\": 45, \"Li Si\": 78, \"Wang Wu\": 40, \"Zhou Liu\": 96,\n",
    "          \"Zhao Qi\": 65, \"Sun Ba\": 90, \"Zheng Jiu\": 78, \"Wu Shi\": 99,\n",
    "          \"Dong Shiyi\": 60}\n",
    "highest = max(scores.values())                   #最高分\n",
    "lowest = min(scores.values())                    #最低分\n",
    "average = sum(scores.values()) / len(scores)     #平均分\n",
    "print([highest, lowest, average])\n",
    "highestPerson = [name for name, score in scores.items() if score == highest]\n",
    "highestPerson"
   ]
  },
  {
   "cell_type": "markdown",
   "metadata": {},
   "source": [
    "<font face='kaiti' size=5 style='line-height:1.5'>\n",
    "（3）同时遍历多个列表或可迭代对象，见下例："
   ]
  },
  {
   "cell_type": "code",
   "execution_count": 167,
   "metadata": {},
   "outputs": [
    {
     "data": {
      "text/plain": [
       "[(1, 3), (1, 4), (2, 3), (2, 1), (2, 4), (3, 1), (3, 4)]"
      ]
     },
     "execution_count": 167,
     "metadata": {},
     "output_type": "execute_result"
    }
   ],
   "source": [
    "[(x, y) for x in [1, 2, 3] for y in [3, 1, 4] if x != y]"
   ]
  },
  {
   "cell_type": "code",
   "execution_count": 168,
   "metadata": {},
   "outputs": [
    {
     "data": {
      "text/plain": [
       "[(1, 3), (1, 4)]"
      ]
     },
     "execution_count": 168,
     "metadata": {},
     "output_type": "execute_result"
    }
   ],
   "source": [
    "[(x, y) for x in [1, 2, 3] if x==1 for y in [3, 1, 4] if y!=x]"
   ]
  },
  {
   "cell_type": "markdown",
   "metadata": {},
   "source": [
    "<font face='kaiti' size=5 style='line-height:1.5'>\n",
    "&emsp; 对于包含多个循环的列表推导式，一定要清楚多个循环的执行顺序或“嵌套关系”。例如，上面第一个列表推导式等价于"
   ]
  },
  {
   "cell_type": "code",
   "execution_count": 169,
   "metadata": {},
   "outputs": [
    {
     "data": {
      "text/plain": [
       "[(1, 3), (1, 4), (2, 3), (2, 1), (2, 4), (3, 1), (3, 4)]"
      ]
     },
     "execution_count": 169,
     "metadata": {},
     "output_type": "execute_result"
    }
   ],
   "source": [
    "result = []\n",
    "for x in [1, 2, 3]:\n",
    "    for y in [3, 1, 4]:\n",
    "        if x != y:\n",
    "            result.append((x,y))\n",
    "result"
   ]
  },
  {
   "cell_type": "markdown",
   "metadata": {},
   "source": [
    "<font face='kaiti' size=5 style='line-height:1.5'>\n",
    "（4）使用列表推导式实现矩阵转置"
   ]
  },
  {
   "cell_type": "code",
   "execution_count": 170,
   "metadata": {},
   "outputs": [
    {
     "data": {
      "text/plain": [
       "[[1, 5, 9], [2, 6, 10], [3, 7, 11], [4, 8, 12]]"
      ]
     },
     "execution_count": 170,
     "metadata": {},
     "output_type": "execute_result"
    }
   ],
   "source": [
    "matrix = [ [1, 2, 3, 4], [5, 6, 7, 8], [9, 10, 11, 12]]\n",
    "[[row[i] for row in matrix] for i in range(4)]"
   ]
  },
  {
   "cell_type": "markdown",
   "metadata": {},
   "source": [
    "<font face='kaiti' size=5 style='line-height:1.5'>\n",
    "上面列表推导式的执行过程等价于下面的代码"
   ]
  },
  {
   "cell_type": "code",
   "execution_count": 171,
   "metadata": {},
   "outputs": [
    {
     "data": {
      "text/plain": [
       "[[1, 5, 9], [2, 6, 10], [3, 7, 11], [4, 8, 12]]"
      ]
     },
     "execution_count": 171,
     "metadata": {},
     "output_type": "execute_result"
    }
   ],
   "source": [
    "matrix = [ [1, 2, 3, 4], [5, 6, 7, 8], [9, 10, 11, 12]]\n",
    "result = []\n",
    "for i in range(len(matrix[0])):\n",
    "    result.append([row[i] for row in matrix])\n",
    "result"
   ]
  },
  {
   "cell_type": "markdown",
   "metadata": {},
   "source": [
    "### 小结\n",
    "<font face='kaiti' size=5 style='line-height:1.5'>\n",
    "    \n",
    "1. 列表是包含若干元素的有序连续内存空间，当增加和删除元素时，列表对象自动进行内存的扩展和收缩，保证相邻元素之间没有间隙；\n",
    "2. 应尽量从列表尾部进行元素的追加与删除操作；\n",
    "3. 列表、字符串、range对象、元组都支持双向索引；\n",
    "4. 列表的切片操作可以同时访问多个列表元素、也可以增加、修改、删除多个列表元素。\n",
    "5. 列表的方法append(), insert(), extend(), pop(), remove(), clear(), sort(), reverse(), 以及2个复合赋值符\"+=\", \"\\*=\"带来的操作都是原地操作。\n",
    "6. Python内置函数sorted(), reversed()也可用于对列表进行排序和逆序，但不是原地操作。"
   ]
  },
  {
   "cell_type": "markdown",
   "metadata": {},
   "source": [
    "### 练习\n",
    "<font size=4>\n",
    "&emsp;教材P74. 选做习题中有关列表的部分。"
   ]
  },
  {
   "cell_type": "code",
   "execution_count": null,
   "metadata": {},
   "outputs": [],
   "source": []
  }
 ],
 "metadata": {
  "kernelspec": {
   "display_name": "Python 3",
   "language": "python",
   "name": "python3"
  },
  "language_info": {
   "codemirror_mode": {
    "name": "ipython",
    "version": 3
   },
   "file_extension": ".py",
   "mimetype": "text/x-python",
   "name": "python",
   "nbconvert_exporter": "python",
   "pygments_lexer": "ipython3",
   "version": "3.7.3"
  },
  "latex_envs": {
   "LaTeX_envs_menu_present": true,
   "autoclose": false,
   "autocomplete": true,
   "bibliofile": "biblio.bib",
   "cite_by": "apalike",
   "current_citInitial": 1,
   "eqLabelWithNumbers": true,
   "eqNumInitial": 1,
   "hotkeys": {
    "equation": "Ctrl-E",
    "itemize": "Ctrl-I"
   },
   "labels_anchors": false,
   "latex_user_defs": false,
   "report_style_numbering": false,
   "user_envs_cfg": false
  },
  "toc": {
   "base_numbering": "3",
   "nav_menu": {},
   "number_sections": true,
   "sideBar": true,
   "skip_h1_title": false,
   "title_cell": "目录",
   "title_sidebar": "目录",
   "toc_cell": true,
   "toc_position": {},
   "toc_section_display": true,
   "toc_window_display": false
  }
 },
 "nbformat": 4,
 "nbformat_minor": 2
}
