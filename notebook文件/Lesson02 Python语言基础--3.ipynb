{
 "cells": [
  {
   "cell_type": "markdown",
   "metadata": {
    "toc": true
   },
   "source": [
    "<h1>目录<span class=\"tocSkip\"></span></h1>\n",
    "<div class=\"toc\"><ul class=\"toc-item\"><li><span><a href=\"#Python语言基础\" data-toc-modified-id=\"Python语言基础-2\"><span class=\"toc-item-num\">2&nbsp;&nbsp;</span>Python语言基础</a></span><ul class=\"toc-item\"><li><span><a href=\"#Python语法规范\" data-toc-modified-id=\"Python语法规范-2.1\"><span class=\"toc-item-num\">2.1&nbsp;&nbsp;</span><a href=\"Lesson02 Python语言基础--1.ipynb\" target=\"_blank\">Python语法规范</a></a></span></li><li><span><a href=\"#Python常用内置对象\" data-toc-modified-id=\"Python常用内置对象-2.2\"><span class=\"toc-item-num\">2.2&nbsp;&nbsp;</span><a href=\"Lesson02 Python语言基础--1.ipynb\" target=\"_blank\">Python常用内置对象</a></a></span></li><li><span><a href=\"#Python运算符与表达式\" data-toc-modified-id=\"Python运算符与表达式-2.3\"><span class=\"toc-item-num\">2.3&nbsp;&nbsp;</span><a href=\"Lesson02 Python语言基础--2.ipynb\" target=\"_blank\">Python运算符与表达式</a></a></span></li><li><span><a href=\"#Python关键字\" data-toc-modified-id=\"Python关键字-2.4\"><span class=\"toc-item-num\">2.4&nbsp;&nbsp;</span><a href=\"Lesson02 Python语言基础--2.ipynb\" target=\"_blank\">Python关键字</a></a></span></li><li><span><a href=\"#Python常用内置函数用法精要\" data-toc-modified-id=\"Python常用内置函数用法精要-2.5\"><span class=\"toc-item-num\">2.5&nbsp;&nbsp;</span>Python常用内置函数用法精要</a></span><ul class=\"toc-item\"><li><span><a href=\"#数学运算\" data-toc-modified-id=\"数学运算-2.5.1\"><span class=\"toc-item-num\">2.5.1&nbsp;&nbsp;</span>数学运算</a></span></li><li><span><a href=\"#类型转换与类型判断\" data-toc-modified-id=\"类型转换与类型判断-2.5.2\"><span class=\"toc-item-num\">2.5.2&nbsp;&nbsp;</span>类型转换与类型判断</a></span></li><li><span><a href=\"#range()\" data-toc-modified-id=\"range()-2.5.3\"><span class=\"toc-item-num\">2.5.3&nbsp;&nbsp;</span>range()</a></span></li><li><span><a href=\"#基本输入输出\" data-toc-modified-id=\"基本输入输出-2.5.4\"><span class=\"toc-item-num\">2.5.4&nbsp;&nbsp;</span>基本输入输出</a></span></li><li><span><a href=\"#排序与逆序\" data-toc-modified-id=\"排序与逆序-2.5.5\"><span class=\"toc-item-num\">2.5.5&nbsp;&nbsp;</span>排序与逆序</a></span></li><li><span><a href=\"#eval()、exec()\" data-toc-modified-id=\"eval()、exec()-2.5.6\"><span class=\"toc-item-num\">2.5.6&nbsp;&nbsp;</span>eval()、exec()</a></span></li><li><span><a href=\"#map()、filter()、reduce()\" data-toc-modified-id=\"map()、filter()、reduce()-2.5.7\"><span class=\"toc-item-num\">2.5.7&nbsp;&nbsp;</span>map()、filter()、reduce()</a></span></li><li><span><a href=\"#枚举\" data-toc-modified-id=\"枚举-2.5.8\"><span class=\"toc-item-num\">2.5.8&nbsp;&nbsp;</span>枚举</a></span></li><li><span><a href=\"#zip()\" data-toc-modified-id=\"zip()-2.5.9\"><span class=\"toc-item-num\">2.5.9&nbsp;&nbsp;</span>zip()</a></span></li></ul></li><li><span><a href=\"#综合案例\" data-toc-modified-id=\"综合案例-2.6\"><span class=\"toc-item-num\">2.6&nbsp;&nbsp;</span>综合案例</a></span></li><li><span><a href=\"#小结\" data-toc-modified-id=\"小结-2.7\"><span class=\"toc-item-num\">2.7&nbsp;&nbsp;</span>小结</a></span></li><li><span><a href=\"#练习\" data-toc-modified-id=\"练习-2.8\"><span class=\"toc-item-num\">2.8&nbsp;&nbsp;</span>练习</a></span></li></ul></li></ul></div>"
   ]
  },
  {
   "cell_type": "markdown",
   "metadata": {},
   "source": [
    "# Python语言基础\n",
    "## [Python语法规范](Lesson02 Python语言基础--1.ipynb)\n",
    "## [Python常用内置对象](Lesson02 Python语言基础--1.ipynb)\n",
    "## [Python运算符与表达式](Lesson02 Python语言基础--2.ipynb)\n",
    "## [Python关键字](Lesson02 Python语言基础--2.ipynb)"
   ]
  },
  {
   "cell_type": "markdown",
   "metadata": {},
   "source": [
    "## Python常用内置函数用法精要\n",
    "<font face='kaiti' size=5  style=\"line-height:1.5\">\n",
    "&emsp;&emsp;内置函数（BIF，built-in functions）是Python内置对象类型之一，不需要额外导入任何模块即可直接使用，这些内置对象都封装在内置模块__builtins__之中，用C语言实现并且进行了大量优化，具有非常快的运行速度，推荐优先使用。使用内置函数dir()可以查看所有内置函数和内置对象：\n",
    "```python\n",
    "dir(__builtins__)\n",
    "```\n",
    "&emsp;&emsp;使用help(函数名)可以查看某个函数的用法。常用内置函数及其功能简要说明见教材《Python基础》P25之表2-5."
   ]
  },
  {
   "cell_type": "code",
   "execution_count": 1,
   "metadata": {},
   "outputs": [
    {
     "data": {
      "text/plain": [
       "['ArithmeticError',\n",
       " 'AssertionError',\n",
       " 'AttributeError',\n",
       " 'BaseException',\n",
       " 'BlockingIOError',\n",
       " 'BrokenPipeError',\n",
       " 'BufferError',\n",
       " 'BytesWarning',\n",
       " 'ChildProcessError',\n",
       " 'ConnectionAbortedError',\n",
       " 'ConnectionError',\n",
       " 'ConnectionRefusedError',\n",
       " 'ConnectionResetError',\n",
       " 'DeprecationWarning',\n",
       " 'EOFError',\n",
       " 'Ellipsis',\n",
       " 'EnvironmentError',\n",
       " 'Exception',\n",
       " 'False',\n",
       " 'FileExistsError',\n",
       " 'FileNotFoundError',\n",
       " 'FloatingPointError',\n",
       " 'FutureWarning',\n",
       " 'GeneratorExit',\n",
       " 'IOError',\n",
       " 'ImportError',\n",
       " 'ImportWarning',\n",
       " 'IndentationError',\n",
       " 'IndexError',\n",
       " 'InterruptedError',\n",
       " 'IsADirectoryError',\n",
       " 'KeyError',\n",
       " 'KeyboardInterrupt',\n",
       " 'LookupError',\n",
       " 'MemoryError',\n",
       " 'ModuleNotFoundError',\n",
       " 'NameError',\n",
       " 'None',\n",
       " 'NotADirectoryError',\n",
       " 'NotImplemented',\n",
       " 'NotImplementedError',\n",
       " 'OSError',\n",
       " 'OverflowError',\n",
       " 'PendingDeprecationWarning',\n",
       " 'PermissionError',\n",
       " 'ProcessLookupError',\n",
       " 'RecursionError',\n",
       " 'ReferenceError',\n",
       " 'ResourceWarning',\n",
       " 'RuntimeError',\n",
       " 'RuntimeWarning',\n",
       " 'StopAsyncIteration',\n",
       " 'StopIteration',\n",
       " 'SyntaxError',\n",
       " 'SyntaxWarning',\n",
       " 'SystemError',\n",
       " 'SystemExit',\n",
       " 'TabError',\n",
       " 'TimeoutError',\n",
       " 'True',\n",
       " 'TypeError',\n",
       " 'UnboundLocalError',\n",
       " 'UnicodeDecodeError',\n",
       " 'UnicodeEncodeError',\n",
       " 'UnicodeError',\n",
       " 'UnicodeTranslateError',\n",
       " 'UnicodeWarning',\n",
       " 'UserWarning',\n",
       " 'ValueError',\n",
       " 'Warning',\n",
       " 'WindowsError',\n",
       " 'ZeroDivisionError',\n",
       " '__IPYTHON__',\n",
       " '__build_class__',\n",
       " '__debug__',\n",
       " '__doc__',\n",
       " '__import__',\n",
       " '__loader__',\n",
       " '__name__',\n",
       " '__package__',\n",
       " '__spec__',\n",
       " 'abs',\n",
       " 'all',\n",
       " 'any',\n",
       " 'ascii',\n",
       " 'bin',\n",
       " 'bool',\n",
       " 'breakpoint',\n",
       " 'bytearray',\n",
       " 'bytes',\n",
       " 'callable',\n",
       " 'chr',\n",
       " 'classmethod',\n",
       " 'compile',\n",
       " 'complex',\n",
       " 'copyright',\n",
       " 'credits',\n",
       " 'delattr',\n",
       " 'dict',\n",
       " 'dir',\n",
       " 'display',\n",
       " 'divmod',\n",
       " 'enumerate',\n",
       " 'eval',\n",
       " 'exec',\n",
       " 'filter',\n",
       " 'float',\n",
       " 'format',\n",
       " 'frozenset',\n",
       " 'get_ipython',\n",
       " 'getattr',\n",
       " 'globals',\n",
       " 'hasattr',\n",
       " 'hash',\n",
       " 'help',\n",
       " 'hex',\n",
       " 'id',\n",
       " 'input',\n",
       " 'int',\n",
       " 'isinstance',\n",
       " 'issubclass',\n",
       " 'iter',\n",
       " 'len',\n",
       " 'license',\n",
       " 'list',\n",
       " 'locals',\n",
       " 'map',\n",
       " 'max',\n",
       " 'memoryview',\n",
       " 'min',\n",
       " 'next',\n",
       " 'object',\n",
       " 'oct',\n",
       " 'open',\n",
       " 'ord',\n",
       " 'pow',\n",
       " 'print',\n",
       " 'property',\n",
       " 'range',\n",
       " 'repr',\n",
       " 'reversed',\n",
       " 'round',\n",
       " 'set',\n",
       " 'setattr',\n",
       " 'slice',\n",
       " 'sorted',\n",
       " 'staticmethod',\n",
       " 'str',\n",
       " 'sum',\n",
       " 'super',\n",
       " 'tuple',\n",
       " 'type',\n",
       " 'vars',\n",
       " 'zip']"
      ]
     },
     "execution_count": 1,
     "metadata": {},
     "output_type": "execute_result"
    }
   ],
   "source": [
    "dir(__builtins__)"
   ]
  },
  {
   "cell_type": "markdown",
   "metadata": {},
   "source": [
    "### 数学运算\n",
    "<font face='kaiti' size=5 style='line-height:1.5'>\n",
    "- abs(x): &emsp; &emsp; &emsp; 返回数字x的绝对值或复数x的模；\n",
    "- round(x[, 小数位数]): &emsp; 对x做四舍五入，若不指定小数位数，则返回整数；\n",
    "- pow(x, y, z=None): &emsp; 返回x的y次方，等价于x*\\*y或(x*\\*y) % z.    \n",
    "- max()、min()、sum()这三个内置函数分别用于计算列表、元组或其他包含有限个元素的可迭代对象中所有元素最大值、最小值以及所有元素之和。  \n",
    "- sum()默认（可以通过start参数来改变）支持包含数值型元素的序列或可迭代对象，max()和min()则要求序列或可迭代对象中的元素之间可比较大小。  \n",
    "- 函数max()和min()还支持default参数和key参数，其中default参数用来指定可迭代对象为空时默认返回的最大值或最小值，而key参数用来指定比较大小的依据或规则，可以是函数或lambda表达式。函数sum()还支持start参数，用来控制求和的初始值。\n",
    "- 更多数学函数，需要导入math标准库。见[math标准库用法](math标准库用法.html)"
   ]
  },
  {
   "cell_type": "markdown",
   "metadata": {},
   "source": [
    "### 类型转换与类型判断\n",
    "<font face='kaiti' size=5 style=\"line-height:1.5\"> \n",
    "（1）数的转换：\n",
    "- 内置函数`bin()`、`oct()`、`hex()`用来将整数转换为二进制、八进制和十六进制形式，这三个函数都要求参数必须为整数。"
   ]
  },
  {
   "cell_type": "code",
   "execution_count": 84,
   "metadata": {},
   "outputs": [
    {
     "data": {
      "text/plain": [
       "'0b1000101011'"
      ]
     },
     "execution_count": 84,
     "metadata": {},
     "output_type": "execute_result"
    }
   ],
   "source": [
    "bin(555)                      #把数字转换为二进制串"
   ]
  },
  {
   "cell_type": "code",
   "execution_count": 85,
   "metadata": {},
   "outputs": [
    {
     "data": {
      "text/plain": [
       "'0o1053'"
      ]
     },
     "execution_count": 85,
     "metadata": {},
     "output_type": "execute_result"
    }
   ],
   "source": [
    "oct(555)                      #转换为八进制串"
   ]
  },
  {
   "cell_type": "code",
   "execution_count": 86,
   "metadata": {},
   "outputs": [
    {
     "data": {
      "text/plain": [
       "'0x22b'"
      ]
     },
     "execution_count": 86,
     "metadata": {},
     "output_type": "execute_result"
    }
   ],
   "source": [
    "hex(555)                      #转换为十六进制串"
   ]
  },
  {
   "cell_type": "markdown",
   "metadata": {},
   "source": [
    "<font face='kaiti' size=5 style=\"line-height:1.5\">\n",
    "- 内置函数int()用来将其他形式的数字转换为（十进制）整数，输入参数可以为整数、实数、分数或合法的数字字符串。当参数为数字字符串时，还允许指定第二个参数base用来说明数字字符串的进制，base的取值应为0或2-36之间的整数，其中0表示按数字字符串隐含的进制进行转换。"
   ]
  },
  {
   "cell_type": "code",
   "execution_count": 87,
   "metadata": {},
   "outputs": [
    {
     "data": {
      "text/plain": [
       "-3"
      ]
     },
     "execution_count": 87,
     "metadata": {},
     "output_type": "execute_result"
    }
   ],
   "source": [
    "int(-3.2)                       #把实数转换为整数"
   ]
  },
  {
   "cell_type": "code",
   "execution_count": 88,
   "metadata": {},
   "outputs": [
    {
     "data": {
      "text/plain": [
       "2"
      ]
     },
     "execution_count": 88,
     "metadata": {},
     "output_type": "execute_result"
    }
   ],
   "source": [
    "from fractions import Fraction, Decimal\n",
    "x = Fraction(7, 3)                 # 分数\n",
    "int(x)                       #把分数转换为整数"
   ]
  },
  {
   "cell_type": "code",
   "execution_count": 89,
   "metadata": {},
   "outputs": [
    {
     "name": "stdout",
     "output_type": "stream",
     "text": [
      "3.333333333333333481363069950020872056484222412109375\n"
     ]
    },
    {
     "data": {
      "text/plain": [
       "3"
      ]
     },
     "execution_count": 89,
     "metadata": {},
     "output_type": "execute_result"
    }
   ],
   "source": [
    "x1 = Decimal(10/3)\n",
    "print(x1)\n",
    "int(x1)                          #把高精度实数转换为整数"
   ]
  },
  {
   "cell_type": "code",
   "execution_count": 90,
   "metadata": {},
   "outputs": [
    {
     "name": "stdout",
     "output_type": "stream",
     "text": [
      "555\n",
      "555\n"
     ]
    }
   ],
   "source": [
    "x2 = int('0x22b', 16)                 #把十六进制数转换为十进制数\n",
    "print(x2)\n",
    "\n",
    "x3 = int('22b', 16)                   #与上一行代码等价\n",
    "print(x3)"
   ]
  },
  {
   "cell_type": "code",
   "execution_count": 91,
   "metadata": {},
   "outputs": [
    {
     "data": {
      "text/plain": [
       "54321"
      ]
     },
     "execution_count": 91,
     "metadata": {},
     "output_type": "execute_result"
    }
   ],
   "source": [
    "int(bin(54321), 2)               #二进制与十进制之间的转换"
   ]
  },
  {
   "cell_type": "code",
   "execution_count": 92,
   "metadata": {},
   "outputs": [
    {
     "ename": "ValueError",
     "evalue": "invalid literal for int() with base 10: '0b111'",
     "output_type": "error",
     "traceback": [
      "\u001b[1;31m---------------------------------------------------------------------------\u001b[0m",
      "\u001b[1;31mValueError\u001b[0m                                Traceback (most recent call last)",
      "\u001b[1;32m<ipython-input-92-049d1e068bc6>\u001b[0m in \u001b[0;36m<module>\u001b[1;34m()\u001b[0m\n\u001b[1;32m----> 1\u001b[1;33m \u001b[0mint\u001b[0m\u001b[1;33m(\u001b[0m\u001b[1;34m'0b111'\u001b[0m\u001b[1;33m)\u001b[0m                     \u001b[1;31m#非十进制字符串进，必须指定第二个参数\u001b[0m\u001b[1;33m\u001b[0m\u001b[0m\n\u001b[0m",
      "\u001b[1;31mValueError\u001b[0m: invalid literal for int() with base 10: '0b111'"
     ]
    }
   ],
   "source": [
    "int('0b111')                     #非十进制字符串进，必须指定第二个参数"
   ]
  },
  {
   "cell_type": "code",
   "execution_count": null,
   "metadata": {},
   "outputs": [],
   "source": [
    "int('0b111', 0)                  #第二个参数0表示使用字符串隐含的进制"
   ]
  },
  {
   "cell_type": "code",
   "execution_count": null,
   "metadata": {},
   "outputs": [],
   "source": [
    "int('0b111', 6)                  #第二个参数应与隐含的进制一致"
   ]
  },
  {
   "cell_type": "code",
   "execution_count": null,
   "metadata": {},
   "outputs": [],
   "source": [
    "int('0b111', 2)"
   ]
  },
  {
   "cell_type": "code",
   "execution_count": null,
   "metadata": {},
   "outputs": [],
   "source": [
    "int('111', 6)                    #字符串没有隐含进制，第二个参数可以为2-36之间的数字"
   ]
  },
  {
   "cell_type": "code",
   "execution_count": null,
   "metadata": {},
   "outputs": [],
   "source": [
    "int('111')                      # 数字字符串转换为整数"
   ]
  },
  {
   "cell_type": "markdown",
   "metadata": {},
   "source": [
    "<font face='kaiti' size=5>\n",
    "- 内置函数float()用来将其他类型数据转换为实数，complex()可以用来生成复数。"
   ]
  },
  {
   "cell_type": "code",
   "execution_count": 93,
   "metadata": {},
   "outputs": [
    {
     "data": {
      "text/plain": [
       "3.0"
      ]
     },
     "execution_count": 93,
     "metadata": {},
     "output_type": "execute_result"
    }
   ],
   "source": [
    "float(3)            # 整数转换为实数"
   ]
  },
  {
   "cell_type": "code",
   "execution_count": 94,
   "metadata": {},
   "outputs": [
    {
     "data": {
      "text/plain": [
       "3.5"
      ]
     },
     "execution_count": 94,
     "metadata": {},
     "output_type": "execute_result"
    }
   ],
   "source": [
    "float('3.5')        # 数字字符串转换为实数"
   ]
  },
  {
   "cell_type": "code",
   "execution_count": 95,
   "metadata": {},
   "outputs": [
    {
     "data": {
      "text/plain": [
       "(3+0j)"
      ]
     },
     "execution_count": 95,
     "metadata": {},
     "output_type": "execute_result"
    }
   ],
   "source": [
    "complex(3)          # 指定复数的实部"
   ]
  },
  {
   "cell_type": "code",
   "execution_count": 96,
   "metadata": {},
   "outputs": [
    {
     "data": {
      "text/plain": [
       "(3+5j)"
      ]
     },
     "execution_count": 96,
     "metadata": {},
     "output_type": "execute_result"
    }
   ],
   "source": [
    "complex(3,5)        # 指定复数的实部和虚部"
   ]
  },
  {
   "cell_type": "code",
   "execution_count": 97,
   "metadata": {},
   "outputs": [
    {
     "data": {
      "text/plain": [
       "nan"
      ]
     },
     "execution_count": 97,
     "metadata": {},
     "output_type": "execute_result"
    }
   ],
   "source": [
    "float('nan')         # not a number"
   ]
  },
  {
   "cell_type": "code",
   "execution_count": 98,
   "metadata": {},
   "outputs": [
    {
     "data": {
      "text/plain": [
       "float"
      ]
     },
     "execution_count": 98,
     "metadata": {},
     "output_type": "execute_result"
    }
   ],
   "source": [
    "type(float('nan'))"
   ]
  },
  {
   "cell_type": "code",
   "execution_count": 99,
   "metadata": {},
   "outputs": [
    {
     "ename": "NameError",
     "evalue": "name 'nan' is not defined",
     "output_type": "error",
     "traceback": [
      "\u001b[1;31m---------------------------------------------------------------------------\u001b[0m",
      "\u001b[1;31mNameError\u001b[0m                                 Traceback (most recent call last)",
      "\u001b[1;32m<ipython-input-99-7464374cde5a>\u001b[0m in \u001b[0;36m<module>\u001b[1;34m()\u001b[0m\n\u001b[1;32m----> 1\u001b[1;33m \u001b[0mnan\u001b[0m             \u001b[1;31m# 非数的错误表示\u001b[0m\u001b[1;33m\u001b[0m\u001b[0m\n\u001b[0m",
      "\u001b[1;31mNameError\u001b[0m: name 'nan' is not defined"
     ]
    }
   ],
   "source": [
    "nan             # 非数的错误表示"
   ]
  },
  {
   "cell_type": "code",
   "execution_count": null,
   "metadata": {},
   "outputs": [],
   "source": [
    "float('nan') == float('nan')   # 非数不能比较大小"
   ]
  },
  {
   "cell_type": "markdown",
   "metadata": {},
   "source": [
    "<font face='kaiti' size=5 style=\"line-height:1.5\"> \n",
    "（2）字符类型的转换：  \n",
    "- ord()和chr()是一对功能相反的函数，ord()用来返回单个字符的Unicode码，而chr()则用来返回Unicode编码对应的字符，str()则直接将其任意类型参数转换为字符串。  \n",
    "- 内置类ascii可以把对象转换为ASCII码表示形式，必要的时候使用转义字符来表示特定的字符。  \n",
    "- 内置类bytes用来生成字节串，或者把指定对象转换为特定编码的字节串。  \n",
    "- list()、tuple()、dict()、set()、frozenset()用来把其他类型的数据转换成为列表、元组、字典、可变集合和不可变集合，或者创建空列表、空元组、空字典和空集合。  \n",
    "- 内置函数type()和isinstance()可以用来判断数据类型，常用来对函数参数进行检查，可以避免错误的参数类型导致函数崩溃或返回意料之外的结果。   \n"
   ]
  },
  {
   "cell_type": "markdown",
   "metadata": {},
   "source": [
    "### range()\n",
    "<font face='kaiti' size=5 style=\"line-height:1.5\">\n",
    "&emsp;range()是Python开发中非常常用的一个内置函数，用于产生一个递增或递减的序列，作用类似于MATLAB中的冒号表达式。  \n",
    "&emsp;格式为range([start,] end [, step] )，这里整数start表示起始值，默认为0；整数end表示终止值(不包含)，整数step表示步长，默认为1。\n",
    "- range(stop)  &emsp; &emsp; &emsp; &emsp; &emsp; # 产生[0, stop)上的整数序列\n",
    "- range(start, stop)  &emsp; &emsp; &emsp; # 产生[start, stop)上的整数序列\n",
    "- range(start, stop, step)  &emsp; # 以step为步长，产生[start, stop)上的整数序列\n"
   ]
  },
  {
   "cell_type": "code",
   "execution_count": 100,
   "metadata": {},
   "outputs": [
    {
     "data": {
      "text/plain": [
       "[1, 3, 5, 7, 9, 11, 13, 15, 17, 19]"
      ]
     },
     "execution_count": 100,
     "metadata": {},
     "output_type": "execute_result"
    }
   ],
   "source": [
    "x = range(1,20,2)\n",
    "list(x)"
   ]
  },
  {
   "cell_type": "markdown",
   "metadata": {},
   "source": [
    "### 基本输入输出\n",
    "<font face='kaiti' size=5 style=\"line-height:1.5\">\n",
    "input()和print()是Python的基本输入输出函数，前者用来接收用户的键盘输入，后者用来把数据以指定的格式输出到标准控制台或指定的文件对象。不论用户输入什么内容，input()一律返回字符串，必要的时候可以使用内置函数int()、float()或eval()对用户输入的内容进行类型转换。"
   ]
  },
  {
   "cell_type": "markdown",
   "metadata": {},
   "source": [
    "<font face='kaiti' size=5 style=\"line-height:1.5\">\n",
    "内置函数print()用于输出信息到标准控制台或指定文件，语法格式为：  \n",
    "```python\n",
    "print(value1, value2, ..., sep=' ', end='\\n', file=sys.stdout, flush=False)\n",
    "```\n",
    "- sep参数之前为需要输出的内容（可以有多个）；\n",
    "- sep参数用于指定数据之间的分隔符，默认为空格；\n",
    "- end参数用于指定输出完数据之后再输出什么字符；\n",
    "- file参数用于指定输出位置，默认为标准控制台，也可以重定向输出到文件。"
   ]
  },
  {
   "cell_type": "code",
   "execution_count": 101,
   "metadata": {
    "scrolled": true
   },
   "outputs": [
    {
     "name": "stdout",
     "output_type": "stream",
     "text": [
      "请输入您的姓名：张三\n",
      "请输入您的性别：1（男), 2(女)：1\n",
      "张三先生，您好！\n"
     ]
    }
   ],
   "source": [
    "name = input('请输入您的姓名：')\n",
    "gender = input('请输入您的性别：1（男), 2(女)：')\n",
    "if gender=='1'or gender=='男':\n",
    "    print(name+'先生，您好！')\n",
    "elif gender=='2' or gender=='女':\n",
    "    print(name+'小姐，您好！')\n",
    "else:\n",
    "    print('性别输入错误！')\n"
   ]
  },
  {
   "cell_type": "markdown",
   "metadata": {},
   "source": [
    "### 排序与逆序\n",
    "<font face='kaiti' size=5 style=\"line-height:1.5\">\n",
    "&emsp;sorted()对列表、元组、字典、集合或其他可迭代对象进行排序并返回新列表，reversed()对可迭代对象（生成器对象和具有惰性求值特性的zip、map、filter、enumerate等类似对象除外）进行翻转（首尾交换）并返回可迭代的reversed对象。\n"
   ]
  },
  {
   "cell_type": "code",
   "execution_count": 102,
   "metadata": {
    "scrolled": false
   },
   "outputs": [
    {
     "name": "stdout",
     "output_type": "stream",
     "text": [
      "[-57, 21, 47, 45, 68, -95, 79, -34, 28, -81]\n",
      "[79, 68, 47, 45, 28, 21, -34, -57, -81, -95]\n",
      "[-81, 28, -34, 79, -95, 68, 45, 47, 21, -57]\n"
     ]
    }
   ],
   "source": [
    "import random\n",
    "x = random.sample(range(-100,100),10)  # 产生[-100,100)上的10个随机整数\n",
    "print(x)\n",
    "x1 = sorted(x, reverse=True)         # 降序排列\n",
    "print(x1)\n",
    "x2 = list(reversed(x))               # 逆序\n",
    "print(x2)"
   ]
  },
  {
   "cell_type": "markdown",
   "metadata": {},
   "source": [
    "### eval()、exec()\n",
    "<font face='kaiti' size=5 style='line-height:1.5'>\n",
    "- eval()用于计算字符串的值，在有些场合也可用来实现类型转换的功能。也可以对字节串求值，或执行内置函数compile()编译生产的代码对象。\n",
    "- exec(x)将x当做代码执行。"
   ]
  },
  {
   "cell_type": "code",
   "execution_count": 103,
   "metadata": {},
   "outputs": [
    {
     "data": {
      "text/plain": [
       "8"
      ]
     },
     "execution_count": 103,
     "metadata": {},
     "output_type": "execute_result"
    }
   ],
   "source": [
    "eval('3+5')"
   ]
  },
  {
   "cell_type": "code",
   "execution_count": 104,
   "metadata": {},
   "outputs": [
    {
     "name": "stdout",
     "output_type": "stream",
     "text": [
      "20\n"
     ]
    }
   ],
   "source": [
    "x = 10\n",
    "for k in range(5):\n",
    "    exec('x = x + '+ str(k))\n",
    "print(x)"
   ]
  },
  {
   "cell_type": "markdown",
   "metadata": {},
   "source": [
    "### map()、filter()、reduce()\n",
    "<font face='kaiti' size=5 style=\"line-height:1.5\">\n",
    "&emsp; 内置函数map()把一个函数func依次映射到序列或迭代器对象的每个元素上，并返回一个可迭代的map对象作为结果，map对象中每个元素是原序列中元素经过函数func处理后的结果。  \n",
    "&emsp; Python的内置对象和内置函数不能像MATLAB那样直接进行向量运算，在使用时不如MATLAB方便。但使用map()函数可以基本完成类似的功能。"
   ]
  },
  {
   "cell_type": "code",
   "execution_count": 105,
   "metadata": {},
   "outputs": [
    {
     "data": {
      "text/plain": [
       "['0', '1', '2', '3', '4']"
      ]
     },
     "execution_count": 105,
     "metadata": {},
     "output_type": "execute_result"
    }
   ],
   "source": [
    "list(map(str, range(5)))"
   ]
  },
  {
   "cell_type": "code",
   "execution_count": 106,
   "metadata": {},
   "outputs": [
    {
     "data": {
      "text/plain": [
       "[5, 7, 9, 11, 13]"
      ]
     },
     "execution_count": 106,
     "metadata": {},
     "output_type": "execute_result"
    }
   ],
   "source": [
    "list(map(lambda x, y: x+y, range(5), range(5, 10)))"
   ]
  },
  {
   "cell_type": "code",
   "execution_count": 107,
   "metadata": {
    "scrolled": true
   },
   "outputs": [
    {
     "data": {
      "text/plain": [
       "[1, 4, 9, 16, 25, 36, 49, 64, 81, 100]"
      ]
     },
     "execution_count": 107,
     "metadata": {},
     "output_type": "execute_result"
    }
   ],
   "source": [
    "# 产生1-10的平方序列\n",
    "x = range(1,11)\n",
    "list(map(lambda x: x**2, x))"
   ]
  },
  {
   "cell_type": "markdown",
   "metadata": {},
   "source": [
    "<font face='kaiti' size=5 style=\"line-height:1.5\">\n",
    "&emsp;内置函数filter()将一个单参数函数作用到一个序列上，返回该序列中使得该函数返回值为True的那些元素组成的filter对象，如果指定函数为None，则返回序列中等价于True的元素。"
   ]
  },
  {
   "cell_type": "code",
   "execution_count": 108,
   "metadata": {},
   "outputs": [
    {
     "data": {
      "text/plain": [
       "[-10, -8, -6, -4, -2, 0, 2, 4, 6, 8, 10]"
      ]
     },
     "execution_count": 108,
     "metadata": {},
     "output_type": "execute_result"
    }
   ],
   "source": [
    "# 列出[-10,10）上的偶数\n",
    "x = range(-10, 11)\n",
    "list(filter(lambda x: x % 2 ==0, x))"
   ]
  },
  {
   "cell_type": "markdown",
   "metadata": {},
   "source": [
    "<font face='kaiti' size=5 style=\"line-height:1.5\">\n",
    "&emsp;标准库functools中的函数reduce()可以将一个接收2个参数的函数以迭代累积的方式从左到右依次作用到一个序列或迭代器对象的所有元素上，并且允许指定一个初始值。"
   ]
  },
  {
   "cell_type": "code",
   "execution_count": 109,
   "metadata": {},
   "outputs": [
    {
     "data": {
      "text/plain": [
       "45"
      ]
     },
     "execution_count": 109,
     "metadata": {},
     "output_type": "execute_result"
    }
   ],
   "source": [
    "# 将[1, 10]上的整数累加\n",
    "from functools import reduce\n",
    "seq = list(range(1, 10))\n",
    "reduce(lambda x, y: x+y, seq)\n"
   ]
  },
  {
   "cell_type": "markdown",
   "metadata": {},
   "source": [
    "### 枚举\n",
    "<font face='kaiti' size=5 style=\"line-height:1.5\">\n",
    "&emsp; enumerate()函数用来枚举可迭代对象中的元素，返回可迭代的enumerate对象，其中每个元素都是包含索引和值的元组。"
   ]
  },
  {
   "cell_type": "code",
   "execution_count": 110,
   "metadata": {},
   "outputs": [
    {
     "data": {
      "text/plain": [
       "[(0, 'a'), (1, 'b'), (2, 'c'), (3, 'd')]"
      ]
     },
     "execution_count": 110,
     "metadata": {},
     "output_type": "execute_result"
    }
   ],
   "source": [
    "list(enumerate('abcd'))"
   ]
  },
  {
   "cell_type": "code",
   "execution_count": 111,
   "metadata": {
    "scrolled": false
   },
   "outputs": [
    {
     "data": {
      "text/plain": [
       "[(0, '张三'), (1, '李四'), (2, '王五')]"
      ]
     },
     "execution_count": 111,
     "metadata": {},
     "output_type": "execute_result"
    }
   ],
   "source": [
    "x = ['张三', '李四', '王五']\n",
    "list(enumerate(x))"
   ]
  },
  {
   "cell_type": "markdown",
   "metadata": {},
   "source": [
    "### zip()\n",
    "<font face='kaiti' size=5 style='line-height:1.5'>\n",
    "&emsp; zip()函数用于把多个可迭代对象中的元素压缩到一起，返回一个可迭代的zip对象，其中每个元素都是包含原来的多个可迭代对象对应位置上元素的元组，如同拉拉链一样。"
   ]
  },
  {
   "cell_type": "code",
   "execution_count": 1,
   "metadata": {},
   "outputs": [
    {
     "data": {
      "text/plain": [
       "[('a', '1'), ('b', '2'), ('c', '3'), ('d', '4')]"
      ]
     },
     "execution_count": 1,
     "metadata": {},
     "output_type": "execute_result"
    }
   ],
   "source": [
    "x = zip('abcd', '1234')\n",
    "list(x)"
   ]
  },
  {
   "cell_type": "code",
   "execution_count": 4,
   "metadata": {},
   "outputs": [
    {
     "data": {
      "text/plain": [
       "[('a', 1, '赵'), ('b', 2, '钱'), ('c', 3, '孙'), ('d', 4, '李')]"
      ]
     },
     "execution_count": 4,
     "metadata": {},
     "output_type": "execute_result"
    }
   ],
   "source": [
    "list(zip('abcd',[1,2,3,4,5],['赵','钱','孙','李']))"
   ]
  },
  {
   "cell_type": "markdown",
   "metadata": {},
   "source": [
    "## 综合案例\n",
    "<font face='kaiti' size=5 style='line-height:1.5'>\n",
    "**示例2-1**  用户输入一个三位自然数，计算并输出其百位、十位和个位上的数字。"
   ]
  },
  {
   "cell_type": "code",
   "execution_count": 112,
   "metadata": {},
   "outputs": [
    {
     "name": "stdout",
     "output_type": "stream",
     "text": [
      "请输入一个三位数：256\n",
      "2 5 6\n"
     ]
    }
   ],
   "source": [
    "# 解法一：\n",
    "x = input('请输入一个三位数：')\n",
    "x = int(x)\n",
    "a = x // 100\n",
    "b = x // 10 % 10\n",
    "c = x % 10\n",
    "print(a, b, c)\n"
   ]
  },
  {
   "cell_type": "code",
   "execution_count": 113,
   "metadata": {},
   "outputs": [
    {
     "name": "stdout",
     "output_type": "stream",
     "text": [
      "请输入一个三位数：256\n",
      "2 5 6\n"
     ]
    }
   ],
   "source": [
    "# 解法二：猜测一下divmod()的含义\n",
    "x = input('请输入一个三位数：')\n",
    "x = int(x)\n",
    "a, b = divmod(x, 100)\n",
    "b, c = divmod(b, 10)\n",
    "print(a, b, c)"
   ]
  },
  {
   "cell_type": "code",
   "execution_count": 114,
   "metadata": {},
   "outputs": [
    {
     "name": "stdout",
     "output_type": "stream",
     "text": [
      "请输入一个三位数：256\n",
      "2 5 6\n"
     ]
    }
   ],
   "source": [
    "x = input('请输入一个三位数：')\n",
    "a, b, c = map(int, x)\n",
    "print(a, b, c)"
   ]
  },
  {
   "cell_type": "markdown",
   "metadata": {},
   "source": [
    "<font face='kaiti' size=5>**示例2-2** 求\"广东海洋大学\"的Unicode编码，再将这些编码转换成字符串."
   ]
  },
  {
   "cell_type": "code",
   "execution_count": 115,
   "metadata": {},
   "outputs": [
    {
     "name": "stdout",
     "output_type": "stream",
     "text": [
      "[24191, 19996, 28023, 27915, 22823, 23398]\n",
      "['广', '东', '海', '洋', '大', '学']\n",
      "广东海洋大学\n"
     ]
    }
   ],
   "source": [
    "str1 = \"广东海洋大学\"\n",
    "code1 = list(map(ord, str1))\n",
    "print(code1)\n",
    "str2 = list(map(chr, code1))\n",
    "print(str2)\n",
    "from functools import reduce\n",
    "str3 = reduce(lambda x,y:x+y, str2)\n",
    "print(str3)"
   ]
  },
  {
   "cell_type": "markdown",
   "metadata": {},
   "source": [
    "## 小结\n",
    "<font face='kaiti' size=5 style='line-height:1.5'>\n",
    "    \n",
    "1. Python中一切都是对象；\n",
    "2. 在Python中，不需要事先声明变量名及其类型，直接赋值就可以创建任意的变量；\n",
    "3. 在Python中，不仅变量的值是可以变化的，类型也是可以随时发生变化的；\n",
    "4. Python采用基于值的内存管理模式；\n",
    "5. Python属于强类型编程语言；\n",
    "6. Python变量命名要符合规范；"
   ]
  },
  {
   "cell_type": "markdown",
   "metadata": {},
   "source": [
    "## 练习\n",
    "<font size=4 style=\"line-height:1.5\">\n",
    "一、选择或填空\n",
    "1. 以下标识符哪些是合法的_\\__\\__\\__\\___\\____.  \n",
    "    A. a*b &emsp; &emsp;&emsp; B. break&emsp;&emsp;&emsp; C. 1a2b&emsp;&emsp;&emsp;D. _kill23\n",
    "2. 下列程序段的输出结果为_\\__\\__\\__\\___\\____.  \n",
    "    ```Python\n",
    "    x = 7.0\n",
    "    y = 5\n",
    "    print(x % y)\n",
    "    ```  \n",
    "    A. 2.0 &emsp;&emsp;&emsp;B. 2&emsp;&emsp;&emsp; C. 1&emsp;&emsp;&emsp;D. 1.0\n",
    "3. 若程序只有以下2行代码，则其执行结果为_\\__\\__\\__\\___\\____.\n",
    "    ```Python\n",
    "    x = a + 10\n",
    "    print(x)\n",
    "    ```  \n",
    "    A. 10&emsp;&emsp;&emsp; B. 11&emsp;&emsp;&emsp; C. 输出一个随机值&emsp;&emsp;D. 程序出错\n",
    "4. 语句`False + 5.0`的执行结果是_\\__\\__\\__\\___\\____.  \n",
    "    A. 5&emsp;&emsp;&emsp;B. 5.0&emsp;&emsp;&emsp;C. 6&emsp;&emsp;&emsp;D. 6.0\n",
    "5. 语句`int(10.88)`的输出结果是_\\__\\__\\__\\___\\____.  \n",
    "6. 语句`'abc'*3`的输出结果是_\\__\\__\\__\\___\\____.  \n",
    "7. 假设x=3, 则`x*=3+5**2`的运算结果是_\\__\\__\\__\\___\\____.  \n",
    "    \n",
    "二、上机操作题  \n",
    "1. 查看Python所有内置对象的名称；  \n",
    "2. 任取2个正整数，对它们做各种算术运算；  \n",
    "3. 任取2个实数，对它们做各种关系运算；  \n",
    "4. 输入一个任意的十进制整数，输出其对应的二进制数串、八进制串、十六进制串；  \n",
    "5. 产生一个连续的数字序列，再将其每个元素均乘以5.\n"
   ]
  },
  {
   "cell_type": "code",
   "execution_count": null,
   "metadata": {},
   "outputs": [],
   "source": []
  }
 ],
 "metadata": {
  "kernelspec": {
   "display_name": "Python 3",
   "language": "python",
   "name": "python3"
  },
  "language_info": {
   "codemirror_mode": {
    "name": "ipython",
    "version": 3
   },
   "file_extension": ".py",
   "mimetype": "text/x-python",
   "name": "python",
   "nbconvert_exporter": "python",
   "pygments_lexer": "ipython3",
   "version": "3.7.3"
  },
  "latex_envs": {
   "LaTeX_envs_menu_present": true,
   "autoclose": false,
   "autocomplete": true,
   "bibliofile": "biblio.bib",
   "cite_by": "apalike",
   "current_citInitial": 1,
   "eqLabelWithNumbers": true,
   "eqNumInitial": 1,
   "hotkeys": {
    "equation": "Ctrl-E",
    "itemize": "Ctrl-I"
   },
   "labels_anchors": false,
   "latex_user_defs": false,
   "report_style_numbering": false,
   "user_envs_cfg": false
  },
  "toc": {
   "base_numbering": "2",
   "nav_menu": {},
   "number_sections": true,
   "sideBar": true,
   "skip_h1_title": false,
   "title_cell": "目录",
   "title_sidebar": "目录",
   "toc_cell": true,
   "toc_position": {
    "height": "calc(100% - 180px)",
    "left": "10px",
    "top": "150px",
    "width": "174px"
   },
   "toc_section_display": true,
   "toc_window_display": false
  }
 },
 "nbformat": 4,
 "nbformat_minor": 2
}
