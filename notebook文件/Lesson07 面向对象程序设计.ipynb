{
 "cells": [
  {
   "cell_type": "markdown",
   "metadata": {
    "toc": true
   },
   "source": [
    "<h1>目录<span class=\"tocSkip\"></span></h1>\n",
    "<div class=\"toc\"><ul class=\"toc-item\"><li><span><a href=\"#面向对象程序设计\" data-toc-modified-id=\"面向对象程序设计-6\"><span class=\"toc-item-num\">6&nbsp;&nbsp;</span>面向对象程序设计</a></span><ul class=\"toc-item\"><li><span><a href=\"#类的定义与使用\" data-toc-modified-id=\"类的定义与使用-6.1\"><span class=\"toc-item-num\">6.1&nbsp;&nbsp;</span>类的定义与使用<br></a></span></li><li><span><a href=\"#数据成员与成员方法\" data-toc-modified-id=\"数据成员与成员方法-6.2\"><span class=\"toc-item-num\">6.2&nbsp;&nbsp;</span>数据成员与成员方法</a></span><ul class=\"toc-item\"><li><span><a href=\"#私有成员与公有成员\" data-toc-modified-id=\"私有成员与公有成员-6.2.1\"><span class=\"toc-item-num\">6.2.1&nbsp;&nbsp;</span>私有成员与公有成员</a></span></li><li><span><a href=\"#构造函数、析构函数\" data-toc-modified-id=\"构造函数、析构函数-6.2.2\"><span class=\"toc-item-num\">6.2.2&nbsp;&nbsp;</span>构造函数、析构函数<br></a></span></li><li><span><a href=\"#数据成员\" data-toc-modified-id=\"数据成员-6.2.3\"><span class=\"toc-item-num\">6.2.3&nbsp;&nbsp;</span>数据成员<br></a></span></li><li><span><a href=\"#成员方法、类方法、【静态方法、抽象方法】\" data-toc-modified-id=\"成员方法、类方法、【静态方法、抽象方法】-6.2.4\"><span class=\"toc-item-num\">6.2.4&nbsp;&nbsp;</span>成员方法、类方法、【静态方法、抽象方法】</a></span></li><li><span><a href=\"#特殊的成员方法——属性\" data-toc-modified-id=\"特殊的成员方法——属性-6.2.5\"><span class=\"toc-item-num\">6.2.5&nbsp;&nbsp;</span>特殊的成员方法——属性<br></a></span></li><li><span><a href=\"#【类与对象的动态性、混入机制】\" data-toc-modified-id=\"【类与对象的动态性、混入机制】-6.2.6\"><span class=\"toc-item-num\">6.2.6&nbsp;&nbsp;</span>【类与对象的动态性、混入机制】</a></span></li></ul></li><li><span><a href=\"#继承、多态\" data-toc-modified-id=\"继承、多态-6.3\"><span class=\"toc-item-num\">6.3&nbsp;&nbsp;</span>继承、多态<br></a></span><ul class=\"toc-item\"><li><span><a href=\"#继承\" data-toc-modified-id=\"继承-6.3.1\"><span class=\"toc-item-num\">6.3.1&nbsp;&nbsp;</span>继承</a></span></li><li><span><a href=\"#多态\" data-toc-modified-id=\"多态-6.3.2\"><span class=\"toc-item-num\">6.3.2&nbsp;&nbsp;</span>多态</a></span></li></ul></li><li><span><a href=\"#特殊方法与运算符重载\" data-toc-modified-id=\"特殊方法与运算符重载-6.4\"><span class=\"toc-item-num\">6.4&nbsp;&nbsp;</span>特殊方法与运算符重载<br></a></span></li><li><span><a href=\"#精彩案例\" data-toc-modified-id=\"精彩案例-6.5\"><span class=\"toc-item-num\">6.5&nbsp;&nbsp;</span>精彩案例<br></a></span></li><li><span><a href=\"#小结\" data-toc-modified-id=\"小结-6.6\"><span class=\"toc-item-num\">6.6&nbsp;&nbsp;</span>小结<br></a></span></li><li><span><a href=\"#课后练习\" data-toc-modified-id=\"课后练习-6.7\"><span class=\"toc-item-num\">6.7&nbsp;&nbsp;</span>课后练习<br></a></span></li></ul></li></ul></div>"
   ]
  },
  {
   "cell_type": "code",
   "execution_count": 1,
   "metadata": {},
   "outputs": [
    {
     "name": "stdout",
     "output_type": "stream",
     "text": [
      "Help on built-in function isinstance in module builtins:\n",
      "\n",
      "isinstance(obj, class_or_tuple, /)\n",
      "    Return whether an object is an instance of a class or of a subclass thereof.\n",
      "    \n",
      "    A tuple, as in ``isinstance(x, (A, B, ...))``, may be given as the target to\n",
      "    check against. This is equivalent to ``isinstance(x, A) or isinstance(x, B)\n",
      "    or ...`` etc.\n",
      "\n"
     ]
    }
   ],
   "source": [
    "help(isinstance)"
   ]
  },
  {
   "cell_type": "markdown",
   "metadata": {},
   "source": [
    "# 面向对象程序设计"
   ]
  },
  {
   "cell_type": "markdown",
   "metadata": {},
   "source": [
    "<font face='kaiti' size=5 style='line-height:1.5'>\n",
    "    \n",
    "- 面向对象程序设计（Object Oriented Programming，OOP）的思想主要针对大型软件设计而提出，使得软件设计更加灵活，能够很好地支持代码复用和设计复用，代码具有更好的可读性和可扩展性，大幅度降低了软件开发的难度。\n",
    "- 面向对象程序设计的一个关键性观念是将数据以及对数据的操作<font color=#ff0000>**封装**</font>在一起，组成一个相互依存、不可分割的整体（对象），不同对象之间通过消息机制来通信或者同步。对于相同类型的对象（instance）进行分类、抽象后，得出共同的特征而形成了类（class），面向对象程序设计的关键就是如何合理地定义这些类并且组织多个类之间的关系。\n",
    "- Python是面向对象的解释型高级动态编程语言，完全支持面向对象的基本功能，如<u>封装、继承、多态以及对基类方法的覆盖或重写</u>。创建类时用变量形式表示对象特征的成员称为<font color=#ff0000>数据成员（attribute）</font>，用函数形式表示对象行为的成员称为<font color=#ff0000>成员方法（method）</font>，数据成员和成员方法统称为类的成员。<br>\n",
    "<p>\n",
    "&emsp;&emsp;下面以自定义的一个矩阵类为例，说明类的构造和使用。"
   ]
  },
  {
   "cell_type": "markdown",
   "metadata": {},
   "source": [
    "## 类的定义与使用<br>\n",
    "<font face='kaiti' size=5 style='line-height:1.5'>\n",
    "\n",
    "- Python使用class关键字来定义类，class关键字之后是一个空格，接下来是类的名字，如果派生自其它基类的话则需要把所有基类放到一对圆括号中并使用逗号分隔，然后是一个冒号，最后换行并定义类的内部实现。\n",
    "- 类名的首字母一般要大写，当然也可以按照自己的习惯定义类名，但是一般推荐参考惯例来命名，并在整个系统的设计和实现中保持风格一致，这一点对于团队合作非常重要。"
   ]
  },
  {
   "cell_type": "markdown",
   "metadata": {},
   "source": [
    "<font face='kaiti' size=5 style='line-height:1.5'>\n",
    "&emsp;&emsp;下面，自定义一个矩阵类，实现类似MATLAB中的二维数组的形式和运算方法。"
   ]
  },
  {
   "cell_type": "code",
   "execution_count": null,
   "metadata": {},
   "outputs": [],
   "source": [
    "class Mtx():      #定义一个类，\n",
    "    def infor(self):  # 定义成员方法，用于演示类的使用\n",
    "        print('This Class designed a matrix')"
   ]
  },
  {
   "cell_type": "markdown",
   "metadata": {},
   "source": [
    "<font face='kaiti' size=5 style='line-height:1.5'>\n",
    "\n",
    "- 定义了类之后，就可以用来实例化对象，并通过“对象名.成员”的方式来访问其中的数据成员或成员方法。"
   ]
  },
  {
   "cell_type": "code",
   "execution_count": 1,
   "metadata": {},
   "outputs": [
    {
     "name": "stdout",
     "output_type": "stream",
     "text": [
      "This is a matrix as in MATLAB\n"
     ]
    }
   ],
   "source": [
    "class Mtx():      #定义一个类，\n",
    "    def infor(self):  # 定义成员方法，用于演示类的使用\n",
    "        print('This Class designed a matrix')\n",
    "        \n",
    "m = Mtx()   # 实例化对象\n",
    "m.infor()   # 调用对象的成员方法"
   ]
  },
  {
   "cell_type": "markdown",
   "metadata": {},
   "source": [
    "<font face='kaiti' size=5 style='line-height:1.5'>\n",
    "    \n",
    "- 在Python中，可以使用内置函数isinstance()来测试一个对象是否为某个类的实例，或者使用内置函数type()查看对象类型。"
   ]
  },
  {
   "cell_type": "code",
   "execution_count": 4,
   "metadata": {},
   "outputs": [
    {
     "name": "stdout",
     "output_type": "stream",
     "text": [
      "This is a matrix as in MATLAB\n",
      "True\n",
      "<class '__main__.Mtx'>\n"
     ]
    }
   ],
   "source": [
    "class Mtx():      #定义一个类，\n",
    "    def infor(self):  # 定义成员方法，用于演示类的使用\n",
    "        print('This Class designed a matrix')\n",
    "        \n",
    "mtx = Mtx()   # 实例化对象\n",
    "mtx.infor()   # 调用对象的成员方法\n",
    "print(isinstance(mtx, Mtx))\n",
    "print(type(mtx))"
   ]
  },
  {
   "cell_type": "markdown",
   "metadata": {},
   "source": [
    "## 数据成员与成员方法\n",
    "<font face='kaiti' size=5 style='line-height:1.5'>\n",
    "&emsp;&emsp;创建类时用变量形式表示对象特征的成员称为数据成员（attribute），用函数形式表示对象行为的成员称为成员方法（method），数据成员和成员方法统称为类的成员。"
   ]
  },
  {
   "cell_type": "markdown",
   "metadata": {},
   "source": [
    "### 私有成员与公有成员\n",
    "<font face='kaiti' size=5 style='line-height:1.5'>\n",
    "&emsp;&emsp;私有成员在类的外部不能直接访问，一般是在类的内部进行访问和操作，或者在类的外部通过调用对象的公有成员方法来访问，而公有成员是可以公开使用的，既可以在类的内部进行访问，也可以在外部程序中使用。\n",
    "从形式上看，在定义类的成员时，如果成员名以两个下划线开头但是不以两个下划线结束则表示是私有成员，否则就不是私有成员。\n",
    "Python并没有对私有成员提供严格的访问保护机制，通过一种特殊方式“对象名._类名__xxx”也可以在外部程序中访问私有成员，但这会破坏类的封装性，不建议这样做。"
   ]
  },
  {
   "cell_type": "markdown",
   "metadata": {},
   "source": [
    "<font face='kaiti' size=5 style='line-height:1.5'>\n",
    "    \n",
    "在Python中，以下划线开头的变量名和方法名有特殊的含义，尤其是在类的定义中。\n",
    "1. ` _xxx`：受保护成员；\n",
    "2. ` __xxx__`：系统定义的特殊成员；\n",
    "3. ` __xxx`：私有成员，只有类对象自己能访问，子类对象不能直接访问到这个成员，但在对象外部可以通过`对象名._类名__xxx`这样的特殊方式来访问。\n",
    "注意：Python中不存在严格意义上的私有成员。"
   ]
  },
  {
   "cell_type": "markdown",
   "metadata": {},
   "source": [
    "### 构造函数、析构函数<br>\n",
    "<font face='kaiti' size=5 style='line-height:1.5'>\n",
    "\n",
    "- Python中类的构造函数是`__init__()`，一般用来为数据成员设置初值或进行其他必要的初始化工作，在创建对象时被自动调用和执行。如果用户没有设计构造函数，Python将提供一个默认的构造函数用来进行必要的初始化工作。\n",
    "- Python中类的析构函数是`__del__()`，一般用来释放对象占用的资源，在Python删除对象和收回对象空间时被自动调用和执行。如果用户没有编写析构函数，Python将提供一个默认的析构函数进行必要的清理工作。"
   ]
  },
  {
   "cell_type": "markdown",
   "metadata": {},
   "source": [
    "### 数据成员<br>\n",
    "<font face='kaiti' size=5 style='line-height:1.5'>\n",
    "\n",
    "- 数据成员可以大致分为两类：属于对象的数据成员和属于类的数据成员。属于对象的数据成员一般在构造方法` __init__()`中定义，当然也可以在其他成员方法中定义，在定义和在实例方法中访问数据成员时以`self`作为前缀，同一个类的不同对象（实例）的数据成员之间互不影响；属于类的数据成员是该类所有对象共享的，不属于任何一个对象，在定义类时这类数据成员一般不在任何一个成员方法的定义中。\n",
    "- 在主程序中或类的外部，对象数据成员属于实例(对象)，只能通过对象名访问；而类数据成员属于类，可以通过类名或对象名访问。\n",
    "- 利用类数据成员的共享性，可以实时获得该类的对象数量，并且可以控制该类可以创建的对象最大数量。"
   ]
  },
  {
   "cell_type": "markdown",
   "metadata": {},
   "source": [
    "<font face='kaiti' size=5 style='line-height:1.5'>\n",
    "【例】为矩阵类Mtx添加构造函数，可由列表创建矩阵："
   ]
  },
  {
   "cell_type": "code",
   "execution_count": 2,
   "metadata": {},
   "outputs": [
    {
     "name": "stdout",
     "output_type": "stream",
     "text": [
      "2\n"
     ]
    },
    {
     "data": {
      "text/plain": [
       "__main__.Mtx"
      ]
     },
     "execution_count": 2,
     "metadata": {},
     "output_type": "execute_result"
    }
   ],
   "source": [
    "class Mtx():\n",
    "    ndims = 2  # 类的数据成员\n",
    "    def __init__(self, aList):  # 构造函数，用列表生成矩阵\n",
    "        # 检验输入的aList的元素是否为数值，各子列表是否长度一致\n",
    "        if type(aList) != list:   # 输入不是列表\n",
    "            raise Exception('构造函数的输入必须是元素为数字的列表！')\n",
    "        else:  # 输入是列表\n",
    "            lens = len(aList)\n",
    "            # 如果输入列表的每个元素均为数值\n",
    "            if all(map(lambda x: type(x) in (int, float), aList)):\n",
    "                # 定义对象的私有成员\n",
    "                self.__rows = 1\n",
    "                self.__cols = lens\n",
    "                self.__data = [aList]  # 矩阵的行向量均统一为列表的子列表\n",
    "            # 如果输入列表的每个元素均为列表，\n",
    "            elif all(map(lambda x: type(x) == list, aList)):\n",
    "                # 以下检验子列表是否长度一致，且元素均为数值\n",
    "                flag = True\n",
    "                cols = []\n",
    "                for k in range(lens):  # 遍历子列表\n",
    "                    row = aList[k]\n",
    "                    if any(map(lambda x: type(x) not in (int, float), row)):\n",
    "                        flag = False\n",
    "                        raise Exception('输入列表中存在非数字类型数据！')\n",
    "                    else:\n",
    "                        cols.append(len(row))\n",
    "                else:  # 检验子列表是否长度一致\n",
    "                    if any(map(lambda x: x!=cols[0], cols)):\n",
    "                        flag = False                        \n",
    "                        raise Exception('输入列表中各子列表长度不一！')               \n",
    "                if flag:\n",
    "                    self.__rows = lens\n",
    "                    self.__cols = cols[0]\n",
    "                    self.__data = aList\n",
    "            else:\n",
    "                raise Exception('输入列表的元素必须全为数字或子列表，\\\n",
    "                                且子列表长度相等，元素全为数字！')            \n",
    "\n",
    "\n",
    "print(Mtx.ndims)\n",
    "x = Mtx([[1,2],[3,4]])\n",
    "type(x)"
   ]
  },
  {
   "cell_type": "markdown",
   "metadata": {},
   "source": [
    "### 成员方法、类方法、【静态方法、抽象方法】\n",
    "<font face='kaiti' size=5 style='line-height:1.5'>\n",
    "&emsp;&emsp;方法一般指与特定实例绑定的函数，通过对象调用方法时，对象本身（通常用self表示）将被作为第一个参数自动传递过去，普通函数并不具备这个特点。"
   ]
  },
  {
   "cell_type": "markdown",
   "metadata": {},
   "source": [
    "<font face='kaiti' size=5 style='line-height:1.5'>\n",
    "    \n",
    "- Python类的成员方法大致可以分为公有方法、私有方法、静态方法、类方法和抽象方法这几种类型。\n",
    "- 公有方法、私有方法和抽象方法一般是指属于对象的实例方法，私有方法的名字以两个\"\\_\\_\"或更多下划线开始，而抽象方法一般定义在抽象类中并且要求派生类必须重新实现。\n",
    "- 每个对象都可以有自己的公有方法和私有方法，在这两类方法中都可以访问属于类和对象的成员。公有方法通过对象名直接调用，私有方法不能通过对象名直接调用，只能在其他实例方法中通过前缀self进行调用或在外部通过特殊的形式来调用。"
   ]
  },
  {
   "cell_type": "markdown",
   "metadata": {},
   "source": [
    "<font face='kaiti' size=5 style='line-height:1.5'>\n",
    "    \n",
    "- 所有实例方法（包括公有方法、私有方法、抽象方法和某些特殊方法）都必须至少有一个名为self的参数，并且必须是方法的第一个形参（如果有多个形参的话），self参数代表当前对象。\n",
    "- 在实例方法中访问实例成员时需要以self为前缀，但在外部通过对象名调用对象方法时并不需要传递这个参数。\n",
    "- 如果在外部通过类名调用属于对象的公有方法，需要显式为该方法的self参数传递一个对象名，用来明确指定访问哪个对象的成员。"
   ]
  },
  {
   "cell_type": "markdown",
   "metadata": {},
   "source": [
    "<font face='kaiti' size=5 style='line-height:1.5'>\n",
    "    \n",
    "- 静态方法和类方法都可以通过类名和对象名调用，但不能直接访问属于对象的成员，只能访问属于类的成员。\n",
    "- 静态方法和类方法不属于任何实例，不会绑定到任何实例，当然也不依赖于任何实例的状态，与实例方法相比能够减少很多开销。\n",
    "- 类方法一般以cls作为类方法的第一个参数表示该类自身，在调用类方法时不需要为该参数传递值，静态方法则可以不接收任何参数。\n"
   ]
  },
  {
   "cell_type": "markdown",
   "metadata": {},
   "source": [
    "<font face='kaiti' size=5 style='line-height:1.5'>\n",
    "    \n",
    "- 抽象方法一般在抽象类中定义，并且要求在派生类中必须重新实现，否则不允许派生类创建实例。"
   ]
  },
  {
   "cell_type": "markdown",
   "metadata": {},
   "source": [
    "<font face='kaiti' size=5 style='line-height:1.5'>\n",
    "【例】为矩阵类Mtx添加其他公有方法："
   ]
  },
  {
   "cell_type": "code",
   "execution_count": 3,
   "metadata": {},
   "outputs": [
    {
     "name": "stdout",
     "output_type": "stream",
     "text": [
      "[2, 5]\n"
     ]
    },
    {
     "data": {
      "text/plain": [
       "<__main__.Mtx at 0x53e4080>"
      ]
     },
     "execution_count": 3,
     "metadata": {},
     "output_type": "execute_result"
    }
   ],
   "source": [
    "class Mtx():\n",
    "    ndims = 2  # 类的数据成员\n",
    "    def __init__(self, aList):  # 构造函数，用列表生成矩阵\n",
    "        # 检验输入的aList的元素是否为数值，各子列表是否长度一致\n",
    "        if type(aList) != list:   # 输入不是列表\n",
    "            raise Exception('构造函数的输入必须是元素为数字的列表！')\n",
    "        else:  # 输入是列表\n",
    "            lens = len(aList)\n",
    "            # 如果输入列表的每个元素均为数值\n",
    "            if all(map(lambda x: type(x) in (int, float), aList)):\n",
    "                # 定义对象的私有成员\n",
    "                self.__rows = 1\n",
    "                self.__cols = lens\n",
    "                self.__data = [aList]  # 矩阵的行向量均统一为列表的子列表\n",
    "            # 如果输入列表的每个元素均为列表，\n",
    "            elif all(map(lambda x: type(x) == list, aList)):\n",
    "                # 以下检验子列表是否长度一致，且元素均为数值\n",
    "                flag = True\n",
    "                cols = []\n",
    "                for k in range(lens):  # 遍历子列表\n",
    "                    row = aList[k]\n",
    "                    if any(map(lambda x: type(x) not in (int, float), row)):\n",
    "                        flag = False\n",
    "                        raise Exception('输入列表中存在非数字类型数据！')\n",
    "                    else:\n",
    "                        cols.append(len(row))\n",
    "                else:  # 检验子列表是否长度一致\n",
    "                    if any(map(lambda x: x!=cols[0], cols)):\n",
    "                        flag = False                        \n",
    "                        raise Exception('输入列表中各子列表长度不一！')               \n",
    "                if flag:\n",
    "                    self.__rows = lens\n",
    "                    self.__cols = cols[0]\n",
    "                    self.__data = aList\n",
    "            else:\n",
    "                raise Exception('输入列表的元素必须全为数字或子列表，\\\n",
    "                                且子列表长度相等，元素全为数字！')              \n",
    "                \n",
    "    def size(self):  # 矩阵大小\n",
    "        return [self.__rows, self.__cols]\n",
    "    \n",
    "    def T(self):  # 矩阵转置\n",
    "        data = self.__data\n",
    "        aList = [[row[i] for row in data] for i in range(self.__cols)]\n",
    "        self.__data = aList\n",
    "        self.__rows, self.__cols = self.__cols, self.__rows        \n",
    "        return Mtx(aList)\n",
    "        \n",
    "\n",
    "x = Mtx([[1,2,3,4,5], [9,8,7,6,5]])\n",
    "print(x.size())\n",
    "x.T()"
   ]
  },
  {
   "cell_type": "markdown",
   "metadata": {},
   "source": [
    "### 特殊的成员方法——属性<br>\n",
    "<font face='kaiti' size=5 style='line-height:1.5'>\n",
    "    \n",
    "&emsp;&emsp;Python可以通过公开的成员方法提供对私有数据成员的访问，设定私有数据成员的属性：\n",
    "- 只读属性；\n",
    "- 可读、可写属性；\n",
    "- 可读、可修改、可删除的属性。\n",
    "    "
   ]
  },
  {
   "cell_type": "markdown",
   "metadata": {},
   "source": [
    "<font face='kaiti' size=5 style='line-height:1.5'>\n",
    "【例】设置上述矩阵类Mtx的数据成员data为可读、不可修改、不可删除"
   ]
  },
  {
   "cell_type": "code",
   "execution_count": 4,
   "metadata": {},
   "outputs": [
    {
     "name": "stdout",
     "output_type": "stream",
     "text": [
      "[[1, 2, 3, 4, 5], [9, 8, 7, 6, 5]]\n",
      "[[1, 9], [2, 8], [3, 7], [4, 6], [5, 5]]\n"
     ]
    }
   ],
   "source": [
    "class Mtx():\n",
    "    ndims = 2  # 类的数据成员\n",
    "    def __init__(self, aList):  # 构造函数，用列表生成矩阵\n",
    "        # 检验输入的aList的元素是否为数值，各子列表是否长度一致\n",
    "        if type(aList) != list:   # 输入不是列表\n",
    "            raise Exception('构造函数的输入必须是元素为数字的列表！')\n",
    "        else:  # 输入是列表\n",
    "            lens = len(aList)\n",
    "            # 如果输入列表的每个元素均为数值\n",
    "            if all(map(lambda x: type(x) in (int, float), aList)):\n",
    "                # 定义对象的私有成员\n",
    "                self.__rows = 1\n",
    "                self.__cols = lens\n",
    "                self.__data = [aList]  # 矩阵的行向量均统一为列表的子列表\n",
    "            # 如果输入列表的每个元素均为列表，\n",
    "            elif all(map(lambda x: type(x) == list, aList)):\n",
    "                # 以下检验子列表是否长度一致，且元素均为数值\n",
    "                flag = True\n",
    "                cols = []\n",
    "                for k in range(lens):  # 遍历子列表\n",
    "                    row = aList[k]\n",
    "                    if any(map(lambda x: type(x) not in (int, float), row)):\n",
    "                        flag = False\n",
    "                        raise Exception('输入列表中存在非数字类型数据！')\n",
    "                    else:\n",
    "                        cols.append(len(row))\n",
    "                else:  # 检验子列表是否长度一致\n",
    "                    if any(map(lambda x: x!=cols[0], cols)):\n",
    "                        flag = False                        \n",
    "                        raise Exception('输入列表中各子列表长度不一！')               \n",
    "                if flag:\n",
    "                    self.__rows = lens\n",
    "                    self.__cols = cols[0]\n",
    "                    self.__data = aList\n",
    "            else:\n",
    "                raise Exception('输入列表的元素必须全为数字或子列表，\\\n",
    "                                且子列表长度相等，元素全为数字！')              \n",
    "                \n",
    "    @property    # 修饰器，定义属性，提供对私有数据的访问\n",
    "    def data(self):  # 只读属性，无法修改和删除\n",
    "        return self.__data\n",
    "    \n",
    "    def size(self):  # 矩阵大小\n",
    "        return [self.__rows, self.__cols]\n",
    "    \n",
    "    def T(self):  # 矩阵转置\n",
    "        data = self.__data\n",
    "        aList = [[row[i] for row in data] for i in range(self.__cols)]\n",
    "        self.__data = aList\n",
    "        self.__rows, self.__cols = self.__cols, self.__rows        \n",
    "        return Mtx(aList)          \n",
    "        \n",
    "\n",
    "x = Mtx([[1,2,3,4,5], [9,8,7,6,5]])\n",
    "print(x.data)\n",
    "x.T()\n",
    "print(x.data)"
   ]
  },
  {
   "cell_type": "markdown",
   "metadata": {},
   "source": [
    "### 【类与对象的动态性、混入机制】\n",
    "<font face='kaiti' size=5 style='line-height:1.5'>\n",
    "&emsp;&emsp;Python中比较特殊的是，可以动态地为自定义类和对象增加或删除成员，这一点是和很多面向对象程序设计语言不同的，也是Python动态类型特点的一种重要体现。\n"
   ]
  },
  {
   "cell_type": "markdown",
   "metadata": {},
   "source": [
    "<font face='kaiti' size=5 style='line-height:1.5'>\n",
    "\n",
    "- Python类型的动态性使得我们可以动态为自定义类及其对象增加新的属性和行为，俗称混入（mixin）机制，这在大型项目开发中会非常方便和实用。\n",
    "- 例如系统中的所有用户分类非常复杂，不同用户组具有不同的行为和权限，并且可能会经常改变。这时候我们可以独立地定义一些行为，然后根据需要来为不同的用户设置相应的行为能力。\n"
   ]
  },
  {
   "cell_type": "markdown",
   "metadata": {},
   "source": [
    "## 继承、多态<br>\n",
    "<font face='kaiti' size=5 style='line-height:1.5'>\n",
    "\n",
    "- 封装、继承、多态是面向对象编程的三大要素。\n"
   ]
  },
  {
   "cell_type": "markdown",
   "metadata": {},
   "source": [
    "### 继承\n",
    "<font face='kaiti' size=5 style='line-height:1.5'>\n",
    "\n",
    "- 继承是用来实现代码复用和设计复用的机制，是面向对象程序设计的重要特性之一。设计一个新类时，如果可以继承一个已有的设计良好的类然后进行二次开发，无疑会大幅度减少开发工作量。\n",
    "- 在继承关系中，已有的、设计好的类称为父类或基类，新设计的类称为子类或派生类。派生类可以继承父类的公有成员，但是不能继承其私有成员。如果需要在派生类中调用基类的方法，可以使用内置函数super()或者通过“基类名.方法名()”的方式来实现这一目的。\n",
    "- Python支持多继承，如果父类中有相同的方法名，而在子类中使用时没有指定父类名，则Python解释器将从左向右按顺序进行搜索。\n"
   ]
  },
  {
   "cell_type": "markdown",
   "metadata": {},
   "source": [
    "<font face='kaiti' size=5 style='line-height:1.5'>\n",
    "【例】设计一个Person类，并由Person类派生Teacher类，分别建立Person类和Teacher类的对象。"
   ]
  },
  {
   "cell_type": "code",
   "execution_count": 2,
   "metadata": {},
   "outputs": [
    {
     "name": "stdout",
     "output_type": "stream",
     "text": [
      "==============================\n",
      "Name: Zhang San\n",
      "Age: 19\n",
      "Sex: man\n",
      "==============================\n",
      "Name: Li Si\n",
      "Age: 32\n",
      "Sex: man\n",
      "Department: Math\n",
      "==============================\n",
      "Name: Li Si\n",
      "Age: 40\n",
      "Sex: man\n",
      "Department: Math\n"
     ]
    }
   ],
   "source": [
    "class Person(object):\n",
    "    def __init__(self, name = '', age = 20, sex = 'man'):\n",
    "        self.setName(name)\n",
    "        self.setAge(age)\n",
    "        self.setSex(sex)\n",
    "        \n",
    "    def setName(self, name):\n",
    "        assert isinstance(name, str), 'name must be string.'\n",
    "        self.__name = name\n",
    "        \n",
    "    def setAge(self, age):\n",
    "        assert isinstance(age, int), 'age must be integer.'\n",
    "        self.__age = age\n",
    "        \n",
    "    def setSex(self, sex):\n",
    "        assert sex in ('man', 'woman'), 'sex must be \"man\" or \"woman\"'\n",
    "        self.__sex = sex\n",
    "        \n",
    "    def show(self):\n",
    "        print('Name:', self.__name)\n",
    "        print('Age:', self.__age)\n",
    "        print('Sex:', self.__sex)\n",
    "\n",
    "class Teacher(Person):\n",
    "    def __init__(self, name='', age = 30, sex = 'man', department = 'Computer'):\n",
    "        super(Teacher, self).__init__(name, age, sex)\n",
    "        # 也可以使用下面的形式对基类数据成员进行初始化\n",
    "        #Person.__init__(self, name, age, sex)\n",
    "        self.setDepartment(department)\n",
    "        \n",
    "    def setDepartment(self, department):        \n",
    "        assert isinstance(department, str), 'department must be a string.'\n",
    "        self.__department = department\n",
    "        \n",
    "    def show(self):\n",
    "        super(Teacher, self).show()\n",
    "        print('Department:', self.__department)\n",
    "\n",
    "if __name__ =='__main__':\n",
    "    print('='*30)\n",
    "    zhangsan = Person('Zhang San', 19, 'man')\n",
    "    zhangsan.show()\n",
    "\n",
    "    print('='*30)\n",
    "    lisi = Teacher('Li Si',32, 'man', 'Math')\n",
    "    lisi.show()\n",
    "    print('='*30)\n",
    "    lisi.setAge(40)\n",
    "    lisi.show()\n"
   ]
  },
  {
   "cell_type": "markdown",
   "metadata": {},
   "source": [
    "### 多态\n",
    "<font face='kaiti' size=5 style='line-height:1.5'>\n",
    "\n",
    "- 所谓多态（polymorphism），是指基类的同一个方法在不同派生类对象中具有不同的表现和行为。派生类继承了基类行为和属性之后，还会增加某些特定的行为和属性，同时还可能会对继承来的某些行为进行一定的改变，这都是多态的表现形式。\n",
    "- Python大多数运算符可以作用于多种不同类型的操作数，并且对于不同类型的操作数往往有不同的表现，这本身就是多态，是通过特殊方法与运算符重载实现的。\n"
   ]
  },
  {
   "cell_type": "markdown",
   "metadata": {},
   "source": [
    "## 特殊方法与运算符重载<br>\n",
    "<font face='kaiti' size=5 style='line-height:1.5'>\n",
    "\n",
    "- Python类有大量的特殊方法，其中比较常见的是构造函数和析构函数，除此之外，Python还支持大量的特殊方法，运算符重载就是通过重写特殊方法实现的。\n",
    "- 在自定义类时如果重写了某个特殊方法，即可支持对应的运算符或内置函数，具体实现什么工作则完全由程序员根据实际需要来定义。\n",
    "\n",
    "&emsp;&emsp;常用的特殊方法见教材P140. 表6-1 Python类的特殊成员"
   ]
  },
  {
   "cell_type": "markdown",
   "metadata": {},
   "source": [
    "<font face='kaiti' size=5 style='line-height:1.5'>\n",
    "【例】为前面定义的矩阵类添加矩阵间的加法、减法、数乘、点乘（数组乘）等运算，并对矩阵的输出规定格式。<br>\n",
    "&emsp;&emsp;用到的特殊方法见下表：\n",
    "<center> <font face='MSyahei'>\n",
    "    \n",
    "|<font size=4>方法|<font size=4>功能说明|\n",
    "|:--|:--|\n",
    "|<font size=4>`__add__()`&emsp;&emsp;|<font size=4>二元运算符 + |\n",
    "|<font size=4>`__sub__()`|<font size=4>二元运算符 - |\n",
    "|<font size=4>`__mul__()`|<font size=4>二元运算符 * |\n",
    "|<font size=4>`__neg__()`|<font size=4> 一元运算符-，负号|\n",
    "|<font size=4>`__repr__()`|<font size=4>打印、转换，要求该方法<br>必须返回str类型的数据|\n",
    "</font>    \n",
    "&emsp;&emsp;下面的程序中，因为重新定义了矩阵的输出格式后，可以看到矩阵中的数据，所以去掉了前面对数据成员的可读属性的设定。"
   ]
  },
  {
   "cell_type": "code",
   "execution_count": 5,
   "metadata": {},
   "outputs": [
    {
     "name": "stdout",
     "output_type": "stream",
     "text": [
      "matrix([[6, 8, 10, 12, 14]\n",
      "        [14, 12, 10, 8, 6]])\n"
     ]
    },
    {
     "data": {
      "text/plain": [
       "matrix([[6, 14]\n",
       "        [8, 12]\n",
       "        [10, 10]\n",
       "        [12, 8]\n",
       "        [14, 6]])"
      ]
     },
     "execution_count": 5,
     "metadata": {},
     "output_type": "execute_result"
    }
   ],
   "source": [
    "class Mtx():\n",
    "    ndims = 2  # 类的数据成员 \n",
    "    def __init__(self, aList):  # 构造函数，用列表生成矩阵\n",
    "        # 检验输入的aList的元素是否为数值，各子列表是否长度一致\n",
    "        if type(aList) != list:   # 输入不是列表\n",
    "            raise Exception('构造函数的输入必须是元素为数字的列表！')\n",
    "        else:  # 输入是列表\n",
    "            lens = len(aList)\n",
    "            # 如果输入列表的每个元素均为数值\n",
    "            if all(map(lambda x: type(x) in (int, float), aList)):\n",
    "                # 定义对象的私有成员\n",
    "                self.__rows = 1\n",
    "                self.__cols = lens\n",
    "                self.__data = [aList]  # 矩阵的行向量均统一为列表的子列表\n",
    "            # 如果输入列表的每个元素均为列表，\n",
    "            elif all(map(lambda x: type(x) == list, aList)):\n",
    "                # 以下检验子列表是否长度一致，且元素均为数值\n",
    "                flag = True\n",
    "                cols = []\n",
    "                for k in range(lens):  # 遍历子列表\n",
    "                    row = aList[k]\n",
    "                    if any(map(lambda x: type(x) not in (int, float), row)):\n",
    "                        flag = False\n",
    "                        raise Exception('输入列表中存在非数字类型数据！')\n",
    "                    else:\n",
    "                        cols.append(len(row))\n",
    "                else:  # 检验子列表是否长度一致\n",
    "                    if any(map(lambda x: x!=cols[0], cols)):\n",
    "                        flag = False                        \n",
    "                        raise Exception('输入列表中各子列表长度不一！')               \n",
    "                if flag:\n",
    "                    self.__rows = lens\n",
    "                    self.__cols = cols[0]\n",
    "                    self.__data = aList\n",
    "            else:\n",
    "                raise Exception('输入列表的元素必须全为数字或子列表，\\\n",
    "                                且子列表长度相等，元素全为数字！')              \n",
    "                \n",
    "    def size(self):  # 矩阵大小\n",
    "        return [self.__rows, self.__cols]\n",
    "    \n",
    "    def T(self):  # 矩阵转置\n",
    "        data = self.__data\n",
    "        aList = [[row[i] for row in data] for i in range(self.__cols)]\n",
    "        self.__data = aList\n",
    "        self.__rows, self.__cols = self.__cols, self.__rows        \n",
    "        return Mtx(aList)\n",
    "        \n",
    "    \n",
    "    # 以下使用运算符重载定义一些矩阵的运算方法\n",
    "    def __add__(self, mtx):  # 矩阵加法\n",
    "        # mtx也是Mtx类的对象，同样大小的Mtx对象可以相加\n",
    "        if type(mtx) != type(self):\n",
    "            raise Exception('Mtx对象需与Mtx对象相加！')\n",
    "        elif mtx.size() == self.size():\n",
    "            data1 = self.__data\n",
    "            data2 = mtx.__data\n",
    "            data = []\n",
    "            for k in range(self.__rows):\n",
    "                row = list(map(lambda x,y: x+y, data1[k], data2[k]))\n",
    "                data.append(row)\n",
    "            return Mtx(data)\n",
    "        else:\n",
    "            raise Exception('相同大小的Mtx对象才可以相加！')\n",
    "            \n",
    "                \n",
    "    def __sub__(self, mtx):  # 矩阵减法\n",
    "        pass\n",
    "    def __mul__(self, mtx):  # 矩阵数乘与点乘\n",
    "        pass\n",
    "    def __neg__(self):  # 矩阵前添加负号\n",
    "        pass\n",
    "    \n",
    "    # 重载__repr__()定义矩阵的输出格式\n",
    "    def __repr__(self):\n",
    "        if self.__rows == 1:\n",
    "            return('matrix({})'.format(self.__data))\n",
    "        else:\n",
    "            string = 'matrix([' + str(self.__data[0])\n",
    "            for i in range(1,self.__rows):\n",
    "                string += '\\n'+ ' '*8 + str(self.__data[i])\n",
    "            string += '])'\n",
    "            return string\n",
    "\n",
    "        \n",
    "x = Mtx([[1,2,3,4,5], [9,8,7,6,5]])\n",
    "y = Mtx([list(range(5,10)),list(range(5,0,-1))])\n",
    "z = x + y\n",
    "print(z)\n",
    "z.T()"
   ]
  },
  {
   "cell_type": "markdown",
   "metadata": {},
   "source": [
    "## 精彩案例<br>\n",
    "<font face='kaiti' size=5 style='line-height:1.5'>\n",
    "    \n",
    "&emsp;&emsp;更多精彩案例见教材P142. 6.5节。<br>\n",
    "&emsp;&emsp;下面将上述的矩阵类添加几个实用函数，保存为模块。导入该模块后，可用于一般的矩阵运算。其中的未完成的函数请同学们课后自己完成。"
   ]
  },
  {
   "cell_type": "markdown",
   "metadata": {},
   "source": [
    "<font face='kaiti' size=5 style='line-height:1.5'>\n",
    "\n",
    "1. 添加一些特殊矩阵函数，如分别产生全1矩阵，全0矩阵，单位矩阵的函数。这些函数并不是对矩阵进行操作，而是返回一个矩阵类的对象。所以，它们不是矩阵类的成员函数。在定义时应与矩阵类的定义对齐，不要缩进。"
   ]
  },
  {
   "cell_type": "code",
   "execution_count": null,
   "metadata": {},
   "outputs": [],
   "source": [
    "# 将上述的代码删除带后面的可执行语句后添加下列代码：\n",
    "\n",
    "# 以下定义特殊矩阵\n",
    "# 注：特殊矩阵不是矩阵类Mtx的成员函数，应与Mtx的定义语句对齐\n",
    "def ones(*p):\n",
    "    lens = len(p)\n",
    "    if type(p[0]) == int and p[0] > 0:\n",
    "        if lens == 1:\n",
    "            rows = cols = p[0]\n",
    "        elif lens == 2 and type(p[1]) == int and p[1] > 0:\n",
    "            rows, cols = p\n",
    "        else:\n",
    "            raise Exception('输入参数应为1个或2个正整数')\n",
    "        row = []\n",
    "        for i in range(cols):  # 产生一个全1的数值列表\n",
    "            row.append(1)\n",
    "        data = []\n",
    "        for j in range(rows):\n",
    "            data.append(row)\n",
    "        return Mtx(data)        \n",
    "    else:\n",
    "        raise Exception('输入参数应为1个或2个正整数')\n",
    "\n",
    "def zeros(*p):\n",
    "    pass\n",
    "def eye(*p):\n",
    "    pass"
   ]
  },
  {
   "cell_type": "markdown",
   "metadata": {},
   "source": [
    "<font face='kaiti' size=5 style='line-height:1.5'>\n",
    "\n",
    "2. 可将上述代码保存为\".py\"文件，以便作为模块导入。为避免该文件被直接运行，可以在上述代码后面再添加下列代码。参见教材P8. 1.7节。"
   ]
  },
  {
   "cell_type": "code",
   "execution_count": null,
   "metadata": {},
   "outputs": [],
   "source": [
    "# 定义程序为一个模块\n",
    "if __name__ == '__main__':\n",
    "    print(\"<module 'matrix'>\")"
   ]
  },
  {
   "cell_type": "markdown",
   "metadata": {},
   "source": [
    "<font face='kaiti' size=5 style='line-height:1.5'>\n",
    "\n",
    "3. 保存上述代码文件，如'myMtx.py'，存放在当前目录，可作为模块导入后使用其中的类和函数。为了方便使用，可将该文件保存到Python的搜索路径中。更建议将存放自己定义的模块的文件夹放入搜索路径中。<p>\n",
    "查询Python搜索路径的方法是："
   ]
  },
  {
   "cell_type": "code",
   "execution_count": 7,
   "metadata": {},
   "outputs": [
    {
     "data": {
      "text/plain": [
       "['',\n",
       " 'D:\\\\Anaconda3\\\\python36.zip',\n",
       " 'D:\\\\Anaconda3\\\\DLLs',\n",
       " 'D:\\\\Anaconda3\\\\lib',\n",
       " 'D:\\\\Anaconda3',\n",
       " 'D:\\\\Anaconda3\\\\lib\\\\site-packages',\n",
       " 'D:\\\\Anaconda3\\\\lib\\\\site-packages\\\\win32',\n",
       " 'D:\\\\Anaconda3\\\\lib\\\\site-packages\\\\win32\\\\lib',\n",
       " 'D:\\\\Anaconda3\\\\lib\\\\site-packages\\\\Pythonwin',\n",
       " 'D:\\\\Anaconda3\\\\lib\\\\site-packages\\\\IPython\\\\extensions',\n",
       " 'C:\\\\Users\\\\Administrator\\\\.ipython']"
      ]
     },
     "execution_count": 7,
     "metadata": {},
     "output_type": "execute_result"
    }
   ],
   "source": [
    "import sys\n",
    "sys.path"
   ]
  },
  {
   "cell_type": "markdown",
   "metadata": {},
   "source": [
    "<font face='kaiti' size=5 style='line-height:1.5'>&emsp;&emsp;也可以通过sys模块的append方法在Python环境中增加搜索路径。但这种方法只能临时添加搜索路径。若要永久改变搜索路径，可以修改系统环境变量PYTHONPATH。在一些IDE如Spyder中也有添加搜索路径的选项。"
   ]
  },
  {
   "cell_type": "code",
   "execution_count": 8,
   "metadata": {},
   "outputs": [
    {
     "data": {
      "text/plain": [
       "['',\n",
       " 'D:\\\\Anaconda3\\\\python36.zip',\n",
       " 'D:\\\\Anaconda3\\\\DLLs',\n",
       " 'D:\\\\Anaconda3\\\\lib',\n",
       " 'D:\\\\Anaconda3',\n",
       " 'D:\\\\Anaconda3\\\\lib\\\\site-packages',\n",
       " 'D:\\\\Anaconda3\\\\lib\\\\site-packages\\\\win32',\n",
       " 'D:\\\\Anaconda3\\\\lib\\\\site-packages\\\\win32\\\\lib',\n",
       " 'D:\\\\Anaconda3\\\\lib\\\\site-packages\\\\Pythonwin',\n",
       " 'D:\\\\Anaconda3\\\\lib\\\\site-packages\\\\IPython\\\\extensions',\n",
       " 'C:\\\\Users\\\\Administrator\\\\.ipython',\n",
       " 'E:\\\\MyPython']"
      ]
     },
     "execution_count": 8,
     "metadata": {},
     "output_type": "execute_result"
    }
   ],
   "source": [
    "import sys\n",
    "sys.path.append(\"E:\\\\MyPython\")\n",
    "sys.path"
   ]
  },
  {
   "cell_type": "markdown",
   "metadata": {},
   "source": [
    "<font face='kaiti' size=5 style='line-height:1.5'>\n",
    "\n",
    "4. 将文件\"myMtx.py\"保存到当前目录或搜索路径后，导入该模块使用。在命令行中输入下列代码，执行结果如下：<br>\n",
    "\n",
    "```python\n",
    ">>> import myMtx as mtx\n",
    ">>> x = mtx.Mtx([[1,2,3,4,5], [9,8,7,6,5]])\n",
    ">>> y = mtx.Mtx([list(range(5,10)),list(range(5,0,-1))])\n",
    ">>> z = x + y\n",
    ">>> z\n",
    "matrix([[6, 8, 10, 12, 14]\n",
    "       [14, 12, 10, 8, 6]])\n",
    ">>> z.T()\n",
    "matrix([[6, 14]\n",
    "        [8, 12]\n",
    "        [10, 10]\n",
    "        [12, 8]\n",
    "        [14, 6]])\n",
    ">>> m = mtx.ones(2,5)\n",
    ">>> m\n",
    "matrix([[1, 1, 1, 1, 1]\n",
    "        [1, 1, 1, 1, 1]])\n",
    ">>> x + y + m\n",
    "matrix([[7, 9, 11, 13, 15]\n",
    "        [15, 13, 11, 9, 7]])\n",
    "```"
   ]
  },
  {
   "cell_type": "markdown",
   "metadata": {},
   "source": [
    "## 小结<br>\n",
    "<font face='kaiti' size=5 style='line-height:1.5'>\n",
    "    \n",
    "1. 合理地定义类并组织好多个类之间的关系，是面向对象程序设计的关键；\n",
    "2. 封装、继承、多态是面向对象编程的三大要素；\n",
    "3. 类的成员包括数据成员和成员方法；可以是公有的，也可以是私有的；\n",
    "4. 在类的外部不能直接访问私有成员，但可以通过一种特殊的形式“对象名.\\_类名\\_\\_私有成员名”来访问；\n",
    "5. 面向对象编程中，函数和方法这两个概念有本质的区别；\n",
    "6. 所有实例方法都必须至少有一个self的参数，并且必须是第一个参数；\n",
    "7. 可通过属性这种特殊的成员方法，提供对私有数据的不同权限的访问；\n",
    "8. Python预定义了一些特殊成员，通过对这些特殊成员的重写，可以支持运算符重载、使用内置函数。"
   ]
  },
  {
   "cell_type": "markdown",
   "metadata": {},
   "source": [
    "## 课后练习<br>\n",
    "<font face='kaiti' size=5 style='line-height:1.5'>\n",
    "\n",
    "1. 教材P148. 习题；\n",
    "2. 完善上述的矩阵类Mtx；\n",
    "3. 完善上述的Person类及其派生类，添加Person类的派生类Student。"
   ]
  },
  {
   "cell_type": "code",
   "execution_count": null,
   "metadata": {},
   "outputs": [],
   "source": []
  }
 ],
 "metadata": {
  "kernelspec": {
   "display_name": "Python 3",
   "language": "python",
   "name": "python3"
  },
  "language_info": {
   "codemirror_mode": {
    "name": "ipython",
    "version": 3
   },
   "file_extension": ".py",
   "mimetype": "text/x-python",
   "name": "python",
   "nbconvert_exporter": "python",
   "pygments_lexer": "ipython3",
   "version": "3.7.3"
  },
  "latex_envs": {
   "LaTeX_envs_menu_present": true,
   "autoclose": false,
   "autocomplete": true,
   "bibliofile": "biblio.bib",
   "cite_by": "apalike",
   "current_citInitial": 1,
   "eqLabelWithNumbers": true,
   "eqNumInitial": 1,
   "hotkeys": {
    "equation": "Ctrl-E",
    "itemize": "Ctrl-I"
   },
   "labels_anchors": false,
   "latex_user_defs": false,
   "report_style_numbering": false,
   "user_envs_cfg": false
  },
  "toc": {
   "base_numbering": "6",
   "nav_menu": {},
   "number_sections": true,
   "sideBar": true,
   "skip_h1_title": false,
   "title_cell": "目录",
   "title_sidebar": "目录",
   "toc_cell": true,
   "toc_position": {},
   "toc_section_display": true,
   "toc_window_display": false
  }
 },
 "nbformat": 4,
 "nbformat_minor": 2
}
