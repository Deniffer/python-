{
 "cells": [
  {
   "cell_type": "code",
   "execution_count": null,
   "metadata": {},
   "outputs": [],
   "source": [
    "import numpy as np\n",
    "import pandas as pd\n",
    "df=pd.read_csv(\"data.csv\",encoding=\"latin1\")"
   ]
  },
  {
   "cell_type": "code",
   "execution_count": null,
   "metadata": {},
   "outputs": [],
   "source": []
  },
  {
   "cell_type": "code",
   "execution_count": null,
   "metadata": {},
   "outputs": [],
   "source": [
    "def get_tags(word):#get tags list for example get_tags(\"python-2.7\")\n",
    "    all_tags_list=[]\n",
    "    for i in range(len(df)):\n",
    "    if word in df[\"tags\"].values[i]:\n",
    "        all_tags_list.append(df[\"tags\"].values[i])\n",
    "    all_tags_list=set(all_tags_list)\n",
    "    return all_tags_list"
   ]
  },
  {
   "cell_type": "code",
   "execution_count": null,
   "metadata": {},
   "outputs": [],
   "source": [
    "def get_avg_view(word):#get single word avg_view count\n",
    "    avg=0\n",
    "    len_avg=0\n",
    "    for i in range(len(df)):\n",
    "        if word in df[\"body\"].values[i]:\n",
    "            len_avg+=1\n",
    "            avg+=df[\"view_count\"].values[i]\n",
    "        else:\n",
    "            continue\n",
    "    if len_avg==0:\n",
    "        return 0\n",
    "    return(avg/len_avg)\n",
    "def topic_avg_view(word):\n",
    "    topic_view=[]\n",
    "    func = lambda x,y:x*y\n",
    "    for i in range(len(word)):\n",
    "        topic=[]\n",
    "        for j in word[i]:\n",
    "            topic.append(get_avg_view(j))\n",
    "        topicViews=sum(map(func,topic,all_clean_num[i]))\n",
    "        topic_view.append(topicViews)\n",
    "    return topic_view"
   ]
  },
  {
   "cell_type": "code",
   "execution_count": null,
   "metadata": {},
   "outputs": [],
   "source": [
    "def tag_preprocess(word):\n",
    "    for i in range(len(df)):\n",
    "        if word in df[\"tags\"].values[i]:\n",
    "            count+=1\n",
    "        else:\n",
    "            continue\n",
    "    return 0\n",
    "get_tags(\"python-3.x\")\n",
    "df[\"<python-3.x>\"==df[\"tags\"]].to_csv(\"python-3.x.csv\",encoding=\"latin1\")"
   ]
  },
  {
   "cell_type": "code",
   "execution_count": null,
   "metadata": {},
   "outputs": [],
   "source": [
    "python2[:20000].to_csv(\"python-2.7from2014.csv\",encoding=\"latin1\")"
   ]
  },
  {
   "cell_type": "code",
   "execution_count": null,
   "metadata": {},
   "outputs": [],
   "source": [
    "python3[17000:len(python3)].sample(20000).to_csv(\"python3from15.csv\",encoding=\"latin1\")"
   ]
  },
  {
   "cell_type": "code",
   "execution_count": null,
   "metadata": {},
   "outputs": [],
   "source": []
  }
 ],
 "metadata": {
  "kernelspec": {
   "display_name": "Python 3",
   "language": "python",
   "name": "python3"
  },
  "language_info": {
   "codemirror_mode": {
    "name": "ipython",
    "version": 3
   },
   "file_extension": ".py",
   "mimetype": "text/x-python",
   "name": "python",
   "nbconvert_exporter": "python",
   "pygments_lexer": "ipython3",
   "version": "3.7.3"
  }
 },
 "nbformat": 4,
 "nbformat_minor": 2
}
