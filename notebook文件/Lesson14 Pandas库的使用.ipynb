{
 "cells": [
  {
   "cell_type": "markdown",
   "metadata": {
    "toc": true
   },
   "source": [
    "<h1>目录<span class=\"tocSkip\"></span></h1>\n",
    "<div class=\"toc\"><ul class=\"toc-item\"><li><span><a href=\"#Pandas-库的使用\" data-toc-modified-id=\"Pandas-库的使用-14\"><span class=\"toc-item-num\">14&nbsp;&nbsp;</span>Pandas 库的使用<br></a></span><ul class=\"toc-item\"><li><span><a href=\"#Pandas-数据结构\" data-toc-modified-id=\"Pandas-数据结构-14.1\"><span class=\"toc-item-num\">14.1&nbsp;&nbsp;</span>Pandas 数据结构<br></a></span><ul class=\"toc-item\"><li><span><a href=\"#Series-数据结构\" data-toc-modified-id=\"Series-数据结构-14.1.1\"><span class=\"toc-item-num\">14.1.1&nbsp;&nbsp;</span>Series 数据结构<br></a></span></li><li><span><a href=\"#DataFrame-数据结构\" data-toc-modified-id=\"DataFrame-数据结构-14.1.2\"><span class=\"toc-item-num\">14.1.2&nbsp;&nbsp;</span>DataFrame 数据结构</a></span></li></ul></li><li><span><a href=\"#Pandas数据基本属性和方法\" data-toc-modified-id=\"Pandas数据基本属性和方法-14.2\"><span class=\"toc-item-num\">14.2&nbsp;&nbsp;</span>Pandas数据基本属性和方法<br></a></span></li><li><span><a href=\"#Pandas-描述性统计\" data-toc-modified-id=\"Pandas-描述性统计-14.3\"><span class=\"toc-item-num\">14.3&nbsp;&nbsp;</span>Pandas 描述性统计</a></span></li><li><span><a href=\"#Pandas-数据预处理\" data-toc-modified-id=\"Pandas-数据预处理-14.4\"><span class=\"toc-item-num\">14.4&nbsp;&nbsp;</span>Pandas 数据预处理</a></span><ul class=\"toc-item\"><li><span><a href=\"#Pandas排序\" data-toc-modified-id=\"Pandas排序-14.4.1\"><span class=\"toc-item-num\">14.4.1&nbsp;&nbsp;</span>Pandas排序<br></a></span></li><li><span><a href=\"#缺失值处理\" data-toc-modified-id=\"缺失值处理-14.4.2\"><span class=\"toc-item-num\">14.4.2&nbsp;&nbsp;</span>缺失值处理</a></span></li><li><span><a href=\"#Pandas数据整合\" data-toc-modified-id=\"Pandas数据整合-14.4.3\"><span class=\"toc-item-num\">14.4.3&nbsp;&nbsp;</span>Pandas数据整合</a></span></li></ul></li><li><span><a href=\"#Pandas-绘图\" data-toc-modified-id=\"Pandas-绘图-14.5\"><span class=\"toc-item-num\">14.5&nbsp;&nbsp;</span>Pandas 绘图<br></a></span></li><li><span><a href=\"#Pandas-读写数据文件\" data-toc-modified-id=\"Pandas-读写数据文件-14.6\"><span class=\"toc-item-num\">14.6&nbsp;&nbsp;</span>Pandas 读写数据文件<br></a></span></li></ul></li></ul></div>"
   ]
  },
  {
   "cell_type": "markdown",
   "metadata": {},
   "source": [
    "# Pandas 库的使用<br>\n",
    "<font face='kaiti' size=5 style='line-height:1.5'>\n",
    "    \n",
    "&emsp;&emsp;Pandas库提供了高性能，易于使用的数据结构和数据分析工具。在数据分析的几个主要过程：数据加载，数据探索，数据预处理，模型选定，推断分析中，Pandas都能提供良好的支持。目前，Pandas已广泛使用于金融，经济，统计，分析等学术和商业领域。   \n",
    "- Pandas 数据结构\n",
    "- Pandas 数据基本操作\n",
    "- Pandas 描述性统计\n",
    "- Pandas 可视化\n",
    "- Pandas 数据预处理\n",
    "- Pandas 读写数据文件\n",
    "\n",
    "本文档只介绍一些简单常用的Pandas操作方法。更多的，请参考\n",
    "http://pandas.pydata.org/pandas-docs/stable/ <br>\n",
    "https://www.yiibai.com/pandas"
   ]
  },
  {
   "cell_type": "markdown",
   "metadata": {},
   "source": [
    "## Pandas 数据结构<br>\n",
    "<font face='kaiti' size=5 style='line-height:1.5'>\n",
    "\n",
    "Pandas提供了以下三个数据结构：\n",
    "\n",
    "- 序列(Series)： 带标签的一维数组；同类型数据，数据的值可变，数组的大小不可变。\n",
    "- 数据帧(DataFrame)： 带标签的二维数组；异构数据，数组的值可变，数组的大小可变。\n",
    "- 面板(Panel)： 带标签的三维数组；异构数据，数组的值可变，数组的大小可变。\n",
    "\n",
    "&emsp;这些数据结构最大的特点是带有标签，且标签为字符串类型，不计入数据，而被当做类似行标列标的索引使用。因此，这些数据结构能很好地兼容电子表格、CSV文件、数据库等常用数据集。<br>\n",
    "&emsp;下面简单介绍前2种数据结构，更多的可以参考：<br>\n",
    "http://pandas.pydata.org/pandas-docs/stable/getting_started/dsintro.html"
   ]
  },
  {
   "cell_type": "markdown",
   "metadata": {},
   "source": [
    "### Series 数据结构<br>\n",
    "<font face='kaiti' size=5 style='line-height:1.5'>\n",
    "\n",
    "&emsp;&emsp;Series是带标签的由同类型数据构成的一维数组结构。数据的值可变，数组的大小不可变。<br>\n",
    "&emsp;&emsp;创建Series的最基本的方法是：<br>\n",
    "```python\n",
    "s = pd.Series(data, index=index)\n",
    "```\n",
    "这里，data可以是Python列表，字典，Numpy数组，或者标量值。index是一个放置标签的列表。<br>\n",
    "http://pandas.pydata.org/pandas-docs/stable/reference/series.html"
   ]
  },
  {
   "cell_type": "markdown",
   "metadata": {},
   "source": [
    "<font face='kaiti' size=5 style='line-height:1.5'>\n",
    "【例1】由Numpy数组创建Series."
   ]
  },
  {
   "cell_type": "code",
   "execution_count": 2,
   "metadata": {},
   "outputs": [
    {
     "data": {
      "text/plain": [
       "a    0.690403\n",
       "b    0.826688\n",
       "c    0.783319\n",
       "d    0.276802\n",
       "e    0.400272\n",
       "dtype: float64"
      ]
     },
     "execution_count": 2,
     "metadata": {},
     "output_type": "execute_result"
    }
   ],
   "source": [
    "import numpy as np\n",
    "import pandas as pd\n",
    "\n",
    "s = pd.Series(np.random.rand(5), index=['a', 'b', 'c', 'd', 'e'])\n",
    "s"
   ]
  },
  {
   "cell_type": "code",
   "execution_count": 6,
   "metadata": {},
   "outputs": [
    {
     "data": {
      "text/plain": [
       "Index(['a', 'b', 'c', 'd', 'e'], dtype='object')"
      ]
     },
     "execution_count": 6,
     "metadata": {},
     "output_type": "execute_result"
    }
   ],
   "source": [
    "s.index"
   ]
  },
  {
   "cell_type": "code",
   "execution_count": 7,
   "metadata": {},
   "outputs": [
    {
     "data": {
      "text/plain": [
       "0    1.446269\n",
       "1   -1.164928\n",
       "2   -0.215018\n",
       "3   -1.432390\n",
       "4    0.793829\n",
       "dtype: float64"
      ]
     },
     "execution_count": 7,
     "metadata": {},
     "output_type": "execute_result"
    }
   ],
   "source": [
    "pd.Series(np.random.randn(5))"
   ]
  },
  {
   "cell_type": "markdown",
   "metadata": {},
   "source": [
    "<font face='kaiti' size=5 style='line-height:1.5'>\n",
    "【例2】由字典创建Series."
   ]
  },
  {
   "cell_type": "code",
   "execution_count": 10,
   "metadata": {},
   "outputs": [
    {
     "data": {
      "text/plain": [
       "b    1\n",
       "a    0\n",
       "c    2\n",
       "dtype: int64"
      ]
     },
     "execution_count": 10,
     "metadata": {},
     "output_type": "execute_result"
    }
   ],
   "source": [
    "d = {'b': 1, 'a': 0, 'c': 2}\n",
    "pd.Series(d) # 不指定index，由字典的key当做index\n"
   ]
  },
  {
   "cell_type": "code",
   "execution_count": 11,
   "metadata": {
    "scrolled": true
   },
   "outputs": [
    {
     "data": {
      "text/plain": [
       "b    1.0\n",
       "c    2.0\n",
       "d    NaN\n",
       "a    0.0\n",
       "dtype: float64"
      ]
     },
     "execution_count": 11,
     "metadata": {},
     "output_type": "execute_result"
    }
   ],
   "source": [
    "d = {'b': 1, 'a': 0, 'c': 2}\n",
    "pd.Series(d, index=['b', 'c', 'd', 'a']) # 指定index"
   ]
  },
  {
   "cell_type": "markdown",
   "metadata": {},
   "source": [
    "<font face='kaiti' size=5 style='line-height:1.5'>\n",
    "【例3】由标量值创建Series."
   ]
  },
  {
   "cell_type": "code",
   "execution_count": 12,
   "metadata": {},
   "outputs": [
    {
     "data": {
      "text/plain": [
       "a    5.0\n",
       "b    5.0\n",
       "c    5.0\n",
       "d    5.0\n",
       "e    5.0\n",
       "dtype: float64"
      ]
     },
     "execution_count": 12,
     "metadata": {},
     "output_type": "execute_result"
    }
   ],
   "source": [
    "# 由标量值创建Series，则必须指明index，而标量值将在Series中重复。\n",
    "pd.Series(5., index=['a', 'b', 'c', 'd', 'e'])"
   ]
  },
  {
   "cell_type": "markdown",
   "metadata": {},
   "source": [
    "<font face='kaiti' size=5 style='line-height:1.5'>\n",
    "Series的操作非常类似于Numpy数组。但切片操作是对index的操作。"
   ]
  },
  {
   "cell_type": "code",
   "execution_count": 26,
   "metadata": {},
   "outputs": [
    {
     "name": "stdout",
     "output_type": "stream",
     "text": [
      "s =\n",
      " a   -0.164621\n",
      "b   -0.917316\n",
      "c   -0.994262\n",
      "d   -0.605713\n",
      "e    1.389304\n",
      "dtype: float64\n",
      "s[0] =\n",
      " -0.16462070309071067\n",
      "s[:3] =\n",
      " a   -0.164621\n",
      "b   -0.917316\n",
      "c   -0.994262\n",
      "dtype: float64\n",
      "s[s > s.median()] =\n",
      " a   -0.164621\n",
      "e    1.389304\n",
      "dtype: float64\n",
      "s[[4, 3, 1]] =\n",
      " e    1.389304\n",
      "d   -0.605713\n",
      "b   -0.917316\n",
      "dtype: float64\n",
      "np.exp(s) =\n",
      " a    0.848215\n",
      "b    0.399590\n",
      "c    0.369996\n",
      "d    0.545685\n",
      "e    4.012056\n",
      "dtype: float64\n"
     ]
    }
   ],
   "source": [
    "s = pd.Series(np.random.randn(5), index=['a', 'b', 'c', 'd', 'e'])\n",
    "print('s =\\n', s)\n",
    "print('s[0] =\\n', s[0])\n",
    "print('s[:3] =\\n', s[:3])\n",
    "print('s[s > s.median()] =\\n', s[s > s.median()])\n",
    "print('s[[4, 3, 1]] =\\n', s[[4, 3, 1]])\n",
    "print('np.exp(s) =\\n', np.exp(s))\n"
   ]
  },
  {
   "cell_type": "markdown",
   "metadata": {},
   "source": [
    "<font face='kaiti' size=5 style='line-height:1.5'>\n",
    "Series也可以像Numpy数组一样进行向量化操作。"
   ]
  },
  {
   "cell_type": "code",
   "execution_count": 30,
   "metadata": {},
   "outputs": [
    {
     "name": "stdout",
     "output_type": "stream",
     "text": [
      "s =\n",
      " a   -0.086152\n",
      "b   -1.200184\n",
      "c    1.044969\n",
      "d    0.154062\n",
      "e   -0.181753\n",
      "dtype: float64\n",
      "s + s =\n",
      " a   -0.172304\n",
      "b   -2.400368\n",
      "c    2.089939\n",
      "d    0.308123\n",
      "e   -0.363507\n",
      "dtype: float64\n",
      "2*s =\n",
      " a   -0.172304\n",
      "b   -2.400368\n",
      "c    2.089939\n",
      "d    0.308123\n",
      "e   -0.363507\n",
      "dtype: float64\n"
     ]
    }
   ],
   "source": [
    "s = pd.Series(np.random.randn(5), index=['a', 'b', 'c', 'd', 'e'])\n",
    "print('s =\\n', s)\n",
    "print('s + s =\\n', s + s)\n",
    "print('2*s =\\n', 2*s)"
   ]
  },
  {
   "cell_type": "markdown",
   "metadata": {},
   "source": [
    "<font face='kaiti' size=5 style='line-height:1.5'>\n",
    "Series与Numpy数组的关键差异在于，Series之间的操作是自动按标签对齐的。"
   ]
  },
  {
   "cell_type": "code",
   "execution_count": 32,
   "metadata": {},
   "outputs": [
    {
     "data": {
      "text/plain": [
       "a         NaN\n",
       "b    1.866788\n",
       "c   -0.327266\n",
       "d    0.811959\n",
       "e         NaN\n",
       "dtype: float64"
      ]
     },
     "execution_count": 32,
     "metadata": {},
     "output_type": "execute_result"
    }
   ],
   "source": [
    "s = pd.Series(np.random.randn(5), index=['a', 'b', 'c', 'd', 'e'])\n",
    "s[1:] + s[:-1]"
   ]
  },
  {
   "cell_type": "markdown",
   "metadata": {},
   "source": [
    "<font face='kaiti' size=5 style='line-height:1.5'>\n",
    "Series也像一个固定大小的字典，可以通过index标签访问其值。"
   ]
  },
  {
   "cell_type": "code",
   "execution_count": 29,
   "metadata": {},
   "outputs": [
    {
     "name": "stdout",
     "output_type": "stream",
     "text": [
      "[ 0.10554271  0.75875658  0.62864542  1.57286437 -0.50440954]\n",
      "0.10554270514365989\n",
      "nan\n"
     ]
    },
    {
     "ename": "KeyError",
     "evalue": "'g'",
     "output_type": "error",
     "traceback": [
      "\u001b[1;31m---------------------------------------------------------------------------\u001b[0m",
      "\u001b[1;31mTypeError\u001b[0m                                 Traceback (most recent call last)",
      "\u001b[1;32mD:\\Anaconda3\\lib\\site-packages\\pandas\\core\\indexes\\base.py\u001b[0m in \u001b[0;36mget_value\u001b[1;34m(self, series, key)\u001b[0m\n\u001b[0;32m   3108\u001b[0m             \u001b[1;32mtry\u001b[0m\u001b[1;33m:\u001b[0m\u001b[1;33m\u001b[0m\u001b[0m\n\u001b[1;32m-> 3109\u001b[1;33m                 \u001b[1;32mreturn\u001b[0m \u001b[0mlibindex\u001b[0m\u001b[1;33m.\u001b[0m\u001b[0mget_value_box\u001b[0m\u001b[1;33m(\u001b[0m\u001b[0ms\u001b[0m\u001b[1;33m,\u001b[0m \u001b[0mkey\u001b[0m\u001b[1;33m)\u001b[0m\u001b[1;33m\u001b[0m\u001b[0m\n\u001b[0m\u001b[0;32m   3110\u001b[0m             \u001b[1;32mexcept\u001b[0m \u001b[0mIndexError\u001b[0m\u001b[1;33m:\u001b[0m\u001b[1;33m\u001b[0m\u001b[0m\n",
      "\u001b[1;32mpandas\\_libs\\index.pyx\u001b[0m in \u001b[0;36mpandas._libs.index.get_value_box\u001b[1;34m()\u001b[0m\n",
      "\u001b[1;32mpandas\\_libs\\index.pyx\u001b[0m in \u001b[0;36mpandas._libs.index.get_value_box\u001b[1;34m()\u001b[0m\n",
      "\u001b[1;31mTypeError\u001b[0m: 'str' object cannot be interpreted as an integer",
      "\nDuring handling of the above exception, another exception occurred:\n",
      "\u001b[1;31mKeyError\u001b[0m                                  Traceback (most recent call last)",
      "\u001b[1;32m<ipython-input-29-3d93635e573b>\u001b[0m in \u001b[0;36m<module>\u001b[1;34m()\u001b[0m\n\u001b[0;32m      3\u001b[0m \u001b[0mprint\u001b[0m\u001b[1;33m(\u001b[0m\u001b[0ms\u001b[0m\u001b[1;33m[\u001b[0m\u001b[1;34m'a'\u001b[0m\u001b[1;33m]\u001b[0m\u001b[1;33m)\u001b[0m\u001b[1;33m\u001b[0m\u001b[0m\n\u001b[0;32m      4\u001b[0m \u001b[0mprint\u001b[0m\u001b[1;33m(\u001b[0m\u001b[0ms\u001b[0m\u001b[1;33m.\u001b[0m\u001b[0mget\u001b[0m\u001b[1;33m(\u001b[0m\u001b[1;34m'f'\u001b[0m\u001b[1;33m,\u001b[0m \u001b[0mnp\u001b[0m\u001b[1;33m.\u001b[0m\u001b[0mnan\u001b[0m\u001b[1;33m)\u001b[0m\u001b[1;33m)\u001b[0m\u001b[1;33m\u001b[0m\u001b[0m\n\u001b[1;32m----> 5\u001b[1;33m \u001b[0mprint\u001b[0m\u001b[1;33m(\u001b[0m\u001b[0ms\u001b[0m\u001b[1;33m[\u001b[0m\u001b[1;34m'g'\u001b[0m\u001b[1;33m]\u001b[0m\u001b[1;33m)\u001b[0m\u001b[1;33m\u001b[0m\u001b[0m\n\u001b[0m",
      "\u001b[1;32mD:\\Anaconda3\\lib\\site-packages\\pandas\\core\\series.py\u001b[0m in \u001b[0;36m__getitem__\u001b[1;34m(self, key)\u001b[0m\n\u001b[0;32m    764\u001b[0m         \u001b[0mkey\u001b[0m \u001b[1;33m=\u001b[0m \u001b[0mcom\u001b[0m\u001b[1;33m.\u001b[0m\u001b[0m_apply_if_callable\u001b[0m\u001b[1;33m(\u001b[0m\u001b[0mkey\u001b[0m\u001b[1;33m,\u001b[0m \u001b[0mself\u001b[0m\u001b[1;33m)\u001b[0m\u001b[1;33m\u001b[0m\u001b[0m\n\u001b[0;32m    765\u001b[0m         \u001b[1;32mtry\u001b[0m\u001b[1;33m:\u001b[0m\u001b[1;33m\u001b[0m\u001b[0m\n\u001b[1;32m--> 766\u001b[1;33m             \u001b[0mresult\u001b[0m \u001b[1;33m=\u001b[0m \u001b[0mself\u001b[0m\u001b[1;33m.\u001b[0m\u001b[0mindex\u001b[0m\u001b[1;33m.\u001b[0m\u001b[0mget_value\u001b[0m\u001b[1;33m(\u001b[0m\u001b[0mself\u001b[0m\u001b[1;33m,\u001b[0m \u001b[0mkey\u001b[0m\u001b[1;33m)\u001b[0m\u001b[1;33m\u001b[0m\u001b[0m\n\u001b[0m\u001b[0;32m    767\u001b[0m \u001b[1;33m\u001b[0m\u001b[0m\n\u001b[0;32m    768\u001b[0m             \u001b[1;32mif\u001b[0m \u001b[1;32mnot\u001b[0m \u001b[0mis_scalar\u001b[0m\u001b[1;33m(\u001b[0m\u001b[0mresult\u001b[0m\u001b[1;33m)\u001b[0m\u001b[1;33m:\u001b[0m\u001b[1;33m\u001b[0m\u001b[0m\n",
      "\u001b[1;32mD:\\Anaconda3\\lib\\site-packages\\pandas\\core\\indexes\\base.py\u001b[0m in \u001b[0;36mget_value\u001b[1;34m(self, series, key)\u001b[0m\n\u001b[0;32m   3115\u001b[0m                     \u001b[1;32mraise\u001b[0m \u001b[0mInvalidIndexError\u001b[0m\u001b[1;33m(\u001b[0m\u001b[0mkey\u001b[0m\u001b[1;33m)\u001b[0m\u001b[1;33m\u001b[0m\u001b[0m\n\u001b[0;32m   3116\u001b[0m                 \u001b[1;32melse\u001b[0m\u001b[1;33m:\u001b[0m\u001b[1;33m\u001b[0m\u001b[0m\n\u001b[1;32m-> 3117\u001b[1;33m                     \u001b[1;32mraise\u001b[0m \u001b[0me1\u001b[0m\u001b[1;33m\u001b[0m\u001b[0m\n\u001b[0m\u001b[0;32m   3118\u001b[0m             \u001b[1;32mexcept\u001b[0m \u001b[0mException\u001b[0m\u001b[1;33m:\u001b[0m  \u001b[1;31m# pragma: no cover\u001b[0m\u001b[1;33m\u001b[0m\u001b[0m\n\u001b[0;32m   3119\u001b[0m                 \u001b[1;32mraise\u001b[0m \u001b[0me1\u001b[0m\u001b[1;33m\u001b[0m\u001b[0m\n",
      "\u001b[1;32mD:\\Anaconda3\\lib\\site-packages\\pandas\\core\\indexes\\base.py\u001b[0m in \u001b[0;36mget_value\u001b[1;34m(self, series, key)\u001b[0m\n\u001b[0;32m   3101\u001b[0m         \u001b[1;32mtry\u001b[0m\u001b[1;33m:\u001b[0m\u001b[1;33m\u001b[0m\u001b[0m\n\u001b[0;32m   3102\u001b[0m             return self._engine.get_value(s, k,\n\u001b[1;32m-> 3103\u001b[1;33m                                           tz=getattr(series.dtype, 'tz', None))\n\u001b[0m\u001b[0;32m   3104\u001b[0m         \u001b[1;32mexcept\u001b[0m \u001b[0mKeyError\u001b[0m \u001b[1;32mas\u001b[0m \u001b[0me1\u001b[0m\u001b[1;33m:\u001b[0m\u001b[1;33m\u001b[0m\u001b[0m\n\u001b[0;32m   3105\u001b[0m             \u001b[1;32mif\u001b[0m \u001b[0mlen\u001b[0m\u001b[1;33m(\u001b[0m\u001b[0mself\u001b[0m\u001b[1;33m)\u001b[0m \u001b[1;33m>\u001b[0m \u001b[1;36m0\u001b[0m \u001b[1;32mand\u001b[0m \u001b[0mself\u001b[0m\u001b[1;33m.\u001b[0m\u001b[0minferred_type\u001b[0m \u001b[1;32min\u001b[0m \u001b[1;33m[\u001b[0m\u001b[1;34m'integer'\u001b[0m\u001b[1;33m,\u001b[0m \u001b[1;34m'boolean'\u001b[0m\u001b[1;33m]\u001b[0m\u001b[1;33m:\u001b[0m\u001b[1;33m\u001b[0m\u001b[0m\n",
      "\u001b[1;32mpandas\\_libs\\index.pyx\u001b[0m in \u001b[0;36mpandas._libs.index.IndexEngine.get_value\u001b[1;34m()\u001b[0m\n",
      "\u001b[1;32mpandas\\_libs\\index.pyx\u001b[0m in \u001b[0;36mpandas._libs.index.IndexEngine.get_value\u001b[1;34m()\u001b[0m\n",
      "\u001b[1;32mpandas\\_libs\\index.pyx\u001b[0m in \u001b[0;36mpandas._libs.index.IndexEngine.get_loc\u001b[1;34m()\u001b[0m\n",
      "\u001b[1;32mpandas\\_libs\\hashtable_class_helper.pxi\u001b[0m in \u001b[0;36mpandas._libs.hashtable.PyObjectHashTable.get_item\u001b[1;34m()\u001b[0m\n",
      "\u001b[1;32mpandas\\_libs\\hashtable_class_helper.pxi\u001b[0m in \u001b[0;36mpandas._libs.hashtable.PyObjectHashTable.get_item\u001b[1;34m()\u001b[0m\n",
      "\u001b[1;31mKeyError\u001b[0m: 'g'"
     ]
    }
   ],
   "source": [
    "s = pd.Series(np.random.randn(5), index=['a', 'b', 'c', 'd', 'e'])\n",
    "print(s.values)\n",
    "print(s['a'])\n",
    "# 访问不存在的标签值，需使用 Series.get()方法，否则抛出异常\n",
    "print(s.get('f', np.nan)) \n",
    "print(s['g'])  # 标签'g'不存在，抛出异常。"
   ]
  },
  {
   "cell_type": "markdown",
   "metadata": {},
   "source": [
    "<font face='kaiti' size=5 style='line-height:1.5'>\n",
    "Series也可以添加'name'属性。"
   ]
  },
  {
   "cell_type": "code",
   "execution_count": 35,
   "metadata": {
    "scrolled": true
   },
   "outputs": [
    {
     "name": "stdout",
     "output_type": "stream",
     "text": [
      "0   -0.338990\n",
      "1    1.281103\n",
      "2    0.135021\n",
      "3   -0.007565\n",
      "4    0.774226\n",
      "Name: something, dtype: float64\n"
     ]
    },
    {
     "data": {
      "text/plain": [
       "'different'"
      ]
     },
     "execution_count": 35,
     "metadata": {},
     "output_type": "execute_result"
    }
   ],
   "source": [
    "s = pd.Series(np.random.randn(5), name='something')\n",
    "print(s)\n",
    "s2 = s.rename(\"different\")\n",
    "s2.name"
   ]
  },
  {
   "cell_type": "markdown",
   "metadata": {},
   "source": [
    "### DataFrame 数据结构\n",
    "<font face='kaiti' size=5 style='line-height:1.5'>\n",
    "\n",
    "&emsp;&emsp;DataFrame是二维带标签的数据结构，其同一列数据的数据类型要求相同，但不同列的可以不同。可以将DataFrame看做电子表格或SQL表，或Series对象的字典。DataFrame是Pandas中使用最多的数据结构。<br>\n",
    "&emsp;&emsp;DataFrame带有2组标签 index (row labels) 和 columns (column labels)，其数据可以是：\n",
    "- 一维Numpy数组，列表，字典或Series组成的字典。\n",
    "- 二维Numpy数组\n",
    "- Numpy结构化数组\n",
    "- 其他DataFrame\n",
    "\n",
    "&emsp;&emsp;创建DataFrame的基本方法是：\n",
    "```python\n",
    "pandas.DataFrame( data, index, columns, dtype, copy)\n",
    "```\n"
   ]
  },
  {
   "cell_type": "markdown",
   "metadata": {},
   "source": [
    "<font face='kaiti' size=5 style='line-height:1.5'>\n",
    "【例4】从Series字典或字典创建DataFrame。"
   ]
  },
  {
   "cell_type": "code",
   "execution_count": 41,
   "metadata": {},
   "outputs": [
    {
     "name": "stdout",
     "output_type": "stream",
     "text": [
      "   one  two\n",
      "a  1.0  1.0\n",
      "b  2.0  2.0\n",
      "c  3.0  3.0\n",
      "d  NaN  4.0\n",
      "Index(['a', 'b', 'c', 'd'], dtype='object')\n",
      "Index(['one', 'two'], dtype='object')\n"
     ]
    }
   ],
   "source": [
    "d = {'one': pd.Series([1., 2., 3.], index=['a', 'b', 'c']),\n",
    "        'two': pd.Series([1., 2., 3., 4.], index=['a', 'b', 'c', 'd'])}\n",
    "df = pd.DataFrame(d)\n",
    "print(df)\n",
    "print(df.index)\n",
    "print(df.columns)"
   ]
  },
  {
   "cell_type": "code",
   "execution_count": 37,
   "metadata": {},
   "outputs": [
    {
     "data": {
      "text/html": [
       "<div>\n",
       "<style scoped>\n",
       "    .dataframe tbody tr th:only-of-type {\n",
       "        vertical-align: middle;\n",
       "    }\n",
       "\n",
       "    .dataframe tbody tr th {\n",
       "        vertical-align: top;\n",
       "    }\n",
       "\n",
       "    .dataframe thead th {\n",
       "        text-align: right;\n",
       "    }\n",
       "</style>\n",
       "<table border=\"1\" class=\"dataframe\">\n",
       "  <thead>\n",
       "    <tr style=\"text-align: right;\">\n",
       "      <th></th>\n",
       "      <th>one</th>\n",
       "      <th>two</th>\n",
       "    </tr>\n",
       "  </thead>\n",
       "  <tbody>\n",
       "    <tr>\n",
       "      <th>d</th>\n",
       "      <td>NaN</td>\n",
       "      <td>4.0</td>\n",
       "    </tr>\n",
       "    <tr>\n",
       "      <th>b</th>\n",
       "      <td>2.0</td>\n",
       "      <td>2.0</td>\n",
       "    </tr>\n",
       "    <tr>\n",
       "      <th>a</th>\n",
       "      <td>1.0</td>\n",
       "      <td>1.0</td>\n",
       "    </tr>\n",
       "  </tbody>\n",
       "</table>\n",
       "</div>"
      ],
      "text/plain": [
       "   one  two\n",
       "d  NaN  4.0\n",
       "b  2.0  2.0\n",
       "a  1.0  1.0"
      ]
     },
     "execution_count": 37,
     "metadata": {},
     "output_type": "execute_result"
    }
   ],
   "source": [
    "d = {'one': pd.Series([1., 2., 3.], index=['a', 'b', 'c']),\n",
    "        'two': pd.Series([1., 2., 3., 4.], index=['a', 'b', 'c', 'd'])}\n",
    "pd.DataFrame(d, index=['d', 'b', 'a'])"
   ]
  },
  {
   "cell_type": "code",
   "execution_count": 38,
   "metadata": {},
   "outputs": [
    {
     "data": {
      "text/html": [
       "<div>\n",
       "<style scoped>\n",
       "    .dataframe tbody tr th:only-of-type {\n",
       "        vertical-align: middle;\n",
       "    }\n",
       "\n",
       "    .dataframe tbody tr th {\n",
       "        vertical-align: top;\n",
       "    }\n",
       "\n",
       "    .dataframe thead th {\n",
       "        text-align: right;\n",
       "    }\n",
       "</style>\n",
       "<table border=\"1\" class=\"dataframe\">\n",
       "  <thead>\n",
       "    <tr style=\"text-align: right;\">\n",
       "      <th></th>\n",
       "      <th>two</th>\n",
       "      <th>three</th>\n",
       "    </tr>\n",
       "  </thead>\n",
       "  <tbody>\n",
       "    <tr>\n",
       "      <th>d</th>\n",
       "      <td>4.0</td>\n",
       "      <td>NaN</td>\n",
       "    </tr>\n",
       "    <tr>\n",
       "      <th>b</th>\n",
       "      <td>2.0</td>\n",
       "      <td>NaN</td>\n",
       "    </tr>\n",
       "    <tr>\n",
       "      <th>a</th>\n",
       "      <td>1.0</td>\n",
       "      <td>NaN</td>\n",
       "    </tr>\n",
       "  </tbody>\n",
       "</table>\n",
       "</div>"
      ],
      "text/plain": [
       "   two three\n",
       "d  4.0   NaN\n",
       "b  2.0   NaN\n",
       "a  1.0   NaN"
      ]
     },
     "execution_count": 38,
     "metadata": {},
     "output_type": "execute_result"
    }
   ],
   "source": [
    "d = {'one': pd.Series([1., 2., 3.], index=['a', 'b', 'c']),\n",
    "        'two': pd.Series([1., 2., 3., 4.], index=['a', 'b', 'c', 'd'])}\n",
    "pd.DataFrame(d, index=['d', 'b', 'a'], columns=['two', 'three'])"
   ]
  },
  {
   "cell_type": "markdown",
   "metadata": {},
   "source": [
    "<font face='kaiti' size=5 style='line-height:1.5'>\n",
    "【例5】从Numpy数组或列表构成的字典创建DataFrame。"
   ]
  },
  {
   "cell_type": "code",
   "execution_count": 44,
   "metadata": {},
   "outputs": [
    {
     "data": {
      "text/html": [
       "<div>\n",
       "<style scoped>\n",
       "    .dataframe tbody tr th:only-of-type {\n",
       "        vertical-align: middle;\n",
       "    }\n",
       "\n",
       "    .dataframe tbody tr th {\n",
       "        vertical-align: top;\n",
       "    }\n",
       "\n",
       "    .dataframe thead th {\n",
       "        text-align: right;\n",
       "    }\n",
       "</style>\n",
       "<table border=\"1\" class=\"dataframe\">\n",
       "  <thead>\n",
       "    <tr style=\"text-align: right;\">\n",
       "      <th></th>\n",
       "      <th>one</th>\n",
       "      <th>two</th>\n",
       "    </tr>\n",
       "  </thead>\n",
       "  <tbody>\n",
       "    <tr>\n",
       "      <th>a</th>\n",
       "      <td>1.0</td>\n",
       "      <td>4.0</td>\n",
       "    </tr>\n",
       "    <tr>\n",
       "      <th>b</th>\n",
       "      <td>2.0</td>\n",
       "      <td>3.0</td>\n",
       "    </tr>\n",
       "    <tr>\n",
       "      <th>c</th>\n",
       "      <td>3.0</td>\n",
       "      <td>2.0</td>\n",
       "    </tr>\n",
       "    <tr>\n",
       "      <th>d</th>\n",
       "      <td>4.0</td>\n",
       "      <td>1.0</td>\n",
       "    </tr>\n",
       "  </tbody>\n",
       "</table>\n",
       "</div>"
      ],
      "text/plain": [
       "   one  two\n",
       "a  1.0  4.0\n",
       "b  2.0  3.0\n",
       "c  3.0  2.0\n",
       "d  4.0  1.0"
      ]
     },
     "execution_count": 44,
     "metadata": {},
     "output_type": "execute_result"
    }
   ],
   "source": [
    " d = {'one': [1., 2., 3., 4.],\n",
    "         'two': [4., 3., 2., 1.]}\n",
    "pd.DataFrame(d, index=['a', 'b', 'c', 'd'])"
   ]
  },
  {
   "cell_type": "markdown",
   "metadata": {},
   "source": [
    "<font face='kaiti' size=5 style='line-height:1.5'>\n",
    "【例6】从字典列表创建DataFrame。"
   ]
  },
  {
   "cell_type": "code",
   "execution_count": 49,
   "metadata": {},
   "outputs": [
    {
     "data": {
      "text/html": [
       "<div>\n",
       "<style scoped>\n",
       "    .dataframe tbody tr th:only-of-type {\n",
       "        vertical-align: middle;\n",
       "    }\n",
       "\n",
       "    .dataframe tbody tr th {\n",
       "        vertical-align: top;\n",
       "    }\n",
       "\n",
       "    .dataframe thead th {\n",
       "        text-align: right;\n",
       "    }\n",
       "</style>\n",
       "<table border=\"1\" class=\"dataframe\">\n",
       "  <thead>\n",
       "    <tr style=\"text-align: right;\">\n",
       "      <th></th>\n",
       "      <th>a</th>\n",
       "      <th>b</th>\n",
       "      <th>c</th>\n",
       "    </tr>\n",
       "  </thead>\n",
       "  <tbody>\n",
       "    <tr>\n",
       "      <th>first</th>\n",
       "      <td>1</td>\n",
       "      <td>2</td>\n",
       "      <td>NaN</td>\n",
       "    </tr>\n",
       "    <tr>\n",
       "      <th>second</th>\n",
       "      <td>5</td>\n",
       "      <td>10</td>\n",
       "      <td>20.0</td>\n",
       "    </tr>\n",
       "  </tbody>\n",
       "</table>\n",
       "</div>"
      ],
      "text/plain": [
       "        a   b     c\n",
       "first   1   2   NaN\n",
       "second  5  10  20.0"
      ]
     },
     "execution_count": 49,
     "metadata": {},
     "output_type": "execute_result"
    }
   ],
   "source": [
    "data = [{'a': 1, 'b': 2}, {'a': 5, 'b': 10, 'c': 20}]\n",
    "pd.DataFrame(data, index=['first', 'second'])"
   ]
  },
  {
   "cell_type": "markdown",
   "metadata": {},
   "source": [
    "<font face='kaiti' size=5 style='line-height:1.5'>\n",
    "【例7】使用DataFrame.from_dict创建DataFrame。"
   ]
  },
  {
   "cell_type": "code",
   "execution_count": 50,
   "metadata": {},
   "outputs": [
    {
     "data": {
      "text/html": [
       "<div>\n",
       "<style scoped>\n",
       "    .dataframe tbody tr th:only-of-type {\n",
       "        vertical-align: middle;\n",
       "    }\n",
       "\n",
       "    .dataframe tbody tr th {\n",
       "        vertical-align: top;\n",
       "    }\n",
       "\n",
       "    .dataframe thead th {\n",
       "        text-align: right;\n",
       "    }\n",
       "</style>\n",
       "<table border=\"1\" class=\"dataframe\">\n",
       "  <thead>\n",
       "    <tr style=\"text-align: right;\">\n",
       "      <th></th>\n",
       "      <th>A</th>\n",
       "      <th>B</th>\n",
       "    </tr>\n",
       "  </thead>\n",
       "  <tbody>\n",
       "    <tr>\n",
       "      <th>0</th>\n",
       "      <td>1</td>\n",
       "      <td>4</td>\n",
       "    </tr>\n",
       "    <tr>\n",
       "      <th>1</th>\n",
       "      <td>2</td>\n",
       "      <td>5</td>\n",
       "    </tr>\n",
       "    <tr>\n",
       "      <th>2</th>\n",
       "      <td>3</td>\n",
       "      <td>6</td>\n",
       "    </tr>\n",
       "  </tbody>\n",
       "</table>\n",
       "</div>"
      ],
      "text/plain": [
       "   A  B\n",
       "0  1  4\n",
       "1  2  5\n",
       "2  3  6"
      ]
     },
     "execution_count": 50,
     "metadata": {},
     "output_type": "execute_result"
    }
   ],
   "source": [
    "pd.DataFrame.from_dict(dict([('A', [1, 2, 3]), ('B', [4, 5, 6])]))"
   ]
  },
  {
   "cell_type": "code",
   "execution_count": 52,
   "metadata": {
    "scrolled": true
   },
   "outputs": [
    {
     "data": {
      "text/html": [
       "<div>\n",
       "<style scoped>\n",
       "    .dataframe tbody tr th:only-of-type {\n",
       "        vertical-align: middle;\n",
       "    }\n",
       "\n",
       "    .dataframe tbody tr th {\n",
       "        vertical-align: top;\n",
       "    }\n",
       "\n",
       "    .dataframe thead th {\n",
       "        text-align: right;\n",
       "    }\n",
       "</style>\n",
       "<table border=\"1\" class=\"dataframe\">\n",
       "  <thead>\n",
       "    <tr style=\"text-align: right;\">\n",
       "      <th></th>\n",
       "      <th>one</th>\n",
       "      <th>two</th>\n",
       "      <th>three</th>\n",
       "    </tr>\n",
       "  </thead>\n",
       "  <tbody>\n",
       "    <tr>\n",
       "      <th>A</th>\n",
       "      <td>1</td>\n",
       "      <td>2</td>\n",
       "      <td>3</td>\n",
       "    </tr>\n",
       "    <tr>\n",
       "      <th>B</th>\n",
       "      <td>4</td>\n",
       "      <td>5</td>\n",
       "      <td>6</td>\n",
       "    </tr>\n",
       "  </tbody>\n",
       "</table>\n",
       "</div>"
      ],
      "text/plain": [
       "   one  two  three\n",
       "A    1    2      3\n",
       "B    4    5      6"
      ]
     },
     "execution_count": 52,
     "metadata": {},
     "output_type": "execute_result"
    }
   ],
   "source": [
    "pd.DataFrame.from_dict(dict([('A', [1, 2, 3]), ('B', [4, 5, 6])]),\n",
    "                           orient='index', columns=['one', 'two', 'three'])"
   ]
  },
  {
   "cell_type": "markdown",
   "metadata": {},
   "source": [
    "<font face='kaiti' size=5 style='line-height:1.5'>\n",
    "    \n",
    "1. DataFrame中列的选择、添加、删除"
   ]
  },
  {
   "cell_type": "code",
   "execution_count": 114,
   "metadata": {
    "scrolled": true
   },
   "outputs": [
    {
     "name": "stdout",
     "output_type": "stream",
     "text": [
      "df =\n",
      "    one  two\n",
      "a  1.0  1.0\n",
      "b  2.0  2.0\n",
      "c  3.0  3.0\n",
      "d  NaN  4.0\n",
      "df['one'] =\n",
      " a    1.0\n",
      "b    2.0\n",
      "c    3.0\n",
      "d    NaN\n",
      "Name: one, dtype: float64\n",
      "df =\n",
      "    one  two  three   flag\n",
      "a  1.0  1.0    1.0  False\n",
      "b  2.0  2.0    4.0  False\n",
      "c  3.0  3.0    9.0   True\n",
      "d  NaN  4.0    NaN  False\n",
      "df =\n",
      "    one  three   flag\n",
      "a  1.0    1.0  False\n",
      "b  2.0    4.0  False\n",
      "c  3.0    9.0   True\n",
      "d  NaN    NaN  False\n",
      "df =\n",
      "    one  three   flag  foo\n",
      "a  1.0    1.0  False  bar\n",
      "b  2.0    4.0  False  bar\n",
      "c  3.0    9.0   True  bar\n",
      "d  NaN    NaN  False  bar\n",
      "df =\n",
      "    one  three   flag  foo  one_trunc\n",
      "a  1.0    1.0  False  bar        1.0\n",
      "b  2.0    4.0  False  bar        2.0\n",
      "c  3.0    9.0   True  bar        NaN\n",
      "d  NaN    NaN  False  bar        NaN\n",
      "df =\n",
      "    one  bar  three   flag  foo  one_trunc\n",
      "a  1.0  1.0    1.0  False  bar        1.0\n",
      "b  2.0  2.0    4.0  False  bar        2.0\n",
      "c  3.0  3.0    9.0   True  bar        NaN\n",
      "d  NaN  NaN    NaN  False  bar        NaN\n"
     ]
    }
   ],
   "source": [
    "d = {'one': pd.Series([1., 2., 3.], index=['a', 'b', 'c']),\n",
    "        'two': pd.Series([1., 2., 3., 4.], index=['a', 'b', 'c', 'd'])}\n",
    "df = pd.DataFrame(d)\n",
    "print('df =\\n', df)\n",
    "print(\"df['one'] =\\n\", df['one'])\n",
    "df['three'] = df['one'] * df['two']\n",
    "df['flag'] = df['one'] > 2\n",
    "print('df =\\n', df)\n",
    "del df['two']\n",
    "print('df =\\n', df)\n",
    "df['foo'] = 'bar'\n",
    "print('df =\\n', df)\n",
    "df['one_trunc'] = df['one'][:2]\n",
    "print('df =\\n', df)\n",
    "df.insert(1, 'bar', df['one'])\n",
    "print('df =\\n', df)"
   ]
  },
  {
   "cell_type": "markdown",
   "metadata": {},
   "source": [
    "<font face='kaiti' size=5 style='line-height:1.5'>\n",
    "\n",
    "2. DataFrame.assign()方法可由DataFrame的已有列产生新的列。"
   ]
  },
  {
   "cell_type": "code",
   "execution_count": 116,
   "metadata": {
    "scrolled": true
   },
   "outputs": [
    {
     "data": {
      "text/html": [
       "<div>\n",
       "<style scoped>\n",
       "    .dataframe tbody tr th:only-of-type {\n",
       "        vertical-align: middle;\n",
       "    }\n",
       "\n",
       "    .dataframe tbody tr th {\n",
       "        vertical-align: top;\n",
       "    }\n",
       "\n",
       "    .dataframe thead th {\n",
       "        text-align: right;\n",
       "    }\n",
       "</style>\n",
       "<table border=\"1\" class=\"dataframe\">\n",
       "  <thead>\n",
       "    <tr style=\"text-align: right;\">\n",
       "      <th></th>\n",
       "      <th>A</th>\n",
       "      <th>B</th>\n",
       "      <th>C</th>\n",
       "      <th>D</th>\n",
       "    </tr>\n",
       "  </thead>\n",
       "  <tbody>\n",
       "    <tr>\n",
       "      <th>0</th>\n",
       "      <td>1</td>\n",
       "      <td>4</td>\n",
       "      <td>5</td>\n",
       "      <td>6</td>\n",
       "    </tr>\n",
       "    <tr>\n",
       "      <th>1</th>\n",
       "      <td>2</td>\n",
       "      <td>5</td>\n",
       "      <td>7</td>\n",
       "      <td>9</td>\n",
       "    </tr>\n",
       "    <tr>\n",
       "      <th>2</th>\n",
       "      <td>3</td>\n",
       "      <td>6</td>\n",
       "      <td>9</td>\n",
       "      <td>12</td>\n",
       "    </tr>\n",
       "  </tbody>\n",
       "</table>\n",
       "</div>"
      ],
      "text/plain": [
       "   A  B  C   D\n",
       "0  1  4  5   6\n",
       "1  2  5  7   9\n",
       "2  3  6  9  12"
      ]
     },
     "execution_count": 116,
     "metadata": {},
     "output_type": "execute_result"
    }
   ],
   "source": [
    "dfa = pd.DataFrame({\"A\": [1, 2, 3],\n",
    "                     \"B\": [4, 5, 6]})\n",
    "dfa.assign(C=lambda x: x['A'] + x['B'],\n",
    "           D=lambda x: x['A'] + x['C'])"
   ]
  },
  {
   "cell_type": "markdown",
   "metadata": {},
   "source": [
    "<font face='kaiti' size=5>\n",
    "\n",
    "3. DataFrame的索引</font>\n",
    "\n",
    "|Operation|Syntax|Result|\n",
    "|:--|:--|:--|\n",
    "|选择列|df[col]|Series|\n",
    "|选择行（标签）|df.loc[label]|Series|\n",
    "|选择行（整数）|df.iloc[loc]|Series|\n",
    "|选择块|df.iloc[rows, colos]|DataFrame|\n",
    "|多行切片|df[5:10]|DataFrame|\n",
    "|通过布尔向量选择多行|f[bool_vec]|DataFrame|"
   ]
  },
  {
   "cell_type": "code",
   "execution_count": 117,
   "metadata": {
    "scrolled": true
   },
   "outputs": [
    {
     "data": {
      "text/plain": [
       "one              2\n",
       "bar              2\n",
       "three            4\n",
       "flag         False\n",
       "foo            bar\n",
       "one_trunc        2\n",
       "Name: b, dtype: object"
      ]
     },
     "execution_count": 117,
     "metadata": {},
     "output_type": "execute_result"
    }
   ],
   "source": [
    "df.loc['b']"
   ]
  },
  {
   "cell_type": "code",
   "execution_count": 118,
   "metadata": {
    "scrolled": false
   },
   "outputs": [
    {
     "data": {
      "text/plain": [
       "one             3\n",
       "bar             3\n",
       "three           9\n",
       "flag         True\n",
       "foo           bar\n",
       "one_trunc     NaN\n",
       "Name: c, dtype: object"
      ]
     },
     "execution_count": 118,
     "metadata": {},
     "output_type": "execute_result"
    }
   ],
   "source": [
    "df.iloc[2]"
   ]
  },
  {
   "cell_type": "code",
   "execution_count": 115,
   "metadata": {},
   "outputs": [
    {
     "data": {
      "text/html": [
       "<div>\n",
       "<style scoped>\n",
       "    .dataframe tbody tr th:only-of-type {\n",
       "        vertical-align: middle;\n",
       "    }\n",
       "\n",
       "    .dataframe tbody tr th {\n",
       "        vertical-align: top;\n",
       "    }\n",
       "\n",
       "    .dataframe thead th {\n",
       "        text-align: right;\n",
       "    }\n",
       "</style>\n",
       "<table border=\"1\" class=\"dataframe\">\n",
       "  <thead>\n",
       "    <tr style=\"text-align: right;\">\n",
       "      <th></th>\n",
       "      <th>one</th>\n",
       "      <th>bar</th>\n",
       "      <th>three</th>\n",
       "    </tr>\n",
       "  </thead>\n",
       "  <tbody>\n",
       "    <tr>\n",
       "      <th>a</th>\n",
       "      <td>1.0</td>\n",
       "      <td>1.0</td>\n",
       "      <td>1.0</td>\n",
       "    </tr>\n",
       "    <tr>\n",
       "      <th>b</th>\n",
       "      <td>2.0</td>\n",
       "      <td>2.0</td>\n",
       "      <td>4.0</td>\n",
       "    </tr>\n",
       "  </tbody>\n",
       "</table>\n",
       "</div>"
      ],
      "text/plain": [
       "   one  bar  three\n",
       "a  1.0  1.0    1.0\n",
       "b  2.0  2.0    4.0"
      ]
     },
     "execution_count": 115,
     "metadata": {},
     "output_type": "execute_result"
    }
   ],
   "source": [
    "df.iloc[0:2,0:3]"
   ]
  },
  {
   "cell_type": "markdown",
   "metadata": {},
   "source": [
    "<font face='kaiti' size=5 style='line-height:1.5'>\n",
    "\n",
    "4. 如果DataFrame的列标签是合法的Python变量名，可以将列当做DataFra的属性访问。"
   ]
  },
  {
   "cell_type": "code",
   "execution_count": 75,
   "metadata": {},
   "outputs": [
    {
     "name": "stdout",
     "output_type": "stream",
     "text": [
      "       foo1      foo2\n",
      "0 -0.167488  1.667139\n",
      "1  0.196131  1.350888\n",
      "2  0.795196  0.236308\n",
      "3 -2.489177  1.934470\n",
      "4 -0.381230 -0.886489\n"
     ]
    },
    {
     "data": {
      "text/plain": [
       "0   -0.167488\n",
       "1    0.196131\n",
       "2    0.795196\n",
       "3   -2.489177\n",
       "4   -0.381230\n",
       "Name: foo1, dtype: float64"
      ]
     },
     "execution_count": 75,
     "metadata": {},
     "output_type": "execute_result"
    }
   ],
   "source": [
    "df = pd.DataFrame({'foo1': np.random.randn(5),\n",
    "                    'foo2': np.random.randn(5)})\n",
    "print(df)\n",
    "df.foo1"
   ]
  },
  {
   "cell_type": "markdown",
   "metadata": {},
   "source": [
    "<font face='kaiti' size=5 style='line-height:1.5'>\n",
    "\n",
    "5. 数据对齐与算术运算: DataFrame、Series之间的运算按行和列对齐，其结果类似Numpy二维数组的运算。"
   ]
  },
  {
   "cell_type": "markdown",
   "metadata": {},
   "source": [
    "<font face='kaiti' size=5 style='line-height:1.5'>\n",
    "【例8】数据帧间的\" + \"运算符，对数据帧按行列标签对齐相加。不存在的标签按缺失值处理成\"NaN\"。"
   ]
  },
  {
   "cell_type": "code",
   "execution_count": 64,
   "metadata": {
    "scrolled": false
   },
   "outputs": [
    {
     "data": {
      "text/html": [
       "<div>\n",
       "<style scoped>\n",
       "    .dataframe tbody tr th:only-of-type {\n",
       "        vertical-align: middle;\n",
       "    }\n",
       "\n",
       "    .dataframe tbody tr th {\n",
       "        vertical-align: top;\n",
       "    }\n",
       "\n",
       "    .dataframe thead th {\n",
       "        text-align: right;\n",
       "    }\n",
       "</style>\n",
       "<table border=\"1\" class=\"dataframe\">\n",
       "  <thead>\n",
       "    <tr style=\"text-align: right;\">\n",
       "      <th></th>\n",
       "      <th>A</th>\n",
       "      <th>B</th>\n",
       "      <th>C</th>\n",
       "      <th>D</th>\n",
       "    </tr>\n",
       "  </thead>\n",
       "  <tbody>\n",
       "    <tr>\n",
       "      <th>0</th>\n",
       "      <td>2.259416</td>\n",
       "      <td>-2.221570</td>\n",
       "      <td>-0.596331</td>\n",
       "      <td>NaN</td>\n",
       "    </tr>\n",
       "    <tr>\n",
       "      <th>1</th>\n",
       "      <td>0.886862</td>\n",
       "      <td>0.878138</td>\n",
       "      <td>-1.820508</td>\n",
       "      <td>NaN</td>\n",
       "    </tr>\n",
       "    <tr>\n",
       "      <th>2</th>\n",
       "      <td>-0.323819</td>\n",
       "      <td>0.139288</td>\n",
       "      <td>-2.790744</td>\n",
       "      <td>NaN</td>\n",
       "    </tr>\n",
       "    <tr>\n",
       "      <th>3</th>\n",
       "      <td>-2.494984</td>\n",
       "      <td>-0.389142</td>\n",
       "      <td>0.001265</td>\n",
       "      <td>NaN</td>\n",
       "    </tr>\n",
       "    <tr>\n",
       "      <th>4</th>\n",
       "      <td>0.853675</td>\n",
       "      <td>-0.507491</td>\n",
       "      <td>-1.538449</td>\n",
       "      <td>NaN</td>\n",
       "    </tr>\n",
       "    <tr>\n",
       "      <th>5</th>\n",
       "      <td>0.912642</td>\n",
       "      <td>0.045194</td>\n",
       "      <td>2.097843</td>\n",
       "      <td>NaN</td>\n",
       "    </tr>\n",
       "    <tr>\n",
       "      <th>6</th>\n",
       "      <td>0.882011</td>\n",
       "      <td>-0.737435</td>\n",
       "      <td>-1.012984</td>\n",
       "      <td>NaN</td>\n",
       "    </tr>\n",
       "    <tr>\n",
       "      <th>7</th>\n",
       "      <td>NaN</td>\n",
       "      <td>NaN</td>\n",
       "      <td>NaN</td>\n",
       "      <td>NaN</td>\n",
       "    </tr>\n",
       "    <tr>\n",
       "      <th>8</th>\n",
       "      <td>NaN</td>\n",
       "      <td>NaN</td>\n",
       "      <td>NaN</td>\n",
       "      <td>NaN</td>\n",
       "    </tr>\n",
       "    <tr>\n",
       "      <th>9</th>\n",
       "      <td>NaN</td>\n",
       "      <td>NaN</td>\n",
       "      <td>NaN</td>\n",
       "      <td>NaN</td>\n",
       "    </tr>\n",
       "  </tbody>\n",
       "</table>\n",
       "</div>"
      ],
      "text/plain": [
       "          A         B         C   D\n",
       "0  2.259416 -2.221570 -0.596331 NaN\n",
       "1  0.886862  0.878138 -1.820508 NaN\n",
       "2 -0.323819  0.139288 -2.790744 NaN\n",
       "3 -2.494984 -0.389142  0.001265 NaN\n",
       "4  0.853675 -0.507491 -1.538449 NaN\n",
       "5  0.912642  0.045194  2.097843 NaN\n",
       "6  0.882011 -0.737435 -1.012984 NaN\n",
       "7       NaN       NaN       NaN NaN\n",
       "8       NaN       NaN       NaN NaN\n",
       "9       NaN       NaN       NaN NaN"
      ]
     },
     "execution_count": 64,
     "metadata": {},
     "output_type": "execute_result"
    }
   ],
   "source": [
    "df = pd.DataFrame(np.random.randn(10, 4), columns=['A', 'B', 'C', 'D'])\n",
    "df2 = pd.DataFrame(np.random.randn(7, 3), columns=['A', 'B', 'C'])\n",
    "df + df2 # 运算结果按行和列的标签对齐相加"
   ]
  },
  {
   "cell_type": "markdown",
   "metadata": {},
   "source": [
    "<font face='kaiti' size=5 style='line-height:1.5'>\n",
    "【例9】DataFrame与Series之间的运算，默认按Series的标签对齐DataFrame的列标签，采用逐行广播."
   ]
  },
  {
   "cell_type": "code",
   "execution_count": 67,
   "metadata": {
    "scrolled": false
   },
   "outputs": [
    {
     "data": {
      "text/html": [
       "<div>\n",
       "<style scoped>\n",
       "    .dataframe tbody tr th:only-of-type {\n",
       "        vertical-align: middle;\n",
       "    }\n",
       "\n",
       "    .dataframe tbody tr th {\n",
       "        vertical-align: top;\n",
       "    }\n",
       "\n",
       "    .dataframe thead th {\n",
       "        text-align: right;\n",
       "    }\n",
       "</style>\n",
       "<table border=\"1\" class=\"dataframe\">\n",
       "  <thead>\n",
       "    <tr style=\"text-align: right;\">\n",
       "      <th></th>\n",
       "      <th>A</th>\n",
       "      <th>B</th>\n",
       "      <th>C</th>\n",
       "      <th>D</th>\n",
       "    </tr>\n",
       "  </thead>\n",
       "  <tbody>\n",
       "    <tr>\n",
       "      <th>0</th>\n",
       "      <td>0.000000</td>\n",
       "      <td>0.000000</td>\n",
       "      <td>0.000000</td>\n",
       "      <td>0.000000</td>\n",
       "    </tr>\n",
       "    <tr>\n",
       "      <th>1</th>\n",
       "      <td>0.424689</td>\n",
       "      <td>-0.133821</td>\n",
       "      <td>-1.982154</td>\n",
       "      <td>-1.293971</td>\n",
       "    </tr>\n",
       "    <tr>\n",
       "      <th>2</th>\n",
       "      <td>-0.401169</td>\n",
       "      <td>0.012205</td>\n",
       "      <td>-1.872097</td>\n",
       "      <td>0.115176</td>\n",
       "    </tr>\n",
       "    <tr>\n",
       "      <th>3</th>\n",
       "      <td>-1.165443</td>\n",
       "      <td>-0.142404</td>\n",
       "      <td>-0.476462</td>\n",
       "      <td>-1.405754</td>\n",
       "    </tr>\n",
       "    <tr>\n",
       "      <th>4</th>\n",
       "      <td>0.018676</td>\n",
       "      <td>-0.773210</td>\n",
       "      <td>-1.436377</td>\n",
       "      <td>-2.009195</td>\n",
       "    </tr>\n",
       "    <tr>\n",
       "      <th>5</th>\n",
       "      <td>-0.579648</td>\n",
       "      <td>1.675706</td>\n",
       "      <td>0.922681</td>\n",
       "      <td>-1.908449</td>\n",
       "    </tr>\n",
       "    <tr>\n",
       "      <th>6</th>\n",
       "      <td>0.090202</td>\n",
       "      <td>-1.128066</td>\n",
       "      <td>-1.010209</td>\n",
       "      <td>-1.248685</td>\n",
       "    </tr>\n",
       "    <tr>\n",
       "      <th>7</th>\n",
       "      <td>-0.818654</td>\n",
       "      <td>-0.962922</td>\n",
       "      <td>-0.047148</td>\n",
       "      <td>0.441911</td>\n",
       "    </tr>\n",
       "    <tr>\n",
       "      <th>8</th>\n",
       "      <td>-0.648487</td>\n",
       "      <td>-1.641604</td>\n",
       "      <td>-0.932537</td>\n",
       "      <td>0.105708</td>\n",
       "    </tr>\n",
       "    <tr>\n",
       "      <th>9</th>\n",
       "      <td>-1.370296</td>\n",
       "      <td>-0.700018</td>\n",
       "      <td>-0.586213</td>\n",
       "      <td>-0.448984</td>\n",
       "    </tr>\n",
       "  </tbody>\n",
       "</table>\n",
       "</div>"
      ],
      "text/plain": [
       "          A         B         C         D\n",
       "0  0.000000  0.000000  0.000000  0.000000\n",
       "1  0.424689 -0.133821 -1.982154 -1.293971\n",
       "2 -0.401169  0.012205 -1.872097  0.115176\n",
       "3 -1.165443 -0.142404 -0.476462 -1.405754\n",
       "4  0.018676 -0.773210 -1.436377 -2.009195\n",
       "5 -0.579648  1.675706  0.922681 -1.908449\n",
       "6  0.090202 -1.128066 -1.010209 -1.248685\n",
       "7 -0.818654 -0.962922 -0.047148  0.441911\n",
       "8 -0.648487 -1.641604 -0.932537  0.105708\n",
       "9 -1.370296 -0.700018 -0.586213 -0.448984"
      ]
     },
     "execution_count": 67,
     "metadata": {},
     "output_type": "execute_result"
    }
   ],
   "source": [
    "df - df.iloc[0]"
   ]
  },
  {
   "cell_type": "markdown",
   "metadata": {},
   "source": [
    "<font face='kaiti' size=5 style='line-height:1.5'>\n",
    "【例10】数据帧的运算类似Numpy的二维数组"
   ]
  },
  {
   "cell_type": "code",
   "execution_count": 70,
   "metadata": {
    "scrolled": false
   },
   "outputs": [
    {
     "data": {
      "text/html": [
       "<div>\n",
       "<style scoped>\n",
       "    .dataframe tbody tr th:only-of-type {\n",
       "        vertical-align: middle;\n",
       "    }\n",
       "\n",
       "    .dataframe tbody tr th {\n",
       "        vertical-align: top;\n",
       "    }\n",
       "\n",
       "    .dataframe thead th {\n",
       "        text-align: right;\n",
       "    }\n",
       "</style>\n",
       "<table border=\"1\" class=\"dataframe\">\n",
       "  <thead>\n",
       "    <tr style=\"text-align: right;\">\n",
       "      <th></th>\n",
       "      <th>A</th>\n",
       "      <th>B</th>\n",
       "      <th>C</th>\n",
       "    </tr>\n",
       "  </thead>\n",
       "  <tbody>\n",
       "    <tr>\n",
       "      <th>2000-01-01</th>\n",
       "      <td>10.148136</td>\n",
       "      <td>0.229277</td>\n",
       "      <td>7.627903</td>\n",
       "    </tr>\n",
       "    <tr>\n",
       "      <th>2000-01-02</th>\n",
       "      <td>3.124452</td>\n",
       "      <td>2.848018</td>\n",
       "      <td>4.302298</td>\n",
       "    </tr>\n",
       "    <tr>\n",
       "      <th>2000-01-03</th>\n",
       "      <td>8.892143</td>\n",
       "      <td>-9.476678</td>\n",
       "      <td>2.108795</td>\n",
       "    </tr>\n",
       "    <tr>\n",
       "      <th>2000-01-04</th>\n",
       "      <td>2.677902</td>\n",
       "      <td>2.032764</td>\n",
       "      <td>2.290621</td>\n",
       "    </tr>\n",
       "    <tr>\n",
       "      <th>2000-01-05</th>\n",
       "      <td>6.520976</td>\n",
       "      <td>-4.464359</td>\n",
       "      <td>1.957344</td>\n",
       "    </tr>\n",
       "    <tr>\n",
       "      <th>2000-01-06</th>\n",
       "      <td>0.028353</td>\n",
       "      <td>-4.437237</td>\n",
       "      <td>5.773761</td>\n",
       "    </tr>\n",
       "    <tr>\n",
       "      <th>2000-01-07</th>\n",
       "      <td>8.993738</td>\n",
       "      <td>4.208246</td>\n",
       "      <td>4.148988</td>\n",
       "    </tr>\n",
       "    <tr>\n",
       "      <th>2000-01-08</th>\n",
       "      <td>-0.236972</td>\n",
       "      <td>7.507212</td>\n",
       "      <td>-1.035219</td>\n",
       "    </tr>\n",
       "  </tbody>\n",
       "</table>\n",
       "</div>"
      ],
      "text/plain": [
       "                    A         B         C\n",
       "2000-01-01  10.148136  0.229277  7.627903\n",
       "2000-01-02   3.124452  2.848018  4.302298\n",
       "2000-01-03   8.892143 -9.476678  2.108795\n",
       "2000-01-04   2.677902  2.032764  2.290621\n",
       "2000-01-05   6.520976 -4.464359  1.957344\n",
       "2000-01-06   0.028353 -4.437237  5.773761\n",
       "2000-01-07   8.993738  4.208246  4.148988\n",
       "2000-01-08  -0.236972  7.507212 -1.035219"
      ]
     },
     "execution_count": 70,
     "metadata": {},
     "output_type": "execute_result"
    }
   ],
   "source": [
    "df * 5 + 2"
   ]
  },
  {
   "cell_type": "code",
   "execution_count": 72,
   "metadata": {
    "scrolled": false
   },
   "outputs": [
    {
     "data": {
      "text/html": [
       "<div>\n",
       "<style scoped>\n",
       "    .dataframe tbody tr th:only-of-type {\n",
       "        vertical-align: middle;\n",
       "    }\n",
       "\n",
       "    .dataframe tbody tr th {\n",
       "        vertical-align: top;\n",
       "    }\n",
       "\n",
       "    .dataframe thead th {\n",
       "        text-align: right;\n",
       "    }\n",
       "</style>\n",
       "<table border=\"1\" class=\"dataframe\">\n",
       "  <thead>\n",
       "    <tr style=\"text-align: right;\">\n",
       "      <th></th>\n",
       "      <th>A</th>\n",
       "      <th>B</th>\n",
       "      <th>C</th>\n",
       "    </tr>\n",
       "  </thead>\n",
       "  <tbody>\n",
       "    <tr>\n",
       "      <th>2000-01-01</th>\n",
       "      <td>5.101973</td>\n",
       "      <td>0.701773</td>\n",
       "      <td>3.082006</td>\n",
       "    </tr>\n",
       "    <tr>\n",
       "      <th>2000-01-02</th>\n",
       "      <td>1.252186</td>\n",
       "      <td>1.184835</td>\n",
       "      <td>1.584802</td>\n",
       "    </tr>\n",
       "    <tr>\n",
       "      <th>2000-01-03</th>\n",
       "      <td>3.968661</td>\n",
       "      <td>0.100728</td>\n",
       "      <td>1.021997</td>\n",
       "    </tr>\n",
       "    <tr>\n",
       "      <th>2000-01-04</th>\n",
       "      <td>1.145201</td>\n",
       "      <td>1.006574</td>\n",
       "      <td>1.059847</td>\n",
       "    </tr>\n",
       "    <tr>\n",
       "      <th>2000-01-05</th>\n",
       "      <td>2.469943</td>\n",
       "      <td>0.274481</td>\n",
       "      <td>0.991505</td>\n",
       "    </tr>\n",
       "    <tr>\n",
       "      <th>2000-01-06</th>\n",
       "      <td>0.674132</td>\n",
       "      <td>0.275974</td>\n",
       "      <td>2.127084</td>\n",
       "    </tr>\n",
       "    <tr>\n",
       "      <th>2000-01-07</th>\n",
       "      <td>4.050125</td>\n",
       "      <td>1.555270</td>\n",
       "      <td>1.536947</td>\n",
       "    </tr>\n",
       "    <tr>\n",
       "      <th>2000-01-08</th>\n",
       "      <td>0.639292</td>\n",
       "      <td>3.008503</td>\n",
       "      <td>0.544959</td>\n",
       "    </tr>\n",
       "  </tbody>\n",
       "</table>\n",
       "</div>"
      ],
      "text/plain": [
       "                   A         B         C\n",
       "2000-01-01  5.101973  0.701773  3.082006\n",
       "2000-01-02  1.252186  1.184835  1.584802\n",
       "2000-01-03  3.968661  0.100728  1.021997\n",
       "2000-01-04  1.145201  1.006574  1.059847\n",
       "2000-01-05  2.469943  0.274481  0.991505\n",
       "2000-01-06  0.674132  0.275974  2.127084\n",
       "2000-01-07  4.050125  1.555270  1.536947\n",
       "2000-01-08  0.639292  3.008503  0.544959"
      ]
     },
     "execution_count": 72,
     "metadata": {},
     "output_type": "execute_result"
    }
   ],
   "source": [
    "np.exp(df)"
   ]
  },
  {
   "cell_type": "markdown",
   "metadata": {},
   "source": [
    "## Pandas数据基本属性和方法<br>\n",
    "<font face='kaiti' size=5>\n",
    "    \n",
    "Series对象和DataFrame对象的基本属性和方法如下表所示：</font>\n",
    "    \n",
    "|属性或方法 |描述|\n",
    "|:--|:--|\n",
    "|axes |返回行轴标签列表|\n",
    "|dtype|返回对象的数据类型(dtype)|\n",
    "|empty|如果系列为空，则返回True|\n",
    "|ndim|返回底层数据的维数，默认定义：1|\n",
    "|size|返回基础数据中的元素数|\n",
    "|values|将系列作为ndarray返回|\n",
    "|head()|返回前n行|\n",
    "|tail()|返回最后n行|\n",
    "\n",
    "<font face='kaiti' size=5>\n",
    "DataFrame对象除了上述的属性方法外，还有：</font>\n",
    "\n",
    "|属性或方法 |描述|\n",
    "|:--|:--|\n",
    "|T|转置|\n",
    "|shape|返回DataFrame的维度的元组|\n"
   ]
  },
  {
   "cell_type": "markdown",
   "metadata": {},
   "source": [
    "<font face='kaiti' size=5 style='line-height:1.5'>\n",
    "【例11】序列的基本属性和方法。"
   ]
  },
  {
   "cell_type": "code",
   "execution_count": 78,
   "metadata": {
    "scrolled": true
   },
   "outputs": [
    {
     "name": "stdout",
     "output_type": "stream",
     "text": [
      "s =\n",
      " a   -1.050398\n",
      "b    1.734701\n",
      "c   -0.731050\n",
      "d    0.974433\n",
      "e   -0.727381\n",
      "dtype: float64\n",
      "The axes are:\n",
      "[Index(['a', 'b', 'c', 'd', 'e'], dtype='object')]\n",
      "Is the Object empty?\n",
      "False\n",
      "s.ndim = 1\n",
      "s.size = 5\n",
      "s.values = [-1.05039825  1.73470101 -0.73104975  0.97443293 -0.72738081]\n",
      "s.head(2):\n",
      " a   -1.050398\n",
      "b    1.734701\n",
      "dtype: float64\n",
      "s.tail(2):\n",
      " d    0.974433\n",
      "e   -0.727381\n",
      "dtype: float64\n"
     ]
    }
   ],
   "source": [
    "import pandas as pd\n",
    "import numpy as np\n",
    "\n",
    "s = pd.Series(np.random.randn(5), index=['a', 'b', 'c', 'd', 'e'])\n",
    "print('s =\\n', s)\n",
    "print (\"The axes are:\")\n",
    "print(s.axes)\n",
    "print (\"Is the Object empty?\")\n",
    "print(s.empty)\n",
    "print('s.ndim =', s.ndim)\n",
    "print('s.size =', s.size)\n",
    "print('s.values =', s.values)\n",
    "print('s.head(2):\\n', s.head(2))\n",
    "print('s.tail(2):\\n', s.tail(2))"
   ]
  },
  {
   "cell_type": "markdown",
   "metadata": {},
   "source": [
    "<font face='kaiti' size=5 style='line-height:1.5'>\n",
    "【例12】数据帧的基本属性和方法。"
   ]
  },
  {
   "cell_type": "code",
   "execution_count": 80,
   "metadata": {},
   "outputs": [
    {
     "name": "stdout",
     "output_type": "stream",
     "text": [
      "df =\n",
      "     Name  Age  Rating\n",
      "0    Tom   25    4.23\n",
      "1  James   26    3.24\n",
      "2  Ricky   25    3.98\n",
      "3    Vin   23    2.56\n",
      "4  Steve   30    3.20\n",
      "5  Minsu   29    4.60\n",
      "6   Jack   23    3.80\n",
      "df.axes =\n",
      " [RangeIndex(start=0, stop=7, step=1), Index(['Name', 'Age', 'Rating'], dtype='object')]\n",
      "df.ndim =\n",
      " 2\n",
      "df.size =\n",
      " 21\n",
      "df.shape =\n",
      " (7, 3)\n",
      "df.T =\n",
      "            0      1      2     3      4      5     6\n",
      "Name     Tom  James  Ricky   Vin  Steve  Minsu  Jack\n",
      "Age       25     26     25    23     30     29    23\n",
      "Rating  4.23   3.24   3.98  2.56    3.2    4.6   3.8\n",
      "df.head(2) =\n",
      "     Name  Age  Rating\n",
      "0    Tom   25    4.23\n",
      "1  James   26    3.24\n"
     ]
    }
   ],
   "source": [
    "import pandas as pd\n",
    "import numpy as np\n",
    "\n",
    "#Create a Dictionary of series\n",
    "d = {'Name':pd.Series(['Tom','James','Ricky','Vin','Steve','Minsu','Jack']),\n",
    "   'Age':pd.Series([25,26,25,23,30,29,23]),\n",
    "   'Rating':pd.Series([4.23,3.24,3.98,2.56,3.20,4.6,3.8])}\n",
    "\n",
    "#Create a DataFrame\n",
    "df = pd.DataFrame(d)\n",
    "print('df =\\n', df)\n",
    "print('df.axes =\\n', df.axes)\n",
    "print('df.ndim =\\n', df.ndim)\n",
    "print('df.size =\\n', df.size)\n",
    "print('df.shape =\\n', df.shape)\n",
    "print('df.T =\\n', df.T)\n",
    "print('df.head(2) =\\n', df.head(2))"
   ]
  },
  {
   "cell_type": "markdown",
   "metadata": {},
   "source": [
    "## Pandas 描述性统计\n",
    "\n",
    "|方法|描述|\n",
    "|:--|:--|\n",
    "|count()|非空观测数量|\n",
    "|sum()|所有值之和|\n",
    "|mean()|所有值的平均值|\n",
    "|median()|所有值的中位数|\n",
    "|mode()|值的模值|\n",
    "|std()|值的标准偏差|\n",
    "|min()|所有值中的最小值|\n",
    "|max()|所有值中的最大值|\n",
    "|abs()|绝对值|\n",
    "|prod()|数组元素的乘积|\n",
    "|cumsum()|累计总和|\n",
    "|cumprod()|累计乘积|\n",
    "|describe()|计算有关DataFrame列的统计信息的摘要|\n",
    "\n",
    "<font face='kaiti' size=5 style='line-height:1.5'>\n",
    "上述DataFrame对象的方法在使用时可以通过行标签和列标签指定具体的行或列。"
   ]
  },
  {
   "cell_type": "markdown",
   "metadata": {},
   "source": [
    "<font face='kaiti' size=5 style='line-height:1.5'>\n",
    "【例13】对数据帧的数据做描述性统计。"
   ]
  },
  {
   "cell_type": "code",
   "execution_count": 84,
   "metadata": {
    "scrolled": true
   },
   "outputs": [
    {
     "name": "stdout",
     "output_type": "stream",
     "text": [
      "df = \n",
      "       Name  Age  Rating\n",
      "0      Tom   25    4.23\n",
      "1    James   26    3.24\n",
      "2    Ricky   25    3.98\n",
      "3      Vin   23    2.56\n",
      "4    Steve   30    3.20\n",
      "5    Minsu   29    4.60\n",
      "6     Jack   23    3.80\n",
      "7      Lee   34    3.78\n",
      "8    David   40    2.98\n",
      "9   Gasper   30    4.80\n",
      "10  Betina   51    4.10\n",
      "11  Andres   46    3.65\n",
      "df.sum() =\n",
      " Name      TomJamesRickyVinSteveMinsuJackLeeDavidGasperBe...\n",
      "Age                                                     382\n",
      "Rating                                                44.92\n",
      "dtype: object\n",
      "df.sum(1) =\n",
      " 0     29.23\n",
      "1     29.24\n",
      "2     28.98\n",
      "3     25.56\n",
      "4     33.20\n",
      "5     33.60\n",
      "6     26.80\n",
      "7     37.78\n",
      "8     42.98\n",
      "9     34.80\n",
      "10    55.10\n",
      "11    49.65\n",
      "dtype: float64\n",
      "df.mean() =\n",
      " Age       31.833333\n",
      "Rating     3.743333\n",
      "dtype: float64\n",
      "df.std() =\n",
      " Age       9.232682\n",
      "Rating    0.661628\n",
      "dtype: float64\n",
      "df.min() =\n",
      " Name      Andres\n",
      "Age           23\n",
      "Rating      2.56\n",
      "dtype: object\n",
      "df.describe() =\n",
      "              Age     Rating\n",
      "count  12.000000  12.000000\n",
      "mean   31.833333   3.743333\n",
      "std     9.232682   0.661628\n",
      "min    23.000000   2.560000\n",
      "25%    25.000000   3.230000\n",
      "50%    29.500000   3.790000\n",
      "75%    35.500000   4.132500\n",
      "max    51.000000   4.800000\n"
     ]
    }
   ],
   "source": [
    "import pandas as pd\n",
    "import numpy as np\n",
    "\n",
    "#Create a Dictionary of series\n",
    "d = {'Name':pd.Series(['Tom','James','Ricky','Vin','Steve','Minsu','Jack',\n",
    "   'Lee','David','Gasper','Betina','Andres']),\n",
    "   'Age':pd.Series([25,26,25,23,30,29,23,34,40,30,51,46]),\n",
    "   'Rating':pd.Series([4.23,3.24,3.98,2.56,3.20,4.6,3.8,3.78,2.98,4.80,4.10,3.65])}\n",
    "df = pd.DataFrame(d)\n",
    "print('df = \\n', df)\n",
    "print('df.sum() =\\n', df.sum())  # 默认对axis=0 (即index) 求和\n",
    "print('df.sum(1) =\\n', df.sum(1))\n",
    "print('df.mean() =\\n', df.mean())\n",
    "print('df.std() =\\n', df.std())\n",
    "print('df.min() =\\n', df.min())\n",
    "print('df.describe() =\\n', df.describe())"
   ]
  },
  {
   "cell_type": "markdown",
   "metadata": {},
   "source": [
    "## Pandas 数据预处理\n",
    "<font face='kaiti' size=5 style='line-height:1.5'>\n",
    "&emsp;&emsp;数据预处理包括缺失值处理，异常值处理，数据规范化，数据离散化，数据集成，数据归约等等。这部分涉及到的函数和方法很多，下面只列出一些简单的处理方法。更多的，参考：\n",
    "    \n",
    "http://pandas.pydata.org/pandas-docs/stable/reference/general_functions.html\n",
    "http://pandas.pydata.org/pandas-docs/stable/reference/series.html\n",
    "http://pandas.pydata.org/pandas-docs/stable/reference/frame.html"
   ]
  },
  {
   "cell_type": "markdown",
   "metadata": {},
   "source": [
    "### Pandas排序<br>\n",
    "<font face='kaiti' size=5 style='line-height:1.5'>\n",
    "\n",
    "Pandas有2种排序方法：\n",
    "- 按标签排序: sort_index()\n",
    "- 按值排序: sort_values()"
   ]
  },
  {
   "cell_type": "markdown",
   "metadata": {},
   "source": [
    "<font face='kaiti' size=5 style='line-height:1.5'>\n",
    "【例14】用多种方法对数据帧排序。"
   ]
  },
  {
   "cell_type": "code",
   "execution_count": 90,
   "metadata": {},
   "outputs": [
    {
     "name": "stdout",
     "output_type": "stream",
     "text": [
      "df =\n",
      "        col2      col1\n",
      "1  0.671255  0.316372\n",
      "4  0.994340 -0.999229\n",
      "6 -0.037681  1.392014\n",
      "2 -1.000510 -0.232765\n",
      "3  0.326524  0.111617\n",
      "5 -0.976041  2.944344\n",
      "9 -0.172886 -0.560198\n",
      "8  1.966539 -0.380972\n",
      "0  1.164404  0.611101\n",
      "7 -1.137828 -0.327667\n",
      "按行标签升序排序\n",
      "df1 =\n",
      "        col2      col1\n",
      "0  1.164404  0.611101\n",
      "1  0.671255  0.316372\n",
      "2 -1.000510 -0.232765\n",
      "3  0.326524  0.111617\n",
      "4  0.994340 -0.999229\n",
      "5 -0.976041  2.944344\n",
      "6 -0.037681  1.392014\n",
      "7 -1.137828 -0.327667\n",
      "8  1.966539 -0.380972\n",
      "9 -0.172886 -0.560198\n",
      "按行标签降序排序\n",
      "df2 =\n",
      "        col2      col1\n",
      "9 -0.172886 -0.560198\n",
      "8  1.966539 -0.380972\n",
      "7 -1.137828 -0.327667\n",
      "6 -0.037681  1.392014\n",
      "5 -0.976041  2.944344\n",
      "4  0.994340 -0.999229\n",
      "3  0.326524  0.111617\n",
      "2 -1.000510 -0.232765\n",
      "1  0.671255  0.316372\n",
      "0  1.164404  0.611101\n",
      "按列标签升序排序\n",
      "df3 =\n",
      "        col1      col2\n",
      "1  0.316372  0.671255\n",
      "4 -0.999229  0.994340\n",
      "6  1.392014 -0.037681\n",
      "2 -0.232765 -1.000510\n",
      "3  0.111617  0.326524\n",
      "5  2.944344 -0.976041\n",
      "9 -0.560198 -0.172886\n",
      "8 -0.380972  1.966539\n",
      "0  0.611101  1.164404\n",
      "7 -0.327667 -1.137828\n"
     ]
    }
   ],
   "source": [
    "import pandas as pd\n",
    "import numpy as np\n",
    "\n",
    "df = pd.DataFrame(np.random.randn(10,2),index=[1,4,6,2,3,5,9,8,0,7],columns=['col2','col1'])\n",
    "print ('df =\\n', df)\n",
    "print('按行标签升序排序')\n",
    "df1 = df.sort_index()\n",
    "print('df1 =\\n', df1) \n",
    "print('按行标签降序排序')\n",
    "df2 = df.sort_index(ascending=False)\n",
    "print('df2 =\\n', df2)\n",
    "print('按列标签升序排序')\n",
    "df3 = df.sort_index(axis = 1)\n",
    "print('df3 =\\n', df3)"
   ]
  },
  {
   "cell_type": "code",
   "execution_count": 91,
   "metadata": {},
   "outputs": [
    {
     "name": "stdout",
     "output_type": "stream",
     "text": [
      "df =\n",
      "    col1  col2\n",
      "0     2     1\n",
      "1     1     3\n",
      "2     1     2\n",
      "3     1     4\n",
      "按\"col1\"列排序\n",
      "df1 =\n",
      "    col1  col2\n",
      "1     1     3\n",
      "2     1     2\n",
      "3     1     4\n",
      "0     2     1\n",
      "按\"col1\", \"col2\"列排序\n",
      "df2 =\n",
      "    col1  col2\n",
      "2     1     2\n",
      "1     1     3\n",
      "3     1     4\n",
      "0     2     1\n"
     ]
    }
   ],
   "source": [
    "import pandas as pd\n",
    "import numpy as np\n",
    "\n",
    "df = pd.DataFrame({'col1':[2,1,1,1],'col2':[1,3,2,4]})\n",
    "print ('df =\\n', df)\n",
    "print('按\"col1\"列排序')\n",
    "df1 = df.sort_values(by='col1')\n",
    "print('df1 =\\n', df1)\n",
    "print('按\"col1\", \"col2\"列排序')\n",
    "df2 = df.sort_values(by=['col1','col2'])\n",
    "print('df2 =\\n', df2) "
   ]
  },
  {
   "cell_type": "markdown",
   "metadata": {},
   "source": [
    "### 缺失值处理\n",
    "<font face='kaiti' size=5 style='line-height:1.5'>\n",
    "\n",
    "&emsp;&emsp;处理缺失值的方法可分为三类：删除记录、数据插补和不处理。"
   ]
  },
  {
   "cell_type": "markdown",
   "metadata": {},
   "source": [
    "<font face='kaiti' size=5 style='line-height:1.5'>\n",
    "【例15】用多种方法处理带有缺失值的数据帧。"
   ]
  },
  {
   "cell_type": "code",
   "execution_count": 100,
   "metadata": {},
   "outputs": [
    {
     "name": "stdout",
     "output_type": "stream",
     "text": [
      "          A         B         C\n",
      "0 -0.709261 -0.660378  0.709126\n",
      "1 -1.116144  1.062602  1.039548\n",
      "2 -0.571330 -0.440948  0.992896\n",
      "3       NaN -0.526307  1.504533\n",
      "4       NaN       NaN  0.500385\n",
      "5 -0.335501       NaN       NaN\n",
      "6  1.256721 -0.301563       NaN\n",
      "7  0.998991 -1.404637 -0.644947\n",
      "检测缺失值\n",
      "       A      B      C\n",
      "0  False  False  False\n",
      "1  False  False  False\n",
      "2  False  False  False\n",
      "3   True  False  False\n",
      "4   True   True  False\n",
      "5  False   True   True\n",
      "6  False  False   True\n",
      "7  False  False  False\n",
      "对B，C列缺失值用列平均值填补\n",
      "          A         B         C\n",
      "0 -0.709261 -0.660378  0.709126\n",
      "1 -1.116144  1.062602  1.039548\n",
      "2 -0.571330 -0.440948  0.992896\n",
      "3       NaN -0.526307  1.504533\n",
      "4       NaN -0.378538  0.500385\n",
      "5 -0.335501 -0.378538  0.683590\n",
      "6  1.256721 -0.301563  0.683590\n",
      "7  0.998991 -1.404637 -0.644947\n",
      "用前一个值填充1个缺失值\n",
      "          A         B         C\n",
      "0 -0.709261 -0.660378  0.709126\n",
      "1 -1.116144  1.062602  1.039548\n",
      "2 -0.571330 -0.440948  0.992896\n",
      "3 -0.571330 -0.526307  1.504533\n",
      "4       NaN -0.378538  0.500385\n",
      "5 -0.335501 -0.378538  0.683590\n",
      "6  1.256721 -0.301563  0.683590\n",
      "7  0.998991 -1.404637 -0.644947\n",
      "删除缺失值所在行\n",
      "          A         B         C\n",
      "0 -0.709261 -0.660378  0.709126\n",
      "1 -1.116144  1.062602  1.039548\n",
      "2 -0.571330 -0.440948  0.992896\n",
      "7  0.998991 -1.404637 -0.644947\n",
      "3次样条插值\n",
      "          A         B         C\n",
      "0 -0.709261 -0.660378  0.709126\n",
      "1 -1.116144  1.062602  1.039548\n",
      "2 -0.571330 -0.440948  0.992896\n",
      "3 -0.631286 -0.526307  1.504533\n",
      "4 -0.275369 -0.255675  0.500385\n",
      "5 -0.335501 -0.498912  0.291734\n",
      "6  1.256721 -0.301563 -0.196321\n",
      "7  0.998991 -1.404637 -0.644947\n"
     ]
    }
   ],
   "source": [
    "import numpy as np\n",
    "import pandas as pd\n",
    "df = pd.DataFrame(np.random.randn(8,3), columns=list('ABC'))\n",
    "# 插入缺失值\n",
    "df.iloc[3:5,0] = np.nan\n",
    "df.iloc[4:6,1] = np.nan\n",
    "df.iloc[5:7,2] = np.nan\n",
    "print(df)\n",
    "print('检测缺失值')\n",
    "print(df.isna())  # 检测缺失值\n",
    "df2 = df.copy()\n",
    "print('对B，C列缺失值用列平均值填补')\n",
    "df2 = df2.fillna(df2.mean()['B':'C']) # 对B，C列缺失值用列平均值填补\n",
    "print(df2)\n",
    "print('用前一个值填充1个缺失值')\n",
    "df2 = df2.fillna(method='pad', limit=1)  # 用前一个值填充1个缺失值\n",
    "print(df2)\n",
    "df3 = df.copy()\n",
    "print('删除缺失值所在行')\n",
    "df3 = df3.dropna()   # 删除缺失值所在行\n",
    "print(df3)\n",
    "df4 = df.copy()\n",
    "print('3次样条插值')\n",
    "df4 = df4.interpolate(method='spline',order=3)  # 3次样条插值\n",
    "print(df4)"
   ]
  },
  {
   "cell_type": "markdown",
   "metadata": {},
   "source": [
    "### Pandas数据整合\n",
    "<font face='kaiti' size=5 style='line-height:1.5'>\n",
    "    \n",
    "&emsp;&emsp;Pandas提供了merge()、join()、concat()等3个函数或方法用于数据的整合。下面简要介绍merge()的用法。\n",
    "\n",
    "```python\n",
    "pd.merge(left, right, how='inner', on=None, left_on=None, right_on=None,\n",
    "         left_index=False, right_index=False, sort=True, suffixes=('_x', '_y'), \n",
    "         copy=True, indicator=False, validate=None)\n",
    "```\n",
    "</font>\n",
    "\n",
    "|参数\t|含义|\n",
    "|:--|:--|\n",
    "|left|参与合并的左侧DataFrame|\n",
    "|right|参与合并的右侧DataFrame|\n",
    "|how|连接方式：默认 'inner' ；还有，'outer'、'left'、'right'|\n",
    "|on|用于连接的列名，必须同时存在于左右两个DataFrame对象中，<br>如果未指定，则以left和right列名的交集作为连接键|\n",
    "|left_on|左侧DataFarme中用作连接键的列|\n",
    "|right_on|右侧DataFarme中用作连接键的列|\n",
    "|left_index|将左侧的行索引用作其连接键|\n",
    "|right_index|将右侧的行索引用作其连接键|\n",
    "|sort|根据连接键对合并后的数据进行排序，默认为True。|\n",
    "|suffixes|字符串值元组，用于追加到重叠列名的末尾，默认为('\\_x','\\_y')。|\n",
    "|copy|默认为True，若设置为False，可以在某些特殊情况下<br>避免将数据复制到结果数据结构中|\n",
    "|indicator|默认为False，若设置为True，则增加一列，用于标记合并数据的来源。|\n",
    "|validate|默认None，可指定选项{\"one_to_one\", \"one_to_many\", \"many_to_one\",<br> \"many_to_many\" }中某一种，用于检测是否是指定的合并类型。|\n"
   ]
  },
  {
   "cell_type": "markdown",
   "metadata": {},
   "source": [
    "<font face='kaiti' size=5 style='line-height:1.5'>\n",
    "【例16】2个宿舍水电费数据的合并。"
   ]
  },
  {
   "cell_type": "code",
   "execution_count": 102,
   "metadata": {},
   "outputs": [
    {
     "name": "stdout",
     "output_type": "stream",
     "text": [
      "left =\n",
      "     宿舍  9月电费    水费\n",
      "0  801   102  32.5\n",
      "1  802    93  30.2\n",
      "2  803   115  35.3\n",
      "3  804   120  36.1\n",
      "right =\n",
      "     宿舍  10月电费    水费\n",
      "0  801     99  31.3\n",
      "1  802     94  29.5\n",
      "2  805    113  34.7\n",
      "3  806    122  36.4\n",
      "默认合并方式：\n",
      "    宿舍  9月电费  水费_x  10月电费  水费_y\n",
      "0  801   102  32.5     99  31.3\n",
      "1  802    93  30.2     94  29.5\n",
      "取连接键的并集\n",
      "    宿舍   9月电费  水费_x  10月电费  水费_y\n",
      "0  801  102.0  32.5   99.0  31.3\n",
      "1  802   93.0  30.2   94.0  29.5\n",
      "2  803  115.0  35.3    NaN   NaN\n",
      "3  804  120.0  36.1    NaN   NaN\n",
      "4  805    NaN   NaN  113.0  34.7\n",
      "5  806    NaN   NaN  122.0  36.4\n",
      "自己指定追加方式\n",
      "    宿舍   9月电费  水费_9月  10月电费  水费_10月\n",
      "0  801  102.0   32.5   99.0    31.3\n",
      "1  802   93.0   30.2   94.0    29.5\n",
      "2  803  115.0   35.3    NaN     NaN\n",
      "3  804  120.0   36.1    NaN     NaN\n",
      "4  805    NaN    NaN  113.0    34.7\n",
      "5  806    NaN    NaN  122.0    36.4\n"
     ]
    }
   ],
   "source": [
    "import pandas as pd\n",
    "left = pd.DataFrame({'宿舍': ['801', '802', '803', '804'],\n",
    "                   '9月电费': [102, 93, 115, 120],\n",
    "                   '水费': [32.5, 30.2, 35.3, 36.1]})\n",
    "right = pd.DataFrame({'宿舍': ['801', '802', '805', '806'],\n",
    "                   '10月电费': [99, 94, 113, 122],\n",
    "                   '水费': [31.3, 29.5, 34.7, 36.4]})\n",
    "result1 = pd.merge(left, right, on='宿舍')  #  默认合并方式，取连接键的交集\n",
    "print('left =\\n', left)\n",
    "print('right =\\n', right)\n",
    "print('默认合并方式：')\n",
    "print(result1)\n",
    "result2 = pd.merge(left, right, on='宿舍',how='outer')  # 取连接键的并集\n",
    "print('取连接键的并集')\n",
    "print(result2)\n",
    "print('自己指定追加方式')\n",
    "result3 = pd.merge(left, right, on='宿舍',how='outer',suffixes=('_9月','_10月'))  \n",
    "print(result3)\n"
   ]
  },
  {
   "cell_type": "markdown",
   "metadata": {},
   "source": [
    "## Pandas 绘图<br>\n",
    "<font face='kaiti' size=5 style='line-height:1.5'>\n",
    "    \n",
    "&emsp;&emsp;Pandas为其DataFrame对象和Series对象内置了一些作图的方法plot()，默认以Index为横坐标，每列数据为纵坐标作图，通过plot的输入参数kind指定作图类型，主要有两种使用方式。假设以both表示Pandas的DataFrame对象或Series对象，绘制其数据的线图可以使用：\n",
    "- both.plot(kind='line')  # kind的默认值是线图，也可以写做 both.plot()\n",
    "- both.plot.line()\n",
    "\n",
    "plot()方法也支持绘制散点图，条形图，饼图，箱线图，直方图。"
   ]
  },
  {
   "cell_type": "markdown",
   "metadata": {},
   "source": [
    "<font face='kaiti' size=5 style='line-height:1.5'>\n",
    "【例17】Pandas绘制线图，直方图，散点图，饼图等。"
   ]
  },
  {
   "cell_type": "code",
   "execution_count": 106,
   "metadata": {},
   "outputs": [
    {
     "data": {
      "image/png": "[encoded data removed]",
      "text/plain": [
       "<Figure size 432x288 with 1 Axes>"
      ]
     },
     "metadata": {},
     "output_type": "display_data"
    },
    {
     "data": {
      "image/png": "[encoded data removed]",
      "text/plain": [
       "<Figure size 432x288 with 1 Axes>"
      ]
     },
     "metadata": {},
     "output_type": "display_data"
    },
    {
     "data": {
      "image/png": "[encoded data removed]",
      "text/plain": [
       "<Figure size 432x288 with 1 Axes>"
      ]
     },
     "metadata": {},
     "output_type": "display_data"
    },
    {
     "data": {
      "image/png": "[encoded data removed]",
      "text/plain": [
       "<Figure size 432x288 with 4 Axes>"
      ]
     },
     "metadata": {},
     "output_type": "display_data"
    },
    {
     "data": {
      "image/png": "[encoded data removed]",
      "text/plain": [
       "<Figure size 432x288 with 1 Axes>"
      ]
     },
     "metadata": {},
     "output_type": "display_data"
    },
    {
     "data": {
      "image/png": "[encoded data removed]",
      "text/plain": [
       "<Figure size 432x288 with 1 Axes>"
      ]
     },
     "metadata": {},
     "output_type": "display_data"
    },
    {
     "data": {
      "image/png": "[encoded data removed]",
      "text/plain": [
       "<Figure size 576x288 with 2 Axes>"
      ]
     },
     "metadata": {},
     "output_type": "display_data"
    },
    {
     "data": {
      "image/png": "[encoded data removed]",
      "text/plain": [
       "<Figure size 432x288 with 1 Axes>"
      ]
     },
     "metadata": {},
     "output_type": "display_data"
    }
   ],
   "source": [
    "import numpy as np\n",
    "import pandas as pd\n",
    "import matplotlib.pyplot as plt\n",
    "%matplotlib inline\n",
    "\n",
    "# Series 绘图\n",
    "np.random.seed(19491001)\n",
    "sr = pd.Series(np.random.randn(1000))\n",
    "sr.plot()     # 线图\n",
    "fig = plt.figure()\n",
    "sr.plot.hist(bins=20)   # 直方图\n",
    "\n",
    "# DataFrame 绘图\n",
    "t = np.arange(0., 5., 0.2)\n",
    "D = pd.DataFrame([t,t**2,t**3]).T\n",
    "D.plot(marker='o')   # 线图\n",
    "df = pd.DataFrame(np.random.randn(1000, 4), columns=list(\"ABCD\"))\n",
    "df.hist(color='k', alpha=0.5, bins=50)  #直方图\n",
    "df = df.cumsum()\n",
    "df.plot()   # 多条线图\n",
    "df1 = pd.DataFrame(np.random.rand(50,4), columns=['a','b','c','d'])\n",
    "ax = df1.plot.scatter(x='a', y='b', color='DarkBlue', label='Group 1');  #散点图\n",
    "df1.plot.scatter(x='c', y='d', color='DarkGreen', label='Group 2', ax=ax);\n",
    "df2 = pd.DataFrame(3 * np.random.rand(4, 2), index=['a', 'b', 'c', 'd'], columns=['x', 'y'])\n",
    "df2.plot.pie(subplots=True, figsize=(8, 4))  #饼图\n",
    "df2.plot.barh()\n",
    "plt.show()"
   ]
  },
  {
   "cell_type": "markdown",
   "metadata": {},
   "source": [
    "## Pandas 读写数据文件<br>\n",
    "<font face='kaiti' size=5 style='line-height:1.5'>\n",
    "&emsp;&emsp;Pandas利用提供了很多读写文件的函数，可以读写csv文件，JSON文件，Html文件，Excel表格，SAS文件，等等。常用的有：</font>\n",
    "\n",
    "|格式类型|数据文件类型|读取|写入|\n",
    "|:--|:--|:--|:--|\n",
    "|text|CSV|read_csv|to_csv|\n",
    "|text|JSON|read_json|to_json|\n",
    "|text|HTML|read_html|to_html|\n",
    "|binary|MS Excel|read_excel|to_excel|\n",
    "|binary\t|HDF5 Format|read_hdf|to_hdf|\n",
    "|SQL|SQL|read_sql|to_sql|\n",
    "\n",
    "<font face='kaiti' size=5 style='line-height:1.5'>更多详细信息，参考:<br>\n",
    "http://pandas.pydata.org/pandas-docs/stable/user_guide/io.html"
   ]
  },
  {
   "cell_type": "markdown",
   "metadata": {},
   "source": [
    "<font face='kaiti' size=5 style='line-height:1.5'>\n",
    "【例18】对2018年泰迪杯数据挖掘竞赛B题的表格“附件1：用户收视信息.xlsx”。将第1个工作表中的第6列“收看结束时间”减去第5列“收看开始时间”，得到“收看时长”，保存在第7列。"
   ]
  },
  {
   "cell_type": "code",
   "execution_count": null,
   "metadata": {},
   "outputs": [],
   "source": [
    "import pandas as pd\n",
    "from openpyxl import load_workbook\n",
    "\n",
    "xlfile = r'附件1：用户收视信息.xlsx'\n",
    "book = load_workbook(xlfile)\n",
    "df = pd.read_excel(xlfile, sheet_name='用户收视信息')\n",
    "df['收看时长'] = df['收看结束时间']-df['收看开始时间']\n",
    "writer=pd.ExcelWriter(xlfile, engine='openpyxl')\n",
    "writer.book=book\n",
    "writer.sheets = dict((ws.title, ws) for ws in book.worksheets)\n",
    "try:\n",
    "    df.to_excel(writer,sheet_name='用户收视信息',index=False, header=True)\n",
    "    writer.save()\n",
    "    print('OK.')\n",
    "except Exception as e:\n",
    "    print(type(e),end=' ')\n",
    "    print(e)"
   ]
  },
  {
   "cell_type": "markdown",
   "metadata": {},
   "source": [
    "<font face='kaiti' size=5 style='line-height:1.5'>\n",
    "注：如果想要在已有Excel文件中追加内容，单独使用df.to_excel()将覆盖已有文件的内容。这时需结合使用openpyxl库和Pandas的ExcelWriter函数。"
   ]
  },
  {
   "cell_type": "markdown",
   "metadata": {},
   "source": [
    "<font face='kaiti' size=5 style='line-height:1.5'>\n",
    "&emsp;&emsp;CSV(comma-separated value，逗号分隔值)文件格式是一种非常简单的数据存储与分享方式，以纯文本形式存储表格数据（数字和文本）。CSV文件由任意数目的记录组成，记录间以某种换行符分隔；每条记录由字段组成，字段间的分隔符是其它字符或字符串，最常见的是逗号或制表符。通常，所有记录都有完全相同的字段序列。如下例所示：<br>\n",
    "    \n",
    "工号,姓名,性别,出生年月,学历<br>\n",
    "201811112,张三,男,1994.03,本科<br>\n",
    "201811133,李四,男,1994.09,本科<br>\n",
    "201813102,王五,男,1991.07,硕士<br>\n",
    "201813107,赵六,女,1992.01,硕士<br>\n",
    "        \n",
    "&emsp;&emsp;CSV文件可以用Excel打开查看，因为是纯文本形式，其他编辑软件都可以打开和处理CSV文件。"
   ]
  },
  {
   "cell_type": "markdown",
   "metadata": {},
   "source": [
    "<font face='kaiti' size=5 style='line-height:1.5'>\n",
    "【例19】使用Pandas读取\"附件3：用户基本信息.csv\"到一个DataFrame，并显示前面若干行和列的内容。"
   ]
  },
  {
   "cell_type": "code",
   "execution_count": 1,
   "metadata": {},
   "outputs": [
    {
     "name": "stdout",
     "output_type": "stream",
     "text": [
      "     用户号  业务品牌        用户状态    状态改变时间\n",
      "0  11183  互动电视  正常          20160718\n",
      "1  10830  互动电视  正常          20160119\n",
      "2  10073  互动电视  正常          20141122\n"
     ]
    }
   ],
   "source": [
    "import pandas as pd\n",
    "\n",
    "with open('附件3：用户基本信息.csv') as csvfile:\n",
    "    df = pd.read_csv(csvfile)\n",
    "    print(df.iloc[0:3, 0:4])"
   ]
  },
  {
   "cell_type": "markdown",
   "metadata": {},
   "source": [
    "<font face='kaiti' size=5 style='line-height:1.5'>\n",
    "注：如果csv文件中的文本使用了中文，可能导致Pandas中的read_csv()函数在按文件名读取文件时出错。这时，可使用Python的内置函数open()先打开文件，再用read_csv()函数读取该文件对象。"
   ]
  },
  {
   "cell_type": "code",
   "execution_count": 5,
   "metadata": {},
   "outputs": [],
   "source": [
    "import pandas as pd\n",
    "df=pd.read_csv(\"微博.csv\",encoding=\"utf-8\")"
   ]
  },
  {
   "cell_type": "code",
   "execution_count": 6,
   "metadata": {},
   "outputs": [
    {
     "data": {
      "text/html": [
       "<div>\n",
       "<style scoped>\n",
       "    .dataframe tbody tr th:only-of-type {\n",
       "        vertical-align: middle;\n",
       "    }\n",
       "\n",
       "    .dataframe tbody tr th {\n",
       "        vertical-align: top;\n",
       "    }\n",
       "\n",
       "    .dataframe thead th {\n",
       "        text-align: right;\n",
       "    }\n",
       "</style>\n",
       "<table border=\"1\" class=\"dataframe\">\n",
       "  <thead>\n",
       "    <tr style=\"text-align: right;\">\n",
       "      <th></th>\n",
       "      <th>Unnamed: 0</th>\n",
       "      <th>0</th>\n",
       "      <th>1</th>\n",
       "      <th>2</th>\n",
       "      <th>3</th>\n",
       "      <th>4</th>\n",
       "      <th>5</th>\n",
       "      <th>6</th>\n",
       "      <th>7</th>\n",
       "      <th>8</th>\n",
       "      <th>9</th>\n",
       "    </tr>\n",
       "  </thead>\n",
       "  <tbody>\n",
       "    <tr>\n",
       "      <th>0</th>\n",
       "      <td>0</td>\n",
       "      <td>粗粗米</td>\n",
       "      <td>2018年07月31日 11:32</td>\n",
       "      <td>来自</td>\n",
       "      <td>微博 weibo.com</td>\n",
       "      <td>2018年07月31日 22:59</td>\n",
       "      <td>来自</td>\n",
       "      <td>iPhone客户端</td>\n",
       "      <td>收藏</td>\n",
       "      <td>转发 1</td>\n",
       "      <td>评论</td>\n",
       "    </tr>\n",
       "    <tr>\n",
       "      <th>1</th>\n",
       "      <td>1</td>\n",
       "      <td>镇巴检察_</td>\n",
       "      <td>音量</td>\n",
       "      <td>视频地址</td>\n",
       "      <td>2018年07月31日 22:58</td>\n",
       "      <td>来自</td>\n",
       "      <td>HUAWEI Mate 8</td>\n",
       "      <td>收藏</td>\n",
       "      <td>转发</td>\n",
       "      <td>评论</td>\n",
       "      <td>1</td>\n",
       "    </tr>\n",
       "    <tr>\n",
       "      <th>2</th>\n",
       "      <td>2</td>\n",
       "      <td>叮叮铛88</td>\n",
       "      <td>2018年07月31日 11:18</td>\n",
       "      <td>来自</td>\n",
       "      <td>360安全浏览器</td>\n",
       "      <td>2018年07月31日 22:56</td>\n",
       "      <td>来自</td>\n",
       "      <td>iPhone客户端</td>\n",
       "      <td>收藏</td>\n",
       "      <td>转发</td>\n",
       "      <td>评论</td>\n",
       "    </tr>\n",
       "    <tr>\n",
       "      <th>3</th>\n",
       "      <td>3</td>\n",
       "      <td>微观金融界</td>\n",
       "      <td>141084</td>\n",
       "      <td>2018年07月31日 08:59</td>\n",
       "      <td>来自</td>\n",
       "      <td>专业版微博</td>\n",
       "      <td>2018年07月31日 22:56</td>\n",
       "      <td>收藏</td>\n",
       "      <td>转发</td>\n",
       "      <td>评论</td>\n",
       "      <td>2</td>\n",
       "    </tr>\n",
       "    <tr>\n",
       "      <th>4</th>\n",
       "      <td>4</td>\n",
       "      <td>葛格09</td>\n",
       "      <td>收起全文</td>\n",
       "      <td>d</td>\n",
       "      <td>2018年07月31日 22:54</td>\n",
       "      <td>来自</td>\n",
       "      <td>iPhone客户端</td>\n",
       "      <td>收藏</td>\n",
       "      <td>转发 1</td>\n",
       "      <td>评论</td>\n",
       "      <td>2</td>\n",
       "    </tr>\n",
       "    <tr>\n",
       "      <th>...</th>\n",
       "      <td>...</td>\n",
       "      <td>...</td>\n",
       "      <td>...</td>\n",
       "      <td>...</td>\n",
       "      <td>...</td>\n",
       "      <td>...</td>\n",
       "      <td>...</td>\n",
       "      <td>...</td>\n",
       "      <td>...</td>\n",
       "      <td>...</td>\n",
       "      <td>...</td>\n",
       "    </tr>\n",
       "    <tr>\n",
       "      <th>836</th>\n",
       "      <td>836</td>\n",
       "      <td>中工网</td>\n",
       "      <td>7月30日的国务院常务会定了这两件大事</td>\n",
       "      <td>收起全文</td>\n",
       "      <td>d</td>\n",
       "      <td>2018年07月31日 10:00</td>\n",
       "      <td>来自</td>\n",
       "      <td>微博 weibo.com</td>\n",
       "      <td>收藏</td>\n",
       "      <td>转发 1</td>\n",
       "      <td>评论</td>\n",
       "    </tr>\n",
       "    <tr>\n",
       "      <th>837</th>\n",
       "      <td>837</td>\n",
       "      <td>长白山发布</td>\n",
       "      <td>收起全文</td>\n",
       "      <td>d</td>\n",
       "      <td>2018年07月31日 09:59</td>\n",
       "      <td>来自</td>\n",
       "      <td>微博 weibo.com</td>\n",
       "      <td>收藏</td>\n",
       "      <td>转发</td>\n",
       "      <td>评论</td>\n",
       "      <td>1</td>\n",
       "    </tr>\n",
       "    <tr>\n",
       "      <th>838</th>\n",
       "      <td>838</td>\n",
       "      <td>热搜榜</td>\n",
       "      <td>8</td>\n",
       "      <td>45万</td>\n",
       "      <td>伊朗少将遭美军袭击画面</td>\n",
       "      <td>9</td>\n",
       "      <td>40万</td>\n",
       "      <td>印尼发现世界最大花朵</td>\n",
       "      <td>10</td>\n",
       "      <td>40万</td>\n",
       "      <td>陈伟霆扮蜡像吓妈妈</td>\n",
       "    </tr>\n",
       "    <tr>\n",
       "      <th>839</th>\n",
       "      <td>839</td>\n",
       "      <td>NaN</td>\n",
       "      <td>NaN</td>\n",
       "      <td>NaN</td>\n",
       "      <td>NaN</td>\n",
       "      <td>NaN</td>\n",
       "      <td>NaN</td>\n",
       "      <td>NaN</td>\n",
       "      <td>NaN</td>\n",
       "      <td>NaN</td>\n",
       "      <td>NaN</td>\n",
       "    </tr>\n",
       "    <tr>\n",
       "      <th>840</th>\n",
       "      <td>840</td>\n",
       "      <td>长春长生疫苗</td>\n",
       "      <td>长春长生疫苗</td>\n",
       "      <td>X</td>\n",
       "      <td>NaN</td>\n",
       "      <td>NaN</td>\n",
       "      <td>NaN</td>\n",
       "      <td>NaN</td>\n",
       "      <td>NaN</td>\n",
       "      <td>NaN</td>\n",
       "      <td>NaN</td>\n",
       "    </tr>\n",
       "  </tbody>\n",
       "</table>\n",
       "<p>841 rows × 11 columns</p>\n",
       "</div>"
      ],
      "text/plain": [
       "     Unnamed: 0       0                    1                  2  \\\n",
       "0             0     粗粗米    2018年07月31日 11:32                 来自   \n",
       "1             1   镇巴检察_                   音量               视频地址   \n",
       "2             2   叮叮铛88    2018年07月31日 11:18                 来自   \n",
       "3             3   微观金融界               141084  2018年07月31日 08:59   \n",
       "4             4    葛格09                 收起全文                  d   \n",
       "..          ...     ...                  ...                ...   \n",
       "836         836     中工网  7月30日的国务院常务会定了这两件大事               收起全文   \n",
       "837         837   长白山发布                 收起全文                  d   \n",
       "838         838     热搜榜                    8                45万   \n",
       "839         839     NaN                  NaN                NaN   \n",
       "840         840  长春长生疫苗               长春长生疫苗                  X   \n",
       "\n",
       "                     3                  4                  5             6  \\\n",
       "0         微博 weibo.com  2018年07月31日 22:59                 来自     iPhone客户端   \n",
       "1    2018年07月31日 22:58                 来自      HUAWEI Mate 8            收藏   \n",
       "2             360安全浏览器  2018年07月31日 22:56                 来自     iPhone客户端   \n",
       "3                   来自              专业版微博  2018年07月31日 22:56            收藏   \n",
       "4    2018年07月31日 22:54                 来自          iPhone客户端            收藏   \n",
       "..                 ...                ...                ...           ...   \n",
       "836                  d  2018年07月31日 10:00                 来自  微博 weibo.com   \n",
       "837  2018年07月31日 09:59                 来自       微博 weibo.com            收藏   \n",
       "838        伊朗少将遭美军袭击画面                  9                40万    印尼发现世界最大花朵   \n",
       "839                NaN                NaN                NaN           NaN   \n",
       "840                NaN                NaN                NaN           NaN   \n",
       "\n",
       "        7     8          9  \n",
       "0      收藏  转发 1         评论  \n",
       "1      转发    评论          1  \n",
       "2      收藏    转发         评论  \n",
       "3      转发    评论          2  \n",
       "4    转发 1    评论          2  \n",
       "..    ...   ...        ...  \n",
       "836    收藏  转发 1         评论  \n",
       "837    转发    评论          1  \n",
       "838    10   40万  陈伟霆扮蜡像吓妈妈  \n",
       "839   NaN   NaN        NaN  \n",
       "840   NaN   NaN        NaN  \n",
       "\n",
       "[841 rows x 11 columns]"
      ]
     },
     "execution_count": 6,
     "metadata": {},
     "output_type": "execute_result"
    }
   ],
   "source": [
    "df"
   ]
  },
  {
   "cell_type": "code",
   "execution_count": 23,
   "metadata": {},
   "outputs": [],
   "source": [
    "df=df.drop_duplicates('0')\n",
    "for i in range(len(df)):\n",
    "    if \"收藏\" in str(df['7'].iloc[i]):\n",
    "        df['7'].values[i]=df['8'].iloc[i]\n",
    "    if \"转发\" in str(df['8'].iloc[i]):\n",
    "        df['8'].values[i]=df['9'].values[i]\n",
    "    if \"评论\" in str(df['9'].values[i]):\n",
    "        df['9'].iloc[i]=0\n",
    "df=df.rename(columns={'7':'转发数','8':'评论数','9':\"点赞数\"})"
   ]
  },
  {
   "cell_type": "code",
   "execution_count": 25,
   "metadata": {},
   "outputs": [],
   "source": [
    "df.drop_duplicates('0').to_csv(\"微博2.csv\",encoding=\"utf_8_sig\")"
   ]
  },
  {
   "cell_type": "code",
   "execution_count": 24,
   "metadata": {},
   "outputs": [
    {
     "data": {
      "text/html": [
       "<div>\n",
       "<style scoped>\n",
       "    .dataframe tbody tr th:only-of-type {\n",
       "        vertical-align: middle;\n",
       "    }\n",
       "\n",
       "    .dataframe tbody tr th {\n",
       "        vertical-align: top;\n",
       "    }\n",
       "\n",
       "    .dataframe thead th {\n",
       "        text-align: right;\n",
       "    }\n",
       "</style>\n",
       "<table border=\"1\" class=\"dataframe\">\n",
       "  <thead>\n",
       "    <tr style=\"text-align: right;\">\n",
       "      <th></th>\n",
       "      <th>Unnamed: 0</th>\n",
       "      <th>0</th>\n",
       "      <th>1</th>\n",
       "      <th>2</th>\n",
       "      <th>3</th>\n",
       "      <th>4</th>\n",
       "      <th>5</th>\n",
       "      <th>6</th>\n",
       "      <th>转发数</th>\n",
       "      <th>评论数</th>\n",
       "      <th>点赞数</th>\n",
       "    </tr>\n",
       "  </thead>\n",
       "  <tbody>\n",
       "    <tr>\n",
       "      <th>0</th>\n",
       "      <td>0</td>\n",
       "      <td>粗粗米</td>\n",
       "      <td>2018年07月31日 11:32</td>\n",
       "      <td>来自</td>\n",
       "      <td>微博 weibo.com</td>\n",
       "      <td>2018年07月31日 22:59</td>\n",
       "      <td>来自</td>\n",
       "      <td>iPhone客户端</td>\n",
       "      <td>转发 1</td>\n",
       "      <td>评论</td>\n",
       "      <td>0</td>\n",
       "    </tr>\n",
       "    <tr>\n",
       "      <th>1</th>\n",
       "      <td>1</td>\n",
       "      <td>镇巴检察_</td>\n",
       "      <td>音量</td>\n",
       "      <td>视频地址</td>\n",
       "      <td>2018年07月31日 22:58</td>\n",
       "      <td>来自</td>\n",
       "      <td>HUAWEI Mate 8</td>\n",
       "      <td>收藏</td>\n",
       "      <td>转发</td>\n",
       "      <td>评论</td>\n",
       "      <td>1</td>\n",
       "    </tr>\n",
       "    <tr>\n",
       "      <th>2</th>\n",
       "      <td>2</td>\n",
       "      <td>叮叮铛88</td>\n",
       "      <td>2018年07月31日 11:18</td>\n",
       "      <td>来自</td>\n",
       "      <td>360安全浏览器</td>\n",
       "      <td>2018年07月31日 22:56</td>\n",
       "      <td>来自</td>\n",
       "      <td>iPhone客户端</td>\n",
       "      <td>转发</td>\n",
       "      <td>评论</td>\n",
       "      <td>0</td>\n",
       "    </tr>\n",
       "    <tr>\n",
       "      <th>3</th>\n",
       "      <td>3</td>\n",
       "      <td>微观金融界</td>\n",
       "      <td>141084</td>\n",
       "      <td>2018年07月31日 08:59</td>\n",
       "      <td>来自</td>\n",
       "      <td>专业版微博</td>\n",
       "      <td>2018年07月31日 22:56</td>\n",
       "      <td>收藏</td>\n",
       "      <td>转发</td>\n",
       "      <td>评论</td>\n",
       "      <td>2</td>\n",
       "    </tr>\n",
       "    <tr>\n",
       "      <th>4</th>\n",
       "      <td>4</td>\n",
       "      <td>葛格09</td>\n",
       "      <td>收起全文</td>\n",
       "      <td>d</td>\n",
       "      <td>2018年07月31日 22:54</td>\n",
       "      <td>来自</td>\n",
       "      <td>iPhone客户端</td>\n",
       "      <td>收藏</td>\n",
       "      <td>转发 1</td>\n",
       "      <td>评论</td>\n",
       "      <td>2</td>\n",
       "    </tr>\n",
       "    <tr>\n",
       "      <th>...</th>\n",
       "      <td>...</td>\n",
       "      <td>...</td>\n",
       "      <td>...</td>\n",
       "      <td>...</td>\n",
       "      <td>...</td>\n",
       "      <td>...</td>\n",
       "      <td>...</td>\n",
       "      <td>...</td>\n",
       "      <td>...</td>\n",
       "      <td>...</td>\n",
       "      <td>...</td>\n",
       "    </tr>\n",
       "    <tr>\n",
       "      <th>830</th>\n",
       "      <td>830</td>\n",
       "      <td>十堰市人民检察院</td>\n",
       "      <td>d</td>\n",
       "      <td>检察日报</td>\n",
       "      <td>国务院：对长春长生案涉事企业和人员处以巨额罚...</td>\n",
       "      <td>2018年07月31日 10:03</td>\n",
       "      <td>来自</td>\n",
       "      <td>360安全浏览器</td>\n",
       "      <td>转发</td>\n",
       "      <td>评论</td>\n",
       "      <td>0</td>\n",
       "    </tr>\n",
       "    <tr>\n",
       "      <th>832</th>\n",
       "      <td>832</td>\n",
       "      <td>戈坪乡发布</td>\n",
       "      <td>长生</td>\n",
       "      <td>疫苗</td>\n",
       "      <td>百白破疫苗出事，全国家长陷入了恐慌： 白百破是一类（免费）疫苗，用来预防百日咳、白喉、破伤风...</td>\n",
       "      <td>2018年07月31日 10:02</td>\n",
       "      <td>来自</td>\n",
       "      <td>小米6 拍人更美</td>\n",
       "      <td>转发</td>\n",
       "      <td>评论</td>\n",
       "      <td>0</td>\n",
       "    </tr>\n",
       "    <tr>\n",
       "      <th>833</th>\n",
       "      <td>833</td>\n",
       "      <td>李笛的职场经济学</td>\n",
       "      <td>收起全文</td>\n",
       "      <td>d</td>\n",
       "      <td>2018年07月31日 10:02</td>\n",
       "      <td>来自</td>\n",
       "      <td>荣耀9 美得有声有色</td>\n",
       "      <td>收藏</td>\n",
       "      <td>转发 3</td>\n",
       "      <td>评论 2</td>\n",
       "      <td>1</td>\n",
       "    </tr>\n",
       "    <tr>\n",
       "      <th>836</th>\n",
       "      <td>836</td>\n",
       "      <td>中工网</td>\n",
       "      <td>7月30日的国务院常务会定了这两件大事</td>\n",
       "      <td>收起全文</td>\n",
       "      <td>d</td>\n",
       "      <td>2018年07月31日 10:00</td>\n",
       "      <td>来自</td>\n",
       "      <td>微博 weibo.com</td>\n",
       "      <td>转发 1</td>\n",
       "      <td>评论</td>\n",
       "      <td>0</td>\n",
       "    </tr>\n",
       "    <tr>\n",
       "      <th>837</th>\n",
       "      <td>837</td>\n",
       "      <td>长白山发布</td>\n",
       "      <td>收起全文</td>\n",
       "      <td>d</td>\n",
       "      <td>2018年07月31日 09:59</td>\n",
       "      <td>来自</td>\n",
       "      <td>微博 weibo.com</td>\n",
       "      <td>收藏</td>\n",
       "      <td>转发</td>\n",
       "      <td>评论</td>\n",
       "      <td>1</td>\n",
       "    </tr>\n",
       "  </tbody>\n",
       "</table>\n",
       "<p>628 rows × 11 columns</p>\n",
       "</div>"
      ],
      "text/plain": [
       "     Unnamed: 0         0                    1                  2  \\\n",
       "0             0       粗粗米    2018年07月31日 11:32                 来自   \n",
       "1             1     镇巴检察_                   音量               视频地址   \n",
       "2             2     叮叮铛88    2018年07月31日 11:18                 来自   \n",
       "3             3     微观金融界               141084  2018年07月31日 08:59   \n",
       "4             4      葛格09                 收起全文                  d   \n",
       "..          ...       ...                  ...                ...   \n",
       "830         830  十堰市人民检察院                    d               检察日报   \n",
       "832         832     戈坪乡发布                   长生                 疫苗   \n",
       "833         833  李笛的职场经济学                 收起全文                  d   \n",
       "836         836       中工网  7月30日的国务院常务会定了这两件大事               收起全文   \n",
       "837         837     长白山发布                 收起全文                  d   \n",
       "\n",
       "                                                     3                  4  \\\n",
       "0                                         微博 weibo.com  2018年07月31日 22:59   \n",
       "1                                    2018年07月31日 22:58                 来自   \n",
       "2                                             360安全浏览器  2018年07月31日 22:56   \n",
       "3                                                   来自              专业版微博   \n",
       "4                                    2018年07月31日 22:54                 来自   \n",
       "..                                                 ...                ...   \n",
       "830                          国务院：对长春长生案涉事企业和人员处以巨额罚...  2018年07月31日 10:03   \n",
       "832  百白破疫苗出事，全国家长陷入了恐慌： 白百破是一类（免费）疫苗，用来预防百日咳、白喉、破伤风...  2018年07月31日 10:02   \n",
       "833                                  2018年07月31日 10:02                 来自   \n",
       "836                                                  d  2018年07月31日 10:00   \n",
       "837                                  2018年07月31日 09:59                 来自   \n",
       "\n",
       "                     5             6   转发数   评论数 点赞数  \n",
       "0                   来自     iPhone客户端  转发 1    评论   0  \n",
       "1        HUAWEI Mate 8            收藏    转发    评论   1  \n",
       "2                   来自     iPhone客户端    转发    评论   0  \n",
       "3    2018年07月31日 22:56            收藏    转发    评论   2  \n",
       "4            iPhone客户端            收藏  转发 1    评论   2  \n",
       "..                 ...           ...   ...   ...  ..  \n",
       "830                 来自      360安全浏览器    转发    评论   0  \n",
       "832                 来自      小米6 拍人更美    转发    评论   0  \n",
       "833         荣耀9 美得有声有色            收藏  转发 3  评论 2   1  \n",
       "836                 来自  微博 weibo.com  转发 1    评论   0  \n",
       "837       微博 weibo.com            收藏    转发    评论   1  \n",
       "\n",
       "[628 rows x 11 columns]"
      ]
     },
     "execution_count": 24,
     "metadata": {},
     "output_type": "execute_result"
    }
   ],
   "source": [
    "df"
   ]
  },
  {
   "cell_type": "code",
   "execution_count": null,
   "metadata": {},
   "outputs": [],
   "source": []
  }
 ],
 "metadata": {
  "kernelspec": {
   "display_name": "Python 3",
   "language": "python",
   "name": "python3"
  },
  "language_info": {
   "codemirror_mode": {
    "name": "ipython",
    "version": 3
   },
   "file_extension": ".py",
   "mimetype": "text/x-python",
   "name": "python",
   "nbconvert_exporter": "python",
   "pygments_lexer": "ipython3",
   "version": "3.7.3"
  },
  "latex_envs": {
   "LaTeX_envs_menu_present": true,
   "autoclose": false,
   "autocomplete": true,
   "bibliofile": "biblio.bib",
   "cite_by": "apalike",
   "current_citInitial": 1,
   "eqLabelWithNumbers": true,
   "eqNumInitial": 1,
   "hotkeys": {
    "equation": "Ctrl-E",
    "itemize": "Ctrl-I"
   },
   "labels_anchors": false,
   "latex_user_defs": false,
   "report_style_numbering": false,
   "user_envs_cfg": false
  },
  "toc": {
   "base_numbering": "14",
   "nav_menu": {},
   "number_sections": true,
   "sideBar": true,
   "skip_h1_title": false,
   "title_cell": "目录",
   "title_sidebar": "目录",
   "toc_cell": true,
   "toc_position": {},
   "toc_section_display": true,
   "toc_window_display": false
  }
 },
 "nbformat": 4,
 "nbformat_minor": 2
}
