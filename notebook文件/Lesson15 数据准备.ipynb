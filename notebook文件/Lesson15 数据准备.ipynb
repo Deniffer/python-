{
 "cells": [
  {
   "cell_type": "markdown",
   "metadata": {
    "toc": true
   },
   "source": [
    "<h1>Table of Contents<span class=\"tocSkip\"></span></h1>\n",
    "<div class=\"toc\"><ul class=\"toc-item\"><li><span><a href=\"#数据准备\" data-toc-modified-id=\"数据准备-15\"><span class=\"toc-item-num\">15&nbsp;&nbsp;</span>数据准备<br></a></span><ul class=\"toc-item\"><li><span><a href=\"#数据访问\" data-toc-modified-id=\"数据访问-15.1\"><span class=\"toc-item-num\">15.1&nbsp;&nbsp;</span>数据访问<br></a></span><ul class=\"toc-item\"><li><span><a href=\"#Excel文件\" data-toc-modified-id=\"Excel文件-15.1.1\"><span class=\"toc-item-num\">15.1.1&nbsp;&nbsp;</span>Excel文件<br></a></span></li><li><span><a href=\"#CSV文件\" data-toc-modified-id=\"CSV文件-15.1.2\"><span class=\"toc-item-num\">15.1.2&nbsp;&nbsp;</span>CSV文件<br></a></span></li></ul></li><li><span><a href=\"#探索性分析\" data-toc-modified-id=\"探索性分析-15.2\"><span class=\"toc-item-num\">15.2&nbsp;&nbsp;</span>探索性分析<br></a></span><ul class=\"toc-item\"><li><span><a href=\"#数据可视化\" data-toc-modified-id=\"数据可视化-15.2.1\"><span class=\"toc-item-num\">15.2.1&nbsp;&nbsp;</span>数据可视化</a></span></li><li><span><a href=\"#描述性统计\" data-toc-modified-id=\"描述性统计-15.2.2\"><span class=\"toc-item-num\">15.2.2&nbsp;&nbsp;</span>描述性统计</a></span></li><li><span><a href=\"#相关性分析\" data-toc-modified-id=\"相关性分析-15.2.3\"><span class=\"toc-item-num\">15.2.3&nbsp;&nbsp;</span>相关性分析<br></a></span></li></ul></li><li><span><a href=\"#数据清洗\" data-toc-modified-id=\"数据清洗-15.3\"><span class=\"toc-item-num\">15.3&nbsp;&nbsp;</span>数据清洗<br></a></span><ul class=\"toc-item\"><li><span><a href=\"#去除重复数据\" data-toc-modified-id=\"去除重复数据-15.3.1\"><span class=\"toc-item-num\">15.3.1&nbsp;&nbsp;</span>去除重复数据</a></span></li><li><span><a href=\"#缺失值处理\" data-toc-modified-id=\"缺失值处理-15.3.2\"><span class=\"toc-item-num\">15.3.2&nbsp;&nbsp;</span>缺失值处理</a></span></li><li><span><a href=\"#异常值处理\" data-toc-modified-id=\"异常值处理-15.3.3\"><span class=\"toc-item-num\">15.3.3&nbsp;&nbsp;</span>异常值处理</a></span></li></ul></li><li><span><a href=\"#数据转换\" data-toc-modified-id=\"数据转换-15.4\"><span class=\"toc-item-num\">15.4&nbsp;&nbsp;</span>数据转换</a></span></li><li><span><a href=\"#数据集成\" data-toc-modified-id=\"数据集成-15.5\"><span class=\"toc-item-num\">15.5&nbsp;&nbsp;</span>数据集成</a></span></li><li><span><a href=\"#数据归约\" data-toc-modified-id=\"数据归约-15.6\"><span class=\"toc-item-num\">15.6&nbsp;&nbsp;</span>数据归约<br></a></span><ul class=\"toc-item\"><li><span><a href=\"#属性规约\" data-toc-modified-id=\"属性规约-15.6.1\"><span class=\"toc-item-num\">15.6.1&nbsp;&nbsp;</span>属性规约<br></a></span></li><li><span><a href=\"#数值归约\" data-toc-modified-id=\"数值归约-15.6.2\"><span class=\"toc-item-num\">15.6.2&nbsp;&nbsp;</span>数值归约<br></a></span></li></ul></li></ul></li></ul></div>"
   ]
  },
  {
   "cell_type": "markdown",
   "metadata": {},
   "source": [
    "# 数据准备<br>\n",
    "<font face='kaiti' size=5 style='line-height:1.5'>\n",
    "    \n",
    "&emsp;&emsp;原始的数据往往不能直接作为数据分析与机器学习的对象，这主要因为：\n",
    "1. 数据来源和格式不一；\n",
    "2. 对数据的整体分布特征不了解；\n",
    "3. 数据可能受到污染，存在异常数据或缺失值；\n",
    "4. 数据的量纲有差异；\n",
    "5. 需要产生其他数据；\n",
    "6. 需要对数据进行精简以减少存储空间和运算量。\n",
    "\n",
    "&emsp;因此，在做数据分析之前，需要对原始数据进行一定的加工，以符合机器学习的需求，提高准确性和效率。这一过程称为数据准备（data preparation）。<p>\n",
    "&emsp;&emsp;数据准备通常包括下列步骤：制定数据规范、数据加载、探索性数据分析、数据清洗、数据集成、数据转换、数据归约，后4个步骤常被称为数据预处理。<p>\n",
    "&emsp;&emsp;下面简单介绍数据准备的各个步骤及Python库中相关的函数和方法的使用。"
   ]
  },
  {
   "cell_type": "markdown",
   "metadata": {},
   "source": [
    "## 数据访问<br>\n",
    "<font face='kaiti' size=5 style='line-height:1.5'>\n",
    "\n",
    "&emsp;&emsp;数据分析涉及的数据种类有很多，但最常用的还是结构化数据。常用的格式主要有Excel文件，csv文件，以及数据库文件。Python中分别有不同的库用于操作这三类数据。Pandas库以其他库为基础提供了操作这些数据的函数或方法。"
   ]
  },
  {
   "cell_type": "markdown",
   "metadata": {},
   "source": [
    "### Excel文件<br>\n",
    "<font face='kaiti' size=5 style='line-height:1.5'>\n",
    "\n",
    "&emsp;&emsp;Python常用的Excel文件操作的扩展库有xlrd，xlwt，openpyxl，xlwriter，xlwings等。这些均已包含在Anaconda中，Pandas中也有相应的函数可读写Excel文件。<br>\n",
    "&emsp;&emsp;作为操作Excel文件而言，xlwings值得推荐。它可以方便地读取、写入Excel文件，以及改写已有Excel文件，并且能够修改单元格格式，可以和matplotlib以及Pandas无缝对接。而且执行速度够快。<br>\n",
    "&emsp;&emsp;下面以xlwings 0.9为例，简单介绍xlwings的基本用法。\n",
    "\n",
    "更多的，请参考：<br>\n",
    "- 简书：插上翅膀，让Excel飞起来 https://www.jianshu.com/p/e21894fc5501 \n",
    "- xlwings官网文档 https://docs.xlwings.org/en/stable/"
   ]
  },
  {
   "cell_type": "markdown",
   "metadata": {},
   "source": [
    "<font face='kaiti' size=5 style='line-height:1.5'>\n",
    "   \n",
    "1. 对app的操作\n",
    "\n",
    "```python\n",
    "import xlwings as xw    # 导入xlwings模块\n",
    "app = xw.apps.active    # 返回当前激活的Excel软件窗口\n",
    "app = xw.App()        # 打开一个新的Excel软件窗口，窗口可见\n",
    "app = xw.App(visible=False)     # 打开一个新的Excel软件窗口，窗口不可见\n",
    "```"
   ]
  },
  {
   "cell_type": "markdown",
   "metadata": {},
   "source": [
    "<font face='kaiti' size=5 style='line-height:1.5'>\n",
    "    \n",
    "2. 对工作簿的操作\n",
    "\n",
    "&emsp;(1) 以下使用xw.Book 操作\n",
    "\n",
    "```python\n",
    "wb = xw.Book()      # 创建一个新的工作簿\n",
    "wb = xw.Book('Book1')     # 返回已打开的工作簿Book1\n",
    "wb = xw.Book('FileName.xlsx')  # 打开当前工作目录下的一个Excel文件\n",
    "wb = xw.Book(r'C:\\path\\file.xlsx')  # 打开指定路径下的一个Excel文件\n",
    "```\n",
    "\n",
    "&emsp;(2) 以下使用xw.books(或app.books)操作，必须保证已打开一个Excel软件窗口\n",
    "\n",
    "```python\n",
    "wb = xw.books.add()     # 创建一个新的工作簿\n",
    "wb = xw.books['Book1']    # 返回已打开的工作簿Book1\n",
    "wb = xw.books.open('FileName.xlsx')   # 打开当前工作目录下的一个Excel文件\n",
    "wb = xw.books.active       # 返回当前app中激活的工作簿\n",
    "```"
   ]
  },
  {
   "cell_type": "markdown",
   "metadata": {},
   "source": [
    "<font face='kaiti' size=5 style='line-height:1.5'>\n",
    "    \n",
    "3. 对工作表的操作\n",
    "\n",
    "```python\n",
    "sht = wb.sheets['sheet的名称']    # 返回指定工作簿wb的指定工作表\n",
    "sht = wb.sheets[工作表的序号]\n",
    "sht = xw.books['工作簿的名称'].sheets[sheet的名称或序号]\n",
    "sht = xw.sheets.active    # 返回当前工作簿中激活的工作表\n",
    "sht = wb.sheets.active    # 返回指定工作簿wb中激活的工作表\n",
    "```"
   ]
  },
  {
   "cell_type": "markdown",
   "metadata": {},
   "source": [
    "<font face='kaiti' size=5 style='line-height:1.5'>\n",
    "    \n",
    "4. 对工作表中区域或单元格的操作\n",
    "\n",
    "```python\n",
    "rng = sht.range('A1')     # 返回指定工作表的单元格A1\n",
    "rng = sht['A1:B5']       # 返回指定工作表的单元格区域A1:B5\n",
    "rng = sht[0,1]            # B1单元格\n",
    "rng = sht[:10,:10]         # A1:J10\n",
    "rng = xw.Range('A1')       # 对当前工作表的A1单元格的引用\n",
    "rng = xw.Range(1,1)         # 对当前工作表的A1单元格的引用\n",
    "rng = xw.Range((1,1),(3,4))    # A1:C4单元格的引用\n",
    "rng = sht.range('A1').expand('table')  # 从A1读取工作表的全部单元格\n",
    "rng = sht.range('C1').expand('down')  # 从C1开始向下读取整列\n",
    "rng = sht.range('A5').expand('right')   # 从A5开始向右读取整行\n",
    "nrows=rng.rows.count        # 当前表格区域的行数\n",
    "ncols=rng.columns.count     # 当前表格区域的列数\n",
    "sht.range('A1').value=123.45       # 对A1单元格赋值\n",
    "sht.range('A1').options(transpose=True).value=[1,2,3]  # 将列表[1,2,3]放在A1:A3中\n",
    "sht.range('A1').options(expand='table')=[[1,2],[3,4]]   # 将二维数组储存在A1:B2中\n",
    "```"
   ]
  },
  {
   "cell_type": "markdown",
   "metadata": {},
   "source": [
    "<font face='kaiti' size=5 style='line-height:1.5'>\n",
    "    \n",
    "&emsp;注意：xlwings可以用圆括号()和方括号[]引用对象。圆括号从1开始计数，而方括号从0开始计数。如下的代码表示相同的单元格区域：\n",
    "\n",
    "```python\n",
    "xw.apps[0].books[0].sheets[0].range('A1')\n",
    "xw.apps(1).books(1).sheets(1).range('A1')\n",
    "xw.apps[0].books['Book1'].sheets['Sheet1'].range('A1')\n",
    "xw.apps(1).books('Book1').sheets('Sheet1').range('A1')\n",
    "```"
   ]
  },
  {
   "cell_type": "markdown",
   "metadata": {},
   "source": [
    "<font face='kaiti' size=5 style='line-height:1.5'>\n",
    "    \n",
    "5. xlwings与Numpy<br>\n",
    "&emsp; Numpy数组可以作为xlwings操作的工作表的区域的单元格的取值，xlwings操作的工作表的单元格的取值也可以以Numpy数组形式输出。"
   ]
  },
  {
   "cell_type": "code",
   "execution_count": 83,
   "metadata": {},
   "outputs": [
    {
     "data": {
      "text/plain": [
       "array([[1., 0., 0.],\n",
       "       [0., 1., 0.],\n",
       "       [0., 0., 1.]])"
      ]
     },
     "execution_count": 83,
     "metadata": {},
     "output_type": "execute_result"
    }
   ],
   "source": [
    "import numpy as np\n",
    "import xlwings as xw\n",
    "\n",
    "xb = xw.Book()\n",
    "sht = xb.sheets[0]\n",
    "sht.range('A1').value = np.eye(3)\n",
    "sht.range('A1').options(np.array, expand='table').value  # 按np.array格式显示"
   ]
  },
  {
   "cell_type": "markdown",
   "metadata": {},
   "source": [
    "<font face='kaiti' size=5 style='line-height:1.5'>\n",
    "    \n",
    "6. xlwings与DataFrame<br>\n",
    "&emsp;DataFrame对象可以作为xlwings操作的工作表的单元格数据，也可以由xlwings操作的工作表的数据创建DataFrame对象。"
   ]
  },
  {
   "cell_type": "code",
   "execution_count": null,
   "metadata": {},
   "outputs": [],
   "source": [
    "import pandas as pd\n",
    "import xlwings as xw\n",
    "\n",
    "sht = xw.Book().sheets[0]\n",
    "df = pd.DataFrame([[1.1, 2.2], [3.3, None]], columns=['one', 'two'])\n",
    "df"
   ]
  },
  {
   "cell_type": "code",
   "execution_count": null,
   "metadata": {},
   "outputs": [],
   "source": [
    "sht.range('A1').value = df\n",
    "sht.range('A1:C3').options(pd.DataFrame).value  # 按DataFrame格式显示"
   ]
  },
  {
   "cell_type": "code",
   "execution_count": null,
   "metadata": {},
   "outputs": [],
   "source": [
    "sht.range('A5').options(index=False, header=False).value = df\n",
    "df1 = pd.DataFrame(sht.range('A5:B6').value)\n",
    "df1"
   ]
  },
  {
   "cell_type": "markdown",
   "metadata": {},
   "source": [
    "<font face='kaiti' size=5 style='line-height:1.5'>\n",
    "\n",
    "7. 文件的保存和退出\n",
    "\n",
    "```python\n",
    "wb.save()    # 保存工作簿 wb\n",
    "wb.save(r'd:\\test.xlsx')    # 将工作簿 wb另存为\n",
    "wb.close()    # 关闭工作簿 wb\n",
    "app.quit()     # 退出Excel软件app\n",
    "```"
   ]
  },
  {
   "cell_type": "markdown",
   "metadata": {},
   "source": [
    "<font face='kaiti' size=5 style='line-height:1.5'>\n",
    "    \n",
    "【例1】对2018年泰迪杯数据挖掘竞赛B题的表格“附件1：用户收视信息.xlsx”，将第2个工作表中的第6列“回看结束时间”减去第5列“回看开始时间”，得到“回看时长”，保存在第7列。"
   ]
  },
  {
   "cell_type": "code",
   "execution_count": 31,
   "metadata": {},
   "outputs": [
    {
     "name": "stdout",
     "output_type": "stream",
     "text": [
      "读取耗时：4.6912682056427s\n",
      "写入耗时：3.1421799659729004s\n"
     ]
    }
   ],
   "source": [
    "import xlwings as xw  # 导入xlwings模块\n",
    "import numpy as np  # 导入numpy模块\n",
    "import time\n",
    "\n",
    "t0 = time.time()\n",
    "app = xw.App(visible=True, add_book=False)  # 打开Excel表格处理软件,并显示\n",
    "wb1 = app.books.open(r'附件1：用户收视信息.xlsx')\n",
    "sht0 = wb1.sheets[1]  # 读取第 2个工作表\n",
    "# 以下求工作表的行数和列数\n",
    "rng = sht0.range('A1').expand('table')  # 从'A1'开始读取整个工作表\n",
    "t1 = time.time()\n",
    "print('读取耗时：' + str(t1 - t0) + 's')\n",
    "# 以下用2种方法读取工作表的第5列和第6列\n",
    "col5 = sht0.range('E2').expand('down').value\n",
    "col6 = rng[1:, 5].value\n",
    "# 将第6列与第5列之差写入第7列\n",
    "duration = np.array(col6[:]) - np.array(col5[:])\n",
    "sht0[0, 6].value = \"回看时长\"\n",
    "sht0.range('G2').options(transpose=True).value = duration  # 从'G2'开始整列写入\n",
    "wb1.save()  # 保存\n",
    "wb1.close()  # 关闭该文件\n",
    "app.quit()  # 退出软件\n",
    "t2 = time.time()\n",
    "print('写入耗时：' + str(t2 - t1) + 's')"
   ]
  },
  {
   "cell_type": "markdown",
   "metadata": {},
   "source": [
    "<font face='kaiti' size=5 style='line-height:1.5'>\n",
    "    \n",
    "&emsp;Pandas库也提供了读写Excel文件的函数read_excel()和to_excel。使用格式如下：<p>\n",
    "- pd.read_excel((io, sheet_name=0, header=0, names=None, index_col=None, skiprow=None, skipfloor, ...)<br>\n",
    "&emsp;这里pd是pandas的缩写；io表示Excel文件名；sheet_name是工作表的序号或名称；header为整数，指定列名行，默认0，即取第一行为列名行，若数据不含列名，则设定 header = None；index_col为整数，指定该列为行的标签；skiprow为列表，指定跳过开头的若干行；skipfooter为整数，指定跳过末尾的若干行；函数的返回是DataFrame。\n",
    "- df.to_excel(self, excel_writer, sheet_name='Sheet1', na_rep='', float_format=None, columns=None, header=True, index=True, startrow=0, startcol=0, ...)<br>\n",
    "&emsp;这里df是Pandas的DataFrame对象，to_excel是该对象的方法，用于将DataFrame对象中的数据写入Excel文件。excel_writer是待写入的Excel文件名；sheet_name表示工作表的名称；na_rep表示缺失值的填充符号，默认为空字符' '；header表示写入列的名称；index表示写入行的名称；startrow和startcol表示从左上角开始写入的单元格所在行列的序号。<p>\n",
    "&emsp;如果想要在已有Excel文件中追加内容，单独使用df.to_excel()将覆盖已有文件的内容。这时需结合使用openpyxl库和Pandas的ExcelWriter函数。\n"
   ]
  },
  {
   "cell_type": "markdown",
   "metadata": {},
   "source": [
    "<font face='kaiti' size=5 style='line-height:1.5'>\n",
    "\n",
    "【例2】用Pandas读取表格“附件1：用户收视信息.xlsx”，并将第2个工作表“用户回看信息”中的第6列“回看结束时间”减去第5列“回看开始时间”，得到“回看时长”，保存在第7列。"
   ]
  },
  {
   "cell_type": "code",
   "execution_count": 28,
   "metadata": {},
   "outputs": [
    {
     "name": "stdout",
     "output_type": "stream",
     "text": [
      "读取耗时：36.72410035133362s\n",
      "写入耗时：30.47174310684204s\n"
     ]
    }
   ],
   "source": [
    "import pandas as pd\n",
    "from openpyxl import load_workbook\n",
    "import time\n",
    "\n",
    "t0 = time.time()\n",
    "xlfile = r'附件1：用户收视信息.xlsx'\n",
    "book = load_workbook(xlfile)\n",
    "df = pd.read_excel(xlfile, sheet_name='用户回看信息')\n",
    "t1 = time.time()\n",
    "print('读取耗时：'+str(t1-t0)+'s')\n",
    "df['回看时长'] = df['回看结束时间'] - df['回看开始时间']\n",
    "writer=pd.ExcelWriter(xlfile, engine='openpyxl')\n",
    "writer.book=book\n",
    "writer.sheets = dict((ws.title, ws) for ws in book.worksheets)\n",
    "# 以下只写入一列数据至第7列\n",
    "df['回看时长'].to_excel(writer,sheet_name='用户回看信息',startcol=6, index=False, header=True)\n",
    "writer.save()\n",
    "t2 = time.time()\n",
    "print('写入耗时：'+ str(t2-t1) + 's')"
   ]
  },
  {
   "cell_type": "markdown",
   "metadata": {},
   "source": [
    "<font face='kaiti' size=5 style='line-height:1.5'>\n",
    "\n",
    "&emsp;&emsp;在处理Excel表格时，Pandas和xlwings可结合使用。用Pandas读取Excel文件，并处理数据，再用xlwings写入，方便快捷。"
   ]
  },
  {
   "cell_type": "markdown",
   "metadata": {},
   "source": [
    "<font face='kaiti' size=5 style='line-height:1.5'>\n",
    "【例3】使用Pandas读取Excel文件和处理数据，xlwings写入Excel文件完成例2的任务。"
   ]
  },
  {
   "cell_type": "code",
   "execution_count": 30,
   "metadata": {},
   "outputs": [
    {
     "name": "stdout",
     "output_type": "stream",
     "text": [
      "读取耗时：14.594834804534912s\n",
      "写入耗时：7.8334479331970215s\n"
     ]
    }
   ],
   "source": [
    "import pandas as pd\n",
    "import xlwings as xw\n",
    "import time\n",
    "\n",
    "t0 = time.time()\n",
    "xlfile = r'附件1：用户收视信息.xlsx'\n",
    "df = pd.read_excel(xlfile, sheet_name='用户回看信息')\n",
    "t1 = time.time()\n",
    "print('读取耗时：' + str(t1 - t0) + 's')\n",
    "df['回看时长'] = df['回看结束时间'] - df['回看开始时间']\n",
    "# 以下用xlwings保存数据至表格第7列\n",
    "app = xw.App(visible=False, add_book=False)  # 打开Excel表格处理软件\n",
    "wb1 = app.books.open(r'附件1：用户收视信息.xlsx')\n",
    "sht0 = wb1.sheets[1]  # 读取第2个工作表\n",
    "sht0.range('G1').options(index=False).value = df['回看时长']  # 整列写入，不写入index\n",
    "wb1.save()  # 保存\n",
    "wb1.close()  # 关闭该文件\n",
    "app.quit()  # 退出软件\n",
    "t2 = time.time()\n",
    "print('写入耗时：' + str(t2 - t1) + 's')"
   ]
  },
  {
   "cell_type": "markdown",
   "metadata": {},
   "source": [
    "### CSV文件<br>\n",
    "<font face='kaiti' size=5 style='line-height:1.5'>\n",
    "\n",
    "&emsp;&emsp;CSV(comma-separated value，逗号分隔值)文件格式是一种非常简单的数据存储与分享方式，以纯文本形式存储表格数据（数字和文本）。CSV文件由任意数目的记录组成，记录间以某种换行符分隔；每条记录由字段组成，字段间的分隔符是其它字符或字符串，最常见的是逗号或制表符。<br>\n",
    "&emsp;&emsp;Python3提供了内置的CSV模块处理CSV文件。使用Python内置CSV模块处理CSV文件的一个优点是，它可以正确处理数据值中的嵌入逗号和识别出其他复杂模式。<br>\n",
    "&emsp;&emsp;下面以csv文件“newstaff.csv”的操作为例，简单介绍CSV模块的用法："
   ]
  },
  {
   "cell_type": "markdown",
   "metadata": {},
   "source": [
    "<font face='kaiti' size=5 style='line-height:1.5'>\n",
    "\n",
    "1. 读取某行的数据"
   ]
  },
  {
   "cell_type": "code",
   "execution_count": 120,
   "metadata": {},
   "outputs": [
    {
     "name": "stdout",
     "output_type": "stream",
     "text": [
      "['工号', '姓名', '性别', '出生年月', '学历']\n",
      "['201811112', '张三', '男', '1994.03', '本科']\n",
      "['201811133', '李四', '男', '1994.09', '本科']\n",
      "['201813102', '王五', '男', '1991.07', '硕士']\n",
      "['201813107', '赵六', '女', '1992.01', '硕士']\n"
     ]
    }
   ],
   "source": [
    "import csv\n",
    "with open('newstaff.csv', newline='') as csvfile:   # newline='' 用于消除空行\n",
    "    reader = csv.reader(csvfile)\n",
    "    rows=[row for row in reader]\n",
    "    print(rows[0])   # 显示表头\n",
    "for row in range(1, len(rows)):\n",
    "    print(rows[row])   #依次显示每一行"
   ]
  },
  {
   "cell_type": "markdown",
   "metadata": {},
   "source": [
    "<font face='kaiti' size=5 style='line-height:1.5'>\n",
    "&emsp;这里reader函数，接收一个可迭代的对象（比如csv文件），能返回一个生成器，可以从中解析出csv的内容。\n",
    "    \n",
    "2. 读取某列的数据"
   ]
  },
  {
   "cell_type": "code",
   "execution_count": 121,
   "metadata": {},
   "outputs": [
    {
     "name": "stdout",
     "output_type": "stream",
     "text": [
      "['出生年月', '1994.03', '1994.09', '1991.07', '1992.01']\n"
     ]
    }
   ],
   "source": [
    "# 方法1：用reader函数读取某列的数据\n",
    "import csv\n",
    "with open('newstaff.csv') as csvfile:\n",
    "    reader = csv.reader(csvfile)\n",
    "    column = [row[3] for row in reader]  # 读取第4列\n",
    "print(column)\n"
   ]
  },
  {
   "cell_type": "markdown",
   "metadata": {},
   "source": [
    "<font face='kaiti' size=5 style='line-height:1.5'>\n",
    "&emsp;&emsp;这种方法从csv读出的都是str类型，要事先知道列的序号，而不能根据这列的标题查询。若需按列的标题读取该列，则可用csv模块的DictReader函数实现。DictReader和reader函数类似，接收一个可迭代的对象，能返回一个生成器，但是返回的每一个单元格都放在一个字典的值内，而这个字典的键则是这个单元格的标题（即列头）。"
   ]
  },
  {
   "cell_type": "code",
   "execution_count": 122,
   "metadata": {},
   "outputs": [
    {
     "name": "stdout",
     "output_type": "stream",
     "text": [
      "['1994.03', '1994.09', '1991.07', '1992.01']\n"
     ]
    }
   ],
   "source": [
    "# 方法2：用DictReader函数读取某列的数据\n",
    "import csv\n",
    "\n",
    "with open('newstaff.csv') as csvfile:\n",
    "    reader = csv.DictReader(csvfile)\n",
    "    column = [row['出生年月'] for row in reader]\n",
    "print(column)"
   ]
  },
  {
   "cell_type": "markdown",
   "metadata": {},
   "source": [
    "<font face='kaiti' size=5 style='line-height:1.5'>\n",
    "\n",
    "3. 向csv文件中写入数据，用writer函数按行追加写入"
   ]
  },
  {
   "cell_type": "code",
   "execution_count": 168,
   "metadata": {
    "scrolled": false
   },
   "outputs": [
    {
     "name": "stdout",
     "output_type": "stream",
     "text": [
      "['工号', '姓名', '性别', '出生年月', '学历']\n",
      "['201811112', '张三', '男', '1994.03', '本科']\n",
      "['201811133', '李四', '男', '1994.09', '硕士']\n",
      "['201813102', '王五', '男', '1991.07', '本科']\n",
      "['201813107', '赵六', '女', '1994.01', '硕士']\n",
      "['201814155', '周七', '女', '1995.05', '本科']\n",
      "['201814213', '小刘', '男', '1995.03', '本科']\n"
     ]
    }
   ],
   "source": [
    "import csv\n",
    "\n",
    "with open('newstaff.csv', 'a', newline='') as csvfile:\n",
    "    row1 = ['201814213', '小刘', '男', '1995.03', '本科']\n",
    "    writer = csv.writer(csvfile)\n",
    "    writer.writerow(row1)\n",
    "# 读取文件，查看是否正确写入\n",
    "with open('newstaff.csv', newline='') as csvfile:  \n",
    "    reader = csv.reader(csvfile)\n",
    "    for row in reader:\n",
    "        print(row)"
   ]
  },
  {
   "cell_type": "markdown",
   "metadata": {},
   "source": [
    "<font face='kaiti' size=5 style='line-height:1.5'>\n",
    "\n",
    "4. 在csv文件中添加一列"
   ]
  },
  {
   "cell_type": "code",
   "execution_count": 161,
   "metadata": {},
   "outputs": [
    {
     "name": "stdout",
     "output_type": "stream",
     "text": [
      "['工号', '姓名', '性别', '出生年月', '学历', '民族']\n",
      "['201811112', '张三', '男', '1994.03', '本科', '汉']\n",
      "['201811133', '李四', '男', '1994.09', '硕士', '汉']\n",
      "['201813102', '王五', '男', '1991.07', '本科', '苗']\n",
      "['201813107', '赵六', '女', '1994.01', '硕士', '汉']\n",
      "['201814155', '周七', '女', '1995.05', '本科', '壮']\n",
      "['201814213', '小刘', '男', '1995.03', '本科', '土家']\n"
     ]
    }
   ],
   "source": [
    "import csv\n",
    "\n",
    "newinfo = ['民族', '汉', '汉', '苗', '汉','壮', '土家']\n",
    "# 读取内容，形成新的写入文本\n",
    "with open('newstaff.csv', 'r', newline='') as csvfile:\n",
    "    rows = csv.reader(csvfile)\n",
    "    newcsv = []  # 新文件内容\n",
    "    for row in rows:\n",
    "        row.append(newinfo.pop(0))\n",
    "        newcsv.append(row)\n",
    "# 将新的文本覆盖原文件内容\n",
    "with open('newstaff.csv','w', newline='') as csvfile:\n",
    "    writer = csv.writer(csvfile)    \n",
    "    for k in range(len(newcsv)):\n",
    "        writer.writerow(newcsv[k])\n",
    "# 读取文件，查看是否正确写入        \n",
    "with open('newstaff.csv', 'r', newline='') as csvfile:\n",
    "    rows = csv.reader(csvfile)\n",
    "    for row in rows:\n",
    "        print(row)"
   ]
  },
  {
   "cell_type": "markdown",
   "metadata": {},
   "source": [
    "<font face='kaiti' size=5 style='line-height:1.5'>\n",
    "&emsp;注：csv文件中添加一列，需要替换原内容，不能用追加模式。需形成新内容的文本，再在'w'模式下重新覆盖写入。"
   ]
  },
  {
   "cell_type": "markdown",
   "metadata": {},
   "source": [
    "<font face='kaiti' size=5 style='line-height:1.5'>    \n",
    "    \n",
    "&emsp;Pandas库提供了读取csv文件到数据帧pd的方法pd.read_csv()，以及向csv文件写入数据的函数to_csv()。基本用法如下："
   ]
  },
  {
   "cell_type": "markdown",
   "metadata": {},
   "source": [
    "<font face='kaiti' size=5 style='line-height:1.5'>\n",
    "\n",
    "- 读取csv文件，返回DataFrame对象： <br>pandas.read_csv(filepath_or_buffer, sep=',', delimiter=None, header='infer', names=None, usecols=None, squeeze=False,  skipinitialspace=False, skiprows=None, nrows=None, skip_blank_lines=True, encoding=None,... )\n",
    "\n",
    " - filepath_or_buffer : 路径 URL 可以是http, ftp, s3, 和 file.\n",
    " - sep: 指定分割符，默认是','.\n",
    " - delimiter: 同sep.\n",
    " - delimiter_whitespace: True or False 默认False, 用空格作为分隔符等价于spe=’\\s+’。如果该参数被调用，则delimite不会起作用\n",
    " - header: 指定第几行作为列名(忽略注解行)，如果没有指定列名，默认header=0; 如果指定了列名header=None\n",
    " - names 指定列名，如果文件中不包含header的行，应该显性表示header=None\n",
    " - usecols： 默认None 可以使用列序列也可以使用列名，如 [0, 1, 2] or [‘foo’, ‘bar’, ‘baz’]\n",
    " - squeeze: 默认为False, True的情况下返回的类型为Series\n",
    " - skipinitialspace: 忽略分隔符后的空格,默认false,\n",
    " - skiprows: 忽略某几行或者从某行开始算起的几行\n",
    " - nrows： int 读取的行数\n",
    " - skip_blank_lines 默认为True,跳过blank lines 而且不是定义为NAN\n",
    " - encoding: 编码方式\n",
    " "
   ]
  },
  {
   "cell_type": "markdown",
   "metadata": {},
   "source": [
    "<font face='kaiti' size=5 style='line-height:1.5'>\n",
    "\n",
    "- 将DataFrame对象数据写入csv文件：<br> DataFrame.to_csv(path_or_buf=None, sep=',', na_rep='', float_format=None, columns=None, header=True, index=True, index_label=None, mode='w', encoding=None, ...)\n",
    "\n",
    " - path_or_buf: 文件路径或文件对象，默认为None。如果为None，结果将返回为字符串；\n",
    " - sep: 分隔符，默认为','\n",
    " - na_rep: 缺失值表示的字符串，默认为''\n",
    " - float_format: 浮点数格式字符串\n",
    " - columns: 序列，表示写入的列\n",
    " - header: 布尔值或字符串列表。默认为True，表示写出列标签。如果给定字符串列表，则假定为列标签的别名。\n",
    " - index: 布尔值，默认为True。是否写入行标签。\n",
    " - mode: Python写入模式，默认为'w'。\n",
    " - encoding: 表示编码格式的字符串。Python3默认为'utf-8'.\n"
   ]
  },
  {
   "cell_type": "markdown",
   "metadata": {},
   "source": [
    "<font face='kaiti' size=5 style='line-height:1.5'>\n",
    "\n",
    "【例4】使用Pandas对“newstaff.csv”进行操作"
   ]
  },
  {
   "cell_type": "code",
   "execution_count": 167,
   "metadata": {
    "code_folding": []
   },
   "outputs": [
    {
     "name": "stdout",
     "output_type": "stream",
     "text": [
      "          工号  姓名 性别     出生年月  学历  民族\n",
      "0  201811112  张三  男  1994.03  本科   汉\n",
      "1  201811133  李四  男  1994.09  硕士   汉\n",
      "2  201813102  王五  男  1991.07  本科   苗\n",
      "3  201813107  赵六  女  1994.01  硕士   汉\n",
      "4  201814155  周七  女  1995.05  硕士   壮\n",
      "5  201814213  小刘  男  1995.03  本科  土家\n",
      "          工号  姓名 性别     出生年月  学历  民族\n",
      "0  201811112  张三  男  1994.03  本科   汉\n",
      "1  201811133  李四  男  1994.09  硕士   汉\n",
      "2  201813102  王五  男  1991.07  本科   苗\n",
      "3  201813107  赵六  女  1994.01  硕士   汉\n",
      "4  201814155  周七  女  1995.05  硕士   壮\n",
      "5  201814213  小刘  男  1995.03  本科  土家\n"
     ]
    }
   ],
   "source": [
    "import pandas as pd\n",
    "\n",
    "with open('newstaff.csv') as csvfile:\n",
    "    df = pd.read_csv(csvfile, encoding='utf8')\n",
    "    print(df)\n",
    "# 将df中“周七”的学历改为“硕士”\n",
    "df.loc[df['姓名']=='周七','学历'] = '硕士'\n",
    "# 将df写入原文件\n",
    "df.to_csv('newstaff.csv',encoding='gbk',index = False)\n",
    "# 读取文件，查看是否写入正确\n",
    "with open('newstaff.csv') as csvfile:\n",
    "    df = pd.read_csv(csvfile,encoding='utf8')\n",
    "    print(df)"
   ]
  },
  {
   "cell_type": "markdown",
   "metadata": {},
   "source": [
    "## 探索性分析<br>\n",
    "<font face='kaiti' size=5 style='line-height:1.5'>\n",
    "    \n",
    "- 读取数据后，需要先对陌生的数据有一个整体的概要性的了解。如：样本数据集的数量和质量是否满足模型构建的要求？是否出现异常数据？是否存在较明显的规律或趋势？样本或属性之间是否存在较强的相关性？\n",
    "- 主要通过绘制图表、计算描述性统计量、检验数据集的质量，以对样本数据集的结构和特性形成整体认识。\n",
    "- 还需明确数据的类型，因为不同类型的数据可用的分析方法是有差别的。统计学上依据数据的计量标准将数据划分为三大类，即定距型数据(Scale)，定序型数据(Ordinal)和定类型数据(Nominal)。\n",
    "  - 定距型数据通常指诸如身高、体重、血压等连续型数据，以及人数、年龄等离散型数据；\n",
    "  - 定序型数据具有内在固有大小或高低顺序，但又不同于定距型数据，一般可以用数值或字符表示，如职称、学历等存在高低顺序，但之间的差距是不相等的。\n",
    "  - 定类型数据一般指没有固定大小和顺序的分类数据，如性别、民族等。\n"
   ]
  },
  {
   "cell_type": "markdown",
   "metadata": {},
   "source": [
    "### 数据可视化\n",
    "<font face='kaiti' size=5 style='line-height:1.5'>\n",
    "&emsp;Python中，数据可视化的工具主要是Matplotlib，其中提供了绘制线图，条形图，饼图，散点图，直方图，箱线图等的函数。<p>\n",
    "&emsp;而Pandas库在Matplotlib的基础上，为Series和DataFrame对象提供了绘图方法plot()，也可以绘制线图，条形图，饼图，散点图，直方图，箱线图等。这里只介绍箱线图的绘制。"
   ]
  },
  {
   "cell_type": "markdown",
   "metadata": {},
   "source": [
    "<font face='kaiti' size=5 style='line-height:1.5'>\n",
    "**箱线图**<br>\n",
    "&emsp;箱线图又称箱形图，盒状图，是一种用于显示数据分散情况的统计图，因形如箱子而得名。它可用于反映原始数据分布的特征，也可比较多组数据的分布特征，能方便地识别异常值。\n",
    "箱线图的绘制方法是：先找出一组数据的非离群点的最大值、最小值、中位数和两个四分位数；然后，连接两个四分位数画出箱子；再将表示非离群点的最小值和最大值与箱子相连接，中位数在箱子中间；箱子两端线段也称为“须(whisker)”。见下图\n"
   ]
  },
  {
   "cell_type": "markdown",
   "metadata": {},
   "source": [
    "<font face='kaiti' size=5 style='line-height:1.5'>    \n",
    "    \n",
    "&emsp;箱线图提供了识别异常值的一个标准：异常值通常被定义为小于QL-whisker•IQR，或大于QU-whisker•IQR的值。 称为下四分位数，表示全部观察值中有四分之一的数据取值比它小； 称为上四分位数，表示全部观察值中有四分之一的数据取值比它大；IQR称为四分位数间距，是上四分位数与下四分位数之差，其间包含了全部观察值的一半。系数whisker决定异常值的界限，值越小则异常值点越多，通常whisker取为1.5。"
   ]
  },
  {
   "cell_type": "markdown",
   "metadata": {},
   "source": [
    "<font face='kaiti' size=5 style='line-height:1.5'>\n",
    "    \n",
    "&emsp;&emsp;Matplotlib中绘制箱线图的函数pyplot.boxplot，其使用格式如下：\n",
    "格式：pyplot.boxplot(x, notch=None, sym=None, vert=None, whis=None, ...)\n",
    "- x接收array，表示用于绘制箱线图的数据；\n",
    "- notch接收布尔值True或False，表示中间箱体是否有缺口，默认为False；\n",
    "- sym接收特定字符串，指定异常点形状，默认为'b+'，如果sym=''，则不显示异常点；\n",
    "- vert接收布尔值，True表示图形为纵向，False为横向，默认为True；\n",
    "- whis接收实数、序列或字符串，用于指定异常值的取值界限whisker，默认为1.5。\n"
   ]
  },
  {
   "cell_type": "markdown",
   "metadata": {},
   "source": [
    "<font face='kaiti' size=5 style='line-height:1.5'>\n",
    "\n",
    "【例5】绘制多种箱线图"
   ]
  },
  {
   "cell_type": "code",
   "execution_count": 36,
   "metadata": {
    "scrolled": true
   },
   "outputs": [
    {
     "data": {
      "image/png": "[encoded data removed]",
      "text/plain": [
       "<Figure size 720x432 with 6 Axes>"
      ]
     },
     "metadata": {},
     "output_type": "display_data"
    }
   ],
   "source": [
    "import matplotlib.pyplot as plt\n",
    "import numpy as np\n",
    "%matplotlib inline\n",
    "\n",
    "np.random.seed(19491001)  # 指定随机数种子\n",
    "# 生成随机数据\n",
    "spread = np.random.rand(50) * 100  # 产生[0,100)上的均匀分布的随机数组\n",
    "center = np.ones(25) * 50\n",
    "flier_high = np.random.rand(10) * 100 + 100  # 上侧异常值\n",
    "flier_low = np.random.rand(10) * -100  # 下侧异常值\n",
    "data = np.concatenate((spread, center, flier_high, flier_low))  # 数组拼接\n",
    "# 指定画布大小\n",
    "fig = plt.figure(figsize=(10,6))\n",
    "plt.rcParams['font.sans-serif'] = 'SimHei'  # 设置中文字体\n",
    "plt.rcParams['axes.unicode_minus'] = False  # 设置正常显示负号\n",
    "# 基本箱线图\n",
    "ax1 = fig.add_subplot(2, 3, 1)\n",
    "ax1.boxplot(data)\n",
    "ax1.set_title('基本箱线图')\n",
    "# 内凹箱线图\n",
    "ax2 = fig.add_subplot(2, 3, 2)\n",
    "ax2.boxplot(data, 1)\n",
    "ax2.set_title('内凹箱线图')\n",
    "# 改变异常点形状\n",
    "ax3 = fig.add_subplot(2, 3, 3)\n",
    "ax3.boxplot(data, 0, 'gD')\n",
    "ax3.set_title('改变异常点形状')\n",
    "# 不显示异常点\n",
    "ax4 = fig.add_subplot(2, 3, 4)\n",
    "ax4.boxplot(data, 0, '')\n",
    "ax4.set_title(\"不显示异常点\")\n",
    "# 水平箱线图\n",
    "ax5 = fig.add_subplot(2, 3, 5)\n",
    "ax5.boxplot(data, 0, 'r.', 0)\n",
    "ax5.set_title('水平箱线图')\n",
    "# 改变须的长度\n",
    "ax6 = fig.add_subplot(2, 3, 6)\n",
    "ax6.boxplot(data, 0, 'r.', 0, 0.75)  # whisker设为0.75\n",
    "ax6.set_title('改变须的长度')\n",
    "\n",
    "plt.show()"
   ]
  },
  {
   "cell_type": "markdown",
   "metadata": {},
   "source": [
    "<font face='kaiti' size=5 style='line-height:1.5'>\n",
    "\n",
    "【例6】用Pandas中DataFrame对象的方法绘制箱线图"
   ]
  },
  {
   "cell_type": "code",
   "execution_count": 181,
   "metadata": {},
   "outputs": [
    {
     "data": {
      "image/png": "[encoded data removed]",
      "text/plain": [
       "<Figure size 576x360 with 1 Axes>"
      ]
     },
     "metadata": {},
     "output_type": "display_data"
    }
   ],
   "source": [
    "import pandas as pd\n",
    "import numpy as np\n",
    "import matplotlib.pyplot as plt\n",
    "%matplotlib inline\n",
    "\n",
    "data = data = {\n",
    "    'China': [1000, 1200, 1300, 1400, 1500, 1600, 1700, 1800, 1900, 2500],\n",
    "    'America': [1200, 1300, 1400, 1500, 1600, 1700, 1800, 1900, 2000, 2100],\n",
    "    'Britain': [1000, 1200, 1300, 1400, 1500, 1600, 1700, 1800, 1900, 2000],\n",
    "    \"Russia\": [800, 1000, 1200, 1300, 1400, 1500, 1600, 1700, 1800, 1900]\n",
    "}\n",
    "df = pd.DataFrame(data)\n",
    "fig = plt.figure(figsize=(8,5))\n",
    "ax = fig.add_subplot(111)\n",
    "df.plot.box(title=\"Consumer spending in each country\", ax=ax)\n",
    "plt.show()"
   ]
  },
  {
   "cell_type": "markdown",
   "metadata": {},
   "source": [
    "### 描述性统计\n",
    "<font face='kaiti' size=5 style='line-height:1.5'>\n",
    "\n",
    "&emsp;&emsp;对数据使用各种统计方法，可以了解数据的基本统计特性，是否服从某种分布，是否存在相关性，等等。<br>\n",
    "&emsp;&emsp;描述性统计主要是了解数据的集中趋势，如：均值，中位数，众数等；离散程度，如：极差，标准差等；分布形态，如：偏度，峰度等。<br>\n",
    "&emsp;&emsp;Scipy的stat模块中提供了describe()函数，Pandas中也为Series和DataFrame对象提供了describe()方法。"
   ]
  },
  {
   "cell_type": "markdown",
   "metadata": {},
   "source": [
    "<font face='kaiti' size=5 style='line-height:1.5'>\n",
    "【例7】鸢尾花数据集iris的描述性统计"
   ]
  },
  {
   "cell_type": "code",
   "execution_count": 66,
   "metadata": {},
   "outputs": [
    {
     "name": "stdout",
     "output_type": "stream",
     "text": [
      "    萼长   萼宽   瓣长   瓣宽  类别\n",
      "0  5.1  3.5  1.4  0.2   0\n",
      "1  4.9  3.0  1.4  0.2   0\n",
      "2  4.7  3.2  1.3  0.2   0\n",
      "3  4.6  3.1  1.5  0.2   0\n",
      "4  5.0  3.6  1.4  0.2   0 \n",
      "\n",
      "    count      mean       std  min  25%   50%  75%  max\n",
      "萼长  150.0  5.843333  0.828066  4.3  5.1  5.80  6.4  7.9\n",
      "萼宽  150.0  3.054000  0.433594  2.0  2.8  3.00  3.3  4.4\n",
      "瓣长  150.0  3.758667  1.764420  1.0  1.6  4.35  5.1  6.9\n",
      "瓣宽  150.0  1.198667  0.763161  0.1  0.3  1.30  1.8  2.5 \n",
      "\n",
      "萼长    0.314911\n",
      "萼宽    0.334053\n",
      "瓣长   -0.274464\n",
      "瓣宽   -0.104997\n",
      "dtype: float64 \n",
      "\n",
      "萼长   -0.552064\n",
      "萼宽    0.290781\n",
      "瓣长   -1.401921\n",
      "瓣宽   -1.339754\n",
      "dtype: float64\n"
     ]
    }
   ],
   "source": [
    "import pandas as pd\n",
    "\n",
    "with open('iris.csv') as csvfile:\n",
    "    iris = pd.read_csv(csvfile)\n",
    "iris.columns = ['萼长', '萼宽', '瓣长', '瓣宽', '类别']\n",
    "print(iris.head(),'\\n')\n",
    "# 以下对前4列作描述性统计\n",
    "print(iris.iloc[:,:4].describe().T, '\\n')\n",
    "print(iris.iloc[:,:4].skew(),'\\n')\n",
    "print(iris.iloc[:,:4].kurt())\n"
   ]
  },
  {
   "cell_type": "markdown",
   "metadata": {},
   "source": [
    "### 相关性分析<br>\n",
    "<font face='kaiti' size=5 style='line-height:1.5'>\n",
    "\n",
    "&emsp;&emsp;相关性分析用于分析两个变量间取值变化的关联程度，可以通过图形和数值两种方式来揭示这种统计关系。\n",
    "- 相关系数 的取值范围在-1至+1之间；\n",
    "- r>0为正相关，r<0为负相关；\n",
    "- r=1表示两变量存在完全正相关关系，r=-1表示两变量存在完全负相关关系，r=0表示两变量不存在线性相关关系；\n",
    "- |r|>0.8表示两变量存在较强的相关关系， |r|<0.3表示两变量之间的线性相关关系较弱。\n",
    "\n",
    "&emsp;对不同类型的变量应采用不同的相关系数来度量，常用的有Pearson相关系数、Spearman秩相关系数和Kendall秩相关系数等。"
   ]
  },
  {
   "cell_type": "markdown",
   "metadata": {},
   "source": [
    "<font face='kaiti' size=5 style='line-height:1.5'>\n",
    "\n",
    "1. Pearson相关系数\n",
    "&emsp;Pearson相关系数用来度量两个定距型变量间的线性相关性。对样本数据$\\{x_i\\}$和$\\{y_i\\}$，其计算公式如下：<br>\n",
    "<center> $ r = \\frac1n\\sum_{i=1}^n\\frac{(x_i-\\mu_x)}{\\sigma_x}\\frac{(y_i-\\mu_y)}{\\sigma_y}$"
   ]
  },
  {
   "cell_type": "markdown",
   "metadata": {},
   "source": [
    "<font face='kaiti' size=5 style='line-height:1.5'>\n",
    "\n",
    "2. Spearman秩相关系数   \n",
    "&emsp;Pearson简单相关系数要求连续变量的取值服从正态分布。对于不服从正态分布的变量、及定序变量之间的相关性可用Spearman秩相关系数度量，也称为Spearman等级相关系数。计算时不直接使用原始数据，而是利用数据的秩计算得到。"
   ]
  },
  {
   "cell_type": "markdown",
   "metadata": {},
   "source": [
    "<font face='kaiti' size=5 style='line-height:1.5'>\n",
    "\n",
    "3. Kendall秩相关系数   \n",
    "&emsp;Kendall秩相关也称Kendall $\\tau$ 相关，用于度量两组排序数据X和Y的序的一致性。"
   ]
  },
  {
   "cell_type": "markdown",
   "metadata": {},
   "source": [
    "<font face='kaiti' size=5 style='line-height:1.5'>\n",
    "\n",
    "&emsp;Scipy包的stats模块提供了相关性分析的这几个函数：\n",
    "- pearsonr(a, b)\n",
    "- spearmanr(a, b=None, axis=0, nan_policy='propagate')\n",
    "- kendalltau(x, y, initial_lexsort=None, nan_policy='propagate')"
   ]
  },
  {
   "cell_type": "markdown",
   "metadata": {},
   "source": [
    "<font face='kaiti' size=5 style='line-height:1.5'>\n",
    "&emsp;Pandas也为其Series对象和DataFrame对象提供了相关性分析的方法corr()，其参数'method'分别选'pearson'，'spearman'，'kendall'，即对应到以上3种相关系数。"
   ]
  },
  {
   "cell_type": "code",
   "execution_count": 194,
   "metadata": {},
   "outputs": [
    {
     "name": "stdout",
     "output_type": "stream",
     "text": [
      "(0.8660254037844386, 0.011724811003954654)\n",
      "SpearmanrResult(correlation=0.8660254037844388, pvalue=0.011724811003954599)\n",
      "KendalltauResult(correlation=0.7559289460184545, pvalue=0.033894853524689295)\n"
     ]
    }
   ],
   "source": [
    "import numpy as np\n",
    "from scipy import stats\n",
    "\n",
    "a = pd.Series(np.array([0, 0, 0, 1, 1, 1, 1]))\n",
    "b = pd.Series(np.arange(7))\n",
    "print(stats.pearsonr(a, b))\n",
    "print(stats.spearmanr(a, b))\n",
    "print(stats.kendalltau(a, b))"
   ]
  },
  {
   "cell_type": "code",
   "execution_count": null,
   "metadata": {},
   "outputs": [],
   "source": []
  },
  {
   "cell_type": "code",
   "execution_count": 198,
   "metadata": {},
   "outputs": [
    {
     "name": "stdout",
     "output_type": "stream",
     "text": [
      "0.8660254037844385\n",
      "0.8660254037844388\n",
      "0.7559289460184545\n"
     ]
    }
   ],
   "source": [
    "import pandas as pd\n",
    "import numpy as np\n",
    "\n",
    "# 产生2组数据\n",
    "a = pd.Series(np.array([0, 0, 0, 1, 1, 1, 1]))\n",
    "b = pd.Series(np.arange(7))\n",
    "# Pearson相关\n",
    "print(a.corr(b))\n",
    "print(a.corr(b, 'spearman'))\n",
    "print(a.corr(b, 'kendall'))"
   ]
  },
  {
   "cell_type": "markdown",
   "metadata": {},
   "source": [
    "## 数据清洗<br>\n",
    "<font face='kaiti' size=5 style='line-height:1.5'>\n",
    "\n",
    "&emsp;&emsp;数据清洗主要是删除原始数据集中的无关数据、重复数据，平滑噪声数据，去除无关的数据，处理缺失值、异常值等。"
   ]
  },
  {
   "cell_type": "markdown",
   "metadata": {},
   "source": [
    "### 去除重复数据\n",
    "<font face='kaiti' size=5 style='line-height:1.5'>\n",
    "\n",
    "&emsp;&emsp;Pandas提供了DataFrame对象中去除重复数据的方法：\n",
    "```python\n",
    "DataFrame.drop_duplicates(subset=None, keep='first', inplace=False)\n",
    "```\n",
    "- subset : 列标签或标签序列，用来指定特定的列，默认所有列\n",
    "- keep : {'first', 'last', False}, 删除重复项并保留的项，默认第1项，False则重复项全部去除\n",
    "- inplace : 布尔值，True：直接在原来数据上修改，默认为False，保留一个副本。\n"
   ]
  },
  {
   "cell_type": "code",
   "execution_count": 80,
   "metadata": {},
   "outputs": [
    {
     "name": "stdout",
     "output_type": "stream",
     "text": [
      "   A  B\n",
      "0  1  a\n",
      "1  1  a\n",
      "2  2  a\n",
      "3  2  b \n",
      "\n",
      "   A  B\n",
      "0  1  a\n",
      "2  2  a\n",
      "3  2  b\n"
     ]
    },
    {
     "data": {
      "text/html": [
       "<div>\n",
       "<style scoped>\n",
       "    .dataframe tbody tr th:only-of-type {\n",
       "        vertical-align: middle;\n",
       "    }\n",
       "\n",
       "    .dataframe tbody tr th {\n",
       "        vertical-align: top;\n",
       "    }\n",
       "\n",
       "    .dataframe thead th {\n",
       "        text-align: right;\n",
       "    }\n",
       "</style>\n",
       "<table border=\"1\" class=\"dataframe\">\n",
       "  <thead>\n",
       "    <tr style=\"text-align: right;\">\n",
       "      <th></th>\n",
       "      <th>A</th>\n",
       "      <th>B</th>\n",
       "    </tr>\n",
       "  </thead>\n",
       "  <tbody>\n",
       "    <tr>\n",
       "      <th>0</th>\n",
       "      <td>1</td>\n",
       "      <td>a</td>\n",
       "    </tr>\n",
       "    <tr>\n",
       "      <th>3</th>\n",
       "      <td>2</td>\n",
       "      <td>b</td>\n",
       "    </tr>\n",
       "  </tbody>\n",
       "</table>\n",
       "</div>"
      ],
      "text/plain": [
       "   A  B\n",
       "0  1  a\n",
       "3  2  b"
      ]
     },
     "execution_count": 80,
     "metadata": {},
     "output_type": "execute_result"
    }
   ],
   "source": [
    "import pandas as pd\n",
    "\n",
    "df = pd.DataFrame({'A': [1,1,2,2], 'B': ['a','a','a','b']})\n",
    "print(df, '\\n')\n",
    "df1 = df.drop_duplicates()\n",
    "print(df1)\n",
    "df.drop_duplicates('B',inplace=True)\n",
    "df"
   ]
  },
  {
   "cell_type": "markdown",
   "metadata": {},
   "source": [
    "### 缺失值处理\n",
    "<font face='kaiti' size=5 style='line-height:1.5'>\n",
    "\n",
    "&emsp;处理缺失值的方法可分为三类：删除记录、数据插补和不处理。\n",
    "- 如果含有缺失值的记录占比很小，且删除后不影响后续的分析，则直接删除这部分记录是最有效的，这也是很多统计软件（如SPSS和SAS）默认的缺失值处理方法。\n",
    "- 当含缺失值的记录较多，或者该记录中还有其他重要信息，或者数据非随机分布时，删除记录会造成样本集的不完整，导致数据发生偏离，丢失隐藏在这些记录中的信息。尤其在数据集本来就只包含很少记录的情况下，删除少量记录就可能会严重影响到分析结果的客观性和正确性。\n",
    "- 数据插补是用一定的值或方法去填充空值，通常根据数据集的取值的分布情况来对缺失值进行填充。常用的方法有：\n",
    "  - 均值、中位数、众数填充\n",
    "  - 就近补齐\n",
    "  - 使用固定值\n",
    "  - 插值法\n",
    "  - 拟合法\n"
   ]
  },
  {
   "cell_type": "markdown",
   "metadata": {},
   "source": [
    "<font face='kaiti' size=5 style='line-height:1.5'>\n",
    "**缺失值检测**\n",
    "    \n",
    "&emsp;Python处理的数据中，缺失值常用None，NaN，空字符(NULL, '')或其他占位符表示。Numpy，Pandas，sklearn等都为缺失值检测提供了函数或方法。\n",
    "    \n",
    "- numpy.isnan(x)：判断标量或数组x中的值是否为NaN\n",
    "- pandas.isna(both)/ both.isna()\t判断Series或DataFrame中的值是否缺失值\n",
    "- pandas.notna(both)/ both.notna()\t判断Series或DataFrame中的值是否非缺失值\n",
    "\n",
    "这里both表示Series或DataFrame对象"
   ]
  },
  {
   "cell_type": "markdown",
   "metadata": {},
   "source": [
    "<font face='kaiti' size=5 style='line-height:1.5'>\n",
    "**缺失值处理**\n",
    "\n",
    "- scipy.interpolate(): 提供最近邻插值、分段线性插值、多项式插值、样条插值等插值方法\n",
    "- both.interpolate(): 同上\n",
    "- numpy.polyfit(): 多项式拟合\n",
    "- both.dropna(): 缺失值移除\n",
    "- both.fillna(): 缺失值填补\n",
    "- both.replace(): 替换对象中元素的取值\n",
    "\n",
    "这里both表示Series或DataFrame对象"
   ]
  },
  {
   "cell_type": "markdown",
   "metadata": {},
   "source": [
    "<font face='kaiti' size=5 style='line-height:1.5'>\n",
    "【例8】Pandas缺失值处理"
   ]
  },
  {
   "cell_type": "code",
   "execution_count": 92,
   "metadata": {},
   "outputs": [
    {
     "name": "stdout",
     "output_type": "stream",
     "text": [
      "          A         B         C\n",
      "0  0.981534  0.441053 -0.588077\n",
      "1  0.751749  0.313802 -0.608747\n",
      "2  0.750784  0.313888  0.285597\n",
      "3       NaN -2.336386 -0.958703\n",
      "4       NaN       NaN  0.645515\n",
      "5  1.302016       NaN       NaN\n",
      "6  0.015766 -1.054332       NaN\n",
      "7 -0.726862 -1.559788  0.326723\n",
      "       A      B      C\n",
      "0  False  False  False\n",
      "1  False  False  False\n",
      "2  False  False  False\n",
      "3   True  False  False\n",
      "4   True   True  False\n",
      "5  False   True   True\n",
      "6  False  False   True\n",
      "7  False  False  False\n",
      "          A         B         C\n",
      "0  0.981534  0.441053 -0.588077\n",
      "1  0.751749  0.313802 -0.608747\n",
      "2  0.750784  0.313888  0.285597\n",
      "3       NaN -2.336386 -0.958703\n",
      "4       NaN -0.646961  0.645515\n",
      "5  1.302016 -0.646961 -0.149615\n",
      "6  0.015766 -1.054332 -0.149615\n",
      "7 -0.726862 -1.559788  0.326723\n"
     ]
    },
    {
     "data": {
      "text/html": [
       "<div>\n",
       "<style scoped>\n",
       "    .dataframe tbody tr th:only-of-type {\n",
       "        vertical-align: middle;\n",
       "    }\n",
       "\n",
       "    .dataframe tbody tr th {\n",
       "        vertical-align: top;\n",
       "    }\n",
       "\n",
       "    .dataframe thead th {\n",
       "        text-align: right;\n",
       "    }\n",
       "</style>\n",
       "<table border=\"1\" class=\"dataframe\">\n",
       "  <thead>\n",
       "    <tr style=\"text-align: right;\">\n",
       "      <th></th>\n",
       "      <th>A</th>\n",
       "      <th>B</th>\n",
       "      <th>C</th>\n",
       "    </tr>\n",
       "  </thead>\n",
       "  <tbody>\n",
       "    <tr>\n",
       "      <th>0</th>\n",
       "      <td>0.981534</td>\n",
       "      <td>0.441053</td>\n",
       "      <td>-0.588077</td>\n",
       "    </tr>\n",
       "    <tr>\n",
       "      <th>1</th>\n",
       "      <td>0.751749</td>\n",
       "      <td>0.313802</td>\n",
       "      <td>-0.608747</td>\n",
       "    </tr>\n",
       "    <tr>\n",
       "      <th>2</th>\n",
       "      <td>0.750784</td>\n",
       "      <td>0.313888</td>\n",
       "      <td>0.285597</td>\n",
       "    </tr>\n",
       "    <tr>\n",
       "      <th>5</th>\n",
       "      <td>1.302016</td>\n",
       "      <td>-0.646961</td>\n",
       "      <td>-0.149615</td>\n",
       "    </tr>\n",
       "    <tr>\n",
       "      <th>6</th>\n",
       "      <td>0.015766</td>\n",
       "      <td>-1.054332</td>\n",
       "      <td>-0.149615</td>\n",
       "    </tr>\n",
       "    <tr>\n",
       "      <th>7</th>\n",
       "      <td>-0.726862</td>\n",
       "      <td>-1.559788</td>\n",
       "      <td>0.326723</td>\n",
       "    </tr>\n",
       "  </tbody>\n",
       "</table>\n",
       "</div>"
      ],
      "text/plain": [
       "          A         B         C\n",
       "0  0.981534  0.441053 -0.588077\n",
       "1  0.751749  0.313802 -0.608747\n",
       "2  0.750784  0.313888  0.285597\n",
       "5  1.302016 -0.646961 -0.149615\n",
       "6  0.015766 -1.054332 -0.149615\n",
       "7 -0.726862 -1.559788  0.326723"
      ]
     },
     "execution_count": 92,
     "metadata": {},
     "output_type": "execute_result"
    }
   ],
   "source": [
    "import numpy as np\n",
    "import pandas as pd\n",
    "\n",
    "np.random.seed(19491001)\n",
    "df = pd.DataFrame(np.random.randn(8,3), columns=list('ABC'))\n",
    "# 插入缺失值\n",
    "df.iloc[3:5,0] = np.nan\n",
    "df.iloc[4:6,1] = np.nan\n",
    "df.iloc[5:7,2] = np.nan\n",
    "print(df)\n",
    "print(df.isna())\n",
    "df2 = df.copy()  \n",
    "df2 = df2.fillna(df2.mean()['B':'C'])  # 对B，C列缺失值用列平均值填补\n",
    "print(df2)\n",
    "df2.fillna(method='pad', limit=1)  # 用前一个值填充1个缺失值\n",
    "df2.dropna()   # 删除缺失值所在行"
   ]
  },
  {
   "cell_type": "code",
   "execution_count": 93,
   "metadata": {},
   "outputs": [
    {
     "name": "stdout",
     "output_type": "stream",
     "text": [
      "   time  temps\n",
      "0   0.0   15.0\n",
      "1   2.0   19.0\n",
      "2   4.0    NaN\n",
      "3   6.0   26.0\n",
      "4   8.0   26.5\n",
      "5  10.0    NaN\n",
      "6  12.0   24.0\n"
     ]
    }
   ],
   "source": [
    "import numpy as np\n",
    "import pandas as pd\n",
    "\n",
    "time = np.arange(0,13,2)\n",
    "temps = np.array([15, 19, np.NaN, 26, 26.5, np.NaN, 24])\n",
    "df3 = pd.DataFrame(np.c_[time, temps], columns=['time','temps'])\n",
    "print(df3)\n"
   ]
  },
  {
   "cell_type": "code",
   "execution_count": 94,
   "metadata": {},
   "outputs": [
    {
     "data": {
      "text/html": [
       "<div>\n",
       "<style scoped>\n",
       "    .dataframe tbody tr th:only-of-type {\n",
       "        vertical-align: middle;\n",
       "    }\n",
       "\n",
       "    .dataframe tbody tr th {\n",
       "        vertical-align: top;\n",
       "    }\n",
       "\n",
       "    .dataframe thead th {\n",
       "        text-align: right;\n",
       "    }\n",
       "</style>\n",
       "<table border=\"1\" class=\"dataframe\">\n",
       "  <thead>\n",
       "    <tr style=\"text-align: right;\">\n",
       "      <th></th>\n",
       "      <th>time</th>\n",
       "      <th>temps</th>\n",
       "    </tr>\n",
       "  </thead>\n",
       "  <tbody>\n",
       "    <tr>\n",
       "      <th>0</th>\n",
       "      <td>0.0</td>\n",
       "      <td>15.00</td>\n",
       "    </tr>\n",
       "    <tr>\n",
       "      <th>1</th>\n",
       "      <td>2.0</td>\n",
       "      <td>19.00</td>\n",
       "    </tr>\n",
       "    <tr>\n",
       "      <th>2</th>\n",
       "      <td>4.0</td>\n",
       "      <td>22.50</td>\n",
       "    </tr>\n",
       "    <tr>\n",
       "      <th>3</th>\n",
       "      <td>6.0</td>\n",
       "      <td>26.00</td>\n",
       "    </tr>\n",
       "    <tr>\n",
       "      <th>4</th>\n",
       "      <td>8.0</td>\n",
       "      <td>26.50</td>\n",
       "    </tr>\n",
       "    <tr>\n",
       "      <th>5</th>\n",
       "      <td>10.0</td>\n",
       "      <td>25.25</td>\n",
       "    </tr>\n",
       "    <tr>\n",
       "      <th>6</th>\n",
       "      <td>12.0</td>\n",
       "      <td>24.00</td>\n",
       "    </tr>\n",
       "  </tbody>\n",
       "</table>\n",
       "</div>"
      ],
      "text/plain": [
       "   time  temps\n",
       "0   0.0  15.00\n",
       "1   2.0  19.00\n",
       "2   4.0  22.50\n",
       "3   6.0  26.00\n",
       "4   8.0  26.50\n",
       "5  10.0  25.25\n",
       "6  12.0  24.00"
      ]
     },
     "execution_count": 94,
     "metadata": {},
     "output_type": "execute_result"
    }
   ],
   "source": [
    "df3.interpolate()   # 线性插值"
   ]
  },
  {
   "cell_type": "code",
   "execution_count": 95,
   "metadata": {},
   "outputs": [
    {
     "data": {
      "text/html": [
       "<div>\n",
       "<style scoped>\n",
       "    .dataframe tbody tr th:only-of-type {\n",
       "        vertical-align: middle;\n",
       "    }\n",
       "\n",
       "    .dataframe tbody tr th {\n",
       "        vertical-align: top;\n",
       "    }\n",
       "\n",
       "    .dataframe thead th {\n",
       "        text-align: right;\n",
       "    }\n",
       "</style>\n",
       "<table border=\"1\" class=\"dataframe\">\n",
       "  <thead>\n",
       "    <tr style=\"text-align: right;\">\n",
       "      <th></th>\n",
       "      <th>time</th>\n",
       "      <th>temps</th>\n",
       "    </tr>\n",
       "  </thead>\n",
       "  <tbody>\n",
       "    <tr>\n",
       "      <th>0</th>\n",
       "      <td>0.0</td>\n",
       "      <td>15.000000</td>\n",
       "    </tr>\n",
       "    <tr>\n",
       "      <th>1</th>\n",
       "      <td>2.0</td>\n",
       "      <td>19.000000</td>\n",
       "    </tr>\n",
       "    <tr>\n",
       "      <th>2</th>\n",
       "      <td>4.0</td>\n",
       "      <td>22.929825</td>\n",
       "    </tr>\n",
       "    <tr>\n",
       "      <th>3</th>\n",
       "      <td>6.0</td>\n",
       "      <td>26.000000</td>\n",
       "    </tr>\n",
       "    <tr>\n",
       "      <th>4</th>\n",
       "      <td>8.0</td>\n",
       "      <td>26.500000</td>\n",
       "    </tr>\n",
       "    <tr>\n",
       "      <th>5</th>\n",
       "      <td>10.0</td>\n",
       "      <td>26.403509</td>\n",
       "    </tr>\n",
       "    <tr>\n",
       "      <th>6</th>\n",
       "      <td>12.0</td>\n",
       "      <td>24.000000</td>\n",
       "    </tr>\n",
       "  </tbody>\n",
       "</table>\n",
       "</div>"
      ],
      "text/plain": [
       "   time      temps\n",
       "0   0.0  15.000000\n",
       "1   2.0  19.000000\n",
       "2   4.0  22.929825\n",
       "3   6.0  26.000000\n",
       "4   8.0  26.500000\n",
       "5  10.0  26.403509\n",
       "6  12.0  24.000000"
      ]
     },
     "execution_count": 95,
     "metadata": {},
     "output_type": "execute_result"
    }
   ],
   "source": [
    "df3.interpolate(method='spline',order=3)  # 3次样条插值"
   ]
  },
  {
   "cell_type": "markdown",
   "metadata": {},
   "source": [
    "### 异常值处理\n",
    "<font face='kaiti' size=5 style='line-height:1.5'>\n",
    "\n",
    "- 异常值是指样本中的个别值，其数值明显偏离其余的观测值。异常值也称为离群点，异常值的分析也称为离群点分析。\n",
    "- 异常值可能是因观测错误、录入错误等带来的错误数据，也可能是系统本身就存在的罕见数据。对于前者需加以剔除或校正，将错误的异常值包括进数据的计算分析过程中，对结果会带来不良影响；而对于后者需分析其产生的原因，常常会成为发现问题进而改进决策的契机。所以，对数据的异常值检测是十分必要的。\n",
    "- 检测异常值的直观的方法是通过数据可视化（分布图，直方图，箱线图等），来判断是否存在离群值。然而，这种方法只适用于低维数据。\n",
    "- $3\\sigma$原则: 如果数据服从正态分布，在$3\\sigma$原则下，异常值被定义为一组测定值中与平均值的偏差超过三倍标准差$\\sigma$的值。在正态分布的假设下，距离平均值 $3\\sigma$之外的值出现的概率为 $P(|x - \\mu|<3\\sigma)\\leq 0.003$，属于极个别的小概率事件。- - 如果数据不服从正态分布，也可以用远离平均值的多少倍标准差来描述。"
   ]
  },
  {
   "cell_type": "markdown",
   "metadata": {},
   "source": [
    "<font face='kaiti' size=5 style='line-height:1.5'>\n",
    "\n",
    "&emsp;&emsp;在数据预处理时，异常值是否剔除，需视具体情况而定，因为有些异常值可能蕴含着有用的信息。异常值处理的常用方法如下：\n",
    "- 删除含有异常值的记录：直接将含有异常值的记录删除。\n",
    "- 视为缺失值：将异常值视为缺失值，利用缺失值处理的方法进行处理。\n",
    "- 平均值修正：可用前后两个观测值的平均值修正该异常值。\n",
    "- 不处理：直接在具有异常值的数据集上进行挖掘建模。"
   ]
  },
  {
   "cell_type": "markdown",
   "metadata": {},
   "source": [
    "## 数据转换\n",
    "<font face='kaiti' size=5 style='line-height:1.5'>\n",
    "\n",
    "&emsp;数据转换用于产生新数据。比如，原有的特征不够，但可以由原有的特征通过运算产生所需的新特征。如前面例子的“回看时长”的计算。又如，数据的量纲不一致，取值范围差异太大，不能直接参与运算，这时需要先进行规范化。<br>\n",
    "&emsp;下面简单介绍数据的规范化如下："
   ]
  },
  {
   "cell_type": "markdown",
   "metadata": {},
   "source": [
    "<font face='kaiti' size=5 style='line-height:1.5'>\n",
    "\n",
    "1. 最小-最大规范化：也称为离差标准化，是对原始数据的线性变换，将数值映射到[0,1]之间。<br>\n",
    "转换公式如下：<br>\n",
    "<center> $ x* = \\frac{x-min}{max-min}$ </center>\n",
    "其中$max$为样本数据的最大值，$min$为样本数据的最小值。$max - min$为极差。离差标准化保留了原来数据中存在的关系，是消除量纲和数据取值范围影响的最简单的方法。这种处理方法的缺点是若数值集中某个数值很大，则规范化后各值会接近于0，并且将会相差不大。若将来遇到超过目前属性$[min, max]$ 取值范围的时候，会引起系统出错，需要重新确定$min$ 和$maxz$ 。\n",
    "\n",
    "2. 零-均值规范化：也叫标准差标准化，经过处理的数据的均值为0，标准差为1。转化公式为：<br>\n",
    "<center> $ x* = \\frac{x - \\bar{x}}{\\sigma}$    </center>                         \n",
    "其中 $\\bar{x}$为原始数据的均值， $\\sigma$为原始数据的标准差，这是目前最常用的数据标准化方法。\n"
   ]
  },
  {
   "cell_type": "code",
   "execution_count": 183,
   "metadata": {},
   "outputs": [
    {
     "data": {
      "text/html": [
       "<div>\n",
       "<style scoped>\n",
       "    .dataframe tbody tr th:only-of-type {\n",
       "        vertical-align: middle;\n",
       "    }\n",
       "\n",
       "    .dataframe tbody tr th {\n",
       "        vertical-align: top;\n",
       "    }\n",
       "\n",
       "    .dataframe thead th {\n",
       "        text-align: right;\n",
       "    }\n",
       "</style>\n",
       "<table border=\"1\" class=\"dataframe\">\n",
       "  <thead>\n",
       "    <tr style=\"text-align: right;\">\n",
       "      <th></th>\n",
       "      <th>0</th>\n",
       "      <th>1</th>\n",
       "      <th>2</th>\n",
       "      <th>3</th>\n",
       "    </tr>\n",
       "  </thead>\n",
       "  <tbody>\n",
       "    <tr>\n",
       "      <th>0</th>\n",
       "      <td>5.926136</td>\n",
       "      <td>3.764212</td>\n",
       "      <td>-0.352308</td>\n",
       "      <td>5.006996</td>\n",
       "    </tr>\n",
       "    <tr>\n",
       "      <th>1</th>\n",
       "      <td>3.255209</td>\n",
       "      <td>-0.434988</td>\n",
       "      <td>5.003135</td>\n",
       "      <td>3.255554</td>\n",
       "    </tr>\n",
       "    <tr>\n",
       "      <th>2</th>\n",
       "      <td>3.142388</td>\n",
       "      <td>-2.543343</td>\n",
       "      <td>-7.345544</td>\n",
       "      <td>-1.834811</td>\n",
       "    </tr>\n",
       "    <tr>\n",
       "      <th>3</th>\n",
       "      <td>-5.515454</td>\n",
       "      <td>-2.107467</td>\n",
       "      <td>4.582061</td>\n",
       "      <td>7.208064</td>\n",
       "    </tr>\n",
       "    <tr>\n",
       "      <th>4</th>\n",
       "      <td>6.532274</td>\n",
       "      <td>12.747088</td>\n",
       "      <td>2.063062</td>\n",
       "      <td>-2.217329</td>\n",
       "    </tr>\n",
       "    <tr>\n",
       "      <th>5</th>\n",
       "      <td>0.936932</td>\n",
       "      <td>-0.907449</td>\n",
       "      <td>-4.239153</td>\n",
       "      <td>3.306892</td>\n",
       "    </tr>\n",
       "  </tbody>\n",
       "</table>\n",
       "</div>"
      ],
      "text/plain": [
       "          0          1         2         3\n",
       "0  5.926136   3.764212 -0.352308  5.006996\n",
       "1  3.255209  -0.434988  5.003135  3.255554\n",
       "2  3.142388  -2.543343 -7.345544 -1.834811\n",
       "3 -5.515454  -2.107467  4.582061  7.208064\n",
       "4  6.532274  12.747088  2.063062 -2.217329\n",
       "5  0.936932  -0.907449 -4.239153  3.306892"
      ]
     },
     "execution_count": 183,
     "metadata": {},
     "output_type": "execute_result"
    }
   ],
   "source": [
    "import numpy as np\n",
    "import pandas as pd\n",
    "\n",
    "np.random.seed(19491001)\n",
    "df1 = pd.DataFrame(np.random.randn(6,4)*4 + 2)\n",
    "df1"
   ]
  },
  {
   "cell_type": "code",
   "execution_count": 97,
   "metadata": {},
   "outputs": [
    {
     "data": {
      "text/html": [
       "<div>\n",
       "<style scoped>\n",
       "    .dataframe tbody tr th:only-of-type {\n",
       "        vertical-align: middle;\n",
       "    }\n",
       "\n",
       "    .dataframe tbody tr th {\n",
       "        vertical-align: top;\n",
       "    }\n",
       "\n",
       "    .dataframe thead th {\n",
       "        text-align: right;\n",
       "    }\n",
       "</style>\n",
       "<table border=\"1\" class=\"dataframe\">\n",
       "  <thead>\n",
       "    <tr style=\"text-align: right;\">\n",
       "      <th></th>\n",
       "      <th>0</th>\n",
       "      <th>1</th>\n",
       "      <th>2</th>\n",
       "      <th>3</th>\n",
       "    </tr>\n",
       "  </thead>\n",
       "  <tbody>\n",
       "    <tr>\n",
       "      <th>0</th>\n",
       "      <td>0.949689</td>\n",
       "      <td>0.412516</td>\n",
       "      <td>0.566314</td>\n",
       "      <td>0.766475</td>\n",
       "    </tr>\n",
       "    <tr>\n",
       "      <th>1</th>\n",
       "      <td>0.727993</td>\n",
       "      <td>0.137887</td>\n",
       "      <td>1.000000</td>\n",
       "      <td>0.580653</td>\n",
       "    </tr>\n",
       "    <tr>\n",
       "      <th>2</th>\n",
       "      <td>0.718629</td>\n",
       "      <td>0.000000</td>\n",
       "      <td>0.000000</td>\n",
       "      <td>0.040584</td>\n",
       "    </tr>\n",
       "    <tr>\n",
       "      <th>3</th>\n",
       "      <td>0.000000</td>\n",
       "      <td>0.028506</td>\n",
       "      <td>0.965901</td>\n",
       "      <td>1.000000</td>\n",
       "    </tr>\n",
       "    <tr>\n",
       "      <th>4</th>\n",
       "      <td>1.000000</td>\n",
       "      <td>1.000000</td>\n",
       "      <td>0.761912</td>\n",
       "      <td>0.000000</td>\n",
       "    </tr>\n",
       "    <tr>\n",
       "      <th>5</th>\n",
       "      <td>0.535569</td>\n",
       "      <td>0.106988</td>\n",
       "      <td>0.251557</td>\n",
       "      <td>0.586100</td>\n",
       "    </tr>\n",
       "  </tbody>\n",
       "</table>\n",
       "</div>"
      ],
      "text/plain": [
       "          0         1         2         3\n",
       "0  0.949689  0.412516  0.566314  0.766475\n",
       "1  0.727993  0.137887  1.000000  0.580653\n",
       "2  0.718629  0.000000  0.000000  0.040584\n",
       "3  0.000000  0.028506  0.965901  1.000000\n",
       "4  1.000000  1.000000  0.761912  0.000000\n",
       "5  0.535569  0.106988  0.251557  0.586100"
      ]
     },
     "execution_count": 97,
     "metadata": {},
     "output_type": "execute_result"
    }
   ],
   "source": [
    "# 最小-最大规范化 方法一\n",
    "df1.apply(lambda x: (x - np.min(x)) / (np.max(x) - np.min(x)))  # 按列取最值"
   ]
  },
  {
   "cell_type": "code",
   "execution_count": 98,
   "metadata": {},
   "outputs": [
    {
     "data": {
      "text/html": [
       "<div>\n",
       "<style scoped>\n",
       "    .dataframe tbody tr th:only-of-type {\n",
       "        vertical-align: middle;\n",
       "    }\n",
       "\n",
       "    .dataframe tbody tr th {\n",
       "        vertical-align: top;\n",
       "    }\n",
       "\n",
       "    .dataframe thead th {\n",
       "        text-align: right;\n",
       "    }\n",
       "</style>\n",
       "<table border=\"1\" class=\"dataframe\">\n",
       "  <thead>\n",
       "    <tr style=\"text-align: right;\">\n",
       "      <th></th>\n",
       "      <th>0</th>\n",
       "      <th>1</th>\n",
       "      <th>2</th>\n",
       "      <th>3</th>\n",
       "    </tr>\n",
       "  </thead>\n",
       "  <tbody>\n",
       "    <tr>\n",
       "      <th>0</th>\n",
       "      <td>0.949689</td>\n",
       "      <td>0.412516</td>\n",
       "      <td>0.566314</td>\n",
       "      <td>0.766475</td>\n",
       "    </tr>\n",
       "    <tr>\n",
       "      <th>1</th>\n",
       "      <td>0.727993</td>\n",
       "      <td>0.137887</td>\n",
       "      <td>1.000000</td>\n",
       "      <td>0.580653</td>\n",
       "    </tr>\n",
       "    <tr>\n",
       "      <th>2</th>\n",
       "      <td>0.718629</td>\n",
       "      <td>0.000000</td>\n",
       "      <td>0.000000</td>\n",
       "      <td>0.040584</td>\n",
       "    </tr>\n",
       "    <tr>\n",
       "      <th>3</th>\n",
       "      <td>0.000000</td>\n",
       "      <td>0.028506</td>\n",
       "      <td>0.965901</td>\n",
       "      <td>1.000000</td>\n",
       "    </tr>\n",
       "    <tr>\n",
       "      <th>4</th>\n",
       "      <td>1.000000</td>\n",
       "      <td>1.000000</td>\n",
       "      <td>0.761912</td>\n",
       "      <td>0.000000</td>\n",
       "    </tr>\n",
       "    <tr>\n",
       "      <th>5</th>\n",
       "      <td>0.535569</td>\n",
       "      <td>0.106988</td>\n",
       "      <td>0.251557</td>\n",
       "      <td>0.586100</td>\n",
       "    </tr>\n",
       "  </tbody>\n",
       "</table>\n",
       "</div>"
      ],
      "text/plain": [
       "          0         1         2         3\n",
       "0  0.949689  0.412516  0.566314  0.766475\n",
       "1  0.727993  0.137887  1.000000  0.580653\n",
       "2  0.718629  0.000000  0.000000  0.040584\n",
       "3  0.000000  0.028506  0.965901  1.000000\n",
       "4  1.000000  1.000000  0.761912  0.000000\n",
       "5  0.535569  0.106988  0.251557  0.586100"
      ]
     },
     "execution_count": 98,
     "metadata": {},
     "output_type": "execute_result"
    }
   ],
   "source": [
    "# 最小-最大规范化 方法二\n",
    "(df1 - df1.min()) / (df1.max() - df1.min())  # 按列取最值"
   ]
  },
  {
   "cell_type": "code",
   "execution_count": 99,
   "metadata": {},
   "outputs": [
    {
     "data": {
      "text/html": [
       "<div>\n",
       "<style scoped>\n",
       "    .dataframe tbody tr th:only-of-type {\n",
       "        vertical-align: middle;\n",
       "    }\n",
       "\n",
       "    .dataframe tbody tr th {\n",
       "        vertical-align: top;\n",
       "    }\n",
       "\n",
       "    .dataframe thead th {\n",
       "        text-align: right;\n",
       "    }\n",
       "</style>\n",
       "<table border=\"1\" class=\"dataframe\">\n",
       "  <thead>\n",
       "    <tr style=\"text-align: right;\">\n",
       "      <th></th>\n",
       "      <th>0</th>\n",
       "      <th>1</th>\n",
       "      <th>2</th>\n",
       "      <th>3</th>\n",
       "    </tr>\n",
       "  </thead>\n",
       "  <tbody>\n",
       "    <tr>\n",
       "      <th>0</th>\n",
       "      <td>0.981534</td>\n",
       "      <td>0.441053</td>\n",
       "      <td>-0.588077</td>\n",
       "      <td>0.751749</td>\n",
       "    </tr>\n",
       "    <tr>\n",
       "      <th>1</th>\n",
       "      <td>0.313802</td>\n",
       "      <td>-0.608747</td>\n",
       "      <td>0.750784</td>\n",
       "      <td>0.313888</td>\n",
       "    </tr>\n",
       "    <tr>\n",
       "      <th>2</th>\n",
       "      <td>0.285597</td>\n",
       "      <td>-1.135836</td>\n",
       "      <td>-2.336386</td>\n",
       "      <td>-0.958703</td>\n",
       "    </tr>\n",
       "    <tr>\n",
       "      <th>3</th>\n",
       "      <td>-1.878863</td>\n",
       "      <td>-1.026867</td>\n",
       "      <td>0.645515</td>\n",
       "      <td>1.302016</td>\n",
       "    </tr>\n",
       "    <tr>\n",
       "      <th>4</th>\n",
       "      <td>1.133069</td>\n",
       "      <td>2.686772</td>\n",
       "      <td>0.015766</td>\n",
       "      <td>-1.054332</td>\n",
       "    </tr>\n",
       "    <tr>\n",
       "      <th>5</th>\n",
       "      <td>-0.265767</td>\n",
       "      <td>-0.726862</td>\n",
       "      <td>-1.559788</td>\n",
       "      <td>0.326723</td>\n",
       "    </tr>\n",
       "  </tbody>\n",
       "</table>\n",
       "</div>"
      ],
      "text/plain": [
       "          0         1         2         3\n",
       "0  0.981534  0.441053 -0.588077  0.751749\n",
       "1  0.313802 -0.608747  0.750784  0.313888\n",
       "2  0.285597 -1.135836 -2.336386 -0.958703\n",
       "3 -1.878863 -1.026867  0.645515  1.302016\n",
       "4  1.133069  2.686772  0.015766 -1.054332\n",
       "5 -0.265767 -0.726862 -1.559788  0.326723"
      ]
     },
     "execution_count": 99,
     "metadata": {},
     "output_type": "execute_result"
    }
   ],
   "source": [
    "# 零-均值规范化 方法一：假设已知样本的均值为2，标准差为4\n",
    "df1.apply(lambda x: (x - 2)/4)"
   ]
  },
  {
   "cell_type": "code",
   "execution_count": 184,
   "metadata": {
    "scrolled": false
   },
   "outputs": [
    {
     "data": {
      "text/html": [
       "<div>\n",
       "<style scoped>\n",
       "    .dataframe tbody tr th:only-of-type {\n",
       "        vertical-align: middle;\n",
       "    }\n",
       "\n",
       "    .dataframe tbody tr th {\n",
       "        vertical-align: top;\n",
       "    }\n",
       "\n",
       "    .dataframe thead th {\n",
       "        text-align: right;\n",
       "    }\n",
       "</style>\n",
       "<table border=\"1\" class=\"dataframe\">\n",
       "  <thead>\n",
       "    <tr style=\"text-align: right;\">\n",
       "      <th></th>\n",
       "      <th>0</th>\n",
       "      <th>1</th>\n",
       "      <th>2</th>\n",
       "      <th>3</th>\n",
       "    </tr>\n",
       "  </thead>\n",
       "  <tbody>\n",
       "    <tr>\n",
       "      <th>0</th>\n",
       "      <td>0.811145</td>\n",
       "      <td>0.344774</td>\n",
       "      <td>-0.061499</td>\n",
       "      <td>0.678851</td>\n",
       "    </tr>\n",
       "    <tr>\n",
       "      <th>1</th>\n",
       "      <td>0.200268</td>\n",
       "      <td>-0.375082</td>\n",
       "      <td>1.021257</td>\n",
       "      <td>0.213094</td>\n",
       "    </tr>\n",
       "    <tr>\n",
       "      <th>2</th>\n",
       "      <td>0.174464</td>\n",
       "      <td>-0.736511</td>\n",
       "      <td>-1.475383</td>\n",
       "      <td>-1.140572</td>\n",
       "    </tr>\n",
       "    <tr>\n",
       "      <th>3</th>\n",
       "      <td>-1.805700</td>\n",
       "      <td>-0.661790</td>\n",
       "      <td>0.936125</td>\n",
       "      <td>1.264175</td>\n",
       "    </tr>\n",
       "    <tr>\n",
       "      <th>4</th>\n",
       "      <td>0.949777</td>\n",
       "      <td>1.884682</td>\n",
       "      <td>0.426837</td>\n",
       "      <td>-1.242294</td>\n",
       "    </tr>\n",
       "    <tr>\n",
       "      <th>5</th>\n",
       "      <td>-0.329953</td>\n",
       "      <td>-0.456074</td>\n",
       "      <td>-0.847337</td>\n",
       "      <td>0.226747</td>\n",
       "    </tr>\n",
       "  </tbody>\n",
       "</table>\n",
       "</div>"
      ],
      "text/plain": [
       "          0         1         2         3\n",
       "0  0.811145  0.344774 -0.061499  0.678851\n",
       "1  0.200268 -0.375082  1.021257  0.213094\n",
       "2  0.174464 -0.736511 -1.475383 -1.140572\n",
       "3 -1.805700 -0.661790  0.936125  1.264175\n",
       "4  0.949777  1.884682  0.426837 -1.242294\n",
       "5 -0.329953 -0.456074 -0.847337  0.226747"
      ]
     },
     "execution_count": 184,
     "metadata": {},
     "output_type": "execute_result"
    }
   ],
   "source": [
    "# 零-均值规范化  方法二：假设各列分别规范化\n",
    "df2 = (df1 - df1.mean()) / df1.std()\n",
    "df2"
   ]
  },
  {
   "cell_type": "markdown",
   "metadata": {},
   "source": [
    "## 数据集成\n",
    "<font face='kaiti' size=5 style='line-height:1.5'>\n",
    "见Lesson14 Pandas库之“Pandas数据整合”。"
   ]
  },
  {
   "cell_type": "markdown",
   "metadata": {},
   "source": [
    "## 数据归约<br>\n",
    "<font face='kaiti' size=5 style='line-height:1.5'>\n",
    "    \n",
    "&emsp;数据归约又称数据精简。在大数据集上进行复杂的数据分析和挖掘将需要很长的时间，数据规约产生更小的但保持原数据完整性的新数据集。在规约后的数据集上进行分析和挖掘将更有效率，并产生一致或几乎一致的分析结果。数据规约的意义在于：\n",
    "- 降低无效、错误数据对建模的影响，提高建模的准确性\n",
    "- 少量且具代表性的数据将大幅缩减数据挖掘所需的时间\n",
    "- 降低储存数据的成本\n",
    "   \n",
    "&emsp;数据归约的方法大致可分为：属性归约、数值归约，数据压缩、离散化与概念分层。下面只简单介绍属性归约和数值归约。\n"
   ]
  },
  {
   "cell_type": "markdown",
   "metadata": {},
   "source": [
    "### 属性规约<br>\n",
    "<font face='kaiti' size=5 style='line-height:1.5'>\n",
    "    \n",
    "属性规约又称特征归约，也称降维，是通过属性合并创建新属性维数，或者直接通过删除不相关的属性（维）来降低数据维数。常用方法有：\n",
    "- 合并属性：将一些旧属性合为新属性\n",
    "- 逐步向前选择：从一个空属性集开始，每次从原来属性集合中选择一个当前最优的属性添加到当前属性子集中。直到无法选择出最优属性或满足一定阈值约束为止。\n",
    "- 逐步向后删除：从一个全属性集开始，每次从当前属性子集中选择一个当前最差的属性并将其从当前属性子集中消去。直到无法选择出最差属性为止或满足一定阈值约束为止。\n",
    "- 决策树归纳：利用决策树的归纳方法对初始数据进行分类归纳学习，获得一个初始决策树，所有没有出现在这个决策树上的属性均可认为是无关属性，因此将这些属性从初始集合中删除，就可以获得一个较优的属性子集。\n",
    "- 主成分分析：用较少的变量去解释原始数据中的大部分变量，即将许多相关性很高的变量转化成彼此相互独立或不相关的变量。"
   ]
  },
  {
   "cell_type": "markdown",
   "metadata": {},
   "source": [
    "### 数值归约<br>\n",
    "<font face='kaiti' size=5 style='line-height:1.5'>\n",
    "    \n",
    "&emsp;数值规约通过选择替代的、较小的数据集来减少数据量，包括有参数方法和无参数方法两类。有参数方法是使用一个模型来评估数据，只需存放参数，而不需要存放实际数据，例如回归（线性回归和多元回归）和对数线性模型（近似离散属性集中的多维概率分布）。无参数方法就需要存放实际数据，例如直方图、聚类、抽样（采样）。\n",
    "- 直方图：将数据按取值分为不相交的子集。\n",
    "- 聚类：将数据按某种度量划分为簇，使一个簇中的对象相互“相似”， 而与其他簇中的对象“相异”。在数据规约中，可用数据的聚类中心替换实际数据。\n",
    "- 抽样：充分的随机性能保证抽样得到的子集与数据全体的统计特征基本保持一致。由抽样分布的理论能大致确定抽样的规模。"
   ]
  },
  {
   "cell_type": "code",
   "execution_count": null,
   "metadata": {},
   "outputs": [],
   "source": []
  }
 ],
 "metadata": {
  "kernelspec": {
   "display_name": "Python 3",
   "language": "python",
   "name": "python3"
  },
  "language_info": {
   "codemirror_mode": {
    "name": "ipython",
    "version": 3
   },
   "file_extension": ".py",
   "mimetype": "text/x-python",
   "name": "python",
   "nbconvert_exporter": "python",
   "pygments_lexer": "ipython3",
   "version": "3.7.3"
  },
  "latex_envs": {
   "LaTeX_envs_menu_present": true,
   "autoclose": false,
   "autocomplete": true,
   "bibliofile": "biblio.bib",
   "cite_by": "apalike",
   "current_citInitial": 1,
   "eqLabelWithNumbers": true,
   "eqNumInitial": 1,
   "hotkeys": {
    "equation": "Ctrl-E",
    "itemize": "Ctrl-I"
   },
   "labels_anchors": false,
   "latex_user_defs": false,
   "report_style_numbering": false,
   "user_envs_cfg": false
  },
  "toc": {
   "base_numbering": "15",
   "nav_menu": {},
   "number_sections": true,
   "sideBar": true,
   "skip_h1_title": false,
   "title_cell": "Table of Contents",
   "title_sidebar": "Contents",
   "toc_cell": true,
   "toc_position": {},
   "toc_section_display": true,
   "toc_window_display": false
  }
 },
 "nbformat": 4,
 "nbformat_minor": 2
}
