{
 "cells": [
  {
   "cell_type": "markdown",
   "metadata": {
    "toc": true
   },
   "source": [
    "<h1>Table of Contents<span class=\"tocSkip\"></span></h1>\n",
    "<div class=\"toc\"><ul class=\"toc-item\"><li><span><a href=\"#Numpy扩展库使用\" data-toc-modified-id=\"Numpy扩展库使用-11\"><span class=\"toc-item-num\">11&nbsp;&nbsp;</span>Numpy扩展库使用<br></a></span><ul class=\"toc-item\"><li><span><a href=\"#数组的创建\" data-toc-modified-id=\"数组的创建-11.1\"><span class=\"toc-item-num\">11.1&nbsp;&nbsp;</span>数组的创建<br></a></span><ul class=\"toc-item\"><li><span><a href=\"#numpy.array()-——-由列表、元组创建数组\" data-toc-modified-id=\"numpy.array()-——-由列表、元组创建数组-11.1.1\"><span class=\"toc-item-num\">11.1.1&nbsp;&nbsp;</span>numpy.array() —— 由列表、元组创建数组</a></span></li><li><span><a href=\"#由函数创建特殊数组\" data-toc-modified-id=\"由函数创建特殊数组-11.1.2\"><span class=\"toc-item-num\">11.1.2&nbsp;&nbsp;</span>由函数创建特殊数组<br></a></span></li></ul></li><li><span><a href=\"#数组的属性\" data-toc-modified-id=\"数组的属性-11.2\"><span class=\"toc-item-num\">11.2&nbsp;&nbsp;</span>数组的属性<br></a></span></li><li><span><a href=\"#数组元素的访问\" data-toc-modified-id=\"数组元素的访问-11.3\"><span class=\"toc-item-num\">11.3&nbsp;&nbsp;</span>数组元素的访问<br></a></span></li><li><span><a href=\"#数组内容操作\" data-toc-modified-id=\"数组内容操作-11.4\"><span class=\"toc-item-num\">11.4&nbsp;&nbsp;</span>数组内容操作<br></a></span></li><li><span><a href=\"#数组的view()-与copy()\" data-toc-modified-id=\"数组的view()-与copy()-11.5\"><span class=\"toc-item-num\">11.5&nbsp;&nbsp;</span>数组的view() 与copy()</a></span></li><li><span><a href=\"#数组形状操作\" data-toc-modified-id=\"数组形状操作-11.6\"><span class=\"toc-item-num\">11.6&nbsp;&nbsp;</span>数组形状操作<br></a></span></li><li><span><a href=\"#数组与数值的运算\" data-toc-modified-id=\"数组与数值的运算-11.7\"><span class=\"toc-item-num\">11.7&nbsp;&nbsp;</span>数组与数值的运算<br></a></span></li><li><span><a href=\"#数组与数组的运算\" data-toc-modified-id=\"数组与数组的运算-11.8\"><span class=\"toc-item-num\">11.8&nbsp;&nbsp;</span>数组与数组的运算<br></a></span></li><li><span><a href=\"#广播\" data-toc-modified-id=\"广播-11.9\"><span class=\"toc-item-num\">11.9&nbsp;&nbsp;</span>广播<br></a></span></li><li><span><a href=\"#线性代数\" data-toc-modified-id=\"线性代数-11.10\"><span class=\"toc-item-num\">11.10&nbsp;&nbsp;</span>线性代数<br></a></span></li><li><span><a href=\"#数学函数\" data-toc-modified-id=\"数学函数-11.11\"><span class=\"toc-item-num\">11.11&nbsp;&nbsp;</span>数学函数</a></span></li><li><span><a href=\"#排序、搜索、计数\" data-toc-modified-id=\"排序、搜索、计数-11.12\"><span class=\"toc-item-num\">11.12&nbsp;&nbsp;</span>排序、搜索、计数</a></span></li><li><span><a href=\"#统计函数\" data-toc-modified-id=\"统计函数-11.13\"><span class=\"toc-item-num\">11.13&nbsp;&nbsp;</span>统计函数</a></span></li></ul></li></ul></div>"
   ]
  },
  {
   "cell_type": "markdown",
   "metadata": {},
   "source": [
    "# Numpy扩展库使用<br>\n",
    "<font face='kaiti' size=5 style='line-height:1.5'>\n",
    "    \n",
    "&emsp;&emsp;用于数据分析、科学计算与可视化的Python扩展模块有很多，如：numpy、scipy、pandas、matplotlib、SymPy、Traits、TraitsUI、Chaco、TVTK、Mayavi、VPython、OpenCV。    \n",
    "&emsp;&emsp;Numpy是Python的科学计算包，主要用于对多维数组执行计算。NumPy这个词来源于两个单词-- Numerical和Python。使用前需先导入，习惯上常写做：`import numpy as np`. <p>\n",
    "&emsp;&emsp;Numpy中提供的最重要的数据结构是一个称为NumPy数组的强大对象ndarrays，Numpy的运算都基于该数组展开。Numpy还提供一个Matrix类，提供类似MATLAB中矩阵的使用方法。<br>\n",
    "https://www.numpy.org/devdocs/user/quickstart.html <br>\n",
    "https://www.numpy.org/devdocs/reference/routines.html <br>\n",
    "https://www.numpy.org.cn/  <br>\n",
    "http://www.runoob.com/numpy/numpy-statistical-functions.html"
   ]
  },
  {
   "cell_type": "markdown",
   "metadata": {},
   "source": [
    "## 数组的创建<br>\n",
    "<font face='kaiti' size=5 style='line-height:1.5'>\n",
    "    \n",
    "&emsp;&emsp;Numpy中创建数组有多种方法，下面列出其中常用的两种：\n",
    "1. 由列表、元组通过函数numpy.array()创建；\n",
    "2. 由其他函数创建特殊的数组，如arange()，linspace(), ones(), zeros(), random()等。\n",
    "\n",
    "&emsp;&emsp;对Numpy创建的数组，在命令窗口中用print输出和直接输出的表现形式不同。"
   ]
  },
  {
   "cell_type": "markdown",
   "metadata": {},
   "source": [
    "### numpy.array() —— 由列表、元组创建数组\n",
    "<font face='kaiti' size=5 style='line-height:1.5'>"
   ]
  },
  {
   "cell_type": "code",
   "execution_count": 11,
   "metadata": {},
   "outputs": [
    {
     "name": "stdout",
     "output_type": "stream",
     "text": [
      "[[2 3 1 0]\n",
      " [2 3 4 1]]\n",
      "2\n"
     ]
    },
    {
     "data": {
      "text/plain": [
       "numpy.ndarray"
      ]
     },
     "execution_count": 11,
     "metadata": {},
     "output_type": "execute_result"
    }
   ],
   "source": [
    "# 创建一维数组\n",
    "import numpy as np\n",
    "x11 = np.array([[2,3,1,0],[2,3,4,1]])  # 用列表创建数组\n",
    "print(x11) \n",
    "print(x11.ndim)\n",
    "type(x11)"
   ]
  },
  {
   "cell_type": "code",
   "execution_count": 63,
   "metadata": {},
   "outputs": [
    {
     "data": {
      "text/plain": [
       "array([2, 3, 1, 0])"
      ]
     },
     "execution_count": 63,
     "metadata": {},
     "output_type": "execute_result"
    }
   ],
   "source": [
    "# 创建一维数组\n",
    "import numpy as np\n",
    "x11 = np.array((2,3,1,0))   # 用元组创建数组\n",
    "x11  # 直接输出"
   ]
  },
  {
   "cell_type": "code",
   "execution_count": 19,
   "metadata": {},
   "outputs": [
    {
     "name": "stdout",
     "output_type": "stream",
     "text": [
      "[[1.+0.j 2.+0.j]\n",
      " [0.+0.j 0.+0.j]\n",
      " [1.+1.j 3.+0.j]]\n"
     ]
    },
    {
     "data": {
      "text/plain": [
       "2"
      ]
     },
     "execution_count": 19,
     "metadata": {},
     "output_type": "execute_result"
    }
   ],
   "source": [
    "# 创建二维数组，元素可以是复数\n",
    "import numpy as np  # 若前面已经导入过numpy，则后面可以直接使用，不用再导入\n",
    "x12 = np.array([[ 1.+0.j, 2], [0, 0.+0.j], [ 1.+1.j, 3.+0.j]])\n",
    "print(x12)\n",
    "x12.ndim"
   ]
  },
  {
   "cell_type": "code",
   "execution_count": 20,
   "metadata": {},
   "outputs": [
    {
     "name": "stdout",
     "output_type": "stream",
     "text": [
      "[[2 3 1 0]]\n"
     ]
    },
    {
     "data": {
      "text/plain": [
       "2"
      ]
     },
     "execution_count": 20,
     "metadata": {},
     "output_type": "execute_result"
    }
   ],
   "source": [
    "# 下面的是二维数组哦！相当于单行的矩阵，注意区别\n",
    "x13 = np.array([[2,3,1,0]])\n",
    "print(x13)\n",
    "x13.ndim"
   ]
  },
  {
   "cell_type": "code",
   "execution_count": 27,
   "metadata": {},
   "outputs": [
    {
     "name": "stdout",
     "output_type": "stream",
     "text": [
      "[[1]\n",
      " [2]\n",
      " [3]\n",
      " [4]]\n"
     ]
    },
    {
     "data": {
      "text/plain": [
       "2"
      ]
     },
     "execution_count": 27,
     "metadata": {},
     "output_type": "execute_result"
    }
   ],
   "source": [
    "# 下面创建的也是二维数组，相当于单列的矩阵\n",
    "x14 = np.array([[1],[2],[3],[4]])\n",
    "print(x14)\n",
    "x14.ndim"
   ]
  },
  {
   "cell_type": "markdown",
   "metadata": {},
   "source": [
    "### 由函数创建特殊数组<br>\n",
    "<font face='kaiti' size=5 style='line-height:1.5'>\n",
    "\n",
    "1. arange(), linspace() ：  创建规则递增或递减的数组\n",
    "2. ones(), zeros()： 创建全1数组、全0数组\n",
    "3. eye(), diag()： 创建单位阵、对角阵\n",
    "4. full(), empty()： 用给定值填充，或仅占位\n",
    "5. random： 随机数模块，可创建随机数组"
   ]
  },
  {
   "cell_type": "markdown",
   "metadata": {},
   "source": [
    "<font face='kaiti' size=5, style='line-height:1.5'>\n",
    "\n",
    "1. arange(), linspace() ：  创建等差数列； <br>\n",
    "  另有logspace()： 创建等比数列，自己查阅资料"
   ]
  },
  {
   "cell_type": "code",
   "execution_count": 29,
   "metadata": {},
   "outputs": [
    {
     "name": "stdout",
     "output_type": "stream",
     "text": [
      "[0 1 2 3 4]\n",
      "[1 3 5 7 9]\n"
     ]
    },
    {
     "data": {
      "text/plain": [
       "array([10,  8,  6,  4,  2])"
      ]
     },
     "execution_count": 29,
     "metadata": {},
     "output_type": "execute_result"
    }
   ],
   "source": [
    "# numpy.arange() 创建等差数列\n",
    "x21 = np.arange(5)   # 注意: 是arange，不是range。range是Python的内置函数\n",
    "print(x21)\n",
    "x21 = np.arange(1,10,2)\n",
    "print(x21)\n",
    "x21 = np.arange(10,1,-2)\n",
    "x21"
   ]
  },
  {
   "cell_type": "code",
   "execution_count": 35,
   "metadata": {},
   "outputs": [
    {
     "name": "stdout",
     "output_type": "stream",
     "text": [
      "[0.  0.5 1.  1.5 2.  2.5 3.  3.5 4.  4.5 5. ]\n"
     ]
    },
    {
     "data": {
      "text/plain": [
       "array([0. , 0.5, 1. , 1.5, 2. , 2.5, 3. , 3.5, 4. , 4.5])"
      ]
     },
     "execution_count": 35,
     "metadata": {},
     "output_type": "execute_result"
    }
   ],
   "source": [
    "# numpy.linspace() 创建等差数列\n",
    "x22 = np.linspace(0, 5, 11)  # 创建 0为起点，5为终点，等间隔的11个点，包含5\n",
    "print(x22)\n",
    "x22 = np.linspace(0, 5, 10, endpoint=False)   # 不包含5\n",
    "x22"
   ]
  },
  {
   "cell_type": "markdown",
   "metadata": {},
   "source": [
    "<font face='kaiti' size=5>\n",
    "\n",
    "2. ones(), zeros() ： 创建全1数组、全0数组"
   ]
  },
  {
   "cell_type": "code",
   "execution_count": 48,
   "metadata": {},
   "outputs": [
    {
     "name": "stdout",
     "output_type": "stream",
     "text": [
      "[1. 1. 1. 1. 1.]\n"
     ]
    },
    {
     "data": {
      "text/plain": [
       "array([[1., 1., 1., 1., 1.],\n",
       "       [1., 1., 1., 1., 1.],\n",
       "       [1., 1., 1., 1., 1.],\n",
       "       [1., 1., 1., 1., 1.]])"
      ]
     },
     "execution_count": 48,
     "metadata": {},
     "output_type": "execute_result"
    }
   ],
   "source": [
    "# numpy.ones() 创建全1数组\n",
    "x23 = np.ones(5)\n",
    "print(x23)\n",
    "x23 = np.ones([4,5])  # 创建全1矩阵，行数和列数需放在 1 个列表或元组中，当做一个输入参数\n",
    "x23"
   ]
  },
  {
   "cell_type": "code",
   "execution_count": 53,
   "metadata": {},
   "outputs": [
    {
     "name": "stdout",
     "output_type": "stream",
     "text": [
      "[0. 0. 0.]\n"
     ]
    },
    {
     "data": {
      "text/plain": [
       "array([[0., 0., 0.],\n",
       "       [0., 0., 0.],\n",
       "       [0., 0., 0.]])"
      ]
     },
     "execution_count": 53,
     "metadata": {},
     "output_type": "execute_result"
    }
   ],
   "source": [
    "# numpy.zeros() 创建全0数组\n",
    "x24 = np.zeros(3)\n",
    "print(x24)\n",
    "np.zeros((3,3))    "
   ]
  },
  {
   "cell_type": "markdown",
   "metadata": {},
   "source": [
    "<font face='kaiti' size=5>\n",
    "\n",
    "3. eye(), diag(): 单位阵，对角阵"
   ]
  },
  {
   "cell_type": "code",
   "execution_count": 228,
   "metadata": {
    "scrolled": true
   },
   "outputs": [
    {
     "name": "stdout",
     "output_type": "stream",
     "text": [
      "[[1. 0. 0.]\n",
      " [0. 1. 0.]\n",
      " [0. 0. 1.]]\n"
     ]
    },
    {
     "data": {
      "text/plain": [
       "array([[1., 0., 0., 0., 0.],\n",
       "       [0., 1., 0., 0., 0.],\n",
       "       [0., 0., 1., 0., 0.]])"
      ]
     },
     "execution_count": 228,
     "metadata": {},
     "output_type": "execute_result"
    }
   ],
   "source": [
    "x31 = np.eye(3)\n",
    "print(x31)\n",
    "np.eye(3,5)"
   ]
  },
  {
   "cell_type": "code",
   "execution_count": 235,
   "metadata": {},
   "outputs": [
    {
     "name": "stdout",
     "output_type": "stream",
     "text": [
      "[[1 0 0 0]\n",
      " [0 2 0 0]\n",
      " [0 0 3 0]\n",
      " [0 0 0 4]]\n",
      "\n",
      " [[0 1 0 0 0]\n",
      " [0 0 2 0 0]\n",
      " [0 0 0 3 0]\n",
      " [0 0 0 0 4]\n",
      " [0 0 0 0 0]]\n",
      "\n",
      " [[ 0  1  2  3]\n",
      " [ 4  5  6  7]\n",
      " [ 8  9 10 11]\n",
      " [12 13 14 15]]\n",
      "\n",
      " [ 0  5 10 15]\n"
     ]
    }
   ],
   "source": [
    "# diag()可用于由一维数组创建对角阵，也可求矩阵的对角元素返回一维数组\n",
    "x32 = np.diag([1,2,3,4])\n",
    "print(x32)\n",
    "x33 = np.diag(np.arange(1,5), 1)\n",
    "print('\\n', x33)\n",
    "x = np.arange(16).reshape(4,4)\n",
    "print('\\n', x)\n",
    "x34 = np.diag(x)\n",
    "print('\\n', x34)"
   ]
  },
  {
   "cell_type": "markdown",
   "metadata": {},
   "source": [
    "<font face='kaiti' size=5 style='line-height:1.5'>\n",
    "\n",
    "4. full(), empty()： 用给定值填充，或仅占位"
   ]
  },
  {
   "cell_type": "code",
   "execution_count": 51,
   "metadata": {},
   "outputs": [
    {
     "data": {
      "text/plain": [
       "array([[3, 3, 3, 3, 3],\n",
       "       [3, 3, 3, 3, 3]])"
      ]
     },
     "execution_count": 51,
     "metadata": {},
     "output_type": "execute_result"
    }
   ],
   "source": [
    "np.full((2,5),3)   # 创建2行5列，元素取值均为3的数组"
   ]
  },
  {
   "cell_type": "code",
   "execution_count": 62,
   "metadata": {
    "scrolled": true
   },
   "outputs": [
    {
     "data": {
      "text/plain": [
       "array([[0. , 0.5, 1. , 1.5, 2. ],\n",
       "       [2.5, 3. , 3.5, 4. , 4.5]])"
      ]
     },
     "execution_count": 62,
     "metadata": {},
     "output_type": "execute_result"
    }
   ],
   "source": [
    "np.empty([2,5])   # 创建一个3行5列的数组，元素随机，用于初始化"
   ]
  },
  {
   "cell_type": "markdown",
   "metadata": {},
   "source": [
    "<font face='kaiti' size=5 style='line-height:1.5'>\n",
    "    \n",
    "5. random： numpy中有一个random模块，用于随机数数组的生成。提供了大量的函数，可生成服从各种分布的数组，也可以生成随机整数列。"
   ]
  },
  {
   "cell_type": "code",
   "execution_count": 36,
   "metadata": {},
   "outputs": [
    {
     "name": "stdout",
     "output_type": "stream",
     "text": [
      "Help on built-in function randint:\n",
      "\n",
      "randint(...) method of mtrand.RandomState instance\n",
      "    randint(low, high=None, size=None, dtype='l')\n",
      "    \n",
      "    Return random integers from `low` (inclusive) to `high` (exclusive).\n",
      "    \n",
      "    Return random integers from the \"discrete uniform\" distribution of\n",
      "    the specified dtype in the \"half-open\" interval [`low`, `high`). If\n",
      "    `high` is None (the default), then results are from [0, `low`).\n",
      "    \n",
      "    Parameters\n",
      "    ----------\n",
      "    low : int\n",
      "        Lowest (signed) integer to be drawn from the distribution (unless\n",
      "        ``high=None``, in which case this parameter is one above the\n",
      "        *highest* such integer).\n",
      "    high : int, optional\n",
      "        If provided, one above the largest (signed) integer to be drawn\n",
      "        from the distribution (see above for behavior if ``high=None``).\n",
      "    size : int or tuple of ints, optional\n",
      "        Output shape.  If the given shape is, e.g., ``(m, n, k)``, then\n",
      "        ``m * n * k`` samples are drawn.  Default is None, in which case a\n",
      "        single value is returned.\n",
      "    dtype : dtype, optional\n",
      "        Desired dtype of the result. All dtypes are determined by their\n",
      "        name, i.e., 'int64', 'int', etc, so byteorder is not available\n",
      "        and a specific precision may have different C types depending\n",
      "        on the platform. The default value is 'np.int'.\n",
      "    \n",
      "        .. versionadded:: 1.11.0\n",
      "    \n",
      "    Returns\n",
      "    -------\n",
      "    out : int or ndarray of ints\n",
      "        `size`-shaped array of random integers from the appropriate\n",
      "        distribution, or a single such random int if `size` not provided.\n",
      "    \n",
      "    See Also\n",
      "    --------\n",
      "    random.random_integers : similar to `randint`, only for the closed\n",
      "        interval [`low`, `high`], and 1 is the lowest value if `high` is\n",
      "        omitted. In particular, this other one is the one to use to generate\n",
      "        uniformly distributed discrete non-integers.\n",
      "    \n",
      "    Examples\n",
      "    --------\n",
      "    >>> np.random.randint(2, size=10)\n",
      "    array([1, 0, 0, 0, 1, 1, 0, 0, 1, 0])\n",
      "    >>> np.random.randint(1, size=10)\n",
      "    array([0, 0, 0, 0, 0, 0, 0, 0, 0, 0])\n",
      "    \n",
      "    Generate a 2 x 4 array of ints between 0 and 4, inclusive:\n",
      "    \n",
      "    >>> np.random.randint(5, size=(2, 4))\n",
      "    array([[4, 0, 2, 1],\n",
      "           [3, 2, 2, 0]])\n",
      "\n"
     ]
    }
   ],
   "source": [
    "help(np.random.randint)"
   ]
  },
  {
   "cell_type": "code",
   "execution_count": 37,
   "metadata": {},
   "outputs": [
    {
     "data": {
      "text/plain": [
       "array([1, 8, 9, 4, 3])"
      ]
     },
     "execution_count": 37,
     "metadata": {},
     "output_type": "execute_result"
    }
   ],
   "source": [
    "np.random.randint(10, size=5)      # 随机数组，5个[0, 10)上的随机整数"
   ]
  },
  {
   "cell_type": "code",
   "execution_count": 237,
   "metadata": {
    "scrolled": true
   },
   "outputs": [
    {
     "data": {
      "text/plain": [
       "array([[20,  3, 11,  3, 39],\n",
       "       [ 6, 18, 35, 34,  9],\n",
       "       [10, 29, 10, 38, 12]])"
      ]
     },
     "execution_count": 237,
     "metadata": {},
     "output_type": "execute_result"
    }
   ],
   "source": [
    "np.random.randint(0, 50, (3,5))    # 3行5列的随机数组，15个[0,50)上的随机整数"
   ]
  },
  {
   "cell_type": "code",
   "execution_count": 239,
   "metadata": {},
   "outputs": [
    {
     "data": {
      "text/plain": [
       "array([[0.17030157, 0.76505099, 0.01284823, 0.21470602],\n",
       "       [0.51762894, 0.31675429, 0.11942628, 0.67533121],\n",
       "       [0.83975076, 0.16238528, 0.46977362, 0.22050391]])"
      ]
     },
     "execution_count": 239,
     "metadata": {},
     "output_type": "execute_result"
    }
   ],
   "source": [
    "np.random.rand(3, 4)               # 3行4列的随机数组，数据服从[0, 1]上均匀分布"
   ]
  },
  {
   "cell_type": "code",
   "execution_count": 240,
   "metadata": {},
   "outputs": [
    {
     "data": {
      "text/plain": [
       "array([ 0.16954168, -1.7842579 , -0.70560158,  0.40238515, -1.31559363])"
      ]
     },
     "execution_count": 240,
     "metadata": {},
     "output_type": "execute_result"
    }
   ],
   "source": [
    "np.random.standard_normal(5)     # 从标准正态分布中随机采样"
   ]
  },
  {
   "cell_type": "code",
   "execution_count": 307,
   "metadata": {},
   "outputs": [
    {
     "data": {
      "text/plain": [
       "array([[ 0.6621641 ,  1.25748935,  1.37989172,  0.47578539],\n",
       "       [ 0.52361516, -1.380612  , -1.63378183, -0.83424119],\n",
       "       [ 0.29833088, -0.71606921, -0.18654715,  0.27011554]])"
      ]
     },
     "execution_count": 307,
     "metadata": {},
     "output_type": "execute_result"
    }
   ],
   "source": [
    "np.random.standard_normal(size=(3, 4))"
   ]
  },
  {
   "cell_type": "markdown",
   "metadata": {},
   "source": [
    "## 数组的属性<br>\n",
    "<font face='kaiti' size=5 style='line-height:1.5'>\n",
    "\n",
    "&emsp;&emsp;Numpy中多维数组的维度又称为“轴”，如数组`np.array([1,2,3])`只有1个轴(axis = 0)，长度为3；数组`np.array([[1,2,3],[2,3,4]])`有2个轴，第1个轴(axis = 0)长度为2，第2个轴(axis = 1)长度为3. <br>\n",
    "&emsp;&emsp;Numpy中提供了一些函数或方法用于获取数组的属性。\n",
    "1. ndim: 获取数组的维数\n",
    "2. size: 获取数组的元素个数\n",
    "3. shape: 获取数组的大小，也可以用于改变数组的大小\n",
    "\n",
    "&emsp;&emsp;注意与MATLAB中对应功能函数的区别！上述函数可当做numpy的函数使用，也可当做数组的方法使用。此外，numpy的数组还有dtype, itemsize等属性，分别描述数组的元素类型，每个元素的字节数。"
   ]
  },
  {
   "cell_type": "code",
   "execution_count": 195,
   "metadata": {
    "scrolled": false
   },
   "outputs": [
    {
     "name": "stdout",
     "output_type": "stream",
     "text": [
      "[[0.60547661 0.43174265 0.77423078 0.53438459 0.67355711]\n",
      " [0.68084646 0.55409421 0.49261062 0.28850835 0.80807296]\n",
      " [0.23446144 0.48693496 0.67933148 0.83399259 0.97887995]]\n",
      "数组x的维数为： 2\n",
      "数组x的维数为： 2\n",
      "数组x的元素个数为： 15\n",
      "数组x的元素个数为： 15\n",
      "数组x的行数为： 3\n",
      "数组x的列数为： 5\n",
      "数组x的大小为： (3, 5)\n",
      "数组x的大小为： (3, 5)\n",
      "数组x的元素类型： float64\n",
      "数组x的元素的字节数： 8\n"
     ]
    }
   ],
   "source": [
    "x = np.random.random((3,5))\n",
    "print(x)\n",
    "print('数组x的维数为：', x.ndim)\n",
    "print('数组x的维数为：', np.ndim(x))\n",
    "print('数组x的元素个数为：', x.size)\n",
    "print('数组x的元素个数为：', np.size(x))\n",
    "print('数组x的行数为：', np.size(x, 0))   # 数组第 1维的长度\n",
    "print('数组x的列数为：', np.size(x, 1))   # 数组第 2维的长度\n",
    "print('数组x的大小为：', x.shape)\n",
    "print('数组x的大小为：', np.shape(x))\n",
    "print('数组x的元素类型：', x.dtype)\n",
    "print('数组x的元素的字节数：', x.itemsize)"
   ]
  },
  {
   "cell_type": "code",
   "execution_count": 200,
   "metadata": {},
   "outputs": [
    {
     "name": "stdout",
     "output_type": "stream",
     "text": [
      "x1的维数： 1\n",
      "x1的大小： (5,)\n",
      "x2的维数： 0\n",
      "x2的大小： ()\n"
     ]
    }
   ],
   "source": [
    "x1 = np.arange(5)\n",
    "print('x1的维数：', x1.ndim)\n",
    "print('x1的大小：', x1.shape)\n",
    "x2 = 5\n",
    "print('x2的维数：', np.ndim(x2))  # 单独一个数的维数为0， 不能用 x2.ndim\n",
    "print('x2的大小：', np.shape(x2)) "
   ]
  },
  {
   "cell_type": "code",
   "execution_count": 438,
   "metadata": {},
   "outputs": [
    {
     "name": "stdout",
     "output_type": "stream",
     "text": [
      "[[ 0  1  2  3]\n",
      " [ 4  5  6  7]\n",
      " [ 8  9 10 11]]\n",
      "96525408\n",
      "[[ 0  1  2  3  4  5]\n",
      " [ 6  7  8  9 10 11]]\n",
      "96525408\n"
     ]
    }
   ],
   "source": [
    "# shape属性改变数组的大小，这是原地操作\n",
    "x = np.arange(12)\n",
    "x.shape = 3, 4\n",
    "print(x)\n",
    "print(id(x))\n",
    "x.shape = 2, -1  # -1 表示该维自动计算\n",
    "print(x)\n",
    "print(id(x))"
   ]
  },
  {
   "cell_type": "markdown",
   "metadata": {},
   "source": [
    "## 数组元素的访问<br>\n",
    "<font face='kaiti' size=5 style='line-height:1.5'>\n",
    "\n",
    "&emsp;&emsp;在数组变量名后使用方括号表示数组的元素。方括号内可以用索引，也可以用切片，用法与列表元素的访问一致，同样支持双向索引。对n维数组a, `a[]...[]`后面的方括号分别对应axis=0, axis=1, ..., axis =n-1 上的索引号。如果方括号的个数少于数组的维数，则同时访问后面其余轴的多个元素。"
   ]
  },
  {
   "cell_type": "code",
   "execution_count": 85,
   "metadata": {},
   "outputs": [
    {
     "name": "stdout",
     "output_type": "stream",
     "text": [
      "[0 1 2 3 4]\n",
      "x[2] = 2\n",
      "x[-1] = 4\n",
      "x[1:3] = [1 2]\n",
      "x[::-1] = [4 3 2 1 0]\n"
     ]
    }
   ],
   "source": [
    "# 一维数组的访问\n",
    "x = np.arange(5)\n",
    "print(x)\n",
    "print('x[2] =', x[2])\n",
    "print('x[-1] =', x[-1])\n",
    "print('x[1:3] =', x[1:3])\n",
    "print('x[::-1] =', x[::-1])"
   ]
  },
  {
   "cell_type": "code",
   "execution_count": 101,
   "metadata": {},
   "outputs": [
    {
     "name": "stdout",
     "output_type": "stream",
     "text": [
      "x[1,2] = 7\n",
      "x[1,:] = [5 6 7 8 9]\n",
      "x[:,2] = [ 2  7 12]\n",
      "x[2] = [10 11 12 13 14]\n"
     ]
    },
    {
     "data": {
      "text/plain": [
       "array([[0, 1, 2, 3, 4],\n",
       "       [5, 6, 7, 8, 9],\n",
       "       [1, 2, 3, 4, 5]])"
      ]
     },
     "execution_count": 101,
     "metadata": {},
     "output_type": "execute_result"
    }
   ],
   "source": [
    "## 二维数组的访问\n",
    "x = np.array([[0, 1, 2, 3, 4], \n",
    "              [5, 6, 7, 8, 9],\n",
    "              [10, 11, 12, 13, 14]])\n",
    "print('x[1,2] =', x[1,2])\n",
    "print('x[1,:] =', x[1,:])\n",
    "print('x[:,2] =', x[:,2])\n",
    "print('x[2] =', x[2])  # 索引号为2的行，访问多个元素\n",
    "x[-1] = [1,2,3,4,5]    # 修改最后一行\n",
    "x"
   ]
  },
  {
   "cell_type": "markdown",
   "metadata": {},
   "source": [
    "<font face='kaiti' size=5 style='line-height:1.5'>\n",
    "&emsp;&emsp;数组也可以作为可迭代对象，参与迭代。对多维数组迭代是相对于第一个轴（对矩阵，相当于行）完成的。"
   ]
  },
  {
   "cell_type": "code",
   "execution_count": 97,
   "metadata": {
    "scrolled": true
   },
   "outputs": [
    {
     "name": "stdout",
     "output_type": "stream",
     "text": [
      "[0 1 2 3 4]\n",
      "[5 6 7 8 9]\n",
      "[10 11 12 13 14]\n"
     ]
    }
   ],
   "source": [
    "x = np.array([[0, 1, 2, 3, 4], \n",
    "              [5, 6, 7, 8, 9],\n",
    "              [10, 11, 12, 13, 14]])\n",
    "for row in x:\n",
    "    print(row)\n"
   ]
  },
  {
   "cell_type": "markdown",
   "metadata": {},
   "source": [
    "## 数组内容操作<br>\n",
    "<font face='kaiti' size=5 style='line-height:1.5'>\n",
    "    \n",
    "&emsp;&emsp;Numpy数组可以进行添加元素、删除元素、修改元素等内容操作"
   ]
  },
  {
   "cell_type": "code",
   "execution_count": 478,
   "metadata": {},
   "outputs": [
    {
     "name": "stdout",
     "output_type": "stream",
     "text": [
      "[0 1 2 3 4]\n",
      "[0 1 2 3 4 7]\n",
      "[-3  1  2  3  4]\n",
      "[-3  8  1  2  3  4]\n",
      "[-3 -3  1  1  2  2  3  3  4  4]\n"
     ]
    }
   ],
   "source": [
    "x = np.arange(5)\n",
    "print(x)\n",
    "print(np.append(x, 7))  # 增加元素，返回新数组，append()不能作为数组的方法\n",
    "x[0] = -3   # 原地操作，修改元素，索引号不能超出范围\n",
    "print(x)\n",
    "print(np.insert(x, 1, 8))  # 索引号为1的位置插入元素，返回新数组，insert()不能作为数组的方法\n",
    "print(x.repeat(2))  # x 重复，返回新数组"
   ]
  },
  {
   "cell_type": "markdown",
   "metadata": {},
   "source": [
    "## 数组的view() 与copy()\n",
    "<font face='kaiti' size=5 style='line-height:1.5'>\n",
    "&emsp;&emsp;像列表一样，numpy创建的数组也是可变数据类型。因为Python中基于值的内存管理模式，当指向数组的变量a赋值给变量b时，两个变量指向的内存地址一致，若对其中一个变量指向的数组做原地操作，则另一个变量也受同样的影响。"
   ]
  },
  {
   "cell_type": "code",
   "execution_count": 26,
   "metadata": {},
   "outputs": [
    {
     "name": "stdout",
     "output_type": "stream",
     "text": [
      "a =\n",
      " [[ 1  2  3  4  5  6]\n",
      " [ 7  8  9 10 11 12]]\n",
      "b =\n",
      " [[ 1  2  3  4  5  6]\n",
      " [ 7  8  9 10 11 12]]\n",
      "a =\n",
      " [[100   2   3   4   5   6]\n",
      " [  7   8   9  10  11  12]]\n"
     ]
    }
   ],
   "source": [
    "a = np.array([[1,2,3,4],[5,6,7,8],[9,10,11,12]])\n",
    "b = a\n",
    "a.shape = 2,6\n",
    "print('a =\\n', a)\n",
    "print('b =\\n', b)  # a,b的形状一起改变\n",
    "b[0,0] = 100\n",
    "print('a =\\n', a)  # a,b的数据一起改变"
   ]
  },
  {
   "cell_type": "markdown",
   "metadata": {},
   "source": [
    "<font face='kaiti' size=5 style='line-height:1.5'>\n",
    "&emsp;&emsp;Numpy提供一种复制数组的view()方法，创建的新数组与原数组的地址不同，但数据共享。相当于Python的浅复制。    "
   ]
  },
  {
   "cell_type": "code",
   "execution_count": 446,
   "metadata": {},
   "outputs": [
    {
     "name": "stdout",
     "output_type": "stream",
     "text": [
      "[[ 1  2  3  4]\n",
      " [ 5  6  7  8]\n",
      " [ 9 10 11 12]]\n",
      "[[100   2   3   4   5   6]\n",
      " [  7   8   9  10  11  12]]\n"
     ]
    }
   ],
   "source": [
    "a = np.array([[1,2,3,4],[5,6,7,8],[9,10,11,12]])\n",
    "b = a.view()\n",
    "print('a =\\n', a)\n",
    "print('b =\\n', b)   # a的形状改变不影响 b的形状\n",
    "b[0,0] = 100\n",
    "print(a)   # a,b数据共享。b的数据改变，则 a的同样改变"
   ]
  },
  {
   "cell_type": "markdown",
   "metadata": {},
   "source": [
    "<font face='kaiti' size=5 style='line-height:1.5'>\n",
    "&emsp;&emsp;若希望复制后的2个变量指向的数组在此后各自的操作中互不影响，则需用到数组的copy()方法. copy()方法生成数组及其数据的完全拷贝，相当于Python中的深复制。 "
   ]
  },
  {
   "cell_type": "code",
   "execution_count": 447,
   "metadata": {
    "scrolled": true
   },
   "outputs": [
    {
     "name": "stdout",
     "output_type": "stream",
     "text": [
      "[[ 1  2  3  4]\n",
      " [ 5  6  7  8]\n",
      " [ 9 10 11 12]]\n",
      "[[ 1  2  3  4  5  6]\n",
      " [ 7  8  9 10 11 12]]\n"
     ]
    }
   ],
   "source": [
    "a = np.array([[1,2,3,4],[5,6,7,8],[9,10,11,12]])\n",
    "b = a.copy()\n",
    "a.shape = 2,6\n",
    "print('a =\\n', a)\n",
    "print('b =\\n', b)  # a的形状改变不影响 b的形状\n",
    "b[0,0] = 100\n",
    "print(a)  # a,b的数据不共享，改变b的数据不影响 a的数据"
   ]
  },
  {
   "cell_type": "markdown",
   "metadata": {},
   "source": [
    "## 数组形状操作<br>\n",
    "<font face='kaiti' size=5 style='line-height:1.5'>\n",
    "\n",
    "&emsp;&emsp;对数组的shape属性赋值能改变数组的形状。除此之外，还有一些函数也可用于数组的形状操作。\n",
    "- 更改数组的形状：  reshape(),  resize(),  ravel(), flatten(), transpose(), T()\n",
    "- 数组堆叠： hstack(), vstack()"
   ]
  },
  {
   "cell_type": "markdown",
   "metadata": {},
   "source": [
    "<font face='kaiti' size=5 style='line-height:1.5'>\n",
    "\n",
    "1. 更改数组的形状： reshape(),  resize(),  ravel(), flatten(), transpose(), T()"
   ]
  },
  {
   "cell_type": "markdown",
   "metadata": {},
   "source": [
    "<font face='kaiti' size=5 style='line-height:1.5'>\n",
    "    \n",
    "&emsp;`reshape(a, newshape, order='C')`用于改变数组a的形状，默认按行优先`order='C'`的方式重排，也可按列优先`order='F'`的方式重排，要求重排后的数组元素个数相同。reshape()返回一个新数组，并不改变原数组本身，且新数组与原数组的数据共享，即对其中一个做原地操作，另一个同样改变。reshape()即可当做numpy的函数使用，也可当做数组的方法使用。"
   ]
  },
  {
   "cell_type": "code",
   "execution_count": 480,
   "metadata": {
    "scrolled": true
   },
   "outputs": [
    {
     "name": "stdout",
     "output_type": "stream",
     "text": [
      "x = [0 1 2 3 4 5]\n",
      "x1 =\n",
      " [[0 1 2]\n",
      " [3 4 5]]\n",
      "x2 =\n",
      " [[0 2 4]\n",
      " [1 3 5]]\n",
      "x3 =\n",
      " [[0 1]\n",
      " [2 3]\n",
      " [4 5]]\n",
      "x = [0 1 2 3 4 5]\n",
      "x4 =\n",
      " [0 1 2 3 4 5]\n",
      "x5 =\n",
      " [0 2 4 1 3 5]\n",
      "x6 =\n",
      " [[0]\n",
      " [2]\n",
      " [4]\n",
      " [1]\n",
      " [3]\n",
      " [5]]\n"
     ]
    }
   ],
   "source": [
    "# reshape() 当做 numpy的函数使用\n",
    "x = np.arange(6)\n",
    "print('x =', x)\n",
    "x1 = np.reshape(x, (2,3), 'c')  # 按行重排\n",
    "print('x1 =\\n', x1)\n",
    "x2 = np.reshape(x, (2,3), 'f')  # 按列重排\n",
    "print('x2 =\\n', x2)\n",
    "x3 = np.reshape(x, (3,-1))  # 默认按行重排，若维度指定为-1，则自动计算该维度大小\n",
    "print('x3 =\\n', x3)\n",
    "print('x =', x)  # 不改变原数组本身\n",
    "x4 = np.reshape(x3, -1)  # 返回对 x3的按行平铺的行向量\n",
    "print('x4 =\\n', x4)\n",
    "x5 = np.reshape(x3, -1, 'f')  # 返回对 x3的按列平铺的行向量\n",
    "print('x5 =\\n', x5)\n",
    "x6 = np.reshape(x3, (-1,1), 'f')  # 返回对 x3的按列平铺的列向量\n",
    "print('x6 =\\n', x6)"
   ]
  },
  {
   "cell_type": "code",
   "execution_count": 306,
   "metadata": {},
   "outputs": [
    {
     "name": "stdout",
     "output_type": "stream",
     "text": [
      "x6 =\n",
      " [[[ 0  1  2  3]\n",
      "  [ 4  5  6  7]]\n",
      "\n",
      " [[ 8  9 10 11]\n",
      "  [12 13 14 15]]\n",
      "\n",
      " [[16 17 18 19]\n",
      "  [20 21 22 23]]]\n"
     ]
    }
   ],
   "source": [
    "x6 = np.arange(24).reshape(3,2,4)  # 返回一个三维数组\n",
    "print('x6 =\\n', x6)"
   ]
  },
  {
   "cell_type": "code",
   "execution_count": 168,
   "metadata": {
    "scrolled": true
   },
   "outputs": [
    {
     "name": "stdout",
     "output_type": "stream",
     "text": [
      "x = [ 0  1  2  3  4  5  6  7  8  9 10 11]\n",
      "x1 =\n",
      " [[ 0  2  4  6  8 10]\n",
      " [ 1  3  5  7  9 11]]\n",
      "x2 =\n",
      " [[ 0  2  4  6  8 10]\n",
      " [ 1  3  5  7  9 11]]\n",
      "x3 =\n",
      " [[ 0  1  2  3]\n",
      " [ 4  5  6  7]\n",
      " [ 8  9 10 11]]\n",
      "x = [ 0  1  2  3  4  5  6  7  8  9 10 11]\n"
     ]
    },
    {
     "data": {
      "text/plain": [
       "array([ 0,  4,  8,  1,  5,  9,  2,  6, 10,  3,  7, 11])"
      ]
     },
     "execution_count": 168,
     "metadata": {},
     "output_type": "execute_result"
    }
   ],
   "source": [
    "# reshape() 当做数组的方法使用\n",
    "x = np.arange(12)\n",
    "print('x =', x)\n",
    "x1 = x.reshape(2, 6, order='f')   # 按行重排为2行6列的数组，返回重排后的数组\n",
    "print('x1 =\\n', x1) \n",
    "x2 = x.reshape(2, 6, order='f')   # 按列重排为2行6列的数组，返回重排后的数组\n",
    "print('x2 =\\n', x2)\n",
    "x3 = x.reshape(3,-1)  # 维度指定为-1，则自动计算该维度\n",
    "print('x3 =\\n', x3)\n",
    "print('x =', x)  # 使用reshape()重排后，不改变原数组的大小\n",
    "x3.reshape(-1, order='f')  # 返回 对x按列平铺的数组"
   ]
  },
  {
   "cell_type": "code",
   "execution_count": 423,
   "metadata": {},
   "outputs": [
    {
     "name": "stdout",
     "output_type": "stream",
     "text": [
      "[[ 0  1  2  7  4  5]\n",
      " [ 6  7  8  9 10 11]]\n"
     ]
    }
   ],
   "source": [
    "x = np.arange(12)\n",
    "x1 = np.reshape(x, (2,6), 'c')\n",
    "x[3] = 7  # 改变 x 的元素的值，由x用reshape()变形得到的x1同样改变\n",
    "print(x1)"
   ]
  },
  {
   "cell_type": "markdown",
   "metadata": {},
   "source": [
    "<font face='kaiti' size=5 style='line-height:1.5'>\n",
    "&emsp;`resize(a, new_shape)`也用于改变数组a的形状，但只能按行重排，也不允许使用'-1'作为维度。当做numpy的函数使用时，返回一个新数组，当做数组的方法使用时，改变原数组的形状。另外，与reshape()不同的是，resize()函数可允许新矩阵的元素数多于原矩阵元素数，若resize()作为numpy的函数使用，则用原数组的元素填充增加的元素。若作为数组的方法使用，则用0填充增加的元素。另外，resize()作为numpy的函数使用时，返回的新数组与原数组的数据不共享。"
   ]
  },
  {
   "cell_type": "code",
   "execution_count": 426,
   "metadata": {
    "scrolled": true
   },
   "outputs": [
    {
     "name": "stdout",
     "output_type": "stream",
     "text": [
      "[ 0  1  2  3  4  5  6  7  8  9 10 11]\n",
      "x2 =\n",
      " [[ 0  1  2  3  4  5]\n",
      " [ 6  7  8  9 10 11]]\n",
      "x3 = None\n",
      "x =\n",
      " [[ 0  1  2  3  4  5]\n",
      " [ 6  7  8  9 10 11]]\n",
      "x4 =\n",
      " [[ 0  1  2  3  4  5  6  7]\n",
      " [ 8  9 10 11  0  1  2  3]\n",
      " [ 4  5  6  7  8  9 10 11]]\n"
     ]
    },
    {
     "data": {
      "text/plain": [
       "array([[ 0,  1,  2,  3,  4,  5,  6,  7],\n",
       "       [ 8,  9, 10, 11,  0,  0,  0,  0],\n",
       "       [ 0,  0,  0,  0,  0,  0,  0,  0]])"
      ]
     },
     "execution_count": 426,
     "metadata": {},
     "output_type": "execute_result"
    }
   ],
   "source": [
    "# resize() 用于改变数组的形状\n",
    "x = np.arange(12)\n",
    "print(x)\n",
    "x2 = np.resize(x, (2, 6))  # 返回重排后的数组\n",
    "print('x2 =\\n', x2)\n",
    "x3 = x.resize(2, 6)  \n",
    "print('x3 =', x3)   # 返回为空\n",
    "print('x =\\n', x)   # resize()当做数组的方法使用，改变原数组的大小\n",
    "x4 = np.resize(x, (3, 8))\n",
    "print('x4 =\\n', x4)  # 当新形状的元素数量大于原数量时，使用原数组的元素填充\n",
    "x.resize((3,8))\n",
    "x"
   ]
  },
  {
   "cell_type": "code",
   "execution_count": 27,
   "metadata": {},
   "outputs": [
    {
     "name": "stdout",
     "output_type": "stream",
     "text": [
      "[  0   1   2 100   4   5   6   7   8   9  10  11]\n",
      "[[ 0  1  2  3  4  5]\n",
      " [ 6  7  8  9 10 11]]\n"
     ]
    }
   ],
   "source": [
    "# np.resize()返回的新数组的元素不是原数组元素的引用\n",
    "x = np.arange(12)\n",
    "x2 = np.resize(x, (2, 6))  # 返回重排后的数组\n",
    "x[3] = 100\n",
    "print(x)\n",
    "print(x2)"
   ]
  },
  {
   "cell_type": "markdown",
   "metadata": {},
   "source": [
    "<font face='kaiti' size=5 style='line-height:1.5'>\n",
    "&emsp;&emsp;`ravel(a, order='C')`与`a.flatten(order='C')`都可以用于数组a的按行平铺或按列平铺，返回一个新数组，原数组不改变。但ravel()既可作为numpy的函数，又可作为数组的方法使用，而flatten()只能作为数组的方法使用。另外，ravel()返回的数组的元素是原数组的元素的引用，而flatten()返回的数组的元素不是原数组的元素的引用。"
   ]
  },
  {
   "cell_type": "code",
   "execution_count": 419,
   "metadata": {},
   "outputs": [
    {
     "data": {
      "text/plain": [
       "array([ 5,  1,  2,  3,  4,  5,  6,  7,  8,  9, 10, 11])"
      ]
     },
     "execution_count": 419,
     "metadata": {},
     "output_type": "execute_result"
    }
   ],
   "source": [
    "x = np.arange(12).reshape(3,4)\n",
    "y = x.ravel()\n",
    "x[0][0] = 5\n",
    "y"
   ]
  },
  {
   "cell_type": "code",
   "execution_count": 374,
   "metadata": {
    "scrolled": true
   },
   "outputs": [
    {
     "name": "stdout",
     "output_type": "stream",
     "text": [
      "[[ 0  1  2  3]\n",
      " [ 4  5  6  7]\n",
      " [ 8  9 10 11]]\n",
      "按行重排： [ 0  1  2  3  4  5  6  7  8  9 10 11]\n",
      "按列重排： [ 0  4  8  1  5  9  2  6 10  3  7 11]\n",
      "默认按行重排： [ 0  1  2  3  4  5  6  7  8  9 10 11]\n"
     ]
    },
    {
     "data": {
      "text/plain": [
       "array([[ 0,  1,  2,  3],\n",
       "       [ 4,  5,  6,  7],\n",
       "       [ 8,  9, 10, 11]])"
      ]
     },
     "execution_count": 374,
     "metadata": {},
     "output_type": "execute_result"
    }
   ],
   "source": [
    "# flatten()的用法\n",
    "x = np.arange(12).reshape(3,4)\n",
    "print(x)\n",
    "print('按行重排：', x.flatten('c'))  # 按行重排\n",
    "print('按列重排：', x.flatten('f'))  # 按列重排\n",
    "print('默认按行重排：', x.flatten())   # 默认按行重排\n",
    "x  # 不改变 x本身"
   ]
  },
  {
   "cell_type": "code",
   "execution_count": 420,
   "metadata": {
    "scrolled": true
   },
   "outputs": [
    {
     "name": "stdout",
     "output_type": "stream",
     "text": [
      "x =\n",
      " [[ 0  1  2  3]\n",
      " [ 4  5  6  7]\n",
      " [ 8  9 10 11]]\n",
      "x.ravel() =\n",
      " [ 0  1  2  3  4  5  6  7  8  9 10 11]\n",
      "np.ravel(x) =\n",
      " [ 0  1  2  3  4  5  6  7  8  9 10 11]\n",
      "x.ravel(\"f\") =\n",
      " [ 0  4  8  1  5  9  2  6 10  3  7 11]\n",
      "np.ravel(x, \"f\") =\n",
      " [ 0  4  8  1  5  9  2  6 10  3  7 11]\n"
     ]
    },
    {
     "data": {
      "text/plain": [
       "array([[ 0,  1,  2,  3],\n",
       "       [ 4,  5,  6,  7],\n",
       "       [ 8,  9, 10, 11]])"
      ]
     },
     "execution_count": 420,
     "metadata": {},
     "output_type": "execute_result"
    }
   ],
   "source": [
    "# ravel()的含义与flatten()相同，但可作为方法，也可作为函数\n",
    "x = np.arange(12).reshape(3,4)\n",
    "print('x =\\n', x)\n",
    "print('x.ravel() =\\n', x.ravel())  # ravel()作为数组x的方法\n",
    "print('np.ravel(x) =\\n', np.ravel(x))  # ravel()作为numpy的函数\n",
    "print('x.ravel(\"f\") =\\n', x.ravel('f'))  # 按列平铺\n",
    "print('np.ravel(x, \"f\") =\\n', np.ravel(x,'f'))  # 按列平铺"
   ]
  },
  {
   "cell_type": "code",
   "execution_count": 427,
   "metadata": {
    "scrolled": true
   },
   "outputs": [
    {
     "name": "stdout",
     "output_type": "stream",
     "text": [
      "x =\n",
      " [[ 0  1  2  3]\n",
      " [ 4  5  6  7]\n",
      " [ 8  9 10 11]]\n",
      "x = \n",
      " [[ 0  1  7  3]\n",
      " [ 4  5  6  7]\n",
      " [ 8  9 10 11]]\n",
      "x1 =\n",
      " [ 0  1  7  3  4  5  6  7  8  9 10 11]\n",
      "x2 =\n",
      " [ 0  1  2  3  4  5  6  7  8  9 10 11]\n"
     ]
    }
   ],
   "source": [
    "x = np.arange(12).reshape(3,4)\n",
    "x1 = x.ravel()  # ravel()返回的数组的元素是原数组元素的引用\n",
    "x2 = x.flatten()  # flatten()返回的数组的元素不是原数组元素的引用\n",
    "x[0][2] = 7\n",
    "print('x = \\n', x)\n",
    "print('x1 =\\n', x1)\n",
    "print('x2 =\\n', x2)"
   ]
  },
  {
   "cell_type": "markdown",
   "metadata": {},
   "source": [
    "<font face='kaiti' size=5 style='line-height:1.5'>\n",
    "&emsp;&emsp;`transpose(a, axes=None)`用于数组a的转置。返回一个新数组，但不改变a本身，且新数组与原数组的数据共享。对于二维数组a，`numpy.transpose(a)`和`a.transpose()`均表示数组 a 的转置。对于一维数组a，返回a.view()。对于高维数组a，可以指定转置的轴的顺序。若不指定转置的轴的顺序，a.shape = (i[0], i[1], ... i[n-2], i[n-1]), then a.transpose().shape = (i[n-1], i[n-2], ... i[1], i[0]). <br>\n",
    "&emsp;&emsp;a.T也表示 a 的转置，与a.tranpose()含义相同，但不能使用任何输入参数。"
   ]
  },
  {
   "cell_type": "code",
   "execution_count": 461,
   "metadata": {
    "scrolled": true
   },
   "outputs": [
    {
     "name": "stdout",
     "output_type": "stream",
     "text": [
      "x =\n",
      " [[ 0  1  2  3]\n",
      " [ 4  5  6  7]\n",
      " [ 8  9 10 11]]\n",
      "np.transpose(x) =\n",
      " [[ 0  4  8]\n",
      " [ 1  5  9]\n",
      " [ 2  6 10]\n",
      " [ 3  7 11]]\n",
      "x.transpose() =\n",
      " [[ 0  4  8]\n",
      " [ 1  5  9]\n",
      " [ 2  6 10]\n",
      " [ 3  7 11]]\n",
      "x.T =\n",
      " [[ 0  4  8]\n",
      " [ 1  5  9]\n",
      " [ 2  6 10]\n",
      " [ 3  7 11]]\n",
      "[[  0   4   8]\n",
      " [  1   5   9]\n",
      " [  2 100  10]\n",
      " [  3   7  11]]\n",
      "[[  0   4   8]\n",
      " [  1   5   9]\n",
      " [  2 100  10]\n",
      " [  3   7  11]]\n",
      "[[  0   4   8]\n",
      " [  1   5   9]\n",
      " [  2 100  10]\n",
      " [  3   7  11]]\n"
     ]
    }
   ],
   "source": [
    "x = np.arange(12).reshape(3,4)\n",
    "print('x =\\n', x)\n",
    "x1 = np.transpose(x)\n",
    "x2 = x.transpose()\n",
    "x3 = x.T\n",
    "print('np.transpose(x) =\\n', x1)\n",
    "print('x.transpose() =\\n', x2)\n",
    "print('x.T =\\n', x3)\n",
    "x[1][2] = 100\n",
    "print(x1)\n",
    "print(x2)\n",
    "print(x3)"
   ]
  },
  {
   "cell_type": "code",
   "execution_count": 465,
   "metadata": {},
   "outputs": [
    {
     "name": "stdout",
     "output_type": "stream",
     "text": [
      "y =\n",
      " [0 1 2 3]\n",
      "y1 =\n",
      " [0 1 2 3]\n",
      "y2 =\n",
      " [0 1 2 3]\n",
      "y =\n",
      " [[0 1]\n",
      " [2 3]]\n",
      "y1 =\n",
      " [0 1 2 3]\n",
      "y2 =\n",
      " [0 1 2 3]\n",
      "y =\n",
      " [[  0 100]\n",
      " [  2   3]]\n",
      "y1 =\n",
      " [  0 100   2   3]\n",
      "y2 =\n",
      " [  0 100   2   3]\n"
     ]
    }
   ],
   "source": [
    "# 对一维数组，transpose产生该数组的view()\n",
    "y = np.arange(4)\n",
    "y1 = np.transpose(y)\n",
    "y2 = y.T\n",
    "print('y =\\n', y)\n",
    "print('y1 =\\n', y1)\n",
    "print('y2 =\\n', y2)\n",
    "y.shape = 2,2\n",
    "print('y =\\n', y)\n",
    "print('y1 =\\n', y1)\n",
    "print('y2 =\\n', y2)\n",
    "y[0][1] = 100\n",
    "print('y =\\n', y)\n",
    "print('y1 =\\n', y1)\n",
    "print('y2 =\\n', y2)"
   ]
  },
  {
   "cell_type": "code",
   "execution_count": 29,
   "metadata": {
    "scrolled": true
   },
   "outputs": [
    {
     "name": "stdout",
     "output_type": "stream",
     "text": [
      "x =\n",
      " [[[ 0  1]\n",
      "  [ 2  3]\n",
      "  [ 4  5]\n",
      "  [ 6  7]]\n",
      "\n",
      " [[ 8  9]\n",
      "  [10 11]\n",
      "  [12 13]\n",
      "  [14 15]]\n",
      "\n",
      " [[16 17]\n",
      "  [18 19]\n",
      "  [20 21]\n",
      "  [22 23]]]\n",
      "y =\n",
      " [[[ 0  8 16]\n",
      "  [ 2 10 18]\n",
      "  [ 4 12 20]\n",
      "  [ 6 14 22]]\n",
      "\n",
      " [[ 1  9 17]\n",
      "  [ 3 11 19]\n",
      "  [ 5 13 21]\n",
      "  [ 7 15 23]]]\n",
      "z =\n",
      " [[[ 0  2  4  6]\n",
      "  [ 8 10 12 14]\n",
      "  [16 18 20 22]]\n",
      "\n",
      " [[ 1  3  5  7]\n",
      "  [ 9 11 13 15]\n",
      "  [17 19 21 23]]]\n"
     ]
    }
   ],
   "source": [
    "# 三维数组的transpose()\n",
    "x = np.arange(24).reshape(3,4,2)\n",
    "y = np.transpose(x)  # 相当于transpose(x, (2,1,0))，新数组的shape为(2, 4, 3)\n",
    "z = x.transpose((2,0,1))  # 新数组的shape为(2, 3, 4)\n",
    "print('x =\\n', x)\n",
    "print('y =\\n', y)\n",
    "print('z =\\n', z)"
   ]
  },
  {
   "cell_type": "markdown",
   "metadata": {},
   "source": [
    "<font face='kaiti' size=5 style='line-height:1.5'>\n",
    "\n",
    "2. 数组堆叠： \n",
    "hstack(), vstack(): 数组的横向、纵向堆叠；"
   ]
  },
  {
   "cell_type": "code",
   "execution_count": 213,
   "metadata": {
    "scrolled": true
   },
   "outputs": [
    {
     "name": "stdout",
     "output_type": "stream",
     "text": [
      "m1 =\n",
      " [[0 1]\n",
      " [2 3]]\n",
      "m2 =\n",
      " [[3 4]\n",
      " [5 6]]\n",
      "np.hstack(m1, m2) =\n",
      " [[0 1 3 4]\n",
      " [2 3 5 6]]\n",
      "np.vstack(m1, m2) =\n",
      " [[0 1]\n",
      " [2 3]\n",
      " [3 4]\n",
      " [5 6]]\n"
     ]
    }
   ],
   "source": [
    "m1 = np.array([[0, 1], [2, 3]])\n",
    "print('m1 =\\n', m1)\n",
    "m2 = np.arange(3,7).reshape(2,2)\n",
    "print('m2 =\\n', m2)\n",
    "print('np.hstack(m1, m2) =\\n', np.hstack([m1, m2]))\n",
    "print('np.vstack(m1, m2) =\\n', np.vstack((m1, m2)))"
   ]
  },
  {
   "cell_type": "markdown",
   "metadata": {},
   "source": [
    "## 数组与数值的运算<br>\n",
    "<font face='kaiti' size=5 style='line-height:1.5'>\n",
    "&emsp;&emsp;数组与数值之间的可以使用'+, -, *, /, //, %, **'等运算符进行运算，这些运算都是数组的每个元素和数值之间进行对应运算，返回一个新数组。数组与数值之间也可以进行关系运算，返回一个布尔数组。另外，数组与数值之间还可以进行位运算。"
   ]
  },
  {
   "cell_type": "code",
   "execution_count": 432,
   "metadata": {},
   "outputs": [
    {
     "name": "stdout",
     "output_type": "stream",
     "text": [
      "x =\n",
      " [[0 1 2 3]\n",
      " [4 5 6 7]] \n",
      "\n",
      "x * 2 =\n",
      " [[ 0  2  4  6]\n",
      " [ 8 10 12 14]] \n",
      "\n",
      "x + 2 =\n",
      " [[2 3 4 5]\n",
      " [6 7 8 9]] \n",
      "\n",
      "x/2 =\n",
      " [[0.  0.5 1.  1.5]\n",
      " [2.  2.5 3.  3.5]] \n",
      "\n",
      "2/x =\n",
      " [[       inf 2.         1.         0.66666667]\n",
      " [0.5        0.4        0.33333333 0.28571429]] \n",
      "\n",
      "x//2 =\n",
      " [[0 0 1 1]\n",
      " [2 2 3 3]] \n",
      "\n",
      "x % 2 =\n",
      " [[0 1 0 1]\n",
      " [0 1 0 1]] \n",
      "\n",
      "x ** 2 =\n",
      " [[ 0  1  4  9]\n",
      " [16 25 36 49]] \n",
      "\n",
      "x > 2 =\n",
      " [[False False False  True]\n",
      " [ True  True  True  True]]\n",
      "x << 2 =\n",
      " [[ 0  4  8 12]\n",
      " [16 20 24 28]]\n"
     ]
    },
    {
     "name": "stderr",
     "output_type": "stream",
     "text": [
      "D:\\Anaconda3\\lib\\site-packages\\ipykernel_launcher.py:6: RuntimeWarning: divide by zero encountered in true_divide\n",
      "  \n"
     ]
    }
   ],
   "source": [
    "x = np.arange(8).reshape(2,4)\n",
    "print('x =\\n', x, '\\n')\n",
    "print('x * 2 =\\n', x*2, '\\n')\n",
    "print('x + 2 =\\n', x + 2, '\\n')\n",
    "print('x/2 =\\n', x / 2, '\\n')\n",
    "print('2/x =\\n', 2 / x, '\\n')  # 此处产生被 0 除的异常\n",
    "print('x//2 =\\n', x//2, '\\n')\n",
    "print('x % 2 =\\n', x % 2, '\\n')\n",
    "print('x ** 2 =\\n', x ** 2, '\\n')\n",
    "print('x > 2 =\\n', x > 2)   # 关系运算\n",
    "print('x << 2 =\\n', x << 2)  # 向左移位"
   ]
  },
  {
   "cell_type": "markdown",
   "metadata": {},
   "source": [
    "## 数组与数组的运算<br>\n",
    "<font face='kaiti' size=5 style='line-height:1.5'>\n",
    "    \n",
    "- 同样大小的数组之间的可以使用`+, -, *, /, //, %, **`等算术运算符进行运算，也可以进行关系运算以及位运算。这些运算都是数组的对应元素之间进行运算，返回一个新数组。<br>"
   ]
  },
  {
   "cell_type": "code",
   "execution_count": 313,
   "metadata": {
    "scrolled": true
   },
   "outputs": [
    {
     "name": "stdout",
     "output_type": "stream",
     "text": [
      "a =\n",
      " [[14 32 45]\n",
      " [17 16 17]\n",
      " [14 30 44]\n",
      " [21 34 44]]\n",
      "b =\n",
      " [[ 1  2  3]\n",
      " [ 4  5  6]\n",
      " [ 7  8  9]\n",
      " [10 11 12]]\n",
      "a + b =\n",
      " [[15 34 48]\n",
      " [21 21 23]\n",
      " [21 38 53]\n",
      " [31 45 56]]\n",
      "a * b =\n",
      " [[ 14  64 135]\n",
      " [ 68  80 102]\n",
      " [ 98 240 396]\n",
      " [210 374 528]]\n",
      "a ** b =\n",
      " [[                  14                 1024                91125]\n",
      " [               83521              1048576             24137569]\n",
      " [           105413504         656100000000      618121839509504]\n",
      " [      16679880978201    70188843638032384 -2686141444351066112]]\n",
      "a > 2*b\n",
      " [[ True  True  True]\n",
      " [ True  True  True]\n",
      " [False  True  True]\n",
      " [ True  True  True]]\n"
     ]
    }
   ],
   "source": [
    "a = np.random.randint(10, 50, (4,3), dtype='int64')  \n",
    "b = np.arange(1,13).reshape(4,3)\n",
    "print('a =\\n', a)\n",
    "print('b =\\n', b)\n",
    "print('a + b =\\n', a + b)\n",
    "print('a * b =\\n', a * b)\n",
    "print('a ** b =\\n', a**b)\n",
    "print('a > 2*b\\n', a > 2*b)"
   ]
  },
  {
   "cell_type": "markdown",
   "metadata": {},
   "source": [
    "<font face='kaiti' size=5 style='line-height:1.5'>\n",
    "\n",
    "- 数组之间也可以使用运算符`@`表示两个数组进行<font color=#ff0000>矩阵乘法</font>运算，要求两个数组的大小需符合矩阵乘法的规则。"
   ]
  },
  {
   "cell_type": "code",
   "execution_count": 435,
   "metadata": {
    "scrolled": true
   },
   "outputs": [
    {
     "name": "stdout",
     "output_type": "stream",
     "text": [
      "a =\n",
      " [[1 2 3]\n",
      " [2 3 4]]\n",
      "b =\n",
      " [[ 0  1  2  3]\n",
      " [ 4  5  6  7]\n",
      " [ 8  9 10 11]]\n",
      "a @ b =\n",
      " [[32 38 44 50]\n",
      " [44 53 62 71]]\n"
     ]
    }
   ],
   "source": [
    "a = np.array([[1,2,3],[2,3,4]])\n",
    "b = np.arange(12).reshape(3,4)\n",
    "print('a =\\n', a)\n",
    "print('b =\\n', b)\n",
    "print('a @ b =\\n', a @ b)"
   ]
  },
  {
   "cell_type": "markdown",
   "metadata": {},
   "source": [
    "<font face='kaiti' size=5 style='line-height:1.5'>\n",
    "\n",
    "- 数组的运算也支持复合赋值运算符，如`+=, *=`等，这种赋值运算符将替换原数组的数据，而不产生新数组，但要求左边的数组大小与运算后的一致，不适用广播机制。"
   ]
  },
  {
   "cell_type": "markdown",
   "metadata": {},
   "source": [
    "## 广播<br>\n",
    "<font face='kaiti' size=5 style='line-height:1.5'>\n",
    "    \n",
    "&emsp;&emsp;Python的广播机制让行向量与矩阵、列向量与矩阵、行向量与列向量之间可以进行算术运算和关系运算。对行向量的规则是：将行向量复制成多行矩阵，行数与另一个的行数相同，两者间的运算变成两个矩阵的运算，能进行运算的前提是两者的列数相同。列向量的规则与之类似。"
   ]
  },
  {
   "cell_type": "code",
   "execution_count": 315,
   "metadata": {},
   "outputs": [
    {
     "name": "stdout",
     "output_type": "stream",
     "text": [
      "a =\n",
      " [1 2 3 4]\n",
      "b =\n",
      " [[ 1  2  3  4]\n",
      " [ 5  6  7  8]\n",
      " [ 9 10 11 12]]\n",
      "a + b =\n",
      " [[ 2  4  6  8]\n",
      " [ 6  8 10 12]\n",
      " [10 12 14 16]]\n",
      "a * b =\n",
      " [[ 1  4  9 16]\n",
      " [ 5 12 21 32]\n",
      " [ 9 20 33 48]]\n",
      "a ** b =\n",
      " [[       1        4       27      256]\n",
      " [       1       64     2187    65536]\n",
      " [       1     1024   177147 16777216]]\n",
      "2*a >= b\n",
      " [[ True  True  True  True]\n",
      " [False False False False]\n",
      " [False False False False]]\n"
     ]
    }
   ],
   "source": [
    "# 行向量与矩阵运算，相当于先将行向量a复制成同样大小的矩阵\n",
    "a = np.array([1, 2, 3, 4])\n",
    "b = np.arange(1,13).reshape(3, 4)\n",
    "print('a =\\n', a)\n",
    "print('b =\\n', b)\n",
    "print('a + b =\\n', a + b)\n",
    "print('a * b =\\n', a * b)\n",
    "print('a ** b =\\n', a**b)\n",
    "print('2*a >= b\\n', 2*a > b)"
   ]
  },
  {
   "cell_type": "code",
   "execution_count": 317,
   "metadata": {},
   "outputs": [
    {
     "name": "stdout",
     "output_type": "stream",
     "text": [
      "a =\n",
      " [[1]\n",
      " [2]\n",
      " [3]]\n",
      "b =\n",
      " [[ 1  2  3  4]\n",
      " [ 5  6  7  8]\n",
      " [ 9 10 11 12]]\n",
      "a + b =\n",
      " [[ 2  3  4  5]\n",
      " [ 7  8  9 10]\n",
      " [12 13 14 15]]\n",
      "a * b =\n",
      " [[ 1  2  3  4]\n",
      " [10 12 14 16]\n",
      " [27 30 33 36]]\n",
      "a ** b =\n",
      " [[     1      1      1      1]\n",
      " [    32     64    128    256]\n",
      " [ 19683  59049 177147 531441]]\n",
      "3*a >= b\n",
      " [[ True  True False False]\n",
      " [ True False False False]\n",
      " [False False False False]]\n"
     ]
    }
   ],
   "source": [
    "# 列向量与矩阵运算，相当于先将列向量a复制成一个同样大小的矩阵\n",
    "a = np.arange(1,4).reshape(3,1)\n",
    "b = np.arange(1,13).reshape(3, 4)\n",
    "print('a =\\n', a)\n",
    "print('b =\\n', b)\n",
    "print('a + b =\\n', a + b)\n",
    "print('a * b =\\n', a * b)\n",
    "print('a ** b =\\n', a**b)\n",
    "print('3*a >= b\\n', 3*a > b)"
   ]
  },
  {
   "cell_type": "code",
   "execution_count": 31,
   "metadata": {},
   "outputs": [
    {
     "name": "stdout",
     "output_type": "stream",
     "text": [
      "a =\n",
      " [[1]\n",
      " [2]\n",
      " [3]]\n",
      "b =\n",
      " [1 2 3 4]\n",
      "a + b =\n",
      " [[2 3 4 5]\n",
      " [3 4 5 6]\n",
      " [4 5 6 7]]\n",
      "a * b =\n",
      " [[ 1  2  3  4]\n",
      " [ 2  4  6  8]\n",
      " [ 3  6  9 12]]\n",
      "a ** b =\n",
      " [[ 1  1  1  1]\n",
      " [ 2  4  8 16]\n",
      " [ 3  9 27 81]]\n",
      "2*a > b\n",
      " [[ True False False False]\n",
      " [ True  True  True False]\n",
      " [ True  True  True  True]]\n"
     ]
    }
   ],
   "source": [
    "# 以下的运算相当于先将a，b均复制成一个3行4列的矩阵\n",
    "a = np.arange(1,4).reshape(3,1)\n",
    "b = np.arange(1,5)\n",
    "print('a =\\n', a)\n",
    "print('b =\\n', b)\n",
    "print('a + b =\\n', a + b)\n",
    "print('a * b =\\n', a * b)\n",
    "print('a ** b =\\n', a**b)\n",
    "print('2*a > b\\n', 2*a > b)"
   ]
  },
  {
   "cell_type": "markdown",
   "metadata": {},
   "source": [
    "## 线性代数<br>\n",
    "<font face='kaiti' size=5 style='line-height:1.5'>\n",
    "\n",
    "&emsp;&emsp;Numpy库提供了很多用于线性代数运算的函数， 如： dot(), vdot(), inner(), outer(), matmul(), trace()等函数，另外，还有专门用于线性代数运算的子模块linalg，其中常用的函数有det(), inv(), solve(), eig()等。"
   ]
  },
  {
   "cell_type": "markdown",
   "metadata": {},
   "source": [
    "<font face='kaiti' size=5 style='line-height:1.5'>\n",
    "    \n",
    "1. `numpy.dot(a, b)`或`a.dot(b)`求数组a, b的点积。当a, b都是一维数组时，返回a, b的内积；当a, b都是二维数组时，返回a, b的矩阵乘积；当其中有一个是数时，返回数乘的结果。"
   ]
  },
  {
   "cell_type": "code",
   "execution_count": 331,
   "metadata": {},
   "outputs": [
    {
     "name": "stdout",
     "output_type": "stream",
     "text": [
      "[2 3 4]\n",
      "20\n",
      "20\n"
     ]
    }
   ],
   "source": [
    "a = np.array([1, 2, 3])\n",
    "b = np.array([2, 3, 4])\n",
    "print(a.dot(b))\n",
    "print(b.dot(a))"
   ]
  },
  {
   "cell_type": "code",
   "execution_count": 323,
   "metadata": {},
   "outputs": [
    {
     "name": "stdout",
     "output_type": "stream",
     "text": [
      "[[37 40]\n",
      " [85 92]]\n"
     ]
    }
   ],
   "source": [
    "a = np.array([[1,2],[3,4]])\n",
    "b = np.array([[11,12],[13,14]])\n",
    "print(np.dot(a,b))"
   ]
  },
  {
   "cell_type": "code",
   "execution_count": 332,
   "metadata": {},
   "outputs": [
    {
     "name": "stdout",
     "output_type": "stream",
     "text": [
      "[[20]]\n",
      "[[ 2  4  6]\n",
      " [ 3  6  9]\n",
      " [ 4  8 12]]\n"
     ]
    }
   ],
   "source": [
    "# 注意： 这里a, b都是二维数组\n",
    "a = np.array([[1, 2, 3]])\n",
    "b = np.array([2, 3, 4]).reshape(3,1)\n",
    "print(a.dot(b))\n",
    "print(b.dot(a))"
   ]
  },
  {
   "cell_type": "markdown",
   "metadata": {},
   "source": [
    "<font face='kaiti' size=5 style='line-height:1.5'>\n",
    "    \n",
    "2. `numpy.vdot(a, b)`求向量a, b的点积。当a, b中存在多维数组时，先将其平铺为向量，再求内积。如果在复数域，则在求内积时需对第1个向量取共轭。"
   ]
  },
  {
   "cell_type": "code",
   "execution_count": 336,
   "metadata": {},
   "outputs": [
    {
     "name": "stdout",
     "output_type": "stream",
     "text": [
      "130\n"
     ]
    }
   ],
   "source": [
    "a = np.array([[1, 2, 3, 4]])\n",
    "b = np.array([[11,12],[13,14]])\n",
    "print(np.vdot(a, b))"
   ]
  },
  {
   "cell_type": "markdown",
   "metadata": {},
   "source": [
    "<font face='kaiti' size=5 style='line-height:1.5'>\n",
    "    \n",
    "3. `numpy.inner(a, b)` 返回一维数组a, b的向量内积。对于更高的维度，它返回最后一个轴上的和的乘积。以下的例子相当于计算\n",
    "```python\n",
    "[1*11+2*12, 1*13+2*14 \n",
    " 3*11+4*12, 3*13+4*14]\n",
    "```"
   ]
  },
  {
   "cell_type": "code",
   "execution_count": 346,
   "metadata": {},
   "outputs": [
    {
     "name": "stdout",
     "output_type": "stream",
     "text": [
      "数组 a：\n",
      "[[1 2]\n",
      " [3 4]]\n",
      "数组 b：\n",
      "[[11 12]\n",
      " [13 14]]\n",
      "内积：\n",
      "[[35 41]\n",
      " [81 95]]\n"
     ]
    }
   ],
   "source": [
    "a = np.array([[1,2], [3,4]])  \n",
    "print ('数组 a：')\n",
    "print (a)\n",
    "\n",
    "b = np.array([[11, 12], [13, 14]])  \n",
    "print ('数组 b：')\n",
    "print (b) \n",
    "\n",
    "print ('内积：')\n",
    "print (np.inner(a,b))"
   ]
  },
  {
   "cell_type": "markdown",
   "metadata": {},
   "source": [
    "<font face='kaiti' size=5 style='line-height:1.5'>\n",
    "    \n",
    "4. `numpy.outer(a, b)` 返回一维数组a, b的向量外积。即`out[i, j] = a[i] * b[j]`，相当于矩阵乘法中列向量 a 乘上行向量 b。"
   ]
  },
  {
   "cell_type": "code",
   "execution_count": 343,
   "metadata": {},
   "outputs": [
    {
     "name": "stdout",
     "output_type": "stream",
     "text": [
      "[[ 2  4]\n",
      " [ 4  8]\n",
      " [ 6 12]]\n"
     ]
    }
   ],
   "source": [
    "a = np.array([1, 2, 3])\n",
    "b = np.array([2, 4])\n",
    "print(np.outer(a, b))"
   ]
  },
  {
   "cell_type": "markdown",
   "metadata": {},
   "source": [
    "<font face='kaiti' size=5 style='line-height:1.5'>\n",
    "    \n",
    "5. `numpy.matmul(a, b)` 返回矩阵a, b的乘积。"
   ]
  },
  {
   "cell_type": "code",
   "execution_count": 344,
   "metadata": {},
   "outputs": [
    {
     "name": "stdout",
     "output_type": "stream",
     "text": [
      "[[ 8  5]\n",
      " [20 13]]\n"
     ]
    }
   ],
   "source": [
    "a = np.array([[1, 2], [3, 4]])\n",
    "b = np.array([[4, 3], [2, 1]])\n",
    "print(np.matmul(a, b))"
   ]
  },
  {
   "cell_type": "markdown",
   "metadata": {},
   "source": [
    "<font face='kaiti' size=5 style='line-height:1.5'>\n",
    "    \n",
    "6. `numpy.trace(a)`或`a.trace()` 返回矩阵a的迹，即矩阵对角线元素之和。"
   ]
  },
  {
   "cell_type": "code",
   "execution_count": 348,
   "metadata": {},
   "outputs": [
    {
     "name": "stdout",
     "output_type": "stream",
     "text": [
      "5\n",
      "5\n"
     ]
    }
   ],
   "source": [
    "a = np.array([[1, 2], [3, 4]])\n",
    "print(a.trace())\n",
    "print(np.trace(a))"
   ]
  },
  {
   "cell_type": "markdown",
   "metadata": {},
   "source": [
    "<font face='kaiti' size=5 style='line-height:1.5'>\n",
    "\n",
    "7. Numpy的子模块linalg中，提供了`det(), inv(), eig(), solve()`等函数分别用于求矩阵的行列式，逆矩阵，特征值与特征向量，以及解方程组。"
   ]
  },
  {
   "cell_type": "code",
   "execution_count": 358,
   "metadata": {},
   "outputs": [
    {
     "name": "stdout",
     "output_type": "stream",
     "text": [
      "a =\n",
      " [[1 2]\n",
      " [3 4]]\n",
      "b =\n",
      " [1 2]\n",
      "np.linalg.det(a) =\n",
      " -2.0000000000000004\n",
      "np.linalg.inv(a) =\n",
      " [[-2.   1. ]\n",
      " [ 1.5 -0.5]]\n",
      "np.linalg.eig(a) =\n",
      " (array([-0.37228132,  5.37228132]), array([[-0.82456484, -0.41597356],\n",
      "       [ 0.56576746, -0.90937671]]))\n",
      "求解ax = b, 得 x =\n",
      " [0.  0.5]\n"
     ]
    }
   ],
   "source": [
    "a = np.arange(1,5).reshape(2,2)\n",
    "b = np.array([1, 2])\n",
    "print('a =\\n', a)\n",
    "print('b =\\n', b)\n",
    "print('np.linalg.det(a) =\\n', np.linalg.det(a))\n",
    "print('np.linalg.inv(a) =\\n', np.linalg.inv(a))\n",
    "print('np.linalg.eig(a) =\\n', np.linalg.eig(a))\n",
    "print('求解ax = b, 得 x =\\n', np.linalg.solve(a, b))"
   ]
  },
  {
   "cell_type": "markdown",
   "metadata": {},
   "source": [
    "<font face='kaiti' size=5 style='line-height:1.5'>\n",
    "&emsp;&emsp;另外，linalg模块还提供了一些其他函数。cholesky()用于矩阵的cholesky分解；cond()用于求矩阵的条件数；lstsq()用于求方程组的最小二乘解；norm()用于求数组的范数；qr()用于矩阵的QR分解；svd()用于矩阵的奇异值分解。当需要时，自己查阅帮助。<br>\n",
    "&emsp;&emsp;更多的，请查看 https://www.numpy.org/devdocs/reference/routines.linalg.html"
   ]
  },
  {
   "cell_type": "markdown",
   "metadata": {},
   "source": [
    "## 数学函数\n",
    "\n",
    "|函 数| 描 述 |\n",
    "|:---|:---|\n",
    "|abs(p), fabs(p)|数组p的各元素的绝对值|\n",
    "|conj(p)|数组p的各元素的共轭|\n",
    "|exp(p)|计算数组p的各元素的以e为底的指数函数值|\n",
    "|log(p)|数组p的各元素的自然对数值|\n",
    "|log2(p)|数组p的各元素的以2为底的对数值|\n",
    "|log10(p)|数组p的各元素的以10为底的对数值|\n",
    "|sqrt(p)|数组p的各元素的平方根|\n",
    "|sin(p),cos(p),tan(p)|数组p的各元素的正弦值，余弦值，正切值|\n",
    "|arcsin(p),arccos(p),arctan(p)|数组p的各元素的反正弦，反余弦，反正切|\n",
    "|maximum(a, b),fmax(a,b)|数组a,b中逐元素求最大值|\n",
    "|minimum(a, b),fmin(a,b)|数组a,b中逐元素求最小值|\n",
    "|isfinite(a)|逐元素检测数组a元素是否有限值|\n",
    "|isinf(a)|逐元素检测数组a中元素是否无穷大|\n",
    "|isnan(a)|逐元素检测数组a中元素是否非数NaN|\n",
    "|isnat(a)|逐元素检测数组a中元素是否非时间Not a time|\n",
    "|round(a)|逐元素对数组a中元素做四舍五入|\n",
    "|floor(a)|逐元素对数组a中元素向下取整|\n",
    "|ceil(a)|逐元素对数组a中元素向上取整|\n",
    "|fix(a)|逐元素对数组a中元素做截尾取整|\n",
    "|sign(a)|逐元素求数组a中元素的符号|\n",
    "|prod(a[, axis, ...])|数组a沿某轴求元素的乘积|\n",
    "|sum(a[, axis, ...])|数组a沿某轴求元素的和|\n",
    "\n",
    "更多请查看 https://www.numpy.org/devdocs/reference/routines.math.html"
   ]
  },
  {
   "cell_type": "markdown",
   "metadata": {},
   "source": [
    "## 排序、搜索、计数\n",
    "\n",
    "|函 数| 描 述 |\n",
    "|:---|:---|\n",
    "|sort(a[, axis, kind, order])|对数组a沿某轴排序|\n",
    "|argsort(a[, axis, kind, order])|对数组a沿某轴排序，返回原索引号|\n",
    "|a.sort([axis, kind, order])|对数组a沿某轴排序，排序后的数组替代原数组|\n",
    "|argmax(a[, axis, out])|对数组a沿某轴求最大值，返回最大值元素索引号|\n",
    "|argmin(a[, axis, out])|对数组a沿某轴求最小值，返回最小值元素索引号|\n",
    "|nonzero(a)|返回数组a的非零元的索引号|\n",
    "|where(condition, [x, y])|按条件condition，在x或y中选择元素返回|\n",
    "|count_nonzero(a[, axis])|对数组a沿某轴的非零元计数|\n",
    "\n",
    "更多请查看 https://www.numpy.org/devdocs/reference/routines.sort.html"
   ]
  },
  {
   "cell_type": "code",
   "execution_count": 12,
   "metadata": {},
   "outputs": [
    {
     "data": {
      "text/plain": [
       "array([[1, 2, 3],\n",
       "       [4, 5, 6]])"
      ]
     },
     "execution_count": 12,
     "metadata": {},
     "output_type": "execute_result"
    }
   ],
   "source": [
    "import numpy as np\n",
    "np.r_[np.array([1,2,3]), 0, 0, np.array([4,5,6])]\n",
    "np.r_[-1:1:6j, [0]*3, 5, 6]\n",
    "np.array([ [1,2,3], [4,5,6]])"
   ]
  },
  {
   "cell_type": "markdown",
   "metadata": {},
   "source": [
    "## 统计函数\n",
    "\n",
    "| 函 数 | 描 述 |\n",
    "|:---|:---|\n",
    "|amin(a[,axis, ...])|对数组a沿某轴求最小值|\n",
    "|amax(a[,axis, ...])|对数组a沿某轴求最大值|\n",
    "|ptp(a[,axis, ...])|对数组a沿某轴求取值范围|\n",
    "|percentile(a, q[, axis,...])|对数组a沿某轴求百分位数|\n",
    "|quantile(a, q[, axis,...])|对数组a沿某轴求分位数|\n",
    "|median(a[, axis, ...])|对数组a沿某轴求中位数|\n",
    "|average(a[, axis, weights,...])|对数组a沿某轴求加权平均数|\n",
    "|mean(a[, axis, ...])|对数组a沿某轴求平均值|\n",
    "|std(a[, axis,...])|对数组a沿某轴求标准差|\n",
    "|var(a[, axis, ...])|对数组a沿某轴求方差|\n",
    "|corrcoef(x[, y,...])|返回Pearson相关系数|\n",
    "|correlate(a, v[, mode])|返回2个一维向量的互相关系数|\n",
    "|cov(m[, y,...])|估计协方差矩阵|\n",
    "|histogram(a[, bins, range,...])| 计算数据集的直方图|\n",
    "\n",
    "更多请查看 https://www.numpy.org/devdocs/reference/routines.statistics.html"
   ]
  },
  {
   "cell_type": "code",
   "execution_count": 6,
   "metadata": {},
   "outputs": [
    {
     "name": "stdout",
     "output_type": "stream",
     "text": [
      "[[[ 0  1  2  3  4  5  6  7]\n",
      "  [ 8  9 10 11 12 13 14 15]\n",
      "  [16 17 18 19 20 21 22 23]]]\n"
     ]
    }
   ],
   "source": [
    "import numpy as np\n",
    "a=np.arange(24)\n",
    "b=a.reshape(1,3,8)\n",
    "print(b)"
   ]
  },
  {
   "cell_type": "code",
   "execution_count": 9,
   "metadata": {},
   "outputs": [
    {
     "name": "stdout",
     "output_type": "stream",
     "text": [
      "[1 2 3 4 5 6]\n",
      "[1 2 3 4 5 6]\n"
     ]
    }
   ],
   "source": [
    "c=np.array([1,2,3,4,5,6])\n",
    "print(c)\n",
    "d=np.array(c)\n",
    "print(d)"
   ]
  },
  {
   "cell_type": "code",
   "execution_count": 10,
   "metadata": {},
   "outputs": [
    {
     "data": {
      "text/plain": [
       "21"
      ]
     },
     "execution_count": 10,
     "metadata": {},
     "output_type": "execute_result"
    }
   ],
   "source": [
    "np.sum(c)"
   ]
  },
  {
   "cell_type": "code",
   "execution_count": 11,
   "metadata": {},
   "outputs": [
    {
     "data": {
      "text/plain": [
       "6"
      ]
     },
     "execution_count": 11,
     "metadata": {},
     "output_type": "execute_result"
    }
   ],
   "source": [
    "len(c)"
   ]
  },
  {
   "cell_type": "code",
   "execution_count": 13,
   "metadata": {},
   "outputs": [
    {
     "data": {
      "text/plain": [
       "1"
      ]
     },
     "execution_count": 13,
     "metadata": {},
     "output_type": "execute_result"
    }
   ],
   "source": [
    "np.arange(5)[1]"
   ]
  },
  {
   "cell_type": "code",
   "execution_count": 14,
   "metadata": {},
   "outputs": [
    {
     "data": {
      "text/plain": [
       "array([1.])"
      ]
     },
     "execution_count": 14,
     "metadata": {},
     "output_type": "execute_result"
    }
   ],
   "source": [
    "np.ones(1)"
   ]
  },
  {
   "cell_type": "code",
   "execution_count": null,
   "metadata": {},
   "outputs": [],
   "source": []
  }
 ],
 "metadata": {
  "kernelspec": {
   "display_name": "Python 3",
   "language": "python",
   "name": "python3"
  },
  "language_info": {
   "codemirror_mode": {
    "name": "ipython",
    "version": 3
   },
   "file_extension": ".py",
   "mimetype": "text/x-python",
   "name": "python",
   "nbconvert_exporter": "python",
   "pygments_lexer": "ipython3",
   "version": "3.7.3"
  },
  "latex_envs": {
   "LaTeX_envs_menu_present": true,
   "autoclose": false,
   "autocomplete": true,
   "bibliofile": "biblio.bib",
   "cite_by": "apalike",
   "current_citInitial": 1,
   "eqLabelWithNumbers": true,
   "eqNumInitial": 1,
   "hotkeys": {
    "equation": "Ctrl-E",
    "itemize": "Ctrl-I"
   },
   "labels_anchors": false,
   "latex_user_defs": false,
   "report_style_numbering": false,
   "user_envs_cfg": false
  },
  "toc": {
   "base_numbering": "11",
   "nav_menu": {},
   "number_sections": true,
   "sideBar": true,
   "skip_h1_title": false,
   "title_cell": "Table of Contents",
   "title_sidebar": "Contents",
   "toc_cell": true,
   "toc_position": {},
   "toc_section_display": true,
   "toc_window_display": false
  }
 },
 "nbformat": 4,
 "nbformat_minor": 2
}
