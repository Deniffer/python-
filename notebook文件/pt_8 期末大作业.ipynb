{
 "cells": [
  {
   "cell_type": "code",
   "execution_count": 24,
   "metadata": {},
   "outputs": [
    {
     "name": "stdout",
     "output_type": "stream",
     "text": [
      "    * * * * *\n",
      " *            *\n",
      "*    @    @    *\n",
      "*              *\n",
      "*       @      *\n",
      "*              *\n",
      " *            *\n",
      "  *          *  \n",
      "    * * * * *\n"
     ]
    }
   ],
   "source": [
    "#2 实战部分 绘制石头怪\n",
    "print(\" \"*3+\" *\"*5)\n",
    "print(\" \"+\"*\"+\" \"*12+\"*\")\n",
    "print(\"*\"+\" \"*4+\"@\"+\" \"*4+\"@\"+\" \"*4+\"*\")\n",
    "print(\"*\"+\" \"*14+\"*\")\n",
    "print(\"*\"+\" \"*7+\"@\"+\" \"*6+\"*\")\n",
    "print(\"*\"+\" \"*14+\"*\")\n",
    "print(\" \"+\"*\"+\" \"*12+\"*\")\n",
    "print(\" \"*2+\"*\"+\" \"*10+\"*\"+\" \"*2)\n",
    "print(\" \"*3+\" *\"*5)"
   ]
  },
  {
   "cell_type": "code",
   "execution_count": 26,
   "metadata": {},
   "outputs": [
    {
     "name": "stdout",
     "output_type": "stream",
     "text": [
      "请输入父亲的身高：1.8\n",
      "请输入母亲的身高：1.5\n",
      "预测儿子身高为：1.7820\n"
     ]
    }
   ],
   "source": [
    "#实战部分 预测儿子身高\n",
    "father_height=float(input(\"请输入父亲的身高：\"))\n",
    "mother_height=float(input(\"请输入母亲的身高：\"))\n",
    "print(\"预测儿子身高为：%.4f\"%(0.54*(father_height+mother_height)))"
   ]
  },
  {
   "cell_type": "code",
   "execution_count": 29,
   "metadata": {},
   "outputs": [
    {
     "name": "stdout",
     "output_type": "stream",
     "text": [
      "请输入当天行走的步数！\n",
      "13149\n",
      "今天共消耗卡路里：368172 (即368.172千卡)\n"
     ]
    }
   ],
   "source": [
    "#实战4 计算消耗热量值\n",
    "step=eval(input(\"请输入当天行走的步数！\\n\"))\n",
    "print(\"今天共消耗卡路里：%i (即%.3f千卡)\"%(step*28,step*28/1000))"
   ]
  },
  {
   "cell_type": "code",
   "execution_count": 48,
   "metadata": {},
   "outputs": [
    {
     "name": "stdout",
     "output_type": "stream",
     "text": [
      "------猜数字游戏------\n",
      "请输入一个1~10之间的任意一个数字：\n",
      "6\n",
      "太大，请重新输入：\n",
      "\n",
      "4\n",
      "太大，请重新输入：\n",
      "\n",
      "3\n",
      "恭喜你，你赢了，猜中的数字是：3\n",
      "--------游戏结束--------\n"
     ]
    }
   ],
   "source": [
    "#猜数字游戏\n",
    "import random\n",
    "print(\"------猜数字游戏------\")\n",
    "guess_num=eval(input(\"请输入一个1~10之间的任意一个数字：\\n\"))\n",
    "random_num=random.randint(1,10)\n",
    "while(guess_num):\n",
    "    if random_num==guess_num:\n",
    "        print(\"恭喜你，你赢了，猜中的数字是：%i\"%guess_num)\n",
    "        break\n",
    "    elif guess_num<random_num:\n",
    "        print(\"太小，请重新输入：\\n\")\n",
    "        guess_num=eval(input())\n",
    "    elif guess_num>random_num:\n",
    "        print(\"太大，请重新输入：\\n\")\n",
    "        guess_num=eval(input())\n",
    "    elif guess_num==-1:\n",
    "        print(\"退出游戏！\")\n",
    "        break\n",
    "print(\"--------游戏结束--------\")"
   ]
  },
  {
   "cell_type": "code",
   "execution_count": null,
   "metadata": {},
   "outputs": [],
   "source": [
    "#实战3 模拟跳一跳\n",
    "print(\"--------------跳一跳-----------\\n\")\n",
    "print(\"欢迎回来，请开始游戏······\")\n",
    "print(\"请输入(中心、音乐块、微信支付块):\")\n",
    "get=input(\"请输入：\")\n",
    "if get==\"音乐块\":\n",
    "    print(\"你的分数为：30\")\n",
    "elif get==\"中心\":\n",
    "    print(\"你的分数为:32\")\n",
    "elif get==\"微信支付块\":\n",
    "    print(\"您的分数为：42\")"
   ]
  },
  {
   "cell_type": "code",
   "execution_count": 3,
   "metadata": {},
   "outputs": [
    {
     "name": "stdout",
     "output_type": "stream",
     "text": [
      "————10086查询功能————\n",
      "\n",
      "输入1，查询当前余额\n",
      "输入2，查询当前剩余流量\n",
      "输入3，查询当前剩余通话\n",
      "输入0，退出查询系统\n",
      "1\n",
      "当前余额为：999元\n",
      "\n",
      "2\n",
      "当前剩余流量为：5g\n",
      "\n",
      "3\n",
      "当前剩余通话为：189分钟\n",
      "\n",
      "0\n",
      "退出自助查询系统！\n",
      "\n"
     ]
    }
   ],
   "source": [
    "#实战4 10086查询功能\n",
    "print(\"————10086查询功能————\\n\")\n",
    "print(\"输入1，查询当前余额\")\n",
    "print(\"输入2，查询当前剩余流量\")\n",
    "print(\"输入3，查询当前剩余通话\")\n",
    "print(\"输入0，退出查询系统\")\n",
    "\n",
    "get_input=int(input(\"\"))\n",
    "get=True\n",
    "while(get):\n",
    "    if get_input==0:\n",
    "        print(\"退出自助查询系统！\\n\")\n",
    "        break\n",
    "    elif get_input==1:\n",
    "        print(\"当前余额为：999元\\n\")\n",
    "        get_input=int(input(\"\"))\n",
    "    elif get_input==2:\n",
    "        print(\"当前剩余流量为：5g\\n\")\n",
    "        get_input=int(input(\"\"))\n",
    "    elif get_input==3:\n",
    "        print(\"当前剩余通话为：189分钟\\n\")\n",
    "        get_input=int(input(\"\"))"
   ]
  },
  {
   "cell_type": "code",
   "execution_count": 16,
   "metadata": {},
   "outputs": [
    {
     "name": "stdout",
     "output_type": "stream",
     "text": [
      "电视剧收视率排行榜\n"
     ]
    },
    {
     "data": {
      "text/plain": [
       "[('《Giveup，holdontome》收视率', 1.4),\n",
       " ('《The private dishes of the husbands》收视率', 1.343),\n",
       " ('《My father-in-law will do martiaiarts》收视率', 0.92),\n",
       " ('《North Canton still believe in love》收视率', 0.862),\n",
       " ('《Music legend》收视率', 0.562),\n",
       " ('《Impossible task》收视率', 0.553),\n",
       " ('《Sparrow》收视率', 0.411),\n",
       " ('《Distant distance》收视率', 0.394),\n",
       " ('《The prodigal son of the new frontier town》收视率', 0.259),\n",
       " ('《East of dream Avenue》收视率', 0.164)]"
      ]
     },
     "execution_count": 16,
     "metadata": {},
     "output_type": "execute_result"
    }
   ],
   "source": [
    "#实战3 电视收视率排行榜\n",
    "aDict={\n",
    "'《Giveup，holdontome》收视率':1.4,\n",
    "'《The private dishes of the husbands》收视率':1.343,\n",
    "'《My father-in-law will do martiaiarts》收视率':0.92,\n",
    "'《North Canton still believe in love》收视率':0.862, '《Impossible task》收视率':0.553,\n",
    "'《Sparrow》收视率':0.411,\n",
    "'《East of dream Avenue》收视率':0.164,\n",
    "'《The prodigal son of the new frontier town》收视率':0.259, '《Distant distance》收视率':0.394,\n",
    "'《Music legend》收视率':0.562}\n",
    "print(\"电视剧收视率排行榜\")\n",
    "sorted(aDict.items(),key=lambda item:item[1],reverse=True)"
   ]
  },
  {
   "cell_type": "code",
   "execution_count": 5,
   "metadata": {},
   "outputs": [
    {
     "name": "stdout",
     "output_type": "stream",
     "text": [
      "定制自己的手机套餐：\n",
      "A.请设置通话时长：\n",
      "1.0分钟\n",
      "2.50分钟\n",
      "3.100分钟\n",
      "4.300分钟\n",
      "5.不限量\n",
      " 输入选择的通话时长编号：5\n",
      "请设置流量包：\n",
      "1.0M\n",
      "2.500M\n",
      "3.1G\n",
      "4.5G\n",
      "5.不限量 \n",
      "输入选择的流量包编号：5\n",
      "请设置短信条数：\n",
      "1.0条\n",
      "2.50条\n",
      "3.100条\n",
      " 输入选择的短信条数编号：3\n",
      "您的手机套餐定制成功：免费通话时长为不限量分钟/月 流量为不限量流量/月 短信条数为100条/月\n"
     ]
    }
   ],
   "source": [
    "#实战4 定制自己的手机套餐\n",
    "print(\"定制自己的手机套餐：\")\n",
    "print(\"A.请设置通话时长：\")\n",
    "phone_time=int(input(\"1.0分钟\\n2.50分钟\\n3.100分钟\\n4.300分钟\\n5.不限量\\n 输入选择的通话时长编号：\"))\n",
    "if phone_time==1:\n",
    "    phone_time=\"0\"\n",
    "elif phone_time==2:\n",
    "    phone_time=\"50\"\n",
    "elif phone_time==3:\n",
    "    phone_time=\"100\"\n",
    "elif phone_time==4:\n",
    "    phone_time=\"300\"\n",
    "elif phone_time==5:\n",
    "    phone_time=\"不限量\"\n",
    "size_internet=int(input(\"请设置流量包：\\n1.0M\\n2.500M\\n3.1G\\n4.5G\\n5.不限量 \\n输入选择的流量包编号：\"))\n",
    "if size_internet==1:\n",
    "    size_internet='0M'\n",
    "elif size_internet==2:\n",
    "    size_internet=\"500M\"\n",
    "elif size_internet==3:\n",
    "    size_internet=\"1G\"\n",
    "elif size_internet==4:\n",
    "    size_internet=\"5G\"\n",
    "elif size_internet==5:\n",
    "    size_internet=\"不限量流量\"\n",
    "\n",
    "mail_num=int(input(\"请设置短信条数：\\n1.0条\\n2.50条\\n3.100条\\n 输入选择的短信条数编号：\"))\n",
    "if mail_num==1:\n",
    "    mail_num=0\n",
    "elif mail_num==2:\n",
    "    mail_num=50\n",
    "elif mail_num==3:\n",
    "    mail_num=100\n",
    "print(\"您的手机套餐定制成功：免费通话时长为%s分钟/月 流量为%s/月 短信条数为%i条/月\"%(phone_time,size_internet,mail_num))"
   ]
  },
  {
   "cell_type": "code",
   "execution_count": 8,
   "metadata": {},
   "outputs": [
    {
     "name": "stdout",
     "output_type": "stream",
     "text": [
      "象棋口诀：\n",
      "马走日 ,\n",
      "象走田 ，\n",
      "车走直路炮翻山 ，\n",
      "士走斜线护将边 ，\n",
      "小卒一去不回还 。\n"
     ]
    }
   ],
   "source": [
    "#打印象棋口诀\n",
    "string=\"象棋口诀：\\n马走日 ,\\n象走田 ，\\n车走直路炮翻山 ，\\n士走斜线护将边 ，\\n小卒一去不回还 。\"\n",
    "print(string)"
   ]
  },
  {
   "cell_type": "code",
   "execution_count": 40,
   "metadata": {},
   "outputs": [
    {
     "name": "stdout",
     "output_type": "stream",
     "text": [
      "第0张车牌号码：\n",
      "津A·12345 \n",
      "这张车牌的归属地:天津市\n",
      "\n",
      "第1张车牌号码：\n",
      "沪A·23456 \n",
      "这张车牌的归属地:上海市\n",
      "\n"
     ]
    }
   ],
   "source": [
    "#判断车牌归属地\n",
    "mes=[['北京', '京'],\n",
    " ['天津市', '津'],\n",
    " ['河北省', '冀'],\n",
    " ['山西省', '晋'],\n",
    " ['内蒙古自治区', '内'],\n",
    " ['辽宁省', '辽'],\n",
    " ['吉林省', '吉'],\n",
    " ['黑龙江省', '黑'],\n",
    " ['上海市', '沪'],\n",
    " ['江苏省', '苏'],\n",
    " ['浙江省', '浙'],\n",
    " ['安徽省', '皖'],\n",
    " ['福建省', '闽'],\n",
    " ['江西省', '赣'],\n",
    " ['山东省', '鲁'],\n",
    " ['河南省', '豫'],\n",
    " ['湖北省', '鄂'],\n",
    " ['湖南省', '湘'],\n",
    " ['广东省', '粤'],\n",
    " ['广西壮族自治区', '桂'],\n",
    " ['海南省', '琼'],\n",
    " ['重庆市', '渝'],\n",
    " ['四川省', '川'],\n",
    " ['贵州省', '黔'],\n",
    " ['云南省', '滇'],\n",
    " ['西藏自治区', '藏'],\n",
    " ['陕西省', '陕'],\n",
    " ['甘肃省', '甘'],\n",
    " ['青海省', '青'],\n",
    " ['宁夏回族自治区', '宁'],\n",
    " ['新疆维吾尔自治区', '新'],\n",
    " ['香港特别行政区', '港'],\n",
    " ['澳门特别行政区', '澳'],\n",
    " ['台湾省', '台']]\n",
    "car=[\"津A·12345\",\"沪A·23456\"]\n",
    "for i in range(len(car)):\n",
    "    for j in range(len(mes)):\n",
    "        if mes[j][1] in car[i]:\n",
    "            print(\"第%i张车牌号码：\\n%s \\n这张车牌的归属地:%s\\n\"%(i,car[i],mes[j][0]))\n",
    "            "
   ]
  },
  {
   "cell_type": "code",
   "execution_count": 43,
   "metadata": {},
   "outputs": [
    {
     "name": "stdout",
     "output_type": "stream",
     "text": [
      "——————模拟抢红包——————\n",
      "请输入装入红包的总金额数（元）：20\n",
      "请输入红包的个数（个）：5\n",
      "第 1 个红包： 16.90 元\n",
      "第 2 个红包： 0.13 元\n",
      "第 3 个红包： 1.11 元\n",
      "第 4 个红包： 0.03 元\n",
      "第 5 个 红包 1.83 元\n"
     ]
    }
   ],
   "source": [
    "#模拟微信抢红包\n",
    "import random \n",
    "import decimal\n",
    "print(\"——————模拟抢红包——————\")\n",
    "total=float(input(\"请输入装入红包的总金额数（元）：\"))\n",
    "division=int(input(\"请输入红包的个数（个）：\"))\n",
    "summoney=-total\n",
    "for i in range(division-1):\n",
    "    money=random.uniform(0.01,total-0.01)\n",
    "    print('第 %d 个红包： %.2f 元'%(i+1,money))\n",
    "    total-=money\n",
    "    summoney+=money\n",
    "lastone=abs(summoney)\n",
    "print('第 %d 个 红包 %.2f 元'%(division,lastone))"
   ]
  },
  {
   "cell_type": "code",
   "execution_count": null,
   "metadata": {},
   "outputs": [],
   "source": [
    "#显示实时天气预报\n"
   ]
  },
  {
   "cell_type": "code",
   "execution_count": null,
   "metadata": {},
   "outputs": [],
   "source": [
    "#实战1 导演选主角\n",
    "character=input(\"导演选定的角色是：\")\n",
    "print(\"%s开始参演这个剧本\")"
   ]
  },
  {
   "cell_type": "code",
   "execution_count": 44,
   "metadata": {},
   "outputs": [
    {
     "name": "stdout",
     "output_type": "stream",
     "text": [
      "米线店套餐如下：1考神套餐2.单人套餐3.情侣套餐\n",
      "考神套餐13元\n",
      "单人套餐9.9元\n",
      "情侣套餐20元 \n"
     ]
    }
   ],
   "source": [
    "#实战2 美团外卖套餐\n",
    "print(\"米线店套餐如下：1考神套餐2.单人套餐3.情侣套餐\\n考神套餐13元\\n单人套餐9.9元\\n情侣套餐20元 \")"
   ]
  },
  {
   "cell_type": "code",
   "execution_count": 55,
   "metadata": {},
   "outputs": [
    {
     "name": "stdout",
     "output_type": "stream",
     "text": [
      "请输入月份（例如：5）:7\n",
      "请输入日期（例如：17）:8\n",
      "7月8日星座为：射手座\n"
     ]
    }
   ],
   "source": [
    "#实战3 根据生日判断星座\n",
    "month=int(input(\"请输入月份（例如：5）:\"))\n",
    "day=int(input(\"请输入日期（例如：17）:\"))\n",
    "def get_constellation(month, date):\n",
    "    dates = (21, 20, 21, 21, 22, 22, 23, 24, 24, 24, 23, 22)\n",
    "    constellations = (\"摩羯\", \"水瓶\", \"双鱼\", \"白羊\", \"金牛\", \"双子\", \"巨蟹\", \"狮子\", \"处女\", \"天秤\", \"天蝎\", \"射手\", \"摩羯\")\n",
    "    if date < dates[month-1]:\n",
    "        return constellations[month-1]\n",
    "    else:\n",
    "        return constellations[month]\n",
    "get_constellation(month,day)\n",
    "print(\"%i月%i日星座为：%s座\"%(month,day,xingzuo))"
   ]
  },
  {
   "cell_type": "code",
   "execution_count": 64,
   "metadata": {},
   "outputs": [
    {
     "name": "stdout",
     "output_type": "stream",
     "text": [
      "请输入要转换的美元金额：500\n",
      "转换成人民币金额是3140.000\n"
     ]
    }
   ],
   "source": [
    "#美元换人民币\n",
    "amount=float(int(input(\"请输入要转换的美元金额：\")))\n",
    "print(\"转换成人民币金额是%.2f\"%(amount*6.28))"
   ]
  },
  {
   "cell_type": "code",
   "execution_count": 13,
   "metadata": {},
   "outputs": [
    {
     "name": "stdout",
     "output_type": "stream",
     "text": [
      "大乐透号码生成器\n",
      "请输入要生成的大乐透号码注数：5\n",
      "['05', '09', '30', '21', '02']               ['09', '12']\n",
      "['15', '04', '26', '18', '17']               ['04', '06']\n",
      "['29', '18', '34', '27', '14']               ['02', '04']\n",
      "['04', '27', '11', '01', '07']               ['11', '01']\n",
      "['17', '21', '20', '25', '04']               ['07', '01']\n"
     ]
    }
   ],
   "source": [
    "#大乐透号码生成器\n",
    "import random\n",
    "list_num=[str(i) for i in range(10,36)]\n",
    "form_num=[\"0\"+str(i) for i in range(1,10) if len(str(i))==1]\n",
    "all_num=form_num+list_num\n",
    "behind_area=form_num+[\"11\",\"12\"]\n",
    "\n",
    "def get_num():\n",
    "    new_list=[]\n",
    "    for i in range(5):\n",
    "        x=random.choice(all_num)\n",
    "        while(x in new_list):\n",
    "            x=random.choice(all_num)\n",
    "        new_list.append(x)\n",
    "    \n",
    "    y=random.choice(behind_area)\n",
    "    z=random.choice(behind_area)\n",
    "    while(z==y):\n",
    "        z=random.choice(behind_area)\n",
    "    new_list.append(y)\n",
    "    new_list.append(z)\n",
    "    return new_list\n",
    "print(\"大乐透号码生成器\")\n",
    "inp=int(input(\"请输入要生成的大乐透号码注数：\"))\n",
    "for i in range(inp):\n",
    "    y=get_num()\n",
    "    print(str(y[:5])+\"               \" +str(y[5:]))"
   ]
  },
  {
   "cell_type": "code",
   "execution_count": 17,
   "metadata": {},
   "outputs": [
    {
     "name": "stdout",
     "output_type": "stream",
     "text": [
      "开始集福拉~~~\n",
      "\n",
      "按下enter键获取五福\n",
      "获取到的是：和谐福\n",
      "当前拥有的福：\n",
      "爱国福:0  富强福:0   和谐福:1   友善福:0  敬业福:0 \n",
      "\n",
      "按下enter键获取五福\n",
      "获取到的是：敬业福\n",
      "当前拥有的福：\n",
      "爱国福:0  富强福:0   和谐福:1   友善福:0  敬业福:1 \n",
      "\n",
      "按下enter键获取五福\n",
      "获取到的是：富强福\n",
      "当前拥有的福：\n",
      "爱国福:0  富强福:1   和谐福:1   友善福:0  敬业福:1 \n",
      "\n",
      "按下enter键获取五福\n",
      "获取到的是：富强福\n",
      "当前拥有的福：\n",
      "爱国福:0  富强福:2   和谐福:1   友善福:0  敬业福:1 \n",
      "1\n"
     ]
    }
   ],
   "source": [
    "#集五福\n",
    "import random\n",
    "lucky=['富强福','爱国福','和谐福','友善福','敬业福']\n",
    "count=[0,0,0,0,0]\n",
    "print(\"开始集福拉~~~\")\n",
    "while(input()==\"\"):\n",
    "    print(\"按下enter键获取五福\")\n",
    "    y=random.choice(lucky)\n",
    "    print(\"获取到的是：%s\"%y)\n",
    "    if y==\"富强福\":\n",
    "        count[1]+=1\n",
    "    elif y==\"爱国福\":\n",
    "        count[0]+=1\n",
    "    elif y==\"和谐福\":\n",
    "        count[2]+=1\n",
    "    elif y==\"友善福\":\n",
    "        count[3]+=1\n",
    "    elif y==\"敬业福\":\n",
    "        count[4]+=1\n",
    "    print(\"当前拥有的福：\")\n",
    "    print(\"爱国福:%i  富强福:%i   和谐福:%i   友善福:%i  敬业福:%i \"%(count[0],count[1],count[2],count[3],count[4]))"
   ]
  },
  {
   "cell_type": "code",
   "execution_count": null,
   "metadata": {},
   "outputs": [],
   "source": [
    "#封装用户上网行为\n"
   ]
  },
  {
   "cell_type": "code",
   "execution_count": 25,
   "metadata": {},
   "outputs": [
    {
     "name": "stdout",
     "output_type": "stream",
     "text": [
      "请输入月收入：456456\n",
      "应缴纳个人所得税税额为45645.60000\n"
     ]
    }
   ],
   "source": [
    "#计算个人所得税\n",
    "x=int(input(\"请输入月收入：\"))\n",
    "print(\"应缴纳个人所得税税额为%.3f\"%(x/10))"
   ]
  },
  {
   "cell_type": "code",
   "execution_count": 1,
   "metadata": {},
   "outputs": [
    {
     "name": "stdout",
     "output_type": "stream",
     "text": [
      "请输入两个起始点(用逗号隔开)：s,h\n",
      "['s', 'h', 'a', 'c', 'd', 'k', 'l', 'n', 'o', 'w']\n",
      "['s', 'h', 'a', 'c', 'j', 'k', 'l', 'o', 'p', 'v']\n",
      "['s', 'h', 'a', 'd', 'e', 'l', 'n', 'u', 'w', 'y']\n",
      "['s', 'h', 'a', 'e', 'j', 'l', 'p', 'u', 'v', 'y']\n",
      "['s', 'h', 'b', 'c', 'e', 'i', 'm', 'p', 'q', 'y']\n",
      "['s', 'h', 'b', 'c', 'f', 'k', 'm', 't', 'w', 'y']\n",
      "['s', 'h', 'b', 'e', 'f', 'm', 'n', 'p', 't', 'v']\n",
      "['s', 'h', 'b', 'i', 'k', 'm', 'n', 'q', 'v', 'w']\n",
      "['s', 'h', 'c', 'e', 'i', 'k', 'p', 'q', 'v', 'w']\n",
      "['s', 'h', 'c', 'e', 'i', 'n', 'p', 't', 'v', 'y']\n",
      "['s', 'h', 'c', 'f', 'k', 'n', 'q', 'v', 'w', 'y']\n",
      "['s', 'h', 'e', 'f', 'k', 'n', 'p', 't', 'w', 'y']\n"
     ]
    }
   ],
   "source": [
    "#巧放五角星\n",
    "import random\n",
    "import itertools\n",
    "s=[0,1,2,3,4,5,6,7,8,9,10,11,12,13,14,15,16,17,18,19,20,21,22]\n",
    "points=['a','b','c','d','e','f','g','h','i','j','k','l','m','n','o','p','q','r','s','t','u','v','w','x','y']\n",
    "Graph = [['a','c','e','f','g'], \n",
    " ['a','b','x','m','l'], \n",
    " ['a','v','w','t','r'], \n",
    " ['d','c','b','v','u'], \n",
    " ['d','e','x','p','o'], \n",
    " ['d','f','h','i','j'], \n",
    " ['g','h','x','s','r'], \n",
    " ['g','i','k','y','l'], \n",
    " ['j','k','x','w','u'], \n",
    " ['j','y','m','n','o'], \n",
    " ['l','n','p','q','r'], \n",
    " ['o','q','s','t','u']] \n",
    "\n",
    "twopoints=input(\"请输入两个起始点(用逗号隔开)：\")\n",
    "star_pos=[]\n",
    "star_pos=twopoints.split(',')\n",
    "for a in star_pos:\n",
    "    points.remove(a)\n",
    "list1=list(itertools.combinations(s,8))\n",
    "for e in list1:\n",
    "    star_pos=twopoints.split(',')\n",
    "    j=0\n",
    "    for i in range(0,8):\n",
    "        star_pos.append(points[e[i]])\n",
    "    for each in Graph:\n",
    "        i=0\n",
    "        for each1 in star_pos:\n",
    "            if(each1 in each):\n",
    "                i+=1\n",
    "        if(i>2):\n",
    "            continue\n",
    "        elif(i==2  or i==0):\n",
    "            j+=1\n",
    "    if(j==12):\n",
    "        print(star_pos)\n",
    "    else:\n",
    "        continue"
   ]
  },
  {
   "cell_type": "code",
   "execution_count": 5,
   "metadata": {},
   "outputs": [
    {
     "name": "stdout",
     "output_type": "stream",
     "text": [
      "查询能量请输入能量来源！退出程序请输入0\n",
      "能量来源如下：\n",
      "生活缴费,行走捐，共享单车，线下支付，网络购票0\n",
      "已退出\n"
     ]
    }
   ],
   "source": [
    "#模拟支付宝能量产生过程\n",
    "print(\"查询能量请输入能量来源！退出程序请输入0\")\n",
    "print(\"能量来源如下：\")\n",
    "x=input(\"生活缴费,行走捐，共享单车，线下支付，网络购票\")\n",
    "\n",
    "while(x):    \n",
    "    if x==\"行走捐\":\n",
    "        print(\"200g\")\n",
    "    elif x==\"生活缴费\":\n",
    "        print(\"500g\")\n",
    "    elif x==\"共享单车\":\n",
    "        print(\"300g\")\n",
    "    elif x==\"线下支付\":\n",
    "        print(\"1000g\")\n",
    "    elif x==\"网络购票\":\n",
    "        print(\"900g\")\n",
    "    elif x==\"0\":\n",
    "        print(\"已退出\")\n",
    "        break\n",
    "    else:\n",
    "        print(\"输入有误，请重新输入\")\n",
    "    print(\"能量来源如下：\")\n",
    "    x=input(\"生活缴费,行走捐，共享单车，线下支付，网络购票\")\n",
    "        "
   ]
  },
  {
   "cell_type": "code",
   "execution_count": null,
   "metadata": {},
   "outputs": [],
   "source": [
    "#格式化输出\n",
    "print(\"2018年4月17日 晴 20℃~7℃ 微风转西风3~4级\")"
   ]
  },
  {
   "cell_type": "code",
   "execution_count": 27,
   "metadata": {},
   "outputs": [
    {
     "data": {
      "text/plain": [
       "['程咬金 白起 刘禅 庄周 项羽 廉颇 牛魔 张飞  东皇太一 刘邦 雅典娜 苏烈   安禄山 盘古   \\n',\n",
       " ' 亚瑟 夏侯惇 宫本武藏 老夫子     达摩 典韦 曹操 钟无艳     墨子 赵云 吕布 孙悟空     关羽 露娜\\n',\n",
       " ' 杨戬 哪吒 橘右京 花木兰 刘备 铠  \\n',\n",
       " '百里玄策 阿轲 兰陵王 李白 韩信 庞统 娜可露露 八神庵  红佛 \\n',\n",
       " '钟馗 张良 安琪拉 貂蝉     不知火舞 姜子牙 周瑜 武则天     王昭君 甄姬 诸葛亮 芈月     扁鹊 高渐离 嬴政 妲己  小乔 女娲 干将莫邪 弈星   上官婉儿 嫦娥     \\n',\n",
       " '艾琳 马可波罗 狄仁杰 鲁班七号     孙尚香 后羿 虞姬 李元芳    成吉思汗 黄忠 百里守约 伽罗   \\n',\n",
       " '  孙膑 蔡文姬 大乔 鬼谷子    太乙真人 杨玉环 明世隐']"
      ]
     },
     "execution_count": 27,
     "metadata": {},
     "output_type": "execute_result"
    }
   ],
   "source": [
    "all_list=[]\n",
    "with open(\"hello.txt\",encoding=\"utf-8\")as f:\n",
    "    for i in f:\n",
    "        all_list.append(i)\n",
    "all_list"
   ]
  },
  {
   "cell_type": "code",
   "execution_count": 34,
   "metadata": {},
   "outputs": [
    {
     "name": "stdout",
     "output_type": "stream",
     "text": [
      "“王者荣耀”游戏角色：\n",
      "====坦克====\n",
      " ['程咬金 白起 刘禅 庄周 项羽 廉颇 牛魔 张飞  东皇太一 刘邦 雅典娜 苏烈   安禄山 盘古 ']\n",
      "====战士====\n",
      " [' 亚瑟 夏侯惇 宫本武藏 老夫子 达摩 典韦 曹操 钟无艳 墨子 赵云 吕布 孙悟空 关羽 露娜 杨戬 哪吒 橘右京 花木兰 刘备 铠 ']\n",
      "====刺客====\n",
      " ['百里玄策 阿轲 兰陵王 李白 韩信 庞统 娜可露露 八神庵  红佛 ']\n",
      "====法师====\n",
      " ['钟馗 张良 安琪拉 貂蝉 不知火舞 姜子牙 周瑜 武则天 王昭君 甄姬 诸葛亮 芈月  扁鹊 高渐离 嬴政 妲己  小乔 女娲 干将莫邪 弈星 上官婉儿 嫦娥']\n",
      "====射手====\n",
      " ['艾琳 马可波罗 狄仁杰 鲁班七号     孙尚香 后羿 虞姬 李元芳    成吉思汗 黄忠 百里守约 伽罗']\n",
      "====辅助====\n",
      " ['孙膑 蔡文姬 大乔 鬼谷子    太乙真人 杨玉环 明世隐']\n"
     ]
    }
   ],
   "source": [
    "tanke=['程咬金 白起 刘禅 庄周 项羽 廉颇 牛魔 张飞  东皇太一 刘邦 雅典娜 苏烈   安禄山 盘古 ']\n",
    "zhanshi=[ ' 亚瑟 夏侯惇 宫本武藏 老夫子 达摩 典韦 曹操 钟无艳 墨子 赵云 吕布 孙悟空 关羽 露娜 杨戬 哪吒 橘右京 花木兰 刘备 铠 ']\n",
    "cike=['百里玄策 阿轲 兰陵王 李白 韩信 庞统 娜可露露 八神庵  红佛 ']\n",
    "fashi=[\"钟馗 张良 安琪拉 貂蝉 不知火舞 姜子牙 周瑜 武则天 王昭君 甄姬 诸葛亮 芈月  扁鹊 高渐离 嬴政 妲己  小乔 女娲 干将莫邪 弈星 上官婉儿 嫦娥\"]\n",
    "sheshou=[\"艾琳 马可波罗 狄仁杰 鲁班七号     孙尚香 后羿 虞姬 李元芳    成吉思汗 黄忠 百里守约 伽罗\"]\n",
    "fuzhu=[\"孙膑 蔡文姬 大乔 鬼谷子    太乙真人 杨玉环 明世隐\"]\n",
    "print(\"“王者荣耀”游戏角色：\")\n",
    "print(\"====坦克====\\n\",tanke)\n",
    "print(\"====战士====\\n\",zhanshi)\n",
    "print(\"====刺客====\\n\",cike)\n",
    "print(\"====法师====\\n\",fashi)\n",
    "print(\"====射手====\\n\",sheshou)\n",
    "print(\"====辅助====\\n\",fuzhu)\n"
   ]
  },
  {
   "cell_type": "code",
   "execution_count": 2,
   "metadata": {},
   "outputs": [
    {
     "name": "stdout",
     "output_type": "stream",
     "text": [
      "小明上网时间、行为统计：\n",
      "浏览网页：1\n",
      "看视屏 2小时\n",
      "玩游戏3 小时\n",
      "上网学习 2小时\n",
      "今天上网共计8小时 ，请保护眼睛，合理安排时间\n"
     ]
    }
   ],
   "source": [
    "#封装用户上网行为\n",
    "liulanwangye=1.5\n",
    "kanshiping=2\n",
    "wangyouxi=3\n",
    "xuexi=2\n",
    "print(\"小明上网时间、行为统计：\")\n",
    "print(\"浏览网页：%i\"%liulanwangye)\n",
    "print(\"看视屏 %i小时\"%kanshiping)\n",
    "print(\"玩游戏%i 小时\"%wangyouxi)\n",
    "print(\"上网学习 %i小时\"%xuexi)\n",
    "print(\"今天上网共计%i小时 ，请保护眼睛，合理安排时间\"%(liulanwangye+kanshiping+wangyouxi+xuexi))"
   ]
  },
  {
   "cell_type": "code",
   "execution_count": null,
   "metadata": {},
   "outputs": [],
   "source": []
  }
 ],
 "metadata": {
  "kernelspec": {
   "display_name": "Python 3",
   "language": "python",
   "name": "python3"
  },
  "language_info": {
   "codemirror_mode": {
    "name": "ipython",
    "version": 3
   },
   "file_extension": ".py",
   "mimetype": "text/x-python",
   "name": "python",
   "nbconvert_exporter": "python",
   "pygments_lexer": "ipython3",
   "version": "3.7.3"
  }
 },
 "nbformat": 4,
 "nbformat_minor": 2
}
