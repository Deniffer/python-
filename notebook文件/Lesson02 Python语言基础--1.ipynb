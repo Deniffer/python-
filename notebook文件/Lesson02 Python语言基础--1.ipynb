{
 "cells": [
  {
   "cell_type": "markdown",
   "metadata": {
    "toc": true
   },
   "source": [
    "<h1>目录<span class=\"tocSkip\"></span></h1>\n",
    "<div class=\"toc\"><ul class=\"toc-item\"><li><span><a href=\"#Python语言基础\" data-toc-modified-id=\"Python语言基础-2\"><span class=\"toc-item-num\">2&nbsp;&nbsp;</span>Python语言基础</a></span><ul class=\"toc-item\"><li><span><a href=\"#Python语法规范\" data-toc-modified-id=\"Python语法规范-2.1\"><span class=\"toc-item-num\">2.1&nbsp;&nbsp;</span>Python语法规范</a></span><ul class=\"toc-item\"><li><span><a href=\"#程序的格式框架\" data-toc-modified-id=\"程序的格式框架-2.1.1\"><span class=\"toc-item-num\">2.1.1&nbsp;&nbsp;</span>程序的格式框架</a></span></li><li><span><a href=\"#标识符的命名规则\" data-toc-modified-id=\"标识符的命名规则-2.1.2\"><span class=\"toc-item-num\">2.1.2&nbsp;&nbsp;</span>标识符的命名规则</a></span></li><li><span><a href=\"#注释\" data-toc-modified-id=\"注释-2.1.3\"><span class=\"toc-item-num\">2.1.3&nbsp;&nbsp;</span>注释</a></span></li><li><span><a href=\"#其他规范\" data-toc-modified-id=\"其他规范-2.1.4\"><span class=\"toc-item-num\">2.1.4&nbsp;&nbsp;</span>其他规范</a></span></li></ul></li><li><span><a href=\"#Python-常用内置对象\" data-toc-modified-id=\"Python-常用内置对象-2.2\"><span class=\"toc-item-num\">2.2&nbsp;&nbsp;</span>Python 常用内置对象</a></span><ul class=\"toc-item\"><li><span><a href=\"#数字\" data-toc-modified-id=\"数字-2.2.1\"><span class=\"toc-item-num\">2.2.1&nbsp;&nbsp;</span>数字</a></span></li><li><span><a href=\"#True-&amp;-False\" data-toc-modified-id=\"True-&amp;-False-2.2.2\"><span class=\"toc-item-num\">2.2.2&nbsp;&nbsp;</span>True &amp; False</a></span></li><li><span><a href=\"#字符串\" data-toc-modified-id=\"字符串-2.2.3\"><span class=\"toc-item-num\">2.2.3&nbsp;&nbsp;</span>字符串</a></span></li><li><span><a href=\"#变量与赋值\" data-toc-modified-id=\"变量与赋值-2.2.4\"><span class=\"toc-item-num\">2.2.4&nbsp;&nbsp;</span>变量与赋值</a></span></li></ul></li><li><span><a href=\"#Python运算符与表达式\" data-toc-modified-id=\"Python运算符与表达式-2.3\"><span class=\"toc-item-num\">2.3&nbsp;&nbsp;</span><a href=\"Lesson02 Python语言基础--2.ipynb\" target=\"_blank\">Python运算符与表达式</a></a></span></li></ul></li></ul></div>"
   ]
  },
  {
   "cell_type": "markdown",
   "metadata": {},
   "source": [
    "# Python语言基础 #\n",
    "---\n",
    "<font face='kaiti' size=5 style='line-height:1.5'>\n",
    "- Python语法规范；\n",
    "- 常用内置对象；    \n",
    "- 简单数据类型；\n",
    "- 变量与赋值语句；\n",
    "- 运算符与表达式；\n",
    "- 基本输入输出；\n",
    "- 常用内置函数.    "
   ]
  },
  {
   "cell_type": "markdown",
   "metadata": {},
   "source": [
    "## Python语法规范   \n",
    "<font face='kaiti' size=5 style=\"line-height:1.5\"> \n",
    "&emsp;一般来说，Python程序包括程序框架、注释、标识符、表达式、分支语言、循环语句、函数等语法元素。见如下示例："
   ]
  },
  {
   "cell_type": "code",
   "execution_count": null,
   "metadata": {},
   "outputs": [],
   "source": [
    "# 输出1-1000之间的质数\n",
    "from math import sqrt\n",
    "def isprime(x):       # 自定义函数用于判断x是否为质数\n",
    "    flag = True\n",
    "    for k in range(2, int(sqrt(x))+1):    # 如果x能被k整除，则不是质数\n",
    "        if x % k == 0:\n",
    "            flag = False\n",
    "            break       # 若x能被k整除，则跳出循环\n",
    "    return flag         # 返回布尔值\n",
    "\n",
    "aList = []          # 空列表，用于存放质数                            \n",
    "bList = [1]         # 列表，用于存放非质数\n",
    "for x in range(2, 1000): \n",
    "    if isprime(x):        # 用自定义函数判断x是否为质数   \n",
    "        aList.append(x)    # 放入质数列表中\n",
    "    else:\n",
    "        bList.append(x)    # 放入非质数列表中\n",
    "print(aList)"
   ]
  },
  {
   "cell_type": "markdown",
   "metadata": {},
   "source": [
    "<font face='kaiti' size=5 style=\"line-height:1.5\">\n",
    "&emsp; 以上的程序中包含了上述的各种语法元素。在编写代码时，需遵循各元素的使用规范，才能正确运行。这里，先介绍程序框架、注释、标识符、表达式的规范，分支语言、循环语句、函数等的规范在后面的各章分别介绍。"
   ]
  },
  {
   "cell_type": "markdown",
   "metadata": {},
   "source": [
    "### 程序的格式框架\n",
    "<font face='kaiti' size=5 style='line-height:1.5'>\n",
    "&emsp; Python语言采用严格的<font color=#ff0000>**缩进**</font>来表明程序的格式框架。缩进是指一行代码开始前的空白区域，用来表示代码之间的包含和层次关系。一般而言，以4个空格为基本缩进单位。不需要缩进的代码顶行书写，不留空白。  \n",
    "&emsp; 缩进的强制性要求是Python的最显著特色，这样做是让程序员在书写代码时遵守严格的规范，使代码结构清晰，提高可读性，也能方便维护。初学者往往不习惯于此，容易产生隐蔽的错误。但习惯后就能感觉到这种规范的好处，甚至在编写其他语言程序时也能做到层次分明。\n",
    "- 同一个级别的代码块的缩进量必须相同，即顺序关系的缩进量相同。\n",
    "- 类定义、函数定义、选择结构、循环结构、以及with块的首句的行尾的冒号表示缩进的开始，其下面的语句要往后缩进；\n",
    "- 缩进结束就表示一个代码块结束了；后面语句的缩进需考虑该语句与前面语句的逻辑关系；"
   ]
  },
  {
   "cell_type": "markdown",
   "metadata": {},
   "source": [
    "### 标识符的命名规则\n",
    "<font face='kaiti' size=5>     \n",
    "<font style=\"line-height:1.5\">标识符就是对变量、常量、函数、类等对象起的名字。有下列规则：       \n",
    " 1. 标识符必须以<font color=#ff0000>**字母或下划线开头**</font>，但以下划线开头的标识符在Python中有特殊含义；  \n",
    " 2. 标识符的其他部分可以由字符（ASCII字符、Unicode字符）、下划线、数字组成；\n",
    " 3. <font color=#ff0000>**不能有空格以及标点符号**</font>（括号、引号、逗号、斜线、反斜线、冒号、句号、问号等等）；  \n",
    " 4. <font color=#ff0000>**不能使用关键字作标识符**</font>。可以导入keyword模块后使用print(keyword.kwlist)查看所有Python关键字；  \n",
    " 5. 对英文字母的<font color=#ff0000>**大小写敏感**</font>，例如student和Student是不同的变量。  \n",
    " 6. <font color=#ff0000>**不建议使用系统内置的模块名、类型名或函数名以及已导入的模块名及其成员名作标识符**</font>，这将会改变其类型和含义，可以通过dir(_\\_builtins_\\_)查看所有内置对象名称；   "
   ]
  },
  {
   "cell_type": "markdown",
   "metadata": {},
   "source": [
    "### 注释\n",
    "<font face='kaiti' size=5 style='line-height:1.5'>\n",
    "&emsp; 在程序中有必要加入注释，用于标明作者和版权信息，解释代码的原理或用途，或者辅助程序调试。\n",
    " - 单行注释：以符号#开始，表示本行#之后的内容为注释。\n",
    " - 多行注释：包含在一对三引号` '''...'''`或`\"\"\"...\"\"\" `之间单独的连续多行的内容将被解释器认为是注释。如下所示：  \n",
    "    '''   \n",
    "    第1行注释  \n",
    "    第2行注释  \n",
    "    ……  \n",
    "    '''"
   ]
  },
  {
   "cell_type": "markdown",
   "metadata": {},
   "source": [
    "### 其他规范\n",
    "<font face='kaiti' size=5 style='line-height:1.5'>\n",
    "- 续行符：在遇到较长的语句时，可分成多行书写，非最后的各行的末尾加上 \"\\\"符号，注意\"\\\"后不能有任何其他符号，包括空格和注释。也可以使用括号（包括圆括号()，方括号[]，大括号{}），括号内部的多行也会当作一行处理，其中的空白和换行符会被忽略。  \n",
    "- 语句分隔：Python使用分号分隔语句，可以将多条语句写在同一行。 如上述的程序的第7, 8行可以改为： \n",
    "    ```python\n",
    "    flag = False; break\n",
    "    ```"
   ]
  },
  {
   "cell_type": "markdown",
   "metadata": {},
   "source": [
    "## Python 常用内置对象\n",
    "<font face='楷体' size=5>\n",
    "- <font style=\"line-height:1.5\"> 对象是python语言中最基本的概念，在python中处理的<font color=#ff0000>一切都是对象</font>。\n",
    "- python中有许多内置对象可供编程者使用，内置对象可直接使用，如数字、字符串、列表、元组、字典、集合等。\n",
    "- 非内置对象需要导入模块才能使用，如正弦函数sin(x)，随机数函数random( )等。\n",
    "- 更多内置对象，见https://docs.python.org/3/library/index.html 之\"Built-in Types\"."
   ]
  },
  {
   "cell_type": "markdown",
   "metadata": {},
   "source": [
    "<center><font face='kaiti' size=5> 表2-1 Python常用内置对象 </font></center>\n",
    "<center><font face='times'>\n",
    "    \n",
    "|<center><font size=4>对象类型|<center><font size=4>对象名称|<center><font size=4>示&emsp;&emsp;例|\n",
    "|:--|:--|:--|\n",
    "|<font size=4>数字|<font size=4>int,float,complex&emsp;&emsp;|<font size=4>1234, 3.14, 3+4j|\n",
    "|<font size=4>字符串|<font size=4>str|<font size=4>'swft',\"I'm a student\",'''Python'''|\n",
    "|<font size=4>列表|<font size=4>list|<font size=4>[1,2,3], ['a','b',['c',2]]|\n",
    "|<font size=4>元组|<font size=4>tuple|<font size=4>(2, -5, 6), (3,)|\n",
    "|<font size=4>字典|<font size=4>dict|<font size=4>{1:'food', 2:'taste',3:'import'}|\n",
    "|<font size=4>集合|<font size=4>set|<font size=4>｛'a','b','c'｝|\n",
    "|<font size=4>布尔型|<font size=4>bool|<font size=4>True, False|\n",
    "|<font size=4>空类型|<font size=4>None Type|<font size=4> None|\n",
    "|<font size=4>异常|<font size=4>Exception,<br>ValueError,<br>TypeError,...|&emsp;|\n",
    "|<font size=4>文件|&emsp;|<font size=4>f=open('date.dat','rb')|\n",
    "|<font size=4>其他迭代对象&emsp;|&emsp;|<font size=4>生成器对象、range对象、<br> enumerate对象、map对象、filter对象|\n",
    "|<font size=4>编程单元|&emsp;|<font size=4>函数（使用def定义）<br>类（使用class定义）<br>模块（使用module定义）|\n"
   ]
  },
  {
   "cell_type": "markdown",
   "metadata": {},
   "source": [
    "### 数字\n",
    "<font face='kaiti' size=5 style='line-height:1.5'>\n",
    "    \n",
    "- 常见的数字主要有3种类型：整数、浮点数、复数.  \n",
    "- 整数有下列表示方法：    \n",
    "    1. 十进制整数：如1、100、12345等；  \n",
    "    2. 二进制整数：以0B开头，B可以是大写或小写，如0B111、0b101、0b1111等。  \n",
    "    3. 八进制整数：以0O开头，O可以是大写或小写，如0o12、0o55、0O77等；  \n",
    "    4. 十六进制整数：以0X开头，X可以是大写或小写，如0X10、0x5F、0xABCD等； \n",
    "- 整数类型的数据对象不受数据位数的限制，只受可用内存大小的限制。\n",
    "- 由于精度的问题，对于实数运算可能会有一定的误差，应尽量避免在实数之间直接进行相等性测试，而是应该以二者之差的绝对值是否足够小作为两个实数是否相等的依据。  \n",
    "- Python内置支持复数类型及其运算，并且形式与数学上的复数完全一致。    \n",
    "- 在数字的算术运算表达式求值时会进行隐式的类型转换，如果存在复数则都变成复数，如果没有复数但是有实数就都变成实数，如果都是整数则不进行类型转换。 \n"
   ]
  },
  {
   "cell_type": "code",
   "execution_count": null,
   "metadata": {
    "scrolled": true
   },
   "outputs": [],
   "source": [
    "9999**99"
   ]
  },
  {
   "cell_type": "code",
   "execution_count": null,
   "metadata": {
    "scrolled": false
   },
   "outputs": [],
   "source": [
    "0.3+0.2"
   ]
  },
  {
   "cell_type": "code",
   "execution_count": null,
   "metadata": {},
   "outputs": [],
   "source": [
    "0.4-0.1"
   ]
  },
  {
   "cell_type": "code",
   "execution_count": null,
   "metadata": {},
   "outputs": [],
   "source": [
    "0.4 - 0.1 == 0.3             #应尽量避免直接比较两个实数是否相等"
   ]
  },
  {
   "cell_type": "code",
   "execution_count": null,
   "metadata": {
    "scrolled": true
   },
   "outputs": [],
   "source": [
    "abs(0.4-0.1 - 0.3) < 1e-6    #这里1e-6表示10的-6次方"
   ]
  },
  {
   "cell_type": "code",
   "execution_count": null,
   "metadata": {
    "scrolled": true
   },
   "outputs": [],
   "source": [
    "x,y = 3+4j,5+6J                       #使用j或J表示复数虚部\n",
    "print('x+y=',x+y)                     # 复数的加法\n",
    "print('x*y=',x*y)                     # 复数的乘法\n",
    "print('x的实部：', x.real)            # 复数的实部\n",
    "print('y的虚部：', y.imag)            # 复数的虚部\n",
    "print('x的共轭虚数：',x.conjugate())  # 共轭虚数\n",
    "print('y的模：', abs(y))              # 复数的模"
   ]
  },
  {
   "cell_type": "markdown",
   "metadata": {},
   "source": [
    "### True & False\n",
    "<font face='kaiti' size=5 style='line-height:1.5'>\n",
    "&emsp; 在Python语言中，布尔类型只有两个值，True与False。注意首字母要大写，不能用其他形式代替。True与False除了表示判断的正误之外，也能像数字一样参与算术运算。这时，True代表1，False代表0."
   ]
  },
  {
   "cell_type": "code",
   "execution_count": null,
   "metadata": {},
   "outputs": [],
   "source": [
    "print('True > False :', True > False)\n",
    "print('True < False :', True < False)\n",
    "print('True -1 :', True -1)\n",
    "print('True + 2 :', True + 2)\n",
    "print('True * 3 :', True * 3)\n",
    "print('False - 1: ', False -1)"
   ]
  },
  {
   "cell_type": "markdown",
   "metadata": {},
   "source": [
    "### 字符串\n",
    "<font face='kaiti' size=5 style='line-height:1.5'>    \n",
    "- 在Python中，没有字符常量和变量的概念，只有字符串类型的常量和变量，单个字符也是字符串。使用单引号、双引号、三单引号、三双引号作为定界符（delimiter）来表示字符串，并且不同的定界符之间可以互相嵌套。    \n",
    "- Python 3.x全面支持中文，中文和英文字母都作为一个字符对待，甚至可以使用中文作为变量名。    \n",
    "- 除了支持使用加号运算符连接字符串以外，Python字符串还提供了大量的方法支持格式化、查找、替换、排版等操作。具体的操作见第7章《字符串》"
   ]
  },
  {
   "cell_type": "code",
   "execution_count": null,
   "metadata": {},
   "outputs": [],
   "source": [
    "x = 'Good'\n",
    "y = \"morning\"\n",
    "z = '''Mr Li'''\n",
    "x + ' ' + y + ','+ z +'.'"
   ]
  },
  {
   "cell_type": "markdown",
   "metadata": {},
   "source": [
    "###  变量与赋值\n",
    "<font face='kaiti' size=5 style=\"line-height:1.5\">\n",
    "&emsp; Python用\"=\"作为赋值符，支持多种赋值语句：简单赋值、序列赋值、多目标赋值、增强赋值。\n",
    "- 简单赋值： x = 100\n",
    "- 序列赋值： x, y = 1, 2;  (x,y,z) = 'abc'; x,*y='abcd'\n",
    "- 多目标赋值： a=b=c=10\n",
    "- 增强赋值： a=5; a+=10; a*=2; ...\n",
    "    \n",
    "&emsp; 在Python中，不需要事先声明变量名及其类型，直接赋值即可创建各种类型的对象变量。这一点适用于Python任意类型的对象。  \n",
    "例如语句\n",
    "``` python    \n",
    "    x = 3  \n",
    "```\n",
    "创建了整型变量x，并赋值为3，再例如语句\n",
    "```python\n",
    "    x = 'Hello world.'  \n",
    "```\n",
    "创建了字符串变量x，并赋值为'Hello world.'。\n",
    "\n",
    "- **Python采用基于值的内存管理模式**。赋值语句的执行过程是：首先把等号右侧表达式的值计算出来，然后在内存中寻找一个位置把值存放进去，最后创建变量并指向这个内存地址。** Python中的变量并不直接存储值，而是存储值的内存地址或者引用**，这也是变量类型随时可以改变的原因。 \n",
    "\n",
    "- Python属于**强类型编程语言**，Python解释器会根据赋值或运算来自动推断变量类型。Python还是一种**动态类型语言**，变量的类型也是可以随时变化的。"
   ]
  },
  {
   "cell_type": "code",
   "execution_count": null,
   "metadata": {},
   "outputs": [],
   "source": [
    "x = 5\n",
    "print(id(x))   # 变量x的地址\n",
    "x = 3\n",
    "print(id(x))   \n",
    "y = x\n",
    "print(id(y))   # 变量y的地址\n",
    "x += 3\n",
    "print(x)\n",
    "print(id(x))\n",
    "print(y)\n",
    "print(id(y))"
   ]
  },
  {
   "cell_type": "code",
   "execution_count": null,
   "metadata": {},
   "outputs": [],
   "source": [
    "x = [1,2,3,4]\n",
    "y = x\n",
    "x.append(5)      # 列表x末尾添加一个元素\n",
    "print(x)\n",
    "print(y)"
   ]
  },
  {
   "cell_type": "markdown",
   "metadata": {},
   "source": [
    "## [Python运算符与表达式](Lesson02 Python语言基础--2.ipynb)"
   ]
  },
  {
   "cell_type": "code",
   "execution_count": null,
   "metadata": {},
   "outputs": [],
   "source": []
  }
 ],
 "metadata": {
  "kernelspec": {
   "display_name": "Python 3",
   "language": "python",
   "name": "python3"
  },
  "language_info": {
   "codemirror_mode": {
    "name": "ipython",
    "version": 3
   },
   "file_extension": ".py",
   "mimetype": "text/x-python",
   "name": "python",
   "nbconvert_exporter": "python",
   "pygments_lexer": "ipython3",
   "version": "3.7.3"
  },
  "latex_envs": {
   "LaTeX_envs_menu_present": true,
   "autoclose": false,
   "autocomplete": true,
   "bibliofile": "biblio.bib",
   "cite_by": "apalike",
   "current_citInitial": 1,
   "eqLabelWithNumbers": true,
   "eqNumInitial": 1,
   "hotkeys": {
    "equation": "Ctrl-E",
    "itemize": "Ctrl-I"
   },
   "labels_anchors": false,
   "latex_user_defs": false,
   "report_style_numbering": false,
   "user_envs_cfg": false
  },
  "toc": {
   "base_numbering": "2",
   "nav_menu": {},
   "number_sections": true,
   "sideBar": true,
   "skip_h1_title": false,
   "title_cell": "目录",
   "title_sidebar": "目录",
   "toc_cell": true,
   "toc_position": {
    "height": "calc(100% - 180px)",
    "left": "10px",
    "top": "150px",
    "width": "174px"
   },
   "toc_section_display": true,
   "toc_window_display": false
  }
 },
 "nbformat": 4,
 "nbformat_minor": 2
}
