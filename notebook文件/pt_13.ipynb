{
 "cells": [
  {
   "cell_type": "code",
   "execution_count": 1,
   "metadata": {},
   "outputs": [
    {
     "name": "stdout",
     "output_type": "stream",
     "text": [
      "['.DS_Store', '2019_Dec_05_1048_oppo-cost_1_1201_5_option2_Behavior.csv', '2019_Dec_05_1054_oppo-cost_1_1201_15_option2_Behavior.csv', '2019_Dec_05_1104_oppo-cost_1_1201_5_option3_Behavior.csv', '2019_Dec_05_1109_oppo-cost_1_1201_15_option3_Behavior.csv', '2019_Dec_06_1056_oppo-cost_1_1205_5_option2_Behavior.csv', '2019_Dec_06_1109_oppo-cost_1_1205_15_option2_Behavior.csv', '2019_Dec_06_1125_oppo-cost_1_1205_5_option3_Behavior.csv', '2019_Dec_06_1132_oppo-cost_1_1205_15_option3_Behavior.csv', '2019_Dec_06_1224_oppo-cost_1_1206_5_option2_Behavior.csv', '2019_Dec_06_1230_oppo-cost_1_1206_15_option2_Behavior.csv', '2019_Dec_06_1239_oppo-cost_1_1206_5_option3_Behavior.csv', '2019_Dec_06_1246_oppo-cost_1_1206_15_option3_Behavior.csv', 'count.csv', 'explanation_analysis.pdf', 'exposure_and_rt_avg.csv', 'exposure_avg.csv']\n"
     ]
    }
   ],
   "source": [
    "import os\n",
    "import pandas as pd\n",
    "import re\n",
    "path=r\"D:\\qqdownload\\Example_analysis\\Example_analysis\"\n",
    "os.chdir(path)\n",
    "file=os.listdir(path)\n",
    "print(file)"
   ]
  },
  {
   "cell_type": "code",
   "execution_count": 2,
   "metadata": {},
   "outputs": [],
   "source": [
    "all_csv=[i for i in file if \".csv\" in i]"
   ]
  },
  {
   "cell_type": "code",
   "execution_count": 3,
   "metadata": {},
   "outputs": [
    {
     "name": "stdout",
     "output_type": "stream",
     "text": [
      "['2019_Dec_05_1048_oppo-cost_1_1201_5_option2_Behavior.csv', '2019_Dec_05_1054_oppo-cost_1_1201_15_option2_Behavior.csv', '2019_Dec_05_1104_oppo-cost_1_1201_5_option3_Behavior.csv', '2019_Dec_05_1109_oppo-cost_1_1201_15_option3_Behavior.csv', '2019_Dec_06_1056_oppo-cost_1_1205_5_option2_Behavior.csv', '2019_Dec_06_1109_oppo-cost_1_1205_15_option2_Behavior.csv', '2019_Dec_06_1125_oppo-cost_1_1205_5_option3_Behavior.csv', '2019_Dec_06_1132_oppo-cost_1_1205_15_option3_Behavior.csv', '2019_Dec_06_1224_oppo-cost_1_1206_5_option2_Behavior.csv', '2019_Dec_06_1230_oppo-cost_1_1206_15_option2_Behavior.csv', '2019_Dec_06_1239_oppo-cost_1_1206_5_option3_Behavior.csv', '2019_Dec_06_1246_oppo-cost_1_1206_15_option3_Behavior.csv', 'count.csv', 'exposure_and_rt_avg.csv', 'exposure_avg.csv']\n"
     ]
    }
   ],
   "source": [
    "print(all_csv)"
   ]
  },
  {
   "cell_type": "code",
   "execution_count": 4,
   "metadata": {},
   "outputs": [],
   "source": [
    "name=[]\n",
    "ID=[]\n",
    "for i in all_csv:\n",
    "    name.extend(re.findall(r\"cost(.+?)_Behavior\",i))\n",
    "for i in name:\n",
    "    ID.extend(re.findall(r\"\\d{4}\",i))"
   ]
  },
  {
   "cell_type": "code",
   "execution_count": 5,
   "metadata": {},
   "outputs": [
    {
     "data": {
      "text/plain": [
       "['_1_1201_5_option2',\n",
       " '_1_1201_15_option2',\n",
       " '_1_1201_5_option3',\n",
       " '_1_1201_15_option3',\n",
       " '_1_1205_5_option2',\n",
       " '_1_1205_15_option2',\n",
       " '_1_1205_5_option3',\n",
       " '_1_1205_15_option3',\n",
       " '_1_1206_5_option2',\n",
       " '_1_1206_15_option2',\n",
       " '_1_1206_5_option3',\n",
       " '_1_1206_15_option3']"
      ]
     },
     "execution_count": 5,
     "metadata": {},
     "output_type": "execute_result"
    }
   ],
   "source": [
    "name"
   ]
  },
  {
   "cell_type": "code",
   "execution_count": 6,
   "metadata": {},
   "outputs": [],
   "source": [
    "def avg_exposure(df):\n",
    "    left_avg_exposure=[]\n",
    "    right_avg_exposure=[]\n",
    "    up_avg_exposure=[]\n",
    "    left_avg=0\n",
    "    right_avg=0\n",
    "    up_avg=0\n",
    "    for i in range(len(df)):\n",
    "        if df[\"Response\"].values[i]==\"right\":\n",
    "            right_avg_exposure.append(df[\"Exposure_time\"].values[i])\n",
    "        elif df[\"Response\"].values[i]==\"left\":\n",
    "            left_avg_exposure.append(df[\"Exposure_time\"].values[i])\n",
    "        else:\n",
    "            up_avg_exposure.append(df[\"Exposure_time\"].values[i])\n",
    "    left_avg=sum(left_avg_exposure)/len(left_avg_exposure)\n",
    "    right_avg=sum(right_avg_exposure)/len(right_avg_exposure)\n",
    "    if len(up_avg_exposure)!=0:\n",
    "        up_avg=sum(up_avg_exposure)/len(up_avg_exposure)\n",
    "    return left_avg,right_avg,up_avg\n"
   ]
  },
  {
   "cell_type": "code",
   "execution_count": 7,
   "metadata": {},
   "outputs": [],
   "source": [
    "def avg_of_exposure_and_rt(df):\n",
    "    left_avg_exposure=[]\n",
    "    right_avg_exposure=[]\n",
    "    up_avg_exposure=[]\n",
    "    left_avg=0\n",
    "    right_avg=0\n",
    "    up_avg=0\n",
    "    for i in range(len(df)):\n",
    "        if df[\"Response\"].values[i]==\"right\":\n",
    "            right_avg_exposure.append(df[\"Exposure_time\"].values[i]+df[\"RT\"].values[i])\n",
    "        elif df[\"Response\"].values[i]==\"left\":\n",
    "            left_avg_exposure.append(df[\"Exposure_time\"].values[i]+df[\"RT\"].values[i])\n",
    "        else:\n",
    "            up_avg_exposure.append(df[\"Exposure_time\"].values[i]+df[\"RT\"].values[i])\n",
    "    left_avg=sum(left_avg_exposure)/len(left_avg_exposure)\n",
    "    right_avg=sum(right_avg_exposure)/len(right_avg_exposure)\n",
    "    if len(up_avg_exposure)!=0:\n",
    "        up_avg=sum(up_avg_exposure)/len(up_avg_exposure)\n",
    "    return left_avg,right_avg,up_avg"
   ]
  },
  {
   "cell_type": "code",
   "execution_count": 8,
   "metadata": {},
   "outputs": [],
   "source": [
    "def get_count(df):\n",
    "    total=df[\"Response\"].value_counts()\n",
    "    right=total['right']\n",
    "    left=total['left']\n",
    "    try:\n",
    "        up=0\n",
    "        up=df[\"Response\"].value_counts()['up']\n",
    "    except:\n",
    "        pass \n",
    "    return left,right,up"
   ]
  },
  {
   "cell_type": "code",
   "execution_count": 25,
   "metadata": {},
   "outputs": [],
   "source": [
    "df_1=pd.DataFrame(index = [\"ID\"],columns=[['5-option2']*3+['15-option2']*3+['5-option3']*3+['15-option3']*3,['left','right','up']*4])"
   ]
  },
  {
   "cell_type": "code",
   "execution_count": 83,
   "metadata": {
    "scrolled": true
   },
   "outputs": [],
   "source": [
    "df_2=pd.DataFrame(columns=pd.MultiIndex.from_product([['5_option2','15_option2','5_option3','15_option3'],['left','right','up']]),index=set(ID))"
   ]
  },
  {
   "cell_type": "code",
   "execution_count": 151,
   "metadata": {},
   "outputs": [],
   "source": [
    "def get_exposure_csv():\n",
    "    df_2=pd.DataFrame(columns=pd.MultiIndex.from_product([['5_option2','15_option2','5_option3','15_option3'],['left','right','up']]),index=set(ID))\n",
    "    for i in range(len(all_csv)):\n",
    "        option=['15_option2','15_option3','5_option3','5_option2']\n",
    "        df=pd.read_csv(all_csv[i],encoding=\"latin1\")\n",
    "        left,right,up=avg_exposure(df)\n",
    "        for j in set(ID):\n",
    "            if j in all_csv[i]:\n",
    "                csv_id=j\n",
    "                break\n",
    "        for j in option :\n",
    "            if j in all_csv[i]:\n",
    "                csv_column=j\n",
    "                break\n",
    "        df_2[csv_column,\"left\"][csv_id]=left\n",
    "        df_2[csv_column,\"right\"][csv_id]=right\n",
    "        df_2[csv_column,\"up\"][csv_id]=up\n",
    "    df_2=df_2.fillna(0)\n",
    "    df_2.to_csv(\"exposure_avg.csv\",encoding=\"latin1\")\n",
    "get_exposure_csv()"
   ]
  },
  {
   "cell_type": "code",
   "execution_count": 152,
   "metadata": {},
   "outputs": [],
   "source": [
    "def get_exposure_add_rt_csv():\n",
    "    df_2=pd.DataFrame(columns=pd.MultiIndex.from_product([['5_option2','15_option2','5_option3','15_option3'],['left','right','up']]),index=set(ID))\n",
    "    for i in range(len(all_csv)):\n",
    "        option=['15_option2','15_option3','5_option3','5_option2']\n",
    "        df=pd.read_csv(all_csv[i],encoding=\"latin1\")\n",
    "        left,right,up=avg_of_exposure_and_rt(df)\n",
    "        for j in set(ID):\n",
    "            if j in all_csv[i]:\n",
    "                csv_id=j\n",
    "                break\n",
    "        for j in option :\n",
    "            if j in all_csv[i]:\n",
    "                csv_column=j\n",
    "                break\n",
    "        df_2[csv_column,\"left\"][csv_id]=left\n",
    "        df_2[csv_column,\"right\"][csv_id]=right\n",
    "        df_2[csv_column,\"up\"][csv_id]=up\n",
    "    df_2=df_2.fillna(0)\n",
    "    df_2.to_csv(\"exposure_and_rt_avg.csv\",encoding=\"latin1\")\n",
    "get_exposure_add_rt_csv()"
   ]
  },
  {
   "cell_type": "code",
   "execution_count": 153,
   "metadata": {},
   "outputs": [],
   "source": [
    "def get_count_csv():\n",
    "    df_2=pd.DataFrame(columns=pd.MultiIndex.from_product([['5_option2','15_option2','5_option3','15_option3'],['left','right','up']]),index=set(ID))\n",
    "    for i in range(len(all_csv)):\n",
    "        option=['15_option2','15_option3','5_option3','5_option2']\n",
    "        df=pd.read_csv(all_csv[i],encoding=\"latin1\")\n",
    "        left,right,up=get_count(df)\n",
    "        for j in set(ID):\n",
    "            if j in all_csv[i]:\n",
    "                csv_id=j\n",
    "                break\n",
    "        for j in option :\n",
    "            if j in all_csv[i]:\n",
    "                csv_column=j\n",
    "                break\n",
    "        df_2[csv_column,\"left\"][csv_id]=left\n",
    "        df_2[csv_column,\"right\"][csv_id]=right\n",
    "        df_2[csv_column,\"up\"][csv_id]=up\n",
    "    df_2=df_2.fillna(0)\n",
    "    df_2.to_csv(\"count.csv\",encoding=\"latin1\")\n",
    "get_count_csv()"
   ]
  }
 ],
 "metadata": {
  "kernelspec": {
   "display_name": "Python 3",
   "language": "python",
   "name": "python3"
  },
  "language_info": {
   "codemirror_mode": {
    "name": "ipython",
    "version": 3
   },
   "file_extension": ".py",
   "mimetype": "text/x-python",
   "name": "python",
   "nbconvert_exporter": "python",
   "pygments_lexer": "ipython3",
   "version": "3.7.3"
  }
 },
 "nbformat": 4,
 "nbformat_minor": 2
}
