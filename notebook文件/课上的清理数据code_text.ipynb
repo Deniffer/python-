{
 "cells": [
  {
   "cell_type": "markdown",
   "metadata": {},
   "source": [
    "# Mini Intro to Textual Analysis: Wordlist\n",
    "by Dr Liang Jin\n",
    "\n",
    "Part of Mini Python Sessions: [github.com/drliangjin/minipy](https://github.com/drliangjin/minipy)\n",
    "\n",
    "Bodnaruk, Loughran, and McDonald (2015)\n",
    "\n",
    "Note: Predefined SEC strings\n",
    "- 10K filing codes: '10-K', '10-K405', '10KSB', '10-KSB', '10KSB40'\n",
    "- 10Q filing codes: '10-Q', '10QSB', '10-QSB'\n",
    "\n",
    "Excellent (but outdated) resources by Bill McDonald can be found from [Software Repository for Accounting and Finance](https://sraf.nd.edu/). It's relevant but dangerous to use those codes straightway."
   ]
  },
  {
   "cell_type": "code",
   "execution_count": 1,
   "metadata": {
    "scrolled": true
   },
   "outputs": [],
   "source": [
    "# NLTK stands for Natural Language Took Kits\n",
    "# It is the most popular advanced textual analysis tool/package in Python\n",
    "# It has tons of features and also comes with a large collection of corpus (a collection of text) to play with\n",
    "# These features however need to be downloaded by running the following:\n",
    "import nltk\n",
    "#nltk.download(); #This thing is huge, please note it will take quite sometime to finalise the downloads."
   ]
  },
  {
   "cell_type": "markdown",
   "metadata": {},
   "source": [
    "## Getting Text Data"
   ]
  },
  {
   "cell_type": "code",
   "execution_count": 2,
   "metadata": {},
   "outputs": [],
   "source": [
    "import requests\n",
    "from bs4 import BeautifulSoup"
   ]
  },
  {
   "cell_type": "code",
   "execution_count": 3,
   "metadata": {},
   "outputs": [],
   "source": [
    "# Apple's 10-K filing on 2017\n",
    "# IBM's 10-K filing on 20120228\n",
    "urls = ['https://www.sec.gov/Archives/edgar/data/51143/000104746912001742/a2206744z10-k.htm',\n",
    "        'https://www.sec.gov/Archives/edgar/data/320193/000032019317000070/a10-k20179302017.htm']"
   ]
  },
  {
   "cell_type": "markdown",
   "metadata": {},
   "source": [
    "### Soup, HTML and Text\n",
    "- Remove tables: All characters appearing between `<TABLE>` and `</TABLE>` tages are removed \n",
    "- NOTE: unless numeric characters/(alphabetic + numeric chars) <= 15% (BLM, 2015), **can you do this?**"
   ]
  },
  {
   "cell_type": "code",
   "execution_count": 4,
   "metadata": {},
   "outputs": [],
   "source": [
    "# Define a function to create our Soup object and then extract text\n",
    "# The key is here is: when we have HTML structure, we remove tables otherwise it can be tricky\n",
    "def url_to_text(url):\n",
    "    resp = requests.get(url)\n",
    "    soup = BeautifulSoup(resp.text, 'html.parser')\n",
    "    for table in soup.find_all('table'):\n",
    "        table.decompose()\n",
    "    text = soup.get_text()\n",
    "    return text"
   ]
  },
  {
   "cell_type": "code",
   "execution_count": 5,
   "metadata": {},
   "outputs": [],
   "source": [
    "# Actually obtain the text from requests via EDGAR, parsing using BS4 then text\n",
    "texts = [url_to_text(url) for url in urls]"
   ]
  },
  {
   "cell_type": "code",
   "execution_count": 6,
   "metadata": {},
   "outputs": [
    {
     "data": {
      "text/plain": [
       "'\\n10-K\\n1\\na2206744z10-k.htm\\n10-K\\n\\n\\n\\n\\n\\n\\nQuickLinks\\n -- Click here to rapidly navigate through this document\\n\\n\\n\\n\\n\\n\\n\\n\\n \\n\\n \\nUNITED STATES\\nSECURITIES AND EXCHANGE COMMISSION WASHINGTON, D.C. 20549  \\n\\n\\n\\n\\n\\n \\nFORM 10-K ANNUAL REPORT\\npursuant to Section\\xa013 or 15 (d)\\xa0of the\\nSecurities Exchange Act of 1934\\nFOR THE YEAR ENDED DECEMBER 31, 2011  \\n 1-2360 (Commission file number) \\nINTERNATIONAL BUSINESS MACHINES CORPORATION (Exact name of registrant as specified in its charter) \\n\\n\\n\\n\\n\\n\\n\\n\\n914-499-1900 (Registrant\\'s telephone number) \\nSecurities registered pursuant to Section\\xa012(b) of the Act:  \\n\\n\\n\\n\\n\\n\\n\\n\\n\\xa0\\xa0\\xa0\\xa0\\xa0\\xa0\\xa0\\xa0\\xa0Indicate by check mark if the registrant is a well-known seasoned issuer as defined in Rule\\xa0405 of the Securities Act.\\nYes\\xa0ý\\xa0\\xa0\\xa0\\xa0No\\xa0o \\n\\xa0\\xa0\\xa0\\xa0\\xa0\\xa0\\xa0\\xa0\\xa0Indicate by check mark if the registrant is not required to file reports pursuant to Section\\xa013 or Section\\xa015(d) of the Act.\\nYes\\xa0o\\xa0\\xa0\\xa0\\xa0No\\xa0ý \\n\\xa0\\xa0\\xa0\\xa0\\xa0\\xa0\\xa0\\xa0\\xa0Indicate by check mark whether the registrant (1)\\xa0has filed all reports required to be filed by Section\\xa013 or 15(d) of the Securities Exchange Act of\\n1934 during the preceding 12\\xa0months (or for such shorter period that the registrant was required to file such reports), and (2)\\xa0has been subject to such filing requirements for the past\\n90\\xa0days. Yes\\xa0ý\\xa0\\xa0\\xa0\\xa0No\\xa0o \\n\\xa0\\xa0\\xa0\\xa0\\xa0\\xa0\\xa0\\xa0\\xa0Indicate by check mark whether the registrant has submitted electronically and posted on its corporate Web site, if any, every Interactive Data File required to be\\nsubmitted and posted pursuant to Rule\\xa0405 of Regulation\\xa0S-T (§232.405 of this chapter) during the preceding 12\\xa0months (or for such shorter period that the registrant\\nwas required to submit and post such files). Yes\\xa0ý\\xa0\\xa0\\xa0\\xa0No\\xa0o \\n\\xa0\\xa0\\xa0\\xa0\\xa0\\xa0\\xa0\\xa0\\xa0Indicate by check mark if disclosure of delinquent filers pursuant to Item 405 of Regulation\\xa0S-K (§229.405 of this chapter) is not\\ncontained herein, and will not be contained, to the best of registrant\\'s knowledge, in definitive proxy or information statements incorporated by reference in Part\\xa0III of this\\nForm\\xa010-K or any amendment to this Form\\xa010-K. ý \\n\\xa0\\xa0\\xa0\\xa0\\xa0\\xa0\\xa0\\xa0\\xa0Indicate by check mark whether the registrant is a large accelerated filer, an accelerated filer, a non-accelerated filer, or a smaller reporting\\ncompany. See the definitions of \"large accelerated filer,\" \"accelerated filer\" and \"smaller reporting company\" in Rule\\xa012b-2 of the Exchange Act. \\n\\n\\n\\n\\n\\n\\n\\n\\n\\xa0\\xa0\\xa0\\xa0\\xa0\\xa0\\xa0\\xa0\\xa0Indicate by check mark whether the registrant is a shell company (as defined in Exchange Act Rule\\xa012b-2).\\nYes\\xa0o\\xa0\\xa0\\xa0\\xa0No\\xa0ý \\n\\xa0\\xa0\\xa0\\xa0\\xa0\\xa0\\xa0\\xa0\\xa0The aggregate market value of the voting stock held by non-affiliates of the registrant as of the last business day of the registrant\\'s most recently\\ncompleted second fiscal quarter was $204.8\\xa0billion. \\nDocuments\\nincorporated by reference: \\n\\xa0\\xa0\\xa0\\xa0\\xa0\\xa0\\xa0\\xa0\\xa0Portions\\nof IBM\\'s Annual Report to Stockholders for the year ended December\\xa031, 2011 into Parts I, II and IV of Form\\xa010-K. \\n\\xa0\\xa0\\xa0\\xa0\\xa0\\xa0\\xa0\\xa0\\xa0Portions\\nof IBM\\'s definitive Proxy Statement to be filed with the Securities and Exchange Commission and delivered to stockholders in connection with the Annual Meeting of Stockholders\\nto be held April\\xa024, 2012 are incorporated by reference into Part\\xa0III of Form\\xa010-K. \\n\\n \\n\\n\\n\\n\\n \\n\\n\\n\\n\\n\\n\\n\\n\\n\\n \\n \\n  PART I     \\n Item 1. Business:  \\n\\xa0\\xa0\\xa0\\xa0\\xa0\\xa0\\xa0\\xa0International Business Machines Corporation (IBM or the company) was incorporated in the State of New York on June\\xa016, 1911, as\\nthe Computing-Tabulating-Recording Co. (C-T-R), a consolidation of the Computing Scale Co. of America, the Tabulating Machine Co. and The International Time Recording Co. of\\nNew York. Since that time, IBM has focused on the intersection of business insight and technological innovation, and its operations and aims have been international in nature. This was signaled over\\n85 years ago, in 1924, when C-T-R changed its name to International Business Machines Corporation. And it continues today: The company creates business value for clients and solves business problems\\nthrough integrated solutions that leverage information technology and deep knowledge of business processes. IBM solutions typically create value by reducing a client\\'s operational costs or by enabling\\nnew capabilities that generate revenue. These solutions draw from an industry leading portfolio of consulting, delivery and implementation services, enterprise software, systems and financing. \\n STRATEGY  \\n\\xa0\\xa0\\xa0\\xa0\\xa0\\xa0\\xa0\\xa0Despite the volatility of the information technology (IT) industry over the past decade, IBM has consistently delivered excellent\\nperformance, with a steady track record of sustained earnings per share growth. The company has shifted its business mix, exiting certain segments while increasing its presence in higher-value areas\\nsuch as services, software and integrated solutions. As part of this shift, the company has acquired over 120 companies since 2000, complementing and scaling its portfolio of products and offerings. \\n\\xa0\\xa0\\xa0\\xa0\\xa0\\xa0\\xa0\\xa0IBM\\'s\\nclear strategy has enabled steady results in core business areas, while expanding its offerings and addressable markets. The key tenets of this strategy\\nare: \\n\\n\\n•Deliver value to enterprise clients through integrated business and IT innovation;   \\n•Shift the business mix to higher-value areas; and  \\n•Become the premier globally integrated enterprise \\n\\n\\xa0\\xa0\\xa0\\xa0\\xa0\\xa0\\xa0\\xa0These\\npriorities reflect a broad shift in client spending toward integrated solutions, as companies seek higher levels of business value from their IT investments. IBM has been able to\\ndeliver this enhanced client value thanks to its industry expertise, understanding of clients\\' businesses and the breadth and depth of the company\\'s capabilities. \\n\\xa0\\xa0\\xa0\\xa0\\xa0\\xa0\\xa0\\xa0Consistent\\nwith this strategy IBM is leveraging its capabilities to build and expand strong positions in targeted growth areas. IBM\\'s growth initiatives include Smarter Planet, Growth\\nMarkets, Business Analytics and Optimization and Cloud Computing. Each initiative represents a significant growth opportunity with attractive profit margins for IBM. \\n Smarter Planet  \\n\\xa0\\xa0\\xa0\\xa0\\xa0\\xa0\\xa0\\xa0Smarter Planet is IBM\\'s vision of a technology-enabled world that is more instrumented, interconnected, and intelligent than ever\\nbefore, enabling people and organizations to tackle significant business and societal challenges. At the heart of this vision is the opportunity for meaningful innovation—exploring and\\nextending the boundaries of businesses, industries and communities. It\\'s about helping the company\\'s clients become better at what they do for their clients. IBM\\'s strategy is to accelerate progress\\ntowards a \"smarter planet\" by equipping its clients with the advanced, integrated capabilities that they will need to thrive in this exciting new world that is unfolding before\\nus—capabilities such as business analytics, business process management, social business and cloud computing. \\n\\xa0\\xa0\\xa0\\xa0\\xa0\\xa0\\xa0\\xa0Over\\nthe past year, IBM has steadily deepened its commitment to understanding and delivering on the promise of a smarter planet for its line of business and IT clients across a broad\\nrange of industries. An industry-based approach is central to the strategy, since every industry confronts a \\n1\\n\\n\\n\\n \\n\\ndistinct\\nset of challenges and opportunities in today\\'s constantly transforming world. Whether \"smarter\" means helping a hospital group to deliver improved healthcare, a local government to ease\\ntraffic congestion, or a retail chain to execute a successful cross-channel campaign, IBM is aggressively developing and investing in a portfolio of industry solutions that will help these clients\\nachieve their goals. \\n\\xa0\\xa0\\xa0\\xa0\\xa0\\xa0\\xa0\\xa0Two\\nrecently announced initiatives that are already driving significant value illustrate IBM\\'s deep commitment to building a smarter planet: Smarter Commerce and Smarter Cities. IBM\\'s\\nSmarter Commerce model integrates and transforms how companies manage and adapt their buy, market, sell and service processes, placing the customer squarely at the center of their business. IBM\\'s\\nSmarter Cities initiative enables local governments to make smarter decisions, anticipate issues and coordinate resources more effectively, and deliver citizen-centric services that underpin\\nsustainable economic growth. \\n Growth Markets  \\n\\xa0\\xa0\\xa0\\xa0\\xa0\\xa0\\xa0\\xa0The company has benefited from its investments over the past several years in growth markets. The focus now is on geographic expansion\\nof IBM\\'s presence; on selected industries of the highest impact and opportunity; on countries\\' build-out of infrastructure aligned with their national agendas; and on creating markets and\\nnew business models to\\nserve the different requirements that exist in these emerging countries. The company\\'s efforts in developing new growth markets within the African continent is a good example of this focus. Many of\\nthese initiatives are leading edge, both in technologies and business models and are delivering both increased revenue and margin expansion. \\n\\xa0\\xa0\\xa0\\xa0\\xa0\\xa0\\xa0\\xa0In\\norder to support this growth, IBM is continuing to invest significantly in these markets to expand capacity, to develop talent and to deepen its research and development (R&D)\\ncapabilities on the ground. At the same time, IBM continues to leverage talent across growth markets under its globally integrated enterprise model to the benefit of both its clients and the company\\nglobally. \\n Business Analytics and Optimization  \\n\\xa0\\xa0\\xa0\\xa0\\xa0\\xa0\\xa0\\xa0Business Analytics and Optimization is core to achieving a Smarter Planet, helping leaders of this new information-centric and\\ninsight-driven world make better and faster business decisions. As the proliferation of \"big data\" continues from both structured and unstructured sources, IBM is helping organizations leverage\\nanalytics in new ways to address market uncertainty, complexity and volatility. These capabilities allow decision makers to identify patterns and gain deeper insights in a way that is unimaginable by\\nother means. These insights give organizations the ability to anticipate and shape better outcomes so they can grow, retain and satisfy customers. They can now dynamically plan, forecast and align\\nresources and manage risk, reduce fraud and ensure compliance. They can also leverage analytics to increase operational efficiency and agility. \\n\\xa0\\xa0\\xa0\\xa0\\xa0\\xa0\\xa0\\xa0IBM\\'s\\napproach is to ensure customers have complete end-to-end solutions across industries and functional focus areas like sales, finance and risk. These\\nsolutions are designed to help organizations: develop an information and analytics strategy that flows from the business strategy; establish a strong information foundation; make analytics skills and\\ncapabilities pervasive; and create a culture that takes action on analytics. IBM continues to invest in its analytics capabilities to deliver real world solutions that its clients can put to work\\ntoday. These ongoing investments in both organic development and new acquisitions are complemented by IBM\\'s focus on game-changing innovations like Watson, which is ushering in a new\\ngeneration of probabilistic analytics that can dramatically improve decision making through natural language processing, hypotheses generation and evidence-based learning. It is another unique example\\nof just how far organizations can go with IBM analytics. \\n Cloud Computing  \\n\\xa0\\xa0\\xa0\\xa0\\xa0\\xa0\\xa0\\xa0Cloud is a new model for consuming and delivering business and IT services. It can deliver significant economies of scale, enable\\nhigher qualities of service and even serve as a transformative \\n2\\n\\n\\n\\n \\n\\nplatform\\nfor business innovation. From a business perspective, the promise of cloud computing lies in the ability to shape influential communities, launch product innovations and explore new business\\nmodels with minimal time, cost and effort. From an IT perspective, the power of the model comes from harnessing vast stores of underutilized technology with highly efficient virtualization and\\nmanagement, consumer-style user interfaces and ubiquitous broadband. \\n\\xa0\\xa0\\xa0\\xa0\\xa0\\xa0\\xa0\\xa0IBM\\nhas already helped thousands of its clients adopt and leverage cloud computing through its broad portfolio of IBM SmartCloud products, solutions and services. Today, IBM delivers\\nmany line-of-business solutions via cloud-based hosting models, enabling rapid adoption and exploration of new capabilities that can drive significant business value for its\\nclients and their customers. For developers and IT organizations seeking to leverage cloud computing, IBM can help build out private, on-premise cloud-based environments, provide security\\nand integration services across private and hybrid cloud models, and/or offer its own cloud-based infrastructure and services, including advanced analytics, collaboration, and IT infrastructure such\\nas virtual servers, storage and tools for testing software. Across IBM\\'s entire SmartCloud portfolio, the company offers expert consulting, breakthrough technologies and a portfolio of cloud-based\\nservices squarely focused on the requirements of the enterprise. \\n BUSINESS MODEL  \\n\\xa0\\xa0\\xa0\\xa0\\xa0\\xa0\\xa0\\xa0The company\\'s business model is built to support two principal goals: helping clients to become more innovative, efficient and\\ncompetitive through the application of business insight and IT solutions; and providing long-term value to shareholders. The business model has been developed over time through strategic\\ninvestments in capabilities and technologies that have superior long-term growth and profitability prospects based on the value they deliver to clients. \\n\\xa0\\xa0\\xa0\\xa0\\xa0\\xa0\\xa0\\xa0The\\ncompany\\'s global capabilities include services, software, systems, fundamental research and related financing. The broad mix of businesses and capabilities are combined to provide\\nintegrated solutions to the company\\'s clients. \\n\\xa0\\xa0\\xa0\\xa0\\xa0\\xa0\\xa0\\xa0The\\nbusiness model is resilient, adapting to the continuously changing market and economic environment. The company continues to divest certain businesses and strengthen its position\\nthrough strategic organic investments and acquisitions in higher-value segments like business analytics, smarter planet and cloud computing. In addition, the company has transformed itself into a\\nglobally integrated enterprise which has improved overall productivity and is driving investment and expanding participation in the world\\'s fastest growing markets. \\n\\xa0\\xa0\\xa0\\xa0\\xa0\\xa0\\xa0\\xa0This\\nbusiness model, supported by the company\\'s financial model, has enabled the company to deliver strong earnings, cash flows and returns to shareholders over the long term. \\n BUSINESS SEGMENTS AND CAPABILITIES  \\n\\xa0\\xa0\\xa0\\xa0\\xa0\\xa0\\xa0\\xa0The company\\'s major operations consists of five business segments: Global Technology Services, Global Business Services, Software,\\nSystems and Technology and Global Financing. \\n\\xa0\\xa0\\xa0\\xa0\\xa0\\xa0\\xa0\\xa0Global Services is a critical component of the company\\'s strategy of providing IT infrastructure and business insight and solutions to\\nclients. While solutions often include industry-leading IBM software and systems, other suppliers\\' products are also used if a client solution requires it. Approximately 60 percent of external Global\\nServices segment revenue is annuity based, coming primarily from outsourcing and maintenance arrangements. The Global Services backlog provides a solid revenue base entering each year. Within Global\\nServices, there are two reportable segments: Global Technology Services and Global Business Services. \\n\\xa0\\xa0\\xa0\\xa0\\xa0\\xa0\\xa0\\xa0Global Technology Services (GTS) primarily provides IT infrastructure services and business process services, delivering business value\\nthrough global scale, standardization and automation. \\n3\\n\\n\\n\\n \\n\\nGTS\\nCapabilities \\n \\xa0\\xa0\\xa0\\xa0\\xa0\\xa0\\xa0\\xa0Strategic Outsourcing Services:\\xa0comprehensive IT outsourcing services dedicated to transforming clients\\' existing infrastructures to consistently\\ndeliver improved quality, flexibility, risk management and financial value. The company integrates long-standing expertise in service management and technology with the ability to exploit\\nthe power of new technologies from IBM systems and software, such as cloud computing, analytics and virtualization, to deliver high performance, innovation and improved ability to achieve business\\nobjectives. \\n \\xa0\\xa0\\xa0\\xa0\\xa0\\xa0\\xa0\\xa0Global Process Services:\\xa0a range of standardized through transformational offerings including processing platforms and business process outsourcing.\\nThese services deliver improved business results to clients through the strategic change and/or operation of the client\\'s business processes, applications and infrastructure. \\n\\xa0\\xa0\\xa0\\xa0\\xa0\\xa0\\xa0\\xa0Integrated Technology Services:\\xa0project-based portfolio of services that enable clients to optimize their IT environments by driving efficiency,\\nflexibility and productivity, while reducing costs. The standardized portfolio is built around key assets and patented software, and incorporates best practices and proven methodologies that ensure\\npredictive quality of delivery, security and compliance. \\n \\xa0\\xa0\\xa0\\xa0\\xa0\\xa0\\xa0\\xa0Maintenance:\\xa0a complete line of support services from product maintenance through solution support to maintain and improve the availability of\\nclients\\' IT infrastructures. \\n\\xa0\\xa0\\xa0\\xa0\\xa0\\xa0\\xa0\\xa0GTS Services Delivery:\\xa0responsible for the worldwide delivery of IBM\\'s technology- and process-based services. Operating within a globally integrated\\ndelivery model enables regional client-facing teams to utilize a global network of competencies and centers, providing industry-leading, standardized, integrated tools and processes. By leveraging\\ninsights and experience drawn from IBM\\'s global scale, skills and technology, with applied innovation from IBM Research, clients gain access to leading-edge, high-quality\\nservices with improved productivity, flexibility, cost and outcomes. \\n\\xa0\\xa0\\xa0\\xa0\\xa0\\xa0\\xa0\\xa0Global Business Services (GBS) primarily provides professional services and application management services, delivering business value and\\ninnovation to clients through solutions which leverage industry and business-process expertise while integrating the industry-leading portfolio of IBM and strategic partners, to define the upper end\\nof client-valued services. \\nGBS\\nCapabilities \\n \\xa0\\xa0\\xa0\\xa0\\xa0\\xa0\\xa0\\xa0Consulting and Systems Integration:\\xa0delivery of value to clients through consulting services for Strategy and Transformation; Application Innovation\\nServices; Enterprise Applications and Business Analytics and Optimization. \\n\\xa0\\xa0\\xa0\\xa0\\xa0\\xa0\\xa0\\xa0Application Management Services:\\xa0application development, management, maintenance and support services for packaged software, as well as custom and\\nlegacy applications. Value is delivered through advanced capabilities in areas such as applications testing and modernization, cloud application security, the company\\'s highly differentiated globally\\nintegrated capability model, industry knowledge and the standardization and automation of application development. \\n\\xa0\\xa0\\xa0\\xa0\\xa0\\xa0\\xa0\\xa0Software consists primarily of middleware and operating systems software. Middleware software enables clients to integrate systems,\\nprocesses and applications across a standard software platform to improve their business results, solve critical problems and gain competitive advantage within their industries. IBM middleware is\\ndesigned on open standards, making it easier to integrate disparate business applications, developed by different methods and implemented at different times. Operating systems are the software engines\\nthat run computers. Approximately two-thirds of external software segment revenue is annuity based, coming from recurring license charges and ongoing subscription and support. The\\nremaining one-third relates to one-time charge (OTC) arrangements in which clients pay one, up-front payment for a perpetual license. Typically, the sale of OTC\\nsoftware includes one year of subscription and support. Clients can also purchase ongoing subscription and support after the first year, which includes unspecified product upgrades and technical\\nsupport. \\n4\\n\\n\\n\\n \\n\\nSoftware\\nCapabilities \\n \\xa0\\xa0\\xa0\\xa0\\xa0\\xa0\\xa0\\xa0WebSphere Software:\\xa0delivers capabilities that enable clients to integrate and manage business processes across their organizations with the\\nflexibility and agility they need to respond to changing conditions quickly. With a services-oriented architecture (SOA), businesses can more easily link together their fragmented data and business\\nprocesses to extract value from their existing technology. Smarter Commerce software enables seamless interaction between companies, their customers and suppliers throughout the business cycle,\\nresulting in better customer experience, higher sales, lower inventories, better service levels and improved response times. \\n \\xa0\\xa0\\xa0\\xa0\\xa0\\xa0\\xa0\\xa0Information Management Software:\\xa0enables clients to integrate, manage and use their information to gain business value and improve their outcomes.\\nSolutions include advanced database management, enterprise content management, information integration, data warehousing, performance management business analytics and intelligence, as well as the\\nemerging area of big data analytics. \\n \\xa0\\xa0\\xa0\\xa0\\xa0\\xa0\\xa0\\xa0Tivoli Software:\\xa0helps clients manage their technology and business assets by providing visibility, control and automation across their\\norganizations. With solutions for identity management, data security, storage management, cloud computing, enterprise mobility and the ability to provide automation and provisioning of the datacenter,\\nTivoli helps build the infrastructure needed to make the world\\'s systems—from transportation to water, energy and telecommunications—run smarter. \\n\\xa0\\xa0\\xa0\\xa0\\xa0\\xa0\\xa0\\xa0Lotus Software:\\xa0enables businesses to connect people and processes for more effective communication and increased productivity through collaboration,\\nmessaging and social networking software. By remaining at the forefront of collaboration tools, Lotus helps organizations reap the benefits of social networking and social business. \\n \\xa0\\xa0\\xa0\\xa0\\xa0\\xa0\\xa0\\xa0Rational Software:\\xa0supports software development for both IT as well as complex and embedded system solutions with a suite of Collaborative Lifecycle\\nManagement products. Jazz, Rational\\'s technology platform, transforms the way people work together to build software, making software delivery more integrated and collaborative, while optimizing for\\nsuccessful business outcomes. \\n \\xa0\\xa0\\xa0\\xa0\\xa0\\xa0\\xa0\\xa0Security Systems Software:\\xa0provides clients with a single security intelligence platform that aligns with their business objectives and enables them\\nto more intelligently secure their enterprises by applying\\ndeep analytics to better identify and prevent vulnerabilities within traditional, cyber, cloud and mobile security. \\n \\xa0\\xa0\\xa0\\xa0\\xa0\\xa0\\xa0\\xa0Operating Systems:\\xa0software that manages the fundamental processes that make computers run. \\n\\xa0\\xa0\\xa0\\xa0\\xa0\\xa0\\xa0\\xa0Systems and Technology provides clients with business solutions requiring advanced computing power and storage capabilities. Approximately\\nhalf of Systems and Technology\\'s server and storage sales transactions are through the company\\'s business partners; with the balance direct to end-user clients. In addition, Systems and\\nTechnology provides leading semiconductor technology, products and packaging solutions for IBM\\'s own advanced technology needs and for external clients. \\nSystems\\nand Technology Capabilities \\n\\xa0\\xa0\\xa0\\xa0\\xa0\\xa0\\xa0\\xa0Systems:\\xa0a range of general purpose and integrated systems designed and optimized for specific business, public and scientific computing needs. These\\nsystems—System z, Power Systems and System\\xa0x—are typically the core technology in data centers that provide required infrastructure for business and institutions. Also,\\nthese systems form the foundation for IBM\\'s integrated offerings, such as IBM Smart Analytics, IBM Netezza, IBM SmartCloud Entry and IBM BladeCenter for Cloud. IBM servers use both IBM and\\nnon-IBM microprocessor technology and operating systems. All IBM servers run Linux, a key open-source operating system. \\n\\xa0\\xa0\\xa0\\xa0\\xa0\\xa0\\xa0\\xa0Storage:\\xa0data storage products and solutions that allow clients to retain and manage rapidly growing, complex volumes of digital information. These\\nsolutions address critical client requirements for information retention and archiving, security, compliance and storage optimization including data \\n5\\n\\n\\n\\n \\n\\ndeduplication,\\navailability and virtualization. The portfolio consists of a broad range of disk and tape storage systems and software, including the ultra-scalable disk storage system XIV. \\n\\xa0\\xa0\\xa0\\xa0\\xa0\\xa0\\xa0\\xa0Retail Store Solutions:\\xa0provider of market leadership solutions that include hardware, software and services for the retail industry, including\\npoint-of-sale and self-service systems and peripherals. Solutions leverage industry standards and interfaces enabling efficient rollouts and superior integration. \\n \\xa0\\xa0\\xa0\\xa0\\xa0\\xa0\\xa0\\xa0Microelectronics:\\xa0semiconductor design and manufacturing primarily for use in IBM systems and storage products as well as delivering semiconductors\\nand related services to external clients. \\n\\xa0\\xa0\\xa0\\xa0\\xa0\\xa0\\xa0\\xa0Global Financing facilitates clients\\' acquisition of IBM systems, software and services. Global Financing invests in financing assets,\\nleverages with debt and manages the associated risks with the objective of generating consistently strong returns on equity. The primary focus on the company\\'s offerings and clients mitigates many of\\nthe risks normally associated with a financing company. Global Financing has the benefit of both a deep knowledge of its client base and a clear insight into the products and services that are being\\nfinanced. This combination allows Global Financing to effectively manage two of the major risks (credit and residual value) that are normally associated with financing. \\nGlobal\\nFinancing Capabilities \\n \\xa0\\xa0\\xa0\\xa0\\xa0\\xa0\\xa0\\xa0Client Financing:\\xa0lease and loan financing to end users and internal clients for terms generally between one and seven years. Internal financing is\\npredominantly in support of Global Services\\' long-term client service contracts. Global Financing also factors a selected portion of the company\\'s accounts receivable, primarily for cash\\nmanagement purposes. All internal financing arrangements are at arm\\'s-length rates and are based upon market conditions. \\n \\xa0\\xa0\\xa0\\xa0\\xa0\\xa0\\xa0\\xa0Commercial Financing:\\xa0short-term inventory and accounts receivable financing to dealers and remarketers of IT products. \\n \\xa0\\xa0\\xa0\\xa0\\xa0\\xa0\\xa0\\xa0Remanufacturing and Remarketing:\\xa0as equipment is returned at the conclusion of a lease transaction, these assets are refurbished and sold or leased\\nto new or existing clients both externally and internally. Externally remarketed equipment revenue represents sales or leases to clients and resellers. Internally remarketed equipment revenue\\nprimarily represents used equipment that is sold or leased internally to Systems and Technology and Global Services. Systems and Technology may also sell the equipment that it purchases from Global\\nFinancing to external clients. \\n IBM WORLDWIDE ORGANIZATIONS  \\n\\xa0\\xa0\\xa0\\xa0\\xa0\\xa0\\xa0\\xa0The following worldwide organizations play key roles in IBM\\'s delivery of value to its clients: \\n\\n\\n•Sales and Distribution   \\n•Research, Development and Intellectual Property   \\n•Enterprise Transformation  \\n•Integrated Supply Chain \\n\\n Sales and Distribution  \\n\\xa0\\xa0\\xa0\\xa0\\xa0\\xa0\\xa0\\xa0IBM has a significant global presence, operating in more than 170 countries, with an increasingly broad-based geographic distribution\\nof revenue. The company\\'s Sales and Distribution organization manages a strong global footprint, with dedicated country-based operating units focused on delivering client value. Within these units,\\nclient relationship professionals work with integrated teams of consultants, product specialists and delivery fulfillment teams to improve clients\\' business performance. These teams deliver value by\\nunderstanding the clients\\' businesses and\\nneeds, and then bring together capabilities from across IBM and an extensive network of Business Partners to develop and implement solutions. \\n6\\n\\n\\n\\n \\n\\xa0\\xa0\\xa0\\xa0\\xa0\\xa0\\xa0\\xa0By\\ncombining global expertise with local experience, IBM\\'s geographic structure enables dedicated management focus for local clients, speed in addressing new market opportunities and\\ntimely investments in emerging opportunities. The geographic units align industry-skilled resources to serve clients\\' agendas. IBM extends capabilities to mid-market client segments by\\nleveraging industry skills with marketing, ibm.com and local Business Partner resources. \\n\\xa0\\xa0\\xa0\\xa0\\xa0\\xa0\\xa0\\xa0Through\\nits growth markets organization, the company continues to increase its focus on the emerging markets around the world that have market growth rates greater than the global\\naverage—countries within Southeast Asia, Eastern Europe, the Middle East and Latin America. The company\\'s major markets include the G7 countries of Canada, France, Germany, Italy, Japan,\\nthe United States (U.S.) and the United Kingdom (U.K.) plus Austria, the Bahamas, Belgium, the Caribbean region, Cyprus, Denmark, Finland, Greece, Iceland, Ireland, Israel, Malta, the Netherlands,\\nNorway, Portugal, Spain, Sweden and Switzerland. \\n\\xa0\\xa0\\xa0\\xa0\\xa0\\xa0\\xa0\\xa0The\\nmajority of IBM\\'s revenue, excluding the company\\'s original equipment manufacturer (OEM) technology business, occurs in industries that are broadly grouped into six\\nsectors: \\n\\n\\n•Financial Services: Banking, Financial Markets, Insurance   \\n•Public: Education, Government, Healthcare, Life Sciences   \\n•Industrial: Aerospace and Defense, Automotive, Chemical and Petroleum, Electronics   \\n•Distribution: Consumer Products, Retail, Travel and Transportation   \\n•Communications: Telecommunications, Media and Entertainment, Energy and Utilities   \\n•General Business: Mainly companies with fewer than 1,000 employees \\n\\n Research, Development and Intellectual Property  \\n\\xa0\\xa0\\xa0\\xa0\\xa0\\xa0\\xa0\\xa0IBM\\'s R&D operations differentiate the company from its competitors. IBM annually invests approximately $6\\xa0billion for R&D,\\nfocusing on high-growth, high-value opportunities. \\n\\xa0\\xa0\\xa0\\xa0\\xa0\\xa0\\xa0\\xa0IBM\\nResearch works with clients and IBM business units on near-term and mid-term innovations and solutions and, in many cases, qualifies new technologies to be\\ntransferred to IBM development organizations. It also explores the boundaries of science and technology—from nanotechnology, to systems, to analytics, to cloud, to IBM Watson, a computer\\nsystem that applied advanced analytics to defeat the all-time champions on the television quiz show, Jeopardy! \\n\\xa0\\xa0\\xa0\\xa0\\xa0\\xa0\\xa0\\xa0In\\naddition to producing world-class systems, software and technology products, IBM innovations also are a major differentiator in providing solutions for the company\\'s clients through\\nits services businesses. IBM Research has the world\\'s largest mathematics department of any public company. This unit is actively involved with many of the company\\'s business analytics client\\nengagements. \\n\\xa0\\xa0\\xa0\\xa0\\xa0\\xa0\\xa0\\xa0In\\n2011, the company once again was awarded more U.S. patents than any other company, the 19th consecutive year IBM has been the patent leader. IBM\\'s 6,180 patents in 2011 were the most\\nU.S. patents ever awarded to one company in a single year; more than 70\\xa0percent of the patents IBM was issued in 2011 were for software and services. \\n\\xa0\\xa0\\xa0\\xa0\\xa0\\xa0\\xa0\\xa0The\\ncompany continues to actively seek intellectual property protection for its innovations, while increasing emphasis on other initiatives designed to leverage its intellectual property\\nleadership. The company\\'s investments in R&D also result in intellectual property (IP) income of approximately $1 billion annually. Some of IBM\\'s technological breakthroughs are used exclusively in\\nIBM products, while others are licensed and may be used in either/both IBM products and/or the products of the licensee. While the company\\'s various proprietary intellectual property rights are\\nimportant to its success, IBM believes its business as a whole is not materially dependent on any particular patent or license, or any particular group of patents or licenses. IBM owns or is licensed\\nunder a number of patents, which vary in duration, relating to its products. Licenses under many of the patents owned by IBM have been and are being granted to others under reasonable terms and\\nconditions. \\n7\\n\\n\\n\\n\\n \\n\\n\\n\\n\\n\\n\\n\\n\\n\\n Enterprise Transformation  \\n\\xa0\\xa0\\xa0\\xa0\\xa0\\xa0\\xa0\\xa0A key element of the company\\'s strategy has been focused on becoming the premier globally integrated enterprise. The company has\\nimplemented a consistent set of processes and standards worldwide to reduce inefficiencies and improve collaboration. With its processes fully integrated, the company implemented a new operating model\\nwith work shared in global resource centers of excellence located where it made the most business sense. Since 2005, global integration has enabled the company to deliver over $6\\xa0billion in\\nproductivity and improve service quality, speed and risk management. The company has shifted resources toward building client relationships and employees skills, while positioning the company for new\\nmarket opportunities. During this transformation, IBM pioneered this new operating model, changing from a classic \"multinational,\" with smaller versions of the parent company replicated in countries\\naround the world, to a global model with one set of processes, shared services and broadly distributed decision making. \\n\\xa0\\xa0\\xa0\\xa0\\xa0\\xa0\\xa0\\xa0The\\ncompany has now embarked on the next generation of its transformation in which new capabilities and technologies like business analytics and cloud computing will drive performance.\\nThe proven principles of the globally integrated enterprise will be applied to all of the company\\'s spending to continue to drive additional productivity benefits in shared services, integrated\\noperations and end-to-end process transformation. \\n Integrated Supply Chain  \\n\\xa0\\xa0\\xa0\\xa0\\xa0\\xa0\\xa0\\xa0IBM spends approximately $35\\xa0billion annually through its supply chain, procuring materials and services globally. In addition,\\nin 2011, the company managed approximately\\n$20\\xa0billion in procurement spending for its clients through the Global Process Services organization. The supply, manufacturing and logistics and customer fulfillment operations are integrated\\nin one operating unit that has optimized inventories over time. Simplifying and streamlining internal processes has improved sales force productivity and operational effectiveness and efficiency.\\nContinuous improvements to supply chain resiliency against market-place changes and risks have been particularly valuable in maintaining continuity during natural disasters and other disruptive events\\nthat are occurring with increased frequency. \\n\\xa0\\xa0\\xa0\\xa0\\xa0\\xa0\\xa0\\xa0The\\ncompany\\'s continuing efforts to derive business value from its own globally integrated supply chain provides a strategic advantage for the company to create value for clients. IBM\\nleverages its supply-chain expertise for clients through its supply-chain business transformation outsourcing service to optimize and help operate clients\\' end-to-end\\nsupply-chain processes, from procurement to logistics. \\n COMPETITION  \\n\\xa0\\xa0\\xa0\\xa0\\xa0\\xa0\\xa0\\xa0The company is a globally-integrated enterprise, operating in more than 170 countries. The company participates in a highly competitive\\nenvironment, where its competitors vary by industry segment, and range from large multinational enterprises to smaller, more narrowly focused entities. Overall, across its business segments, the\\ncompany recognizes hundreds of competitors worldwide. \\n\\xa0\\xa0\\xa0\\xa0\\xa0\\xa0\\xa0\\xa0Across\\nits business, the company\\'s principal methods of competition are: technology innovation; performance; price; quality; brand; its broad range of capabilities, products and\\nservices; client relationships; the ability to deliver business value to clients; and, service and support. In order to maintain leadership, a corporation must continue to invest, innovate and\\nintegrate. The company has been executing a strategy to transform its business, including shifting to higher value market segments and offerings and increasing its capabilities through organic\\ninvestments and strategic acquisitions. As the company executes its strategy, it enters new markets, such as smarter planet and business analytics, which exposes the company to new competitors.\\nOverall, the company is the leader or among the leaders in each of its business segments. \\n8\\n\\n\\n\\n \\n\\xa0\\xa0\\xa0\\xa0\\xa0\\xa0\\xa0\\xa0A\\nsummary of the competitive environment for each business segment is included below: \\n Global Services:  \\n\\xa0\\xa0\\xa0\\xa0\\xa0\\xa0\\xa0\\xa0The services segments, GTS and GBS, operate in a highly competitive and continually evolving global market. GTS competes in strategic\\noutsourcing, business process outsourcing, cloud services, and a wide range of technical and IT support services. GBS competes in consulting, system integration and application management services.\\nThe principal competitive factors in these business segments include: technical skills and capabilities, innovative service and product offerings, industry knowledge and experience, value and speed,\\nprice, client relationships, quality of sales and delivery, reliability, security and the availability of resources. The company\\'s competitive advantages in the services business include its global\\nreach and scale, global delivery model, best-of-breed process and industry skills, extensive technology expertise, services assets, an ability to deliver integrated solutions\\nthat can address clients\\' needs in any environment and a strong set of relationships with clients and strategic business partners worldwide. The company competes with broad based competitors\\nincluding: Accenture, Computer Sciences Corporation, Fujitsu and Hewlett-Packard Company (HP); India-based service providers; the consulting practices of public accounting firms; and many companies\\nthat primarily focus on local markets or niche service areas. \\n Software:  \\n\\xa0\\xa0\\xa0\\xa0\\xa0\\xa0\\xa0\\xa0The enterprise management software market is highly competitive, and the key competitive factors in this segment include:\\nfunctionality, ease of use, scalability, compliance with open standards and total cost of ownership. The company\\'s leadership in these areas provides it with competitive advantages. The company\\'s\\nsoftware business includes middleware, operating systems and related software that provide comprehensive solutions to all industry segments worldwide. The middleware portfolio is the broadest in the\\nindustry and it also covers both mainframe and distributed computing environments. The depth and breadth of the company\\'s software offerings, coupled with its global sales and technical support\\ninfrastructure differentiate the company\\'s software business from its competitors. In addition, the company\\'s research and development capabilities and intellectual property patent portfolio\\ncontribute to this segment\\'s leadership. The company\\'s principal competitors in this segment include CA,\\xa0Inc., Microsoft Corporation and Oracle Corporation (Oracle). In addition, the company\\ncompetes with smaller, niche competitors in specific geographic or product markets worldwide. \\n Systems and Technology:  \\n\\xa0\\xa0\\xa0\\xa0\\xa0\\xa0\\xa0\\xa0The enterprise server and storage market is highly competitive and is characterized by ongoing technology innovation, with competition\\nfocused on value, function and reliability, and new entrants leveraging technology to compete against traditional offerings. The company\\'s principal competitors include Cisco Systems, Inc. (Cisco),\\nDell,\\xa0Inc. (Dell), EMC Corporation, HP and Oracle. The company\\'s leadership in virtualization, power management, security, multi-operating system capabilities and the ability of its systems\\nplatforms to leverage the entire system, from the company\\'s custom semiconductors through the software stack to increase efficiency and lower cost, provide the company with competitive advantages in\\nthis segment. In addition, the company\\'s research and development capabilities and intellectual property patent portfolio contribute significantly to this segment\\'s leadership. \\n Global Financing:  \\n\\xa0\\xa0\\xa0\\xa0\\xa0\\xa0\\xa0\\xa0Global Financing provides client financing, commercial financing and participates in the remarketing of used equipment. The economic\\ncrisis of 2008 and 2009 drove an increase in credit spreads and a tightening supply of credit which have subsequently eased. However, going forward credit spreads may increase and the supply of credit\\nmay tighten based on worldwide economic conditions. Global Financing\\'s access to capital and its ability to manage increased exposures provide a competitive \\n9\\n\\n\\n\\n \\n\\nadvantage\\nfor the company. The key competitive factors include price, IT product expertise, client service, contract flexibility, ease of doing business, global capabilities and residual values. In\\nclient and commercial financing, Global Financing competes with three types of companies in providing financial services to IT customers: other captive financing entities of companies such as Cisco\\nand HP and non-captive financing entities of companies such as General Electric Company and banks or financial institutions. In remarketing, the company competes with local and regional\\nbrokers plus original manufacturers in the fragmented worldwide used IT equipment market. \\n Forward-looking and Cautionary Statements  \\n\\xa0\\xa0\\xa0\\xa0\\xa0\\xa0\\xa0\\xa0Certain statements contained in this Form\\xa010-K may constitute \"forward-looking statements\" within the meaning of the Private\\nSecurities Litigation Reform Act of\\n1995 (\"Reform Act\"). Forward-looking statements are based on the company\\'s current assumptions regarding future business and financial performance. These statements by their nature address matters\\nthat are uncertain to different degrees. The company may also make forward-looking statements in other reports filed with the Securities and Exchange Commission, in materials delivered to stockholders\\nand in press releases. In addition, the company\\'s representatives may from time to time make oral forward-looking statements. Forward-looking statements provide current expectations of future events\\nbased on certain assumptions and include any statement that does not directly relate to any historical or current fact. Words such as \"anticipates,\" \"believes,\" \"expects,\" \"estimates,\" \"intends,\"\\n\"plans,\" \"projects,\" and similar expressions, may identify such forward-looking statements. Any forward-looking statement in this Form\\xa010-K speaks only as of the date on which it is made. The\\ncompany assumes no obligation to update or revise any forward-looking statements. In accordance with the Reform Act, set forth under Item\\xa01A. \"Risk Factors\" on pages\\xa011 to 16 are\\ncautionary statements that accompany those forward-looking statements. Readers should carefully review such cautionary statements as they identify certain important factors that could cause actual\\nresults to differ materially from those in the forward-looking statements and from historical trends. Those cautionary statements are not exclusive and are in addition to other factors discussed\\nelsewhere in this Form\\xa010-K, in the company\\'s filings with the Securities and Exchange Commission or in materials incorporated therein by reference. \\n\\xa0\\xa0\\xa0\\xa0\\xa0\\xa0\\xa0\\xa0The\\nfollowing information is included in IBM\\'s 2011 Annual Report to Stockholders and is incorporated herein by reference: \\n\\xa0\\xa0\\xa0\\xa0\\xa0\\xa0\\xa0\\xa0Segment\\ninformation and revenue by classes of similar products or services—pages\\xa0135 to\\xa0139. \\n\\xa0\\xa0\\xa0\\xa0\\xa0\\xa0\\xa0\\xa0Financial\\ninformation by geographic areas—page\\xa0139. \\n\\xa0\\xa0\\xa0\\xa0\\xa0\\xa0\\xa0\\xa0Amount\\nspent during each of the last three years on R&D activities—page\\xa0117. \\n\\xa0\\xa0\\xa0\\xa0\\xa0\\xa0\\xa0\\xa0Financial\\ninformation regarding environmental activities—pages\\xa0108 and\\xa0109. \\n\\xa0\\xa0\\xa0\\xa0\\xa0\\xa0\\xa0\\xa0The\\nnumber of persons employed by the registrant—page\\xa063. \\n\\xa0\\xa0\\xa0\\xa0\\xa0\\xa0\\xa0\\xa0The\\nmanagement discussion overview—pages\\xa018 to 20. \\n\\xa0\\xa0\\xa0\\xa0\\xa0\\xa0\\xa0\\xa0Available\\ninformation—page\\xa0145. \\nAlso\\nrefer to Item\\xa01A. entitled \"Risk Factors\" in Part I of this Form. \\n10\\n\\n\\n\\n \\n Executive Officers of the Registrant (at February\\xa028, 2012):  \\n\\n\\n\\n\\n\\n\\n\\n\\n\\n\\n\\n\\n*Member\\nof the Board of Directors. \\n\\n\\xa0\\xa0\\xa0\\xa0\\xa0\\xa0\\xa0\\xa0All\\nexecutive officers are elected by the Board of Directors and serve until the next election of officers in conjunction with the annual meeting of the stockholders as provided in the\\nBy-laws. Each executive officer named above has been an executive of IBM or its subsidiaries during the past five years. \\n \\n \\n  Item\\xa01A. Risk Factors:     \\n\\xa0\\xa0\\xa0\\xa0\\xa0\\xa0\\xa0\\xa0Downturn in Economic Environment and Corporate IT Spending Budgets could impact the Company\\'s Business: If overall demand for systems,\\nsoftware and services decreases, whether due to general economic conditions or a shift in corporate buying patterns, the company\\'s revenue and profit could be impacted. \\n\\xa0\\xa0\\xa0\\xa0\\xa0\\xa0\\xa0\\xa0The Company may not meet its Growth and Productivity Objectives under its Internal Business Transformation and Global Integration\\nInitiatives: On an ongoing basis, IBM seeks to drive greater productivity, flexibility and cost savings by transforming and globally integrating its own business processes and\\nfunctions to remain competitive and to enable scaling of resources and offerings in both emerging and more established markets. These various initiatives may not yield their intended gains in quality,\\nproductivity and enablement of rapid scaling, which may impact the company\\'s competitiveness and its ability to meet its growth and productivity objectives. \\n\\xa0\\xa0\\xa0\\xa0\\xa0\\xa0\\xa0\\xa0Failure of Innovation Initiatives could impact the Long-Term Success of the Company: IBM has been moving away from certain\\nsegments of the IT industry and into areas in which it can differentiate itself \\n11\\n\\n\\n\\n \\n\\nthrough\\ninnovation and by leveraging its investments in R&D. If IBM is unable to continue its cutting-edge innovation in a highly competitive environment, the company could fail in its\\nongoing efforts to maintain and increase its market share and its profit margins. In addition, IBM\\nhas one of the strongest brand names in the world, and its brand and overall reputation could be negatively impacted by many factors, including if the company does not continue to be recognized for\\nits industry-leading technology and solutions. If the company\\'s brand image is tarnished by negative perceptions, our ability to attract and retain customers could be impacted. \\n\\xa0\\xa0\\xa0\\xa0\\xa0\\xa0\\xa0\\xa0Risks from Investing in Growth Opportunities could impact the Company\\'s Business: The company continues to invest significantly in growth\\nopportunities, including higher-value segments of enterprise computing and dozens of emerging countries to drive revenue growth and market share gains. Client adoption rates and viable economic models\\nare uncertain in the high-value and rapidly-growing segments. In addition, as the company expands to capture emerging growth opportunities, it needs to rapidly secure the appropriate mix\\nof trained, skilled and experienced personnel. In emerging growth countries, the developing nature presents potential political, social, legal and economic risks from inadequate infrastructure,\\ncreditworthiness of customers and business partners, labor disruption and corruption, which could impact the company\\'s ability to meet its growth objectives and to deliver to its clients around the\\nworld. \\n\\xa0\\xa0\\xa0\\xa0\\xa0\\xa0\\xa0\\xa0IBM\\'s Intellectual Property Portfolio may not prevent Competitive Offerings, and IBM may not be able to Obtain Necessary Licenses: The\\ncompany\\'s patents and other intellectual property may not prevent competitors from independently developing products and services similar to or duplicative to the company\\'s, nor can there be any\\nassurance that the resources invested by the company to protect its intellectual property will be sufficient or that the company\\'s intellectual property portfolio will adequately deter\\nmisappropriation or improper use of the company\\'s technology. In addition, the company may be the target of aggressive and opportunistic enforcement of patents by third parties, including\\nnon-practicing entities. Also, there can be no assurances that IBM will be able to obtain from third parties the licenses it needs in the future. \\n\\xa0\\xa0\\xa0\\xa0\\xa0\\xa0\\xa0\\xa0Cybersecurity and Privacy Considerations could impact the Company\\'s Business: The company\\'s products, services, and systems may affect\\ncritical third party operations or involve the storage, processing and transmission of proprietary information and sensitive or confidential data, including personal information of employees,\\ncustomers and others. Breaches of security could expose the company, its customers or others to risks of loss, including the misuse of information or systems, resulting in litigation and potential\\nliability for the company, as well as the loss of existing or potential customers and damage to the company\\'s brand and reputation. In addition, the cost and operational consequences of implementing\\nfurther data protection measures could be significant. Also, the company could be negatively impacted by existing and proposed laws and regulations related to privacy and data protection. \\n\\xa0\\xa0\\xa0\\xa0\\xa0\\xa0\\xa0\\xa0The Company\\'s Financial Results for Particular Periods are Difficult to Predict: IBM\\'s revenues are affected by such factors as the\\nintroduction of new products and services, the length of the sales cycles and the seasonality of technology purchases. The company\\'s financial results may also be impacted by the structure of products\\nand services contracts and the nature of its customers\\' businesses; for example, certain of the company\\'s services contracts with commercial customers in regulated industries are subject to periodic\\nreview by regulators with respect to controls and processes. As a result of the above-mentioned factors, the company\\'s financial results are difficult to predict. Historically, the company has had\\nlower revenue in the first quarter than in the immediately preceding fourth quarter. In addition, the high volume of products typically ordered at the end of each quarter, especially at the\\nend of the fourth quarter, may affect IBM\\'s ability to successfully ship all orders before the end of the quarter. \\n12\\n\\n\\n\\n \\n\\xa0\\xa0\\xa0\\xa0\\xa0\\xa0\\xa0\\xa0Due to the Company\\'s Global Presence, its Business and Operations could be impacted by Local Legal, Economic, Political and Health\\nConditions: The company is a globally integrated entity, operating in over 170 countries worldwide and deriving more than sixty percent of its revenues from sales outside the\\nUnited States. Changes in the laws or policies of the countries in which the company operates, or inadequate enforcement of laws or policies, could affect the company\\'s business and the company\\'s\\noverall results of operations. The company\\'s results of operations also could be affected by economic and political changes in those countries and by macroeconomic changes, including recessions,\\ninflation and currency fluctuations between the U.S. dollar and non-U.S. currencies. Further, as the company expands its customer base and the scope of its offerings, both within the U.S.\\nand globally, it may be impacted by additional regulatory or other risks. In addition, any widespread outbreak of an illness, pandemic or other local or global health issue, or any terrorist\\nactivities, could adversely affect customer demand and the company\\'s operations and its ability to source and deliver products and services to its customers. \\n\\xa0\\xa0\\xa0\\xa0\\xa0\\xa0\\xa0\\xa0The Company could incur Substantial Costs for Environmental Matters: The company is subject to various federal, state, local and foreign\\nlaws and regulations concerning the discharge of materials into the environment or otherwise related to environmental protection, including the U.S. Superfund law. The company could incur substantial\\ncosts, including cleanup costs, fines and civil or criminal sanctions, as well as third-party claims for property damage or personal injury, if it were to violate or become liable under environmental\\nlaws and regulations. Compliance with environmental laws and regulations is not expected to have a material adverse effect on the company\\'s financial position, results of operations and competitive\\nposition. \\n\\xa0\\xa0\\xa0\\xa0\\xa0\\xa0\\xa0\\xa0Tax Matters could impact the Company\\'s Results of Operations and Financial Condition: The company is subject to income taxes in both the\\nUnited States and numerous foreign jurisdictions. IBM\\'s provision for income taxes and cash tax liability in the future could be adversely affected by numerous factors including, but not limited to,\\nincome before taxes being lower than anticipated in countries with lower statutory tax rates and higher than anticipated in countries with higher statutory tax rates, changes in the valuation of\\ndeferred tax assets and liabilities, and changes in tax laws, regulations, accounting principles or interpretations thereof, which could adversely impact the company\\'s results of operations and\\nfinancial condition in future periods. In addition, IBM is subject to the continuous examination of its income tax returns by the United States Internal Revenue Service and other tax authorities. The\\ncompany regularly assesses the likelihood of adverse outcomes resulting from these examinations to determine the adequacy of its provision for income taxes. There can be no assurance that the outcomes\\nfrom these continuous examinations will not have an adverse effect on the company\\'s provision for income taxes and cash tax liability. \\n\\xa0\\xa0\\xa0\\xa0\\xa0\\xa0\\xa0\\xa0The Company\\'s Results of Operations and Financial Condition could be negatively impacted by its U.S. and non-U.S. Pension\\nPlans: Adverse equity market conditions and volatility in the credit markets may have an unfavorable impact on the value of the company\\'s pension trust assets and its future\\nestimated pension liabilities. As a result, the company\\'s financial results in any period could be negatively impacted. In addition, in a period of an extended financial market downturn, the company\\ncould be required to provide incremental pension plan funding with resulting liquidity risk which could negatively impact the company\\'s financial flexibility. Further, the company\\'s results of\\noperations and financial results could be negatively impacted by premiums for mandatory pension insolvency insurance coverage outside the U.S. Premium increases can be significant due to the level of\\ninsolvencies of unrelated companies in the country at issue. Currently, Canada, Germany, Luxembourg and the United Kingdom require that these premiums be paid directly by the company and not out of\\nplan assets, which could negatively impact the company\\'s earnings. IBM\\'s 2011 Annual Report to Stockholders includes information about potential impacts from pension funding and the use of certain\\nassumptions regarding pension matters. \\n13\\n\\n\\n\\n \\n\\xa0\\xa0\\xa0\\xa0\\xa0\\xa0\\xa0\\xa0Ineffective Internal Controls could impact the Company\\'s Business and Operating Results: The company\\'s internal control over financial\\nreporting may not prevent or detect misstatements because of its inherent limitations, including the possibility of human error, the circumvention or overriding of controls, or fraud. Even effective\\ninternal controls can provide only reasonable assurance with respect to the preparation and fair presentation of financial statements. If the company fails to maintain the adequacy of its internal\\ncontrols, including any failure to implement required new or improved controls, or if the company experiences difficulties in their implementation, the company\\'s business and operating results could\\nbe harmed and the company could fail to meet its financial reporting obligations. \\n\\xa0\\xa0\\xa0\\xa0\\xa0\\xa0\\xa0\\xa0The Company\\'s Use of Accounting Estimates involves Judgment and could impact the Company\\'s Financial Results: The application of generally\\naccepted accounting principles requires the company to make estimates and assumptions about certain items and future events that directly affect its reported financial condition. The company\\'s most\\ncritical accounting estimates are described in the Management Discussion in IBM\\'s 2011 Annual Report to Stockholders, under \"Critical Accounting Estimates.\" In addition, as discussed in note\\xa0M,\\n\"Contingencies and Commitments,\" in IBM\\'s 2011 Annual Report to Stockholders, the company makes certain estimates including decisions related to legal proceedings and reserves. These estimates and\\nassumptions involve the use of judgment. As a result, actual financial results may differ. \\n\\xa0\\xa0\\xa0\\xa0\\xa0\\xa0\\xa0\\xa0The Company Depends on Skilled Personnel and could be impacted by the loss of Critical Skills: Much of the future success of the company\\ndepends on the continued service, availability and integrity of skilled personnel, including technical, marketing and staff resources. Experienced personnel in the information technology industry are\\nin high demand, and competition for their talents is intense. Changing demographics and labor work force trends may result in a loss of knowledge and skills as experienced\\nworkers leave the company. In addition, as global opportunities and industry demand shifts, realignment, training and scaling of skilled resources may not be sufficiently rapid. Further, many of IBM\\'s\\nkey personnel receive a total compensation package that includes equity awards. New regulations, volatility in the stock market and other factors could diminish the company\\'s use, and the value, of\\nthe company\\'s equity awards, putting the company at a competitive disadvantage or forcing the company to use more cash compensation. \\n\\xa0\\xa0\\xa0\\xa0\\xa0\\xa0\\xa0\\xa0The Company\\'s Business could be impacted by its Relationships with Critical Suppliers: IBM\\'s business employs a wide variety of\\ncomponents, supplies, services and raw materials from a substantial number of suppliers around the world. Certain of the company\\'s businesses rely on single or a limited number of suppliers. Changes\\nin the financial or business condition of these suppliers could subject the company to losses and affect its ability to bring products to market. Further, the failure of the company\\'s suppliers to\\ndeliver components, supplies, services and raw materials in sufficient quantities and in a timely manner could adversely affect the company\\'s business. In addition, any defective components, supplies\\nor materials, or inadequate services, received from suppliers could reduce the reliability of the company\\'s products and services and harm the company\\'s reputation. \\n\\xa0\\xa0\\xa0\\xa0\\xa0\\xa0\\xa0\\xa0The Company could be impacted by its Business with Government Clients: The company\\'s customers include numerous governmental entities\\nwithin and outside the U.S., including the U.S. Federal Government and state and local entities. Some of the company\\'s agreements with these customers may be subject to periodic funding approval.\\nAlso, some agreements may contain provisions allowing the customer to terminate without cause and providing for higher liability limits for certain losses. In addition, the company could be suspended\\nor debarred as a governmental contractor and could incur civil and criminal fines and penalties, which could negatively impact the company\\'s results of operations and financial results. \\n\\xa0\\xa0\\xa0\\xa0\\xa0\\xa0\\xa0\\xa0The Company is exposed to Currency and Customer Financing Risks that could impact its Revenue and Business: The company derives a\\nsignificant percentage of its revenues and costs from its affiliates \\n14\\n\\n\\n\\n \\n\\noperating\\nin local currency environments, and those results are affected by changes in the relative values of non-U.S. currencies and the U.S. dollar. Further, inherent in the company\\'s\\ncustomer financing business are risks related to the concentration of credit, client creditworthiness, interest rate and currency fluctuations on the associated debt and liabilities, the determination\\nof residual values and the financing of other than traditional IT assets. The company employs a number of strategies to manage these risks, including the use of derivative financial instruments;\\nderivatives involve the risk of non-performance by the counterparty. In addition, there can be no assurance that the company\\'s efforts to manage its currency and customer financing risks\\nwill be successful. \\n\\xa0\\xa0\\xa0\\xa0\\xa0\\xa0\\xa0\\xa0The Company\\'s Financial Performance could be impacted by Changes in Market Liquidity Conditions and by Customer Credit Risk on\\nReceivables: The company\\'s financial performance is exposed to a wide variety of industry sector dynamics worldwide. The company\\'s earnings and cash flows, as well as its\\naccess to funding, could be negatively impacted by changes in market liquidity conditions. IBM\\'s 2011 Annual Report to Stockholders includes information about the company\\'s liquidity position. The\\ncompany\\'s client base includes many worldwide enterprises, from small and medium businesses to the world\\'s largest organizations and governments, with a significant portion of the company\\'s revenue\\ncoming from global clients across many sectors. Most of the company\\'s sales are on an open credit basis, and the company performs ongoing credit evaluations of its clients\\' financial conditions. If\\nthe company becomes aware of information related to the creditworthiness of a major customer, or, if future actual default rates on receivables in general differ from those currently anticipated, the\\ncompany may have to adjust its allowance for credit losses, which could affect the company\\'s consolidated net income in the period the adjustments are made. \\n\\xa0\\xa0\\xa0\\xa0\\xa0\\xa0\\xa0\\xa0The Company\\'s Reliance on Third Party Distribution Channels could impact its Business: The company offers its products directly and\\nthrough a variety of third party distributors and resellers. Changes in the financial or business condition of these distributors and resellers could subject the company to losses and affect its\\nability to bring its products to market. As the company moves into new areas, distributors and resellers may be unable to keep up with changes in technology and offerings, and the company may be\\nunable to recruit and enable appropriate partners to achieve growth objectives. \\n\\xa0\\xa0\\xa0\\xa0\\xa0\\xa0\\xa0\\xa0Risks to the Company from Acquisitions and Alliances include Integration Challenges, Failure to Achieve Objectives, and the Assumption of Liabilities:  The company has made and expects to continue to make\\nacquisitions or enter into alliances. Acquisitions and alliances present significant challenges and risks relating to the\\nintegration of the business into the company, and there can be no assurances that the company will manage acquisitions and alliances successfully. The related risks include the company failing to\\nachieve strategic objectives and anticipated revenue improvements and cost savings, as well as the failure to retain key personnel of the acquired business and the assumption of liabilities related to\\nlitigation or other legal proceedings involving the acquired business. \\n\\xa0\\xa0\\xa0\\xa0\\xa0\\xa0\\xa0\\xa0Risk Factors Related to IBM Securities: The company and its subsidiaries issue debt securities in the worldwide capital markets from time\\nto time, with a variety of different maturities and in different currencies. The value of the company\\'s debt securities fluctuates based on many factors, including the methods employed for calculating\\nprincipal and interest, the maturity of the securities, the aggregate principal amount of securities outstanding, the redemption features for the securities, the level, direction and volatility of\\ninterest rates, changes in exchange rates, exchange controls, governmental and stock exchange regulations and other factors over which the company has little or no control. The company\\'s ability to\\npay interest and repay the principal for its debt securities is dependent upon its ability to manage its business operations, as well as the other risks described under this Item\\xa01A. entitled\\n\"Risk Factors.\" There can be no assurance that the company will be able to manage any of these risks successfully. \\n15\\n\\n\\n\\n \\n\\xa0\\xa0\\xa0\\xa0\\xa0\\xa0\\xa0\\xa0The\\ncompany also issues its common stock from time to time in connection with various compensation plans, contributions to its pension plan and certain acquisitions. The market price of\\nIBM common stock is subject to significant volatility, due to other factors described under this Item\\xa01A. entitled \"Risk Factors,\" as well as economic and geopolitical conditions generally,\\ntrading volumes, speculation by the press or investment community about the company\\'s financial condition, and other factors, many of which are beyond the company\\'s control. Since the market price of\\nIBM\\'s common stock fluctuates significantly, stockholders may not be able to sell the company\\'s stock at attractive prices. \\n\\xa0\\xa0\\xa0\\xa0\\xa0\\xa0\\xa0\\xa0In\\naddition, changes by any rating agency to the company\\'s outlook or credit ratings can negatively impact the value and liquidity of both the company\\'s debt and equity securities. The\\ncompany does not make a market in either its debt or equity securities and cannot provide any assurances with respect to the liquidity or value of such securities. \\n \\n \\n  Item 1B. Unresolved Staff Comments:     \\n\\xa0\\xa0\\xa0\\xa0\\xa0\\xa0\\xa0\\xa0Not applicable. \\n \\n \\n  Item 2. Properties:     \\n\\xa0\\xa0\\xa0\\xa0\\xa0\\xa0\\xa0\\xa0At December\\xa031, 2011, IBM\\'s manufacturing and development facilities in the United States had aggregate floor space of\\n18\\xa0million square feet, of which 16\\xa0million was owned and 2\\xa0million was leased. Of these amounts, 2\\xa0million square feet was vacant and 1\\xa0million square feet was\\nbeing leased to non-IBM businesses. Similar facilities in 12 other countries totaled 6\\xa0million square feet, of which 1\\xa0million was owned and 5\\xa0million was leased. \\n\\xa0\\xa0\\xa0\\xa0\\xa0\\xa0\\xa0\\xa0Although\\nimproved production techniques, productivity gains and infrastructure reduction actions have resulted in reduced manufacturing floor space, continuous maintenance and upgrading\\nof facilities is essential to maintain technological leadership, improve productivity and meet customer demand. \\n \\n \\n  Item 3. Legal Proceedings:     \\n\\xa0\\xa0\\xa0\\xa0\\xa0\\xa0\\xa0\\xa0Refer to note\\xa0M, \"Contingencies and Commitments,\" on pages\\xa0112 to 114 of IBM\\'s 2011 Annual Report to Stockholders, which\\nis incorporated herein by reference. \\n \\n \\n  Item 4. Mine Safety Disclosures:     \\n\\xa0\\xa0\\xa0\\xa0\\xa0\\xa0\\xa0\\xa0Not applicable. \\n16\\n\\n\\n\\n\\n \\n\\n\\n\\n\\n\\n\\n\\n\\n\\n \\n \\n  PART II     \\n \\n    Item 5. Market for the Registrant\\'s Common Equity, Related Stockholder Matters and Issuer Purchases of Equity Securities:\\n\\xa0\\xa0\\xa0\\xa0\\xa0\\xa0\\xa0\\xa0Refer\\nto pages\\xa0141 and 145 of IBM\\'s 2011 Annual Report to Stockholders, which are incorporated herein by reference solely as they relate to this item. \\n\\xa0\\xa0\\xa0\\xa0\\xa0\\xa0\\xa0\\xa0IBM\\ncommon stock is listed on the New York Stock Exchange and the Chicago Stock Exchange. There were 504,093 common stockholders of record at February\\xa010, 2012. \\n\\xa0\\xa0\\xa0\\xa0\\xa0\\xa0\\xa0\\xa0The\\nfollowing table provides information relating to the company\\'s repurchase of common stock for the fourth quarter of 2011. \\n\\n\\n\\n\\n\\n\\n\\n\\n\\n\\n\\n\\n(1)On\\nApril\\xa026, 2011, the Board of Directors authorized $8.0\\xa0billion in funds for use in the company\\'s common stock repurchase program. On\\nOctober\\xa025, 2011 the Board of Directors authorized an additional $7.0\\xa0billion in funds for use in such program. In each case, the company stated that it would repurchase shares on the\\nopen market or in private transactions depending on market conditions, and that it expects to use cash from operations for the repurchases. The common stock repurchase program does not have an\\nexpiration date. This table does not include shares tendered to satisfy the exercise price in connection with cashless exercises of employee stock options or shares tendered to satisfy tax withholding\\nobligations in connection with employee equity awards. \\n\\n \\n \\n  Item 6. Selected Financial Data:     \\n\\xa0\\xa0\\xa0\\xa0\\xa0\\xa0\\xa0\\xa0Refer to pages\\xa0140 and 141 of IBM\\'s 2011 Annual Report to Stockholders, which are incorporated herein by reference. \\n \\n \\n  Item 7. Management\\'s Discussion and Analysis of Financial Condition and Results of Operations:     \\n\\xa0\\xa0\\xa0\\xa0\\xa0\\xa0\\xa0\\xa0Refer to pages\\xa018 through 67 of IBM\\'s 2011 Annual Report to Stockholders, which are incorporated herein by reference. \\n \\n \\n  Item 7A. Quantitative and Qualitative Disclosures About Market Risk:     \\n\\xa0\\xa0\\xa0\\xa0\\xa0\\xa0\\xa0\\xa0Refer to the section titled \"Market Risk\" on pages 61 and 62 of IBM\\'s 2011 Annual Report to Stockholders, which is incorporated herein\\nby reference. \\n \\n \\n  Item 8. Financial Statements and Supplementary Data:     \\n\\xa0\\xa0\\xa0\\xa0\\xa0\\xa0\\xa0\\xa0Refer to pages 70 through 139 of IBM\\'s 2011 Annual Report to Stockholders, which are incorporated herein by reference. Also refer to\\nthe Financial Statement Schedule on page S-1 of this Form\\xa010-K. \\n17\\n\\n\\n\\n \\n \\n \\n  Item 9. Changes in and Disagreements with Accountants on Accounting and Financial Disclosure:\\n\\xa0\\xa0\\xa0\\xa0\\xa0\\xa0\\xa0\\xa0Not\\napplicable. \\n \\n \\n  Item 9A. Controls and Procedures:     \\n\\xa0\\xa0\\xa0\\xa0\\xa0\\xa0\\xa0\\xa0The company\\'s management evaluated, with the participation of the Chief Executive Officer and Chief Financial Officer, the\\neffectiveness of the company\\'s disclosure controls\\nand procedures as of the end of the period covered by this report. Based on that evaluation, the Chief Executive Officer and Chief Financial Officer have concluded that the company\\'s disclosure\\ncontrols and procedures were effective as of the end of the period covered by this report. \\n\\xa0\\xa0\\xa0\\xa0\\xa0\\xa0\\xa0\\xa0Refer\\nto \"Report of Management\" and \"Report of Independent Registered Public Accounting Firm\" on pages\\xa068 and 69 of IBM\\'s 2011 Annual Report to Stockholders, which are\\nincorporated herein by reference. There has been no change in the company\\'s internal control over financial reporting that occurred during the fourth fiscal quarter that has materially affected, or is\\nreasonably likely to materially affect, the company\\'s internal control over financial reporting. \\n18\\n\\n\\n\\n \\n \\n \\n  PART III     \\n \\n    Item 10. Directors, Executive Officers and Corporate Governance:     \\n\\xa0\\xa0\\xa0\\xa0\\xa0\\xa0\\xa0\\xa0Refer to the information under the captions \"Election of Directors for a Term of One Year,\" \"General Information—Committees\\nof the Board,\" \"Audit Committee\" and \"Section\\xa016(a) Beneficial Ownership Reporting Compliance\" in IBM\\'s definitive Proxy Statement to be filed with the Securities and Exchange Commission and\\ndelivered to stockholders in connection with the Annual Meeting of Stockholders to be held April\\xa024, 2012, all of which information is incorporated herein by reference. Also refer to\\nItem\\xa01 of this Form\\xa010-K under the caption \"Executive Officers of the Registrant (at February\\xa028, 2012)\" on page\\xa011 for additional information on the company\\'s executive\\nofficers. \\n \\n \\n  Item 11. Executive Compensation:     \\n\\xa0\\xa0\\xa0\\xa0\\xa0\\xa0\\xa0\\xa0Refer to the information under the captions \"General Information—2011 Director Compensation Narrative,\" \"2011 Director\\nCompensation Table,\" \"2011 Compensation Discussion and Analysis,\" \"2011 Summary Compensation Table Narrative,\" \"2011 Summary Compensation Table,\" \"2011 Grants of Plan-Based Awards Table,\"\\n\"2011 Outstanding Equity Awards at Fiscal Year-End Narrative,\" \"2011 Outstanding Equity Awards at Fiscal Year-End Table,\" \"2011 Option Exercises and Stock Vested Table,\" \"2011\\nRetention Plan Narrative,\" \"2011 Retention Plan Table,\" \"2011 Pension Benefits Narrative,\" \"2011 Pension Benefits Table,\" \"2011 Nonqualified Deferred Compensation Narrative,\" \"2011 Nonqualified\\nDeferred Compensation Table,\" \"2011 Potential Payments Upon Termination Narrative,\" \"2011 Potential Payments Upon Termination Table,\" \"Compensation Committee Interlocks and Insider Participation\" and\\n\"2011 Report of the Executive Compensation and Management Resources Committee of the Board of Directors\" in IBM\\'s definitive Proxy Statement to be filed with the Securities and Exchange Commission and\\ndelivered to stockholders in connection with the Annual Meeting of Stockholders to be held April\\xa024, 2012, all of which information is incorporated herein by reference. \\n \\n \\n  Item 12. Security Ownership of Certain Beneficial Owners and Management and Related Stockholder Matters:     \\n\\xa0\\xa0\\xa0\\xa0\\xa0\\xa0\\xa0\\xa0Refer to the information under the caption \"Ownership of Securities—Security Ownership of Certain Beneficial Owners\" and\\n\"Ownership of Securities—Common Stock and Stock-Based Holdings of Directors and Executive Officers\" in IBM\\'s definitive Proxy Statement to be filed with the Securities and Exchange\\nCommission and delivered to stockholders in connection with the Annual Meeting of Stockholders to be held April\\xa024, 2012, all of which information is incorporated herein by reference. \\n19\\n\\n\\n\\n \\n Equity Compensation Plan Information  \\n\\n\\n\\n\\n\\n\\n\\n\\n\\n\\n\\nn/a\\nis not applicable \\nRSUs—Restricted\\nStock Units, including Retention Restricted Stock Units \\nPSUs—Performance\\nShare Units \\nDCEAP\\nShares—Promised Fee Shares under the DCEAP (see plan description below)  \\n\\n(1)In\\nconnection with 30 acquisition transactions, 1,024,370 additional share based awards, consisting of stock options and RSU\\'s, were outstanding at\\nDecember\\xa031, 2011 as a result of the company\\'s assumption of awards granted by the acquired entities. The weighted-average exercise price of these awards was $58.87. The company has not made,\\nand will not make, any future grants or awards of equity securities under the plans of these acquired companies.\\n(2)The\\nnumbers included for PSUs in column\\xa0(a) above reflect the maximum number payout. Assuming target number payout, the number of securities to be\\nissued upon the exercise of PSUs for equity compensation plans approved by security holders is 2,628,958 and for equity compensation plans not approved by security holders is 1,058,033. For additional\\ninformation about PSUs, including payout calculations, refer to the information under \"2011 Summary Compensation Table Narrative\" in IBM\\'s definitive Proxy Statement to be filed with the Securities\\nand Exchange Commission and delivered to stockholders in connection with the Annual Meeting of Stockholders to be held April\\xa024, 2012. \\n\\n\\xa0\\xa0\\xa0\\xa0\\xa0\\xa0\\xa0\\xa0The\\nmaterial features of each equity compensation plan under which equity securities are authorized for issuance that was adopted without stockholder approval are described below: \\n 2001 LONG-TERM PERFORMANCE PLAN  \\n\\xa0\\xa0\\xa0\\xa0\\xa0\\xa0\\xa0\\xa0The 2001 Long-Term Performance Plan (the \"2001 Plan\") has been used to fund awards for employees other than senior\\nexecutives of the company. Awards for senior executives of the company \\n20\\n\\n\\n\\n \\n\\nhave\\nbeen and will continue to be funded from the stockholder-approved 1999 Long-Term Performance Plan (the \"1999 Plan\"); the 1999 Plan is also used to fund awards for employees other than\\nsenior executives. Otherwise, the provisions of the 2001 Plan are identical to the 1999 Plan, including the type of awards that may be granted under the plan (stock options, restricted stock and unit\\nawards and long-term performance incentive awards). \\n\\xa0\\xa0\\xa0\\xa0\\xa0\\xa0\\xa0\\xa0The\\n2001 Plan is administered by the Executive Compensation and Management Resources Committee of the Board of Directors, and that Committee may delegate to officers of the company\\ncertain of its duties, powers and authority. Payment of awards may be made in the form of cash, stock or combinations thereof and may be deferred with Committee approval. Awards are not transferable\\nor assignable except (i)\\xa0by law, will or the laws of descent and distribution, (ii)\\xa0as a result of the disability of the recipient, or (iii)\\xa0with the approval of the Committee. \\n\\xa0\\xa0\\xa0\\xa0\\xa0\\xa0\\xa0\\xa0If\\nthe employment of a participant terminates, other than as a result of the death or disability of a participant, all unexercised, deferred and unpaid Awards shall be canceled\\nimmediately, unless the Award Agreement provides otherwise. In the event of the death of a participant or in the event a participant is deemed by the company to be disabled and eligible for benefits\\nunder the terms of the IBM Long-Term Disability Plan (or any successor plan or similar plan of another employer), the participant\\'s estate, beneficiaries or representative, as the case may\\nbe, shall have the rights and duties of the participant under the applicable Award Agreement. In addition, unless the Award Agreement specifies otherwise, the Committee may cancel, rescind, suspend,\\nwithhold or otherwise limit or restrict any unexpired, unpaid, or deferred Awards at any time if the participant is not in compliance with all applicable provisions of the Award Agreement and the\\nPlan. In addition, Awards may be cancelled if the participant engages in any conduct or act determined to be injurious, detrimental or prejudicial to any interest of the Company. \\n PWCC ACQUISITION LONG-TERM PERFORMANCE PLAN  \\n\\xa0\\xa0\\xa0\\xa0\\xa0\\xa0\\xa0\\xa0The IBM PWCC Acquisition Long-Term Performance Plan (the \"PWCC Plan\") was adopted by the Board of Directors in connection\\nwith the company\\'s\\nacquisition of PricewaterhouseCoopers Consulting (\"PwCC\") from PricewaterhouseCoopers\\xa0LLP, as announced on October\\xa01, 2002. The PWCC Plan has been and will continue to be used solely to\\nfund awards for employees of PwCC who have come over to the company as a result of the acquisition. Awards for senior executives of the company will not be funded from the PWCC Plan. The terms and\\nconditions of the PWCC Plan are substantively identical to the terms and conditions of the 2001 Plan, described above. \\n IBM DEFERRED COMPENSATION AND EQUITY AWARD PLAN  \\n\\xa0\\xa0\\xa0\\xa0\\xa0\\xa0\\xa0\\xa0The IBM Deferred Compensation and Equity Award Plan (the \"DCEAP\") was adopted in 1993. Under the DCEAP, non-management\\ndirectors receive Promised Fee Shares in connection with deferred annual retainer payments. Each Promised Fee Share is equal in value to one share of the company\\'s common stock. Upon a director\\'s\\nretirement or other completion of service as a director, all amounts deferred into Promised Fee Shares are payable in either cash and/or shares of the company\\'s stock at the director\\'s election. (For\\nadditional information about the DCEAP, see \"General Information—2011 Director Compensation Narrative\" in IBM\\'s definitive Proxy Statement to be filed with the Securities and Exchange\\nCommission and delivered to stockholders in connection with the Annual Meeting of Stockholders to be held April\\xa024, 2012). \\n \\n \\n  Item 13. Certain Relationships and Related Transactions, and Director Independence:     \\n\\xa0\\xa0\\xa0\\xa0\\xa0\\xa0\\xa0\\xa0Refer to the information under the captions \"General Information—Board of Directors\" and \"General\\nInformation—Certain Transactions and Relationships\" in IBM\\'s definitive Proxy Statement to be filed with the Securities and Exchange Commission and delivered to stockholders in connection\\nwith \\n21\\n\\n\\n\\n \\n\\nthe\\nAnnual Meeting of Stockholders to be held April\\xa024, 2012, which information is incorporated herein by reference. \\n \\n \\n  Item 14. Principal Accounting Fees and Services:     \\n\\xa0\\xa0\\xa0\\xa0\\xa0\\xa0\\xa0\\xa0Refer to the information under the captions \"Report of the Audit Committee of the Board of Directors\" and \"Audit and\\nNon-Audit Fees\" in IBM\\'s definitive Proxy Statement to be filed with the Securities and Exchange Commission and delivered to stockholders in connection with the Annual Meeting of\\nStockholders to be held April\\xa024, 2012, all of which information is incorporated herein by reference. \\n \\n \\n  PART IV     \\n \\n    Item 15. Exhibits, Financial Statement Schedules:     \\n\\n\\n(a)The\\nfollowing documents are filed as part of this report:\\n\\n\\n1.Financial\\nstatements from IBM\\'s 2011 Annual Report to Stockholders, which are incorporated herein by reference: \\n\\n\\n\\nReport\\nof Independent Registered Public Accounting Firm (page\\xa069). \\nConsolidated\\nStatement of Earnings for the years ended December\\xa031, 2011, 2010 and 2009 (page\\xa070). \\nConsolidated\\nStatement of Comprehensive Income for the years ended December\\xa031, 2011, 2010 and 2009 page\\xa0(71). \\nConsolidated\\nStatement of Financial Position at December\\xa031, 2011 and 2010 (page\\xa072). \\nConsolidated\\nStatement of Cash Flows for the years ended December\\xa031, 2011, 2010 and 2009 (page\\xa073). \\nConsolidated\\nStatement of Changes in Equity at December\\xa031, 2011, 2010 and 2009 (pages\\xa074 and 75). \\nNotes\\nto Consolidated Financial Statements (pages\\xa076 through\\xa0139).  \\n\\n\\n2.Financial\\nstatement schedule required to be filed by Item\\xa08 of this Form: \\n\\n\\n\\n\\n\\n\\n\\n\\n\\n\\n\\xa0\\xa0\\xa0\\xa0\\xa0\\xa0\\xa0\\xa0All\\nother schedules are omitted as the required matter is not present, the amounts are not significant or the information is shown in the Consolidated Financial\\nStatements or the notes thereto.  \\n\\n\\n\\n3.Exhibits: \\n\\n\\n\\n\\n\\n\\n\\n\\n\\n\\n22\\n\\n\\n\\n \\n\\n\\n\\n\\n\\n\\n\\n\\n23\\n\\n\\n\\n \\n\\n\\n\\n\\n\\n\\n\\n\\n24\\n\\n\\n\\n \\n\\n\\n\\n\\n\\n\\n\\n\\n25\\n\\n\\n\\n \\n\\n\\n\\n\\n\\n\\n\\n\\n26\\n\\n\\n\\n \\n\\n\\n\\n\\n\\n\\n\\n\\n\\n\\n\\n\\n*Management\\ncontract or compensatory plan or arrangement.\\n**The\\nPerformance Graphs, set forth on pages\\xa0142 and\\xa0143 of IBM\\'s 2011 Annual Report to Stockholders, are deemed to be furnished but not filed. \\n\\n27\\n\\n\\n\\n\\n \\n\\n\\n\\n\\n\\n\\n\\n\\n\\n \\n \\n  SIGNATURES     \\n\\xa0\\xa0\\xa0\\xa0\\xa0\\xa0\\xa0\\xa0Pursuant to the requirements of Section\\xa013 or 15(d) of the Securities Exchange Act of 1934, the registrant has duly caused this\\nreport to be signed on its behalf by the undersigned, thereunto duly authorized. \\n\\n\\n\\n\\n\\n\\n\\n\\n\\xa0\\xa0\\xa0\\xa0\\xa0\\xa0\\xa0\\xa0Pursuant\\nto the requirements of the Securities Exchange Act of 1934, this report has been signed below by the following persons on behalf of the registrant and in the capacities and on\\nthe dates indicated. \\n\\n\\n\\n\\n\\n\\n\\n\\n\\xa0\\n\\n\\n\\n\\n\\n\\n\\n\\n28\\n\\n\\n\\n\\n \\n\\n\\n\\n\\n\\n\\n\\n\\n\\n \\n \\n  REPORT OF INDEPENDENT REGISTERED PUBLIC ACCOUNTING FIRM  ON FINANCIAL STATEMENT SCHEDULE     \\nTo\\nthe Stockholders and Board of Directors of\\nInternational Business Machines Corporation: \\n\\xa0\\xa0\\xa0\\xa0\\xa0\\xa0\\xa0\\xa0Our\\naudits of the consolidated financial statements and of the effectiveness of internal control over financial reporting referred to in our report dated February\\xa028, 2012\\nappearing in the 2011 Annual Report to Shareholders of International Business Machines Corporation (which report and consolidated financial statements are incorporated by reference in this Annual\\nReport on Form\\xa010-K) also included an audit of the Financial Statement Schedule listed in Item 15(a)(2) of this Form\\xa010-K. In our opinion, this Financial\\nStatement Schedule presents fairly, in all material respects, the information set forth therein when read in conjunction with the related consolidated financial statements. \\n/s/\\nPRICEWATERHOUSECOOPERS LLP\\nPricewaterhouseCoopers LLP\\nNew York, New York\\nFebruary\\xa028, 2012 \\n29\\n\\n\\n\\n\\n \\n\\n\\n\\n\\n\\n\\n\\n\\n\\n \\n \\n  SCHEDULE II     \\n \\n    INTERNATIONAL BUSINESS MACHINES CORPORATION AND SUBSIDIARY COMPANIES  VALUATION AND QUALIFYING ACCOUNTS AND RESERVES  For the Years Ended December\\xa031:  (Dollars in Millions)\\n \\n\\n\\n\\n\\n\\n\\n\\n\\n\\n\\n\\n\\n*Additions\\nfor Allowance for Doubtful Accounts and Allowance for Inventory Losses are charged to expense and cost accounts, respectively, while Revenue Based\\nProvisions are charged to revenue accounts.\\n**Primarily\\ncomprises currency translation adjustments. \\n\\nS-1\\n\\n\\n\\n\\n\\nQuickLinks\\nPART I\\n\\n\\nItem 1A. Risk Factors\\nItem 1B. Unresolved Staff Comments\\nItem 2. Properties\\nItem 3. Legal Proceedings\\nItem 4. Mine Safety Disclosures\\n\\n\\nPART II\\n\\nItem 5. Market for the Registrant\\'s Common Equity, Related Stockholder Matters and Issuer Purchases of Equity Securities\\nItem 6. Selected Financial Data\\nItem 7. Management\\'s Discussion and Analysis of Financial Condition and Results of Operations\\nItem 7A. Quantitative and Qualitative Disclosures About Market Risk\\nItem 8. Financial Statements and Supplementary Data\\nItem 9. Changes in and Disagreements with Accountants on Accounting and Financial Disclosure\\nItem 9A. Controls and Procedures\\n\\nPART III\\n\\nItem 10. Directors, Executive Officers and Corporate Governance\\nItem 11. Executive Compensation\\nItem 12. Security Ownership of Certain Beneficial Owners and Management and Related Stockholder Matters\\nItem 13. Certain Relationships and Related Transactions, and Director Independence\\nItem 14. Principal Accounting Fees and Services\\n\\nPART IV\\n\\nItem 15. Exhibits, Financial Statement Schedules\\n\\n\\nSIGNATURES\\n\\nREPORT OF INDEPENDENT REGISTERED PUBLIC ACCOUNTING FIRM ON FINANCIAL STATEMENT SCHEDULE\\n\\n\\nSCHEDULE II\\n\\nINTERNATIONAL BUSINESS MACHINES CORPORATION AND SUBSIDIARY COMPANIES VALUATION AND QUALIFYING ACCOUNTS AND RESERVES For the Years Ended December 31: (Dollars in Millions)\\n\\n\\n\\n\\n\\n\\n'"
      ]
     },
     "execution_count": 6,
     "metadata": {},
     "output_type": "execute_result"
    }
   ],
   "source": [
    "# have a peek!\n",
    "texts[0]\n"
   ]
  },
  {
   "cell_type": "markdown",
   "metadata": {},
   "source": [
    "### Store our data within Python"
   ]
  },
  {
   "cell_type": "code",
   "execution_count": 7,
   "metadata": {},
   "outputs": [],
   "source": [
    "# hold files locally\n",
    "import pickle # nice module name, isn't it?\n",
    "\n",
    "firms = ['Apple', 'IBM']\n",
    "\n",
    "# access index and value for a list\n",
    "for idx, val in enumerate(firms):\n",
    "    with open(val + \".pkl\", \"wb\") as f:\n",
    "        pickle.dump(texts[idx], f)"
   ]
  },
  {
   "cell_type": "markdown",
   "metadata": {},
   "source": [
    "### Load our pickled data into a dictionary"
   ]
  },
  {
   "cell_type": "code",
   "execution_count": 8,
   "metadata": {},
   "outputs": [],
   "source": [
    "# Load pickled files into a dictionary\n",
    "# Key: company name\n",
    "# value: parsed 10K text\n",
    "data = {}\n",
    "\n",
    "for _, val in enumerate(firms):\n",
    "    with open(val + \".pkl\", \"rb\") as f:\n",
    "        data[val] = pickle.load(f)"
   ]
  },
  {
   "cell_type": "code",
   "execution_count": 9,
   "metadata": {},
   "outputs": [
    {
     "data": {
      "text/plain": [
       "dict_keys(['Apple', 'IBM'])"
      ]
     },
     "execution_count": 9,
     "metadata": {},
     "output_type": "execute_result"
    }
   ],
   "source": [
    "# Check company names to make sure our data has been loaded properly\n",
    "data.keys()"
   ]
  },
  {
   "cell_type": "code",
   "execution_count": 10,
   "metadata": {},
   "outputs": [
    {
     "data": {
      "text/plain": [
       "'\\n10-K\\n1\\na10-k20179302017.htm\\n10-K\\n\\n\\n\\n\\n\\n\\nDocument\\n\\n\\nUNITED STATESSECURITIES AND EXCHANGE COMMISSIONWashington, D.C. 20549FORM 10-K(Mark One)☒ ANNUAL REPORT PURSUANT TO SECTION 13 OR 15(d) OF THE SECURITIES EXCHANGE ACT OF 1934For the fiscal year ended September\\xa030, 2017or☐ TRANSITION REPORT PURSUANT TO SECTION 13 OR 15(d) OF THE SECURITIES EXCHANGE ACT OF 1934For the transition period from\\xa0\\xa0\\xa0\\xa0\\xa0\\xa0\\xa0\\xa0\\xa0\\xa0\\xa0\\xa0\\xa0 to \\xa0\\xa0\\xa0\\xa0\\xa0\\xa0\\xa0\\xa0\\xa0\\xa0\\xa0\\xa0Commission File Number: 001-36743Apple Inc.(Exact name of Registrant as specified in its charter)(408) 996-1010(Registrant’s telephone number, including area code)Securities registered pursuant to Section\\xa012(b)\\xa0of the Act:Securities registered pursuant to Section\\xa012(g)\\xa0of the Act:  NoneIndicate by check mark if the Registrant is a well-known seasoned issuer, as defined in Rule 405 of the Securities Act.Yes\\xa0\\xa0☒\\xa0\\xa0\\xa0\\xa0No\\xa0\\xa0☐Indicate by check mark if the Registrant is not required to file reports pursuant to Section\\xa013 or Section\\xa015(d) of the Act.Yes\\xa0\\xa0☐\\xa0\\xa0\\xa0\\xa0No\\xa0\\xa0☒Indicate by check mark whether the Registrant (1)\\xa0has filed all reports required to be filed by Section\\xa013 or 15(d)\\xa0of the Securities Exchange Act of 1934 during the preceding 12 months (or for such shorter period that the Registrant was required to file such reports), and (2)\\xa0has been subject to such filing requirements for the past 90 days.Yes\\xa0\\xa0☒\\xa0\\xa0\\xa0\\xa0No\\xa0\\xa0☐Indicate by check mark whether the Registrant has submitted electronically and posted on its corporate Web site, if any, every Interactive Data File required to be submitted and posted pursuant to Rule 405 of Regulation S-T (§232.405 of this chapter) during the preceding 12 months (or for such shorter period that the Registrant was required to submit and post such files).Yes\\xa0\\xa0☒\\xa0\\xa0\\xa0\\xa0No\\xa0\\xa0☐Indicate by check mark if disclosure of delinquent filers pursuant to Item\\xa0405 of Regulation S-K (§229.405 of this chapter) is not contained herein, and will not be contained, to the best of the Registrant’s knowledge, in definitive proxy or information statements incorpo'"
      ]
     },
     "execution_count": 10,
     "metadata": {},
     "output_type": "execute_result"
    }
   ],
   "source": [
    "# Check texts\n",
    "#\n",
    "data['IBM'][:2000]"
   ]
  },
  {
   "cell_type": "markdown",
   "metadata": {},
   "source": [
    "## (very) Basic Features Extraction"
   ]
  },
  {
   "cell_type": "code",
   "execution_count": 11,
   "metadata": {},
   "outputs": [],
   "source": [
    "# Let's first define some handy funcs\n",
    "# Count total Words\n",
    "def count_words(text):\n",
    "    return len(str(text).split(\" \"))\n",
    "\n",
    "# Count total characters\n",
    "def count_chars(text):\n",
    "    return len(str(text))\n",
    "\n",
    "# Count numerics\n",
    "def count_digit(text):\n",
    "    return len([word for word in str(text).split(\" \") if word.isdigit()]) # isdigit() is a string method"
   ]
  },
  {
   "cell_type": "code",
   "execution_count": 12,
   "metadata": {},
   "outputs": [],
   "source": [
    "# Stopwords are meaningless...\n",
    "# NOTE: you need to run `nltk.download()` and download required nltk packages to access this feature\n",
    "from nltk.corpus import stopwords"
   ]
  },
  {
   "cell_type": "code",
   "execution_count": 13,
   "metadata": {},
   "outputs": [],
   "source": [
    "# Count stopwords\n",
    "def count_stopwords(text, stop=stopwords.words('english')):\n",
    "    num = len([word for word in str(text).split(' ') if word in stop])\n",
    "    perc = num/len(str(text).split(\" \"))\n",
    "    return num, perc"
   ]
  },
  {
   "cell_type": "code",
   "execution_count": 14,
   "metadata": {},
   "outputs": [],
   "source": [
    "# stopwords list from LM's website\n",
    "\n",
    "lm_list = ['ME', 'MY', 'MYSELF', 'WE', 'OUR', 'OURS', 'OURSELVES', 'YOU', 'YOUR', 'YOURS',\n",
    "                       'YOURSELF', 'YOURSELVES', 'HE', 'HIM', 'HIS', 'HIMSELF', 'SHE', 'HER', 'HERS', 'HERSELF',\n",
    "                       'IT', 'ITS', 'ITSELF', 'THEY', 'THEM', 'THEIR', 'THEIRS', 'THEMSELVES', 'WHAT', 'WHICH',\n",
    "                       'WHO', 'WHOM', 'THIS', 'THAT', 'THESE', 'THOSE', 'AM', 'IS', 'ARE', 'WAS', 'WERE', 'BE',\n",
    "                       'BEEN', 'BEING', 'HAVE', 'HAS', 'HAD', 'HAVING', 'DO', 'DOES', 'DID', 'DOING', 'AN',\n",
    "                       'THE', 'AND', 'BUT', 'IF', 'OR', 'BECAUSE', 'AS', 'UNTIL', 'WHILE', 'OF', 'AT', 'BY',\n",
    "                       'FOR', 'WITH', 'ABOUT', 'BETWEEN', 'INTO', 'THROUGH', 'DURING', 'BEFORE',\n",
    "                       'AFTER', 'ABOVE', 'BELOW', 'TO', 'FROM', 'UP', 'DOWN', 'IN', 'OUT', 'ON', 'OFF', 'OVER',\n",
    "                       'UNDER', 'AGAIN', 'FURTHER', 'THEN', 'ONCE', 'HERE', 'THERE', 'WHEN', 'WHERE', 'WHY',\n",
    "                       'HOW', 'ALL', 'ANY', 'BOTH', 'EACH', 'FEW', 'MORE', 'MOST', 'OTHER', 'SOME', 'SUCH',\n",
    "                       'NO', 'NOR', 'NOT', 'ONLY', 'OWN', 'SAME', 'SO', 'THAN', 'TOO', 'VERY', 'CAN',\n",
    "                       'JUST', 'SHOULD', 'NOW']\n",
    "\n",
    "lm_stopwords = [word.lower() for word in lm_list]"
   ]
  },
  {
   "cell_type": "code",
   "execution_count": 15,
   "metadata": {
    "scrolled": true
   },
   "outputs": [
    {
     "data": {
      "text/plain": [
       "(12611, 0.34762114780307624)"
      ]
     },
     "execution_count": 15,
     "metadata": {},
     "output_type": "execute_result"
    }
   ],
   "source": [
    "# A very large proportion of the whole text is stopwords!\n",
    "count_stopwords(data['IBM'])"
   ]
  },
  {
   "cell_type": "code",
   "execution_count": 16,
   "metadata": {},
   "outputs": [
    {
     "data": {
      "text/plain": [
       "(12173, 0.33554771486851537)"
      ]
     },
     "execution_count": 16,
     "metadata": {},
     "output_type": "execute_result"
    }
   ],
   "source": [
    "# or try out LM stopwords\n",
    "count_stopwords(data['IBM'], stop=lm_stopwords)"
   ]
  },
  {
   "cell_type": "markdown",
   "metadata": {},
   "source": [
    "### Load our dictionary into Pandas DataFrame"
   ]
  },
  {
   "cell_type": "code",
   "execution_count": 17,
   "metadata": {},
   "outputs": [],
   "source": [
    "# We can either keep it in dictionary format or put it into a pandas dataframe\n",
    "# put our corpus into a pandas dataframe\n",
    "import pandas as pd\n",
    "pd.set_option('max_colwidth', 150)\n",
    "\n",
    "df = pd.DataFrame.from_dict(data, orient='index', columns = ['text'])"
   ]
  },
  {
   "cell_type": "code",
   "execution_count": 18,
   "metadata": {},
   "outputs": [
    {
     "data": {
      "text/html": [
       "<div>\n",
       "<style scoped>\n",
       "    .dataframe tbody tr th:only-of-type {\n",
       "        vertical-align: middle;\n",
       "    }\n",
       "\n",
       "    .dataframe tbody tr th {\n",
       "        vertical-align: top;\n",
       "    }\n",
       "\n",
       "    .dataframe thead th {\n",
       "        text-align: right;\n",
       "    }\n",
       "</style>\n",
       "<table border=\"1\" class=\"dataframe\">\n",
       "  <thead>\n",
       "    <tr style=\"text-align: right;\">\n",
       "      <th></th>\n",
       "      <th>text</th>\n",
       "    </tr>\n",
       "  </thead>\n",
       "  <tbody>\n",
       "    <tr>\n",
       "      <th>Apple</th>\n",
       "      <td>\\n10-K\\n1\\na2206744z10-k.htm\\n10-K\\n\\n\\n\\n\\n\\n\\nQuickLinks\\n -- Click here to rapidly navigate through this document\\n\\n\\n\\n\\n\\n\\n\\n\\n \\n\\n \\nUNIT...</td>\n",
       "    </tr>\n",
       "    <tr>\n",
       "      <th>IBM</th>\n",
       "      <td>\\n10-K\\n1\\na10-k20179302017.htm\\n10-K\\n\\n\\n\\n\\n\\n\\nDocument\\n\\n\\nUNITED STATESSECURITIES AND EXCHANGE COMMISSIONWashington, D.C. 20549FORM 10-K(Ma...</td>\n",
       "    </tr>\n",
       "  </tbody>\n",
       "</table>\n",
       "</div>"
      ],
      "text/plain": [
       "                                                                                                                                                        text\n",
       "Apple  \\n10-K\\n1\\na2206744z10-k.htm\\n10-K\\n\\n\\n\\n\\n\\n\\nQuickLinks\\n -- Click here to rapidly navigate through this document\\n\\n\\n\\n\\n\\n\\n\\n\\n \\n\\n \\nUNIT...\n",
       "IBM    \\n10-K\\n1\\na10-k20179302017.htm\\n10-K\\n\\n\\n\\n\\n\\n\\nDocument\\n\\n\\nUNITED STATESSECURITIES AND EXCHANGE COMMISSIONWashington, D.C. 20549FORM 10-K(Ma..."
      ]
     },
     "execution_count": 18,
     "metadata": {},
     "output_type": "execute_result"
    }
   ],
   "source": [
    "df"
   ]
  },
  {
   "cell_type": "markdown",
   "metadata": {},
   "source": [
    "## Cleaning the Text Data (Text Pre-Processing)"
   ]
  },
  {
   "cell_type": "markdown",
   "metadata": {},
   "source": [
    "Data analysis is more of art than science, in a sense. For example, when we are trying to clean our data, we need manual inputs and our judgements. After all, no data can be perfect; especially for text data, the cleaning or pre-processing can go on forever. We are just going to execute the most common/simple cleaning steps; you can continue to work on to improve your results, i.e., replicating BLM(2015)'s work..."
   ]
  },
  {
   "cell_type": "markdown",
   "metadata": {},
   "source": [
    "### Common data cleanning steps:\n",
    "- Make text all lower case\n",
    "- Remove special expression from non-human languages\n",
    "- Remove punctuation\n",
    "- Remove numerical values\n",
    "- Remove stop words\n",
    "- Tokenize text"
   ]
  },
  {
   "cell_type": "markdown",
   "metadata": {},
   "source": [
    "### More advanced cleaning steps after tokenization:\n",
    "- Stemming / lemmatization\n",
    "- Tagging\n",
    "- N-grams\n",
    "- And more..."
   ]
  },
  {
   "cell_type": "markdown",
   "metadata": {},
   "source": [
    "### Replicate BLM(2015) on constraining words\n",
    "- Read the paper carefully, focusing on sections such as `II. Data`\n",
    "- Go through `Appendix B. Parsing the 10-K Filings` (discard the first 4 steps for now as they are for txt files)"
   ]
  },
  {
   "cell_type": "code",
   "execution_count": 19,
   "metadata": {},
   "outputs": [],
   "source": [
    "# OK, basic text cleaning\n",
    "import re\n"
   ]
  },
  {
   "cell_type": "code",
   "execution_count": 20,
   "metadata": {},
   "outputs": [],
   "source": [
    "# deal with reserved special html characters such as non-breaking space (`&nbsp`)\n",
    "html_chars = {'&lt': 'lt', '&#60': 'lt', \n",
    "              '&gt': 'gt', '&#62': 'gt',\n",
    "              '&nbsp': '', '&#160': '', \n",
    "              '&quot': '\"', '&#34': '\"', \n",
    "              '&apos': '\\'', '&#39': '\\'',\n",
    "              '&amp': '&', '&#38': '&'}"
   ]
  },
  {
   "cell_type": "code",
   "execution_count": 21,
   "metadata": {},
   "outputs": [],
   "source": [
    "def clean_text_round1(text):\n",
    "    pass\n",
    "\n",
    "\n"
   ]
  },
  {
   "cell_type": "code",
   "execution_count": 22,
   "metadata": {},
   "outputs": [],
   "source": [
    "def clean_text_round2(text):\n",
    "    # convert to lower case\n",
    "    text = text.lower()\n",
    "    text = re.sub(r'(\\t|\\v)', '', text)\n",
    "    # remove \\xa0 which is non-breaking space from ISO 8859-1, how to delete all remaining ISO 8859-1 symbols & chars?\n",
    "    text = re.sub(r'\\xa0', ' ', text)\n",
    "    # remove newline feeds (\\n) following hyphens\n",
    "    text = re.sub(r'(-+)\\n{2,}', r'\\1', text)\n",
    "    # remove hyphens preceded and followed by a blank space\n",
    "    text = re.sub(r'\\s-\\s', '', text)\n",
    "    # replace 'and/or' with 'and or'\n",
    "    text = re.sub(r'and/or', r'and or', text)\n",
    "    # tow or more hypens, periods, or equal signs, possiblly followed by spaces are removed\n",
    "    text = re.sub(r'[-|\\.|=]{2,}\\s*', r'', text)\n",
    "    # all underscores are removed\n",
    "    text = re.sub(r'_', '', text)\n",
    "    # 3 or more spaces are replaced by a single space\n",
    "    text = re.sub(r'\\s{3,}', ' ', text)\n",
    "    # three or more line feeds, possibly separated by spaces are replaced by two line feeds\n",
    "    text = re.sub(r'(\\n\\s*){3,}', '\\n\\n', text)\n",
    "    # remove hyphens before a line feed\n",
    "    text = re.sub(r'-+\\n', '\\n', text)\n",
    "    # replace hyphens preceding a capitalized letter with a space\n",
    "    text = re.sub(r'-+([A-Z].*)', r' \\1', text)\n",
    "    # remove capitalized or all capitals for March, May and August\n",
    "    text = re.sub(r'(March|MARCH|May|MAY|August|AUGUST)', '', text)\n",
    "    # remove punctuations\n",
    "    # text = re.sub('[]'.format(re.escape(string.punctuation)), '', text)\n",
    "    # remove line feeds\n",
    "    # text = re.sub('\\n', ' ', text)\n",
    "    # remove numbers?\n",
    "    # replace single line feed \\n with single space\n",
    "    #text = re.sub(r'\\n', ' ', text)\n",
    "    return text\n",
    "\n",
    "# NOTE: \n",
    "## drop punctuation within numbers for number count\n",
    "    #text = re.sub('(?!=[0-9])(\\.|,)(?=[0-9])', '', text)"
   ]
  },
  {
   "cell_type": "code",
   "execution_count": 23,
   "metadata": {},
   "outputs": [
    {
     "data": {
      "text/html": [
       "<div>\n",
       "<style scoped>\n",
       "    .dataframe tbody tr th:only-of-type {\n",
       "        vertical-align: middle;\n",
       "    }\n",
       "\n",
       "    .dataframe tbody tr th {\n",
       "        vertical-align: top;\n",
       "    }\n",
       "\n",
       "    .dataframe thead th {\n",
       "        text-align: right;\n",
       "    }\n",
       "</style>\n",
       "<table border=\"1\" class=\"dataframe\">\n",
       "  <thead>\n",
       "    <tr style=\"text-align: right;\">\n",
       "      <th></th>\n",
       "      <th>text</th>\n",
       "    </tr>\n",
       "  </thead>\n",
       "  <tbody>\n",
       "    <tr>\n",
       "      <th>Apple</th>\n",
       "      <td>\\n10-K\\n1\\na2206744z10-k.htm\\n10-K\\n\\n\\n\\n\\n\\n\\nQuickLinks\\n -- Click here to rapidly navigate through this document\\n\\n\\n\\n\\n\\n\\n\\n\\n \\n\\n \\nUNIT...</td>\n",
       "    </tr>\n",
       "    <tr>\n",
       "      <th>IBM</th>\n",
       "      <td>\\n10-K\\n1\\na10-k20179302017.htm\\n10-K\\n\\n\\n\\n\\n\\n\\nDocument\\n\\n\\nUNITED STATESSECURITIES AND EXCHANGE COMMISSIONWashington, D.C. 20549FORM 10-K(Ma...</td>\n",
       "    </tr>\n",
       "  </tbody>\n",
       "</table>\n",
       "</div>"
      ],
      "text/plain": [
       "                                                                                                                                                        text\n",
       "Apple  \\n10-K\\n1\\na2206744z10-k.htm\\n10-K\\n\\n\\n\\n\\n\\n\\nQuickLinks\\n -- Click here to rapidly navigate through this document\\n\\n\\n\\n\\n\\n\\n\\n\\n \\n\\n \\nUNIT...\n",
       "IBM    \\n10-K\\n1\\na10-k20179302017.htm\\n10-K\\n\\n\\n\\n\\n\\n\\nDocument\\n\\n\\nUNITED STATESSECURITIES AND EXCHANGE COMMISSIONWashington, D.C. 20549FORM 10-K(Ma..."
      ]
     },
     "execution_count": 23,
     "metadata": {},
     "output_type": "execute_result"
    }
   ],
   "source": [
    "df"
   ]
  },
  {
   "cell_type": "code",
   "execution_count": 24,
   "metadata": {},
   "outputs": [],
   "source": [
    "df1 = pd.DataFrame(df['text'].apply(clean_text_round2))"
   ]
  },
  {
   "cell_type": "code",
   "execution_count": 25,
   "metadata": {},
   "outputs": [
    {
     "data": {
      "text/html": [
       "<div>\n",
       "<style scoped>\n",
       "    .dataframe tbody tr th:only-of-type {\n",
       "        vertical-align: middle;\n",
       "    }\n",
       "\n",
       "    .dataframe tbody tr th {\n",
       "        vertical-align: top;\n",
       "    }\n",
       "\n",
       "    .dataframe thead th {\n",
       "        text-align: right;\n",
       "    }\n",
       "</style>\n",
       "<table border=\"1\" class=\"dataframe\">\n",
       "  <thead>\n",
       "    <tr style=\"text-align: right;\">\n",
       "      <th></th>\n",
       "      <th>text</th>\n",
       "    </tr>\n",
       "  </thead>\n",
       "  <tbody>\n",
       "    <tr>\n",
       "      <th>Apple</th>\n",
       "      <td>\\n10-k\\n1\\na2206744z10-k.htm\\n10-k quicklinks\\n click here to rapidly navigate through this document united states\\nsecurities and exchange commis...</td>\n",
       "    </tr>\n",
       "    <tr>\n",
       "      <th>IBM</th>\n",
       "      <td>\\n10-k\\n1\\na10-k20179302017.htm\\n10-k document united statessecurities and exchange commissionwashington, d.c. 20549form 10-k(mark one)☒ annual re...</td>\n",
       "    </tr>\n",
       "  </tbody>\n",
       "</table>\n",
       "</div>"
      ],
      "text/plain": [
       "                                                                                                                                                        text\n",
       "Apple  \\n10-k\\n1\\na2206744z10-k.htm\\n10-k quicklinks\\n click here to rapidly navigate through this document united states\\nsecurities and exchange commis...\n",
       "IBM    \\n10-k\\n1\\na10-k20179302017.htm\\n10-k document united statessecurities and exchange commissionwashington, d.c. 20549form 10-k(mark one)☒ annual re..."
      ]
     },
     "execution_count": 25,
     "metadata": {},
     "output_type": "execute_result"
    }
   ],
   "source": [
    "df1"
   ]
  },
  {
   "cell_type": "markdown",
   "metadata": {},
   "source": [
    "## Advanced Text Processing"
   ]
  },
  {
   "cell_type": "markdown",
   "metadata": {},
   "source": [
    "### Document-Term Matrix"
   ]
  },
  {
   "cell_type": "markdown",
   "metadata": {},
   "source": [
    "To continue working on our textual analysis of 10-K filings (can be as simple as word counts or can be as fancy as machine learning based techniques, the text must be tokenized, meaning broken down into smaller pieces. NLTK provides methods to do so, such as breaking text into sentenses and words. We can also do this using scikit-learn's CountVectorizer. The output will be multiple rows representing different documents (such a 10-K file) and multiple columns (lots of columns) representing a different word."
   ]
  },
  {
   "cell_type": "code",
   "execution_count": null,
   "metadata": {},
   "outputs": [],
   "source": [
    "# We are going to create a document-term matrix using CountVectorizer\n",
    "# NOTE: we can remove stop words which are common words that add no additional meaning to the text, such as 'a', 'the', etc.\n",
    "# NOTE: later we can try use LM defined stopwords for 10-K, we can even create our own stopwords dictionary\n",
    "from sklearn.feature_extraction.text import CountVectorizer\n",
    "\n",
    "cv = CountVectorizer(stop_words='english')\n",
    "cv_data = cv.fit_transform(df.text)\n",
    "\n",
    "dtm = pd.DataFrame(cv_data.toarray(), columns=cv.get_feature_names())\n",
    "dtm.index = df.index\n",
    "dtm"
   ]
  },
  {
   "cell_type": "code",
   "execution_count": null,
   "metadata": {},
   "outputs": [],
   "source": [
    "# Let's pickle our dataframes\n",
    "dtm.to_pickle('dtm.pkl')\n",
    "\n",
    "# and our CountVectorizer object\n",
    "with open(\"cv.pkl\", \"wb\") as f:\n",
    "    pickle.dump(cv, f)"
   ]
  },
  {
   "cell_type": "markdown",
   "metadata": {},
   "source": [
    "## Exploratory Data Analysis"
   ]
  },
  {
   "cell_type": "markdown",
   "metadata": {},
   "source": [
    "### Top words"
   ]
  },
  {
   "cell_type": "code",
   "execution_count": null,
   "metadata": {},
   "outputs": [],
   "source": [
    "data = dtm.transpose()\n",
    "data.head(50)\n",
    "\n"
   ]
  },
  {
   "cell_type": "code",
   "execution_count": null,
   "metadata": {},
   "outputs": [],
   "source": [
    "# Find the most common words used by the 10-K files\n",
    "top_words = {}\n",
    "\n",
    "for firm in data.columns:\n",
    "    top = data[firm].sort_values(ascending=False).head(30)\n",
    "    top_words[firm] = list(zip(top.index, top.values))\n",
    "    \n",
    "    "
   ]
  },
  {
   "cell_type": "code",
   "execution_count": null,
   "metadata": {},
   "outputs": [],
   "source": [
    "top_words\n"
   ]
  },
  {
   "cell_type": "code",
   "execution_count": null,
   "metadata": {},
   "outputs": [],
   "source": [
    "# Print top words for each company\n",
    "for firm, words in top_words.items():\n",
    "    print(firm)\n",
    "    print(','.join([word for word, count in words[0:14]]))\n",
    "    print('------')\n",
    "    \n",
    "    "
   ]
  },
  {
   "cell_type": "code",
   "execution_count": null,
   "metadata": {},
   "outputs": [],
   "source": [
    "# Create a bag of contrainning words from BLM (2015)\n",
    "constraining_words = []\n",
    "\n",
    "with open('words_from_pdf.txt', 'r') as rf:\n",
    "        lines = rf.read().splitlines() # readlines() create a newline character \"\\n\" each line\n",
    "        for line in lines:\n",
    "            words = line.split(sep=' ')\n",
    "            for word in words:\n",
    "                constraining_words.append(word)\n",
    "\n",
    "# sort words alphabetically               \n",
    "constraining_words.sort()\n",
    "\n",
    "# You can write to a local file of course    "
   ]
  },
  {
   "cell_type": "code",
   "execution_count": null,
   "metadata": {},
   "outputs": [],
   "source": [
    "constraining_words\n",
    "\n"
   ]
  },
  {
   "cell_type": "code",
   "execution_count": 23,
   "metadata": {},
   "outputs": [
    {
     "data": {
      "text/html": [
       "<div>\n",
       "<style scoped>\n",
       "    .dataframe tbody tr th:only-of-type {\n",
       "        vertical-align: middle;\n",
       "    }\n",
       "\n",
       "    .dataframe tbody tr th {\n",
       "        vertical-align: top;\n",
       "    }\n",
       "\n",
       "    .dataframe thead th {\n",
       "        text-align: right;\n",
       "    }\n",
       "</style>\n",
       "<table border=\"1\" class=\"dataframe\">\n",
       "  <thead>\n",
       "    <tr style=\"text-align: right;\">\n",
       "      <th></th>\n",
       "      <th>fileName</th>\n",
       "      <th>cik</th>\n",
       "      <th>date</th>\n",
       "      <th>companyName</th>\n",
       "      <th>n_count</th>\n",
       "      <th>n_ratio</th>\n",
       "      <th>total _word</th>\n",
       "      <th>c_count</th>\n",
       "      <th>c_ratio</th>\n",
       "      <th>filing_date</th>\n",
       "      <th>report_date</th>\n",
       "      <th>url</th>\n",
       "    </tr>\n",
       "  </thead>\n",
       "  <tbody>\n",
       "    <tr>\n",
       "      <th>0</th>\n",
       "      <td>0000048681_2001-03-22.html</td>\n",
       "      <td>48681</td>\n",
       "      <td>2001-03-22</td>\n",
       "      <td>NaN</td>\n",
       "      <td>265</td>\n",
       "      <td>0.009071</td>\n",
       "      <td>29215.0</td>\n",
       "      <td>71</td>\n",
       "      <td>0.002430</td>\n",
       "      <td>2001-03-22</td>\n",
       "      <td>2000-12-31</td>\n",
       "      <td>https://www.sec.gov/Archives/edgar/data/48681/...</td>\n",
       "    </tr>\n",
       "    <tr>\n",
       "      <th>1</th>\n",
       "      <td>0001074271_2001-04-02.html</td>\n",
       "      <td>1074271</td>\n",
       "      <td>2001-04-02</td>\n",
       "      <td>NaN</td>\n",
       "      <td>15</td>\n",
       "      <td>0.003898</td>\n",
       "      <td>3848.0</td>\n",
       "      <td>7</td>\n",
       "      <td>0.001819</td>\n",
       "      <td>2001-04-02</td>\n",
       "      <td>2001-03-30</td>\n",
       "      <td>https://www.sec.gov/Archives/edgar/data/107427...</td>\n",
       "    </tr>\n",
       "    <tr>\n",
       "      <th>2</th>\n",
       "      <td>0000863779_2001-04-02.html</td>\n",
       "      <td>863779</td>\n",
       "      <td>2001-04-02</td>\n",
       "      <td>NaN</td>\n",
       "      <td>117</td>\n",
       "      <td>0.006312</td>\n",
       "      <td>18536.0</td>\n",
       "      <td>42</td>\n",
       "      <td>0.002266</td>\n",
       "      <td>2001-04-02</td>\n",
       "      <td>2000-12-31</td>\n",
       "      <td>https://www.sec.gov/Archives/edgar/data/863779...</td>\n",
       "    </tr>\n",
       "    <tr>\n",
       "      <th>3</th>\n",
       "      <td>0000011027_2001-03-30.html</td>\n",
       "      <td>11027</td>\n",
       "      <td>2001-03-30</td>\n",
       "      <td>NaN</td>\n",
       "      <td>107</td>\n",
       "      <td>0.009020</td>\n",
       "      <td>11862.0</td>\n",
       "      <td>60</td>\n",
       "      <td>0.005058</td>\n",
       "      <td>2001-03-30</td>\n",
       "      <td>2000-12-31</td>\n",
       "      <td>https://www.sec.gov/Archives/edgar/data/11027/...</td>\n",
       "    </tr>\n",
       "    <tr>\n",
       "      <th>4</th>\n",
       "      <td>0000877834_2001-03-30.html</td>\n",
       "      <td>877834</td>\n",
       "      <td>2001-03-30</td>\n",
       "      <td>NaN</td>\n",
       "      <td>245</td>\n",
       "      <td>0.007556</td>\n",
       "      <td>32425.0</td>\n",
       "      <td>164</td>\n",
       "      <td>0.005058</td>\n",
       "      <td>2001-03-30</td>\n",
       "      <td>2000-12-31</td>\n",
       "      <td>https://www.sec.gov/Archives/edgar/data/877834...</td>\n",
       "    </tr>\n",
       "    <tr>\n",
       "      <th>...</th>\n",
       "      <td>...</td>\n",
       "      <td>...</td>\n",
       "      <td>...</td>\n",
       "      <td>...</td>\n",
       "      <td>...</td>\n",
       "      <td>...</td>\n",
       "      <td>...</td>\n",
       "      <td>...</td>\n",
       "      <td>...</td>\n",
       "      <td>...</td>\n",
       "      <td>...</td>\n",
       "      <td>...</td>\n",
       "    </tr>\n",
       "    <tr>\n",
       "      <th>605</th>\n",
       "      <td>0000789932_2001-12-19.html</td>\n",
       "      <td>789932</td>\n",
       "      <td>2001-12-19</td>\n",
       "      <td>NaN</td>\n",
       "      <td>26</td>\n",
       "      <td>0.005567</td>\n",
       "      <td>4670.0</td>\n",
       "      <td>8</td>\n",
       "      <td>0.001713</td>\n",
       "      <td>2001-12-19</td>\n",
       "      <td>1998-08-31</td>\n",
       "      <td>https://www.sec.gov/Archives/edgar/data/789932...</td>\n",
       "    </tr>\n",
       "    <tr>\n",
       "      <th>606</th>\n",
       "      <td>0000884269_2001-03-19.html</td>\n",
       "      <td>884269</td>\n",
       "      <td>2001-03-19</td>\n",
       "      <td>NaN</td>\n",
       "      <td>34</td>\n",
       "      <td>0.002893</td>\n",
       "      <td>11754.0</td>\n",
       "      <td>27</td>\n",
       "      <td>0.002297</td>\n",
       "      <td>2001-03-19</td>\n",
       "      <td>2000-12-31</td>\n",
       "      <td>https://www.sec.gov/Archives/edgar/data/884269...</td>\n",
       "    </tr>\n",
       "    <tr>\n",
       "      <th>607</th>\n",
       "      <td>0000847431_2001-04-02.html</td>\n",
       "      <td>847431</td>\n",
       "      <td>2001-04-02</td>\n",
       "      <td>NaN</td>\n",
       "      <td>363</td>\n",
       "      <td>0.014012</td>\n",
       "      <td>25906.0</td>\n",
       "      <td>69</td>\n",
       "      <td>0.002663</td>\n",
       "      <td>2001-04-02</td>\n",
       "      <td>2000-12-31</td>\n",
       "      <td>https://www.sec.gov/Archives/edgar/data/847431...</td>\n",
       "    </tr>\n",
       "    <tr>\n",
       "      <th>608</th>\n",
       "      <td>0001130827_2001-03-29.html</td>\n",
       "      <td>1130827</td>\n",
       "      <td>2001-03-29</td>\n",
       "      <td>NaN</td>\n",
       "      <td>3</td>\n",
       "      <td>0.003492</td>\n",
       "      <td>859.0</td>\n",
       "      <td>9</td>\n",
       "      <td>0.010477</td>\n",
       "      <td>2001-03-29</td>\n",
       "      <td>2001-03-29</td>\n",
       "      <td>https://www.sec.gov/Archives/edgar/data/113082...</td>\n",
       "    </tr>\n",
       "    <tr>\n",
       "      <th>609</th>\n",
       "      <td>0000067931_2001-03-09.html</td>\n",
       "      <td>67931</td>\n",
       "      <td>2001-03-09</td>\n",
       "      <td>NaN</td>\n",
       "      <td>75</td>\n",
       "      <td>0.016269</td>\n",
       "      <td>4610.0</td>\n",
       "      <td>11</td>\n",
       "      <td>0.002386</td>\n",
       "      <td>2001-03-09</td>\n",
       "      <td>2000-12-31</td>\n",
       "      <td>https://www.sec.gov/Archives/edgar/data/67931/...</td>\n",
       "    </tr>\n",
       "  </tbody>\n",
       "</table>\n",
       "<p>610 rows × 12 columns</p>\n",
       "</div>"
      ],
      "text/plain": [
       "                       fileName      cik        date companyName  n_count  \\\n",
       "0    0000048681_2001-03-22.html    48681  2001-03-22         NaN      265   \n",
       "1    0001074271_2001-04-02.html  1074271  2001-04-02         NaN       15   \n",
       "2    0000863779_2001-04-02.html   863779  2001-04-02         NaN      117   \n",
       "3    0000011027_2001-03-30.html    11027  2001-03-30         NaN      107   \n",
       "4    0000877834_2001-03-30.html   877834  2001-03-30         NaN      245   \n",
       "..                          ...      ...         ...         ...      ...   \n",
       "605  0000789932_2001-12-19.html   789932  2001-12-19         NaN       26   \n",
       "606  0000884269_2001-03-19.html   884269  2001-03-19         NaN       34   \n",
       "607  0000847431_2001-04-02.html   847431  2001-04-02         NaN      363   \n",
       "608  0001130827_2001-03-29.html  1130827  2001-03-29         NaN        3   \n",
       "609  0000067931_2001-03-09.html    67931  2001-03-09         NaN       75   \n",
       "\n",
       "      n_ratio  total _word  c_count   c_ratio filing_date report_date  \\\n",
       "0    0.009071      29215.0       71  0.002430  2001-03-22  2000-12-31   \n",
       "1    0.003898       3848.0        7  0.001819  2001-04-02  2001-03-30   \n",
       "2    0.006312      18536.0       42  0.002266  2001-04-02  2000-12-31   \n",
       "3    0.009020      11862.0       60  0.005058  2001-03-30  2000-12-31   \n",
       "4    0.007556      32425.0      164  0.005058  2001-03-30  2000-12-31   \n",
       "..        ...          ...      ...       ...         ...         ...   \n",
       "605  0.005567       4670.0        8  0.001713  2001-12-19  1998-08-31   \n",
       "606  0.002893      11754.0       27  0.002297  2001-03-19  2000-12-31   \n",
       "607  0.014012      25906.0       69  0.002663  2001-04-02  2000-12-31   \n",
       "608  0.003492        859.0        9  0.010477  2001-03-29  2001-03-29   \n",
       "609  0.016269       4610.0       11  0.002386  2001-03-09  2000-12-31   \n",
       "\n",
       "                                                   url  \n",
       "0    https://www.sec.gov/Archives/edgar/data/48681/...  \n",
       "1    https://www.sec.gov/Archives/edgar/data/107427...  \n",
       "2    https://www.sec.gov/Archives/edgar/data/863779...  \n",
       "3    https://www.sec.gov/Archives/edgar/data/11027/...  \n",
       "4    https://www.sec.gov/Archives/edgar/data/877834...  \n",
       "..                                                 ...  \n",
       "605  https://www.sec.gov/Archives/edgar/data/789932...  \n",
       "606  https://www.sec.gov/Archives/edgar/data/884269...  \n",
       "607  https://www.sec.gov/Archives/edgar/data/847431...  \n",
       "608  https://www.sec.gov/Archives/edgar/data/113082...  \n",
       "609  https://www.sec.gov/Archives/edgar/data/67931/...  \n",
       "\n",
       "[610 rows x 12 columns]"
      ]
     },
     "execution_count": 23,
     "metadata": {},
     "output_type": "execute_result"
    }
   ],
   "source": [
    "import pandas as pd \n",
    "df=pd.read_excel(\"整合的.xlsx\",sheet_name=2,skiprows=[1,2],headers=0,index_col=0)\n",
    "df"
   ]
  },
  {
   "cell_type": "code",
   "execution_count": 24,
   "metadata": {},
   "outputs": [
    {
     "data": {
      "text/html": [
       "<div>\n",
       "<style scoped>\n",
       "    .dataframe tbody tr th:only-of-type {\n",
       "        vertical-align: middle;\n",
       "    }\n",
       "\n",
       "    .dataframe tbody tr th {\n",
       "        vertical-align: top;\n",
       "    }\n",
       "\n",
       "    .dataframe thead th {\n",
       "        text-align: right;\n",
       "    }\n",
       "</style>\n",
       "<table border=\"1\" class=\"dataframe\">\n",
       "  <thead>\n",
       "    <tr style=\"text-align: right;\">\n",
       "      <th></th>\n",
       "      <th>fileName</th>\n",
       "      <th>cik</th>\n",
       "      <th>date</th>\n",
       "      <th>companyName</th>\n",
       "      <th>n_count</th>\n",
       "      <th>n_ratio</th>\n",
       "      <th>total _word</th>\n",
       "      <th>c_count</th>\n",
       "      <th>c_ratio</th>\n",
       "      <th>filing_date</th>\n",
       "      <th>report_date</th>\n",
       "      <th>url</th>\n",
       "    </tr>\n",
       "  </thead>\n",
       "  <tbody>\n",
       "    <tr>\n",
       "      <th>231</th>\n",
       "      <td>0000750561_2001-04-02.html</td>\n",
       "      <td>750561</td>\n",
       "      <td>2001-04-02</td>\n",
       "      <td>NaN</td>\n",
       "      <td>784</td>\n",
       "      <td>0.010950</td>\n",
       "      <td>71595.0</td>\n",
       "      <td>417</td>\n",
       "      <td>0.005824</td>\n",
       "      <td>2001-04-02</td>\n",
       "      <td>2000-12-31</td>\n",
       "      <td>https://www.sec.gov/Archives/edgar/data/750561...</td>\n",
       "    </tr>\n",
       "    <tr>\n",
       "      <th>521</th>\n",
       "      <td>0000867665_2001-04-02.html</td>\n",
       "      <td>867665</td>\n",
       "      <td>2001-04-02</td>\n",
       "      <td>NaN</td>\n",
       "      <td>619</td>\n",
       "      <td>0.012685</td>\n",
       "      <td>48798.0</td>\n",
       "      <td>316</td>\n",
       "      <td>0.006476</td>\n",
       "      <td>2001-04-02</td>\n",
       "      <td>2000-12-31</td>\n",
       "      <td>https://www.sec.gov/Archives/edgar/data/867665...</td>\n",
       "    </tr>\n",
       "    <tr>\n",
       "      <th>86</th>\n",
       "      <td>0001043769_2001-05-24.html</td>\n",
       "      <td>1043769</td>\n",
       "      <td>2001-05-24</td>\n",
       "      <td>NaN</td>\n",
       "      <td>1108</td>\n",
       "      <td>0.019534</td>\n",
       "      <td>56722.0</td>\n",
       "      <td>306</td>\n",
       "      <td>0.005395</td>\n",
       "      <td>2001-05-24</td>\n",
       "      <td>2000-12-31</td>\n",
       "      <td>https://www.sec.gov/Archives/edgar/data/104376...</td>\n",
       "    </tr>\n",
       "    <tr>\n",
       "      <th>150</th>\n",
       "      <td>0000023426_2001-03-28.html</td>\n",
       "      <td>23426</td>\n",
       "      <td>2001-03-28</td>\n",
       "      <td>NaN</td>\n",
       "      <td>547</td>\n",
       "      <td>0.007868</td>\n",
       "      <td>69523.0</td>\n",
       "      <td>286</td>\n",
       "      <td>0.004114</td>\n",
       "      <td>2001-03-28</td>\n",
       "      <td>2000-12-31</td>\n",
       "      <td>https://www.sec.gov/Archives/edgar/data/23426/...</td>\n",
       "    </tr>\n",
       "    <tr>\n",
       "      <th>151</th>\n",
       "      <td>0000023426_2001-03-28.html</td>\n",
       "      <td>23426</td>\n",
       "      <td>2001-03-28</td>\n",
       "      <td>NaN</td>\n",
       "      <td>547</td>\n",
       "      <td>0.007868</td>\n",
       "      <td>69523.0</td>\n",
       "      <td>286</td>\n",
       "      <td>0.004114</td>\n",
       "      <td>2001-03-28</td>\n",
       "      <td>2000-12-31</td>\n",
       "      <td>https://www.sec.gov/Archives/edgar/data/23426/...</td>\n",
       "    </tr>\n",
       "    <tr>\n",
       "      <th>...</th>\n",
       "      <td>...</td>\n",
       "      <td>...</td>\n",
       "      <td>...</td>\n",
       "      <td>...</td>\n",
       "      <td>...</td>\n",
       "      <td>...</td>\n",
       "      <td>...</td>\n",
       "      <td>...</td>\n",
       "      <td>...</td>\n",
       "      <td>...</td>\n",
       "      <td>...</td>\n",
       "      <td>...</td>\n",
       "    </tr>\n",
       "    <tr>\n",
       "      <th>180</th>\n",
       "      <td>0000934843_2001-03-30.html</td>\n",
       "      <td>934843</td>\n",
       "      <td>2001-03-30</td>\n",
       "      <td>NaN</td>\n",
       "      <td>2</td>\n",
       "      <td>0.002581</td>\n",
       "      <td>775.0</td>\n",
       "      <td>1</td>\n",
       "      <td>0.001290</td>\n",
       "      <td>2001-03-30</td>\n",
       "      <td>2000-12-31</td>\n",
       "      <td>https://www.sec.gov/Archives/edgar/data/934843...</td>\n",
       "    </tr>\n",
       "    <tr>\n",
       "      <th>437</th>\n",
       "      <td>0001108022_2001-07-06.html</td>\n",
       "      <td>1108022</td>\n",
       "      <td>2001-07-06</td>\n",
       "      <td>NaN</td>\n",
       "      <td>1</td>\n",
       "      <td>0.001527</td>\n",
       "      <td>655.0</td>\n",
       "      <td>1</td>\n",
       "      <td>0.001527</td>\n",
       "      <td>2001-07-06</td>\n",
       "      <td>2000-12-31</td>\n",
       "      <td>https://www.sec.gov/Archives/edgar/data/110802...</td>\n",
       "    </tr>\n",
       "    <tr>\n",
       "      <th>310</th>\n",
       "      <td>0000930743_2001-04-17.html</td>\n",
       "      <td>930743</td>\n",
       "      <td>2001-04-17</td>\n",
       "      <td>NaN</td>\n",
       "      <td>2</td>\n",
       "      <td>0.001273</td>\n",
       "      <td>1571.0</td>\n",
       "      <td>1</td>\n",
       "      <td>0.000637</td>\n",
       "      <td>2001-04-17</td>\n",
       "      <td>2000-12-31</td>\n",
       "      <td>https://www.sec.gov/Archives/edgar/data/930743...</td>\n",
       "    </tr>\n",
       "    <tr>\n",
       "      <th>252</th>\n",
       "      <td>0001129612_2001-03-28.html</td>\n",
       "      <td>1129612</td>\n",
       "      <td>2001-03-28</td>\n",
       "      <td>NaN</td>\n",
       "      <td>2</td>\n",
       "      <td>0.003759</td>\n",
       "      <td>532.0</td>\n",
       "      <td>1</td>\n",
       "      <td>0.001880</td>\n",
       "      <td>2001-03-28</td>\n",
       "      <td>2000-12-31</td>\n",
       "      <td>https://www.sec.gov/Archives/edgar/data/112961...</td>\n",
       "    </tr>\n",
       "    <tr>\n",
       "      <th>509</th>\n",
       "      <td>0001129638_2001-03-27.html</td>\n",
       "      <td>1129638</td>\n",
       "      <td>2001-03-27</td>\n",
       "      <td>NaN</td>\n",
       "      <td>2</td>\n",
       "      <td>0.002985</td>\n",
       "      <td>670.0</td>\n",
       "      <td>1</td>\n",
       "      <td>0.001493</td>\n",
       "      <td>2001-03-27</td>\n",
       "      <td>2000-12-31</td>\n",
       "      <td>https://www.sec.gov/Archives/edgar/data/112963...</td>\n",
       "    </tr>\n",
       "  </tbody>\n",
       "</table>\n",
       "<p>610 rows × 12 columns</p>\n",
       "</div>"
      ],
      "text/plain": [
       "                       fileName      cik        date companyName  n_count  \\\n",
       "231  0000750561_2001-04-02.html   750561  2001-04-02         NaN      784   \n",
       "521  0000867665_2001-04-02.html   867665  2001-04-02         NaN      619   \n",
       "86   0001043769_2001-05-24.html  1043769  2001-05-24         NaN     1108   \n",
       "150  0000023426_2001-03-28.html    23426  2001-03-28         NaN      547   \n",
       "151  0000023426_2001-03-28.html    23426  2001-03-28         NaN      547   \n",
       "..                          ...      ...         ...         ...      ...   \n",
       "180  0000934843_2001-03-30.html   934843  2001-03-30         NaN        2   \n",
       "437  0001108022_2001-07-06.html  1108022  2001-07-06         NaN        1   \n",
       "310  0000930743_2001-04-17.html   930743  2001-04-17         NaN        2   \n",
       "252  0001129612_2001-03-28.html  1129612  2001-03-28         NaN        2   \n",
       "509  0001129638_2001-03-27.html  1129638  2001-03-27         NaN        2   \n",
       "\n",
       "      n_ratio  total _word  c_count   c_ratio filing_date report_date  \\\n",
       "231  0.010950      71595.0      417  0.005824  2001-04-02  2000-12-31   \n",
       "521  0.012685      48798.0      316  0.006476  2001-04-02  2000-12-31   \n",
       "86   0.019534      56722.0      306  0.005395  2001-05-24  2000-12-31   \n",
       "150  0.007868      69523.0      286  0.004114  2001-03-28  2000-12-31   \n",
       "151  0.007868      69523.0      286  0.004114  2001-03-28  2000-12-31   \n",
       "..        ...          ...      ...       ...         ...         ...   \n",
       "180  0.002581        775.0        1  0.001290  2001-03-30  2000-12-31   \n",
       "437  0.001527        655.0        1  0.001527  2001-07-06  2000-12-31   \n",
       "310  0.001273       1571.0        1  0.000637  2001-04-17  2000-12-31   \n",
       "252  0.003759        532.0        1  0.001880  2001-03-28  2000-12-31   \n",
       "509  0.002985        670.0        1  0.001493  2001-03-27  2000-12-31   \n",
       "\n",
       "                                                   url  \n",
       "231  https://www.sec.gov/Archives/edgar/data/750561...  \n",
       "521  https://www.sec.gov/Archives/edgar/data/867665...  \n",
       "86   https://www.sec.gov/Archives/edgar/data/104376...  \n",
       "150  https://www.sec.gov/Archives/edgar/data/23426/...  \n",
       "151  https://www.sec.gov/Archives/edgar/data/23426/...  \n",
       "..                                                 ...  \n",
       "180  https://www.sec.gov/Archives/edgar/data/934843...  \n",
       "437  https://www.sec.gov/Archives/edgar/data/110802...  \n",
       "310  https://www.sec.gov/Archives/edgar/data/930743...  \n",
       "252  https://www.sec.gov/Archives/edgar/data/112961...  \n",
       "509  https://www.sec.gov/Archives/edgar/data/112963...  \n",
       "\n",
       "[610 rows x 12 columns]"
      ]
     },
     "execution_count": 24,
     "metadata": {},
     "output_type": "execute_result"
    }
   ],
   "source": [
    "df.sort_values(by=\"c_count\",ascending=False)"
   ]
  },
  {
   "cell_type": "code",
   "execution_count": 1,
   "metadata": {},
   "outputs": [],
   "source": [
    "import pandas as pd\n",
    "for i in range(2,19):\n",
    "    df=pd.read_excel(\"整合的.xlsx\",sheet_name=i,skiprows=[1,2],headers=0,index_col=0)\n",
    "    df=df.sort_values(by=\"c_count\",ascending=False)\n",
    "    if i ==2:\n",
    "        df[[\"fileName\",\"cik\",\"filing_date\"]].head(15).to_csv(\"data_1.csv\")\n",
    "    else:\n",
    "        df[[\"fileName\",\"cik\",\"filing_date\"]].head(15).to_csv(\"data_1.csv\",header=None,mode=\"a\")"
   ]
  },
  {
   "cell_type": "code",
   "execution_count": 44,
   "metadata": {},
   "outputs": [],
   "source": [
    "df=pd.read_csv(\"data_1.csv\",encoding=\"latin1\",index_col=0)\n",
    "#df[\"fileName\"]\n",
    "data=[]\n",
    "fyear=[]\n",
    "for i in range(len(df)):\n",
    "    data.append(df[\"fileName\"].values[i][:10])\n",
    "    fyear.append(df[\"filing_date\"].values[i])"
   ]
  },
  {
   "cell_type": "code",
   "execution_count": 46,
   "metadata": {},
   "outputs": [
    {
     "data": {
      "text/plain": [
       "['2001-04-02',\n",
       " '2001-04-02',\n",
       " '2001-05-24',\n",
       " '2001-03-28',\n",
       " '2001-03-28',\n",
       " '2001-03-28',\n",
       " '2001-03-28',\n",
       " '2001-03-28',\n",
       " '2001-09-28',\n",
       " '2001-04-02',\n",
       " '2001-04-02',\n",
       " '2001-04-02',\n",
       " '2001-03-23',\n",
       " '2001-10-11',\n",
       " '2001-04-02',\n",
       " '2002-04-01',\n",
       " '2002-04-01',\n",
       " '2002-04-01',\n",
       " '2002-03-27',\n",
       " '2002-12-16',\n",
       " '2002-03-25',\n",
       " '2002-03-25',\n",
       " '2002-03-01',\n",
       " '2002-03-05',\n",
       " '2002-12-27',\n",
       " '2002-05-31',\n",
       " '2002-10-09',\n",
       " '2002-04-01',\n",
       " '2002-07-05',\n",
       " '2002-03-18',\n",
       " '2003-04-04',\n",
       " '2003-03-28',\n",
       " '2003-04-23',\n",
       " '2003-12-16',\n",
       " '2003-03-28',\n",
       " '2003-03-28',\n",
       " '2003-03-31',\n",
       " '2003-03-10',\n",
       " '2003-01-14',\n",
       " '2003-08-12',\n",
       " '2003-03-12',\n",
       " '2003-05-01',\n",
       " '2003-03-28',\n",
       " '2003-03-31',\n",
       " '2003-07-01',\n",
       " '2004-03-15',\n",
       " '2004-03-11',\n",
       " '2004-02-27',\n",
       " '2004-04-19',\n",
       " '2004-03-01',\n",
       " '2004-03-15',\n",
       " '2004-03-15',\n",
       " '2004-03-15',\n",
       " '2004-04-14',\n",
       " '2004-03-05',\n",
       " '2004-03-09',\n",
       " '2004-03-09',\n",
       " '2004-03-09',\n",
       " '2004-03-09',\n",
       " '2004-03-09',\n",
       " '2005-03-31',\n",
       " '2005-05-02',\n",
       " '2005-03-31',\n",
       " '2005-03-23',\n",
       " '2005-03-15',\n",
       " '2005-03-10',\n",
       " '2005-03-10',\n",
       " '2005-03-25',\n",
       " '2005-03-16',\n",
       " '2005-12-22',\n",
       " '2005-12-09',\n",
       " '2005-03-11',\n",
       " '2005-03-16',\n",
       " '2005-11-22',\n",
       " '2005-03-15',\n",
       " '2006-12-06',\n",
       " '2006-03-14',\n",
       " '2006-03-31',\n",
       " '2006-03-07',\n",
       " '2006-03-06',\n",
       " '2006-03-16',\n",
       " '2006-03-31',\n",
       " '2006-03-07',\n",
       " '2006-03-07',\n",
       " '2006-03-07',\n",
       " '2006-03-07',\n",
       " '2006-03-07',\n",
       " '2006-03-07',\n",
       " '2006-03-07',\n",
       " '2006-03-23',\n",
       " '2007-04-02',\n",
       " '2007-03-16',\n",
       " '2007-03-01',\n",
       " '2007-02-28',\n",
       " '2007-02-28',\n",
       " '2007-03-01',\n",
       " '2007-04-02',\n",
       " '2007-04-17',\n",
       " '2007-10-30',\n",
       " '2007-03-29',\n",
       " '2007-02-28',\n",
       " '2007-03-30',\n",
       " '2007-12-20',\n",
       " '2007-02-28',\n",
       " '2007-03-20',\n",
       " '2008-02-25',\n",
       " '2008-02-25',\n",
       " '2008-02-25',\n",
       " '2008-02-25',\n",
       " '2008-02-25',\n",
       " '2008-02-25',\n",
       " '2008-03-28',\n",
       " '2008-02-26',\n",
       " '2008-02-29',\n",
       " '2008-02-29',\n",
       " '2008-02-29',\n",
       " '2008-02-21',\n",
       " '2008-03-10',\n",
       " '2008-02-28',\n",
       " '2008-02-28',\n",
       " '2009-02-25',\n",
       " '2009-02-25',\n",
       " '2009-02-25',\n",
       " '2009-02-25',\n",
       " '2009-02-25',\n",
       " '2009-02-25',\n",
       " '2009-02-27',\n",
       " '2009-03-02',\n",
       " '2009-04-24',\n",
       " '2009-03-12',\n",
       " '2009-03-12',\n",
       " '2009-03-02',\n",
       " '2009-04-30',\n",
       " '2009-02-18',\n",
       " '2009-02-18',\n",
       " '2010-02-26',\n",
       " '2010-02-05',\n",
       " '2010-02-05',\n",
       " '2010-02-05',\n",
       " '2010-02-05',\n",
       " '2010-03-03',\n",
       " '2010-02-26',\n",
       " '2010-02-26',\n",
       " '2010-03-25',\n",
       " '2010-03-19',\n",
       " '2010-03-26',\n",
       " '2010-03-03',\n",
       " '2010-02-24',\n",
       " '2010-03-03',\n",
       " '2010-06-29',\n",
       " '2011-03-23',\n",
       " '2011-12-14',\n",
       " '2011-02-25',\n",
       " '2011-03-01',\n",
       " '2011-02-25',\n",
       " '2011-03-30',\n",
       " '2011-02-25',\n",
       " '2011-02-25',\n",
       " '2011-02-25',\n",
       " '2011-02-25',\n",
       " '2011-03-18',\n",
       " '2011-02-28',\n",
       " '2011-03-04',\n",
       " '2011-03-25',\n",
       " '2011-04-15',\n",
       " '2012-02-24',\n",
       " '2012-02-24',\n",
       " '2012-02-24',\n",
       " '2012-02-24',\n",
       " '2012-02-24',\n",
       " '2012-02-24',\n",
       " '2012-03-23',\n",
       " '2012-03-22',\n",
       " '2012-02-28',\n",
       " '2012-02-28',\n",
       " '2012-02-28',\n",
       " '2012-02-28',\n",
       " '2012-03-08',\n",
       " '2012-03-23',\n",
       " '2012-02-17',\n",
       " '41359',\n",
       " '41348',\n",
       " '41348',\n",
       " '41355',\n",
       " '41332',\n",
       " '41324',\n",
       " '41334',\n",
       " '41422',\n",
       " '41351',\n",
       " '41379',\n",
       " '41334',\n",
       " '41337',\n",
       " '41334',\n",
       " '41334',\n",
       " '41334',\n",
       " '2014-11-21',\n",
       " '2014-02-28',\n",
       " '2014-02-28',\n",
       " '2014-04-30',\n",
       " '2014-02-27',\n",
       " '2014-02-27',\n",
       " '2014-03-03',\n",
       " '2014-02-24',\n",
       " '2014-02-24',\n",
       " '2014-02-24',\n",
       " '2014-02-24',\n",
       " '2014-02-24',\n",
       " '2014-02-24',\n",
       " '2014-03-14',\n",
       " '2014-03-28',\n",
       " '2015-11-20',\n",
       " '2015-02-20',\n",
       " '2015-02-27',\n",
       " '2015-02-27',\n",
       " '2015-10-13',\n",
       " '2015-02-27',\n",
       " '2015-02-13',\n",
       " '2015-12-01',\n",
       " '2015-03-26',\n",
       " '2015-03-02',\n",
       " '2015-03-16',\n",
       " '2015-03-16',\n",
       " '2015-03-11',\n",
       " '2015-02-27',\n",
       " '2015-02-17',\n",
       " '2016-02-26',\n",
       " '2016-02-26',\n",
       " '2016-02-26',\n",
       " '2016-02-26',\n",
       " '2016-02-26',\n",
       " '2016-02-26',\n",
       " '2016-02-26',\n",
       " '2016-02-29',\n",
       " '2016-02-29',\n",
       " '2016-02-19',\n",
       " '2016-02-23',\n",
       " '2016-02-23',\n",
       " '2016-03-21',\n",
       " '2016-02-23',\n",
       " '2016-02-23',\n",
       " '2017-02-21',\n",
       " '2017-03-14',\n",
       " '2017-02-28',\n",
       " '2017-02-24',\n",
       " '2017-02-23',\n",
       " '2017-02-24',\n",
       " '2017-03-13',\n",
       " '2017-02-21',\n",
       " '2017-02-22',\n",
       " '2017-02-28',\n",
       " '2017-04-12',\n",
       " '2017-11-28',\n",
       " '2017-08-29',\n",
       " '2017-02-21',\n",
       " '2017-03-01']"
      ]
     },
     "execution_count": 46,
     "metadata": {},
     "output_type": "execute_result"
    }
   ],
   "source": [
    "fyear"
   ]
  },
  {
   "cell_type": "code",
   "execution_count": null,
   "metadata": {},
   "outputs": [],
   "source": []
  }
 ],
 "metadata": {
  "kernelspec": {
   "display_name": "Python 3",
   "language": "python",
   "name": "python3"
  },
  "language_info": {
   "codemirror_mode": {
    "name": "ipython",
    "version": 3
   },
   "file_extension": ".py",
   "mimetype": "text/x-python",
   "name": "python",
   "nbconvert_exporter": "python",
   "pygments_lexer": "ipython3",
   "version": "3.7.3"
  }
 },
 "nbformat": 4,
 "nbformat_minor": 2
}
