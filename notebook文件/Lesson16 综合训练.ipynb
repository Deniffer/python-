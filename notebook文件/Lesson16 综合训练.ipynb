{
 "cells": [
  {
   "cell_type": "markdown",
   "metadata": {},
   "source": [
    "<font  size=6 style='line-height:1.5'> \n",
    "<center>\n",
    " 广东海洋大学2018-2019第二学期<br>\n",
    "《Python基础》综合训练 <p> </center>\n",
    "    \n",
    "<font face='kaiti' size=5 style='line-height:1.5'> <center>\n",
    "班级：<u>你的班级&emsp;</u>姓名：<u>你的姓名&emsp;</u>学号：<u>你的学号&emsp;</u>"
   ]
  },
  {
   "cell_type": "markdown",
   "metadata": {},
   "source": [
    "<font face='kaiti' size=5 style='line-height:1.5'>\n",
    "    \n",
    "- 考试时可带教材和纸质资料，不可带U盘，不可通讯，请监考老师切断外网；\n",
    "- 务必先填写上方的班级、姓名、学号；并将你答题的notebook文件改名为'班级名学号姓名.ipynb'，如'1173班201711921300张三.ipynb'. - 在考试结束前5分钟，在'File\\Download as'菜单项中选'HTML(.html)'，保存为html文件，将其拷贝到k盘自己桌位号对应的文件夹。<br>\n",
    "    \n",
    "----"
   ]
  },
  {
   "cell_type": "markdown",
   "metadata": {},
   "source": [
    "<font face='kaiti' size=5 style='line-height:1.5'>\n",
    "一. （20分）填空题，答在题后的括号中。"
   ]
  },
  {
   "cell_type": "markdown",
   "metadata": {},
   "source": [
    "<font  size=4 style='line-height:1.5'>\n",
    "$1$. 下列哪些变量名在Python中是合法的 ( )\n",
    "&emsp;&emsp; A. x.1 &emsp; &emsp; B. x_1 &emsp; &emsp; C. _x1 &emsp; &emsp; D. 1_x "
   ]
  },
  {
   "cell_type": "markdown",
   "metadata": {},
   "source": [
    "<font  size=4 style='line-height:1.5'>\n",
    "$2$. 下列哪个表达式在Python中是非法的 ( ) <br>\n",
    "&emsp;&emsp; A. x=y=z=1 &emsp; &emsp; B. x = (y = z + 1) &emsp; &emsp; C. x, y = y, x &emsp; &emsp; D. x  +=  y"
   ]
  },
  {
   "cell_type": "markdown",
   "metadata": {},
   "source": [
    "<font  size=4 style='line-height:1.5'>\n",
    "$3$. Python表达式`1.2 - 1.0 == 0.2`得到的结果是`False`，其原因是（）"
   ]
  },
  {
   "cell_type": "markdown",
   "metadata": {},
   "source": [
    "<font  size=4 style='line-height:1.5'>\n",
    "$4$. 下列Python内置的数据类型中，序列类型有（）， 可变类型有（），映射类型有（）<br>\n",
    "&emsp;&emsp; A. 数字 B. 字符串 C. 列表 D. 元组 E. 字典 F. 集合    "
   ]
  },
  {
   "cell_type": "markdown",
   "metadata": {},
   "source": [
    "<font  size=4 style='line-height:1.5'>\n",
    "$5$. 设s='abcdefg'，则s[3]值是( ) ，s[3:5]值是 (  ) ，s[:5]值是( )，s[::-1]值是 (  ) "
   ]
  },
  {
   "cell_type": "markdown",
   "metadata": {},
   "source": [
    "<font  size=4 style='line-height:1.5'>\n",
    "$6$. 下列说法错误的有（）<br> \n",
    "&emsp;A. 变量不需事先声明。 B. 空字符串的布尔值是False。 C.在数学运算中，True相当于1. D. 列表不能作为元组的元素"
   ]
  },
  {
   "cell_type": "markdown",
   "metadata": {},
   "source": [
    "<font  size=4 style='line-height:1.5'>\n",
    "$7$. 试用2种方法产生起点为0，终点为1（包含）， 0.1为步长的序列a。分别写在下面的2个cell中。"
   ]
  },
  {
   "cell_type": "code",
   "execution_count": null,
   "metadata": {},
   "outputs": [],
   "source": []
  },
  {
   "cell_type": "code",
   "execution_count": null,
   "metadata": {},
   "outputs": [],
   "source": []
  },
  {
   "cell_type": "markdown",
   "metadata": {},
   "source": [
    "<font  size=4 style='line-height:1.5'>\n",
    "$8$. 若 a = (1, 2, 3)，下列哪些操作是合法的? （）<br>\n",
    "&emsp; A. a[1:-1]　　B. a*3　　C. a[2] = 4　　D.list(a)"
   ]
  },
  {
   "cell_type": "markdown",
   "metadata": {},
   "source": [
    "<font  size=4 style='line-height:1.5'>\n",
    "$9$. 下列代码执行后a的结果为 （），为什么（）\n",
    "```python\n",
    "a = [1,2,3,4]\n",
    "b = a\n",
    "a.append(5)\n",
    "b[1] = -1\n",
    "```"
   ]
  },
  {
   "cell_type": "markdown",
   "metadata": {},
   "source": [
    "<font  size=4 style='line-height:1.5'>\n",
    "$10$. 用列表推导式得到1 ~ 10的平方数的序列：（）"
   ]
  },
  {
   "cell_type": "markdown",
   "metadata": {},
   "source": [
    "---\n",
    "<font face='kaiti' size=5 style='line-height:1.5'>\n",
    "二、（10分）编写Python程序，对任意输入的正整数，做因式分解，输出其分解表达式。"
   ]
  },
  {
   "cell_type": "code",
   "execution_count": null,
   "metadata": {},
   "outputs": [],
   "source": []
  },
  {
   "cell_type": "markdown",
   "metadata": {},
   "source": [
    "<font face='kaiti' size=5 style='line-height:1.5'>\n",
    "三、（15分）使用numpy库解决下列问题：1. 产生一个由25个随机整数组成的一维数组，重排成一个5行5列的矩阵; 2.求矩阵的行列式，逆矩阵，特征值、特征向量; 3. 对矩阵的每列求和，再对矩阵的每列规范化，使每列的和等于1. "
   ]
  },
  {
   "cell_type": "code",
   "execution_count": null,
   "metadata": {},
   "outputs": [],
   "source": []
  },
  {
   "cell_type": "markdown",
   "metadata": {},
   "source": [
    "<font face='kaiti' size=5 style='line-height:1.5'>\n",
    "四、（20分）在同一图形窗口中，分左右绘制下列图形，1. 单位圆及其内接正方形，添加标题和图例；2.曲面$z = xe^{-x^2-y^2}$在区域 $-2\\leq x, y\\leq 2$上的图形。"
   ]
  },
  {
   "cell_type": "code",
   "execution_count": null,
   "metadata": {},
   "outputs": [],
   "source": []
  },
  {
   "cell_type": "markdown",
   "metadata": {},
   "source": [
    "<font face='kaiti' size=5 style='line-height:1.5'>\n",
    "五、（20分） 读取鸢尾花数据集'iris.csv'。共有3个品种：代号为0，1，2，各50个样本，4个特征：'萼长', '萼宽', '瓣长', '瓣宽'。下面的cell中已导入了该数据集，请用Pandas完成下列任务：（1）对各品种的4个特征做描述性统计，（2）绘制各特征不同品种的箱线图，一个品种一张图。"
   ]
  },
  {
   "cell_type": "code",
   "execution_count": 28,
   "metadata": {},
   "outputs": [
    {
     "data": {
      "text/html": [
       "<div>\n",
       "<style scoped>\n",
       "    .dataframe tbody tr th:only-of-type {\n",
       "        vertical-align: middle;\n",
       "    }\n",
       "\n",
       "    .dataframe tbody tr th {\n",
       "        vertical-align: top;\n",
       "    }\n",
       "\n",
       "    .dataframe thead th {\n",
       "        text-align: right;\n",
       "    }\n",
       "</style>\n",
       "<table border=\"1\" class=\"dataframe\">\n",
       "  <thead>\n",
       "    <tr style=\"text-align: right;\">\n",
       "      <th></th>\n",
       "      <th>萼长</th>\n",
       "      <th>萼宽</th>\n",
       "      <th>瓣长</th>\n",
       "      <th>瓣宽</th>\n",
       "      <th>品种</th>\n",
       "    </tr>\n",
       "  </thead>\n",
       "  <tbody>\n",
       "    <tr>\n",
       "      <th>0</th>\n",
       "      <td>5.1</td>\n",
       "      <td>3.5</td>\n",
       "      <td>1.4</td>\n",
       "      <td>0.2</td>\n",
       "      <td>0</td>\n",
       "    </tr>\n",
       "    <tr>\n",
       "      <th>1</th>\n",
       "      <td>4.9</td>\n",
       "      <td>3.0</td>\n",
       "      <td>1.4</td>\n",
       "      <td>0.2</td>\n",
       "      <td>0</td>\n",
       "    </tr>\n",
       "    <tr>\n",
       "      <th>2</th>\n",
       "      <td>4.7</td>\n",
       "      <td>3.2</td>\n",
       "      <td>1.3</td>\n",
       "      <td>0.2</td>\n",
       "      <td>0</td>\n",
       "    </tr>\n",
       "    <tr>\n",
       "      <th>3</th>\n",
       "      <td>4.6</td>\n",
       "      <td>3.1</td>\n",
       "      <td>1.5</td>\n",
       "      <td>0.2</td>\n",
       "      <td>0</td>\n",
       "    </tr>\n",
       "    <tr>\n",
       "      <th>4</th>\n",
       "      <td>5.0</td>\n",
       "      <td>3.6</td>\n",
       "      <td>1.4</td>\n",
       "      <td>0.2</td>\n",
       "      <td>0</td>\n",
       "    </tr>\n",
       "  </tbody>\n",
       "</table>\n",
       "</div>"
      ],
      "text/plain": [
       "    萼长   萼宽   瓣长   瓣宽  品种\n",
       "0  5.1  3.5  1.4  0.2   0\n",
       "1  4.9  3.0  1.4  0.2   0\n",
       "2  4.7  3.2  1.3  0.2   0\n",
       "3  4.6  3.1  1.5  0.2   0\n",
       "4  5.0  3.6  1.4  0.2   0"
      ]
     },
     "execution_count": 28,
     "metadata": {},
     "output_type": "execute_result"
    }
   ],
   "source": [
    "import pandas as pd\n",
    "from sklearn import datasets\n",
    "\n",
    "iris_data = datasets.load_iris().data    # 导入鸢尾花数据集的特征数据\n",
    "iris_target = datasets.load_iris().target  # 导入数据集的分类代号\n",
    "iris = pd.DataFrame(iris_data, columns=\n",
    "        ['萼长', '萼宽', '瓣长', '瓣宽'])\n",
    "iris.insert(4, '品种', iris_target)\n",
    "iris.head()\n"
   ]
  },
  {
   "cell_type": "markdown",
   "metadata": {},
   "source": [
    "<font face='kaiti' size=5 style='line-height:1.5'>\n",
    "六、（15分） 某用户去年7-12月每月水表的读数为219, 227, 240, 250, 263,276. 且6月的水表读数为210。又已知水费每吨2.02元，污水处理费每吨0.95元，污水量与用水量相同，垃圾费每户11元。编程完成下列任务：（1）计算该用户7-12月每月的总水费；（2）将7-12月的用水记录写到一个csv文件'water_bills.csv'中，每月记录一行，列标签包括：水表读数，用水量，总水费。（3）读取并显示该csv文件内容。"
   ]
  },
  {
   "cell_type": "code",
   "execution_count": null,
   "metadata": {},
   "outputs": [],
   "source": []
  }
 ],
 "metadata": {
  "kernelspec": {
   "display_name": "Python 3",
   "language": "python",
   "name": "python3"
  },
  "language_info": {
   "codemirror_mode": {
    "name": "ipython",
    "version": 3
   },
   "file_extension": ".py",
   "mimetype": "text/x-python",
   "name": "python",
   "nbconvert_exporter": "python",
   "pygments_lexer": "ipython3",
   "version": "3.7.3"
  },
  "latex_envs": {
   "LaTeX_envs_menu_present": true,
   "autoclose": false,
   "autocomplete": true,
   "bibliofile": "biblio.bib",
   "cite_by": "apalike",
   "current_citInitial": 1,
   "eqLabelWithNumbers": true,
   "eqNumInitial": 1,
   "hotkeys": {
    "equation": "Ctrl-E",
    "itemize": "Ctrl-I"
   },
   "labels_anchors": false,
   "latex_user_defs": false,
   "report_style_numbering": false,
   "user_envs_cfg": false
  },
  "toc": {
   "base_numbering": "",
   "nav_menu": {},
   "number_sections": false,
   "sideBar": true,
   "skip_h1_title": false,
   "title_cell": "Table of Contents",
   "title_sidebar": "Contents",
   "toc_cell": false,
   "toc_position": {
    "height": "321px",
    "left": "10px",
    "top": "150px",
    "width": "164px"
   },
   "toc_section_display": false,
   "toc_window_display": false
  }
 },
 "nbformat": 4,
 "nbformat_minor": 2
}
