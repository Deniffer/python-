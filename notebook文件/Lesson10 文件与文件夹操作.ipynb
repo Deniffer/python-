{
 "cells": [
  {
   "cell_type": "markdown",
   "metadata": {
    "toc": true
   },
   "source": [
    "<h1>目录<span class=\"tocSkip\"></span></h1>\n",
    "<div class=\"toc\"><ul class=\"toc-item\"><li><span><a href=\"#文件内容操作\" data-toc-modified-id=\"文件内容操作-9\"><span class=\"toc-item-num\">9&nbsp;&nbsp;</span>文件内容操作<br></a></span><ul class=\"toc-item\"><li><span><a href=\"#文件操作基本知识\" data-toc-modified-id=\"文件操作基本知识-9.1\"><span class=\"toc-item-num\">9.1&nbsp;&nbsp;</span>文件操作基本知识</a></span><ul class=\"toc-item\"><li><span><a href=\"#内置函数-open()\" data-toc-modified-id=\"内置函数-open()-9.1.1\"><span class=\"toc-item-num\">9.1.1&nbsp;&nbsp;</span>内置函数 open()<br></a></span></li><li><span><a href=\"#文件对象属性与常用方法\" data-toc-modified-id=\"文件对象属性与常用方法-9.1.2\"><span class=\"toc-item-num\">9.1.2&nbsp;&nbsp;</span>文件对象属性与常用方法</a></span></li><li><span><a href=\"#上下文管理语句-with\" data-toc-modified-id=\"上下文管理语句-with-9.1.3\"><span class=\"toc-item-num\">9.1.3&nbsp;&nbsp;</span>上下文管理语句 with<br></a></span></li></ul></li><li><span><a href=\"#文本文件内容操作案例精选\" data-toc-modified-id=\"文本文件内容操作案例精选-9.2\"><span class=\"toc-item-num\">9.2&nbsp;&nbsp;</span>文本文件内容操作案例精选</a></span></li><li><span><a href=\"#二进制文件操作案例精选\" data-toc-modified-id=\"二进制文件操作案例精选-9.3\"><span class=\"toc-item-num\">9.3&nbsp;&nbsp;</span>二进制文件操作案例精选</a></span><ul class=\"toc-item\"><li><span><a href=\"#pickle模块读写二进制文件\" data-toc-modified-id=\"pickle模块读写二进制文件-9.3.1\"><span class=\"toc-item-num\">9.3.1&nbsp;&nbsp;</span>pickle模块读写二进制文件</a></span></li><li><span><a href=\"#struct模块读写二进制文件\" data-toc-modified-id=\"struct模块读写二进制文件-9.3.2\"><span class=\"toc-item-num\">9.3.2&nbsp;&nbsp;</span>struct模块读写二进制文件<br></a></span></li><li><span><a href=\"#shelve模块操作二进制文件\" data-toc-modified-id=\"shelve模块操作二进制文件-9.3.3\"><span class=\"toc-item-num\">9.3.3&nbsp;&nbsp;</span>shelve模块操作二进制文件<br></a></span></li></ul></li><li><span><a href=\"#小结\" data-toc-modified-id=\"小结-9.4\"><span class=\"toc-item-num\">9.4&nbsp;&nbsp;</span>小结<br></a></span></li></ul></li><li><span><a href=\"#文件与文件夹操作\" data-toc-modified-id=\"文件与文件夹操作-10\"><span class=\"toc-item-num\">10&nbsp;&nbsp;</span>文件与文件夹操作<br></a></span><ul class=\"toc-item\"><li><span><a href=\"#os模块\" data-toc-modified-id=\"os模块-10.1\"><span class=\"toc-item-num\">10.1&nbsp;&nbsp;</span>os模块</a></span></li><li><span><a href=\"#os.path模块\" data-toc-modified-id=\"os.path模块-10.2\"><span class=\"toc-item-num\">10.2&nbsp;&nbsp;</span>os.path模块</a></span></li><li><span><a href=\"#shutil模块\" data-toc-modified-id=\"shutil模块-10.3\"><span class=\"toc-item-num\">10.3&nbsp;&nbsp;</span>shutil模块</a></span></li><li><span><a href=\"#精彩案例\" data-toc-modified-id=\"精彩案例-10.4\"><span class=\"toc-item-num\">10.4&nbsp;&nbsp;</span>精彩案例</a></span></li><li><span><a href=\"#小结\" data-toc-modified-id=\"小结-10.5\"><span class=\"toc-item-num\">10.5&nbsp;&nbsp;</span>小结<br></a></span></li><li><span><a href=\"#课后练习\" data-toc-modified-id=\"课后练习-10.6\"><span class=\"toc-item-num\">10.6&nbsp;&nbsp;</span>课后练习</a></span></li></ul></li></ul></div>"
   ]
  },
  {
   "cell_type": "markdown",
   "metadata": {},
   "source": [
    "# 文件内容操作<br>\n",
    "<font face='kaiti' size=5 style='line-height:1.5'>\n",
    "    \n",
    "&emsp;&emsp;按文件中数据的组织形式把文件分为文本文件和二进制文件两类。\n",
    "- **文本文件**：文本文件存储的是常规字符串，由若干文本行组成，通常每行以换行符'\\n'结尾。常规字符串是指记事本或其他文本编辑器能正常显示、编辑并且人类能够直接阅读和理解的字符串，如英文字母、汉字、数字字符串。文本文件可以使用字处理软件如gedit、记事本进行编辑。\n",
    "- **二进制文件**：二进制文件把对象内容以字节串(bytes)进行存储，无法用记事本或其他普通字处理软件直接进行编辑，通常也无法被人类直接阅读和理解，需要使用专门的软件进行解码后读取、显示、修改或执行。常见的如图形图像文件、音视频文件、可执行文件、资源文件、各种数据库文件、各类office文档等都属于二进制文件。"
   ]
  },
  {
   "cell_type": "markdown",
   "metadata": {},
   "source": [
    "## 文件操作基本知识\n",
    "<font face='kaiti' size=5 style='line-height:1.5'>\n",
    "&emsp;&emsp;无论是文本文件还是二进制文件，其操作流程基本都是一致的，首先打开文件并创建文件对象，然后通过该文件对象对文件内容进行读取、写入、删除、修改等操作，最后关闭并保存文件内容。"
   ]
  },
  {
   "cell_type": "markdown",
   "metadata": {},
   "source": [
    "### 内置函数 open()<br>\n",
    "<font face='kaiti' size=5 style='line-height:1.5'>\n",
    "    \n",
    "&emsp;&emsp;Python内置函数 open()以指定模式打开指定文件，并创建文件对象。\n",
    "```python\n",
    "open(file, mode='r', buffering=-1, encoding=None, errors=None,\n",
    "     newline=None, closefd=True, opener=None)\n",
    "```\n",
    "\n",
    "- file参数指定了被打开的文件名称。\n",
    "- mode参数指定了打开文件后的处理方式。\n",
    "- buffering参数指定了读写文件的缓存模式。0表示不缓存，1表示缓存，如大于1则表示缓冲区的大小。默认值是缓存模式。\n",
    "- encoding参数指定对文本进行编码和解码的方式，只适用于文本模式，可以使用Python支持的任何格式，如GBK、utf8、CP936等等。\n",
    "\n",
    "<font face='times' size=4> <center>\n",
    "    \n",
    "|<font size=4>模式|<font size=4><center> 说明|\n",
    "|:---|:---|\n",
    "|<font size=4>r&emsp;|<font size=4>读模式（默认模式，可省略），如果文件不存在则抛出异常|\n",
    "|<font size=4>w|<font size=4>写模式，如果文件已存在，先清空原有内容|\n",
    "|<font size=4>x|<font size=4>写模式，创建新文件，如果文件已存在则抛出异常|\n",
    "|<font size=4>a|<font size=4>追加模式，不覆盖文件中原有内容|\n",
    "|<font size=4>b|<font size=4>二进制模式（可与其他模式组合使用）|\n",
    "|<font size=4>t|<font size=4>文本模式（默认模式，可省略）|\n",
    "|<font size=4>+|<font size=4>读、写模式（可与其他模式组合使用）|\n",
    "\n",
    "</center><font face='kaiti' size=5 style='line-height:1.5'>\n",
    "- 如果执行正常，open()函数返回1个文件对象，通过该文件对象可以对文件进行读写操作。如果指定文件不存在、访问权限不够、磁盘空间不足或其他原因导致创建文件对象失败则抛出异常。\n",
    "- 当对文件内容操作完以后，一定要用f.close()关闭文件对象f，这样才能保证所做的任何修改都确实被保存到文件中。"
   ]
  },
  {
   "cell_type": "markdown",
   "metadata": {},
   "source": [
    "### 文件对象属性与常用方法\n",
    "<font face='kaiti' size=5 style='line-height:1.5'>\n",
    "\n",
    "&emsp;&emsp;如果open()函数执行正常，会返回一个可迭代的文件对象，通过该对象可对文件进行读写操作。文件对象的常用方法见下表。\n",
    "\n",
    "<font face='times' size=4> <center>表9-3 文件对象常用方法\n",
    "    \n",
    "|<font size=4>方法|<font size=4><center> 功 能 说 明|\n",
    "|:---|:---|\n",
    "|<font size=4>close()|<font size=4>把缓冲区的内容写入文件，同时关闭文件，并释放文件对象|\n",
    "|<font size=4>flush()|<font size=4>把缓冲区的内容写入文件，但不关闭文件|\n",
    "|<font size=4>read([size])|<font size=4>从文本文件中读取size个字符（Python 3.x）的内容<br>作为结果返回，或从二进制文件中读取指定数量<br>的字节并返回，如果省略size则表示读取所有内容|\n",
    "|<font size=4>readline()|<font size=4>从文本文件中读取一行内容作为结果返回|\n",
    "|<font size=4>readlines()|<font size=4>把文本文件中的每行文本作为一个字符串存入列表中，返回该列表|\n",
    "|<font size=4>seek(offset[, whence])|<font size=4>把文件指针移动到新的字节位置，offset表示相对于whence<br>的位置。whence为0表示从文件头开始计算，1表示从当前<br>位置开始计算，2表示从文件尾开始计算，默认为0|\n",
    "|<font size=4>tell()|<font size=4>返回文件指针的当前位置|\n",
    "|<font size=4>write(s)|<font size=4>把字符串s的内容写入文件|\n",
    "|<font size=4>writelines(s)|<font size=4>把字符串列表写入文本文件，不添加换行符|"
   ]
  },
  {
   "cell_type": "markdown",
   "metadata": {},
   "source": [
    "### 上下文管理语句 with<br>\n",
    "<font face='kaiti' size=5 style='line-height:1.5'>\n",
    "\n",
    "- 在实际开发中，读写文件应优先考虑使用上下文管理语句with，关键字with可以自动管理资源，不论因为什么原因（哪怕是代码引发了异常）跳出with块，总能保证文件被正确关闭，并且可以在代码块执行完毕后自动还原进入该代码块时的上下文，常用于文件操作、数据库连接、网络连接、多线程与多进程同步时的锁对象管理等场合。\n",
    "```python\n",
    "with open(filename, mode, encoding) as fp:\n",
    "    # 接下来是通过文件对象fp读写文件内容的语句\n",
    "```\n",
    "- 上下文管理语句with还支持下面的用法：\n",
    "```python\n",
    "with open('test.txt', 'r') as src, open('test_new.txt', 'w') as dst:\n",
    "\tdst.write(src.read())\n",
    "```"
   ]
  },
  {
   "cell_type": "markdown",
   "metadata": {},
   "source": [
    "## 文本文件内容操作案例精选"
   ]
  },
  {
   "cell_type": "markdown",
   "metadata": {},
   "source": [
    "<font face='kaiti' size=5 style='line-height:1.5'>\n",
    "【例9-1】 向文本文件中写入内容，然后再读出。"
   ]
  },
  {
   "cell_type": "code",
   "execution_count": 5,
   "metadata": {},
   "outputs": [
    {
     "name": "stdout",
     "output_type": "stream",
     "text": [
      "Beautiful is better than ugly.\n",
      "Explicit is better than implicit.\n",
      "Simple is better than complex.\n",
      "Complex is better than complicated.\n"
     ]
    }
   ],
   "source": [
    "s = \"Beautiful is better than ugly.\\n\\\n",
    "Explicit is better than implicit.\\n\\\n",
    "Simple is better than complex.\\n\\\n",
    "Complex is better than complicated.\"  # 来自python之禅\n",
    "\n",
    "with open('sample.txt', 'w') as fp:    #默认使用cp936编码\n",
    "    fp.write(s)\n",
    "\n",
    "with open('sample.txt') as fp:         #默认使用cp936编码\n",
    "    print(fp.read())\n"
   ]
  },
  {
   "cell_type": "markdown",
   "metadata": {},
   "source": [
    "<font face='kaiti' size=5 style='line-height:1.5'>\n",
    "【例9-2】将一个CP936编码格式的文本文件中的内容全部复制到另一个使用UTF8编码的文本文件中。"
   ]
  },
  {
   "cell_type": "code",
   "execution_count": 6,
   "metadata": {},
   "outputs": [
    {
     "name": "stdout",
     "output_type": "stream",
     "text": [
      "Beautiful is better than ugly.\n",
      "Explicit is better than implicit.\n",
      "Simple is better than complex.\n",
      "Complex is better than complicated.\n"
     ]
    }
   ],
   "source": [
    "def fileCopy(src, dst, srcEncoding, dstEncoding):\n",
    "    with open(src, 'r', encoding=srcEncoding) as srcfp:\n",
    "        with open(dst, 'w', encoding=dstEncoding) as dstfp:\n",
    "            dstfp.write(srcfp.read())\n",
    "\n",
    "fileCopy('sample.txt', 'sample_new.txt', 'cp936', 'utf8')\n",
    "with open('sample_new.txt') as fp:         \n",
    "    print(fp.read())"
   ]
  },
  {
   "cell_type": "markdown",
   "metadata": {},
   "source": [
    "<font face='kaiti' size=5 style='line-height:1.5'>\n",
    "【例9-3】 遍历并输出文本文件的所有行内容。"
   ]
  },
  {
   "cell_type": "code",
   "execution_count": 7,
   "metadata": {},
   "outputs": [
    {
     "name": "stdout",
     "output_type": "stream",
     "text": [
      "Beautiful is better than ugly.\n",
      "Explicit is better than implicit.\n",
      "Simple is better than complex.\n",
      "Complex is better than complicated."
     ]
    }
   ],
   "source": [
    "with open('sample.txt') as fp:      \n",
    "    for line in fp:                 #文件对象可以直接迭代\n",
    "        print(line,end='')"
   ]
  },
  {
   "cell_type": "markdown",
   "metadata": {},
   "source": [
    "<font face='kaiti' size=5 style='line-height:1.5'>\n",
    "【例9-4】 将例9-1中产生的文本文件sample.txt中的所有字母全部替换成大写字母。"
   ]
  },
  {
   "cell_type": "code",
   "execution_count": 8,
   "metadata": {},
   "outputs": [
    {
     "name": "stdout",
     "output_type": "stream",
     "text": [
      "BEAUTIFUL IS BETTER THAN UGLY.\n",
      "EXPLICIT IS BETTER THAN IMPLICIT.\n",
      "SIMPLE IS BETTER THAN COMPLEX.\n",
      "COMPLEX IS BETTER THAN COMPLICATED.\n"
     ]
    }
   ],
   "source": [
    "s = ''\n",
    "with open('sample.txt','r') as fp:   # 逐行读取原文本文件，变成大写后存入s中\n",
    "    for line in fp:                 \n",
    "        s = s + line.upper()\n",
    "with open('sample.txt','w') as fp:   # 将s中的文本写入原文件中\n",
    "    fp.write(s)\n",
    "with open('sample.txt') as fp:       # 读入文件内容，并输出\n",
    "    print(fp.read())"
   ]
  },
  {
   "cell_type": "markdown",
   "metadata": {},
   "source": [
    " <font face='kaiti' size=5 style='line-height:1.5'>\n",
    "【例9-5】 将例9-4中产生的文本文件sample.txt中的所有行全部首字母大写，写入原文件的后面。"
   ]
  },
  {
   "cell_type": "code",
   "execution_count": 11,
   "metadata": {},
   "outputs": [
    {
     "name": "stdout",
     "output_type": "stream",
     "text": [
      "BEAUTIFUL IS BETTER THAN UGLY.\n",
      "EXPLICIT IS BETTER THAN IMPLICIT.\n",
      "SIMPLE IS BETTER THAN COMPLEX.\n",
      "COMPLEX IS BETTER THAN COMPLICATED.\n",
      "Beautiful is better than ugly.\n",
      "Explicit is better than implicit.\n",
      "Simple is better than complex.\n",
      "Complex is better than complicated.\n"
     ]
    }
   ],
   "source": [
    "s = '\\n'\n",
    "with open('sample.txt','r+') as fp:   # 逐行读取原文本文件，变成大写后存入s中\n",
    "    for line in fp:                 \n",
    "        s = s + line.capitalize()\n",
    "    fp.write(s)                       # 写入新文本\n",
    "with open('sample.txt') as fp:       # 读入文件内容，并输出\n",
    "    print(fp.read())"
   ]
  },
  {
   "cell_type": "markdown",
   "metadata": {},
   "source": [
    "## 二进制文件操作案例精选"
   ]
  },
  {
   "cell_type": "markdown",
   "metadata": {},
   "source": [
    "<font face='kaiti' size=5 style='line-height:1.5'>\n",
    "    \n",
    "- 数据库文件、图像文件、可执行文件、动态链接库文件、音频文件、视频文件、Office文档等均属于二进制文件。\n",
    "- 对于二进制文件，不能使用记事本或其他文本编辑软件直接进行正常读写，也不能通过Python的文件对象直接读取和理解二进制文件的内容。必须正确理解二进制文件结构和序列化规则，然后设计正确的反序列化规则，才能准确地理解二进制文件内容。\n",
    "- 所谓序列化，简单地说就是把内存中的数据在不丢失其类型信息的情况下转成二进制形式的过程，对象序列化后的数据经过正确的反序列化过程应该能够准确无误地恢复为原来的对象。\n",
    "- Python中常用的序列化模块有struct、pickle、shelve、marshal。"
   ]
  },
  {
   "cell_type": "markdown",
   "metadata": {},
   "source": [
    "### pickle模块读写二进制文件\n",
    "<font face='kaiti' size=5 style='line-height:1.5'>\n",
    "&emsp;&emsp;标准库pickle提供的dump()方法(protocol参数为True时可以实现压缩)将数据进行序列化并写入文件，load()方法读取二进制文件并进行反序列化，还原为原来的信息。<p>\n",
    "【例9-12】 使用pickle模块写入二进制文件。"
   ]
  },
  {
   "cell_type": "code",
   "execution_count": 13,
   "metadata": {
    "scrolled": true
   },
   "outputs": [
    {
     "name": "stdout",
     "output_type": "stream",
     "text": [
      "3037\n",
      "3月28日7时31分\n",
      "1000\n",
      "3718.32\n"
     ]
    }
   ],
   "source": [
    "import pickle\n",
    "\n",
    "account = 3037\n",
    "time = '3月28日7时31分'\n",
    "cost = 1000\n",
    "balance = 3718.32\n",
    "data = (account, time, cost, balance)\n",
    "\n",
    "with open('test_pickle.dat','wb') as f:\n",
    "    try:\n",
    "        pickle.dump(len(data), f)        #要序列化的对象个数\n",
    "        for item in data:\n",
    "            pickle.dump(item, f)         #序列化数据并写入文件\n",
    "    except:\n",
    "        print('写文件异常')\n",
    "        \n",
    "with open('test_pickle.dat','rb') as f:\n",
    "    n = pickle.load(f)\n",
    "    for i in range(n):\n",
    "        x = pickle.load(f)\n",
    "        print(x)\n",
    "    "
   ]
  },
  {
   "cell_type": "markdown",
   "metadata": {},
   "source": [
    "<font face='kaiti' size=5 style='line-height:1.5'>\n",
    "【例9-13】把文本文件sample.txt中的所有信息使用pickle进行序列化并写入二进制文件test_pickle.dat。"
   ]
  },
  {
   "cell_type": "code",
   "execution_count": 14,
   "metadata": {},
   "outputs": [
    {
     "name": "stdout",
     "output_type": "stream",
     "text": [
      "BEAUTIFUL IS BETTER THAN UGLY.\n",
      "\n",
      "EXPLICIT IS BETTER THAN IMPLICIT.\n",
      "\n",
      "SIMPLE IS BETTER THAN COMPLEX.\n",
      "\n",
      "COMPLEX IS BETTER THAN COMPLICATED.\n",
      "\n",
      "Beautiful is better than ugly.\n",
      "\n",
      "Explicit is better than implicit.\n",
      "\n",
      "Simple is better than complex.\n",
      "\n",
      "Complex is better than complicated.\n"
     ]
    }
   ],
   "source": [
    "import pickle\n",
    "\n",
    "with open('sample.txt') as src, open('test_pickle.dat', 'wb') as dest:\n",
    "    for line in src:\n",
    "        pickle.dump(line, dest)\n",
    "        \n",
    "with open('test_pickle.dat', 'rb') as fp:\n",
    "    while True:\n",
    "        try:\n",
    "            print(pickle.load(fp))\n",
    "        except:\n",
    "            break\n"
   ]
  },
  {
   "cell_type": "markdown",
   "metadata": {},
   "source": [
    "### struct模块读写二进制文件<br>\n",
    "<font face='kaiti' size=5 style='line-height:1.5'>\n",
    "    \n",
    "&emsp;&emsp;struct模块读写二进制文件用到4个方法：\n",
    "1. pack()：把对象按指定的格式进行序列化；\n",
    "2. write(): 使用文件对象的write()方法将序列化的结果写入二进制文件；\n",
    "3. read(): 使用文件对象的read()方法读取二进制文件内容；\n",
    "4. unpack(): 将读取的二进制文件反序列化得到原来的信息。\n",
    "\n",
    "【例9-14】   使用struct模块写入二进制文件。"
   ]
  },
  {
   "cell_type": "code",
   "execution_count": 3,
   "metadata": {},
   "outputs": [
    {
     "name": "stdout",
     "output_type": "stream",
     "text": [
      "account= 3037 cost= 1000.0 balance= 3718.320068359375\n",
      "time= 3月28日7时31分\n"
     ]
    }
   ],
   "source": [
    "import struct\n",
    "\n",
    "account = 3037\n",
    "time = '3月28日7时31分'\n",
    "cost = 1000\n",
    "balance = 3718.32\n",
    "\n",
    "sn = struct.pack('iff', account, cost, balance)     #序列化，i表示整数，f表示实数\n",
    "with open('sample_struct.dat', 'wb') as f:\n",
    "    f.write(sn)\n",
    "    f.write(time.encode())              #字符串需要编码为字节串再写入文件\n",
    "\n",
    "with open('sample_struct.dat', 'rb') as f:\n",
    "    sn = f.read(12)\n",
    "    tu = struct.unpack('iff', sn)    #使用指定格式反序列化\n",
    "    account, cost, balance = tu                    #序列解包\n",
    "    print('account=',account, 'cost=',cost, 'balance=',balance)\n",
    "    s = f.read(18)\n",
    "    time = s.decode()                   #字符串解码\n",
    "    print('time=', time)\n"
   ]
  },
  {
   "cell_type": "markdown",
   "metadata": {},
   "source": [
    "### shelve模块操作二进制文件<br>\n",
    "<font face='kaiti' size=5 style='line-height:1.5'>\n",
    "    \n",
    "&emsp;&emsp;Python标准库shelve可以像字典赋值一样写入二进制文件，也可以像字典一样读取二进制文件。"
   ]
  },
  {
   "cell_type": "code",
   "execution_count": 1,
   "metadata": {},
   "outputs": [
    {
     "name": "stdout",
     "output_type": "stream",
     "text": [
      "{'age': 38, 'sex': 'Male', 'address': 'SDIBT'}\n",
      "38\n",
      "1234567\n",
      "3\n"
     ]
    }
   ],
   "source": [
    "import shelve\n",
    "\n",
    "zhangsan = {'age':38, 'sex':'Male', 'address':'SDIBT'}\n",
    "lisi = {'age':40, 'sex':'Male', 'qq':'1234567', 'tel':'7654321'}\n",
    "with shelve.open('shelve_test.dat') as fp:\n",
    "    fp['zhangsan'] = zhangsan      # 像操作字典一样把数据写入文件\n",
    "    fp['lisi'] = lisi\n",
    "    for i in range(5):\n",
    "        fp[str(i)] = str(i)\n",
    "        \n",
    "with shelve.open('shelve_test.dat') as fp:\n",
    "    print(fp['zhangsan'])                 #读取并显示文件内容\n",
    "    print(fp['zhangsan']['age'])\n",
    "    print(fp['lisi']['qq'])\n",
    "    print(fp['3'])"
   ]
  },
  {
   "cell_type": "markdown",
   "metadata": {},
   "source": [
    "## 小结<br>\n",
    "<font face='kaiti' size=5 style='line-height:1.5'>\n",
    "\n",
    "1. 对文件内容进行操作，需先打开文件并创建文件对象，然后通过文件对象的方法对文件内容进行读取、写入、删除、修改等操作，完成后需关闭并保存文件内容；\n",
    "2. 对文件内容进行操作，建议使用上下文管理语句 with；\n",
    "3. 对文件内容进行操作，需确定读、写、追加等不同的模式；\n",
    "4. 二进制文件无法用记事本直接打开阅读或修改，必须使用相应的软件操作；\n",
    "5. Python中常用的二进制文件序列化模块有struct, pickle, shelve, marshal."
   ]
  },
  {
   "cell_type": "markdown",
   "metadata": {},
   "source": [
    "# 文件与文件夹操作<br>\n",
    "<font face='kaiti' size=5 style='line-height:1.5'>\n",
    "    \n",
    "&emsp;&emsp;本章主要介绍文件级别的操作，如遍历、复制、删除、重命名等，以及文件与文件夹操作在系统运维中的应用。"
   ]
  },
  {
   "cell_type": "markdown",
   "metadata": {},
   "source": [
    "## os模块\n",
    "<font face='kaiti' size=5 style='line-height:1.5'>\n",
    "    \n",
    "&emsp;&emsp;Python标准库的os模块提供使用操作系统和访问文件系统的简便方法，其中有大量的文件与文件夹操作的方法。如表10-1所示：\n",
    "\n",
    "<font size=4 face='times'> <center>表10-1 os模块的方法\n",
    "\n",
    "|<font size=4><center>方 法|<font size=4><center>功 能 说 明|\n",
    "|:---|:---|\n",
    "|<font size=4>chdir(path)|<font size=4>把path设为当前工作目录|\n",
    "|<font size=4>chmod(path, mode, \\*, dir_fd=<br>None, follow_symlinks=True)|<font size=4>改变文件的访问权限|\n",
    "|<font size=4>curdir|<font size=4>当前文件夹|\n",
    "|<font size=4>getcwd()|<font size=4>返回当前工作目录|\n",
    "|<font size=4>listdir(path)|<font size=4>返回path目录下的文件和目录列表|\n",
    "|<font size=4>mkdir(path[, mode=0777]|<font size=4>创建目录，要求上级目录必须存在|\n",
    "|<font size=4>makedirs(path1/path2..., mode=511)|<font size=4>创建多级目录，会根据需要自动创建中间缺失的目录|\n",
    "|<font size=4>rmdir(path)|<font size=4>删除目录，目录中不能有文件或子文件夹|\n",
    "|<font size=4>remove(path)|<font size=4>删除指定的文件，要求用户拥有删除文件的权限，<br>并且文件没有只读或其他特殊属性|\n",
    "|<font size=4>removedirs(path1/path2...)|<font size=4>删除多级目录，目录中不能有文件|\n",
    "|<font size=4>rename(src, dst)| <font size=4>重命名文件或目录，可以实现文件的移动，<br>若目标文件已存在，则抛出异常，不能跨越磁盘或分区|\n",
    "|<font size=4>replace(old, new)|<font size=4> 重命名文件或目录，若目标文件已存在<br>则直接覆盖，不能跨越磁盘或分区|\n",
    "|<font size=4>scandir(path='.')|<font size=4> 返回包含指定文件夹中所有DirEntry对象的<br>迭代对象，遍历文件夹时比listdir()更有效|\n",
    "|<font size=4>startfile(filepath[, operation])|<font size=4>使用关联的应用程序打开指定文件或启动指定应用程序|\n",
    "|<font size=4>stat(path)|<font size=4>返回文件的所有属性|\n",
    "|<font size=4>system(command)|<font size=4>执行指定系统命令|"
   ]
  },
  {
   "cell_type": "code",
   "execution_count": 34,
   "metadata": {},
   "outputs": [
    {
     "name": "stdout",
     "output_type": "stream",
     "text": [
      "E:\\Work in School\\Python basics\\Lesson10 文件与文件夹操作\n"
     ]
    }
   ],
   "source": [
    "# 在当前文件夹下创建一个临时文件夹temp\n",
    "import os\n",
    "path = os.getcwd()\n",
    "print(path)\n",
    "os.mkdir(path + '\\\\temp')"
   ]
  },
  {
   "cell_type": "code",
   "execution_count": 15,
   "metadata": {},
   "outputs": [
    {
     "name": "stdout",
     "output_type": "stream",
     "text": [
      "E:\\Work in School\\Python basics\\Lesson10 文件与文件夹操作\n",
      "E:\\Work in School\\Python basics\\Lesson10 文件与文件夹操作\\.ipynb_checkpoints\n",
      "E:\\Work in School\\Python basics\\Lesson10 文件与文件夹操作\\.ipynb_checkpoints\\Lesson10 文件与文件夹操作-checkpoint.ipynb\n",
      "E:\\Work in School\\Python basics\\Lesson10 文件与文件夹操作\\Lesson10 文件与文件夹操作.ipynb\n",
      "E:\\Work in School\\Python basics\\Lesson10 文件与文件夹操作\\sample.txt\n",
      "E:\\Work in School\\Python basics\\Lesson10 文件与文件夹操作\\sample_new.txt\n",
      "E:\\Work in School\\Python basics\\Lesson10 文件与文件夹操作\\sample_pickle.dat\n",
      "E:\\Work in School\\Python basics\\Lesson10 文件与文件夹操作\\sample_struct.dat\n",
      "E:\\Work in School\\Python basics\\Lesson10 文件与文件夹操作\\shelve_test.dat.bak\n",
      "E:\\Work in School\\Python basics\\Lesson10 文件与文件夹操作\\shelve_test.dat.dat\n",
      "E:\\Work in School\\Python basics\\Lesson10 文件与文件夹操作\\shelve_test.dat.dir\n",
      "E:\\Work in School\\Python basics\\Lesson10 文件与文件夹操作\\test_pickle.dat\n"
     ]
    }
   ],
   "source": [
    "# 遍历当前目录\n",
    "import os\n",
    "from os.path import join, isfile, isdir\n",
    "\n",
    "path = os.getcwd()\n",
    "print(path)\n",
    "\n",
    "def listDirDepthFirst(directory):\n",
    "    '''深度优先遍历文件夹'''\n",
    "    #遍历文件夹，如果是文件就直接输出\n",
    "    #如果是文件夹，就输出显示，然后递归遍历该文件夹\n",
    "    for subPath in os.listdir(directory):\n",
    "        path = join(directory, subPath)\n",
    "        if isfile(path):\n",
    "            print(path)\n",
    "        elif isdir(path):\n",
    "            print(path)\n",
    "            listDirDepthFirst(path)\n",
    "\n",
    "listDirDepthFirst(path)\n"
   ]
  },
  {
   "cell_type": "markdown",
   "metadata": {},
   "source": [
    "## os.path模块\n",
    "<font face='kaiti' size=5 style='line-height:1.5'>\n",
    "&emsp;&emsp;os的子模块os.path提供了大量用于路径判断、切分、连接以及文件夹遍历的方法。\n",
    "    \n",
    "<font size=4 face='times'> <center>表10-2 os.path模块的方法\n",
    "\n",
    "|<font size=4><center>方 法|<font size=4><center>功 能 说 明|\n",
    "|:---|:---|\n",
    "|<font size=4>abspath(path)|<font size=4>返回给定路径的绝对路径|\n",
    "|<font size=4>basename(path)|<font size=4>返回指定路径的最后一个组成部分|\n",
    "|<font size=4>commonpath(paths)&emsp;&emsp;|<font size=4>返回给定的多个路径的最长公共路径|\n",
    "|<font size=4>dirname(path)|<font size=4>返回给定路径的文件夹部分|\n",
    "|<font size=4>exists(path)|<font size=4>判断文件是否存在|\n",
    "|<font size=4>getatime(filename)|<font size=4>返回文件的最后访问时间|\n",
    "|<font size=4>getctime(filename)|<font size=4>返回文件的创建时间|\n",
    "|<font size=4>getmtime(filename)|<font size=4>返回文件的最后修改时间|\n",
    "|<font size=4>getsize(filename)|<font size=4>返回文件大小|\n",
    "|<font size=4>isabs(path)|<font size=4>判断是否为绝对路径|\n",
    "|<font size=4>isdir(path)| <font size=4>判断是否为文件夹|\n",
    "|<font size=4>isfile(path|<font size=4> 判断是否为文件|\n",
    "|<font size=4>join(path, *paths)|<font size=4> 连接2个或多个path|\n",
    "|<font size=4>split(path)|<font size=4>以路径中的最后一个斜线为分隔符<br>把路径分成两部分，以列表形式返回|\n",
    "|<font size=4>splitext(path)|<font size=4>从路径中分隔文件的扩展名|\n",
    "|<font size=4>splitdrive(path)|<font size=4>从路径中分隔驱动器的名称|"
   ]
  },
  {
   "cell_type": "markdown",
   "metadata": {},
   "source": [
    "<font face='kaiti' size=5 style='line-height:1.5'>\n",
    "【例】遍历当前文件夹，若存在txt文件，则打开该文件"
   ]
  },
  {
   "cell_type": "code",
   "execution_count": 55,
   "metadata": {
    "scrolled": true
   },
   "outputs": [
    {
     "name": "stdout",
     "output_type": "stream",
     "text": [
      "E:\\Work in School\\Python basics\\Lesson10 文件与文件夹操作\n"
     ]
    }
   ],
   "source": [
    "# 遍历当前文件夹，若存在txt文件，则打开该文件\n",
    "\n",
    "import os\n",
    "from os.path import join, isfile, isdir, splitext\n",
    "\n",
    "path = os.getcwd()\n",
    "print(path)\n",
    "\n",
    "\n",
    "def findtxt(directory):\n",
    "    '''由深度优先遍历文件夹改造\n",
    "    遍历当前文件夹，若存在txt文件，则用记事本打开'''\n",
    "    #遍历文件夹，如果是文件就直接输出\n",
    "    #如果是文件夹，就输出显示，然后递归遍历该文件夹\n",
    "    for subPath in os.listdir(directory):\n",
    "        path = join(directory, subPath)\n",
    "        if isfile(path):\n",
    "            #print(path)\n",
    "            if splitext(path)[1] == '.txt':   # 判断文件后缀是否 '.txt'\n",
    "                os.startfile(path)            # 用默认工具打开txt文件\n",
    "        elif isdir(path):\n",
    "            #print(path)\n",
    "            findtxt(path)\n",
    "\n",
    "\n",
    "findtxt(path)"
   ]
  },
  {
   "cell_type": "markdown",
   "metadata": {},
   "source": [
    "## shutil模块\n",
    "<font face='kaiti' size=5 style='line-height:1.5'>\n",
    "&emsp;&emsp;shutil模块也提供了大量的方法支持文件和文件夹操作，见表10-3所示：\n",
    "    \n",
    "<font size=4 face='times'> <center>表10-3 shutil模块的常用方法\n",
    "\n",
    "|<font size=4><center>方 法|<font size=4><center>功 能 说 明|\n",
    "|:---|:---|\n",
    "|<font size=4>copy(src, dst)|<font size=4>复制文件，新文件具有同样的文件属性，<br>如果目标文件已存在则抛出异常|\n",
    "|<font size=4>copyfile(src, dst)|<font size=4>复制文件，不复制文件属性，<br>如果目标文件已存在则直接覆盖|\n",
    "|<font size=4>copyfileobj(fsrc, fdst)&emsp;&emsp;|<font size=4>在2个文件对象间复制数据，如<br>copyfileobj(open('123.txt'),open('456.txt','a'))|\n",
    "|<font size=4>copymode(src, dst)|<font size=4>把src的模式位复制到dst上|\n",
    "|<font size=4>copystat(src, dst)|<font size=4>把src的模式位、访问时间等全部复制到dst上|\n",
    "|<font size=4>copytree(src, dst)|<font size=4>递归复制文件夹|\n",
    "|<font size=4>move(src, dst)|<font size=4>移动文件或递归移动文件夹，<br>也可以给文件或文件夹重命名|\n",
    "|<font size=4>rmtree(path)|<font size=4>递归删除文件夹|\n"
   ]
  },
  {
   "cell_type": "markdown",
   "metadata": {},
   "source": [
    "<font face='kaiti' size=5 style='line-height:1.5'>\n",
    "【例】遍历当前文件夹，若存在txt文件，则复制到其上层目录的temp文件夹中，并用记事本打开，以便编辑"
   ]
  },
  {
   "cell_type": "code",
   "execution_count": 59,
   "metadata": {},
   "outputs": [
    {
     "name": "stdout",
     "output_type": "stream",
     "text": [
      "E:\\Work in School\\Python basics\\Lesson10 文件与文件夹操作\n"
     ]
    }
   ],
   "source": [
    "# 遍历当前文件夹，若存在txt文件，则复制到其上层目录的temp文件夹中，并用记事本打开，以便编辑\n",
    "import os\n",
    "from os.path import join, isfile, isdir, splitext\n",
    "import shutil\n",
    "\n",
    "path = os.getcwd()\n",
    "print(path)\n",
    "parent = os.path.split(path)[0]  # 上层目录\n",
    "# 在上层目录创建文件夹temp\n",
    "tmppath = parent + '\\\\temp'\n",
    "if not os.path.exists(tmppath):   # 如果不存在该子目录，则创建\n",
    "    os.mkdir(tmppath)\n",
    "os.startfile(tmppath)     # 打开该临时文件夹\n",
    "\n",
    "\n",
    "def copytxt(directory):\n",
    "    '''由深度优先遍历文件夹改造，\n",
    "    遍历当前文件夹，若存在txt文件，则复制到其上层目录的\n",
    "    temp文件夹中，并用记事本打开，以便编辑'''\n",
    "    #遍历文件夹，如果是文件就直接输出\n",
    "    #如果是文件夹，就输出显示，然后递归遍历该文件夹\n",
    "    for subPath in os.listdir(directory):\n",
    "        path = join(directory, subPath)\n",
    "        if isfile(path):\n",
    "            #print(path)\n",
    "            if splitext(path)[1] == '.txt':   # 判断文件后缀是否 '.txt'\n",
    "                dst = join(tmppath,subPath)\n",
    "                shutil.copyfile(path, dst)\n",
    "                os.startfile(dst)            # 用默认工具打开txt文件\n",
    "        elif isdir(path):\n",
    "            #print(path)\n",
    "            copytxt(path)\n",
    "\n",
    "\n",
    "copytxt(path)"
   ]
  },
  {
   "cell_type": "markdown",
   "metadata": {},
   "source": [
    "## 精彩案例\n",
    "<font face='kaiti' size=5 style='line-height:1.5'>\n",
    "见教材P10.4 精彩案例赏析"
   ]
  },
  {
   "cell_type": "markdown",
   "metadata": {},
   "source": [
    "## 小结<br>\n",
    "<font face='kaiti' size=5 style='line-height:1.5'>\n",
    "   \n",
    "1. Python标准库os, os.path, shutil是文件与文件夹操作常用的模块；\n",
    "2. 对文件与文件夹的操作有很大不同，需确定操作对象是文件还是文件夹；\n",
    "3. 在创建目录时，需注意该目录是否存在；\n",
    "4. 在删除目录时，需注意该目录是否为空；\n",
    "5. 对文件进行操作时，需注意文件的属性；"
   ]
  },
  {
   "cell_type": "markdown",
   "metadata": {},
   "source": [
    "## 课后练习\n",
    "<font face='kaiti' size=5 style='line-height:1.5'>\n",
    "教材P216. 习题。"
   ]
  }
 ],
 "metadata": {
  "kernelspec": {
   "display_name": "Python 3",
   "language": "python",
   "name": "python3"
  },
  "language_info": {
   "codemirror_mode": {
    "name": "ipython",
    "version": 3
   },
   "file_extension": ".py",
   "mimetype": "text/x-python",
   "name": "python",
   "nbconvert_exporter": "python",
   "pygments_lexer": "ipython3",
   "version": "3.7.3"
  },
  "latex_envs": {
   "LaTeX_envs_menu_present": true,
   "autoclose": false,
   "autocomplete": true,
   "bibliofile": "biblio.bib",
   "cite_by": "apalike",
   "current_citInitial": 1,
   "eqLabelWithNumbers": true,
   "eqNumInitial": 1,
   "hotkeys": {
    "equation": "Ctrl-E",
    "itemize": "Ctrl-I"
   },
   "labels_anchors": false,
   "latex_user_defs": false,
   "report_style_numbering": false,
   "user_envs_cfg": false
  },
  "toc": {
   "base_numbering": "9",
   "nav_menu": {},
   "number_sections": true,
   "sideBar": true,
   "skip_h1_title": false,
   "title_cell": "目录",
   "title_sidebar": "目录",
   "toc_cell": true,
   "toc_position": {},
   "toc_section_display": true,
   "toc_window_display": false
  }
 },
 "nbformat": 4,
 "nbformat_minor": 2
}
