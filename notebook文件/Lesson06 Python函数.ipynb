{
 "cells": [
  {
   "cell_type": "markdown",
   "metadata": {
    "toc": true
   },
   "source": [
    "<h1>Table of Contents<span class=\"tocSkip\"></span></h1>\n",
    "<div class=\"toc\"><ul class=\"toc-item\"><li><span><a href=\"#Python函数\" data-toc-modified-id=\"Python函数-5\"><span class=\"toc-item-num\">5&nbsp;&nbsp;</span>Python函数</a></span><ul class=\"toc-item\"><li><span><a href=\"#函数定义与调用\" data-toc-modified-id=\"函数定义与调用-5.1\"><span class=\"toc-item-num\">5.1&nbsp;&nbsp;</span>函数定义与调用</a></span><ul class=\"toc-item\"><li><span><a href=\"#基本语法\" data-toc-modified-id=\"基本语法-5.1.1\"><span class=\"toc-item-num\">5.1.1&nbsp;&nbsp;</span>基本语法</a></span></li><li><span><a href=\"#函数嵌套定义、【可调用对象与修饰器】\" data-toc-modified-id=\"函数嵌套定义、【可调用对象与修饰器】-5.1.2\"><span class=\"toc-item-num\">5.1.2&nbsp;&nbsp;</span>函数嵌套定义、【可调用对象与修饰器】<br></a></span></li><li><span><a href=\"#函数递归调用\" data-toc-modified-id=\"函数递归调用-5.1.3\"><span class=\"toc-item-num\">5.1.3&nbsp;&nbsp;</span>函数递归调用<br></a></span></li></ul></li><li><span><a href=\"#函数的参数\" data-toc-modified-id=\"函数的参数-5.2\"><span class=\"toc-item-num\">5.2&nbsp;&nbsp;</span>函数的参数<br></a></span><ul class=\"toc-item\"><li><span><a href=\"#参数的类型及位置\" data-toc-modified-id=\"参数的类型及位置-5.2.1\"><span class=\"toc-item-num\">5.2.1&nbsp;&nbsp;</span>参数的类型及位置<br></a></span></li><li><span><a href=\"#传递参数时的序列解包\" data-toc-modified-id=\"传递参数时的序列解包-5.2.2\"><span class=\"toc-item-num\">5.2.2&nbsp;&nbsp;</span>传递参数时的序列解包<br></a></span></li></ul></li><li><span><a href=\"#lambda表达式\" data-toc-modified-id=\"lambda表达式-5.3\"><span class=\"toc-item-num\">5.3&nbsp;&nbsp;</span>lambda表达式<br></a></span></li><li><span><a href=\"#变量作用域\" data-toc-modified-id=\"变量作用域-5.4\"><span class=\"toc-item-num\">5.4&nbsp;&nbsp;</span>变量作用域<br></a></span></li><li><span><a href=\"#【生成器函数设计要点】\" data-toc-modified-id=\"【生成器函数设计要点】-5.5\"><span class=\"toc-item-num\">5.5&nbsp;&nbsp;</span>【生成器函数设计要点】<br></a></span></li><li><span><a href=\"#精彩案例\" data-toc-modified-id=\"精彩案例-5.6\"><span class=\"toc-item-num\">5.6&nbsp;&nbsp;</span>精彩案例</a></span></li><li><span><a href=\"#小结\" data-toc-modified-id=\"小结-5.7\"><span class=\"toc-item-num\">5.7&nbsp;&nbsp;</span>小结<br></a></span></li><li><span><a href=\"#课后练习\" data-toc-modified-id=\"课后练习-5.8\"><span class=\"toc-item-num\">5.8&nbsp;&nbsp;</span>课后练习<br></a></span></li></ul></li></ul></div>"
   ]
  },
  {
   "cell_type": "code",
   "execution_count": 1,
   "metadata": {},
   "outputs": [
    {
     "ename": "SyntaxError",
     "evalue": "invalid character in identifier (<ipython-input-1-57b8466875c3>, line 1)",
     "output_type": "error",
     "traceback": [
      "\u001b[1;36m  File \u001b[1;32m\"<ipython-input-1-57b8466875c3>\"\u001b[1;36m, line \u001b[1;32m1\u001b[0m\n\u001b[1;33m    ！pip install requests\u001b[0m\n\u001b[1;37m       ^\u001b[0m\n\u001b[1;31mSyntaxError\u001b[0m\u001b[1;31m:\u001b[0m invalid character in identifier\n"
     ]
    }
   ],
   "source": [
    "!pip install requests"
   ]
  },
  {
   "cell_type": "code",
   "execution_count": 4,
   "metadata": {},
   "outputs": [
    {
     "name": "stdout",
     "output_type": "stream",
     "text": [
      "Requirement already satisfied: requests in c:\\users\\hasee\\anaconda3\\lib\\site-packages (2.21.0)\n",
      "Requirement already satisfied: chardet<3.1.0,>=3.0.2 in c:\\users\\hasee\\anaconda3\\lib\\site-packages (from requests) (3.0.4)\n",
      "Requirement already satisfied: certifi>=2017.4.17 in c:\\users\\hasee\\anaconda3\\lib\\site-packages (from requests) (2019.3.9)\n",
      "Requirement already satisfied: urllib3<1.25,>=1.21.1 in c:\\users\\hasee\\anaconda3\\lib\\site-packages (from requests) (1.24.1)\n",
      "Requirement already satisfied: idna<2.9,>=2.5 in c:\\users\\hasee\\anaconda3\\lib\\site-packages (from requests) (2.8)\n"
     ]
    }
   ],
   "source": [
    "!pip install requests"
   ]
  },
  {
   "cell_type": "markdown",
   "metadata": {},
   "source": [
    "# Python函数\n",
    "<font face='kaiti' size=5 style='line-height:1.5'>\n",
    "- 将可能需要反复执行的代码封装为函数，并在需要该功能的地方进行调用，不仅可以实现代码复用，更重要的是可以保证代码的一致性，只需要修改该函数代码则所有调用均受到影响。\n",
    "- 设计函数时，应注意提高模块的内聚性，同时降低模块之间的隐式耦合。"
   ]
  },
  {
   "cell_type": "code",
   "execution_count": 5,
   "metadata": {},
   "outputs": [
    {
     "name": "stdout",
     "output_type": "stream",
     "text": [
      "Help on package requests:\n",
      "\n",
      "NAME\n",
      "    requests\n",
      "\n",
      "DESCRIPTION\n",
      "    Requests HTTP Library\n",
      "    ~~~~~~~~~~~~~~~~~~~~~\n",
      "    \n",
      "    Requests is an HTTP library, written in Python, for human beings. Basic GET\n",
      "    usage:\n",
      "    \n",
      "       >>> import requests\n",
      "       >>> r = requests.get('https://www.python.org')\n",
      "       >>> r.status_code\n",
      "       200\n",
      "       >>> 'Python is a programming language' in r.content\n",
      "       True\n",
      "    \n",
      "    ... or POST:\n",
      "    \n",
      "       >>> payload = dict(key1='value1', key2='value2')\n",
      "       >>> r = requests.post('https://httpbin.org/post', data=payload)\n",
      "       >>> print(r.text)\n",
      "       {\n",
      "         ...\n",
      "         \"form\": {\n",
      "           \"key2\": \"value2\",\n",
      "           \"key1\": \"value1\"\n",
      "         },\n",
      "         ...\n",
      "       }\n",
      "    \n",
      "    The other HTTP methods are supported - see `requests.api`. Full documentation\n",
      "    is at <http://python-requests.org>.\n",
      "    \n",
      "    :copyright: (c) 2017 by Kenneth Reitz.\n",
      "    :license: Apache 2.0, see LICENSE for more details.\n",
      "\n",
      "PACKAGE CONTENTS\n",
      "    __version__\n",
      "    _internal_utils\n",
      "    adapters\n",
      "    api\n",
      "    auth\n",
      "    certs\n",
      "    compat\n",
      "    cookies\n",
      "    exceptions\n",
      "    help\n",
      "    hooks\n",
      "    models\n",
      "    packages\n",
      "    sessions\n",
      "    status_codes\n",
      "    structures\n",
      "    utils\n",
      "\n",
      "FUNCTIONS\n",
      "    check_compatibility(urllib3_version, chardet_version)\n",
      "\n",
      "DATA\n",
      "    __author_email__ = 'me@kennethreitz.org'\n",
      "    __build__ = 139520\n",
      "    __cake__ = '✨ 🍰 ✨'\n",
      "    __copyright__ = 'Copyright 2018 Kenneth Reitz'\n",
      "    __description__ = 'Python HTTP for Humans.'\n",
      "    __license__ = 'Apache 2.0'\n",
      "    __title__ = 'requests'\n",
      "    __url__ = 'http://python-requests.org'\n",
      "    codes = <lookup 'status_codes'>\n",
      "    cryptography_version = '2.6.1'\n",
      "\n",
      "VERSION\n",
      "    2.21.0\n",
      "\n",
      "AUTHOR\n",
      "    Kenneth Reitz\n",
      "\n",
      "FILE\n",
      "    c:\\users\\hasee\\anaconda3\\lib\\site-packages\\requests\\__init__.py\n",
      "\n",
      "\n"
     ]
    }
   ],
   "source": [
    "import requests\n",
    "help(requests)"
   ]
  },
  {
   "cell_type": "markdown",
   "metadata": {},
   "source": [
    "## 函数定义与调用\n",
    "### 基本语法\n",
    "<font face='kaiti' size=5 style='line-height:1.5'>\n",
    "    \n",
    "（1）函数定义语法：\n",
    "```python\n",
    "def 函数名(参数序列):\n",
    "    '''注释'''\n",
    "    函数体\n",
    "```\n",
    "&emsp;&emsp;Python中使用关键字**def**来定义函数，然后是空格和函数名，函数名后面的圆括号内是形式参数（formal-parameters简称“形参”）序列。如果有多个参数，则用逗号隔开。<br>\n",
    "\n",
    "&emsp;&emsp;注意事项:\n",
    "- 在定义函数时，开头部分的注释并不是必需的，但如果为函数的定义加上注释的话，可以为用户提供友好的提示。\n",
    "- 形参不需要声明类型，也不需要指定函数返回值类型。\n",
    "- 即使该函数不需要接收任何参数，也必须保留一对空的圆括号。\n",
    "- 括号后面的冒号必不可少。\n",
    "- 函数体相对于def关键字必须保持一定的空格缩进。\n",
    "\n",
    "（2）函数调用和执行的一般形式如下：\n",
    "```python\n",
    "函数名(参数序列)\n",
    "```\n",
    "&emsp;&emsp;此时，参数序列中是要传入函数内部的参数，称为实参（actual-parameters）。在Python中，所有的语句都是实时执行的，不像C/C++存在编译过程。def也是一条可执行语句，定义一个函数。所以函数的调用必须在函数定义之后。"
   ]
  },
  {
   "cell_type": "markdown",
   "metadata": {},
   "source": [
    "<font face='kaiti' size=5 style='line-height:1.5'>例：计算斐波那契数列中小于参数n的所有值："
   ]
  },
  {
   "cell_type": "code",
   "execution_count": 49,
   "metadata": {},
   "outputs": [
    {
     "name": "stdout",
     "output_type": "stream",
     "text": [
      "1 1 2 3 5 8 13 21 34 55 89 144 233 377 610 987 \n",
      "\n",
      "Help on function fib in module __main__:\n",
      "\n",
      "fib(n)\n",
      "    计算斐波那契数列中小于参数n的所有值\n",
      "\n"
     ]
    }
   ],
   "source": [
    "def fib(n):    \n",
    "    '''计算斐波那契数列中小于参数n的所有值'''\n",
    "    a, b = 1, 1\n",
    "    while a < n:\n",
    "        print(a, end=' ')\n",
    "        a, b = b, a+b\n",
    "    print()\n",
    "\n",
    "fib(1000)      # 调用函数fib，1000为实参\n",
    "print()\n",
    "help(fib)      # 查看函数fib的帮助信息"
   ]
  },
  {
   "cell_type": "markdown",
   "metadata": {},
   "source": [
    "<font face='kaiti' size=5 style='line-height:1.5'>\n",
    "（3）函数的返回<br>\n",
    "&emsp;&emsp;在Python中，使用return语句给出函数的返回值，并退出函数。\n",
    "- return可以返回任意类型的值，定义函数时不需要声明函数的返回值类型，由return语句返回表达式的类型确定。\n",
    "- 不论return语句出现在函数的什么位置，一旦得到执行将直接结束函数的执行。\n",
    "- 如果函数没有return语句、有return语句但是没有得到执行或者执行了不返回任何值的return语句，解释器都会认为该函数以return None结束，即返回空值。"
   ]
  },
  {
   "cell_type": "markdown",
   "metadata": {},
   "source": [
    "<font face='kaiti' size=5 style='line-height:1.5'>例：返回斐波那契数列中小于参数n的所有值："
   ]
  },
  {
   "cell_type": "code",
   "execution_count": null,
   "metadata": {},
   "outputs": [],
   "source": [
    "def fib(n):     \n",
    "    '''返回斐波那契数列中小于参数n的所有值'''\n",
    "    if n <= 1:\n",
    "        return    # 返回空值\n",
    "    if n <= 2:        \n",
    "        return [1, 1]\n",
    "    else:\n",
    "        t = [1, 1]        \n",
    "        while t[0]+t[1] < n:\n",
    "            t.append(t[0]+t[1])            \n",
    "        return t\n",
    "\n",
    "fib(1000)      # 调用函数fib，1000为实参"
   ]
  },
  {
   "cell_type": "code",
   "execution_count": null,
   "metadata": {},
   "outputs": [],
   "source": []
  },
  {
   "cell_type": "markdown",
   "metadata": {},
   "source": [
    "###  函数嵌套定义、【可调用对象与修饰器】<br>\n",
    "<font face='kaiti' size=5 style='line-height:1.5'>\n",
    "\n",
    "（1）函数嵌套定义<br>\n",
    "&emsp;&emsp;Python允许函数的嵌套定义，在函数内部可以再定义另外一个函数。<br>"
   ]
  },
  {
   "cell_type": "markdown",
   "metadata": {},
   "source": [
    "<font face='kaiti' size=5>例：编写函数，返回小于n的所有质数。"
   ]
  },
  {
   "cell_type": "code",
   "execution_count": 71,
   "metadata": {},
   "outputs": [
    {
     "data": {
      "text/plain": [
       "[2, 3, 5, 7, 11, 13, 17, 19]"
      ]
     },
     "execution_count": 71,
     "metadata": {},
     "output_type": "execute_result"
    }
   ],
   "source": [
    "def allprime(n):\n",
    "    '''返回小于n的所有质数'''\n",
    "    if n <= 2:\n",
    "        return []\n",
    "    else:\n",
    "        from math import sqrt\n",
    "\n",
    "        def isprime(x):\n",
    "            '''内部函数isprime(x)用于判断x是否为质数'''\n",
    "            flag = True\n",
    "            for k in range(2, int(sqrt(x)) + 1):  # 如果x能被k整除，则不是质数\n",
    "                if x % k == 0:\n",
    "                    flag = False\n",
    "                    break  # 若x能被k整除，则跳出循环\n",
    "            return flag  # 返回布尔值\n",
    "\n",
    "        t = []\n",
    "        for x in range(2, n):\n",
    "            if isprime(x):\n",
    "                t.append(x)\n",
    "        return t\n",
    "\n",
    "\n",
    "allprime(20)"
   ]
  },
  {
   "cell_type": "markdown",
   "metadata": {},
   "source": [
    "<font face='kaiti' size=5 style='line-height:1.5'>\n",
    "\n",
    "- 尽管函数嵌套定义使用很方便，也很灵活，但并不提倡过多使用，因为这样会导致内部的函数反复定义而影响执行效率。"
   ]
  },
  {
   "cell_type": "markdown",
   "metadata": {},
   "source": [
    "<font face='kaiti' size=5 style='line-height:1.5'>\n",
    "\n",
    "（2）【可调用对象】<br>\n",
    "（3）【修饰器】<br>\n",
    "&emsp;&emsp;详见教材P95."
   ]
  },
  {
   "cell_type": "markdown",
   "metadata": {},
   "source": [
    "### 函数递归调用<br>\n",
    "<font face='kaiti' size=5 style='line-height:1.5'>\n",
    "\n",
    "&emsp;&emsp;函数的递归调用是函数调用的一种特殊情况，函数调用自己，自己再调用自己，自己再调用自己，...，当某个条件得到满足的时候就不再调用了，然后再一层一层地返回直到该函数第一次调用的位置。常用于迭代型函数的定义。\n",
    "\n",
    "![函数递归调用](recursion.png '函数递归调用')"
   ]
  },
  {
   "cell_type": "code",
   "execution_count": 3,
   "metadata": {},
   "outputs": [
    {
     "data": {
      "text/plain": [
       "89"
      ]
     },
     "execution_count": 3,
     "metadata": {},
     "output_type": "execute_result"
    }
   ],
   "source": [
    "def fib(n):\n",
    "    '''使用递归法求斐波那契数列第n项（n从0开始）的值。'''\n",
    "    if n == 0:\n",
    "        return 1\n",
    "    elif n == 1:\n",
    "        return 1\n",
    "    else:\n",
    "        return fib(n - 2) + fib(n - 1)\n",
    "\n",
    "\n",
    "fib(10)"
   ]
  },
  {
   "cell_type": "code",
   "execution_count": 4,
   "metadata": {},
   "outputs": [
    {
     "data": {
      "text/plain": [
       "[1, 1, 2, 3, 5, 8, 13, 21, 34, 55, 89]"
      ]
     },
     "execution_count": 4,
     "metadata": {},
     "output_type": "execute_result"
    }
   ],
   "source": [
    "def fib(n):\n",
    "    '''使用递归法求斐波那契数列前n项（n从0开始）的值。'''\n",
    "    if n == 0:\n",
    "        return [1]\n",
    "    elif n == 1:\n",
    "        return [1, 1]\n",
    "    else:\n",
    "        t1 = fib(n - 1)\n",
    "        return t1 + [t1[-1] + t1[-2]]  # 这里不能用原地操作\n",
    "\n",
    "\n",
    "fib(10)"
   ]
  },
  {
   "cell_type": "markdown",
   "metadata": {},
   "source": [
    "<font face='kaiti' size=5 style='line-height:1.5'>\n",
    "\n",
    "&emsp;&emsp;每次调用函数时需记住离开的位置才能保证函数运行结束时回到正确的位置，这个过程称为保存现场，需要一定的栈空间。另外，调用一个函数时会为其分配一个栈帧，在调用结束自动释放。而函数递归调用时，一个函数执行尚未结束就又调用自己，原来的栈帧尚未释放又分配了新的栈帧，需占用大量的栈空间。所以，递归深度如果太大，可能会导致空间不足进而程序崩溃。"
   ]
  },
  {
   "cell_type": "markdown",
   "metadata": {},
   "source": [
    "## 函数的参数<br>\n",
    "<font face='kaiti' size=5 style='line-height:1.5'>\n",
    "    \n",
    "&emsp;&emsp;在Python中，变量保存的是对象的地址，类似C/C++中的指针。在调用函数时，实参传递给形参的是实参的引用而非实参的值。<br>\n",
    "&emsp;&emsp;一般来说，在函数内部对形参的修改不会影响实参。但如果参数为可变数据类型，在函数内部对可变类型的形参做了原地操作，则同样的作用会体现在实参上。"
   ]
  },
  {
   "cell_type": "code",
   "execution_count": 6,
   "metadata": {},
   "outputs": [
    {
     "name": "stdout",
     "output_type": "stream",
     "text": [
      "[3]\n"
     ]
    },
    {
     "data": {
      "text/plain": [
       "[3]"
      ]
     },
     "execution_count": 6,
     "metadata": {},
     "output_type": "execute_result"
    }
   ],
   "source": [
    "def modify(v):  # 使用下标修改列表元素值\n",
    "    v[0] = v[0] + 1\n",
    "    return v\n",
    "\n",
    "\n",
    "a = [2]\n",
    "print(modify(a))\n",
    "a"
   ]
  },
  {
   "cell_type": "code",
   "execution_count": 76,
   "metadata": {},
   "outputs": [
    {
     "name": "stdout",
     "output_type": "stream",
     "text": [
      "[2, 3, 4, 5]\n"
     ]
    },
    {
     "data": {
      "text/plain": [
       "[2, 3, 4, 5]"
      ]
     },
     "execution_count": 76,
     "metadata": {},
     "output_type": "execute_result"
    }
   ],
   "source": [
    "def modify(v, item):  # 使用列表的方法为列表增加元素\n",
    "    v.append(item)\n",
    "    return v\n",
    "\n",
    "\n",
    "a = [2, 3, 4]\n",
    "print(modify(a, 5))\n",
    "a"
   ]
  },
  {
   "cell_type": "markdown",
   "metadata": {},
   "source": [
    "<font face='kaiti' size=5 style='line-height:1.5'>\n",
    "&emsp;&emsp;这种情况可用来实现对可变类型实参的修改。如果要避免可变类型的实参被函数修改，可以使用实参的浅复制或深复制作为实参，或在函数内部使用实参的浅复制或深复制，或在函数内部对形参不使用原地操作。"
   ]
  },
  {
   "cell_type": "code",
   "execution_count": 77,
   "metadata": {},
   "outputs": [
    {
     "name": "stdout",
     "output_type": "stream",
     "text": [
      "[2, 3, 4, 5]\n"
     ]
    },
    {
     "data": {
      "text/plain": [
       "[2, 3, 4]"
      ]
     },
     "execution_count": 77,
     "metadata": {},
     "output_type": "execute_result"
    }
   ],
   "source": [
    "def modify(v, item):    # 使用列表的方法为列表增加元素\n",
    "    v.append(item)\n",
    "    return v\n",
    "\n",
    "a = [2,3,4]\n",
    "print(modify(a[:],5))\n",
    "a"
   ]
  },
  {
   "cell_type": "markdown",
   "metadata": {},
   "source": [
    "## 参数的类型及位置<br>\n",
    "<font face='kaiti' size=5 style='line-height:1.5'>\n",
    "\n",
    "&emsp;&emsp;为了增加函数调用的灵活性和方便性，Python函数的参数在定义或调用时，可有多种不同的形式，代表不同的含义或作用。<br>\n",
    "1. 位置参数(positional arguments)<br>\n",
    "&emsp;&emsp;如果在函数定义时，形参没有设置默认值，而在函数被调用时也没有使用形参的名称，则函数调用时实参与形参的顺序和数量必须一致。这种有固定位置的参数称为位置参数。"
   ]
  },
  {
   "cell_type": "code",
   "execution_count": 26,
   "metadata": {},
   "outputs": [
    {
     "data": {
      "text/plain": [
       "2.0"
      ]
     },
     "execution_count": 26,
     "metadata": {},
     "output_type": "execute_result"
    }
   ],
   "source": [
    "def demo(a, b, c):\n",
    "    return (4*a*c - b*b)/4/a\n",
    "    \n",
    "demo(1,2,3) "
   ]
  },
  {
   "cell_type": "markdown",
   "metadata": {},
   "source": [
    "<font face='kaiti' size=5 style='line-height:1.5'>\n",
    "\n",
    "2. 默认值参数(Default Arguments)<br>\n",
    "&emsp;&emsp;在函数定义时，可为形参设置默认值。调用函数时如果未提供对应的实参，则该实参取默认值。\n",
    "  - 在调用含有默认值参数的函数的过程中，实参到形参的传递也是按位置顺序逐个赋值；\n",
    "  - 定义含默认值参数的函数时，任何一个默认值参数右边都不能再出现没有默认值的普通位置参数，否则会提示语法错误。\n",
    "  \n",
    "&emsp;&emsp;例：定义正态分布概率密度函数$f(x) = \\frac1{\\sqrt{2\\pi}\\sigma}e^{-\\frac{(x-\\mu)^2}{2\\sigma^2}}$如下，体会默认值参数的作用。"
   ]
  },
  {
   "cell_type": "code",
   "execution_count": 20,
   "metadata": {},
   "outputs": [
    {
     "name": "stdout",
     "output_type": "stream",
     "text": [
      "0.3520653267642995\n",
      "0.3520653267642995\n",
      "0.24197072451914337\n",
      "0.24197072451914337\n"
     ]
    }
   ],
   "source": [
    "def normpdf(x, mu=0.0, sigma=1.0):\n",
    "    '''正态分布概率密度函数在点x处的函数值，\n",
    "    均值mu默认取0.0，标准差sigma默认取1.0.'''\n",
    "    \n",
    "    from math import pi, e, sqrt\n",
    "    return e**(-(x-mu)**2/2/sigma**2)/sqrt(2*pi)/sigma\n",
    "\n",
    "print(normpdf(0.5))\n",
    "print(normpdf(0.5, 0.0, 1.0))\n",
    "print(normpdf(1, 2))\n",
    "print(normpdf(1, 2, 1.0))"
   ]
  },
  {
   "cell_type": "markdown",
   "metadata": {},
   "source": [
    "<font face='kaiti' size=5 style='line-height:1.5'>\n",
    "\n",
    "&emsp;&emsp;在调用函数时，可混合使用普通位置参数和默认值参数的默认值，这时函数会将输入的实参当将普通位置参数，而缺少的其他实参则使用其默认值。"
   ]
  },
  {
   "cell_type": "markdown",
   "metadata": {},
   "source": [
    "<font face='kaiti' size=5 style='line-height:1.5'>\n",
    "    \n",
    "3. 参数的名称传递<br>\n",
    "&emsp;&emsp;以上的实参到形参的传递是按位置顺序逐个赋值，这是默认的方式。但当参数很多时，这种调用参数的方式可读性较差。Python允许输入实参时指定对应的形参名称，明确指定哪个值传递给哪个形参，这时实参顺序可以任意调整。<p>\n",
    "&emsp;&emsp;参数按名称传递时称为关键字参数(Keyword Arguments)，只需在调用时显式地将实参对应赋值给形参，并不需要在函数定义时对参数做其他特别设定。<br>"
   ]
  },
  {
   "cell_type": "markdown",
   "metadata": {},
   "source": [
    "<font face='kaiti' size=5 style='line-height:1.5'>例：对上面定义的正态分布概率密度函数，在调用时使用名称传递。"
   ]
  },
  {
   "cell_type": "code",
   "execution_count": 7,
   "metadata": {},
   "outputs": [
    {
     "name": "stdout",
     "output_type": "stream",
     "text": [
      "0.3520653267642995\n",
      "0.3520653267642995\n",
      "0.3520653267642995\n"
     ]
    }
   ],
   "source": [
    "def normpdf(x, mu=0.0, sigma=1.0):\n",
    "    '''正态分布概率密度函数在点x处的函数值，\n",
    "    均值mu默认取0.0，标准差sigma默认取1.0.'''\n",
    "\n",
    "    from math import pi, e, sqrt\n",
    "    return e**(-(x - mu)**2 / 2 / sigma**2) / sqrt(2 * pi) / sigma\n",
    "\n",
    "\n",
    "print(normpdf(1.5, mu=2))\n",
    "print(normpdf(mu=2, x=1.5, sigma=1.0))\n",
    "print(normpdf(mu=2, x=1.5))"
   ]
  },
  {
   "cell_type": "markdown",
   "metadata": {},
   "source": [
    "<font face='kaiti' size=5 style='line-height:1.5'>\n",
    "    \n",
    "&emsp;&emsp;在函数调用时，可以混合使用使用位置参数，关键字参数，以及默认值参数的默认值，这时应将普通位置参数放在前面，关键字参数放在后面，函数会自动对缺少的其他实参使用其默认值。<p>\n",
    "&emsp;&emsp;为了避免混淆，也可在函数定义时用\"\\*\"强制将位置参数和关键字参数隔开。如math标准库的isclose函数的定义如下：\n",
    "```python\n",
    "math.isclose(a, b, *, rel_tol=1e-09, abs_tol=0.0)```\n",
    "这里形参列表中有一个\"\\*\"，这意味着\"\\*\"后面的参数在函数调用时如果出现的话，则必须当做关键字参数使用。"
   ]
  },
  {
   "cell_type": "code",
   "execution_count": 108,
   "metadata": {},
   "outputs": [
    {
     "data": {
      "text/plain": [
       "True"
      ]
     },
     "execution_count": 108,
     "metadata": {},
     "output_type": "execute_result"
    }
   ],
   "source": [
    "import math\n",
    "x = 3.14159265\n",
    "math.isclose(x, math.pi, rel_tol=1e-8)"
   ]
  },
  {
   "cell_type": "code",
   "execution_count": 2,
   "metadata": {},
   "outputs": [
    {
     "data": {
      "text/plain": [
       "True"
      ]
     },
     "execution_count": 2,
     "metadata": {},
     "output_type": "execute_result"
    }
   ],
   "source": [
    "import math\n",
    "x = 3.14159265\n",
    "math.isclose(x, math.pi, abs_tol=1e-8)"
   ]
  },
  {
   "cell_type": "code",
   "execution_count": 9,
   "metadata": {},
   "outputs": [
    {
     "name": "stdout",
     "output_type": "stream",
     "text": [
      "0.3520653267642995\n",
      "0.3520653267642995\n"
     ]
    },
    {
     "ename": "TypeError",
     "evalue": "normpdf() takes 1 positional argument but 2 were given",
     "output_type": "error",
     "traceback": [
      "\u001b[1;31m---------------------------------------------------------------------------\u001b[0m",
      "\u001b[1;31mTypeError\u001b[0m                                 Traceback (most recent call last)",
      "\u001b[1;32m<ipython-input-9-e18a89d51596>\u001b[0m in \u001b[0;36m<module>\u001b[1;34m()\u001b[0m\n\u001b[0;32m      9\u001b[0m \u001b[0mprint\u001b[0m\u001b[1;33m(\u001b[0m\u001b[0mnormpdf\u001b[0m\u001b[1;33m(\u001b[0m\u001b[1;36m1.5\u001b[0m\u001b[1;33m,\u001b[0m \u001b[0mmu\u001b[0m\u001b[1;33m=\u001b[0m\u001b[1;36m2\u001b[0m\u001b[1;33m)\u001b[0m\u001b[1;33m)\u001b[0m\u001b[1;33m\u001b[0m\u001b[0m\n\u001b[0;32m     10\u001b[0m \u001b[0mprint\u001b[0m\u001b[1;33m(\u001b[0m\u001b[0mnormpdf\u001b[0m\u001b[1;33m(\u001b[0m\u001b[0mmu\u001b[0m\u001b[1;33m=\u001b[0m\u001b[1;36m2\u001b[0m\u001b[1;33m,\u001b[0m \u001b[0mx\u001b[0m\u001b[1;33m=\u001b[0m\u001b[1;36m1.5\u001b[0m\u001b[1;33m,\u001b[0m \u001b[0msigma\u001b[0m\u001b[1;33m=\u001b[0m\u001b[1;36m1.0\u001b[0m\u001b[1;33m)\u001b[0m\u001b[1;33m)\u001b[0m\u001b[1;33m\u001b[0m\u001b[0m\n\u001b[1;32m---> 11\u001b[1;33m \u001b[0mprint\u001b[0m\u001b[1;33m(\u001b[0m\u001b[0mnormpdf\u001b[0m\u001b[1;33m(\u001b[0m\u001b[1;36m1.5\u001b[0m\u001b[1;33m,\u001b[0m \u001b[1;36m2\u001b[0m\u001b[1;33m)\u001b[0m\u001b[1;33m)\u001b[0m\u001b[1;33m\u001b[0m\u001b[0m\n\u001b[0m",
      "\u001b[1;31mTypeError\u001b[0m: normpdf() takes 1 positional argument but 2 were given"
     ]
    }
   ],
   "source": [
    "def normpdf(x, *, mu=0.0, sigma=1.0):\n",
    "    '''正态分布概率密度函数在点x处的函数值，\n",
    "    均值mu默认取0.0，标准差sigma默认取1.0.'''\n",
    "\n",
    "    from math import pi, e, sqrt\n",
    "    return e**(-(x - mu)**2 / 2 / sigma**2) / sqrt(2 * pi) / sigma\n",
    "\n",
    "\n",
    "print(normpdf(1.5, mu=2))\n",
    "print(normpdf(mu=2, x=1.5, sigma=1.0))\n",
    "print(normpdf(1.5, 2))     # 只能使用1个位置参数"
   ]
  },
  {
   "cell_type": "markdown",
   "metadata": {},
   "source": [
    "<font face='kaiti' size=5 style='line-height:1.5'>\n",
    "\n",
    "4. 可变长度参数(Arbitrary Argument Lists)<br>\n",
    "&emsp;&emsp;有的函数在定义时可能有很多参数，但调用时可能因不同的情形而需要不同的参数个数。Python允许函数定义时用可变长度参数代替多个参数，这种参数有2种形式：` *paramenter` 和 `**parameter`。前者用来接收任意多个实参并将其放在一个元组中，后者接收类似于关键字参数的显式赋值形式的多个实参并将其放入字典中。"
   ]
  },
  {
   "cell_type": "code",
   "execution_count": 1,
   "metadata": {},
   "outputs": [
    {
     "name": "stdout",
     "output_type": "stream",
     "text": [
      "(1, '2', [3, 4])\n",
      "<class 'tuple'>\n"
     ]
    }
   ],
   "source": [
    "# 演示可变长度参数 *para 的用法：多个实参一律放到元组中\n",
    "\n",
    "def demo(*p):\n",
    "    print(p)\n",
    "    print(type(p))\n",
    "\n",
    "demo(1,'2',[3,4])"
   ]
  },
  {
   "cell_type": "code",
   "execution_count": 37,
   "metadata": {},
   "outputs": [
    {
     "name": "stdout",
     "output_type": "stream",
     "text": [
      "{'name': 'John', 'age': 19, 'sex': 'man'}\n",
      "<class 'dict'>\n"
     ]
    }
   ],
   "source": [
    "# 演示可变长度参数 **para 的用法：接收的实参转换为字典\n",
    "\n",
    "def demo(**p):\n",
    "    print(p)\n",
    "    print(type(p))\n",
    "\n",
    "demo(name='John', age=19, sex='man')"
   ]
  },
  {
   "cell_type": "markdown",
   "metadata": {},
   "source": [
    "<font face='kaiti' size=5 style='line-height:1.5'>例：用带\"\\*\"的可变长度参数定义正态分布概率密度函数。"
   ]
  },
  {
   "cell_type": "code",
   "execution_count": 10,
   "metadata": {
    "scrolled": true
   },
   "outputs": [
    {
     "name": "stdout",
     "output_type": "stream",
     "text": [
      "0.3520653267642995\n",
      "0.12951759566589174\n",
      "0.3520653267642995\n",
      "错误，可变参数\"*p\"最多包含2个参数mu和sigma!\n",
      "None\n"
     ]
    },
    {
     "ename": "TypeError",
     "evalue": "normpdf() got an unexpected keyword argument 'mu'",
     "output_type": "error",
     "traceback": [
      "\u001b[1;31m---------------------------------------------------------------------------\u001b[0m",
      "\u001b[1;31mTypeError\u001b[0m                                 Traceback (most recent call last)",
      "\u001b[1;32m<ipython-input-10-12ff9b2f58d9>\u001b[0m in \u001b[0;36m<module>\u001b[1;34m()\u001b[0m\n\u001b[0;32m     27\u001b[0m \u001b[0mprint\u001b[0m\u001b[1;33m(\u001b[0m\u001b[0mnormpdf\u001b[0m\u001b[1;33m(\u001b[0m\u001b[1;36m1.5\u001b[0m\u001b[1;33m,\u001b[0m \u001b[1;36m2\u001b[0m\u001b[1;33m,\u001b[0m \u001b[1;36m1.0\u001b[0m\u001b[1;33m)\u001b[0m\u001b[1;33m)\u001b[0m\u001b[1;33m\u001b[0m\u001b[0m\n\u001b[0;32m     28\u001b[0m \u001b[0mprint\u001b[0m\u001b[1;33m(\u001b[0m\u001b[0mnormpdf\u001b[0m\u001b[1;33m(\u001b[0m\u001b[1;36m1.5\u001b[0m\u001b[1;33m,\u001b[0m \u001b[1;36m2\u001b[0m\u001b[1;33m,\u001b[0m \u001b[1;36m3\u001b[0m\u001b[1;33m,\u001b[0m \u001b[1;36m1\u001b[0m\u001b[1;33m)\u001b[0m\u001b[1;33m)\u001b[0m  \u001b[1;31m# 可变参数*p包含的参数多于2个\u001b[0m\u001b[1;33m\u001b[0m\u001b[0m\n\u001b[1;32m---> 29\u001b[1;33m \u001b[0mprint\u001b[0m\u001b[1;33m(\u001b[0m\u001b[0mnormpdf\u001b[0m\u001b[1;33m(\u001b[0m\u001b[1;36m1.5\u001b[0m\u001b[1;33m,\u001b[0m \u001b[0mmu\u001b[0m\u001b[1;33m=\u001b[0m\u001b[1;36m2\u001b[0m\u001b[1;33m)\u001b[0m\u001b[1;33m)\u001b[0m  \u001b[1;31m# 不能使用关键字参数\u001b[0m\u001b[1;33m\u001b[0m\u001b[0m\n\u001b[0m",
      "\u001b[1;31mTypeError\u001b[0m: normpdf() got an unexpected keyword argument 'mu'"
     ]
    }
   ],
   "source": [
    "def normpdf(x, *p):\n",
    "    '''正态分布概率密度函数在点x处的函数值，\n",
    "    *p代表2个参数：均值mu默认取0.0，标准差sigma默认取1.0.'''\n",
    "\n",
    "    def parse(p):  # 内部函数，用于处理输入的可变参数*p\n",
    "        mu = 0.0\n",
    "        sigma = 1.0\n",
    "        t = len(p)\n",
    "        if t == 0:\n",
    "            return (mu, sigma)\n",
    "        elif t == 1:\n",
    "            return (p[0], sigma)\n",
    "        else:  # 如p的长度>=2，则原样返回\n",
    "            return (p)\n",
    "\n",
    "    args = parse(p)  # 先调用内部函数，获得mu和sigma\n",
    "    if len(args) > 2:\n",
    "        print('错误，可变参数\"*p\"最多包含2个参数mu和sigma!')\n",
    "    else:\n",
    "        (mu, sigma) = parse(p)\n",
    "        from math import pi, e, sqrt\n",
    "        return e**(-(x - mu)**2 / 2 / sigma**2) / sqrt(2 * pi) / sigma\n",
    "\n",
    "\n",
    "print(normpdf(1.5, 2))\n",
    "print(normpdf(1.5))\n",
    "print(normpdf(1.5, 2, 1.0))\n",
    "print(normpdf(1.5, 2, 3, 1))  # 可变参数*p包含的参数多于2个\n",
    "print(normpdf(1.5, mu=2))  # 不能使用关键字参数，否则提示错误"
   ]
  },
  {
   "cell_type": "markdown",
   "metadata": {},
   "source": [
    "<font face='kaiti' size=5 style='line-height:1.5'>例：用带\"\\*\\*\"的可变长度参数定义正态分布概率密度函数。"
   ]
  },
  {
   "cell_type": "code",
   "execution_count": 23,
   "metadata": {},
   "outputs": [
    {
     "name": "stdout",
     "output_type": "stream",
     "text": [
      "0.3520653267642995\n",
      "0.3520653267642995\n",
      "错误，检测到关键字参数mu和sigma之外的参数!\n",
      "None\n"
     ]
    },
    {
     "ename": "TypeError",
     "evalue": "normpdf() takes 1 positional argument but 2 were given",
     "output_type": "error",
     "traceback": [
      "\u001b[1;31m---------------------------------------------------------------------------\u001b[0m",
      "\u001b[1;31mTypeError\u001b[0m                                 Traceback (most recent call last)",
      "\u001b[1;32m<ipython-input-23-cdceac120f16>\u001b[0m in \u001b[0;36m<module>\u001b[1;34m()\u001b[0m\n\u001b[0;32m     19\u001b[0m \u001b[0mprint\u001b[0m\u001b[1;33m(\u001b[0m\u001b[0mnormpdf\u001b[0m\u001b[1;33m(\u001b[0m\u001b[1;36m1.5\u001b[0m\u001b[1;33m,\u001b[0m \u001b[0mmu\u001b[0m \u001b[1;33m=\u001b[0m \u001b[1;36m2\u001b[0m\u001b[1;33m,\u001b[0m \u001b[0msigma\u001b[0m \u001b[1;33m=\u001b[0m \u001b[1;36m1.0\u001b[0m\u001b[1;33m)\u001b[0m\u001b[1;33m)\u001b[0m\u001b[1;33m\u001b[0m\u001b[0m\n\u001b[0;32m     20\u001b[0m \u001b[0mprint\u001b[0m\u001b[1;33m(\u001b[0m\u001b[0mnormpdf\u001b[0m\u001b[1;33m(\u001b[0m\u001b[1;36m1.5\u001b[0m\u001b[1;33m,\u001b[0m \u001b[0mmu\u001b[0m \u001b[1;33m=\u001b[0m \u001b[1;36m2\u001b[0m\u001b[1;33m,\u001b[0m \u001b[0msigam\u001b[0m \u001b[1;33m=\u001b[0m \u001b[1;36m1.0\u001b[0m \u001b[1;33m)\u001b[0m\u001b[1;33m)\u001b[0m    \u001b[1;31m# 关键字错误\u001b[0m\u001b[1;33m\u001b[0m\u001b[0m\n\u001b[1;32m---> 21\u001b[1;33m \u001b[0mprint\u001b[0m\u001b[1;33m(\u001b[0m\u001b[0mnormpdf\u001b[0m\u001b[1;33m(\u001b[0m\u001b[1;36m1.5\u001b[0m\u001b[1;33m,\u001b[0m \u001b[1;36m2\u001b[0m\u001b[1;33m)\u001b[0m\u001b[1;33m)\u001b[0m                       \u001b[1;31m# 只能有1个位置参数，其他的必须用关键字参数形式\u001b[0m\u001b[1;33m\u001b[0m\u001b[0m\n\u001b[0m",
      "\u001b[1;31mTypeError\u001b[0m: normpdf() takes 1 positional argument but 2 were given"
     ]
    }
   ],
   "source": [
    "def normpdf(x, **p):\n",
    "    '''正态分布概率密度函数在点x处的函数值，\n",
    "    均值mu默认取0.0，标准差sigma默认取1.0.'''\n",
    "\n",
    "    def parse(p):\n",
    "        args = {'mu': 0.0, 'sigma': 1.0}  # 设定关键字参数的默认值\n",
    "        args.update(p)  # 用输入的**p定义的关键字参数更新\n",
    "        return args\n",
    "\n",
    "    args = parse(p)\n",
    "    if len(args) > 2:\n",
    "        print('错误，检测到关键字参数mu和sigma之外的参数!')\n",
    "    else:\n",
    "        mu = args['mu']\n",
    "        sigma = args['sigma']\n",
    "        from math import pi, e, sqrt\n",
    "        return e**(-(x - mu)**2 / 2 / sigma**2) / sqrt(2 * pi) / sigma\n",
    "\n",
    "\n",
    "print(normpdf(1.5, mu=2))\n",
    "print(normpdf(1.5, mu=2, sigma=1.0))\n",
    "print(normpdf(1.5, mu=2, sigam=1.0))  # 关键字错误\n",
    "print(normpdf(1.5, 2))  # 只能有1个位置参数，其他的必须用关键字参数形式，否则提示错误"
   ]
  },
  {
   "cell_type": "markdown",
   "metadata": {},
   "source": [
    "<font face='kaiti' size=5 style='line-height:1.5'>\n",
    "\n",
    "&emsp;&emsp;Python定义函数时可以同时使用位置参数、默认值参数和可变长度参数。一般把位置参数放在最前面，然后是默认值参数，接下来是一个星号\"\\*\"的可变长度参数\"\\*args\"，最后是两个星号\"\\*\\*\"的可变长度参数\"\\*\\*kwargs\"。调用函数时，一般也按照这个顺序进行参数传递。为使用方便，常将普通位置参数合并到\"\\*args\"一起，而默认值参数合并到\"\\*\\*kwargs\"一起，按照关键字参数使用。"
   ]
  },
  {
   "cell_type": "markdown",
   "metadata": {},
   "source": [
    "<font face='kaiti' size=5 style='line-height:1.5'>例：体会Matplotlib库中函数plot的定义方式"
   ]
  },
  {
   "cell_type": "code",
   "execution_count": 6,
   "metadata": {},
   "outputs": [
    {
     "name": "stdout",
     "output_type": "stream",
     "text": [
      "Help on function plot in module matplotlib.pyplot:\n",
      "\n",
      "plot(*args, **kwargs)\n",
      "    Plot y versus x as lines and/or markers.\n",
      "    \n",
      "    Call signatures::\n",
      "    \n",
      "        plot([x], y, [fmt], data=None, **kwargs)\n",
      "        plot([x], y, [fmt], [x2], y2, [fmt2], ..., **kwargs)\n",
      "    \n",
      "    The coordinates of the points or line nodes are given by *x*, *y*.\n",
      "    \n",
      "    The optional parameter *fmt* is a convenient way for defining basic\n",
      "    formatting like color, marker and linestyle. It's a shortcut string\n",
      "    notation described in the *Notes* section below.\n",
      "    \n",
      "    >>> plot(x, y)        # plot x and y using default line style and color\n",
      "    >>> plot(x, y, 'bo')  # plot x and y using blue circle markers\n",
      "    >>> plot(y)           # plot y using x as index array 0..N-1\n",
      "    >>> plot(y, 'r+')     # ditto, but with red plusses\n",
      "    \n",
      "    You can use `.Line2D` properties as keyword arguments for more\n",
      "    control on the  appearance. Line properties and *fmt* can be mixed.\n",
      "    The following two calls yield identical results:\n",
      "    \n",
      "    >>> plot(x, y, 'go--', linewidth=2, markersize=12)\n",
      "    >>> plot(x, y, color='green', marker='o', linestyle='dashed',\n",
      "            linewidth=2, markersize=12)\n",
      "    \n",
      "    When conflicting with *fmt*, keyword arguments take precedence.\n",
      "    \n",
      "    **Plotting labelled data**\n",
      "    \n",
      "    There's a convenient way for plotting objects with labelled data (i.e.\n",
      "    data that can be accessed by index ``obj['y']``). Instead of giving\n",
      "    the data in *x* and *y*, you can provide the object in the *data*\n",
      "    parameter and just give the labels for *x* and *y*::\n",
      "    \n",
      "    >>> plot('xlabel', 'ylabel', data=obj)\n",
      "    \n",
      "    All indexable objects are supported. This could e.g. be a `dict`, a\n",
      "    `pandas.DataFame` or a structured numpy array.\n",
      "    \n",
      "    \n",
      "    **Plotting multiple sets of data**\n",
      "    \n",
      "    There are various ways to plot multiple sets of data.\n",
      "    \n",
      "    - The most straight forward way is just to call `plot` multiple times.\n",
      "      Example:\n",
      "    \n",
      "      >>> plot(x1, y1, 'bo')\n",
      "      >>> plot(x2, y2, 'go')\n",
      "    \n",
      "    - Alternatively, if your data is already a 2d array, you can pass it\n",
      "      directly to *x*, *y*. A separate data set will be drawn for every\n",
      "      column.\n",
      "    \n",
      "      Example: an array ``a`` where the first column represents the *x*\n",
      "      values and the other columns are the *y* columns::\n",
      "    \n",
      "      >>> plot(a[0], a[1:])\n",
      "    \n",
      "    - The third way is to specify multiple sets of *[x]*, *y*, *[fmt]*\n",
      "      groups::\n",
      "    \n",
      "      >>> plot(x1, y1, 'g^', x2, y2, 'g-')\n",
      "    \n",
      "      In this case, any additional keyword argument applies to all\n",
      "      datasets. Also this syntax cannot be combined with the *data*\n",
      "      parameter.\n",
      "    \n",
      "    By default, each line is assigned a different style specified by a\n",
      "    'style cycle'. The *fmt* and line property parameters are only\n",
      "    necessary if you want explicit deviations from these defaults.\n",
      "    Alternatively, you can also change the style cycle using the\n",
      "    'axes.prop_cycle' rcParam.\n",
      "    \n",
      "    Parameters\n",
      "    ----------\n",
      "    x, y : array-like or scalar\n",
      "        The horizontal / vertical coordinates of the data points.\n",
      "        *x* values are optional. If not given, they default to\n",
      "        ``[0, ..., N-1]``.\n",
      "    \n",
      "        Commonly, these parameters are arrays of length N. However,\n",
      "        scalars are supported as well (equivalent to an array with\n",
      "        constant value).\n",
      "    \n",
      "        The parameters can also be 2-dimensional. Then, the columns\n",
      "        represent separate data sets.\n",
      "    \n",
      "    fmt : str, optional\n",
      "        A format string, e.g. 'ro' for red circles. See the *Notes*\n",
      "        section for a full description of the format strings.\n",
      "    \n",
      "        Format strings are just an abbreviation for quickly setting\n",
      "        basic line properties. All of these and more can also be\n",
      "        controlled by keyword arguments.\n",
      "    \n",
      "    data : indexable object, optional\n",
      "        An object with labelled data. If given, provide the label names to\n",
      "        plot in *x* and *y*.\n",
      "    \n",
      "        .. note::\n",
      "            Technically there's a slight ambiguity in calls where the\n",
      "            second label is a valid *fmt*. `plot('n', 'o', data=obj)`\n",
      "            could be `plt(x, y)` or `plt(y, fmt)`. In such cases,\n",
      "            the former interpretation is chosen, but a warning is issued.\n",
      "            You may suppress the warning by adding an empty format string\n",
      "            `plot('n', 'o', '', data=obj)`.\n",
      "    \n",
      "    \n",
      "    Other Parameters\n",
      "    ----------------\n",
      "    scalex, scaley : bool, optional, default: True\n",
      "        These parameters determined if the view limits are adapted to\n",
      "        the data limits. The values are passed on to `autoscale_view`.\n",
      "    \n",
      "    **kwargs : `.Line2D` properties, optional\n",
      "        *kwargs* are used to specify properties like a line label (for\n",
      "        auto legends), linewidth, antialiasing, marker face color.\n",
      "        Example::\n",
      "    \n",
      "        >>> plot([1,2,3], [1,2,3], 'go-', label='line 1', linewidth=2)\n",
      "        >>> plot([1,2,3], [1,4,9], 'rs',  label='line 2')\n",
      "    \n",
      "        If you make multiple lines with one plot command, the kwargs\n",
      "        apply to all those lines.\n",
      "    \n",
      "        Here is a list of available `.Line2D` properties:\n",
      "    \n",
      "          agg_filter: a filter function, which takes a (m, n, 3) float array and a dpi value, and returns a (m, n, 3) array \n",
      "      alpha: float (0.0 transparent through 1.0 opaque) \n",
      "      animated: bool \n",
      "      antialiased or aa: bool \n",
      "      clip_box: a `.Bbox` instance \n",
      "      clip_on: bool \n",
      "      clip_path: [(`~matplotlib.path.Path`, `.Transform`) | `.Patch` | None] \n",
      "      color or c: any matplotlib color \n",
      "      contains: a callable function \n",
      "      dash_capstyle: ['butt' | 'round' | 'projecting'] \n",
      "      dash_joinstyle: ['miter' | 'round' | 'bevel'] \n",
      "      dashes: sequence of on/off ink in points \n",
      "      drawstyle: ['default' | 'steps' | 'steps-pre' | 'steps-mid' | 'steps-post'] \n",
      "      figure: a `.Figure` instance \n",
      "      fillstyle: ['full' | 'left' | 'right' | 'bottom' | 'top' | 'none'] \n",
      "      gid: an id string \n",
      "      label: object \n",
      "      linestyle or ls: ['solid' | 'dashed', 'dashdot', 'dotted' | (offset, on-off-dash-seq) | ``'-'`` | ``'--'`` | ``'-.'`` | ``':'`` | ``'None'`` | ``' '`` | ``''``]\n",
      "      linewidth or lw: float value in points \n",
      "      marker: :mod:`A valid marker style <matplotlib.markers>`\n",
      "      markeredgecolor or mec: any matplotlib color \n",
      "      markeredgewidth or mew: float value in points \n",
      "      markerfacecolor or mfc: any matplotlib color \n",
      "      markerfacecoloralt or mfcalt: any matplotlib color \n",
      "      markersize or ms: float \n",
      "      markevery: [None | int | length-2 tuple of int | slice | list/array of int | float | length-2 tuple of float]\n",
      "      path_effects: `.AbstractPathEffect` \n",
      "      picker: float distance in points or callable pick function ``fn(artist, event)`` \n",
      "      pickradius: float distance in points\n",
      "      rasterized: bool or None \n",
      "      sketch_params: (scale: float, length: float, randomness: float) \n",
      "      snap: bool or None \n",
      "      solid_capstyle: ['butt' | 'round' |  'projecting'] \n",
      "      solid_joinstyle: ['miter' | 'round' | 'bevel'] \n",
      "      transform: a :class:`matplotlib.transforms.Transform` instance \n",
      "      url: a url string \n",
      "      visible: bool \n",
      "      xdata: 1D array \n",
      "      ydata: 1D array \n",
      "      zorder: float \n",
      "    \n",
      "    Returns\n",
      "    -------\n",
      "    lines\n",
      "        A list of `.Line2D` objects representing the plotted data.\n",
      "    \n",
      "    \n",
      "    See Also\n",
      "    --------\n",
      "    scatter : XY scatter plot with markers of variing size and/or color (\n",
      "        sometimes also called bubble chart).\n",
      "    \n",
      "    \n",
      "    Notes\n",
      "    -----\n",
      "    **Format Strings**\n",
      "    \n",
      "    A format string consists of a part for color, marker and line::\n",
      "    \n",
      "        fmt = '[color][marker][line]'\n",
      "    \n",
      "    Each of them is optional. If not provided, the value from the style\n",
      "    cycle is used. Exception: If ``line`` is given, but no ``marker``,\n",
      "    the data will be a line without markers.\n",
      "    \n",
      "    **Colors**\n",
      "    \n",
      "    The following color abbreviations are supported:\n",
      "    \n",
      "    =============    ===============================\n",
      "    character        color\n",
      "    =============    ===============================\n",
      "    ``'b'``          blue\n",
      "    ``'g'``          green\n",
      "    ``'r'``          red\n",
      "    ``'c'``          cyan\n",
      "    ``'m'``          magenta\n",
      "    ``'y'``          yellow\n",
      "    ``'k'``          black\n",
      "    ``'w'``          white\n",
      "    =============    ===============================\n",
      "    \n",
      "    If the color is the only part of the format string, you can\n",
      "    additionally use any  `matplotlib.colors` spec, e.g. full names\n",
      "    (``'green'``) or hex strings (``'#008000'``).\n",
      "    \n",
      "    **Markers**\n",
      "    \n",
      "    =============    ===============================\n",
      "    character        description\n",
      "    =============    ===============================\n",
      "    ``'.'``          point marker\n",
      "    ``','``          pixel marker\n",
      "    ``'o'``          circle marker\n",
      "    ``'v'``          triangle_down marker\n",
      "    ``'^'``          triangle_up marker\n",
      "    ``'<'``          triangle_left marker\n",
      "    ``'>'``          triangle_right marker\n",
      "    ``'1'``          tri_down marker\n",
      "    ``'2'``          tri_up marker\n",
      "    ``'3'``          tri_left marker\n",
      "    ``'4'``          tri_right marker\n",
      "    ``'s'``          square marker\n",
      "    ``'p'``          pentagon marker\n",
      "    ``'*'``          star marker\n",
      "    ``'h'``          hexagon1 marker\n",
      "    ``'H'``          hexagon2 marker\n",
      "    ``'+'``          plus marker\n",
      "    ``'x'``          x marker\n",
      "    ``'D'``          diamond marker\n",
      "    ``'d'``          thin_diamond marker\n",
      "    ``'|'``          vline marker\n",
      "    ``'_'``          hline marker\n",
      "    =============    ===============================\n",
      "    \n",
      "    **Line Styles**\n",
      "    \n",
      "    =============    ===============================\n",
      "    character        description\n",
      "    =============    ===============================\n",
      "    ``'-'``          solid line style\n",
      "    ``'--'``         dashed line style\n",
      "    ``'-.'``         dash-dot line style\n",
      "    ``':'``          dotted line style\n",
      "    =============    ===============================\n",
      "    \n",
      "    Example format strings::\n",
      "    \n",
      "        'b'    # blue markers with default shape\n",
      "        'ro'   # red circles\n",
      "        'g-'   # green solid line\n",
      "        '--'   # dashed line with default color\n",
      "        'k^:'  # black triangle_up markers connected by a dotted line\n",
      "    \n",
      "    .. note::\n",
      "        In addition to the above described arguments, this function can take a\n",
      "        **data** keyword argument. If such a **data** argument is given, the\n",
      "        following arguments are replaced by **data[<arg>]**:\n",
      "    \n",
      "        * All arguments with the following names: 'x', 'y'.\n",
      "\n"
     ]
    }
   ],
   "source": [
    "import matplotlib.pyplot as plt\n",
    "help(plt.plot)"
   ]
  },
  {
   "cell_type": "markdown",
   "metadata": {},
   "source": [
    "### 传递参数时的序列解包<br>\n",
    "<font face='kaiti' size=5 style='line-height:1.5'>\n",
    "    \n",
    "&emsp;&emsp;函数定义中往往有多个形参，为了在调用函数时实参的书写更简洁，可以用序列解包的方式传递参数。与函数定义时可变长度形参相对应，函数调用时可以通过在实参序列前加一个星号\"\\*\"将其解包，然后传递给多个单变量形参。"
   ]
  },
  {
   "cell_type": "markdown",
   "metadata": {},
   "source": [
    "<font face='kaiti' size=5 style='line-height:1.5'>例：调用正态分布概率密度函数，对实参使用序列解包"
   ]
  },
  {
   "cell_type": "code",
   "execution_count": 4,
   "metadata": {},
   "outputs": [
    {
     "name": "stdout",
     "output_type": "stream",
     "text": [
      "0.3520653267642995\n",
      "0.3520653267642995\n",
      "0.13114657203397997\n",
      "0.13114657203397997\n"
     ]
    }
   ],
   "source": [
    "# 函数定义时，不用可变长度形参，函数调用时对实参序列解包\n",
    "\n",
    "\n",
    "def normpdf(x, mu=0.0, sigma=1.0):\n",
    "    '''正态分布概率密度函数在点x处的函数值，\n",
    "    均值mu默认取0.0，标准差sigma默认取1.0.'''\n",
    "\n",
    "    from math import pi, e, sqrt\n",
    "    return e**(-(x - mu)**2 / 2 / sigma**2) / sqrt(2 * pi) / sigma\n",
    "\n",
    "\n",
    "# 加一个“*”对实参可迭代序列解包\n",
    "p = (2, )\n",
    "print(normpdf(1.5, *p))\n",
    "print(normpdf(1.5, 2))\n",
    "p = [2, 3.0]\n",
    "print(normpdf(1.5, *p))\n",
    "print(normpdf(1.5, 2, 3.0))"
   ]
  },
  {
   "cell_type": "code",
   "execution_count": 3,
   "metadata": {},
   "outputs": [
    {
     "name": "stdout",
     "output_type": "stream",
     "text": [
      "0.3520653267642995\n",
      "0.3520653267642995\n",
      "0.13114657203397997\n",
      "0.13114657203397997\n"
     ]
    }
   ],
   "source": [
    "# 函数定义时，用可变长度形参，函数调用时对实参序列解包\n",
    "\n",
    "\n",
    "def normpdf(x, *p):\n",
    "    '''正态分布概率密度函数在点x处的函数值，\n",
    "    均值mu默认取0.0，标准差sigma默认取1.0.'''\n",
    "\n",
    "    def parse(p):  # 内部函数，用于处理输入的可变参数*p\n",
    "        mu = 0.0\n",
    "        sigma = 1.0\n",
    "        t = len(p)\n",
    "        if t == 0:\n",
    "            return (mu, sigma)\n",
    "        elif t == 1:\n",
    "            return (p[0], sigma)\n",
    "        else:  # 如p的长度>=2，则原样返回\n",
    "            return (p)\n",
    "\n",
    "    args = parse(p)  # 先调用内部函数，获得mu和sigma\n",
    "    if len(args) > 2:\n",
    "        print('错误，可变参数\"*p\"最多包含2个参数mu和sigma!')\n",
    "    else:\n",
    "        (mu, sigma) = parse(p)\n",
    "        from math import pi, e, sqrt\n",
    "        return e**(-(x - mu)**2 / 2 / sigma**2) / sqrt(2 * pi) / sigma\n",
    "\n",
    "\n",
    "# 加一个“*”对实参的可迭代序列解包\n",
    "p = [2]\n",
    "print(normpdf(1.5, *p))\n",
    "print(normpdf(1.5, 2))\n",
    "p = (2, 3.0)\n",
    "print(normpdf(1.5, *p))\n",
    "print(normpdf(1.5, 2, 3.0))"
   ]
  },
  {
   "cell_type": "markdown",
   "metadata": {},
   "source": [
    "<font face='kaiti' size=5 style='line-height:1.5'>\n",
    "    \n",
    "&emsp;&emsp;如果函数的实参来自于字典，可以在前面加两个星号\"\\*\\*\"对字典进行解包，等价于关键参数。"
   ]
  },
  {
   "cell_type": "markdown",
   "metadata": {},
   "source": [
    "<font face='kaiti' size=5 style='line-height:1.5'>例：调用正态分布概率密度函数，对实参使用字典解包方式"
   ]
  },
  {
   "cell_type": "code",
   "execution_count": 5,
   "metadata": {},
   "outputs": [
    {
     "name": "stdout",
     "output_type": "stream",
     "text": [
      "0.3520653267642995\n",
      "0.3520653267642995\n",
      "0.13114657203397997\n",
      "0.13114657203397997\n"
     ]
    }
   ],
   "source": [
    "# 函数定义时，不用可变长度形参，函数调用时对实参字典解包\n",
    "def normpdf(x, mu=0.0, sigma=1.0):\n",
    "    '''正态分布概率密度函数在点x处的函数值，\n",
    "    均值mu默认取0.0，标准差sigma默认取1.0.'''\n",
    "\n",
    "    from math import pi, e, sqrt\n",
    "    return e**(-(x - mu)**2 / 2 / sigma**2) / sqrt(2 * pi) / sigma\n",
    "\n",
    "\n",
    "p = {'mu': 2.0}\n",
    "print(normpdf(1.5, **p))\n",
    "print(normpdf(1.5, mu=2.0))\n",
    "p = {'mu': 2.0, 'sigma': 3.0}\n",
    "print(normpdf(1.5, **p))\n",
    "print(normpdf(1.5, mu=2, sigma=3.0))"
   ]
  },
  {
   "cell_type": "code",
   "execution_count": 32,
   "metadata": {},
   "outputs": [
    {
     "name": "stdout",
     "output_type": "stream",
     "text": [
      "0.3520653267642995\n",
      "0.3520653267642995\n",
      "0.13114657203397997\n",
      "0.13114657203397997\n"
     ]
    }
   ],
   "source": [
    "# 函数定义时，用两星号的可变长度形参，函数调用时对实参字典解包\n",
    "\n",
    "\n",
    "def normpdf(x, **p):\n",
    "    '''正态分布概率密度函数在点x处的函数值，\n",
    "    均值mu默认取0.0，标准差sigma默认取1.0.'''\n",
    "\n",
    "    def parse(p):\n",
    "        args = {'mu': 0.0, 'sigma': 1.0}  # 设定关键字参数的默认值\n",
    "        args.update(p)  # 用输入的**p定义的关键字参数更新\n",
    "        return args\n",
    "\n",
    "    args = parse(p)\n",
    "    if len(args) > 2:\n",
    "        print('错误，检测到关键字参数mu和sigma之外的参数!')\n",
    "    else:\n",
    "        mu = args['mu']\n",
    "        sigma = args['sigma']\n",
    "        from math import pi, e, sqrt\n",
    "        return e**(-(x - mu)**2 / 2 / sigma**2) / sqrt(2 * pi) / sigma\n",
    "\n",
    "\n",
    "p = {'mu': 2.0}\n",
    "print(normpdf(1.5, **p))\n",
    "print(normpdf(1.5, mu=2.0))\n",
    "p = {'mu': 2.0, 'sigma': 3.0}\n",
    "print(normpdf(1.5, **p))\n",
    "print(normpdf(1.5, mu=2, sigma=3.0))"
   ]
  },
  {
   "cell_type": "markdown",
   "metadata": {},
   "source": [
    "<font face='kaiti' size=5 style='line-height:1.5'>\n",
    "    \n",
    "&emsp;&emsp;注意：调用函数时对实参序列使用一个星号\"\\*\"进行解包后的实参将会被当做普通位置参数对待，并且会在关键参数和使用两个星号\"\\*\\*\"进行序列解包的参数之前进行处理。"
   ]
  },
  {
   "cell_type": "markdown",
   "metadata": {},
   "source": [
    "<font face='kaiti' size=5 style='line-height:1.5'>例：使用Matplotlib库中的plot函数绘图，对实参使用2种形式的序列解包。"
   ]
  },
  {
   "cell_type": "code",
   "execution_count": 17,
   "metadata": {},
   "outputs": [
    {
     "data": {
      "image/png": "[encoded data removed]",
      "text/plain": [
       "<Figure size 960x400 with 1 Axes>"
      ]
     },
     "metadata": {},
     "output_type": "display_data"
    }
   ],
   "source": [
    "%matplotlib inline\n",
    "import numpy as np\n",
    "import matplotlib.pyplot as plt\n",
    "\n",
    "rad = np.arange(0, np.pi * 2, 0.05 * np.pi)\n",
    "p1 = plt.figure(figsize=(12, 5), dpi=80)  # 确定画布大小\n",
    "plt.title('sin/cos')  # 添加标题\n",
    "plt.xlabel('rad')  # 添加x轴的名称\n",
    "plt.ylabel('value')  # 添加y轴的名称\n",
    "plt.xlim((0, np.pi * 2))  # 确定x轴范围\n",
    "plt.ylim((-1.1, 1.1))  # 确定y轴范围\n",
    "plt.xticks([0, np.pi / 2, np.pi, np.pi * 1.5, np.pi * 2])  # 规定x轴刻度\n",
    "plt.yticks([-1, -0.5, 0, 0.5, 1])  # 确定y轴刻度\n",
    "# 添加sin曲线，蓝色实线，宽度为1\n",
    "plt.plot(rad, np.sin(rad), 'b', linewidth=1)  # 绘制sin曲线，实参不用序列解包\n",
    "# 添加cos曲线，橙色虚线，菱形，宽度为2\n",
    "data = [rad, np.cos(rad)]\n",
    "style = {\n",
    "    'color': '#ff8000',\n",
    "    'linestyle': 'dashed',\n",
    "    'marker': 'd',\n",
    "    'linewidth': 2\n",
    "}\n",
    "plt.plot(*data, **style)  # 绘制cos曲线，对实参序列解包\n",
    "plt.legend(['sin', 'cos'])\n",
    "plt.show()"
   ]
  },
  {
   "cell_type": "markdown",
   "metadata": {},
   "source": [
    "## lambda表达式<br>\n",
    "<font face='kaiti' size=5 style='line-height:1.5'>\n",
    "    \n",
    "```python\n",
    "lambda 参数序列: 参数表达式\n",
    "```    \n",
    "- lambda表达式可以用来声明匿名函数，也就是没有函数名字的临时使用的小函数，尤其适合需要一个函数作为另一个函数参数的场合。也可以定义具名函数。\n",
    "- lambda表达式只可以包含一个表达式，该表达式的计算结果可以看作是函数的返回值，不允许包含复合语句，但在表达式中可以调用其他函数。"
   ]
  },
  {
   "cell_type": "code",
   "execution_count": 112,
   "metadata": {},
   "outputs": [
    {
     "data": {
      "text/plain": [
       "0.3333333333333333"
      ]
     },
     "execution_count": 112,
     "metadata": {},
     "output_type": "execute_result"
    }
   ],
   "source": [
    "sum(map(lambda n: 1 / 4**n, range(1, 101)))  # lambda函数作为map函数的实参"
   ]
  },
  {
   "cell_type": "code",
   "execution_count": 2,
   "metadata": {},
   "outputs": [
    {
     "data": {
      "text/plain": [
       "6"
      ]
     },
     "execution_count": 2,
     "metadata": {},
     "output_type": "execute_result"
    }
   ],
   "source": [
    "f = lambda x, y, z: x + y + z  #可以给lambda表达式起名字\n",
    "f(1, 2, 3)  #像函数一样调用"
   ]
  },
  {
   "cell_type": "code",
   "execution_count": 113,
   "metadata": {},
   "outputs": [
    {
     "name": "stdout",
     "output_type": "stream",
     "text": [
      "6\n",
      "11\n"
     ]
    }
   ],
   "source": [
    "g = lambda x, y=2, z=3: x + y + z  #lambda函数的参数可以有默认值\n",
    "print(g(1))\n",
    "print(g(2, z=4, y=5))  #关键参数"
   ]
  },
  {
   "cell_type": "code",
   "execution_count": 114,
   "metadata": {},
   "outputs": [
    {
     "name": "stdout",
     "output_type": "stream",
     "text": [
      "4 8 16\n"
     ]
    }
   ],
   "source": [
    "L = [(lambda x: x**2), \n",
    "     (lambda x: x**3), \n",
    "     (lambda x: x**4)]  # lambda函数做列表元素\n",
    "print(L[0](2), L[1](2), L[2](2))"
   ]
  },
  {
   "cell_type": "code",
   "execution_count": 117,
   "metadata": {},
   "outputs": [
    {
     "name": "stdout",
     "output_type": "stream",
     "text": [
      "5 6 8\n"
     ]
    }
   ],
   "source": [
    "D = {\n",
    "    'f1': (lambda: 2 + 3),\n",
    "    'f2': (lambda: 2 * 3),\n",
    "    'f3': (lambda x=2: x**3)\n",
    "}  # lambda函数做字典的键\n",
    "print(D['f1'](), D['f2'](), D['f3'](3))"
   ]
  },
  {
   "cell_type": "code",
   "execution_count": 122,
   "metadata": {},
   "outputs": [
    {
     "data": {
      "text/plain": [
       "[2, 5, 0, 12, 31, 75, 69, 133]"
      ]
     },
     "execution_count": 122,
     "metadata": {},
     "output_type": "execute_result"
    }
   ],
   "source": [
    "data = [12, 31, 2, 5, 133, 0, 75, 69]\n",
    "data.sort(key=lambda x: len(str(x)))  #按转换成字符串以后的长度排序，lambda函数调用了len()函数\n",
    "data"
   ]
  },
  {
   "cell_type": "markdown",
   "metadata": {},
   "source": [
    "## 变量作用域<br>\n",
    "<font face='kaiti' size=5 style='line-height:1.5'>\n",
    "    \n",
    "&emsp;&emsp;变量起作用的代码范围称为变量的作用域，不同作用域内变量名可以相同，互不影响。在函数内部定义的普通变量只在函数内部起作用，称为局部变量。在函数外部定义的变量为全局变量。局部变量的引用比全局变量速度快，应优先考虑使用。<p>\n",
    "&emsp;&emsp;如果函数内的局部变量与函数外的全局变量具有相同的名字，那么该局部变量会在自己的作用域内隐藏同名的全局变量。<p>\n",
    "&emsp;&emsp;函数内定义的局部变量只在该函数内可见，当函数执行结束后，局部变量自动删除，不再可以使用。而在函数内使用global定义的全局变量当函数调用结束后仍然存在且可以访问。"
   ]
  },
  {
   "cell_type": "markdown",
   "metadata": {},
   "source": [
    "<font face='kaiti' size=5 style='line-height:1.5'>\n",
    "\n",
    "全局变量可以通过关键字global来定义。这分为两种情况：<br>\n",
    "1. 一个变量已在函数外定义，如果在函数内需要为这个变量赋值，并要将这个赋值结果传递到函数外，可以在函数内使用global将其声明为全局变量。\n",
    "2. 如果一个变量在函数外没有定义，在函数内部也可以直接将一个变量定义为全局变量，该函数执行后，将增加一个新的全局变量。"
   ]
  },
  {
   "cell_type": "markdown",
   "metadata": {},
   "source": [
    "<font face='kaiti' size=5 style='line-height:1.5'>例：在上述的正态分布概率密度函数的内部函数中，使用global定义的全局变量传递均值和方差。"
   ]
  },
  {
   "cell_type": "code",
   "execution_count": 11,
   "metadata": {
    "code_folding": []
   },
   "outputs": [
    {
     "name": "stdout",
     "output_type": "stream",
     "text": [
      "0.3520653267642995\n",
      "0.12951759566589174\n",
      "0.3520653267642995\n",
      "错误，可变参数\"*p\"最多包含2个参数mu和sigma!\n",
      "None\n"
     ]
    },
    {
     "ename": "TypeError",
     "evalue": "normpdf() got an unexpected keyword argument 'mu'",
     "output_type": "error",
     "traceback": [
      "\u001b[1;31m---------------------------------------------------------------------------\u001b[0m",
      "\u001b[1;31mTypeError\u001b[0m                                 Traceback (most recent call last)",
      "\u001b[1;32m<ipython-input-11-b9fe48d83423>\u001b[0m in \u001b[0;36m<module>\u001b[1;34m()\u001b[0m\n\u001b[0;32m     26\u001b[0m \u001b[0mprint\u001b[0m\u001b[1;33m(\u001b[0m\u001b[0mnormpdf\u001b[0m\u001b[1;33m(\u001b[0m\u001b[1;36m1.5\u001b[0m\u001b[1;33m,\u001b[0m \u001b[1;36m2\u001b[0m\u001b[1;33m,\u001b[0m \u001b[1;36m1.0\u001b[0m\u001b[1;33m)\u001b[0m\u001b[1;33m)\u001b[0m\u001b[1;33m\u001b[0m\u001b[0m\n\u001b[0;32m     27\u001b[0m \u001b[0mprint\u001b[0m\u001b[1;33m(\u001b[0m\u001b[0mnormpdf\u001b[0m\u001b[1;33m(\u001b[0m\u001b[1;36m1.5\u001b[0m\u001b[1;33m,\u001b[0m \u001b[1;36m2\u001b[0m\u001b[1;33m,\u001b[0m \u001b[1;36m3\u001b[0m\u001b[1;33m,\u001b[0m \u001b[1;36m1\u001b[0m\u001b[1;33m)\u001b[0m\u001b[1;33m)\u001b[0m  \u001b[1;31m# 可变参数*p包含的参数多于2个\u001b[0m\u001b[1;33m\u001b[0m\u001b[0m\n\u001b[1;32m---> 28\u001b[1;33m \u001b[0mprint\u001b[0m\u001b[1;33m(\u001b[0m\u001b[0mnormpdf\u001b[0m\u001b[1;33m(\u001b[0m\u001b[1;36m1.5\u001b[0m\u001b[1;33m,\u001b[0m \u001b[0mmu\u001b[0m\u001b[1;33m=\u001b[0m\u001b[1;36m2\u001b[0m\u001b[1;33m)\u001b[0m\u001b[1;33m)\u001b[0m  \u001b[1;31m# 不能使用关键字参数\u001b[0m\u001b[1;33m\u001b[0m\u001b[0m\n\u001b[0m",
      "\u001b[1;31mTypeError\u001b[0m: normpdf() got an unexpected keyword argument 'mu'"
     ]
    }
   ],
   "source": [
    "def normpdf(x, *p):\n",
    "    '''正态分布概率密度函数在点x处的函数值，\n",
    "    *p代表2个参数：均值mu默认取0.0，标准差sigma默认取1.0.'''\n",
    "\n",
    "    def parse(p):  # 内部函数，用于处理输入的可变参数*p\n",
    "        global args  # 全局变量，用于传递参数\n",
    "        t = len(p)\n",
    "        if t == 0:\n",
    "            args = [0.0, 1.0]\n",
    "        elif t == 1:\n",
    "            args = [p[0], 1.0]\n",
    "        else:  # 如p的长度>=2，则原样返回\n",
    "            args = p\n",
    "\n",
    "    parse(p)\n",
    "    if len(args) > 2:\n",
    "        print('错误，可变参数\"*p\"最多包含2个参数mu和sigma!')\n",
    "    else:\n",
    "        (mu, sigma) = args\n",
    "        from math import pi, e, sqrt\n",
    "        return e**(-(x - mu)**2 / 2 / sigma**2) / sqrt(2 * pi) / sigma\n",
    "\n",
    "\n",
    "print(normpdf(1.5, 2))\n",
    "print(normpdf(1.5))\n",
    "print(normpdf(1.5, 2, 1.0))\n",
    "print(normpdf(1.5, 2, 3, 1))  # 可变参数*p包含的参数多于2个\n",
    "print(normpdf(1.5, mu=2))  # 不能使用关键字参数，否则提示错误"
   ]
  },
  {
   "cell_type": "markdown",
   "metadata": {},
   "source": [
    "## 【生成器函数设计要点】<br>"
   ]
  },
  {
   "cell_type": "markdown",
   "metadata": {},
   "source": [
    "## 精彩案例\n",
    "<font face='kaiti' size=5 style='line-height:1.5'> "
   ]
  },
  {
   "cell_type": "markdown",
   "metadata": {},
   "source": [
    "<font face='kaiti' size=5 style='line-height:1.5'>\n",
    "&emsp;&emsp;仅举一例，其他案例见教材4.4节。<p>\n",
    "例：编写函数，用筛选法求不大于n的所有质数。<br>\n",
    "    \n",
    "   - 筛选法又称筛法，具体做法是：先把N个自然数按次序排列起来。1不是质数，也不是合数，要划去。第二个数2是质数留下来，而把2后面所有能被2整除的数都划去。2后面第一个没划去的数是3，把3留下，再把3后面所有能被3整除的数都划去。3后面第一个没划去的数是5，把5留下，再把5后面所有能被5整除的数都划去。这样一直做下去，就会把不超过N的全部合数都筛掉，留下的就是不超过N的全部质数。因为希腊人是把数写在涂腊的板上，每要划去一个数，就在上面记以小点，寻求质数的工作完毕后，这许多小点就像一个筛子，所以就把埃拉托斯特尼的方法叫做“埃拉托斯特尼筛”，简称“筛法”。（另一种解释是当时的数写在纸草上，每要划去一个数，就把这个数挖去，寻求质数的工作完毕后，这许多小洞就像一个筛子。）"
   ]
  },
  {
   "cell_type": "code",
   "execution_count": 21,
   "metadata": {},
   "outputs": [
    {
     "name": "stdout",
     "output_type": "stream",
     "text": [
      "[2, 3, 5, 7, 11, 13, 17, 19, 23, 29, 31, 37, 41, 43, 47, 53, 59, 61, 67, 71, 73, 79, 83, 89, 97, 101, 103, 107, 109, 113, 127, 131, 137, 139, 149, 151, 157, 163, 167, 173, 179, 181, 191, 193, 197, 199, 211, 223, 227, 229, 233, 239, 241, 251, 257, 263, 269, 271, 277, 281, 283, 293, 307, 311, 313, 317, 331, 337, 347, 349, 353, 359, 367, 373, 379, 383, 389, 397, 401, 409, 419, 421, 431, 433, 439, 443, 449, 457, 461, 463, 467, 479, 487, 491, 499, 503, 509, 521, 523, 541, 547, 557, 563, 569, 571, 577, 587, 593, 599, 601, 607, 613, 617, 619, 631, 641, 643, 647, 653, 659, 661, 673, 677, 683, 691, 701, 709, 719, 727, 733, 739, 743, 751, 757, 761, 769, 773, 787, 797, 809, 811, 821, 823, 827, 829, 839, 853, 857, 859, 863, 877, 881, 883, 887, 907, 911, 919, 929, 937, 941, 947, 953, 967, 971, 977, 983, 991, 997]\n"
     ]
    }
   ],
   "source": [
    "def allprime1(n):\n",
    "    '''筛法求质数:从前往后删除数列中的合数'''\n",
    "    if n < 2:\n",
    "        return\n",
    "    else:\n",
    "        x = list(range(2, n + 1))  # 候选质数列表\n",
    "        lens = n - 1  # x的长度\n",
    "        ind = 0  #质因子的序号\n",
    "        factor = x[ind]  # 质因子\n",
    "        import math\n",
    "        while factor <= int(math.sqrt(n)):\n",
    "            ind1 = ind + 1  # 待判断的数\n",
    "            while ind1 < lens:\n",
    "                if x[ind1] % factor == 0:\n",
    "                    x.pop(ind1)  # 删除一个合数\n",
    "                    lens -= 1  # 长度减1，且下一个待判断的数序号不变\n",
    "                else:\n",
    "                    ind1 += 1  # 待判断的数后移\n",
    "            ind += 1  # 下一个质因子的位置\n",
    "            factor = x[ind]  # 下一个质因子\n",
    "        return x\n",
    "\n",
    "\n",
    "x = allprime1(1000)\n",
    "print(x)"
   ]
  },
  {
   "cell_type": "code",
   "execution_count": 34,
   "metadata": {},
   "outputs": [
    {
     "name": "stdout",
     "output_type": "stream",
     "text": [
      "[2, 3, 5, 7, 11, 13, 17, 19, 23, 29, 31, 37, 41, 43, 47, 53, 59, 61, 67, 71, 73, 79, 83, 89, 97, 101, 103, 107, 109, 113, 127, 131, 137, 139, 149, 151, 157, 163, 167, 173, 179, 181, 191, 193, 197, 199, 211, 223, 227, 229, 233, 239, 241, 251, 257, 263, 269, 271, 277, 281, 283, 293, 307, 311, 313, 317, 331, 337, 347, 349, 353, 359, 367, 373, 379, 383, 389, 397, 401, 409, 419, 421, 431, 433, 439, 443, 449, 457, 461, 463, 467, 479, 487, 491, 499, 503, 509, 521, 523, 541, 547, 557, 563, 569, 571, 577, 587, 593, 599, 601, 607, 613, 617, 619, 631, 641, 643, 647, 653, 659, 661, 673, 677, 683, 691, 701, 709, 719, 727, 733, 739, 743, 751, 757, 761, 769, 773, 787, 797, 809, 811, 821, 823, 827, 829, 839, 853, 857, 859, 863, 877, 881, 883, 887, 907, 911, 919, 929, 937, 941, 947, 953, 967, 971, 977, 983, 991, 997]\n"
     ]
    }
   ],
   "source": [
    "def allprime2(n):\n",
    "    '''筛法求质数：将序列中的合数变为0，再用filter过滤'''\n",
    "    if n < 2:\n",
    "        return  # 返回None\n",
    "    else:\n",
    "        x = list(range(n + 1))  # 整数列表，从0开始，序号与数值相同，便于筛选\n",
    "        lens = n + 1  #列表长度\n",
    "        x[1] = 0  # 0和1不是质数\n",
    "        import math\n",
    "        ind = 2  # 质因子的位置\n",
    "        while ind <= int(math.sqrt(n)):\n",
    "            k = ind * 2  # 所有质因子位置的倍数位置都是合数\n",
    "            while k < lens:\n",
    "                x[k] = 0  # 合数置为0\n",
    "                k += ind  # 下一个倍数位置\n",
    "            ind += 1\n",
    "            while x[ind] == 0:  # 找下一个质因子位置\n",
    "                ind += 1\n",
    "        return list(filter(None, x))  # 找出所有非0的数\n",
    "\n",
    "\n",
    "y = allprime2(1000)\n",
    "print(y)"
   ]
  },
  {
   "cell_type": "markdown",
   "metadata": {},
   "source": [
    "## 小结<br>\n",
    "<font face='kaiti' size=5 style='line-height:1.5'>\n",
    "    \n",
    "1. 把需要重复使用的代码封装成函数或类，可提高代码的可读性以及编程效率；\n",
    "2. Python定义函数时不需要指定参数类型；返回值类型由return语句返回的值决定；\n",
    "3. 函数的参数按其定义和调用时的不同形式，可分为普通位置参数、默认值参数、关键字参数和可变长度参数；\n",
    "4. lambda表达式用于快速定义简单的函数；\n",
    "5. 在定义函数和调用函数时，要注意参数的作用范围，区分局部变量和全局变量。"
   ]
  },
  {
   "cell_type": "markdown",
   "metadata": {},
   "source": [
    "## 课后练习<br>\n",
    "<font face='kaiti' size=5>\n",
    "\n",
    "教材P127. 完成所有习题."
   ]
  },
  {
   "cell_type": "code",
   "execution_count": null,
   "metadata": {},
   "outputs": [],
   "source": []
  }
 ],
 "metadata": {
  "kernelspec": {
   "display_name": "Python 3",
   "language": "python",
   "name": "python3"
  },
  "language_info": {
   "codemirror_mode": {
    "name": "ipython",
    "version": 3
   },
   "file_extension": ".py",
   "mimetype": "text/x-python",
   "name": "python",
   "nbconvert_exporter": "python",
   "pygments_lexer": "ipython3",
   "version": "3.7.3"
  },
  "latex_envs": {
   "LaTeX_envs_menu_present": true,
   "autoclose": false,
   "autocomplete": true,
   "bibliofile": "biblio.bib",
   "cite_by": "apalike",
   "current_citInitial": 1,
   "eqLabelWithNumbers": true,
   "eqNumInitial": 1,
   "hotkeys": {
    "equation": "Ctrl-E",
    "itemize": "Ctrl-I"
   },
   "labels_anchors": false,
   "latex_user_defs": false,
   "report_style_numbering": false,
   "user_envs_cfg": false
  },
  "toc": {
   "base_numbering": "5",
   "nav_menu": {},
   "number_sections": true,
   "sideBar": true,
   "skip_h1_title": false,
   "title_cell": "Table of Contents",
   "title_sidebar": "Contents",
   "toc_cell": true,
   "toc_position": {},
   "toc_section_display": true,
   "toc_window_display": false
  }
 },
 "nbformat": 4,
 "nbformat_minor": 2
}
