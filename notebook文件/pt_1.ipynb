{
 "cells": [
  {
   "cell_type": "code",
   "execution_count": 37,
   "metadata": {
    "scrolled": false
   },
   "outputs": [
    {
     "data": {
      "text/plain": [
       "381"
      ]
     },
     "execution_count": 37,
     "metadata": {},
     "output_type": "execute_result"
    }
   ],
   "source": [
    "import pandas as pd\n",
    "import os\n",
    "os.chdir(r\"D:\\qqdownload\\知识产权微博（北京山东上海）\")\n",
    "province=[\"北京\",\"山东\",\"上海\"]\n",
    "x=pd.read_excel(province[2]+\"知识产权微博.xlsx\")\n",
    "x.head()\n",
    "len(x)"
   ]
  },
  {
   "cell_type": "code",
   "execution_count": 38,
   "metadata": {},
   "outputs": [
    {
     "data": {
      "text/plain": [
       "0.26095890410958905"
      ]
     },
     "execution_count": 38,
     "metadata": {},
     "output_type": "execute_result"
    }
   ],
   "source": [
    "x_1=len(x)/(4*365)\n",
    "x_1"
   ]
  },
  {
   "cell_type": "code",
   "execution_count": 39,
   "metadata": {},
   "outputs": [
    {
     "name": "stdout",
     "output_type": "stream",
     "text": [
      "0.11548556430446194\n",
      "0.25984251968503935\n",
      "1.236220472440945\n"
     ]
    },
    {
     "data": {
      "text/plain": [
       "1.6115485564304461"
      ]
     },
     "execution_count": 39,
     "metadata": {},
     "output_type": "execute_result"
    }
   ],
   "source": [
    "thumb_up=[]\n",
    "for i in x[\"点赞数\"]:\n",
    "    thumb_up.append(i)\n",
    "print(sum(thumb_up)/len(x))\n",
    "comment=[]\n",
    "for i in x[\"评论数\"]:\n",
    "    comment.append(i)\n",
    "print(sum(comment)/len(x))\n",
    "forward=[]\n",
    "for i in x[\"转发数\"]:\n",
    "    forward.append(i)\n",
    "print(sum(forward)/len(x))\n",
    "all=(sum(forward)+sum(thumb_up)+sum(comment))/len(x)\n",
    "all"
   ]
  },
  {
   "cell_type": "code",
   "execution_count": 10,
   "metadata": {},
   "outputs": [
    {
     "data": {
      "text/plain": [
       "7"
      ]
     },
     "execution_count": 10,
     "metadata": {},
     "output_type": "execute_result"
    }
   ],
   "source": [
    "import os\n",
    "path=\"D:\\qqdownload\\南方日报\\南方日报\"\n",
    "os.chdir(r\"D:\\qqdownload\\南方日报\\南方日报\")\n",
    "files=os.listdir(path)\n",
    "for file in files:\n",
    "    newfile=file+(\".txt\")\n",
    "    os.rename(file,newfile)\n",
    "count=0\n",
    "word=\"知识产权\"\n",
    "for file in files:\n",
    "    with open(file+\".txt\",encoding=\"utf-8\") as f:\n",
    "        for line in f:\n",
    "            if word in line:\n",
    "                count+=1\n",
    "            else:\n",
    "                continue\n",
    "count"
   ]
  },
  {
   "cell_type": "code",
   "execution_count": 1,
   "metadata": {},
   "outputs": [],
   "source": [
    "import numpy as np\n",
    "guangdong=np.array([2.909284627092846,5.031076697708486,0.02,0.068,610,0.7688])\n",
    "jiangsu=np.array([0.4986301369863014,7.34065934065934,0.02,0.067,421,0.7688])\n",
    "zhejiang=np.array([0.4289193302891933,2.9544357700496807,0.02,0.071,453,0.7688])\n",
    "beijing=np.array([3.011986301369863,2.220389122767095,0.03,0.066,342,0.7688])\n",
    "ShanDong=np.array([1.332876712328767,3.424049331963001,0.02,0.064,208,0.7688])\n",
    "ShangHai=np.array([0.26095890410958905,1.6115485564304461,0.03,0.066,302,0.7688])"
   ]
  },
  {
   "cell_type": "code",
   "execution_count": 12,
   "metadata": {},
   "outputs": [],
   "source": [
    "y=pd.DataFrame([4112877,3863680,2967948,1782456,1609781,1290627])"
   ]
  },
  {
   "cell_type": "code",
   "execution_count": 3,
   "metadata": {},
   "outputs": [],
   "source": [
    "x=np.array([guangdong,jiangsu,zhejiang,beijing,ShanDong,ShangHai])"
   ]
  },
  {
   "cell_type": "code",
   "execution_count": 11,
   "metadata": {},
   "outputs": [
    {
     "data": {
      "text/html": [
       "<div>\n",
       "<style scoped>\n",
       "    .dataframe tbody tr th:only-of-type {\n",
       "        vertical-align: middle;\n",
       "    }\n",
       "\n",
       "    .dataframe tbody tr th {\n",
       "        vertical-align: top;\n",
       "    }\n",
       "\n",
       "    .dataframe thead th {\n",
       "        text-align: right;\n",
       "    }\n",
       "</style>\n",
       "<table border=\"1\" class=\"dataframe\">\n",
       "  <thead>\n",
       "    <tr style=\"text-align: right;\">\n",
       "      <th></th>\n",
       "      <th>0</th>\n",
       "      <th>1</th>\n",
       "      <th>2</th>\n",
       "      <th>3</th>\n",
       "      <th>4</th>\n",
       "      <th>5</th>\n",
       "    </tr>\n",
       "  </thead>\n",
       "  <tbody>\n",
       "    <tr>\n",
       "      <th>0</th>\n",
       "      <td>2.909285</td>\n",
       "      <td>5.031077</td>\n",
       "      <td>0.02</td>\n",
       "      <td>0.068</td>\n",
       "      <td>610.0</td>\n",
       "      <td>0.7688</td>\n",
       "    </tr>\n",
       "    <tr>\n",
       "      <th>1</th>\n",
       "      <td>0.498630</td>\n",
       "      <td>7.340659</td>\n",
       "      <td>0.02</td>\n",
       "      <td>0.067</td>\n",
       "      <td>421.0</td>\n",
       "      <td>0.7688</td>\n",
       "    </tr>\n",
       "    <tr>\n",
       "      <th>2</th>\n",
       "      <td>0.428919</td>\n",
       "      <td>2.954436</td>\n",
       "      <td>0.02</td>\n",
       "      <td>0.071</td>\n",
       "      <td>453.0</td>\n",
       "      <td>0.7688</td>\n",
       "    </tr>\n",
       "    <tr>\n",
       "      <th>3</th>\n",
       "      <td>3.011986</td>\n",
       "      <td>2.220389</td>\n",
       "      <td>0.03</td>\n",
       "      <td>0.066</td>\n",
       "      <td>342.0</td>\n",
       "      <td>0.7688</td>\n",
       "    </tr>\n",
       "    <tr>\n",
       "      <th>4</th>\n",
       "      <td>1.332877</td>\n",
       "      <td>3.424049</td>\n",
       "      <td>0.02</td>\n",
       "      <td>0.064</td>\n",
       "      <td>208.0</td>\n",
       "      <td>0.7688</td>\n",
       "    </tr>\n",
       "    <tr>\n",
       "      <th>5</th>\n",
       "      <td>0.260959</td>\n",
       "      <td>1.611549</td>\n",
       "      <td>0.03</td>\n",
       "      <td>0.066</td>\n",
       "      <td>302.0</td>\n",
       "      <td>0.7688</td>\n",
       "    </tr>\n",
       "  </tbody>\n",
       "</table>\n",
       "</div>"
      ],
      "text/plain": [
       "          0         1     2      3      4       5\n",
       "0  2.909285  5.031077  0.02  0.068  610.0  0.7688\n",
       "1  0.498630  7.340659  0.02  0.067  421.0  0.7688\n",
       "2  0.428919  2.954436  0.02  0.071  453.0  0.7688\n",
       "3  3.011986  2.220389  0.03  0.066  342.0  0.7688\n",
       "4  1.332877  3.424049  0.02  0.064  208.0  0.7688\n",
       "5  0.260959  1.611549  0.03  0.066  302.0  0.7688"
      ]
     },
     "execution_count": 11,
     "metadata": {},
     "output_type": "execute_result"
    }
   ],
   "source": [
    "import pandas as pd\n",
    "df=pd.DataFrame(x)\n"
   ]
  },
  {
   "cell_type": "code",
   "execution_count": 15,
   "metadata": {},
   "outputs": [
    {
     "name": "stdout",
     "output_type": "stream",
     "text": [
      "最佳拟合线:截距 [172973.39745542] ,回归系数： [[55954.3587443  43486.46647186     0.          -136.78408914\n",
      "   5833.34754101     0.        ]]\n"
     ]
    }
   ],
   "source": [
    "from sklearn.model_selection import train_test_split\n",
    "from sklearn.linear_model import LinearRegression\n",
    "X_train,X_test,Y_train,Y_test = train_test_split(df,y,train_size=3)\n",
    "model = LinearRegression()\n",
    "model.fit(X_train,Y_train)\n",
    "a  = model.intercept_#截距\n",
    "b = model.coef_#回归系数\n",
    "print(\"最佳拟合线:截距\",a,\",回归系数：\",b)"
   ]
  },
  {
   "cell_type": "code",
   "execution_count": 21,
   "metadata": {},
   "outputs": [
    {
     "name": "stdout",
     "output_type": "stream",
     "text": [
      "55954.35874430107\n",
      "43486.46647186391\n",
      "0.0\n",
      "-136.78408913541787\n",
      "5833.347541011028\n",
      "0.0\n"
     ]
    }
   ],
   "source": [
    "for i in b[0]:\n",
    "    print(i)"
   ]
  },
  {
   "cell_type": "code",
   "execution_count": null,
   "metadata": {},
   "outputs": [],
   "source": []
  }
 ],
 "metadata": {
  "kernelspec": {
   "display_name": "Python 3",
   "language": "python",
   "name": "python3"
  },
  "language_info": {
   "codemirror_mode": {
    "name": "ipython",
    "version": 3
   },
   "file_extension": ".py",
   "mimetype": "text/x-python",
   "name": "python",
   "nbconvert_exporter": "python",
   "pygments_lexer": "ipython3",
   "version": "3.7.3"
  }
 },
 "nbformat": 4,
 "nbformat_minor": 2
}
